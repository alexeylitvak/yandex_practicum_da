{
 "cells": [
  {
   "cell_type": "markdown",
   "id": "88c023b6",
   "metadata": {},
   "source": [
    "# Создание дашборда для Яндекс.Дзен\n",
    "\n",
    "Для создания дашборда в Tableau с анализом пользовательского взаимодействия с карточками статей Яндекс.Дзен требуется подключиться к базе данных и выгрузить агрегированную таблицу `dash_visits`."
   ]
  },
  {
   "cell_type": "code",
   "execution_count": 1,
   "id": "220df4c2",
   "metadata": {
    "scrolled": true
   },
   "outputs": [],
   "source": [
    "# Импортируем библиотеки\n",
    "import pandas as pd\n",
    "from sqlalchemy import create_engine\n",
    "\n",
    "# Задаем параметры подключения к базе данных\n",
    "db_config = {'user': ' ', # имя пользователя\n",
    "            'pwd': ' ', # пароль\n",
    "            'host': ' ',\n",
    "            'port': , # порт подключения\n",
    "            'db': ' '} # название базы данных\n",
    "\n",
    "# Формируем строку соединения с базой данных\n",
    "connection_string = 'postgresql://{}:{}@{}:{}/{}'.format(db_config['user'],\n",
    "                                                db_config['pwd'],\n",
    "                                                db_config['host'],\n",
    "                                                db_config['port'],\n",
    "                                                db_config['db'])\n",
    "# Подключаемся к базе данных\n",
    "engine = create_engine(connection_string)\n",
    "\n",
    "# Формируем SQL-запрос\n",
    "query = '''\n",
    "        SELECT *\n",
    "        FROM dash_visits\n",
    "        '''\n",
    "\n",
    "# Выполняем запрос и сохраняем результат в датафрейм\n",
    "dash_visits = pd.io.sql.read_sql(query, con=engine)\n",
    "\n",
    "# Сохраняем датафрейм в CSV\n",
    "dash_visits.to_csv('dash_visits.csv', index=False)"
   ]
  }
 ],
 "metadata": {
  "kernelspec": {
   "display_name": "Python 3 (ipykernel)",
   "language": "python",
   "name": "python3"
  },
  "language_info": {
   "codemirror_mode": {
    "name": "ipython",
    "version": 3
   },
   "file_extension": ".py",
   "mimetype": "text/x-python",
   "name": "python",
   "nbconvert_exporter": "python",
   "pygments_lexer": "ipython3",
   "version": "3.9.7"
  },
  "toc": {
   "base_numbering": 1,
   "nav_menu": {
    "height": "145px",
    "width": "523px"
   },
   "number_sections": true,
   "sideBar": true,
   "skip_h1_title": false,
   "title_cell": "Table of Contents",
   "title_sidebar": "Contents",
   "toc_cell": false,
   "toc_position": {
    "height": "calc(100% - 180px)",
    "left": "10px",
    "top": "150px",
    "width": "320.594px"
   },
   "toc_section_display": true,
   "toc_window_display": false
  }
 },
 "nbformat": 4,
 "nbformat_minor": 5
}
