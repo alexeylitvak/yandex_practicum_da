{
 "cells": [
  {
   "cell_type": "markdown",
   "id": "21a8e680",
   "metadata": {},
   "source": [
    "# Анализ базы данных сервиса для чтения книг по подписке\n",
    "\n",
    "Аналитик компании, купившей крупный сервис для чтения книг по подписке, получил задачу проанализировать базу данных. В базе содержится информация о книгах, издательствах, авторах, а также пользовательские обзоры книг. Анализ данных поможет сформулировать ценностное предложение для нового продукта.\n",
    "\n",
    "**Задача исследования**\n",
    "\n",
    "Проанализировать базу данных сервиса для чтения книг по подписке.\n",
    "\n",
    "**Ход исследования**\n",
    "\n",
    "База данных содержит 5 таблиц:\n",
    "\n",
    "* *books* — данные о книгах;\n",
    "* *authors* — данные об авторах;\n",
    "* *publishers* — данные об издательствах;\n",
    "* *ratings* — данные о пользовательских оценках книг;\n",
    "* *reviews* — данные о пользовательских обзорах на книги.\n",
    "\n",
    "Для начала исследуем все таблицы, выведем первые строки.\n",
    "\n",
    "Затем, в рамках исследования, решим задачи:\n",
    "\n",
    "* Посчитаем, сколько книг вышло после 1 января 2000 года.\n",
    "* Для каждой книги посчитаем количество обзоров и среднюю оценку.\n",
    "* Определим издательство, которое выпустило наибольшее число книг толще 50 страниц.\n",
    "* Определим автора с самой высокой средней оценкой книг, имеющих от 50 оценок.\n",
    "* Посчитаем среднее количество обзоров от пользователей, которые поставили больше 50 оценок."
   ]
  },
  {
   "cell_type": "code",
   "execution_count": 1,
   "id": "e58a940d",
   "metadata": {},
   "outputs": [],
   "source": [
    "# Импортируем библиотеки\n",
    "import pandas as pd\n",
    "from sqlalchemy import create_engine"
   ]
  },
  {
   "cell_type": "code",
   "execution_count": 2,
   "id": "4e0cec2e",
   "metadata": {},
   "outputs": [],
   "source": [
    "# Задаем параметры подключения к базе данных\n",
    "db_config = {\n",
    "    'user': ' ', # имя пользователя\n",
    "    'pwd': ' ', # пароль\n",
    "    'host': ' ',\n",
    "    'port': , # порт подключения\n",
    "    'db': ' ' # название базы данных\n",
    "}\n",
    "\n",
    "# Формируем строку соединения с базой данных\n",
    "connection_string = 'postgresql://{}:{}@{}:{}/{}'.format(\n",
    "    db_config['user'],\n",
    "    db_config['pwd'],\n",
    "    db_config['host'],\n",
    "    db_config['port'],\n",
    "    db_config['db']\n",
    ")\n",
    "\n",
    "# Сохраняем коннектор\n",
    "engine = create_engine(\n",
    "    connection_string,\n",
    "    connect_args={'sslmode':'require'}\n",
    ")"
   ]
  },
  {
   "cell_type": "markdown",
   "id": "689dcf7e",
   "metadata": {},
   "source": [
    "## Исследование таблиц\n",
    "Выведем первые 5 строк каждой таблицы в базе данных."
   ]
  },
  {
   "cell_type": "code",
   "execution_count": 3,
   "id": "840b0087",
   "metadata": {},
   "outputs": [
    {
     "data": {
      "text/html": [
       "<div>\n",
       "<style scoped>\n",
       "    .dataframe tbody tr th:only-of-type {\n",
       "        vertical-align: middle;\n",
       "    }\n",
       "\n",
       "    .dataframe tbody tr th {\n",
       "        vertical-align: top;\n",
       "    }\n",
       "\n",
       "    .dataframe thead th {\n",
       "        text-align: right;\n",
       "    }\n",
       "</style>\n",
       "<table border=\"1\" class=\"dataframe\">\n",
       "  <thead>\n",
       "    <tr style=\"text-align: right;\">\n",
       "      <th></th>\n",
       "      <th>book_id</th>\n",
       "      <th>author_id</th>\n",
       "      <th>title</th>\n",
       "      <th>num_pages</th>\n",
       "      <th>publication_date</th>\n",
       "      <th>publisher_id</th>\n",
       "    </tr>\n",
       "  </thead>\n",
       "  <tbody>\n",
       "    <tr>\n",
       "      <th>0</th>\n",
       "      <td>1</td>\n",
       "      <td>546</td>\n",
       "      <td>'Salem's Lot</td>\n",
       "      <td>594</td>\n",
       "      <td>2005-11-01</td>\n",
       "      <td>93</td>\n",
       "    </tr>\n",
       "    <tr>\n",
       "      <th>1</th>\n",
       "      <td>2</td>\n",
       "      <td>465</td>\n",
       "      <td>1 000 Places to See Before You Die</td>\n",
       "      <td>992</td>\n",
       "      <td>2003-05-22</td>\n",
       "      <td>336</td>\n",
       "    </tr>\n",
       "    <tr>\n",
       "      <th>2</th>\n",
       "      <td>3</td>\n",
       "      <td>407</td>\n",
       "      <td>13 Little Blue Envelopes (Little Blue Envelope...</td>\n",
       "      <td>322</td>\n",
       "      <td>2010-12-21</td>\n",
       "      <td>135</td>\n",
       "    </tr>\n",
       "    <tr>\n",
       "      <th>3</th>\n",
       "      <td>4</td>\n",
       "      <td>82</td>\n",
       "      <td>1491: New Revelations of the Americas Before C...</td>\n",
       "      <td>541</td>\n",
       "      <td>2006-10-10</td>\n",
       "      <td>309</td>\n",
       "    </tr>\n",
       "    <tr>\n",
       "      <th>4</th>\n",
       "      <td>5</td>\n",
       "      <td>125</td>\n",
       "      <td>1776</td>\n",
       "      <td>386</td>\n",
       "      <td>2006-07-04</td>\n",
       "      <td>268</td>\n",
       "    </tr>\n",
       "  </tbody>\n",
       "</table>\n",
       "</div>"
      ],
      "text/plain": [
       "   book_id  author_id                                              title  \\\n",
       "0        1        546                                       'Salem's Lot   \n",
       "1        2        465                 1 000 Places to See Before You Die   \n",
       "2        3        407  13 Little Blue Envelopes (Little Blue Envelope...   \n",
       "3        4         82  1491: New Revelations of the Americas Before C...   \n",
       "4        5        125                                               1776   \n",
       "\n",
       "   num_pages publication_date  publisher_id  \n",
       "0        594       2005-11-01            93  \n",
       "1        992       2003-05-22           336  \n",
       "2        322       2010-12-21           135  \n",
       "3        541       2006-10-10           309  \n",
       "4        386       2006-07-04           268  "
      ]
     },
     "execution_count": 3,
     "metadata": {},
     "output_type": "execute_result"
    }
   ],
   "source": [
    "# Первые 5 строк таблицы books\n",
    "query = '''\n",
    "        SELECT *\n",
    "        FROM books\n",
    "        LIMIT 5;\n",
    "        '''\n",
    "\n",
    "pd.io.sql.read_sql(query, con=engine)"
   ]
  },
  {
   "cell_type": "markdown",
   "id": "b3fd1efc",
   "metadata": {},
   "source": [
    "Таблица *books* содержит данные о книгах. Согласно документации к данным:\n",
    "\n",
    "* *book_id* — идентификатор книги;\n",
    "* *author_id* — идентификатор автора;\n",
    "* *title* — название книги;\n",
    "* *num_pages* — количество страниц;\n",
    "* *publication_date* — дата публикации книги;\n",
    "* *publisher_id* — идентификатор издателя."
   ]
  },
  {
   "cell_type": "code",
   "execution_count": 4,
   "id": "ed8d4e4a",
   "metadata": {},
   "outputs": [
    {
     "data": {
      "text/html": [
       "<div>\n",
       "<style scoped>\n",
       "    .dataframe tbody tr th:only-of-type {\n",
       "        vertical-align: middle;\n",
       "    }\n",
       "\n",
       "    .dataframe tbody tr th {\n",
       "        vertical-align: top;\n",
       "    }\n",
       "\n",
       "    .dataframe thead th {\n",
       "        text-align: right;\n",
       "    }\n",
       "</style>\n",
       "<table border=\"1\" class=\"dataframe\">\n",
       "  <thead>\n",
       "    <tr style=\"text-align: right;\">\n",
       "      <th></th>\n",
       "      <th>author_id</th>\n",
       "      <th>author</th>\n",
       "    </tr>\n",
       "  </thead>\n",
       "  <tbody>\n",
       "    <tr>\n",
       "      <th>0</th>\n",
       "      <td>1</td>\n",
       "      <td>A.S. Byatt</td>\n",
       "    </tr>\n",
       "    <tr>\n",
       "      <th>1</th>\n",
       "      <td>2</td>\n",
       "      <td>Aesop/Laura Harris/Laura Gibbs</td>\n",
       "    </tr>\n",
       "    <tr>\n",
       "      <th>2</th>\n",
       "      <td>3</td>\n",
       "      <td>Agatha Christie</td>\n",
       "    </tr>\n",
       "    <tr>\n",
       "      <th>3</th>\n",
       "      <td>4</td>\n",
       "      <td>Alan Brennert</td>\n",
       "    </tr>\n",
       "    <tr>\n",
       "      <th>4</th>\n",
       "      <td>5</td>\n",
       "      <td>Alan Moore/David   Lloyd</td>\n",
       "    </tr>\n",
       "  </tbody>\n",
       "</table>\n",
       "</div>"
      ],
      "text/plain": [
       "   author_id                          author\n",
       "0          1                      A.S. Byatt\n",
       "1          2  Aesop/Laura Harris/Laura Gibbs\n",
       "2          3                 Agatha Christie\n",
       "3          4                   Alan Brennert\n",
       "4          5        Alan Moore/David   Lloyd"
      ]
     },
     "execution_count": 4,
     "metadata": {},
     "output_type": "execute_result"
    }
   ],
   "source": [
    "# Первые 5 строк таблицы authors\n",
    "query = '''\n",
    "        SELECT *\n",
    "        FROM authors\n",
    "        LIMIT 5;\n",
    "        '''\n",
    "\n",
    "pd.io.sql.read_sql(query, con=engine)"
   ]
  },
  {
   "cell_type": "markdown",
   "id": "f73d32a3",
   "metadata": {},
   "source": [
    "Таблица *authors* содержит данные об авторах. Согласно документации к данным:\n",
    "\n",
    "* *author_id* — идентификатор автора;\n",
    "* *author* — имя автора."
   ]
  },
  {
   "cell_type": "code",
   "execution_count": 5,
   "id": "e7539e65",
   "metadata": {},
   "outputs": [
    {
     "data": {
      "text/html": [
       "<div>\n",
       "<style scoped>\n",
       "    .dataframe tbody tr th:only-of-type {\n",
       "        vertical-align: middle;\n",
       "    }\n",
       "\n",
       "    .dataframe tbody tr th {\n",
       "        vertical-align: top;\n",
       "    }\n",
       "\n",
       "    .dataframe thead th {\n",
       "        text-align: right;\n",
       "    }\n",
       "</style>\n",
       "<table border=\"1\" class=\"dataframe\">\n",
       "  <thead>\n",
       "    <tr style=\"text-align: right;\">\n",
       "      <th></th>\n",
       "      <th>publisher_id</th>\n",
       "      <th>publisher</th>\n",
       "    </tr>\n",
       "  </thead>\n",
       "  <tbody>\n",
       "    <tr>\n",
       "      <th>0</th>\n",
       "      <td>1</td>\n",
       "      <td>Ace</td>\n",
       "    </tr>\n",
       "    <tr>\n",
       "      <th>1</th>\n",
       "      <td>2</td>\n",
       "      <td>Ace Book</td>\n",
       "    </tr>\n",
       "    <tr>\n",
       "      <th>2</th>\n",
       "      <td>3</td>\n",
       "      <td>Ace Books</td>\n",
       "    </tr>\n",
       "    <tr>\n",
       "      <th>3</th>\n",
       "      <td>4</td>\n",
       "      <td>Ace Hardcover</td>\n",
       "    </tr>\n",
       "    <tr>\n",
       "      <th>4</th>\n",
       "      <td>5</td>\n",
       "      <td>Addison Wesley Publishing Company</td>\n",
       "    </tr>\n",
       "  </tbody>\n",
       "</table>\n",
       "</div>"
      ],
      "text/plain": [
       "   publisher_id                          publisher\n",
       "0             1                                Ace\n",
       "1             2                           Ace Book\n",
       "2             3                          Ace Books\n",
       "3             4                      Ace Hardcover\n",
       "4             5  Addison Wesley Publishing Company"
      ]
     },
     "execution_count": 5,
     "metadata": {},
     "output_type": "execute_result"
    }
   ],
   "source": [
    "# Первые 5 строк таблицы publishers\n",
    "query = '''\n",
    "        SELECT *\n",
    "        FROM publishers\n",
    "        LIMIT 5;\n",
    "        '''\n",
    "\n",
    "pd.io.sql.read_sql(query, con=engine)"
   ]
  },
  {
   "cell_type": "markdown",
   "id": "421ab888",
   "metadata": {},
   "source": [
    "Таблица *publishers* содержит данные об издательствах .Согласно документации к данным:\n",
    "\n",
    "* *publisher_id* — идентификатор издательства;\n",
    "* *publisher* — название издательства."
   ]
  },
  {
   "cell_type": "code",
   "execution_count": 6,
   "id": "d2643a97",
   "metadata": {},
   "outputs": [
    {
     "data": {
      "text/html": [
       "<div>\n",
       "<style scoped>\n",
       "    .dataframe tbody tr th:only-of-type {\n",
       "        vertical-align: middle;\n",
       "    }\n",
       "\n",
       "    .dataframe tbody tr th {\n",
       "        vertical-align: top;\n",
       "    }\n",
       "\n",
       "    .dataframe thead th {\n",
       "        text-align: right;\n",
       "    }\n",
       "</style>\n",
       "<table border=\"1\" class=\"dataframe\">\n",
       "  <thead>\n",
       "    <tr style=\"text-align: right;\">\n",
       "      <th></th>\n",
       "      <th>rating_id</th>\n",
       "      <th>book_id</th>\n",
       "      <th>username</th>\n",
       "      <th>rating</th>\n",
       "    </tr>\n",
       "  </thead>\n",
       "  <tbody>\n",
       "    <tr>\n",
       "      <th>0</th>\n",
       "      <td>1</td>\n",
       "      <td>1</td>\n",
       "      <td>ryanfranco</td>\n",
       "      <td>4</td>\n",
       "    </tr>\n",
       "    <tr>\n",
       "      <th>1</th>\n",
       "      <td>2</td>\n",
       "      <td>1</td>\n",
       "      <td>grantpatricia</td>\n",
       "      <td>2</td>\n",
       "    </tr>\n",
       "    <tr>\n",
       "      <th>2</th>\n",
       "      <td>3</td>\n",
       "      <td>1</td>\n",
       "      <td>brandtandrea</td>\n",
       "      <td>5</td>\n",
       "    </tr>\n",
       "    <tr>\n",
       "      <th>3</th>\n",
       "      <td>4</td>\n",
       "      <td>2</td>\n",
       "      <td>lorichen</td>\n",
       "      <td>3</td>\n",
       "    </tr>\n",
       "    <tr>\n",
       "      <th>4</th>\n",
       "      <td>5</td>\n",
       "      <td>2</td>\n",
       "      <td>mariokeller</td>\n",
       "      <td>2</td>\n",
       "    </tr>\n",
       "  </tbody>\n",
       "</table>\n",
       "</div>"
      ],
      "text/plain": [
       "   rating_id  book_id       username  rating\n",
       "0          1        1     ryanfranco       4\n",
       "1          2        1  grantpatricia       2\n",
       "2          3        1   brandtandrea       5\n",
       "3          4        2       lorichen       3\n",
       "4          5        2    mariokeller       2"
      ]
     },
     "execution_count": 6,
     "metadata": {},
     "output_type": "execute_result"
    }
   ],
   "source": [
    "# Первые 5 строк таблицы ratings\n",
    "query = '''\n",
    "        SELECT *\n",
    "        FROM ratings\n",
    "        LIMIT 5;\n",
    "        '''\n",
    "\n",
    "pd.io.sql.read_sql(query, con=engine)"
   ]
  },
  {
   "cell_type": "markdown",
   "id": "00d022c0",
   "metadata": {},
   "source": [
    "Таблица *ratings* содержит данные о пользовательских оценках книг. Согласно документации к данным:\n",
    "\n",
    "* *rating_id* — идентификатор оценки;\n",
    "* *book_id* — идентификатор книги;\n",
    "* username* — имя пользователя, оставившего оценку;\n",
    "* *rating* — оценка книги."
   ]
  },
  {
   "cell_type": "code",
   "execution_count": 7,
   "id": "cb808c72",
   "metadata": {},
   "outputs": [
    {
     "data": {
      "text/html": [
       "<div>\n",
       "<style scoped>\n",
       "    .dataframe tbody tr th:only-of-type {\n",
       "        vertical-align: middle;\n",
       "    }\n",
       "\n",
       "    .dataframe tbody tr th {\n",
       "        vertical-align: top;\n",
       "    }\n",
       "\n",
       "    .dataframe thead th {\n",
       "        text-align: right;\n",
       "    }\n",
       "</style>\n",
       "<table border=\"1\" class=\"dataframe\">\n",
       "  <thead>\n",
       "    <tr style=\"text-align: right;\">\n",
       "      <th></th>\n",
       "      <th>review_id</th>\n",
       "      <th>book_id</th>\n",
       "      <th>username</th>\n",
       "      <th>text</th>\n",
       "    </tr>\n",
       "  </thead>\n",
       "  <tbody>\n",
       "    <tr>\n",
       "      <th>0</th>\n",
       "      <td>1</td>\n",
       "      <td>1</td>\n",
       "      <td>brandtandrea</td>\n",
       "      <td>Mention society tell send professor analysis. ...</td>\n",
       "    </tr>\n",
       "    <tr>\n",
       "      <th>1</th>\n",
       "      <td>2</td>\n",
       "      <td>1</td>\n",
       "      <td>ryanfranco</td>\n",
       "      <td>Foot glass pretty audience hit themselves. Amo...</td>\n",
       "    </tr>\n",
       "    <tr>\n",
       "      <th>2</th>\n",
       "      <td>3</td>\n",
       "      <td>2</td>\n",
       "      <td>lorichen</td>\n",
       "      <td>Listen treat keep worry. Miss husband tax but ...</td>\n",
       "    </tr>\n",
       "    <tr>\n",
       "      <th>3</th>\n",
       "      <td>4</td>\n",
       "      <td>3</td>\n",
       "      <td>johnsonamanda</td>\n",
       "      <td>Finally month interesting blue could nature cu...</td>\n",
       "    </tr>\n",
       "    <tr>\n",
       "      <th>4</th>\n",
       "      <td>5</td>\n",
       "      <td>3</td>\n",
       "      <td>scotttamara</td>\n",
       "      <td>Nation purpose heavy give wait song will. List...</td>\n",
       "    </tr>\n",
       "  </tbody>\n",
       "</table>\n",
       "</div>"
      ],
      "text/plain": [
       "   review_id  book_id       username  \\\n",
       "0          1        1   brandtandrea   \n",
       "1          2        1     ryanfranco   \n",
       "2          3        2       lorichen   \n",
       "3          4        3  johnsonamanda   \n",
       "4          5        3    scotttamara   \n",
       "\n",
       "                                                text  \n",
       "0  Mention society tell send professor analysis. ...  \n",
       "1  Foot glass pretty audience hit themselves. Amo...  \n",
       "2  Listen treat keep worry. Miss husband tax but ...  \n",
       "3  Finally month interesting blue could nature cu...  \n",
       "4  Nation purpose heavy give wait song will. List...  "
      ]
     },
     "execution_count": 7,
     "metadata": {},
     "output_type": "execute_result"
    }
   ],
   "source": [
    "# Первые 5 строк таблицы reviews\n",
    "query = '''\n",
    "        SELECT *\n",
    "        FROM reviews\n",
    "        LIMIT 5;\n",
    "        '''\n",
    "\n",
    "pd.io.sql.read_sql(query, con=engine)"
   ]
  },
  {
   "cell_type": "markdown",
   "id": "75b85d43",
   "metadata": {},
   "source": [
    "Таблица *reviews* содержит данные о пользовательских обзорах на книги. Согласно документации к данным:\n",
    "\n",
    "* *review_id* — идентификатор обзора;\n",
    "* *book_id* — идентификатор книги;\n",
    "* *username* — имя пользователя, написавшего обзор;\n",
    "* *text* — текст обзора."
   ]
  },
  {
   "cell_type": "markdown",
   "id": "3c65d9ef",
   "metadata": {},
   "source": [
    "Содержание таблиц базы данных соответствует документации."
   ]
  },
  {
   "cell_type": "markdown",
   "id": "493e7f3a",
   "metadata": {},
   "source": [
    "## Количество книг, выпущенных c 2000 года\n",
    "Посчитаем, сколько книг вышло после 1 января 2000 года."
   ]
  },
  {
   "cell_type": "code",
   "execution_count": 8,
   "id": "add1a074",
   "metadata": {
    "scrolled": false
   },
   "outputs": [
    {
     "data": {
      "text/html": [
       "<div>\n",
       "<style scoped>\n",
       "    .dataframe tbody tr th:only-of-type {\n",
       "        vertical-align: middle;\n",
       "    }\n",
       "\n",
       "    .dataframe tbody tr th {\n",
       "        vertical-align: top;\n",
       "    }\n",
       "\n",
       "    .dataframe thead th {\n",
       "        text-align: right;\n",
       "    }\n",
       "</style>\n",
       "<table border=\"1\" class=\"dataframe\">\n",
       "  <thead>\n",
       "    <tr style=\"text-align: right;\">\n",
       "      <th></th>\n",
       "      <th>count</th>\n",
       "    </tr>\n",
       "  </thead>\n",
       "  <tbody>\n",
       "    <tr>\n",
       "      <th>0</th>\n",
       "      <td>821</td>\n",
       "    </tr>\n",
       "  </tbody>\n",
       "</table>\n",
       "</div>"
      ],
      "text/plain": [
       "   count\n",
       "0    821"
      ]
     },
     "execution_count": 8,
     "metadata": {},
     "output_type": "execute_result"
    }
   ],
   "source": [
    "# Количество книг, выпущенных c 2000 года\n",
    "query = '''\n",
    "        SELECT COUNT(book_id)\n",
    "        FROM books\n",
    "        WHERE EXTRACT(YEAR FROM publication_date) >= 2000;\n",
    "        '''\n",
    "\n",
    "pd.io.sql.read_sql(query, con=engine)"
   ]
  },
  {
   "cell_type": "markdown",
   "id": "0fac3944",
   "metadata": {},
   "source": [
    "С 1 января 2000 года вышла 821 книга. "
   ]
  },
  {
   "cell_type": "markdown",
   "id": "7d68c185",
   "metadata": {},
   "source": [
    "## Количество обзоров и средняя оценка книг\n",
    "Для каждой книги посчитаем количество обзоров и среднюю оценку."
   ]
  },
  {
   "cell_type": "code",
   "execution_count": 9,
   "id": "66aa7692",
   "metadata": {
    "scrolled": false
   },
   "outputs": [
    {
     "data": {
      "text/html": [
       "<div>\n",
       "<style scoped>\n",
       "    .dataframe tbody tr th:only-of-type {\n",
       "        vertical-align: middle;\n",
       "    }\n",
       "\n",
       "    .dataframe tbody tr th {\n",
       "        vertical-align: top;\n",
       "    }\n",
       "\n",
       "    .dataframe thead th {\n",
       "        text-align: right;\n",
       "    }\n",
       "</style>\n",
       "<table border=\"1\" class=\"dataframe\">\n",
       "  <thead>\n",
       "    <tr style=\"text-align: right;\">\n",
       "      <th></th>\n",
       "      <th>title</th>\n",
       "      <th>review_count</th>\n",
       "      <th>avg_rating</th>\n",
       "    </tr>\n",
       "  </thead>\n",
       "  <tbody>\n",
       "    <tr>\n",
       "      <th>0</th>\n",
       "      <td>'Salem's Lot</td>\n",
       "      <td>2</td>\n",
       "      <td>3.67</td>\n",
       "    </tr>\n",
       "    <tr>\n",
       "      <th>1</th>\n",
       "      <td>1 000 Places to See Before You Die</td>\n",
       "      <td>1</td>\n",
       "      <td>2.50</td>\n",
       "    </tr>\n",
       "    <tr>\n",
       "      <th>2</th>\n",
       "      <td>13 Little Blue Envelopes (Little Blue Envelope...</td>\n",
       "      <td>3</td>\n",
       "      <td>4.67</td>\n",
       "    </tr>\n",
       "    <tr>\n",
       "      <th>3</th>\n",
       "      <td>1491: New Revelations of the Americas Before C...</td>\n",
       "      <td>2</td>\n",
       "      <td>4.50</td>\n",
       "    </tr>\n",
       "    <tr>\n",
       "      <th>4</th>\n",
       "      <td>1776</td>\n",
       "      <td>4</td>\n",
       "      <td>4.00</td>\n",
       "    </tr>\n",
       "    <tr>\n",
       "      <th>...</th>\n",
       "      <td>...</td>\n",
       "      <td>...</td>\n",
       "      <td>...</td>\n",
       "    </tr>\n",
       "    <tr>\n",
       "      <th>995</th>\n",
       "      <td>Wyrd Sisters (Discworld  #6; Witches #2)</td>\n",
       "      <td>3</td>\n",
       "      <td>3.67</td>\n",
       "    </tr>\n",
       "    <tr>\n",
       "      <th>996</th>\n",
       "      <td>Xenocide (Ender's Saga  #3)</td>\n",
       "      <td>3</td>\n",
       "      <td>3.40</td>\n",
       "    </tr>\n",
       "    <tr>\n",
       "      <th>997</th>\n",
       "      <td>Year of Wonders</td>\n",
       "      <td>4</td>\n",
       "      <td>3.20</td>\n",
       "    </tr>\n",
       "    <tr>\n",
       "      <th>998</th>\n",
       "      <td>You Suck (A Love Story  #2)</td>\n",
       "      <td>2</td>\n",
       "      <td>4.50</td>\n",
       "    </tr>\n",
       "    <tr>\n",
       "      <th>999</th>\n",
       "      <td>Zen and the Art of Motorcycle Maintenance: An ...</td>\n",
       "      <td>4</td>\n",
       "      <td>3.83</td>\n",
       "    </tr>\n",
       "  </tbody>\n",
       "</table>\n",
       "<p>1000 rows × 3 columns</p>\n",
       "</div>"
      ],
      "text/plain": [
       "                                                 title  review_count  \\\n",
       "0                                         'Salem's Lot             2   \n",
       "1                   1 000 Places to See Before You Die             1   \n",
       "2    13 Little Blue Envelopes (Little Blue Envelope...             3   \n",
       "3    1491: New Revelations of the Americas Before C...             2   \n",
       "4                                                 1776             4   \n",
       "..                                                 ...           ...   \n",
       "995           Wyrd Sisters (Discworld  #6; Witches #2)             3   \n",
       "996                        Xenocide (Ender's Saga  #3)             3   \n",
       "997                                    Year of Wonders             4   \n",
       "998                        You Suck (A Love Story  #2)             2   \n",
       "999  Zen and the Art of Motorcycle Maintenance: An ...             4   \n",
       "\n",
       "     avg_rating  \n",
       "0          3.67  \n",
       "1          2.50  \n",
       "2          4.67  \n",
       "3          4.50  \n",
       "4          4.00  \n",
       "..          ...  \n",
       "995        3.67  \n",
       "996        3.40  \n",
       "997        3.20  \n",
       "998        4.50  \n",
       "999        3.83  \n",
       "\n",
       "[1000 rows x 3 columns]"
      ]
     },
     "execution_count": 9,
     "metadata": {},
     "output_type": "execute_result"
    }
   ],
   "source": [
    "# Количество обзоров и средняя оценка книг\n",
    "query = '''\n",
    "        SELECT rev_query.title,\n",
    "               review_count,\n",
    "               avg_rating\n",
    "        FROM (SELECT book_id,\n",
    "                     title,\n",
    "                     COUNT(review_id) AS review_count\n",
    "              FROM books\n",
    "              LEFT OUTER JOIN reviews USING(book_id)\n",
    "              GROUP BY book_id) AS rev_query\n",
    "        INNER JOIN\n",
    "              (SELECT book_id,\n",
    "                      title,\n",
    "                      ROUND(AVG(rating), 2) AS avg_rating\n",
    "              FROM books\n",
    "              LEFT OUTER JOIN ratings USING(book_id)\n",
    "              GROUP BY book_id) AS rat_query USING(book_id)\n",
    "        ORDER BY title;\n",
    "        '''\n",
    "\n",
    "pd.io.sql.read_sql(query, con=engine)"
   ]
  },
  {
   "cell_type": "markdown",
   "id": "5c91bc31",
   "metadata": {},
   "source": [
    "Сформирована таблица, содержащая количество обзоров и среднюю оценку для каждой книги."
   ]
  },
  {
   "cell_type": "markdown",
   "id": "820adb42",
   "metadata": {},
   "source": [
    "## Издательство, выпустившее наибольшее число книг\n",
    "Определим издательство, которое выпустило наибольшее число книг толще 50 страниц."
   ]
  },
  {
   "cell_type": "code",
   "execution_count": 10,
   "id": "07c23776",
   "metadata": {
    "scrolled": true
   },
   "outputs": [
    {
     "data": {
      "text/html": [
       "<div>\n",
       "<style scoped>\n",
       "    .dataframe tbody tr th:only-of-type {\n",
       "        vertical-align: middle;\n",
       "    }\n",
       "\n",
       "    .dataframe tbody tr th {\n",
       "        vertical-align: top;\n",
       "    }\n",
       "\n",
       "    .dataframe thead th {\n",
       "        text-align: right;\n",
       "    }\n",
       "</style>\n",
       "<table border=\"1\" class=\"dataframe\">\n",
       "  <thead>\n",
       "    <tr style=\"text-align: right;\">\n",
       "      <th></th>\n",
       "      <th>publisher</th>\n",
       "      <th>books_published</th>\n",
       "    </tr>\n",
       "  </thead>\n",
       "  <tbody>\n",
       "    <tr>\n",
       "      <th>0</th>\n",
       "      <td>Penguin Books</td>\n",
       "      <td>42</td>\n",
       "    </tr>\n",
       "  </tbody>\n",
       "</table>\n",
       "</div>"
      ],
      "text/plain": [
       "       publisher  books_published\n",
       "0  Penguin Books               42"
      ]
     },
     "execution_count": 10,
     "metadata": {},
     "output_type": "execute_result"
    }
   ],
   "source": [
    "# Издательство, выпустившее наибольшее число книг\n",
    "query = '''\n",
    "        SELECT publisher,\n",
    "               COUNT(book_id) AS books_published\n",
    "        FROM publishers AS p\n",
    "        INNER JOIN books AS b ON p.publisher_id = b.publisher_id\n",
    "        WHERE num_pages > 50\n",
    "        GROUP BY p.publisher_id\n",
    "        ORDER BY COUNT(book_id) DESC\n",
    "        LIMIT 1;\n",
    "        '''\n",
    "\n",
    "pd.io.sql.read_sql(query, con=engine)"
   ]
  },
  {
   "cell_type": "markdown",
   "id": "5f4ecb64",
   "metadata": {},
   "source": [
    "Наибольшее число книг толще 50 страниц выпустило издательство Penguin Books."
   ]
  },
  {
   "cell_type": "markdown",
   "id": "33849e8f",
   "metadata": {},
   "source": [
    "## Автор с самой высокой средней оценкой книг\n",
    "Определим автора с самой высокой средней оценкой книг, имеющих от 50 оценок.\n"
   ]
  },
  {
   "cell_type": "code",
   "execution_count": 11,
   "id": "83048fa8",
   "metadata": {
    "scrolled": false
   },
   "outputs": [
    {
     "data": {
      "text/html": [
       "<div>\n",
       "<style scoped>\n",
       "    .dataframe tbody tr th:only-of-type {\n",
       "        vertical-align: middle;\n",
       "    }\n",
       "\n",
       "    .dataframe tbody tr th {\n",
       "        vertical-align: top;\n",
       "    }\n",
       "\n",
       "    .dataframe thead th {\n",
       "        text-align: right;\n",
       "    }\n",
       "</style>\n",
       "<table border=\"1\" class=\"dataframe\">\n",
       "  <thead>\n",
       "    <tr style=\"text-align: right;\">\n",
       "      <th></th>\n",
       "      <th>author</th>\n",
       "      <th>avg_books_rating</th>\n",
       "    </tr>\n",
       "  </thead>\n",
       "  <tbody>\n",
       "    <tr>\n",
       "      <th>0</th>\n",
       "      <td>J.K. Rowling/Mary GrandPré</td>\n",
       "      <td>4.28</td>\n",
       "    </tr>\n",
       "  </tbody>\n",
       "</table>\n",
       "</div>"
      ],
      "text/plain": [
       "                       author  avg_books_rating\n",
       "0  J.K. Rowling/Mary GrandPré              4.28"
      ]
     },
     "execution_count": 11,
     "metadata": {},
     "output_type": "execute_result"
    }
   ],
   "source": [
    "# Автор с самой высокой средней оценикой книг\n",
    "query = '''\n",
    "        SELECT author,\n",
    "        ROUND(AVG(avg_book_rating), 2) AS avg_books_rating\n",
    "        FROM (SELECT author_id, b.book_id, AVG(rating) AS avg_book_rating\n",
    "              FROM books AS b\n",
    "              LEFT OUTER JOIN ratings AS r ON b.book_id = r.book_id\n",
    "              GROUP BY b.book_id\n",
    "              HAVING COUNT(rating) > 50) AS t\n",
    "        LEFT OUTER JOIN authors AS a ON t.author_id = a.author_id\n",
    "        GROUP BY author\n",
    "        ORDER BY AVG(avg_book_rating) DESC\n",
    "        LIMIT 1;\n",
    "        '''\n",
    "\n",
    "pd.io.sql.read_sql(query, con=engine)"
   ]
  },
  {
   "cell_type": "markdown",
   "id": "98cff7a2",
   "metadata": {},
   "source": [
    "Самая высокая средняя оценка книг, имеющих от 50 оценок, у авторов J.K. Rowling/Mary GrandPré."
   ]
  },
  {
   "cell_type": "markdown",
   "id": "cd01e6d2",
   "metadata": {},
   "source": [
    "## Среднее количество обзоров от пользователей\n",
    "Посчитаем среднее количество обзоров от пользователей, которые поставили больше 50 оценок."
   ]
  },
  {
   "cell_type": "code",
   "execution_count": 12,
   "id": "4ac21c24",
   "metadata": {
    "scrolled": false
   },
   "outputs": [
    {
     "data": {
      "text/html": [
       "<div>\n",
       "<style scoped>\n",
       "    .dataframe tbody tr th:only-of-type {\n",
       "        vertical-align: middle;\n",
       "    }\n",
       "\n",
       "    .dataframe tbody tr th {\n",
       "        vertical-align: top;\n",
       "    }\n",
       "\n",
       "    .dataframe thead th {\n",
       "        text-align: right;\n",
       "    }\n",
       "</style>\n",
       "<table border=\"1\" class=\"dataframe\">\n",
       "  <thead>\n",
       "    <tr style=\"text-align: right;\">\n",
       "      <th></th>\n",
       "      <th>avg_review_count</th>\n",
       "    </tr>\n",
       "  </thead>\n",
       "  <tbody>\n",
       "    <tr>\n",
       "      <th>0</th>\n",
       "      <td>24.0</td>\n",
       "    </tr>\n",
       "  </tbody>\n",
       "</table>\n",
       "</div>"
      ],
      "text/plain": [
       "   avg_review_count\n",
       "0              24.0"
      ]
     },
     "execution_count": 12,
     "metadata": {},
     "output_type": "execute_result"
    }
   ],
   "source": [
    "# Среднее количество обзоров от пользователей\n",
    "query = '''\n",
    "        SELECT ROUND(AVG(review_count)) AS avg_review_count\n",
    "        FROM (SELECT username,\n",
    "              COUNT(review_id) AS review_count\n",
    "              FROM reviews\n",
    "              WHERE username in (SELECT username\n",
    "                                 FROM ratings\n",
    "                                 GROUP BY username\n",
    "                                 HAVING COUNT(rating_id) > 50)\n",
    "              GROUP BY username) AS rc;\n",
    "        '''\n",
    "\n",
    "pd.io.sql.read_sql(query, con=engine)"
   ]
  },
  {
   "cell_type": "markdown",
   "id": "b75f4446",
   "metadata": {},
   "source": [
    "В среднем пользователи, которые поставили больше 50 оценок, пишут 24 обзора."
   ]
  }
 ],
 "metadata": {
  "ExecuteTimeLog": [
   {
    "duration": 557,
    "start_time": "2022-05-19T19:04:31.903Z"
   },
   {
    "duration": 77,
    "start_time": "2022-05-19T19:04:32.462Z"
   },
   {
    "duration": 80,
    "start_time": "2022-05-19T19:04:32.541Z"
   },
   {
    "duration": 12,
    "start_time": "2022-05-19T19:04:32.623Z"
   },
   {
    "duration": 11,
    "start_time": "2022-05-19T19:04:32.637Z"
   },
   {
    "duration": 14,
    "start_time": "2022-05-19T19:04:32.650Z"
   },
   {
    "duration": 13,
    "start_time": "2022-05-19T19:04:32.666Z"
   },
   {
    "duration": 22,
    "start_time": "2022-05-19T19:04:32.681Z"
   },
   {
    "duration": 29,
    "start_time": "2022-05-19T19:04:32.705Z"
   },
   {
    "duration": 11,
    "start_time": "2022-05-19T19:04:32.737Z"
   },
   {
    "duration": 13,
    "start_time": "2022-05-19T19:04:32.750Z"
   },
   {
    "duration": 14,
    "start_time": "2022-05-19T19:04:32.765Z"
   },
   {
    "duration": 193,
    "start_time": "2022-05-19T19:06:41.149Z"
   },
   {
    "duration": 62,
    "start_time": "2022-05-19T19:06:48.421Z"
   },
   {
    "duration": 19,
    "start_time": "2022-05-19T19:06:51.191Z"
   },
   {
    "duration": 14,
    "start_time": "2022-05-19T19:07:08.626Z"
   },
   {
    "duration": 541,
    "start_time": "2022-05-19T21:30:36.060Z"
   },
   {
    "duration": 48,
    "start_time": "2022-05-19T21:30:36.603Z"
   },
   {
    "duration": 245,
    "start_time": "2022-05-19T21:30:36.652Z"
   },
   {
    "duration": 69,
    "start_time": "2022-05-19T21:30:36.899Z"
   },
   {
    "duration": 74,
    "start_time": "2022-05-19T21:30:36.971Z"
   },
   {
    "duration": 70,
    "start_time": "2022-05-19T21:30:37.047Z"
   },
   {
    "duration": 72,
    "start_time": "2022-05-19T21:30:37.119Z"
   },
   {
    "duration": 71,
    "start_time": "2022-05-19T21:30:37.194Z"
   },
   {
    "duration": 123,
    "start_time": "2022-05-19T21:30:37.267Z"
   },
   {
    "duration": 77,
    "start_time": "2022-05-19T21:30:37.392Z"
   },
   {
    "duration": 80,
    "start_time": "2022-05-19T21:30:37.470Z"
   },
   {
    "duration": 74,
    "start_time": "2022-05-19T21:30:37.551Z"
   },
   {
    "duration": 77,
    "start_time": "2022-05-19T21:30:48.890Z"
   },
   {
    "duration": 77,
    "start_time": "2022-05-19T21:30:57.178Z"
   },
   {
    "duration": 79,
    "start_time": "2022-05-19T21:31:43.004Z"
   },
   {
    "duration": 70,
    "start_time": "2022-05-19T21:31:53.548Z"
   },
   {
    "duration": 77,
    "start_time": "2022-05-19T21:32:03.439Z"
   },
   {
    "duration": 286,
    "start_time": "2022-05-19T21:33:13.414Z"
   },
   {
    "duration": 78,
    "start_time": "2022-05-19T21:33:19.847Z"
   },
   {
    "duration": 108,
    "start_time": "2022-05-19T21:35:09.321Z"
   },
   {
    "duration": 115,
    "start_time": "2022-05-19T21:36:26.802Z"
   },
   {
    "duration": 152,
    "start_time": "2022-05-19T21:36:39.599Z"
   },
   {
    "duration": 128,
    "start_time": "2022-05-19T21:39:46.516Z"
   },
   {
    "duration": 119,
    "start_time": "2022-05-19T21:40:08.547Z"
   },
   {
    "duration": 103,
    "start_time": "2022-05-19T21:40:18.090Z"
   },
   {
    "duration": 108,
    "start_time": "2022-05-19T21:41:58.967Z"
   },
   {
    "duration": 98,
    "start_time": "2022-05-19T21:42:05.181Z"
   },
   {
    "duration": 93,
    "start_time": "2022-05-19T21:42:19.564Z"
   },
   {
    "duration": 87,
    "start_time": "2022-05-19T21:42:27.666Z"
   },
   {
    "duration": 130,
    "start_time": "2022-05-19T21:43:26.265Z"
   },
   {
    "duration": 112,
    "start_time": "2022-05-19T21:43:42.299Z"
   },
   {
    "duration": 81,
    "start_time": "2022-05-19T21:43:47.402Z"
   },
   {
    "duration": 94,
    "start_time": "2022-05-19T21:44:29.303Z"
   },
   {
    "duration": 73,
    "start_time": "2022-05-19T21:44:40.529Z"
   },
   {
    "duration": 148,
    "start_time": "2022-05-19T21:45:17.440Z"
   },
   {
    "duration": 79,
    "start_time": "2022-05-19T21:45:37.673Z"
   },
   {
    "duration": 72,
    "start_time": "2022-05-19T21:45:51.152Z"
   },
   {
    "duration": 71,
    "start_time": "2022-05-19T21:45:58.625Z"
   },
   {
    "duration": 129,
    "start_time": "2022-05-19T21:46:04.555Z"
   },
   {
    "duration": 72,
    "start_time": "2022-05-19T21:46:07.541Z"
   },
   {
    "duration": 72,
    "start_time": "2022-05-19T21:46:19.349Z"
   },
   {
    "duration": 84,
    "start_time": "2022-05-19T21:50:37.795Z"
   },
   {
    "duration": 30,
    "start_time": "2022-05-19T21:51:13.682Z"
   },
   {
    "duration": 75,
    "start_time": "2022-05-19T21:51:24.157Z"
   },
   {
    "duration": 79,
    "start_time": "2022-05-19T21:51:31.903Z"
   },
   {
    "duration": 71,
    "start_time": "2022-05-19T21:51:34.443Z"
   },
   {
    "duration": 94,
    "start_time": "2022-05-19T21:51:43.445Z"
   },
   {
    "duration": 86,
    "start_time": "2022-05-19T21:52:01.088Z"
   },
   {
    "duration": 79,
    "start_time": "2022-05-19T21:52:22.457Z"
   },
   {
    "duration": 82,
    "start_time": "2022-05-19T21:52:27.988Z"
   },
   {
    "duration": 82,
    "start_time": "2022-05-19T21:52:46.798Z"
   },
   {
    "duration": 75,
    "start_time": "2022-05-19T21:53:40.292Z"
   },
   {
    "duration": 83,
    "start_time": "2022-05-19T21:56:10.657Z"
   },
   {
    "duration": 143,
    "start_time": "2022-05-19T21:56:21.132Z"
   },
   {
    "duration": 82,
    "start_time": "2022-05-19T21:56:26.586Z"
   },
   {
    "duration": 76,
    "start_time": "2022-05-19T21:56:55.183Z"
   },
   {
    "duration": 120,
    "start_time": "2022-05-19T21:59:36.900Z"
   },
   {
    "duration": 78,
    "start_time": "2022-05-19T22:01:55.811Z"
   },
   {
    "duration": 79,
    "start_time": "2022-05-19T22:02:26.348Z"
   },
   {
    "duration": 156,
    "start_time": "2022-05-19T22:02:56.468Z"
   },
   {
    "duration": 83,
    "start_time": "2022-05-19T22:03:12.292Z"
   },
   {
    "duration": 101,
    "start_time": "2022-05-19T22:06:04.984Z"
   },
   {
    "duration": 191,
    "start_time": "2022-05-19T22:09:10.434Z"
   },
   {
    "duration": 100,
    "start_time": "2022-05-19T22:10:54.127Z"
   },
   {
    "duration": 113,
    "start_time": "2022-05-19T22:13:09.891Z"
   },
   {
    "duration": 125,
    "start_time": "2022-05-19T22:13:17.973Z"
   },
   {
    "duration": 100,
    "start_time": "2022-05-19T22:14:09.534Z"
   },
   {
    "duration": 101,
    "start_time": "2022-05-19T22:16:11.801Z"
   },
   {
    "duration": 100,
    "start_time": "2022-05-19T22:17:21.687Z"
   },
   {
    "duration": 113,
    "start_time": "2022-05-19T22:18:00.896Z"
   },
   {
    "duration": 109,
    "start_time": "2022-05-19T22:18:30.330Z"
   },
   {
    "duration": 76,
    "start_time": "2022-05-19T22:19:11.782Z"
   },
   {
    "duration": 88,
    "start_time": "2022-05-19T22:19:18.199Z"
   },
   {
    "duration": 532,
    "start_time": "2022-05-19T22:21:17.635Z"
   },
   {
    "duration": 57,
    "start_time": "2022-05-19T22:21:18.170Z"
   },
   {
    "duration": 233,
    "start_time": "2022-05-19T22:21:18.230Z"
   },
   {
    "duration": 63,
    "start_time": "2022-05-19T22:21:18.465Z"
   },
   {
    "duration": 64,
    "start_time": "2022-05-19T22:21:18.529Z"
   },
   {
    "duration": 64,
    "start_time": "2022-05-19T22:21:18.595Z"
   },
   {
    "duration": 66,
    "start_time": "2022-05-19T22:21:18.660Z"
   },
   {
    "duration": 63,
    "start_time": "2022-05-19T22:21:18.727Z"
   },
   {
    "duration": 4,
    "start_time": "2022-05-19T22:21:18.791Z"
   },
   {
    "duration": 100,
    "start_time": "2022-05-19T22:21:18.797Z"
   },
   {
    "duration": 64,
    "start_time": "2022-05-19T22:21:18.898Z"
   },
   {
    "duration": 3,
    "start_time": "2022-05-19T22:21:18.964Z"
   },
   {
    "duration": 77,
    "start_time": "2022-05-19T22:21:18.968Z"
   },
   {
    "duration": 66,
    "start_time": "2022-05-19T22:21:19.046Z"
   },
   {
    "duration": 69,
    "start_time": "2022-05-19T22:22:20.536Z"
   },
   {
    "duration": 562,
    "start_time": "2022-05-19T22:22:26.532Z"
   },
   {
    "duration": 54,
    "start_time": "2022-05-19T22:22:27.096Z"
   },
   {
    "duration": 211,
    "start_time": "2022-05-19T22:22:27.152Z"
   },
   {
    "duration": 67,
    "start_time": "2022-05-19T22:22:27.365Z"
   },
   {
    "duration": 65,
    "start_time": "2022-05-19T22:22:27.434Z"
   },
   {
    "duration": 70,
    "start_time": "2022-05-19T22:22:27.502Z"
   },
   {
    "duration": 66,
    "start_time": "2022-05-19T22:22:27.574Z"
   },
   {
    "duration": 67,
    "start_time": "2022-05-19T22:22:27.642Z"
   },
   {
    "duration": 4,
    "start_time": "2022-05-19T22:22:27.711Z"
   },
   {
    "duration": 119,
    "start_time": "2022-05-19T22:22:27.718Z"
   },
   {
    "duration": 69,
    "start_time": "2022-05-19T22:22:27.839Z"
   },
   {
    "duration": 4,
    "start_time": "2022-05-19T22:22:27.910Z"
   },
   {
    "duration": 74,
    "start_time": "2022-05-19T22:22:27.918Z"
   },
   {
    "duration": 68,
    "start_time": "2022-05-19T22:22:27.994Z"
   },
   {
    "duration": 491,
    "start_time": "2022-05-20T18:10:35.882Z"
   },
   {
    "duration": 40,
    "start_time": "2022-05-20T18:10:36.375Z"
   },
   {
    "duration": 70,
    "start_time": "2022-05-20T18:10:36.417Z"
   },
   {
    "duration": 11,
    "start_time": "2022-05-20T18:10:36.489Z"
   },
   {
    "duration": 19,
    "start_time": "2022-05-20T18:10:36.502Z"
   },
   {
    "duration": 13,
    "start_time": "2022-05-20T18:10:36.523Z"
   },
   {
    "duration": 19,
    "start_time": "2022-05-20T18:10:36.538Z"
   },
   {
    "duration": 29,
    "start_time": "2022-05-20T18:10:36.559Z"
   },
   {
    "duration": 5,
    "start_time": "2022-05-20T18:10:36.590Z"
   },
   {
    "duration": 36,
    "start_time": "2022-05-20T18:10:36.598Z"
   },
   {
    "duration": 10,
    "start_time": "2022-05-20T18:10:36.636Z"
   },
   {
    "duration": 11,
    "start_time": "2022-05-20T18:10:36.648Z"
   },
   {
    "duration": 27,
    "start_time": "2022-05-20T18:10:36.661Z"
   },
   {
    "duration": 12,
    "start_time": "2022-05-20T18:10:36.689Z"
   },
   {
    "duration": 16,
    "start_time": "2022-05-20T18:11:11.163Z"
   },
   {
    "duration": 15,
    "start_time": "2022-05-20T18:11:13.369Z"
   },
   {
    "duration": 573,
    "start_time": "2022-05-23T09:25:37.131Z"
   },
   {
    "duration": 41,
    "start_time": "2022-05-23T09:25:37.706Z"
   },
   {
    "duration": 270,
    "start_time": "2022-05-23T09:25:37.749Z"
   },
   {
    "duration": 77,
    "start_time": "2022-05-23T09:25:38.021Z"
   },
   {
    "duration": 77,
    "start_time": "2022-05-23T09:25:38.099Z"
   },
   {
    "duration": 79,
    "start_time": "2022-05-23T09:25:38.178Z"
   },
   {
    "duration": 79,
    "start_time": "2022-05-23T09:25:38.259Z"
   },
   {
    "duration": 78,
    "start_time": "2022-05-23T09:25:38.339Z"
   },
   {
    "duration": 3,
    "start_time": "2022-05-23T09:25:38.418Z"
   },
   {
    "duration": 121,
    "start_time": "2022-05-23T09:25:38.424Z"
   },
   {
    "duration": 162,
    "start_time": "2022-05-23T09:25:38.547Z"
   },
   {
    "duration": 0,
    "start_time": "2022-05-23T09:25:38.711Z"
   },
   {
    "duration": 0,
    "start_time": "2022-05-23T09:25:38.712Z"
   },
   {
    "duration": 0,
    "start_time": "2022-05-23T09:25:38.713Z"
   },
   {
    "duration": 0,
    "start_time": "2022-05-23T09:25:38.714Z"
   },
   {
    "duration": 98,
    "start_time": "2022-05-23T09:26:13.731Z"
   },
   {
    "duration": 95,
    "start_time": "2022-05-23T09:27:46.261Z"
   },
   {
    "duration": 91,
    "start_time": "2022-05-23T09:28:32.463Z"
   },
   {
    "duration": 124,
    "start_time": "2022-05-23T09:28:54.009Z"
   },
   {
    "duration": 151,
    "start_time": "2022-05-23T09:29:09.276Z"
   },
   {
    "duration": 156,
    "start_time": "2022-05-23T09:29:36.571Z"
   },
   {
    "duration": 135,
    "start_time": "2022-05-23T09:29:52.766Z"
   },
   {
    "duration": 214,
    "start_time": "2022-05-23T09:30:02.563Z"
   },
   {
    "duration": 91,
    "start_time": "2022-05-23T09:30:18.148Z"
   },
   {
    "duration": 113,
    "start_time": "2022-05-23T09:30:38.904Z"
   },
   {
    "duration": 113,
    "start_time": "2022-05-23T09:30:58.039Z"
   },
   {
    "duration": 181,
    "start_time": "2022-05-23T09:32:39.714Z"
   },
   {
    "duration": 137,
    "start_time": "2022-05-23T09:32:59.102Z"
   },
   {
    "duration": 110,
    "start_time": "2022-05-23T09:33:04.656Z"
   },
   {
    "duration": 114,
    "start_time": "2022-05-23T09:33:07.986Z"
   },
   {
    "duration": 108,
    "start_time": "2022-05-23T09:33:50.827Z"
   },
   {
    "duration": 125,
    "start_time": "2022-05-23T09:34:46.996Z"
   },
   {
    "duration": 157,
    "start_time": "2022-05-23T09:35:37.297Z"
   },
   {
    "duration": 128,
    "start_time": "2022-05-23T09:35:44.167Z"
   },
   {
    "duration": 124,
    "start_time": "2022-05-23T09:36:30.903Z"
   },
   {
    "duration": 112,
    "start_time": "2022-05-23T09:36:36.377Z"
   },
   {
    "duration": 109,
    "start_time": "2022-05-23T09:37:20.772Z"
   },
   {
    "duration": 111,
    "start_time": "2022-05-23T09:37:57.893Z"
   },
   {
    "duration": 86,
    "start_time": "2022-05-23T09:38:56.484Z"
   },
   {
    "duration": 109,
    "start_time": "2022-05-23T09:39:04.513Z"
   },
   {
    "duration": 110,
    "start_time": "2022-05-23T09:39:20.126Z"
   },
   {
    "duration": 109,
    "start_time": "2022-05-23T09:39:29.362Z"
   },
   {
    "duration": 114,
    "start_time": "2022-05-23T09:39:35.365Z"
   },
   {
    "duration": 109,
    "start_time": "2022-05-23T09:39:50.701Z"
   },
   {
    "duration": 90,
    "start_time": "2022-05-23T09:40:03.837Z"
   },
   {
    "duration": 90,
    "start_time": "2022-05-23T09:41:13.587Z"
   },
   {
    "duration": 111,
    "start_time": "2022-05-23T09:41:31.158Z"
   },
   {
    "duration": 109,
    "start_time": "2022-05-23T09:41:36.907Z"
   },
   {
    "duration": 113,
    "start_time": "2022-05-23T09:41:56.129Z"
   },
   {
    "duration": 105,
    "start_time": "2022-05-23T09:41:59.400Z"
   },
   {
    "duration": 98,
    "start_time": "2022-05-23T09:42:03.470Z"
   },
   {
    "duration": 89,
    "start_time": "2022-05-23T09:43:25.519Z"
   },
   {
    "duration": 90,
    "start_time": "2022-05-23T09:43:35.188Z"
   },
   {
    "duration": 77,
    "start_time": "2022-05-23T09:43:53.160Z"
   },
   {
    "duration": 75,
    "start_time": "2022-05-23T09:44:00.635Z"
   },
   {
    "duration": 91,
    "start_time": "2022-05-23T09:44:26.073Z"
   },
   {
    "duration": 112,
    "start_time": "2022-05-23T09:44:33.763Z"
   },
   {
    "duration": 95,
    "start_time": "2022-05-23T09:44:42.840Z"
   },
   {
    "duration": 108,
    "start_time": "2022-05-23T09:44:46.698Z"
   },
   {
    "duration": 111,
    "start_time": "2022-05-23T09:45:10.078Z"
   },
   {
    "duration": 102,
    "start_time": "2022-05-23T09:45:24.170Z"
   },
   {
    "duration": 106,
    "start_time": "2022-05-23T09:45:35.056Z"
   },
   {
    "duration": 139,
    "start_time": "2022-05-23T09:46:35.186Z"
   },
   {
    "duration": 159,
    "start_time": "2022-05-23T09:46:46.123Z"
   },
   {
    "duration": 111,
    "start_time": "2022-05-23T09:47:04.984Z"
   },
   {
    "duration": 516,
    "start_time": "2022-05-23T09:48:22.210Z"
   },
   {
    "duration": 54,
    "start_time": "2022-05-23T09:48:22.728Z"
   },
   {
    "duration": 279,
    "start_time": "2022-05-23T09:48:22.785Z"
   },
   {
    "duration": 85,
    "start_time": "2022-05-23T09:48:23.066Z"
   },
   {
    "duration": 75,
    "start_time": "2022-05-23T09:48:23.153Z"
   },
   {
    "duration": 76,
    "start_time": "2022-05-23T09:48:23.230Z"
   },
   {
    "duration": 77,
    "start_time": "2022-05-23T09:48:23.308Z"
   },
   {
    "duration": 74,
    "start_time": "2022-05-23T09:48:23.387Z"
   },
   {
    "duration": 3,
    "start_time": "2022-05-23T09:48:23.463Z"
   },
   {
    "duration": 8,
    "start_time": "2022-05-23T09:48:23.468Z"
   },
   {
    "duration": 120,
    "start_time": "2022-05-23T09:48:23.477Z"
   },
   {
    "duration": 84,
    "start_time": "2022-05-23T09:48:23.599Z"
   },
   {
    "duration": 2,
    "start_time": "2022-05-23T09:48:23.686Z"
   },
   {
    "duration": 85,
    "start_time": "2022-05-23T09:48:23.690Z"
   },
   {
    "duration": 80,
    "start_time": "2022-05-23T09:48:23.776Z"
   }
  ],
  "kernelspec": {
   "display_name": "Python 3 (ipykernel)",
   "language": "python",
   "name": "python3"
  },
  "language_info": {
   "codemirror_mode": {
    "name": "ipython",
    "version": 3
   },
   "file_extension": ".py",
   "mimetype": "text/x-python",
   "name": "python",
   "nbconvert_exporter": "python",
   "pygments_lexer": "ipython3",
   "version": "3.9.7"
  },
  "toc": {
   "base_numbering": 1,
   "nav_menu": {},
   "number_sections": true,
   "sideBar": true,
   "skip_h1_title": true,
   "title_cell": "Содержание",
   "title_sidebar": "Содержание",
   "toc_cell": false,
   "toc_position": {},
   "toc_section_display": true,
   "toc_window_display": false
  }
 },
 "nbformat": 4,
 "nbformat_minor": 5
}
