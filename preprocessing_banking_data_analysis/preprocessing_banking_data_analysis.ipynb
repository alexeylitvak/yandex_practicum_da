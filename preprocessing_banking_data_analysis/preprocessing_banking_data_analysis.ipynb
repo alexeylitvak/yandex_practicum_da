{
 "cells": [
  {
   "cell_type": "markdown",
   "metadata": {},
   "source": [
    "# Исследование надёжности заёмщиков\n",
    "\n",
    "Заказчик — кредитный отдел банка. Нужно разобраться, влияет ли семейное положение и количество детей клиента на факт погашения кредита в срок. Результаты исследования будут учтены при построении модели кредитного скоринга.\n",
    "\n",
    "**Цель исследования** — ответить на вопросы:\n",
    "\n",
    "  1. Есть ли зависимость между наличием детей и возвратом кредита в срок?\n",
    "  2. Есть ли зависимость между семейным положением и возвратом кредита в срок?\n",
    "  3. Есть ли зависимость между уровнем дохода и возвратом кредита в срок?\n",
    "  4. Как разные цели кредита влияют на его возврат в срок?\n",
    "\n",
    "**Ход исследования**\n",
    "\n",
    "Входные данные от банка — статистика о платёжеспособности клиентов — получены из файла data.csv. О качестве данных ничего не известно. Поэтому перед тем, как отвечать на вопрсоы исследования и делать вывод, понадобится обзор данных.\n",
    "\n",
    "Проверим данные на ошибки и оценим их влияние на исследование. Затем, на этапе предобработки, поищем возможность исправить самые критичные ошибки данных.\n",
    "\n",
    "После ответа на поставленные в исследовании вопросы, сделаем общией вывод.\n",
    "\n",
    "Таким образом, исследование пройдёт в четыре этапа:\n",
    "\n",
    "  1. Обзор данных\n",
    "  2. Предобработка данных\n",
    "  3. Ответы на вопросы исследования\n",
    "  4. Общий вывод"
   ]
  },
  {
   "cell_type": "markdown",
   "metadata": {},
   "source": [
    "<h1>Содержание<span class=\"tocSkip\"></span></h1>\n",
    "<div class=\"toc\"><ul class=\"toc-item\"><li><span><a href=\"#Обзор-данных\" data-toc-modified-id=\"Обзор-данных-1\"><span class=\"toc-item-num\">1&nbsp;&nbsp;</span>Обзор данных</a></span></li><li><span><a href=\"#Предобработка-данных\" data-toc-modified-id=\"Предобработка-данных-2\"><span class=\"toc-item-num\">2&nbsp;&nbsp;</span>Предобработка данных</a></span><ul class=\"toc-item\"><li><span><a href=\"#Исправление-количественных-значений\" data-toc-modified-id=\"Исправление-количественных-значений-2.1\"><span class=\"toc-item-num\">2.1&nbsp;&nbsp;</span>Исправление количественных значений</a></span><ul class=\"toc-item\"><li><span><a href=\"#Столбец-children\" data-toc-modified-id=\"Столбец-children-2.1.1\"><span class=\"toc-item-num\">2.1.1&nbsp;&nbsp;</span>Столбец children</a></span></li><li><span><a href=\"#Столбец-days_employed\" data-toc-modified-id=\"Столбец-days_employed-2.1.2\"><span class=\"toc-item-num\">2.1.2&nbsp;&nbsp;</span>Столбец days_employed</a></span></li><li><span><a href=\"#Столбец-dob_years\" data-toc-modified-id=\"Столбец-dob_years-2.1.3\"><span class=\"toc-item-num\">2.1.3&nbsp;&nbsp;</span>Столбец dob_years</a></span></li></ul></li><li><span><a href=\"#Обработка-пропусков\" data-toc-modified-id=\"Обработка-пропусков-2.2\"><span class=\"toc-item-num\">2.2&nbsp;&nbsp;</span>Обработка пропусков</a></span></li><li><span><a href=\"#Замена-типа-данных\" data-toc-modified-id=\"Замена-типа-данных-2.3\"><span class=\"toc-item-num\">2.3&nbsp;&nbsp;</span>Замена типа данных</a></span></li><li><span><a href=\"#Обработка-дубликатов\" data-toc-modified-id=\"Обработка-дубликатов-2.4\"><span class=\"toc-item-num\">2.4&nbsp;&nbsp;</span>Обработка дубликатов</a></span><ul class=\"toc-item\"><li><span><a href=\"#Явные-дубликаты\" data-toc-modified-id=\"Явные-дубликаты-2.4.1\"><span class=\"toc-item-num\">2.4.1&nbsp;&nbsp;</span>Явные дубликаты</a></span></li><li><span><a href=\"#Неявные-дубликаты\" data-toc-modified-id=\"Неявные-дубликаты-2.4.2\"><span class=\"toc-item-num\">2.4.2&nbsp;&nbsp;</span>Неявные дубликаты</a></span></li></ul></li><li><span><a href=\"#Исправление-категориальных-значений\" data-toc-modified-id=\"Исправление-категориальных-значений-2.5\"><span class=\"toc-item-num\">2.5&nbsp;&nbsp;</span>Исправление категориальных значений</a></span></li><li><span><a href=\"#Лемматизация\" data-toc-modified-id=\"Лемматизация-2.6\"><span class=\"toc-item-num\">2.6&nbsp;&nbsp;</span>Лемматизация</a></span></li><li><span><a href=\"#Категоризация-данных\" data-toc-modified-id=\"Категоризация-данных-2.7\"><span class=\"toc-item-num\">2.7&nbsp;&nbsp;</span>Категоризация данных</a></span><ul class=\"toc-item\"><li><span><a href=\"#Столбец-children\" data-toc-modified-id=\"Столбец-children-2.7.1\"><span class=\"toc-item-num\">2.7.1&nbsp;&nbsp;</span>Столбец children</a></span></li><li><span><a href=\"#Столбец-total_income\" data-toc-modified-id=\"Столбец-total_income-2.7.2\"><span class=\"toc-item-num\">2.7.2&nbsp;&nbsp;</span>Столбец total_income</a></span></li></ul></li></ul></li><li><span><a href=\"#Ответы-на-вопросы-исследования\" data-toc-modified-id=\"Ответы-на-вопросы-исследования-3\"><span class=\"toc-item-num\">3&nbsp;&nbsp;</span>Ответы на вопросы исследования</a></span><ul class=\"toc-item\"><li><span><a href=\"#Есть-ли-зависимость-между-наличием-детей-и-возвратом-кредита-в-срок?\" data-toc-modified-id=\"Есть-ли-зависимость-между-наличием-детей-и-возвратом-кредита-в-срок?-3.1\"><span class=\"toc-item-num\">3.1&nbsp;&nbsp;</span>Есть ли зависимость между наличием детей и возвратом кредита в срок?</a></span></li><li><span><a href=\"#Есть-ли-зависимость-между-семейным-положением-и-возвратом-кредита-в-срок?\" data-toc-modified-id=\"Есть-ли-зависимость-между-семейным-положением-и-возвратом-кредита-в-срок?-3.2\"><span class=\"toc-item-num\">3.2&nbsp;&nbsp;</span>Есть ли зависимость между семейным положением и возвратом кредита в срок?</a></span></li><li><span><a href=\"#Есть-ли-зависимость-между-уровнем-дохода-и-возвратом-кредита-в-срок?\" data-toc-modified-id=\"Есть-ли-зависимость-между-уровнем-дохода-и-возвратом-кредита-в-срок?-3.3\"><span class=\"toc-item-num\">3.3&nbsp;&nbsp;</span>Есть ли зависимость между уровнем дохода и возвратом кредита в срок?</a></span></li><li><span><a href=\"#Как-разные-цели-кредита-влияют-на-его-возврат-в-срок?\" data-toc-modified-id=\"Как-разные-цели-кредита-влияют-на-его-возврат-в-срок?-3.4\"><span class=\"toc-item-num\">3.4&nbsp;&nbsp;</span>Как разные цели кредита влияют на его возврат в срок?</a></span></li></ul></li><li><span><a href=\"#Общий-вывод\" data-toc-modified-id=\"Общий-вывод-4\"><span class=\"toc-item-num\">4&nbsp;&nbsp;</span>Общий вывод</a></span></li></ul></div>"
   ]
  },
  {
   "cell_type": "markdown",
   "metadata": {},
   "source": [
    "## Обзор данных\n",
    "\n",
    "Составим первое впечатление о входных данных."
   ]
  },
  {
   "cell_type": "code",
   "execution_count": 1,
   "metadata": {},
   "outputs": [],
   "source": [
    "# Импортируем библиотеки\n",
    "import pandas as pd\n",
    "from pymystem3 import Mystem\n",
    "m = Mystem()\n",
    "from collections import Counter"
   ]
  },
  {
   "cell_type": "code",
   "execution_count": 2,
   "metadata": {},
   "outputs": [],
   "source": [
    "# Читаем файл с данными и сохраняем в датафрейм df\n",
    "df = pd.read_csv('data.csv')"
   ]
  },
  {
   "cell_type": "code",
   "execution_count": 3,
   "metadata": {
    "scrolled": false
   },
   "outputs": [
    {
     "data": {
      "text/html": [
       "<div>\n",
       "<style scoped>\n",
       "    .dataframe tbody tr th:only-of-type {\n",
       "        vertical-align: middle;\n",
       "    }\n",
       "\n",
       "    .dataframe tbody tr th {\n",
       "        vertical-align: top;\n",
       "    }\n",
       "\n",
       "    .dataframe thead th {\n",
       "        text-align: right;\n",
       "    }\n",
       "</style>\n",
       "<table border=\"1\" class=\"dataframe\">\n",
       "  <thead>\n",
       "    <tr style=\"text-align: right;\">\n",
       "      <th></th>\n",
       "      <th>children</th>\n",
       "      <th>days_employed</th>\n",
       "      <th>dob_years</th>\n",
       "      <th>education</th>\n",
       "      <th>education_id</th>\n",
       "      <th>family_status</th>\n",
       "      <th>family_status_id</th>\n",
       "      <th>gender</th>\n",
       "      <th>income_type</th>\n",
       "      <th>debt</th>\n",
       "      <th>total_income</th>\n",
       "      <th>purpose</th>\n",
       "    </tr>\n",
       "  </thead>\n",
       "  <tbody>\n",
       "    <tr>\n",
       "      <td>0</td>\n",
       "      <td>1</td>\n",
       "      <td>-8437.673028</td>\n",
       "      <td>42</td>\n",
       "      <td>высшее</td>\n",
       "      <td>0</td>\n",
       "      <td>женат / замужем</td>\n",
       "      <td>0</td>\n",
       "      <td>F</td>\n",
       "      <td>сотрудник</td>\n",
       "      <td>0</td>\n",
       "      <td>253875.639453</td>\n",
       "      <td>покупка жилья</td>\n",
       "    </tr>\n",
       "    <tr>\n",
       "      <td>1</td>\n",
       "      <td>1</td>\n",
       "      <td>-4024.803754</td>\n",
       "      <td>36</td>\n",
       "      <td>среднее</td>\n",
       "      <td>1</td>\n",
       "      <td>женат / замужем</td>\n",
       "      <td>0</td>\n",
       "      <td>F</td>\n",
       "      <td>сотрудник</td>\n",
       "      <td>0</td>\n",
       "      <td>112080.014102</td>\n",
       "      <td>приобретение автомобиля</td>\n",
       "    </tr>\n",
       "    <tr>\n",
       "      <td>2</td>\n",
       "      <td>0</td>\n",
       "      <td>-5623.422610</td>\n",
       "      <td>33</td>\n",
       "      <td>Среднее</td>\n",
       "      <td>1</td>\n",
       "      <td>женат / замужем</td>\n",
       "      <td>0</td>\n",
       "      <td>M</td>\n",
       "      <td>сотрудник</td>\n",
       "      <td>0</td>\n",
       "      <td>145885.952297</td>\n",
       "      <td>покупка жилья</td>\n",
       "    </tr>\n",
       "    <tr>\n",
       "      <td>3</td>\n",
       "      <td>3</td>\n",
       "      <td>-4124.747207</td>\n",
       "      <td>32</td>\n",
       "      <td>среднее</td>\n",
       "      <td>1</td>\n",
       "      <td>женат / замужем</td>\n",
       "      <td>0</td>\n",
       "      <td>M</td>\n",
       "      <td>сотрудник</td>\n",
       "      <td>0</td>\n",
       "      <td>267628.550329</td>\n",
       "      <td>дополнительное образование</td>\n",
       "    </tr>\n",
       "    <tr>\n",
       "      <td>4</td>\n",
       "      <td>0</td>\n",
       "      <td>340266.072047</td>\n",
       "      <td>53</td>\n",
       "      <td>среднее</td>\n",
       "      <td>1</td>\n",
       "      <td>гражданский брак</td>\n",
       "      <td>1</td>\n",
       "      <td>F</td>\n",
       "      <td>пенсионер</td>\n",
       "      <td>0</td>\n",
       "      <td>158616.077870</td>\n",
       "      <td>сыграть свадьбу</td>\n",
       "    </tr>\n",
       "    <tr>\n",
       "      <td>5</td>\n",
       "      <td>0</td>\n",
       "      <td>-926.185831</td>\n",
       "      <td>27</td>\n",
       "      <td>высшее</td>\n",
       "      <td>0</td>\n",
       "      <td>гражданский брак</td>\n",
       "      <td>1</td>\n",
       "      <td>M</td>\n",
       "      <td>компаньон</td>\n",
       "      <td>0</td>\n",
       "      <td>255763.565419</td>\n",
       "      <td>покупка жилья</td>\n",
       "    </tr>\n",
       "    <tr>\n",
       "      <td>6</td>\n",
       "      <td>0</td>\n",
       "      <td>-2879.202052</td>\n",
       "      <td>43</td>\n",
       "      <td>высшее</td>\n",
       "      <td>0</td>\n",
       "      <td>женат / замужем</td>\n",
       "      <td>0</td>\n",
       "      <td>F</td>\n",
       "      <td>компаньон</td>\n",
       "      <td>0</td>\n",
       "      <td>240525.971920</td>\n",
       "      <td>операции с жильем</td>\n",
       "    </tr>\n",
       "    <tr>\n",
       "      <td>7</td>\n",
       "      <td>0</td>\n",
       "      <td>-152.779569</td>\n",
       "      <td>50</td>\n",
       "      <td>СРЕДНЕЕ</td>\n",
       "      <td>1</td>\n",
       "      <td>женат / замужем</td>\n",
       "      <td>0</td>\n",
       "      <td>M</td>\n",
       "      <td>сотрудник</td>\n",
       "      <td>0</td>\n",
       "      <td>135823.934197</td>\n",
       "      <td>образование</td>\n",
       "    </tr>\n",
       "    <tr>\n",
       "      <td>8</td>\n",
       "      <td>2</td>\n",
       "      <td>-6929.865299</td>\n",
       "      <td>35</td>\n",
       "      <td>ВЫСШЕЕ</td>\n",
       "      <td>0</td>\n",
       "      <td>гражданский брак</td>\n",
       "      <td>1</td>\n",
       "      <td>F</td>\n",
       "      <td>сотрудник</td>\n",
       "      <td>0</td>\n",
       "      <td>95856.832424</td>\n",
       "      <td>на проведение свадьбы</td>\n",
       "    </tr>\n",
       "    <tr>\n",
       "      <td>9</td>\n",
       "      <td>0</td>\n",
       "      <td>-2188.756445</td>\n",
       "      <td>41</td>\n",
       "      <td>среднее</td>\n",
       "      <td>1</td>\n",
       "      <td>женат / замужем</td>\n",
       "      <td>0</td>\n",
       "      <td>M</td>\n",
       "      <td>сотрудник</td>\n",
       "      <td>0</td>\n",
       "      <td>144425.938277</td>\n",
       "      <td>покупка жилья для семьи</td>\n",
       "    </tr>\n",
       "  </tbody>\n",
       "</table>\n",
       "</div>"
      ],
      "text/plain": [
       "   children  days_employed  dob_years education  education_id  \\\n",
       "0         1   -8437.673028         42    высшее             0   \n",
       "1         1   -4024.803754         36   среднее             1   \n",
       "2         0   -5623.422610         33   Среднее             1   \n",
       "3         3   -4124.747207         32   среднее             1   \n",
       "4         0  340266.072047         53   среднее             1   \n",
       "5         0    -926.185831         27    высшее             0   \n",
       "6         0   -2879.202052         43    высшее             0   \n",
       "7         0    -152.779569         50   СРЕДНЕЕ             1   \n",
       "8         2   -6929.865299         35    ВЫСШЕЕ             0   \n",
       "9         0   -2188.756445         41   среднее             1   \n",
       "\n",
       "      family_status  family_status_id gender income_type  debt   total_income  \\\n",
       "0   женат / замужем                 0      F   сотрудник     0  253875.639453   \n",
       "1   женат / замужем                 0      F   сотрудник     0  112080.014102   \n",
       "2   женат / замужем                 0      M   сотрудник     0  145885.952297   \n",
       "3   женат / замужем                 0      M   сотрудник     0  267628.550329   \n",
       "4  гражданский брак                 1      F   пенсионер     0  158616.077870   \n",
       "5  гражданский брак                 1      M   компаньон     0  255763.565419   \n",
       "6   женат / замужем                 0      F   компаньон     0  240525.971920   \n",
       "7   женат / замужем                 0      M   сотрудник     0  135823.934197   \n",
       "8  гражданский брак                 1      F   сотрудник     0   95856.832424   \n",
       "9   женат / замужем                 0      M   сотрудник     0  144425.938277   \n",
       "\n",
       "                      purpose  \n",
       "0               покупка жилья  \n",
       "1     приобретение автомобиля  \n",
       "2               покупка жилья  \n",
       "3  дополнительное образование  \n",
       "4             сыграть свадьбу  \n",
       "5               покупка жилья  \n",
       "6           операции с жильем  \n",
       "7                 образование  \n",
       "8       на проведение свадьбы  \n",
       "9     покупка жилья для семьи  "
      ]
     },
     "execution_count": 3,
     "metadata": {},
     "output_type": "execute_result"
    }
   ],
   "source": [
    "# Обзор датафрейма, получаем первые 10 строк\n",
    "df.head(10)"
   ]
  },
  {
   "cell_type": "code",
   "execution_count": 4,
   "metadata": {},
   "outputs": [
    {
     "name": "stdout",
     "output_type": "stream",
     "text": [
      "<class 'pandas.core.frame.DataFrame'>\n",
      "RangeIndex: 21525 entries, 0 to 21524\n",
      "Data columns (total 12 columns):\n",
      "children            21525 non-null int64\n",
      "days_employed       19351 non-null float64\n",
      "dob_years           21525 non-null int64\n",
      "education           21525 non-null object\n",
      "education_id        21525 non-null int64\n",
      "family_status       21525 non-null object\n",
      "family_status_id    21525 non-null int64\n",
      "gender              21525 non-null object\n",
      "income_type         21525 non-null object\n",
      "debt                21525 non-null int64\n",
      "total_income        19351 non-null float64\n",
      "purpose             21525 non-null object\n",
      "dtypes: float64(2), int64(5), object(5)\n",
      "memory usage: 2.0+ MB\n"
     ]
    }
   ],
   "source": [
    "# Обзор датафрейма, получаем общую информацию\n",
    "df.info()"
   ]
  },
  {
   "cell_type": "markdown",
   "metadata": {},
   "source": [
    "В таблице 12 столбцов различных типов данных: `object`, `int64`, `float64`.\n",
    "\n",
    "Согласно документации к данным:\n",
    "\n",
    "  * `children` — количество детей в семье\n",
    "  * `days_employed` — общий трудовой стаж в днях\n",
    "  * `dob_years` — возраст клиента в годах\n",
    "  * `education` — уровень образования клиента\n",
    "  * `education_id` — идентификатор уровня образования\n",
    "  * `family_status` — семейное положение\n",
    "  * `family_status_id` — идентификатор семейного положения\n",
    "  * `gender` — пол клиента\n",
    "  * `income_type` — тип занятости\n",
    "  * `debt` — имел ли задолженность по возврату кредитов\n",
    "  * `total_income` — ежемесячный доход\n",
    "  * `purpose` — цель получения кредита\n",
    "  \n",
    "Нарушений стиля в именовании колонок нет.\n",
    "\n",
    "В колонках `days_employed` и `total_income` количество значений отличается от других колонок. То есть в данных встречаются пропуски.\n",
    "\n",
    "Тип данных в колонке `days_employed` — вещественный, судя по документации должен быть целочисленным.\n",
    "\n",
    "Значения в колонке `days_employed` либо отрицательные, либо аномально высокие. Вероятно, отрицательные значения возникли из-за технической ошибки при подсчете в источнике данных. Аномальные значения могут быть получены из источника, который ведет подсчет не в днях (как в таблице), а в часах.\n",
    "\n",
    "В колонке `total_income` данные имеют 6 знаков после запятой, такой точности в случае суммы в рублях с копейками быть не должно, в данных может быть ошибка."
   ]
  },
  {
   "cell_type": "code",
   "execution_count": 5,
   "metadata": {},
   "outputs": [
    {
     "data": {
      "text/html": [
       "<div>\n",
       "<style scoped>\n",
       "    .dataframe tbody tr th:only-of-type {\n",
       "        vertical-align: middle;\n",
       "    }\n",
       "\n",
       "    .dataframe tbody tr th {\n",
       "        vertical-align: top;\n",
       "    }\n",
       "\n",
       "    .dataframe thead th {\n",
       "        text-align: right;\n",
       "    }\n",
       "</style>\n",
       "<table border=\"1\" class=\"dataframe\">\n",
       "  <thead>\n",
       "    <tr style=\"text-align: right;\">\n",
       "      <th></th>\n",
       "      <th>children</th>\n",
       "      <th>days_employed</th>\n",
       "      <th>dob_years</th>\n",
       "      <th>education_id</th>\n",
       "      <th>family_status_id</th>\n",
       "      <th>debt</th>\n",
       "      <th>total_income</th>\n",
       "    </tr>\n",
       "  </thead>\n",
       "  <tbody>\n",
       "    <tr>\n",
       "      <td>count</td>\n",
       "      <td>21525.000000</td>\n",
       "      <td>19351.000000</td>\n",
       "      <td>21525.000000</td>\n",
       "      <td>21525.000000</td>\n",
       "      <td>21525.000000</td>\n",
       "      <td>21525.000000</td>\n",
       "      <td>1.935100e+04</td>\n",
       "    </tr>\n",
       "    <tr>\n",
       "      <td>mean</td>\n",
       "      <td>0.538908</td>\n",
       "      <td>63046.497661</td>\n",
       "      <td>43.293380</td>\n",
       "      <td>0.817236</td>\n",
       "      <td>0.972544</td>\n",
       "      <td>0.080883</td>\n",
       "      <td>1.674223e+05</td>\n",
       "    </tr>\n",
       "    <tr>\n",
       "      <td>std</td>\n",
       "      <td>1.381587</td>\n",
       "      <td>140827.311974</td>\n",
       "      <td>12.574584</td>\n",
       "      <td>0.548138</td>\n",
       "      <td>1.420324</td>\n",
       "      <td>0.272661</td>\n",
       "      <td>1.029716e+05</td>\n",
       "    </tr>\n",
       "    <tr>\n",
       "      <td>min</td>\n",
       "      <td>-1.000000</td>\n",
       "      <td>-18388.949901</td>\n",
       "      <td>0.000000</td>\n",
       "      <td>0.000000</td>\n",
       "      <td>0.000000</td>\n",
       "      <td>0.000000</td>\n",
       "      <td>2.066726e+04</td>\n",
       "    </tr>\n",
       "    <tr>\n",
       "      <td>25%</td>\n",
       "      <td>0.000000</td>\n",
       "      <td>-2747.423625</td>\n",
       "      <td>33.000000</td>\n",
       "      <td>1.000000</td>\n",
       "      <td>0.000000</td>\n",
       "      <td>0.000000</td>\n",
       "      <td>1.030532e+05</td>\n",
       "    </tr>\n",
       "    <tr>\n",
       "      <td>50%</td>\n",
       "      <td>0.000000</td>\n",
       "      <td>-1203.369529</td>\n",
       "      <td>42.000000</td>\n",
       "      <td>1.000000</td>\n",
       "      <td>0.000000</td>\n",
       "      <td>0.000000</td>\n",
       "      <td>1.450179e+05</td>\n",
       "    </tr>\n",
       "    <tr>\n",
       "      <td>75%</td>\n",
       "      <td>1.000000</td>\n",
       "      <td>-291.095954</td>\n",
       "      <td>53.000000</td>\n",
       "      <td>1.000000</td>\n",
       "      <td>1.000000</td>\n",
       "      <td>0.000000</td>\n",
       "      <td>2.034351e+05</td>\n",
       "    </tr>\n",
       "    <tr>\n",
       "      <td>max</td>\n",
       "      <td>20.000000</td>\n",
       "      <td>401755.400475</td>\n",
       "      <td>75.000000</td>\n",
       "      <td>4.000000</td>\n",
       "      <td>4.000000</td>\n",
       "      <td>1.000000</td>\n",
       "      <td>2.265604e+06</td>\n",
       "    </tr>\n",
       "  </tbody>\n",
       "</table>\n",
       "</div>"
      ],
      "text/plain": [
       "           children  days_employed     dob_years  education_id  \\\n",
       "count  21525.000000   19351.000000  21525.000000  21525.000000   \n",
       "mean       0.538908   63046.497661     43.293380      0.817236   \n",
       "std        1.381587  140827.311974     12.574584      0.548138   \n",
       "min       -1.000000  -18388.949901      0.000000      0.000000   \n",
       "25%        0.000000   -2747.423625     33.000000      1.000000   \n",
       "50%        0.000000   -1203.369529     42.000000      1.000000   \n",
       "75%        1.000000    -291.095954     53.000000      1.000000   \n",
       "max       20.000000  401755.400475     75.000000      4.000000   \n",
       "\n",
       "       family_status_id          debt  total_income  \n",
       "count      21525.000000  21525.000000  1.935100e+04  \n",
       "mean           0.972544      0.080883  1.674223e+05  \n",
       "std            1.420324      0.272661  1.029716e+05  \n",
       "min            0.000000      0.000000  2.066726e+04  \n",
       "25%            0.000000      0.000000  1.030532e+05  \n",
       "50%            0.000000      0.000000  1.450179e+05  \n",
       "75%            1.000000      0.000000  2.034351e+05  \n",
       "max            4.000000      1.000000  2.265604e+06  "
      ]
     },
     "execution_count": 5,
     "metadata": {},
     "output_type": "execute_result"
    }
   ],
   "source": [
    "# Обзор датафрейма, получаем описательную статистику числовых столбцов\n",
    "df.describe()"
   ]
  },
  {
   "cell_type": "markdown",
   "metadata": {},
   "source": [
    "**Столбец children**\n",
    "\n",
    "Минимальное значение количества детей -1 ошибочное. Максимальное значение очень большое, но однозначно об ошибке не говорит.\n",
    "\n",
    "**Столбец days_employed**\n",
    "\n",
    "Минимальное значение стажа около 50 лет, но со знаком минус. Среди отрицательных значений аномалий нет. Такие значения заменим на модули, чтобы избавиться от знака минус.\n",
    "\n",
    "Максимальное значение в 1100 лет стажа аномально. Приняв, что это значение в часах, получим около 46 лет стажа. Версия о том, что аномальные значения приведены в часах подтверждается. Верхней границей возьмем значение 30000, соответствующее примерно 82 годам стажа (возраст 100 лет). Все значения выше примем за ошибочные и разделим на 24 часа, приведя к дням.\n",
    "\n",
    "**Столбец dob_years**\n",
    "\n",
    "Минимальное значение возраста в годах 0 - то есть клиенту нет года. Это аномальное значение.\n",
    "\n",
    "**Столбец total_income**\n",
    "\n",
    "Максимальное значение очень большое, но однозначно об ошибке не говорит."
   ]
  },
  {
   "cell_type": "code",
   "execution_count": 6,
   "metadata": {
    "scrolled": true
   },
   "outputs": [
    {
     "data": {
      "text/plain": [
       " 0     14149\n",
       " 1      4818\n",
       " 2      2055\n",
       " 3       330\n",
       " 20       76\n",
       "-1        47\n",
       " 4        41\n",
       " 5         9\n",
       "Name: children, dtype: int64"
      ]
     },
     "execution_count": 6,
     "metadata": {},
     "output_type": "execute_result"
    }
   ],
   "source": [
    "# Оценим количество ошибочных значений в столбце children\n",
    "df['children'].value_counts().sort_values(ascending=False)"
   ]
  },
  {
   "cell_type": "markdown",
   "metadata": {},
   "source": [
    "Максимальных значений 20 детей оказалось 76, скорее всего, эти данные ошибочны. Вероятно, это значение \"2,0\" из базы данных, которое некорректно интерпретировано как \"20\"."
   ]
  },
  {
   "cell_type": "markdown",
   "metadata": {},
   "source": [
    "**Выводы**\n",
    "\n",
    "В каждой строке таблицы — анонимные данные о клиентах кредитного отдела банка. Колонки описывают семейное положение, занятость, личные качества, финансовое состояние и цель получения кредита для каждого клиента. \n",
    "\n",
    "Предварительно можно утверждать, что данных достаточно для ответа на поставленные вопросы и вывода.\n",
    "\n",
    "В колонке `children` исправить отрицательные и аномальные значения.\n",
    "\n",
    "В колонке `days_employed` исправить отрицательные и аномальные значения, изменить тип данных на целочисленный.\n",
    "\n",
    "В колонке `dob_years` нулевые значения заменить на усредненные.\n",
    "\n",
    "В колонке `total_income` округлить значения до 2 знаков после запятой. Нужно устранить проблемы с пропусками в данных."
   ]
  },
  {
   "cell_type": "markdown",
   "metadata": {},
   "source": [
    "## Предобработка данных"
   ]
  },
  {
   "cell_type": "markdown",
   "metadata": {},
   "source": [
    "### Исправление количественных значений"
   ]
  },
  {
   "cell_type": "markdown",
   "metadata": {},
   "source": [
    "#### Столбец children"
   ]
  },
  {
   "cell_type": "code",
   "execution_count": 7,
   "metadata": {},
   "outputs": [
    {
     "data": {
      "text/plain": [
       "47"
      ]
     },
     "execution_count": 7,
     "metadata": {},
     "output_type": "execute_result"
    }
   ],
   "source": [
    "# Проверим количество строк датафрейма, где количество детей указано меньше 0\n",
    "df.loc[df['children'] < 0, 'children'].count()"
   ]
  },
  {
   "cell_type": "markdown",
   "metadata": {},
   "source": [
    "Вероятно, 47 строк с данными получены от источника с ошибкой в подсчете количества детей. Такие значения заменим на модули, чтобы избавиться от знака минус."
   ]
  },
  {
   "cell_type": "code",
   "execution_count": 8,
   "metadata": {},
   "outputs": [],
   "source": [
    "# Избавимся от отрицательных значений столбца children\n",
    "df['children'] = df['children'].apply(abs)"
   ]
  },
  {
   "cell_type": "code",
   "execution_count": 9,
   "metadata": {},
   "outputs": [
    {
     "data": {
      "text/plain": [
       "0    14149\n",
       "1     4865\n",
       "2     2131\n",
       "3      330\n",
       "4       41\n",
       "5        9\n",
       "Name: children, dtype: int64"
      ]
     },
     "execution_count": 9,
     "metadata": {},
     "output_type": "execute_result"
    }
   ],
   "source": [
    "# Заменим аномальные значения столбца children 20 на 2\n",
    "df.loc[df['children'] == 20, 'children'] = 2\n",
    "\n",
    "# Проверим значения столбца после исправления данных\n",
    "df['children'].value_counts().sort_values(ascending=False)"
   ]
  },
  {
   "cell_type": "markdown",
   "metadata": {},
   "source": [
    "#### Столбец days_employed"
   ]
  },
  {
   "cell_type": "code",
   "execution_count": 10,
   "metadata": {},
   "outputs": [],
   "source": [
    "# Избавляемся от отрицательных значений столбца days_employed\n",
    "df['days_employed'] = df['days_employed'].apply(abs)"
   ]
  },
  {
   "cell_type": "code",
   "execution_count": 11,
   "metadata": {},
   "outputs": [],
   "source": [
    "# Приводим аномальные значения столбца days_employed к правильным значениям\n",
    "df.loc[df['days_employed'] > 30000, 'days_employed'] = df.loc[df['days_employed'] > 30000, 'days_employed'] / 24"
   ]
  },
  {
   "cell_type": "code",
   "execution_count": 12,
   "metadata": {
    "scrolled": false
   },
   "outputs": [
    {
     "data": {
      "text/html": [
       "<div>\n",
       "<style scoped>\n",
       "    .dataframe tbody tr th:only-of-type {\n",
       "        vertical-align: middle;\n",
       "    }\n",
       "\n",
       "    .dataframe tbody tr th {\n",
       "        vertical-align: top;\n",
       "    }\n",
       "\n",
       "    .dataframe thead th {\n",
       "        text-align: right;\n",
       "    }\n",
       "</style>\n",
       "<table border=\"1\" class=\"dataframe\">\n",
       "  <thead>\n",
       "    <tr style=\"text-align: right;\">\n",
       "      <th></th>\n",
       "      <th>children</th>\n",
       "      <th>days_employed</th>\n",
       "      <th>dob_years</th>\n",
       "      <th>education</th>\n",
       "      <th>education_id</th>\n",
       "      <th>family_status</th>\n",
       "      <th>family_status_id</th>\n",
       "      <th>gender</th>\n",
       "      <th>income_type</th>\n",
       "      <th>debt</th>\n",
       "      <th>total_income</th>\n",
       "      <th>purpose</th>\n",
       "    </tr>\n",
       "  </thead>\n",
       "  <tbody>\n",
       "    <tr>\n",
       "      <td>0</td>\n",
       "      <td>1</td>\n",
       "      <td>8437.673028</td>\n",
       "      <td>42</td>\n",
       "      <td>высшее</td>\n",
       "      <td>0</td>\n",
       "      <td>женат / замужем</td>\n",
       "      <td>0</td>\n",
       "      <td>F</td>\n",
       "      <td>сотрудник</td>\n",
       "      <td>0</td>\n",
       "      <td>253875.639453</td>\n",
       "      <td>покупка жилья</td>\n",
       "    </tr>\n",
       "    <tr>\n",
       "      <td>1</td>\n",
       "      <td>1</td>\n",
       "      <td>4024.803754</td>\n",
       "      <td>36</td>\n",
       "      <td>среднее</td>\n",
       "      <td>1</td>\n",
       "      <td>женат / замужем</td>\n",
       "      <td>0</td>\n",
       "      <td>F</td>\n",
       "      <td>сотрудник</td>\n",
       "      <td>0</td>\n",
       "      <td>112080.014102</td>\n",
       "      <td>приобретение автомобиля</td>\n",
       "    </tr>\n",
       "    <tr>\n",
       "      <td>2</td>\n",
       "      <td>0</td>\n",
       "      <td>5623.422610</td>\n",
       "      <td>33</td>\n",
       "      <td>Среднее</td>\n",
       "      <td>1</td>\n",
       "      <td>женат / замужем</td>\n",
       "      <td>0</td>\n",
       "      <td>M</td>\n",
       "      <td>сотрудник</td>\n",
       "      <td>0</td>\n",
       "      <td>145885.952297</td>\n",
       "      <td>покупка жилья</td>\n",
       "    </tr>\n",
       "    <tr>\n",
       "      <td>3</td>\n",
       "      <td>3</td>\n",
       "      <td>4124.747207</td>\n",
       "      <td>32</td>\n",
       "      <td>среднее</td>\n",
       "      <td>1</td>\n",
       "      <td>женат / замужем</td>\n",
       "      <td>0</td>\n",
       "      <td>M</td>\n",
       "      <td>сотрудник</td>\n",
       "      <td>0</td>\n",
       "      <td>267628.550329</td>\n",
       "      <td>дополнительное образование</td>\n",
       "    </tr>\n",
       "    <tr>\n",
       "      <td>4</td>\n",
       "      <td>0</td>\n",
       "      <td>14177.753002</td>\n",
       "      <td>53</td>\n",
       "      <td>среднее</td>\n",
       "      <td>1</td>\n",
       "      <td>гражданский брак</td>\n",
       "      <td>1</td>\n",
       "      <td>F</td>\n",
       "      <td>пенсионер</td>\n",
       "      <td>0</td>\n",
       "      <td>158616.077870</td>\n",
       "      <td>сыграть свадьбу</td>\n",
       "    </tr>\n",
       "    <tr>\n",
       "      <td>5</td>\n",
       "      <td>0</td>\n",
       "      <td>926.185831</td>\n",
       "      <td>27</td>\n",
       "      <td>высшее</td>\n",
       "      <td>0</td>\n",
       "      <td>гражданский брак</td>\n",
       "      <td>1</td>\n",
       "      <td>M</td>\n",
       "      <td>компаньон</td>\n",
       "      <td>0</td>\n",
       "      <td>255763.565419</td>\n",
       "      <td>покупка жилья</td>\n",
       "    </tr>\n",
       "    <tr>\n",
       "      <td>6</td>\n",
       "      <td>0</td>\n",
       "      <td>2879.202052</td>\n",
       "      <td>43</td>\n",
       "      <td>высшее</td>\n",
       "      <td>0</td>\n",
       "      <td>женат / замужем</td>\n",
       "      <td>0</td>\n",
       "      <td>F</td>\n",
       "      <td>компаньон</td>\n",
       "      <td>0</td>\n",
       "      <td>240525.971920</td>\n",
       "      <td>операции с жильем</td>\n",
       "    </tr>\n",
       "    <tr>\n",
       "      <td>7</td>\n",
       "      <td>0</td>\n",
       "      <td>152.779569</td>\n",
       "      <td>50</td>\n",
       "      <td>СРЕДНЕЕ</td>\n",
       "      <td>1</td>\n",
       "      <td>женат / замужем</td>\n",
       "      <td>0</td>\n",
       "      <td>M</td>\n",
       "      <td>сотрудник</td>\n",
       "      <td>0</td>\n",
       "      <td>135823.934197</td>\n",
       "      <td>образование</td>\n",
       "    </tr>\n",
       "    <tr>\n",
       "      <td>8</td>\n",
       "      <td>2</td>\n",
       "      <td>6929.865299</td>\n",
       "      <td>35</td>\n",
       "      <td>ВЫСШЕЕ</td>\n",
       "      <td>0</td>\n",
       "      <td>гражданский брак</td>\n",
       "      <td>1</td>\n",
       "      <td>F</td>\n",
       "      <td>сотрудник</td>\n",
       "      <td>0</td>\n",
       "      <td>95856.832424</td>\n",
       "      <td>на проведение свадьбы</td>\n",
       "    </tr>\n",
       "    <tr>\n",
       "      <td>9</td>\n",
       "      <td>0</td>\n",
       "      <td>2188.756445</td>\n",
       "      <td>41</td>\n",
       "      <td>среднее</td>\n",
       "      <td>1</td>\n",
       "      <td>женат / замужем</td>\n",
       "      <td>0</td>\n",
       "      <td>M</td>\n",
       "      <td>сотрудник</td>\n",
       "      <td>0</td>\n",
       "      <td>144425.938277</td>\n",
       "      <td>покупка жилья для семьи</td>\n",
       "    </tr>\n",
       "  </tbody>\n",
       "</table>\n",
       "</div>"
      ],
      "text/plain": [
       "   children  days_employed  dob_years education  education_id  \\\n",
       "0         1    8437.673028         42    высшее             0   \n",
       "1         1    4024.803754         36   среднее             1   \n",
       "2         0    5623.422610         33   Среднее             1   \n",
       "3         3    4124.747207         32   среднее             1   \n",
       "4         0   14177.753002         53   среднее             1   \n",
       "5         0     926.185831         27    высшее             0   \n",
       "6         0    2879.202052         43    высшее             0   \n",
       "7         0     152.779569         50   СРЕДНЕЕ             1   \n",
       "8         2    6929.865299         35    ВЫСШЕЕ             0   \n",
       "9         0    2188.756445         41   среднее             1   \n",
       "\n",
       "      family_status  family_status_id gender income_type  debt   total_income  \\\n",
       "0   женат / замужем                 0      F   сотрудник     0  253875.639453   \n",
       "1   женат / замужем                 0      F   сотрудник     0  112080.014102   \n",
       "2   женат / замужем                 0      M   сотрудник     0  145885.952297   \n",
       "3   женат / замужем                 0      M   сотрудник     0  267628.550329   \n",
       "4  гражданский брак                 1      F   пенсионер     0  158616.077870   \n",
       "5  гражданский брак                 1      M   компаньон     0  255763.565419   \n",
       "6   женат / замужем                 0      F   компаньон     0  240525.971920   \n",
       "7   женат / замужем                 0      M   сотрудник     0  135823.934197   \n",
       "8  гражданский брак                 1      F   сотрудник     0   95856.832424   \n",
       "9   женат / замужем                 0      M   сотрудник     0  144425.938277   \n",
       "\n",
       "                      purpose  \n",
       "0               покупка жилья  \n",
       "1     приобретение автомобиля  \n",
       "2               покупка жилья  \n",
       "3  дополнительное образование  \n",
       "4             сыграть свадьбу  \n",
       "5               покупка жилья  \n",
       "6           операции с жильем  \n",
       "7                 образование  \n",
       "8       на проведение свадьбы  \n",
       "9     покупка жилья для семьи  "
      ]
     },
     "execution_count": 12,
     "metadata": {},
     "output_type": "execute_result"
    }
   ],
   "source": [
    "# Проверяем исправление данных\n",
    "df.head(10)"
   ]
  },
  {
   "cell_type": "markdown",
   "metadata": {},
   "source": [
    "#### Столбец dob_years"
   ]
  },
  {
   "cell_type": "code",
   "execution_count": 13,
   "metadata": {},
   "outputs": [
    {
     "data": {
      "text/plain": [
       "101"
      ]
     },
     "execution_count": 13,
     "metadata": {},
     "output_type": "execute_result"
    }
   ],
   "source": [
    "# Проверим количество строк датафрейма, где возраст менее 18 лет\n",
    "df.loc[df['dob_years'] < 18, 'dob_years'].count()"
   ]
  },
  {
   "cell_type": "code",
   "execution_count": 14,
   "metadata": {},
   "outputs": [
    {
     "data": {
      "text/plain": [
       "0"
      ]
     },
     "execution_count": 14,
     "metadata": {},
     "output_type": "execute_result"
    }
   ],
   "source": [
    "# Проверим, что все строки с возврастом менее 18 лет на самом деле нули\n",
    "df.loc[(df['dob_years'] < 18) & (df['dob_years'] != 0), 'dob_years'].count()"
   ]
  },
  {
   "cell_type": "markdown",
   "metadata": {},
   "source": [
    "101 строка содежит возраст клиента равный 0, что говорит об ошибке в данных. Вероятно, такая ошибка могла появится после заполнения нулями отсутствующих значений. Обработаем ошибочные данные как пропуски. Заменим нули на средние значения возраста, рассчитанное для каждого типа занятости."
   ]
  },
  {
   "cell_type": "code",
   "execution_count": 15,
   "metadata": {},
   "outputs": [],
   "source": [
    "# Получаем все типы занятости для клиентов с нулевыми значениями в столбце возраст\n",
    "# Определяем средние значения возраста для каждого типа занятости, выводим значения\n",
    "# Заполняем полученными величинами пропуски в строках с соответствующими типами занятости\n",
    "for income_type in df['income_type'].unique():\n",
    "    mean = df.loc[df['income_type'] == income_type, 'dob_years'].mean()\n",
    "    df.loc[(df['dob_years'] ==0) & (df['income_type'] == income_type), 'dob_years'] = mean"
   ]
  },
  {
   "cell_type": "code",
   "execution_count": 16,
   "metadata": {},
   "outputs": [
    {
     "data": {
      "text/plain": [
       "0"
      ]
     },
     "execution_count": 16,
     "metadata": {},
     "output_type": "execute_result"
    }
   ],
   "source": [
    "# Проверяем исправление нулевых значений в столбце dob_years\n",
    "df.loc[df['dob_years'] == 0, 'dob_years'].count()"
   ]
  },
  {
   "cell_type": "markdown",
   "metadata": {},
   "source": [
    "**Вывод**\n",
    "\n",
    "Отрицательные значения в колонках `children` и `days_employed` заменены положительными, аномальные значения в этих же колонках приведены к корректным.\n",
    "\n",
    "Нулевые значения в колонке `dob_years` заменены на усредненные."
   ]
  },
  {
   "cell_type": "markdown",
   "metadata": {},
   "source": [
    "### Обработка пропусков"
   ]
  },
  {
   "cell_type": "code",
   "execution_count": 17,
   "metadata": {
    "scrolled": true
   },
   "outputs": [
    {
     "data": {
      "text/plain": [
       "children               0\n",
       "days_employed       2174\n",
       "dob_years              0\n",
       "education              0\n",
       "education_id           0\n",
       "family_status          0\n",
       "family_status_id       0\n",
       "gender                 0\n",
       "income_type            0\n",
       "debt                   0\n",
       "total_income        2174\n",
       "purpose                0\n",
       "dtype: int64"
      ]
     },
     "execution_count": 17,
     "metadata": {},
     "output_type": "execute_result"
    }
   ],
   "source": [
    "# Подсчитаем пропуски в данных\n",
    "df.isna().sum()"
   ]
  },
  {
   "cell_type": "markdown",
   "metadata": {},
   "source": [
    "Как было отмечено выше, пропуски встречаются только в столбцах `days_employed` и `total_income`. Объем отсутсвующих данных существенный - 10%. Отсутствующие данные в этих столбцах могут повлиять на результаты исследования. Поскольку число пропусков для обоих столбцов совпадает, попробуем найти причину отсутствия данных. Выясним, есть ли определенные категории клиентов, у которых данные отсутствуют или пропуски распределены равномерно по всей таблице."
   ]
  },
  {
   "cell_type": "code",
   "execution_count": 18,
   "metadata": {},
   "outputs": [
    {
     "data": {
      "text/plain": [
       "2174"
      ]
     },
     "execution_count": 18,
     "metadata": {},
     "output_type": "execute_result"
    }
   ],
   "source": [
    "# Проверим, что пропуски в 2-х колонках действительно у одних и тех же клиентов\n",
    "df_nan_filtered = df[df['days_employed'].isna()]\n",
    "df_nan_filtered = df_nan_filtered[df_nan_filtered['total_income'].isna()]\n",
    "len(df_nan_filtered)"
   ]
  },
  {
   "cell_type": "markdown",
   "metadata": {},
   "source": [
    "Проверка подтвердила, что у 2174 клиентов пропущены данные сразу в двух столбцах (`days_employed` и `total_income`).\n",
    "\n",
    "Из этого можно сделать два вывода:\n",
    "\n",
    "  1. Такие клиенты не имеют трудового стажа и ежемесячного дохода.\n",
    "  2. Это результат технической ошибки - данные не было заведены или выгрузились некорректно."
   ]
  },
  {
   "cell_type": "code",
   "execution_count": 19,
   "metadata": {},
   "outputs": [
    {
     "data": {
      "text/html": [
       "<div>\n",
       "<style scoped>\n",
       "    .dataframe tbody tr th:only-of-type {\n",
       "        vertical-align: middle;\n",
       "    }\n",
       "\n",
       "    .dataframe tbody tr th {\n",
       "        vertical-align: top;\n",
       "    }\n",
       "\n",
       "    .dataframe thead th {\n",
       "        text-align: right;\n",
       "    }\n",
       "</style>\n",
       "<table border=\"1\" class=\"dataframe\">\n",
       "  <thead>\n",
       "    <tr style=\"text-align: right;\">\n",
       "      <th></th>\n",
       "      <th>children</th>\n",
       "      <th>days_employed</th>\n",
       "      <th>dob_years</th>\n",
       "      <th>education</th>\n",
       "      <th>education_id</th>\n",
       "      <th>family_status</th>\n",
       "      <th>family_status_id</th>\n",
       "      <th>gender</th>\n",
       "      <th>income_type</th>\n",
       "      <th>debt</th>\n",
       "      <th>total_income</th>\n",
       "      <th>purpose</th>\n",
       "    </tr>\n",
       "  </thead>\n",
       "  <tbody>\n",
       "    <tr>\n",
       "      <td>12</td>\n",
       "      <td>0</td>\n",
       "      <td>NaN</td>\n",
       "      <td>65.0</td>\n",
       "      <td>среднее</td>\n",
       "      <td>1</td>\n",
       "      <td>гражданский брак</td>\n",
       "      <td>1</td>\n",
       "      <td>M</td>\n",
       "      <td>пенсионер</td>\n",
       "      <td>0</td>\n",
       "      <td>NaN</td>\n",
       "      <td>сыграть свадьбу</td>\n",
       "    </tr>\n",
       "    <tr>\n",
       "      <td>26</td>\n",
       "      <td>0</td>\n",
       "      <td>NaN</td>\n",
       "      <td>41.0</td>\n",
       "      <td>среднее</td>\n",
       "      <td>1</td>\n",
       "      <td>женат / замужем</td>\n",
       "      <td>0</td>\n",
       "      <td>M</td>\n",
       "      <td>госслужащий</td>\n",
       "      <td>0</td>\n",
       "      <td>NaN</td>\n",
       "      <td>образование</td>\n",
       "    </tr>\n",
       "    <tr>\n",
       "      <td>29</td>\n",
       "      <td>0</td>\n",
       "      <td>NaN</td>\n",
       "      <td>63.0</td>\n",
       "      <td>среднее</td>\n",
       "      <td>1</td>\n",
       "      <td>Не женат / не замужем</td>\n",
       "      <td>4</td>\n",
       "      <td>F</td>\n",
       "      <td>пенсионер</td>\n",
       "      <td>0</td>\n",
       "      <td>NaN</td>\n",
       "      <td>строительство жилой недвижимости</td>\n",
       "    </tr>\n",
       "    <tr>\n",
       "      <td>41</td>\n",
       "      <td>0</td>\n",
       "      <td>NaN</td>\n",
       "      <td>50.0</td>\n",
       "      <td>среднее</td>\n",
       "      <td>1</td>\n",
       "      <td>женат / замужем</td>\n",
       "      <td>0</td>\n",
       "      <td>F</td>\n",
       "      <td>госслужащий</td>\n",
       "      <td>0</td>\n",
       "      <td>NaN</td>\n",
       "      <td>сделка с подержанным автомобилем</td>\n",
       "    </tr>\n",
       "    <tr>\n",
       "      <td>55</td>\n",
       "      <td>0</td>\n",
       "      <td>NaN</td>\n",
       "      <td>54.0</td>\n",
       "      <td>среднее</td>\n",
       "      <td>1</td>\n",
       "      <td>гражданский брак</td>\n",
       "      <td>1</td>\n",
       "      <td>F</td>\n",
       "      <td>пенсионер</td>\n",
       "      <td>1</td>\n",
       "      <td>NaN</td>\n",
       "      <td>сыграть свадьбу</td>\n",
       "    </tr>\n",
       "    <tr>\n",
       "      <td>65</td>\n",
       "      <td>0</td>\n",
       "      <td>NaN</td>\n",
       "      <td>21.0</td>\n",
       "      <td>среднее</td>\n",
       "      <td>1</td>\n",
       "      <td>Не женат / не замужем</td>\n",
       "      <td>4</td>\n",
       "      <td>M</td>\n",
       "      <td>компаньон</td>\n",
       "      <td>0</td>\n",
       "      <td>NaN</td>\n",
       "      <td>операции с коммерческой недвижимостью</td>\n",
       "    </tr>\n",
       "    <tr>\n",
       "      <td>67</td>\n",
       "      <td>0</td>\n",
       "      <td>NaN</td>\n",
       "      <td>52.0</td>\n",
       "      <td>высшее</td>\n",
       "      <td>0</td>\n",
       "      <td>женат / замужем</td>\n",
       "      <td>0</td>\n",
       "      <td>F</td>\n",
       "      <td>пенсионер</td>\n",
       "      <td>0</td>\n",
       "      <td>NaN</td>\n",
       "      <td>покупка жилья для семьи</td>\n",
       "    </tr>\n",
       "    <tr>\n",
       "      <td>72</td>\n",
       "      <td>1</td>\n",
       "      <td>NaN</td>\n",
       "      <td>32.0</td>\n",
       "      <td>высшее</td>\n",
       "      <td>0</td>\n",
       "      <td>женат / замужем</td>\n",
       "      <td>0</td>\n",
       "      <td>M</td>\n",
       "      <td>госслужащий</td>\n",
       "      <td>0</td>\n",
       "      <td>NaN</td>\n",
       "      <td>операции с коммерческой недвижимостью</td>\n",
       "    </tr>\n",
       "    <tr>\n",
       "      <td>82</td>\n",
       "      <td>2</td>\n",
       "      <td>NaN</td>\n",
       "      <td>50.0</td>\n",
       "      <td>высшее</td>\n",
       "      <td>0</td>\n",
       "      <td>женат / замужем</td>\n",
       "      <td>0</td>\n",
       "      <td>F</td>\n",
       "      <td>сотрудник</td>\n",
       "      <td>0</td>\n",
       "      <td>NaN</td>\n",
       "      <td>жилье</td>\n",
       "    </tr>\n",
       "    <tr>\n",
       "      <td>83</td>\n",
       "      <td>0</td>\n",
       "      <td>NaN</td>\n",
       "      <td>52.0</td>\n",
       "      <td>среднее</td>\n",
       "      <td>1</td>\n",
       "      <td>женат / замужем</td>\n",
       "      <td>0</td>\n",
       "      <td>M</td>\n",
       "      <td>сотрудник</td>\n",
       "      <td>0</td>\n",
       "      <td>NaN</td>\n",
       "      <td>жилье</td>\n",
       "    </tr>\n",
       "  </tbody>\n",
       "</table>\n",
       "</div>"
      ],
      "text/plain": [
       "    children  days_employed  dob_years education  education_id  \\\n",
       "12         0            NaN       65.0   среднее             1   \n",
       "26         0            NaN       41.0   среднее             1   \n",
       "29         0            NaN       63.0   среднее             1   \n",
       "41         0            NaN       50.0   среднее             1   \n",
       "55         0            NaN       54.0   среднее             1   \n",
       "65         0            NaN       21.0   среднее             1   \n",
       "67         0            NaN       52.0    высшее             0   \n",
       "72         1            NaN       32.0    высшее             0   \n",
       "82         2            NaN       50.0    высшее             0   \n",
       "83         0            NaN       52.0   среднее             1   \n",
       "\n",
       "            family_status  family_status_id gender  income_type  debt  \\\n",
       "12       гражданский брак                 1      M    пенсионер     0   \n",
       "26        женат / замужем                 0      M  госслужащий     0   \n",
       "29  Не женат / не замужем                 4      F    пенсионер     0   \n",
       "41        женат / замужем                 0      F  госслужащий     0   \n",
       "55       гражданский брак                 1      F    пенсионер     1   \n",
       "65  Не женат / не замужем                 4      M    компаньон     0   \n",
       "67        женат / замужем                 0      F    пенсионер     0   \n",
       "72        женат / замужем                 0      M  госслужащий     0   \n",
       "82        женат / замужем                 0      F    сотрудник     0   \n",
       "83        женат / замужем                 0      M    сотрудник     0   \n",
       "\n",
       "    total_income                                purpose  \n",
       "12           NaN                        сыграть свадьбу  \n",
       "26           NaN                            образование  \n",
       "29           NaN       строительство жилой недвижимости  \n",
       "41           NaN       сделка с подержанным автомобилем  \n",
       "55           NaN                        сыграть свадьбу  \n",
       "65           NaN  операции с коммерческой недвижимостью  \n",
       "67           NaN                покупка жилья для семьи  \n",
       "72           NaN  операции с коммерческой недвижимостью  \n",
       "82           NaN                                  жилье  \n",
       "83           NaN                                  жилье  "
      ]
     },
     "execution_count": 19,
     "metadata": {},
     "output_type": "execute_result"
    }
   ],
   "source": [
    "# Выведем список первых 10 строк списка клиентов с пропусками в 2-х столбцах\n",
    "df_nan_filtered.head(10)"
   ]
  },
  {
   "cell_type": "markdown",
   "metadata": {},
   "source": [
    "По первым строкам видно, что тип занятости `income_type` этих клиентов самый разный (`пенсионер`, `госслужащий`, `компаньон`, `сотрудник`). Клиенты с таким статусом не могут иметь отсутствующий трудовой стаж и ежемесячный доход.\n",
    "\n",
    "Для 2174 клиентов данные отсутствуют в результате технической ошибки.\n",
    "\n",
    "Для продолжения исследования заполним пропуски в столбцах `days_employed` и `total_income` характерными значениями. По логике, наибольшее влияние на эти столбцы оказывает тип занятости в столбце `income_type`. Найдем среднее значение общего трудового стажа и медианный ежемесячный доход для каждого типа занятости. Полученные значения используем для заполненения пропущенных данных клиентов, исходя из их типа занятости."
   ]
  },
  {
   "cell_type": "code",
   "execution_count": 20,
   "metadata": {},
   "outputs": [],
   "source": [
    "# Рассчитаем средние значения трудового стажа и медианные значения\n",
    "# дохода для каждого типа занятости. В строки с пропусками значений\n",
    "# трудового стажа и дохода записывает расчетные значения\n",
    "df['days_employed_mean'] = df.groupby('income_type')['days_employed'].transform('mean')\n",
    "df['total_income_median'] = df.groupby('income_type')['total_income'].transform('median')\n",
    "\n",
    "df.loc[df['days_employed'].isna(), 'days_employed'] = df['days_employed_mean']\n",
    "df.loc[df['total_income'].isna(), 'total_income'] = df['total_income_median']"
   ]
  },
  {
   "cell_type": "code",
   "execution_count": 21,
   "metadata": {},
   "outputs": [],
   "source": [
    "# Определяем средние значения трудового стажа для каждого типа занятости, выводим значения\n",
    "# Определяем медианные значения дохода для каждого типа занятости, выводим значения\n",
    "# Заполняем полученными величинами пропуски в строках с соответствующими типами занятости\n",
    "#for income_type in df_nan_filtered['income_type'].unique():\n",
    "#    mean = df.loc[df['income_type'] == income_type, 'days_employed'].mean()\n",
    "#    median = df.loc[df['income_type'] == income_type, 'total_income'].median()\n",
    "#    print(f'Тип: {income_type}, средний стаж: {mean:.0f}, медианный доход: {median:.2f}')\n",
    "#    df.loc[(df['days_employed'].isna()) & (df['income_type'] == income_type), 'days_employed'] = mean\n",
    "#    df.loc[(df['total_income'].isna()) & (df['income_type'] == income_type), 'total_income'] = median"
   ]
  },
  {
   "cell_type": "code",
   "execution_count": 22,
   "metadata": {},
   "outputs": [
    {
     "data": {
      "text/plain": [
       "children               0\n",
       "days_employed          0\n",
       "dob_years              0\n",
       "education              0\n",
       "education_id           0\n",
       "family_status          0\n",
       "family_status_id       0\n",
       "gender                 0\n",
       "income_type            0\n",
       "debt                   0\n",
       "total_income           0\n",
       "purpose                0\n",
       "days_employed_mean     0\n",
       "total_income_median    0\n",
       "dtype: int64"
      ]
     },
     "execution_count": 22,
     "metadata": {},
     "output_type": "execute_result"
    }
   ],
   "source": [
    "# Проверяем заполнение пропусков\n",
    "df.isna().sum()"
   ]
  },
  {
   "cell_type": "markdown",
   "metadata": {},
   "source": [
    "**Вывод**\n",
    "\n",
    "Пропуски в датафрейме успешно удалены."
   ]
  },
  {
   "cell_type": "markdown",
   "metadata": {},
   "source": [
    "### Замена типа данных"
   ]
  },
  {
   "cell_type": "markdown",
   "metadata": {},
   "source": [
    "Заменим тип данных в колонке `days_employed` на целочисленный с помощью функции `Pandas DataFrame.astype()`. Для получения более точного результата предварительно округлим до ближайшего целого числа значения колонки.\n",
    "\n",
    "В колонке `total_income` округлим значения до 2 знаков после запятой."
   ]
  },
  {
   "cell_type": "code",
   "execution_count": 23,
   "metadata": {},
   "outputs": [],
   "source": [
    "# Округлим и изменим тип данных в колонке days_employed\n",
    "df['days_employed'] = df['days_employed'].round().astype('int')"
   ]
  },
  {
   "cell_type": "code",
   "execution_count": 24,
   "metadata": {},
   "outputs": [],
   "source": [
    "# Округлим значения в колонке total_income\n",
    "df['total_income'] = df['total_income'].round(2)"
   ]
  },
  {
   "cell_type": "code",
   "execution_count": 25,
   "metadata": {},
   "outputs": [
    {
     "data": {
      "text/html": [
       "<div>\n",
       "<style scoped>\n",
       "    .dataframe tbody tr th:only-of-type {\n",
       "        vertical-align: middle;\n",
       "    }\n",
       "\n",
       "    .dataframe tbody tr th {\n",
       "        vertical-align: top;\n",
       "    }\n",
       "\n",
       "    .dataframe thead th {\n",
       "        text-align: right;\n",
       "    }\n",
       "</style>\n",
       "<table border=\"1\" class=\"dataframe\">\n",
       "  <thead>\n",
       "    <tr style=\"text-align: right;\">\n",
       "      <th></th>\n",
       "      <th>children</th>\n",
       "      <th>days_employed</th>\n",
       "      <th>dob_years</th>\n",
       "      <th>education</th>\n",
       "      <th>education_id</th>\n",
       "      <th>family_status</th>\n",
       "      <th>family_status_id</th>\n",
       "      <th>gender</th>\n",
       "      <th>income_type</th>\n",
       "      <th>debt</th>\n",
       "      <th>total_income</th>\n",
       "      <th>purpose</th>\n",
       "      <th>days_employed_mean</th>\n",
       "      <th>total_income_median</th>\n",
       "    </tr>\n",
       "  </thead>\n",
       "  <tbody>\n",
       "    <tr>\n",
       "      <td>0</td>\n",
       "      <td>1</td>\n",
       "      <td>8438</td>\n",
       "      <td>42.0</td>\n",
       "      <td>высшее</td>\n",
       "      <td>0</td>\n",
       "      <td>женат / замужем</td>\n",
       "      <td>0</td>\n",
       "      <td>F</td>\n",
       "      <td>сотрудник</td>\n",
       "      <td>0</td>\n",
       "      <td>253875.64</td>\n",
       "      <td>покупка жилья</td>\n",
       "      <td>2326.499216</td>\n",
       "      <td>142594.396847</td>\n",
       "    </tr>\n",
       "    <tr>\n",
       "      <td>1</td>\n",
       "      <td>1</td>\n",
       "      <td>4025</td>\n",
       "      <td>36.0</td>\n",
       "      <td>среднее</td>\n",
       "      <td>1</td>\n",
       "      <td>женат / замужем</td>\n",
       "      <td>0</td>\n",
       "      <td>F</td>\n",
       "      <td>сотрудник</td>\n",
       "      <td>0</td>\n",
       "      <td>112080.01</td>\n",
       "      <td>приобретение автомобиля</td>\n",
       "      <td>2326.499216</td>\n",
       "      <td>142594.396847</td>\n",
       "    </tr>\n",
       "    <tr>\n",
       "      <td>2</td>\n",
       "      <td>0</td>\n",
       "      <td>5623</td>\n",
       "      <td>33.0</td>\n",
       "      <td>Среднее</td>\n",
       "      <td>1</td>\n",
       "      <td>женат / замужем</td>\n",
       "      <td>0</td>\n",
       "      <td>M</td>\n",
       "      <td>сотрудник</td>\n",
       "      <td>0</td>\n",
       "      <td>145885.95</td>\n",
       "      <td>покупка жилья</td>\n",
       "      <td>2326.499216</td>\n",
       "      <td>142594.396847</td>\n",
       "    </tr>\n",
       "    <tr>\n",
       "      <td>3</td>\n",
       "      <td>3</td>\n",
       "      <td>4125</td>\n",
       "      <td>32.0</td>\n",
       "      <td>среднее</td>\n",
       "      <td>1</td>\n",
       "      <td>женат / замужем</td>\n",
       "      <td>0</td>\n",
       "      <td>M</td>\n",
       "      <td>сотрудник</td>\n",
       "      <td>0</td>\n",
       "      <td>267628.55</td>\n",
       "      <td>дополнительное образование</td>\n",
       "      <td>2326.499216</td>\n",
       "      <td>142594.396847</td>\n",
       "    </tr>\n",
       "    <tr>\n",
       "      <td>4</td>\n",
       "      <td>0</td>\n",
       "      <td>14178</td>\n",
       "      <td>53.0</td>\n",
       "      <td>среднее</td>\n",
       "      <td>1</td>\n",
       "      <td>гражданский брак</td>\n",
       "      <td>1</td>\n",
       "      <td>F</td>\n",
       "      <td>пенсионер</td>\n",
       "      <td>0</td>\n",
       "      <td>158616.08</td>\n",
       "      <td>сыграть свадьбу</td>\n",
       "      <td>15208.478802</td>\n",
       "      <td>118514.486412</td>\n",
       "    </tr>\n",
       "    <tr>\n",
       "      <td>5</td>\n",
       "      <td>0</td>\n",
       "      <td>926</td>\n",
       "      <td>27.0</td>\n",
       "      <td>высшее</td>\n",
       "      <td>0</td>\n",
       "      <td>гражданский брак</td>\n",
       "      <td>1</td>\n",
       "      <td>M</td>\n",
       "      <td>компаньон</td>\n",
       "      <td>0</td>\n",
       "      <td>255763.57</td>\n",
       "      <td>покупка жилья</td>\n",
       "      <td>2111.524398</td>\n",
       "      <td>172357.950966</td>\n",
       "    </tr>\n",
       "    <tr>\n",
       "      <td>6</td>\n",
       "      <td>0</td>\n",
       "      <td>2879</td>\n",
       "      <td>43.0</td>\n",
       "      <td>высшее</td>\n",
       "      <td>0</td>\n",
       "      <td>женат / замужем</td>\n",
       "      <td>0</td>\n",
       "      <td>F</td>\n",
       "      <td>компаньон</td>\n",
       "      <td>0</td>\n",
       "      <td>240525.97</td>\n",
       "      <td>операции с жильем</td>\n",
       "      <td>2111.524398</td>\n",
       "      <td>172357.950966</td>\n",
       "    </tr>\n",
       "    <tr>\n",
       "      <td>7</td>\n",
       "      <td>0</td>\n",
       "      <td>153</td>\n",
       "      <td>50.0</td>\n",
       "      <td>СРЕДНЕЕ</td>\n",
       "      <td>1</td>\n",
       "      <td>женат / замужем</td>\n",
       "      <td>0</td>\n",
       "      <td>M</td>\n",
       "      <td>сотрудник</td>\n",
       "      <td>0</td>\n",
       "      <td>135823.93</td>\n",
       "      <td>образование</td>\n",
       "      <td>2326.499216</td>\n",
       "      <td>142594.396847</td>\n",
       "    </tr>\n",
       "    <tr>\n",
       "      <td>8</td>\n",
       "      <td>2</td>\n",
       "      <td>6930</td>\n",
       "      <td>35.0</td>\n",
       "      <td>ВЫСШЕЕ</td>\n",
       "      <td>0</td>\n",
       "      <td>гражданский брак</td>\n",
       "      <td>1</td>\n",
       "      <td>F</td>\n",
       "      <td>сотрудник</td>\n",
       "      <td>0</td>\n",
       "      <td>95856.83</td>\n",
       "      <td>на проведение свадьбы</td>\n",
       "      <td>2326.499216</td>\n",
       "      <td>142594.396847</td>\n",
       "    </tr>\n",
       "    <tr>\n",
       "      <td>9</td>\n",
       "      <td>0</td>\n",
       "      <td>2189</td>\n",
       "      <td>41.0</td>\n",
       "      <td>среднее</td>\n",
       "      <td>1</td>\n",
       "      <td>женат / замужем</td>\n",
       "      <td>0</td>\n",
       "      <td>M</td>\n",
       "      <td>сотрудник</td>\n",
       "      <td>0</td>\n",
       "      <td>144425.94</td>\n",
       "      <td>покупка жилья для семьи</td>\n",
       "      <td>2326.499216</td>\n",
       "      <td>142594.396847</td>\n",
       "    </tr>\n",
       "  </tbody>\n",
       "</table>\n",
       "</div>"
      ],
      "text/plain": [
       "   children  days_employed  dob_years education  education_id  \\\n",
       "0         1           8438       42.0    высшее             0   \n",
       "1         1           4025       36.0   среднее             1   \n",
       "2         0           5623       33.0   Среднее             1   \n",
       "3         3           4125       32.0   среднее             1   \n",
       "4         0          14178       53.0   среднее             1   \n",
       "5         0            926       27.0    высшее             0   \n",
       "6         0           2879       43.0    высшее             0   \n",
       "7         0            153       50.0   СРЕДНЕЕ             1   \n",
       "8         2           6930       35.0    ВЫСШЕЕ             0   \n",
       "9         0           2189       41.0   среднее             1   \n",
       "\n",
       "      family_status  family_status_id gender income_type  debt  total_income  \\\n",
       "0   женат / замужем                 0      F   сотрудник     0     253875.64   \n",
       "1   женат / замужем                 0      F   сотрудник     0     112080.01   \n",
       "2   женат / замужем                 0      M   сотрудник     0     145885.95   \n",
       "3   женат / замужем                 0      M   сотрудник     0     267628.55   \n",
       "4  гражданский брак                 1      F   пенсионер     0     158616.08   \n",
       "5  гражданский брак                 1      M   компаньон     0     255763.57   \n",
       "6   женат / замужем                 0      F   компаньон     0     240525.97   \n",
       "7   женат / замужем                 0      M   сотрудник     0     135823.93   \n",
       "8  гражданский брак                 1      F   сотрудник     0      95856.83   \n",
       "9   женат / замужем                 0      M   сотрудник     0     144425.94   \n",
       "\n",
       "                      purpose  days_employed_mean  total_income_median  \n",
       "0               покупка жилья         2326.499216        142594.396847  \n",
       "1     приобретение автомобиля         2326.499216        142594.396847  \n",
       "2               покупка жилья         2326.499216        142594.396847  \n",
       "3  дополнительное образование         2326.499216        142594.396847  \n",
       "4             сыграть свадьбу        15208.478802        118514.486412  \n",
       "5               покупка жилья         2111.524398        172357.950966  \n",
       "6           операции с жильем         2111.524398        172357.950966  \n",
       "7                 образование         2326.499216        142594.396847  \n",
       "8       на проведение свадьбы         2326.499216        142594.396847  \n",
       "9     покупка жилья для семьи         2326.499216        142594.396847  "
      ]
     },
     "execution_count": 25,
     "metadata": {},
     "output_type": "execute_result"
    }
   ],
   "source": [
    "# Проверим результат, выведем первые 10 строк датафрейма\n",
    "df.head(10)"
   ]
  },
  {
   "cell_type": "markdown",
   "metadata": {},
   "source": [
    "**Вывод**\n",
    "\n",
    "Замена типа данных и округления проведены успешно."
   ]
  },
  {
   "cell_type": "markdown",
   "metadata": {},
   "source": [
    "### Обработка дубликатов"
   ]
  },
  {
   "cell_type": "markdown",
   "metadata": {},
   "source": [
    "#### Явные дубликаты"
   ]
  },
  {
   "cell_type": "code",
   "execution_count": 26,
   "metadata": {},
   "outputs": [
    {
     "data": {
      "text/plain": [
       "54"
      ]
     },
     "execution_count": 26,
     "metadata": {},
     "output_type": "execute_result"
    }
   ],
   "source": [
    "# Посчитаем явные строковые дубликаты\n",
    "df.duplicated().sum()"
   ]
  },
  {
   "cell_type": "markdown",
   "metadata": {},
   "source": [
    "В строках найдено 54 полных дубликата. Вероятно, их появление связано с некорректным объединением баз данных. Удалим такие строки из датафрейма."
   ]
  },
  {
   "cell_type": "code",
   "execution_count": 27,
   "metadata": {},
   "outputs": [],
   "source": [
    "# Удаляем явные дубликаты с удалением старых индексов и формированием новых\n",
    "df = df.drop_duplicates().reset_index(drop=True)"
   ]
  },
  {
   "cell_type": "code",
   "execution_count": 28,
   "metadata": {},
   "outputs": [
    {
     "data": {
      "text/plain": [
       "0"
      ]
     },
     "execution_count": 28,
     "metadata": {},
     "output_type": "execute_result"
    }
   ],
   "source": [
    "# Проверяем удаление\n",
    "df.duplicated().sum()"
   ]
  },
  {
   "cell_type": "markdown",
   "metadata": {},
   "source": [
    "В датафрейме явные дубликаты удалены успешно."
   ]
  },
  {
   "cell_type": "markdown",
   "metadata": {},
   "source": [
    "#### Неявные дубликаты"
   ]
  },
  {
   "cell_type": "markdown",
   "metadata": {},
   "source": [
    "Для поиска неявных дубликатов проверим значения в столбцах `education`, `family_status`, `gender`, `income_type`."
   ]
  },
  {
   "cell_type": "code",
   "execution_count": 29,
   "metadata": {},
   "outputs": [
    {
     "name": "stdout",
     "output_type": "stream",
     "text": [
      "['ВЫСШЕЕ' 'Высшее' 'НАЧАЛЬНОЕ' 'НЕОКОНЧЕННОЕ ВЫСШЕЕ' 'Начальное'\n",
      " 'Неоконченное высшее' 'СРЕДНЕЕ' 'Среднее' 'УЧЕНАЯ СТЕПЕНЬ'\n",
      " 'Ученая степень' 'высшее' 'начальное' 'неоконченное высшее' 'среднее'\n",
      " 'ученая степень']\n",
      "\n",
      "['Не женат / не замужем' 'в разводе' 'вдовец / вдова' 'гражданский брак'\n",
      " 'женат / замужем']\n",
      "\n",
      "['F' 'M' 'XNA']\n",
      "\n",
      "['безработный' 'в декрете' 'госслужащий' 'компаньон' 'пенсионер'\n",
      " 'предприниматель' 'сотрудник' 'студент']\n",
      "\n"
     ]
    }
   ],
   "source": [
    "# Проверяем уникальные значения в столбцах для поиска неявны дубликатов\n",
    "\n",
    "# Список столбцов для проверки\n",
    "columns = ['education', 'family_status', 'gender', 'income_type']\n",
    "\n",
    "for column in columns:\n",
    "    print(df[column].sort_values().unique())\n",
    "    print()"
   ]
  },
  {
   "cell_type": "markdown",
   "metadata": {},
   "source": [
    "В столбце `education` найдены неявные дубликаты:\n",
    "\n",
    "  * `высшее`: 'ВЫСШЕЕ' 'Высшее'\n",
    "  * `начальное`: 'НАЧАЛЬНОЕ' 'Начальное'\n",
    "  * `неоконченное высшее`: 'НЕОКОНЧЕННОЕ ВЫСШЕЕ'   'Неоконченное высшее'\n",
    "  * `среднее`: 'СРЕДНЕЕ' 'Среднее'\n",
    "  * `ученая степень`: 'УЧЕНАЯ СТЕПЕНЬ' 'Ученая степень'\n",
    "\n",
    "Вероятно, такие дубликаты возникли при слиянии нескольких баз данных, где использовался ограниченный список значений столбца, но в разных вариантах регистра. Поскольку в других столбцах датафрейма используется нижний регистр, приведем все значения столбца `education` также к нижнему регистру."
   ]
  },
  {
   "cell_type": "markdown",
   "metadata": {},
   "source": [
    "В столбце `gender` найдены некорректные значения `XNA`. Выделим их обработку в раздел Исправление качественных значений."
   ]
  },
  {
   "cell_type": "markdown",
   "metadata": {},
   "source": [
    "В столбцах `family_status` и `income_type` неявных дубликатов не обнаружено."
   ]
  },
  {
   "cell_type": "code",
   "execution_count": 30,
   "metadata": {},
   "outputs": [],
   "source": [
    "# Удалим неявные дубликаты в столбце `education` приведением значений к нижнему регистру\n",
    "df['education'] = df['education'].str.lower()"
   ]
  },
  {
   "cell_type": "code",
   "execution_count": 31,
   "metadata": {},
   "outputs": [
    {
     "data": {
      "text/plain": [
       "array(['высшее', 'начальное', 'неоконченное высшее', 'среднее',\n",
       "       'ученая степень'], dtype=object)"
      ]
     },
     "execution_count": 31,
     "metadata": {},
     "output_type": "execute_result"
    }
   ],
   "source": [
    "# Проверим удаление неявных дубликатов\n",
    "df['education'].sort_values().unique()"
   ]
  },
  {
   "cell_type": "markdown",
   "metadata": {},
   "source": [
    "**Вывод**\n",
    "\n",
    "Явные и неявные дубликаты удалены успешно."
   ]
  },
  {
   "cell_type": "markdown",
   "metadata": {},
   "source": [
    "### Исправление категориальных значений"
   ]
  },
  {
   "cell_type": "markdown",
   "metadata": {},
   "source": [
    "Проверим столбец `debt`, содержащий категориальными переменные, поскольку он не был проверен на предыдущих шагах.\n",
    "\n",
    "Исправим найденные на предыдущем этапе ошибочные значения в столбце `gender`."
   ]
  },
  {
   "cell_type": "code",
   "execution_count": 32,
   "metadata": {},
   "outputs": [
    {
     "data": {
      "text/plain": [
       "array([0, 1])"
      ]
     },
     "execution_count": 32,
     "metadata": {},
     "output_type": "execute_result"
    }
   ],
   "source": [
    "# Проверим уникальные значения в столбце debt\n",
    "df['debt'].sort_values().unique()"
   ]
  },
  {
   "cell_type": "markdown",
   "metadata": {},
   "source": [
    "Некорректных значений не обнаружено."
   ]
  },
  {
   "cell_type": "code",
   "execution_count": 33,
   "metadata": {},
   "outputs": [
    {
     "data": {
      "text/plain": [
       "1"
      ]
     },
     "execution_count": 33,
     "metadata": {},
     "output_type": "execute_result"
    }
   ],
   "source": [
    "# Проверим сколько некорректных значений в столбце gender содержится в датафрейме\n",
    "df.loc[df['gender'] == 'XNA', 'gender'].count()"
   ]
  },
  {
   "cell_type": "markdown",
   "metadata": {},
   "source": [
    "Найдено всего одно некорректное значение пола. Вероятно, обозначение `XNA` указывает на то, что для этого клиента пол неизвестен. Выведем всю строку."
   ]
  },
  {
   "cell_type": "code",
   "execution_count": 34,
   "metadata": {
    "scrolled": true
   },
   "outputs": [
    {
     "data": {
      "text/html": [
       "<div>\n",
       "<style scoped>\n",
       "    .dataframe tbody tr th:only-of-type {\n",
       "        vertical-align: middle;\n",
       "    }\n",
       "\n",
       "    .dataframe tbody tr th {\n",
       "        vertical-align: top;\n",
       "    }\n",
       "\n",
       "    .dataframe thead th {\n",
       "        text-align: right;\n",
       "    }\n",
       "</style>\n",
       "<table border=\"1\" class=\"dataframe\">\n",
       "  <thead>\n",
       "    <tr style=\"text-align: right;\">\n",
       "      <th></th>\n",
       "      <th>children</th>\n",
       "      <th>days_employed</th>\n",
       "      <th>dob_years</th>\n",
       "      <th>education</th>\n",
       "      <th>education_id</th>\n",
       "      <th>family_status</th>\n",
       "      <th>family_status_id</th>\n",
       "      <th>gender</th>\n",
       "      <th>income_type</th>\n",
       "      <th>debt</th>\n",
       "      <th>total_income</th>\n",
       "      <th>purpose</th>\n",
       "      <th>days_employed_mean</th>\n",
       "      <th>total_income_median</th>\n",
       "    </tr>\n",
       "  </thead>\n",
       "  <tbody>\n",
       "    <tr>\n",
       "      <td>10690</td>\n",
       "      <td>0</td>\n",
       "      <td>2359</td>\n",
       "      <td>24.0</td>\n",
       "      <td>неоконченное высшее</td>\n",
       "      <td>2</td>\n",
       "      <td>гражданский брак</td>\n",
       "      <td>1</td>\n",
       "      <td>XNA</td>\n",
       "      <td>компаньон</td>\n",
       "      <td>0</td>\n",
       "      <td>203905.16</td>\n",
       "      <td>покупка недвижимости</td>\n",
       "      <td>2111.524398</td>\n",
       "      <td>172357.950966</td>\n",
       "    </tr>\n",
       "  </tbody>\n",
       "</table>\n",
       "</div>"
      ],
      "text/plain": [
       "       children  days_employed  dob_years            education  education_id  \\\n",
       "10690         0           2359       24.0  неоконченное высшее             2   \n",
       "\n",
       "          family_status  family_status_id gender income_type  debt  \\\n",
       "10690  гражданский брак                 1    XNA   компаньон     0   \n",
       "\n",
       "       total_income               purpose  days_employed_mean  \\\n",
       "10690     203905.16  покупка недвижимости         2111.524398   \n",
       "\n",
       "       total_income_median  \n",
       "10690        172357.950966  "
      ]
     },
     "execution_count": 34,
     "metadata": {},
     "output_type": "execute_result"
    }
   ],
   "source": [
    "# Выведем строку с некорректным значением в столбце gender\n",
    "df.loc[df['gender'] == 'XNA']"
   ]
  },
  {
   "cell_type": "markdown",
   "metadata": {},
   "source": [
    "Определить характерное значение пола не представляется возможным. Строку с некорректным указанием пола в столбце `gender` можно удалить, однако значения столбца `gender` в данном исследовании участия не принимают. Чтобы не потерять данные в других столбцах, строку из датфрейма удалять не будем."
   ]
  },
  {
   "cell_type": "markdown",
   "metadata": {},
   "source": [
    "**Вывод**\n",
    "\n",
    "Категориальные значения в рамках исследования исправления не требуют."
   ]
  },
  {
   "cell_type": "markdown",
   "metadata": {},
   "source": [
    "### Лемматизация"
   ]
  },
  {
   "cell_type": "markdown",
   "metadata": {},
   "source": [
    "Для категоризации клиентов по целям получения кредита соберем леммы уникальных значений столбца `purpose`. Из наиболее часто встречающихся слов сформируем список категорий. Сравним леммы в столбца `purpose` с полученным списком категорий и назначим каждому клиенту категорию в новом столбце `purpose_cat`."
   ]
  },
  {
   "cell_type": "code",
   "execution_count": 35,
   "metadata": {
    "scrolled": false
   },
   "outputs": [
    {
     "data": {
      "text/plain": [
       "[(' ', 96),\n",
       " ('покупка', 10),\n",
       " ('недвижимость', 10),\n",
       " ('автомобиль', 9),\n",
       " ('образование', 9),\n",
       " ('жилье', 7),\n",
       " ('с', 5),\n",
       " ('операция', 4),\n",
       " ('на', 4),\n",
       " ('свой', 4),\n",
       " ('свадьба', 3),\n",
       " ('строительство', 3),\n",
       " ('получение', 3),\n",
       " ('высокий', 3),\n",
       " ('дополнительный', 2),\n",
       " ('для', 2),\n",
       " ('коммерческий', 2),\n",
       " ('жилой', 2),\n",
       " ('подержать', 2),\n",
       " ('заниматься', 2),\n",
       " ('сделка', 2),\n",
       " ('приобретение', 1),\n",
       " ('сыграть', 1),\n",
       " ('проведение', 1),\n",
       " ('семья', 1),\n",
       " ('собственный', 1),\n",
       " ('со', 1),\n",
       " ('профильный', 1),\n",
       " ('сдача', 1),\n",
       " ('ремонт', 1),\n",
       " ('\\n', 1)]"
      ]
     },
     "execution_count": 35,
     "metadata": {},
     "output_type": "execute_result"
    }
   ],
   "source": [
    "# Получаем список уникальных лемм в столбце purpose по частоте\n",
    "purpose_unique = m.lemmatize(' '.join(df['purpose'].unique()))\n",
    "Counter(purpose_unique).most_common()"
   ]
  },
  {
   "cell_type": "markdown",
   "metadata": {},
   "source": [
    "Наиболее распространенные леммы, которые можно использовать для категоризации целей получения кредита:\n",
    "\n",
    "  * `недвижимость`\n",
    "  * `автомобиль`\n",
    "  * `образование`\n",
    "  * `жилье`\n",
    "  * `свадьба`\n",
    "  * `строительство`\n",
    "  * `ремонт`"
   ]
  },
  {
   "cell_type": "code",
   "execution_count": 36,
   "metadata": {},
   "outputs": [],
   "source": [
    "# Определяем фукнцию, которая получает строку с целью кредита,\n",
    "# лемматизирует ее и сравнивает со списком целей кредита.\n",
    "# Функция возвращает категорию цели кредита, когда находит\n",
    "# первое вхождение из списка целей кредита\n",
    "def get_purpose_cat(purpose_string):\n",
    "    '''Получает цель кредита в леммах, возвращает категорию из списка'''\n",
    "    purpose_list = ['недвижимость',\n",
    "                    'автомобиль',\n",
    "                    'образование',\n",
    "                    'жилье',\n",
    "                    'свадьба',\n",
    "                    'строительство',\n",
    "                    'ремонт']\n",
    "    lemmas = ' '.join(m.lemmatize(purpose_string))\n",
    "    for purpose in purpose_list:\n",
    "        if purpose in lemmas:\n",
    "            return purpose"
   ]
  },
  {
   "cell_type": "code",
   "execution_count": 37,
   "metadata": {},
   "outputs": [],
   "source": [
    "# Создадим стролбец purpose_cat с категориями целей получения кредита\n",
    "df['purpose_cat'] = df['purpose'].apply(get_purpose_cat)"
   ]
  },
  {
   "cell_type": "code",
   "execution_count": 38,
   "metadata": {
    "scrolled": false
   },
   "outputs": [
    {
     "data": {
      "text/plain": [
       "недвижимость    6353\n",
       "жилье           4461\n",
       "автомобиль      4308\n",
       "образование     4014\n",
       "свадьба         2335\n",
       "Name: purpose_cat, dtype: int64"
      ]
     },
     "execution_count": 38,
     "metadata": {},
     "output_type": "execute_result"
    }
   ],
   "source": [
    "# Проверим уникальные категории и число строк в каждой категории в столбце purpose_cat\n",
    "df['purpose_cat'].value_counts()"
   ]
  },
  {
   "cell_type": "code",
   "execution_count": 39,
   "metadata": {},
   "outputs": [
    {
     "data": {
      "text/plain": [
       "0"
      ]
     },
     "execution_count": 39,
     "metadata": {},
     "output_type": "execute_result"
    }
   ],
   "source": [
    "# Проверим, что категории удалось присвоить для каждой строки\n",
    "df['purpose_cat'].isna().sum()"
   ]
  },
  {
   "cell_type": "markdown",
   "metadata": {},
   "source": [
    "Леммы `строительство` и `ремонт` не вошли в список категорий, поскольку первым вхождением оказалась более распространенная лемма из списка (`недвижимость` или `жилье`).\n",
    "\n",
    "В получившемся списке есть синоним категории `недвижимость`: `жилье`. Избавимся от него заменой категории."
   ]
  },
  {
   "cell_type": "code",
   "execution_count": 40,
   "metadata": {},
   "outputs": [],
   "source": [
    "# Для удаления категории-синонима заменим категорию 'жилье' на 'недвижимость'\n",
    "df.loc[df['purpose_cat'] == 'жилье', 'purpose_cat'] = 'недвижимость'"
   ]
  },
  {
   "cell_type": "code",
   "execution_count": 41,
   "metadata": {
    "scrolled": true
   },
   "outputs": [
    {
     "data": {
      "text/plain": [
       "недвижимость    10814\n",
       "автомобиль       4308\n",
       "образование      4014\n",
       "свадьба          2335\n",
       "Name: purpose_cat, dtype: int64"
      ]
     },
     "execution_count": 41,
     "metadata": {},
     "output_type": "execute_result"
    }
   ],
   "source": [
    "# Проверим уникальные категории и число строк в каждой категории в столбце purpose_cat\n",
    "df['purpose_cat'].value_counts()"
   ]
  },
  {
   "cell_type": "markdown",
   "metadata": {},
   "source": [
    "Категории изменены успешно. Таким образом, для целей исследования будем использовать крупные категории:\n",
    "\n",
    "  * `недвижимость`\n",
    "  * `автомобиль`\n",
    "  * `образование`\n",
    "  * `свадьба`"
   ]
  },
  {
   "cell_type": "markdown",
   "metadata": {},
   "source": [
    "**Вывод**\n",
    "\n",
    "Лемматизация и категоризация целей получения кредита выполнены успешно."
   ]
  },
  {
   "cell_type": "markdown",
   "metadata": {},
   "source": [
    "### Категоризация данных"
   ]
  },
  {
   "cell_type": "markdown",
   "metadata": {},
   "source": [
    "Для ответов на вопросы исследования произведем категоризацию значений в столбцах `children` и `total_income`.\n",
    "Категоризация значений в столбце `purpose` проведена на предыдущем этапе."
   ]
  },
  {
   "cell_type": "markdown",
   "metadata": {},
   "source": [
    "#### Столбец children"
   ]
  },
  {
   "cell_type": "markdown",
   "metadata": {},
   "source": [
    "Разделим клиентов на категории в зависимости от наличия детей:\n",
    "  * `нет детей`, если детей нет\n",
    "  * `есть дети`, если от 1 или 2 ребенка\n",
    "  * `многодетный`, если 3 и более ребенка"
   ]
  },
  {
   "cell_type": "code",
   "execution_count": 42,
   "metadata": {},
   "outputs": [],
   "source": [
    "# Определим функцию, которая возвращает категорию в зависимости от количества детей\n",
    "def get_children_cat(children):\n",
    "    '''\n",
    "    Возвращает категорию в завесимости от количества детей:\n",
    "    - 'нет детей', если значение children = 0;\n",
    "    - 'есть дети', если значение children от 1 до 2;\n",
    "    - 'многодетный', если значение children >= 3/\n",
    "    '''\n",
    "    if children == 0:\n",
    "        return 'нет детей'\n",
    "    elif children >= 1 and children <=2:\n",
    "        return 'есть дети'\n",
    "    elif children > 2:\n",
    "        return 'многодетный'"
   ]
  },
  {
   "cell_type": "code",
   "execution_count": 43,
   "metadata": {},
   "outputs": [],
   "source": [
    "# Создадим стролбец children_cat с категорией в зависимости от наличия детей\n",
    "df['children_cat'] = df['children'].apply(get_children_cat)"
   ]
  },
  {
   "cell_type": "markdown",
   "metadata": {},
   "source": [
    "#### Столбец total_income"
   ]
  },
  {
   "cell_type": "markdown",
   "metadata": {},
   "source": [
    "Разделим клиентов на категории в зависимости от уровня дохода. Сформируем 5 равных групп, в зависимости от уровня дохода:\n",
    "\n",
    "  * `очень низкий`\n",
    "  * `низкий`\n",
    "  * `средний`\n",
    "  * `высокий`\n",
    "  * `очень высокий`"
   ]
  },
  {
   "cell_type": "code",
   "execution_count": 44,
   "metadata": {},
   "outputs": [],
   "source": [
    "# Список названий уровней дохода\n",
    "total_income_cat = ['очень низкий', 'низкий', 'средний', 'высокий', 'очень высокий']\n",
    "\n",
    "# Сделаем разбивку на 5 равных уровней дохода\n",
    "df['total_income_cat'] = pd.qcut(df['total_income'], 5, labels=total_income_cat)"
   ]
  },
  {
   "cell_type": "code",
   "execution_count": 45,
   "metadata": {},
   "outputs": [
    {
     "data": {
      "text/html": [
       "<div>\n",
       "<style scoped>\n",
       "    .dataframe tbody tr th:only-of-type {\n",
       "        vertical-align: middle;\n",
       "    }\n",
       "\n",
       "    .dataframe tbody tr th {\n",
       "        vertical-align: top;\n",
       "    }\n",
       "\n",
       "    .dataframe thead th {\n",
       "        text-align: right;\n",
       "    }\n",
       "</style>\n",
       "<table border=\"1\" class=\"dataframe\">\n",
       "  <thead>\n",
       "    <tr style=\"text-align: right;\">\n",
       "      <th></th>\n",
       "      <th>children</th>\n",
       "      <th>days_employed</th>\n",
       "      <th>dob_years</th>\n",
       "      <th>education</th>\n",
       "      <th>education_id</th>\n",
       "      <th>family_status</th>\n",
       "      <th>family_status_id</th>\n",
       "      <th>gender</th>\n",
       "      <th>income_type</th>\n",
       "      <th>debt</th>\n",
       "      <th>total_income</th>\n",
       "      <th>purpose</th>\n",
       "      <th>days_employed_mean</th>\n",
       "      <th>total_income_median</th>\n",
       "      <th>purpose_cat</th>\n",
       "      <th>children_cat</th>\n",
       "      <th>total_income_cat</th>\n",
       "    </tr>\n",
       "  </thead>\n",
       "  <tbody>\n",
       "    <tr>\n",
       "      <td>0</td>\n",
       "      <td>1</td>\n",
       "      <td>8438</td>\n",
       "      <td>42.0</td>\n",
       "      <td>высшее</td>\n",
       "      <td>0</td>\n",
       "      <td>женат / замужем</td>\n",
       "      <td>0</td>\n",
       "      <td>F</td>\n",
       "      <td>сотрудник</td>\n",
       "      <td>0</td>\n",
       "      <td>253875.64</td>\n",
       "      <td>покупка жилья</td>\n",
       "      <td>2326.499216</td>\n",
       "      <td>142594.396847</td>\n",
       "      <td>недвижимость</td>\n",
       "      <td>есть дети</td>\n",
       "      <td>очень высокий</td>\n",
       "    </tr>\n",
       "    <tr>\n",
       "      <td>1</td>\n",
       "      <td>1</td>\n",
       "      <td>4025</td>\n",
       "      <td>36.0</td>\n",
       "      <td>среднее</td>\n",
       "      <td>1</td>\n",
       "      <td>женат / замужем</td>\n",
       "      <td>0</td>\n",
       "      <td>F</td>\n",
       "      <td>сотрудник</td>\n",
       "      <td>0</td>\n",
       "      <td>112080.01</td>\n",
       "      <td>приобретение автомобиля</td>\n",
       "      <td>2326.499216</td>\n",
       "      <td>142594.396847</td>\n",
       "      <td>автомобиль</td>\n",
       "      <td>есть дети</td>\n",
       "      <td>низкий</td>\n",
       "    </tr>\n",
       "    <tr>\n",
       "      <td>2</td>\n",
       "      <td>0</td>\n",
       "      <td>5623</td>\n",
       "      <td>33.0</td>\n",
       "      <td>среднее</td>\n",
       "      <td>1</td>\n",
       "      <td>женат / замужем</td>\n",
       "      <td>0</td>\n",
       "      <td>M</td>\n",
       "      <td>сотрудник</td>\n",
       "      <td>0</td>\n",
       "      <td>145885.95</td>\n",
       "      <td>покупка жилья</td>\n",
       "      <td>2326.499216</td>\n",
       "      <td>142594.396847</td>\n",
       "      <td>недвижимость</td>\n",
       "      <td>нет детей</td>\n",
       "      <td>средний</td>\n",
       "    </tr>\n",
       "    <tr>\n",
       "      <td>3</td>\n",
       "      <td>3</td>\n",
       "      <td>4125</td>\n",
       "      <td>32.0</td>\n",
       "      <td>среднее</td>\n",
       "      <td>1</td>\n",
       "      <td>женат / замужем</td>\n",
       "      <td>0</td>\n",
       "      <td>M</td>\n",
       "      <td>сотрудник</td>\n",
       "      <td>0</td>\n",
       "      <td>267628.55</td>\n",
       "      <td>дополнительное образование</td>\n",
       "      <td>2326.499216</td>\n",
       "      <td>142594.396847</td>\n",
       "      <td>образование</td>\n",
       "      <td>многодетный</td>\n",
       "      <td>очень высокий</td>\n",
       "    </tr>\n",
       "    <tr>\n",
       "      <td>4</td>\n",
       "      <td>0</td>\n",
       "      <td>14178</td>\n",
       "      <td>53.0</td>\n",
       "      <td>среднее</td>\n",
       "      <td>1</td>\n",
       "      <td>гражданский брак</td>\n",
       "      <td>1</td>\n",
       "      <td>F</td>\n",
       "      <td>пенсионер</td>\n",
       "      <td>0</td>\n",
       "      <td>158616.08</td>\n",
       "      <td>сыграть свадьбу</td>\n",
       "      <td>15208.478802</td>\n",
       "      <td>118514.486412</td>\n",
       "      <td>свадьба</td>\n",
       "      <td>нет детей</td>\n",
       "      <td>средний</td>\n",
       "    </tr>\n",
       "    <tr>\n",
       "      <td>5</td>\n",
       "      <td>0</td>\n",
       "      <td>926</td>\n",
       "      <td>27.0</td>\n",
       "      <td>высшее</td>\n",
       "      <td>0</td>\n",
       "      <td>гражданский брак</td>\n",
       "      <td>1</td>\n",
       "      <td>M</td>\n",
       "      <td>компаньон</td>\n",
       "      <td>0</td>\n",
       "      <td>255763.57</td>\n",
       "      <td>покупка жилья</td>\n",
       "      <td>2111.524398</td>\n",
       "      <td>172357.950966</td>\n",
       "      <td>недвижимость</td>\n",
       "      <td>нет детей</td>\n",
       "      <td>очень высокий</td>\n",
       "    </tr>\n",
       "    <tr>\n",
       "      <td>6</td>\n",
       "      <td>0</td>\n",
       "      <td>2879</td>\n",
       "      <td>43.0</td>\n",
       "      <td>высшее</td>\n",
       "      <td>0</td>\n",
       "      <td>женат / замужем</td>\n",
       "      <td>0</td>\n",
       "      <td>F</td>\n",
       "      <td>компаньон</td>\n",
       "      <td>0</td>\n",
       "      <td>240525.97</td>\n",
       "      <td>операции с жильем</td>\n",
       "      <td>2111.524398</td>\n",
       "      <td>172357.950966</td>\n",
       "      <td>недвижимость</td>\n",
       "      <td>нет детей</td>\n",
       "      <td>очень высокий</td>\n",
       "    </tr>\n",
       "    <tr>\n",
       "      <td>7</td>\n",
       "      <td>0</td>\n",
       "      <td>153</td>\n",
       "      <td>50.0</td>\n",
       "      <td>среднее</td>\n",
       "      <td>1</td>\n",
       "      <td>женат / замужем</td>\n",
       "      <td>0</td>\n",
       "      <td>M</td>\n",
       "      <td>сотрудник</td>\n",
       "      <td>0</td>\n",
       "      <td>135823.93</td>\n",
       "      <td>образование</td>\n",
       "      <td>2326.499216</td>\n",
       "      <td>142594.396847</td>\n",
       "      <td>образование</td>\n",
       "      <td>нет детей</td>\n",
       "      <td>средний</td>\n",
       "    </tr>\n",
       "    <tr>\n",
       "      <td>8</td>\n",
       "      <td>2</td>\n",
       "      <td>6930</td>\n",
       "      <td>35.0</td>\n",
       "      <td>высшее</td>\n",
       "      <td>0</td>\n",
       "      <td>гражданский брак</td>\n",
       "      <td>1</td>\n",
       "      <td>F</td>\n",
       "      <td>сотрудник</td>\n",
       "      <td>0</td>\n",
       "      <td>95856.83</td>\n",
       "      <td>на проведение свадьбы</td>\n",
       "      <td>2326.499216</td>\n",
       "      <td>142594.396847</td>\n",
       "      <td>свадьба</td>\n",
       "      <td>есть дети</td>\n",
       "      <td>очень низкий</td>\n",
       "    </tr>\n",
       "    <tr>\n",
       "      <td>9</td>\n",
       "      <td>0</td>\n",
       "      <td>2189</td>\n",
       "      <td>41.0</td>\n",
       "      <td>среднее</td>\n",
       "      <td>1</td>\n",
       "      <td>женат / замужем</td>\n",
       "      <td>0</td>\n",
       "      <td>M</td>\n",
       "      <td>сотрудник</td>\n",
       "      <td>0</td>\n",
       "      <td>144425.94</td>\n",
       "      <td>покупка жилья для семьи</td>\n",
       "      <td>2326.499216</td>\n",
       "      <td>142594.396847</td>\n",
       "      <td>недвижимость</td>\n",
       "      <td>нет детей</td>\n",
       "      <td>средний</td>\n",
       "    </tr>\n",
       "  </tbody>\n",
       "</table>\n",
       "</div>"
      ],
      "text/plain": [
       "   children  days_employed  dob_years education  education_id  \\\n",
       "0         1           8438       42.0    высшее             0   \n",
       "1         1           4025       36.0   среднее             1   \n",
       "2         0           5623       33.0   среднее             1   \n",
       "3         3           4125       32.0   среднее             1   \n",
       "4         0          14178       53.0   среднее             1   \n",
       "5         0            926       27.0    высшее             0   \n",
       "6         0           2879       43.0    высшее             0   \n",
       "7         0            153       50.0   среднее             1   \n",
       "8         2           6930       35.0    высшее             0   \n",
       "9         0           2189       41.0   среднее             1   \n",
       "\n",
       "      family_status  family_status_id gender income_type  debt  total_income  \\\n",
       "0   женат / замужем                 0      F   сотрудник     0     253875.64   \n",
       "1   женат / замужем                 0      F   сотрудник     0     112080.01   \n",
       "2   женат / замужем                 0      M   сотрудник     0     145885.95   \n",
       "3   женат / замужем                 0      M   сотрудник     0     267628.55   \n",
       "4  гражданский брак                 1      F   пенсионер     0     158616.08   \n",
       "5  гражданский брак                 1      M   компаньон     0     255763.57   \n",
       "6   женат / замужем                 0      F   компаньон     0     240525.97   \n",
       "7   женат / замужем                 0      M   сотрудник     0     135823.93   \n",
       "8  гражданский брак                 1      F   сотрудник     0      95856.83   \n",
       "9   женат / замужем                 0      M   сотрудник     0     144425.94   \n",
       "\n",
       "                      purpose  days_employed_mean  total_income_median  \\\n",
       "0               покупка жилья         2326.499216        142594.396847   \n",
       "1     приобретение автомобиля         2326.499216        142594.396847   \n",
       "2               покупка жилья         2326.499216        142594.396847   \n",
       "3  дополнительное образование         2326.499216        142594.396847   \n",
       "4             сыграть свадьбу        15208.478802        118514.486412   \n",
       "5               покупка жилья         2111.524398        172357.950966   \n",
       "6           операции с жильем         2111.524398        172357.950966   \n",
       "7                 образование         2326.499216        142594.396847   \n",
       "8       на проведение свадьбы         2326.499216        142594.396847   \n",
       "9     покупка жилья для семьи         2326.499216        142594.396847   \n",
       "\n",
       "    purpose_cat children_cat total_income_cat  \n",
       "0  недвижимость    есть дети    очень высокий  \n",
       "1    автомобиль    есть дети           низкий  \n",
       "2  недвижимость    нет детей          средний  \n",
       "3   образование  многодетный    очень высокий  \n",
       "4       свадьба    нет детей          средний  \n",
       "5  недвижимость    нет детей    очень высокий  \n",
       "6  недвижимость    нет детей    очень высокий  \n",
       "7   образование    нет детей          средний  \n",
       "8       свадьба    есть дети     очень низкий  \n",
       "9  недвижимость    нет детей          средний  "
      ]
     },
     "execution_count": 45,
     "metadata": {},
     "output_type": "execute_result"
    }
   ],
   "source": [
    "# Проверим полученные в столбцах children_cat и total_income_cat категории, выведем первые 10 строк датафрейма\n",
    "df.head(10)"
   ]
  },
  {
   "cell_type": "markdown",
   "metadata": {},
   "source": [
    "**Вывод**\n",
    "\n",
    "Категоризация значений в столбцах `children` и `total_income` проведена успешно."
   ]
  },
  {
   "cell_type": "markdown",
   "metadata": {},
   "source": [
    "## Ответы на вопросы исследования"
   ]
  },
  {
   "cell_type": "markdown",
   "metadata": {},
   "source": [
    "### Есть ли зависимость между наличием детей и возвратом кредита в срок?"
   ]
  },
  {
   "cell_type": "code",
   "execution_count": 46,
   "metadata": {},
   "outputs": [
    {
     "data": {
      "text/html": [
       "<div>\n",
       "<style scoped>\n",
       "    .dataframe tbody tr th:only-of-type {\n",
       "        vertical-align: middle;\n",
       "    }\n",
       "\n",
       "    .dataframe tbody tr th {\n",
       "        vertical-align: top;\n",
       "    }\n",
       "\n",
       "    .dataframe thead th {\n",
       "        text-align: right;\n",
       "    }\n",
       "</style>\n",
       "<table border=\"1\" class=\"dataframe\">\n",
       "  <thead>\n",
       "    <tr style=\"text-align: right;\">\n",
       "      <th></th>\n",
       "      <th>no_debt</th>\n",
       "      <th>debt</th>\n",
       "      <th>debt_%</th>\n",
       "    </tr>\n",
       "    <tr>\n",
       "      <th>children_cat</th>\n",
       "      <th></th>\n",
       "      <th></th>\n",
       "      <th></th>\n",
       "    </tr>\n",
       "  </thead>\n",
       "  <tbody>\n",
       "    <tr>\n",
       "      <td>есть дети</td>\n",
       "      <td>6337</td>\n",
       "      <td>647</td>\n",
       "      <td>0.092640</td>\n",
       "    </tr>\n",
       "    <tr>\n",
       "      <td>многодетный</td>\n",
       "      <td>349</td>\n",
       "      <td>31</td>\n",
       "      <td>0.081579</td>\n",
       "    </tr>\n",
       "    <tr>\n",
       "      <td>нет детей</td>\n",
       "      <td>13044</td>\n",
       "      <td>1063</td>\n",
       "      <td>0.075353</td>\n",
       "    </tr>\n",
       "  </tbody>\n",
       "</table>\n",
       "</div>"
      ],
      "text/plain": [
       "              no_debt  debt    debt_%\n",
       "children_cat                         \n",
       "есть дети        6337   647  0.092640\n",
       "многодетный       349    31  0.081579\n",
       "нет детей       13044  1063  0.075353"
      ]
     },
     "execution_count": 46,
     "metadata": {},
     "output_type": "execute_result"
    }
   ],
   "source": [
    "report = df.pivot_table(index='children_cat', columns='debt', values='gender', aggfunc='count')\n",
    "report.columns = ['no_debt', 'debt']\n",
    "report['debt_%'] = report['debt'] / (report['debt'] + report['no_debt'])\n",
    "report.sort_values(by='debt_%', ascending=False)"
   ]
  },
  {
   "cell_type": "markdown",
   "metadata": {},
   "source": [
    "**Вывод**\n",
    "\n",
    "Установлена зависимость между наличием детей и возвратом кредита в срок.\n",
    "\n",
    "**Наличие детей повышает вероятность задолженности** по сравнению с клиентами, у которых нет детей. Доля клиентов, имевших задолженности, для имеющих детей 8,2-9,3%, а для не имеющих детей 7,5%. При этому доля многодетных клиентов, имевших задолженности, ниже, чем доля клиентов с 1 или 2 детьми (8,2% против 9,3%)."
   ]
  },
  {
   "cell_type": "markdown",
   "metadata": {},
   "source": [
    "### Есть ли зависимость между семейным положением и возвратом кредита в срок?"
   ]
  },
  {
   "cell_type": "code",
   "execution_count": 47,
   "metadata": {},
   "outputs": [
    {
     "data": {
      "text/html": [
       "<div>\n",
       "<style scoped>\n",
       "    .dataframe tbody tr th:only-of-type {\n",
       "        vertical-align: middle;\n",
       "    }\n",
       "\n",
       "    .dataframe tbody tr th {\n",
       "        vertical-align: top;\n",
       "    }\n",
       "\n",
       "    .dataframe thead th {\n",
       "        text-align: right;\n",
       "    }\n",
       "</style>\n",
       "<table border=\"1\" class=\"dataframe\">\n",
       "  <thead>\n",
       "    <tr style=\"text-align: right;\">\n",
       "      <th></th>\n",
       "      <th>no_debt</th>\n",
       "      <th>debt</th>\n",
       "      <th>debt_%</th>\n",
       "    </tr>\n",
       "    <tr>\n",
       "      <th>family_status</th>\n",
       "      <th></th>\n",
       "      <th></th>\n",
       "      <th></th>\n",
       "    </tr>\n",
       "  </thead>\n",
       "  <tbody>\n",
       "    <tr>\n",
       "      <td>Не женат / не замужем</td>\n",
       "      <td>2536</td>\n",
       "      <td>274</td>\n",
       "      <td>0.097509</td>\n",
       "    </tr>\n",
       "    <tr>\n",
       "      <td>гражданский брак</td>\n",
       "      <td>3775</td>\n",
       "      <td>388</td>\n",
       "      <td>0.093202</td>\n",
       "    </tr>\n",
       "    <tr>\n",
       "      <td>женат / замужем</td>\n",
       "      <td>11413</td>\n",
       "      <td>931</td>\n",
       "      <td>0.075421</td>\n",
       "    </tr>\n",
       "    <tr>\n",
       "      <td>в разводе</td>\n",
       "      <td>1110</td>\n",
       "      <td>85</td>\n",
       "      <td>0.071130</td>\n",
       "    </tr>\n",
       "    <tr>\n",
       "      <td>вдовец / вдова</td>\n",
       "      <td>896</td>\n",
       "      <td>63</td>\n",
       "      <td>0.065693</td>\n",
       "    </tr>\n",
       "  </tbody>\n",
       "</table>\n",
       "</div>"
      ],
      "text/plain": [
       "                       no_debt  debt    debt_%\n",
       "family_status                                 \n",
       "Не женат / не замужем     2536   274  0.097509\n",
       "гражданский брак          3775   388  0.093202\n",
       "женат / замужем          11413   931  0.075421\n",
       "в разводе                 1110    85  0.071130\n",
       "вдовец / вдова             896    63  0.065693"
      ]
     },
     "execution_count": 47,
     "metadata": {},
     "output_type": "execute_result"
    }
   ],
   "source": [
    "report = df.pivot_table(index='family_status', columns='debt', values='gender', aggfunc='count')\n",
    "report.columns = ['no_debt', 'debt']\n",
    "report['debt_%'] = report['debt'] / (report['debt'] + report['no_debt'])\n",
    "report.sort_values(by='debt_%', ascending=False)"
   ]
  },
  {
   "cell_type": "markdown",
   "metadata": {},
   "source": [
    "**Вывод**\n",
    "\n",
    "Установлена зависимость между семейным положение и возвратом кредита в срок.\n",
    "\n",
    "**Для холостых или находящихся в гражданском браке клиентов отмечается повышенная вероятность задолженности**, по сравнению с клиентами в официально зарегистрированном браке (в том числе прекращенном по тем или иным причинам). Доля клиентов, имевших задолженности, для холостых или в гражданском браке 9,3-9,7%, а для находящихся в браке сейчас или ранее 6,6-7,5%."
   ]
  },
  {
   "cell_type": "markdown",
   "metadata": {},
   "source": [
    "### Есть ли зависимость между уровнем дохода и возвратом кредита в срок?"
   ]
  },
  {
   "cell_type": "code",
   "execution_count": 48,
   "metadata": {},
   "outputs": [
    {
     "data": {
      "text/html": [
       "<div>\n",
       "<style scoped>\n",
       "    .dataframe tbody tr th:only-of-type {\n",
       "        vertical-align: middle;\n",
       "    }\n",
       "\n",
       "    .dataframe tbody tr th {\n",
       "        vertical-align: top;\n",
       "    }\n",
       "\n",
       "    .dataframe thead th {\n",
       "        text-align: right;\n",
       "    }\n",
       "</style>\n",
       "<table border=\"1\" class=\"dataframe\">\n",
       "  <thead>\n",
       "    <tr style=\"text-align: right;\">\n",
       "      <th></th>\n",
       "      <th>no_debt</th>\n",
       "      <th>debt</th>\n",
       "      <th>debt_%</th>\n",
       "    </tr>\n",
       "    <tr>\n",
       "      <th>total_income_cat</th>\n",
       "      <th></th>\n",
       "      <th></th>\n",
       "      <th></th>\n",
       "    </tr>\n",
       "  </thead>\n",
       "  <tbody>\n",
       "    <tr>\n",
       "      <td>средний</td>\n",
       "      <td>3919</td>\n",
       "      <td>375</td>\n",
       "      <td>0.087331</td>\n",
       "    </tr>\n",
       "    <tr>\n",
       "      <td>низкий</td>\n",
       "      <td>3933</td>\n",
       "      <td>361</td>\n",
       "      <td>0.084071</td>\n",
       "    </tr>\n",
       "    <tr>\n",
       "      <td>высокий</td>\n",
       "      <td>3933</td>\n",
       "      <td>361</td>\n",
       "      <td>0.084071</td>\n",
       "    </tr>\n",
       "    <tr>\n",
       "      <td>очень низкий</td>\n",
       "      <td>3951</td>\n",
       "      <td>344</td>\n",
       "      <td>0.080093</td>\n",
       "    </tr>\n",
       "    <tr>\n",
       "      <td>очень высокий</td>\n",
       "      <td>3994</td>\n",
       "      <td>300</td>\n",
       "      <td>0.069865</td>\n",
       "    </tr>\n",
       "  </tbody>\n",
       "</table>\n",
       "</div>"
      ],
      "text/plain": [
       "                  no_debt  debt    debt_%\n",
       "total_income_cat                         \n",
       "средний              3919   375  0.087331\n",
       "низкий               3933   361  0.084071\n",
       "высокий              3933   361  0.084071\n",
       "очень низкий         3951   344  0.080093\n",
       "очень высокий        3994   300  0.069865"
      ]
     },
     "execution_count": 48,
     "metadata": {},
     "output_type": "execute_result"
    }
   ],
   "source": [
    "report = df.pivot_table(index='total_income_cat', columns='debt', values='gender', aggfunc='count')\n",
    "report.columns = ['no_debt', 'debt']\n",
    "report['debt_%'] = report['debt'] / (report['debt'] + report['no_debt'])\n",
    "report.sort_values(by='debt_%', ascending=False)"
   ]
  },
  {
   "cell_type": "markdown",
   "metadata": {},
   "source": [
    "**Вывод**\n",
    "\n",
    "Установлена зависимость между уровнем дохода и возвратом кредита в срок.\n",
    "\n",
    "**Для клиентов со средним уровнем дохода отмечается повышенная вероятность задолженности**. Самая низкая вероятность задолженности у клиентов с очень высоким уровнем дохода. Доля клиентов, имевших задолженности, в категории среднего дохода 8,7%, а в категории очень высокого дохода 7,0%."
   ]
  },
  {
   "cell_type": "markdown",
   "metadata": {},
   "source": [
    "### Как разные цели кредита влияют на его возврат в срок?"
   ]
  },
  {
   "cell_type": "code",
   "execution_count": 49,
   "metadata": {},
   "outputs": [
    {
     "data": {
      "text/html": [
       "<div>\n",
       "<style scoped>\n",
       "    .dataframe tbody tr th:only-of-type {\n",
       "        vertical-align: middle;\n",
       "    }\n",
       "\n",
       "    .dataframe tbody tr th {\n",
       "        vertical-align: top;\n",
       "    }\n",
       "\n",
       "    .dataframe thead th {\n",
       "        text-align: right;\n",
       "    }\n",
       "</style>\n",
       "<table border=\"1\" class=\"dataframe\">\n",
       "  <thead>\n",
       "    <tr style=\"text-align: right;\">\n",
       "      <th></th>\n",
       "      <th>no_debt</th>\n",
       "      <th>debt</th>\n",
       "      <th>debt_%</th>\n",
       "    </tr>\n",
       "    <tr>\n",
       "      <th>purpose_cat</th>\n",
       "      <th></th>\n",
       "      <th></th>\n",
       "      <th></th>\n",
       "    </tr>\n",
       "  </thead>\n",
       "  <tbody>\n",
       "    <tr>\n",
       "      <td>автомобиль</td>\n",
       "      <td>3905</td>\n",
       "      <td>403</td>\n",
       "      <td>0.093547</td>\n",
       "    </tr>\n",
       "    <tr>\n",
       "      <td>образование</td>\n",
       "      <td>3644</td>\n",
       "      <td>370</td>\n",
       "      <td>0.092177</td>\n",
       "    </tr>\n",
       "    <tr>\n",
       "      <td>свадьба</td>\n",
       "      <td>2149</td>\n",
       "      <td>186</td>\n",
       "      <td>0.079657</td>\n",
       "    </tr>\n",
       "    <tr>\n",
       "      <td>недвижимость</td>\n",
       "      <td>10032</td>\n",
       "      <td>782</td>\n",
       "      <td>0.072314</td>\n",
       "    </tr>\n",
       "  </tbody>\n",
       "</table>\n",
       "</div>"
      ],
      "text/plain": [
       "              no_debt  debt    debt_%\n",
       "purpose_cat                          \n",
       "автомобиль       3905   403  0.093547\n",
       "образование      3644   370  0.092177\n",
       "свадьба          2149   186  0.079657\n",
       "недвижимость    10032   782  0.072314"
      ]
     },
     "execution_count": 49,
     "metadata": {},
     "output_type": "execute_result"
    }
   ],
   "source": [
    "report = df.pivot_table(index='purpose_cat', columns='debt', values='gender', aggfunc='count')\n",
    "report.columns = ['no_debt', 'debt']\n",
    "report['debt_%'] = report['debt'] / (report['debt'] + report['no_debt'])\n",
    "report.sort_values(by='debt_%', ascending=False)"
   ]
  },
  {
   "cell_type": "markdown",
   "metadata": {},
   "source": [
    "**Вывод**\n",
    "\n",
    "Установлена зависимость между целью кредита и возвратом кредита в срок.\n",
    "\n",
    "**Для указавших цель кредита автомобиль или образование отмечается повышенная вероятность задолженности**, по сравнению с клиентами, которые указали в качестве цели свадьбу или недвижимость. Доля клиентов, имевших задолженности, для указавших автомобиль или образование 9,2-9,3%, а для указавших свадьбу или недвижимость 7,2-8,0%."
   ]
  },
  {
   "cell_type": "markdown",
   "metadata": {},
   "source": [
    "## Общий вывод"
   ]
  },
  {
   "cell_type": "markdown",
   "metadata": {},
   "source": [
    "По результатам исследования надежности заемщиков были сделаны выводы, которые следует учесть при построении модели кредитного скоринга.\n",
    "\n",
    "  * **Отмечена зависимость между наличием детей и возвратом кредита в срок.**  \n",
    "  Наличие детей повышает вероятность задолженности.\n",
    "  \n",
    "  \n",
    "  * **Отмечена зависимость между семейным положение и возвратом кредита в срок.**  \n",
    "  Отсутствие зарегистрированного брака повышает вероятность задолженности.\n",
    "  \n",
    "  \n",
    "  * **Отмечена зависимость между уровнем дохода и возвратом кредита в срок.**  \n",
    "  Средний уровень дохода повышает вероятность задолженности.\n",
    "  \n",
    "  \n",
    "  * **Отмечена зависимость между целью кредита и возвратом кредита в срок.**  \n",
    "  Указание автомобиля или образования в цели кредита повышает вероятность задолженности."
   ]
  }
 ],
 "metadata": {
  "ExecuteTimeLog": [
   {
    "duration": 540,
    "start_time": "2021-11-17T21:35:36.004Z"
   },
   {
    "duration": 258,
    "start_time": "2021-11-17T21:37:49.133Z"
   },
   {
    "duration": 55,
    "start_time": "2021-11-17T21:37:53.611Z"
   },
   {
    "duration": 19,
    "start_time": "2021-11-17T21:37:55.560Z"
   },
   {
    "duration": 11,
    "start_time": "2021-11-17T21:39:17.732Z"
   },
   {
    "duration": 9,
    "start_time": "2021-11-17T22:03:17.891Z"
   },
   {
    "duration": 64,
    "start_time": "2021-11-17T22:04:09.959Z"
   },
   {
    "duration": 2,
    "start_time": "2021-11-17T22:11:23.136Z"
   },
   {
    "duration": 404,
    "start_time": "2021-11-18T18:45:34.118Z"
   },
   {
    "duration": 802,
    "start_time": "2021-11-18T18:45:47.695Z"
   },
   {
    "duration": 63,
    "start_time": "2021-11-18T18:45:48.500Z"
   },
   {
    "duration": 32,
    "start_time": "2021-11-18T18:45:48.566Z"
   },
   {
    "duration": 15,
    "start_time": "2021-11-18T18:45:48.601Z"
   },
   {
    "duration": 12,
    "start_time": "2021-11-18T18:45:48.618Z"
   },
   {
    "duration": 6,
    "start_time": "2021-11-18T18:45:48.632Z"
   },
   {
    "duration": 2899,
    "start_time": "2021-11-18T18:45:53.563Z"
   },
   {
    "duration": 7828,
    "start_time": "2021-11-18T18:45:59.868Z"
   },
   {
    "duration": 29,
    "start_time": "2021-11-18T18:46:28.353Z"
   },
   {
    "duration": 11,
    "start_time": "2021-11-18T18:49:13.434Z"
   },
   {
    "duration": 300,
    "start_time": "2021-11-18T18:49:29.323Z"
   },
   {
    "duration": 2889,
    "start_time": "2021-11-18T18:50:25.865Z"
   },
   {
    "duration": 3791,
    "start_time": "2021-11-18T18:50:31.628Z"
   },
   {
    "duration": 4574,
    "start_time": "2021-11-18T18:50:50.357Z"
   },
   {
    "duration": 7,
    "start_time": "2021-11-18T18:51:03.772Z"
   },
   {
    "duration": 8,
    "start_time": "2021-11-18T18:51:45.490Z"
   },
   {
    "duration": 318,
    "start_time": "2021-11-18T18:52:05.148Z"
   },
   {
    "duration": 10,
    "start_time": "2021-11-18T18:52:17.827Z"
   },
   {
    "duration": 25,
    "start_time": "2021-11-18T18:52:35.303Z"
   },
   {
    "duration": 10,
    "start_time": "2021-11-18T18:52:55.311Z"
   },
   {
    "duration": 10,
    "start_time": "2021-11-18T18:53:00.970Z"
   },
   {
    "duration": 11,
    "start_time": "2021-11-18T18:55:42.655Z"
   },
   {
    "duration": 25,
    "start_time": "2021-11-18T18:59:35.772Z"
   },
   {
    "duration": 10,
    "start_time": "2021-11-18T19:18:10.857Z"
   },
   {
    "duration": 114,
    "start_time": "2021-11-18T19:19:07.487Z"
   },
   {
    "duration": 11,
    "start_time": "2021-11-18T19:19:11.963Z"
   },
   {
    "duration": 6,
    "start_time": "2021-11-18T19:24:01.824Z"
   },
   {
    "duration": 12,
    "start_time": "2021-11-18T19:32:44.799Z"
   },
   {
    "duration": 11,
    "start_time": "2021-11-18T19:33:03.608Z"
   },
   {
    "duration": 15,
    "start_time": "2021-11-18T19:33:11.094Z"
   },
   {
    "duration": 14,
    "start_time": "2021-11-18T19:33:29.804Z"
   },
   {
    "duration": 14,
    "start_time": "2021-11-18T19:33:33.269Z"
   },
   {
    "duration": 12,
    "start_time": "2021-11-18T19:33:37.041Z"
   },
   {
    "duration": 10,
    "start_time": "2021-11-18T19:33:42.727Z"
   },
   {
    "duration": 10,
    "start_time": "2021-11-18T19:33:46.593Z"
   },
   {
    "duration": 11,
    "start_time": "2021-11-18T19:33:50.363Z"
   },
   {
    "duration": 12,
    "start_time": "2021-11-18T19:33:56.501Z"
   },
   {
    "duration": 11,
    "start_time": "2021-11-18T19:34:01.387Z"
   },
   {
    "duration": 11,
    "start_time": "2021-11-18T19:34:09.646Z"
   },
   {
    "duration": 10,
    "start_time": "2021-11-18T19:34:13.046Z"
   },
   {
    "duration": 11,
    "start_time": "2021-11-18T19:34:20.956Z"
   },
   {
    "duration": 18,
    "start_time": "2021-11-18T19:41:53.727Z"
   },
   {
    "duration": 13,
    "start_time": "2021-11-18T19:47:00.144Z"
   },
   {
    "duration": 22,
    "start_time": "2021-11-18T19:49:17.175Z"
   },
   {
    "duration": 20,
    "start_time": "2021-11-18T19:49:36.430Z"
   },
   {
    "duration": 13,
    "start_time": "2021-11-18T19:51:20.366Z"
   },
   {
    "duration": 16,
    "start_time": "2021-11-18T19:51:48.178Z"
   },
   {
    "duration": 21,
    "start_time": "2021-11-18T19:52:09.358Z"
   },
   {
    "duration": 22,
    "start_time": "2021-11-18T19:53:51.147Z"
   },
   {
    "duration": 27,
    "start_time": "2021-11-18T19:54:03.792Z"
   },
   {
    "duration": 19,
    "start_time": "2021-11-18T19:54:15.478Z"
   },
   {
    "duration": 15,
    "start_time": "2021-11-18T19:56:14.205Z"
   },
   {
    "duration": 18,
    "start_time": "2021-11-18T19:57:15.855Z"
   },
   {
    "duration": 30,
    "start_time": "2021-11-18T19:58:18.512Z"
   },
   {
    "duration": 25,
    "start_time": "2021-11-18T19:58:32.166Z"
   },
   {
    "duration": 33,
    "start_time": "2021-11-18T19:58:47.769Z"
   },
   {
    "duration": 42,
    "start_time": "2021-11-18T19:59:10.506Z"
   },
   {
    "duration": 17,
    "start_time": "2021-11-18T19:59:51.335Z"
   },
   {
    "duration": 306,
    "start_time": "2021-11-18T20:00:29.672Z"
   },
   {
    "duration": 320,
    "start_time": "2021-11-18T20:02:08.997Z"
   },
   {
    "duration": 409,
    "start_time": "2021-11-18T20:02:21.860Z"
   },
   {
    "duration": 680,
    "start_time": "2021-11-18T20:02:35.162Z"
   },
   {
    "duration": 5,
    "start_time": "2021-11-18T20:03:20.031Z"
   },
   {
    "duration": 4,
    "start_time": "2021-11-18T20:03:23.211Z"
   },
   {
    "duration": 6,
    "start_time": "2021-11-18T20:03:27.195Z"
   },
   {
    "duration": 6,
    "start_time": "2021-11-18T20:03:33.509Z"
   },
   {
    "duration": 29,
    "start_time": "2021-11-18T20:19:39.309Z"
   },
   {
    "duration": 19,
    "start_time": "2021-11-18T20:20:45.143Z"
   },
   {
    "duration": 24,
    "start_time": "2021-11-18T20:36:25.541Z"
   },
   {
    "duration": 36,
    "start_time": "2021-11-18T20:36:41.626Z"
   },
   {
    "duration": 20,
    "start_time": "2021-11-18T20:37:18.614Z"
   },
   {
    "duration": 4,
    "start_time": "2021-11-18T20:44:56.008Z"
   },
   {
    "duration": 112,
    "start_time": "2021-11-18T20:46:01.243Z"
   },
   {
    "duration": 97,
    "start_time": "2021-11-18T20:49:06.280Z"
   },
   {
    "duration": 8,
    "start_time": "2021-11-18T20:49:13.683Z"
   },
   {
    "duration": 7,
    "start_time": "2021-11-18T20:58:44.714Z"
   },
   {
    "duration": 7,
    "start_time": "2021-11-18T20:59:00.568Z"
   },
   {
    "duration": 4,
    "start_time": "2021-11-18T20:59:32.598Z"
   },
   {
    "duration": 397,
    "start_time": "2021-11-18T21:00:38.578Z"
   },
   {
    "duration": 10,
    "start_time": "2021-11-18T21:03:21.180Z"
   },
   {
    "duration": 10,
    "start_time": "2021-11-18T21:07:35.420Z"
   },
   {
    "duration": 19,
    "start_time": "2021-11-18T21:07:50.673Z"
   },
   {
    "duration": 20,
    "start_time": "2021-11-18T21:08:03.464Z"
   },
   {
    "duration": 61,
    "start_time": "2021-11-18T21:08:13.622Z"
   },
   {
    "duration": 20,
    "start_time": "2021-11-18T21:08:14.650Z"
   },
   {
    "duration": 35,
    "start_time": "2021-11-18T21:08:41.161Z"
   },
   {
    "duration": 34,
    "start_time": "2021-11-18T21:08:43.668Z"
   },
   {
    "duration": 9,
    "start_time": "2021-11-18T21:08:46.116Z"
   },
   {
    "duration": 10,
    "start_time": "2021-11-18T21:08:46.858Z"
   },
   {
    "duration": 34,
    "start_time": "2021-11-18T21:08:47.643Z"
   },
   {
    "duration": 12,
    "start_time": "2021-11-18T21:09:10.846Z"
   },
   {
    "duration": 22,
    "start_time": "2021-11-18T21:10:20.939Z"
   },
   {
    "duration": 556,
    "start_time": "2021-11-19T16:37:23.640Z"
   },
   {
    "duration": 774,
    "start_time": "2021-11-19T16:37:36.517Z"
   },
   {
    "duration": 69,
    "start_time": "2021-11-19T16:37:37.293Z"
   },
   {
    "duration": 30,
    "start_time": "2021-11-19T16:37:37.365Z"
   },
   {
    "duration": 15,
    "start_time": "2021-11-19T16:37:37.398Z"
   },
   {
    "duration": 6,
    "start_time": "2021-11-19T16:37:37.416Z"
   },
   {
    "duration": 41,
    "start_time": "2021-11-19T16:37:37.425Z"
   },
   {
    "duration": 18,
    "start_time": "2021-11-19T16:37:37.469Z"
   },
   {
    "duration": 18,
    "start_time": "2021-11-19T16:37:37.490Z"
   },
   {
    "duration": 14,
    "start_time": "2021-11-19T16:37:37.511Z"
   },
   {
    "duration": 520,
    "start_time": "2021-11-19T16:37:37.528Z"
   },
   {
    "duration": 93,
    "start_time": "2021-11-19T16:37:37.958Z"
   },
   {
    "duration": 83,
    "start_time": "2021-11-19T16:37:37.970Z"
   },
   {
    "duration": 83,
    "start_time": "2021-11-19T16:37:37.973Z"
   },
   {
    "duration": 6,
    "start_time": "2021-11-19T16:37:55.114Z"
   },
   {
    "duration": 137,
    "start_time": "2021-11-19T16:45:34.025Z"
   },
   {
    "duration": 53,
    "start_time": "2021-11-19T16:45:55.062Z"
   },
   {
    "duration": 49,
    "start_time": "2021-11-19T16:47:21.970Z"
   },
   {
    "duration": 42,
    "start_time": "2021-11-19T16:48:44.850Z"
   },
   {
    "duration": 6,
    "start_time": "2021-11-19T16:49:14.080Z"
   },
   {
    "duration": 6,
    "start_time": "2021-11-19T16:51:46.061Z"
   },
   {
    "duration": 44,
    "start_time": "2021-11-19T16:52:03.639Z"
   },
   {
    "duration": 43,
    "start_time": "2021-11-19T16:52:07.764Z"
   },
   {
    "duration": 79,
    "start_time": "2021-11-19T16:58:46.283Z"
   },
   {
    "duration": 76,
    "start_time": "2021-11-19T17:00:11.037Z"
   },
   {
    "duration": 74,
    "start_time": "2021-11-19T17:00:47.931Z"
   },
   {
    "duration": 428,
    "start_time": "2021-11-19T17:02:16.332Z"
   },
   {
    "duration": 70,
    "start_time": "2021-11-19T17:04:05.472Z"
   },
   {
    "duration": 396,
    "start_time": "2021-11-19T17:06:33.066Z"
   },
   {
    "duration": 384,
    "start_time": "2021-11-19T17:06:44.612Z"
   },
   {
    "duration": 72,
    "start_time": "2021-11-19T17:06:47.274Z"
   },
   {
    "duration": 70,
    "start_time": "2021-11-19T17:06:54.861Z"
   },
   {
    "duration": 80,
    "start_time": "2021-11-19T17:06:59.044Z"
   },
   {
    "duration": 74,
    "start_time": "2021-11-19T17:08:59.805Z"
   },
   {
    "duration": 83,
    "start_time": "2021-11-19T17:09:04.504Z"
   },
   {
    "duration": 402,
    "start_time": "2021-11-19T17:09:59.916Z"
   },
   {
    "duration": 75,
    "start_time": "2021-11-19T17:10:04.062Z"
   },
   {
    "duration": 14,
    "start_time": "2021-11-19T17:10:49.258Z"
   },
   {
    "duration": 13,
    "start_time": "2021-11-19T17:11:20.679Z"
   },
   {
    "duration": 13,
    "start_time": "2021-11-19T17:12:15.599Z"
   },
   {
    "duration": 24,
    "start_time": "2021-11-19T17:12:48.556Z"
   },
   {
    "duration": 23,
    "start_time": "2021-11-19T17:14:02.776Z"
   },
   {
    "duration": 23,
    "start_time": "2021-11-19T17:14:22.453Z"
   },
   {
    "duration": 28,
    "start_time": "2021-11-19T17:14:32.232Z"
   },
   {
    "duration": 28,
    "start_time": "2021-11-19T17:14:43.268Z"
   },
   {
    "duration": 34,
    "start_time": "2021-11-19T17:14:55.964Z"
   },
   {
    "duration": 32,
    "start_time": "2021-11-19T17:15:06.988Z"
   },
   {
    "duration": 21,
    "start_time": "2021-11-19T17:15:48.771Z"
   },
   {
    "duration": 5,
    "start_time": "2021-11-19T17:17:08.243Z"
   },
   {
    "duration": 6,
    "start_time": "2021-11-19T17:19:12.429Z"
   },
   {
    "duration": 10,
    "start_time": "2021-11-19T17:26:42.227Z"
   },
   {
    "duration": 9,
    "start_time": "2021-11-19T17:27:29.469Z"
   },
   {
    "duration": 385,
    "start_time": "2021-11-19T17:29:50.203Z"
   },
   {
    "duration": 62,
    "start_time": "2021-11-19T17:30:06.293Z"
   },
   {
    "duration": 55,
    "start_time": "2021-11-19T17:30:18.561Z"
   },
   {
    "duration": 9,
    "start_time": "2021-11-19T17:30:27.989Z"
   },
   {
    "duration": 8,
    "start_time": "2021-11-19T17:30:37.996Z"
   },
   {
    "duration": 812,
    "start_time": "2021-11-19T17:31:16.698Z"
   },
   {
    "duration": 65,
    "start_time": "2021-11-19T17:31:17.513Z"
   },
   {
    "duration": 29,
    "start_time": "2021-11-19T17:31:17.582Z"
   },
   {
    "duration": 16,
    "start_time": "2021-11-19T17:31:17.614Z"
   },
   {
    "duration": 31,
    "start_time": "2021-11-19T17:31:17.632Z"
   },
   {
    "duration": 11,
    "start_time": "2021-11-19T17:31:17.666Z"
   },
   {
    "duration": 12,
    "start_time": "2021-11-19T17:31:17.680Z"
   },
   {
    "duration": 15,
    "start_time": "2021-11-19T17:31:17.697Z"
   },
   {
    "duration": 50,
    "start_time": "2021-11-19T17:31:17.715Z"
   },
   {
    "duration": 18,
    "start_time": "2021-11-19T17:31:17.768Z"
   },
   {
    "duration": 467,
    "start_time": "2021-11-19T17:31:17.789Z"
   },
   {
    "duration": 13,
    "start_time": "2021-11-19T17:31:18.246Z"
   },
   {
    "duration": 1,
    "start_time": "2021-11-19T17:31:18.259Z"
   },
   {
    "duration": -1,
    "start_time": "2021-11-19T17:31:18.263Z"
   },
   {
    "duration": -3,
    "start_time": "2021-11-19T17:31:18.266Z"
   },
   {
    "duration": 21,
    "start_time": "2021-11-19T17:38:05.087Z"
   },
   {
    "duration": 10,
    "start_time": "2021-11-19T17:39:06.357Z"
   },
   {
    "duration": 10,
    "start_time": "2021-11-19T17:39:11.607Z"
   },
   {
    "duration": 10,
    "start_time": "2021-11-19T17:39:27.929Z"
   },
   {
    "duration": 10,
    "start_time": "2021-11-19T17:41:10.672Z"
   },
   {
    "duration": 7,
    "start_time": "2021-11-19T17:41:36.885Z"
   },
   {
    "duration": 36,
    "start_time": "2021-11-19T17:42:14.027Z"
   },
   {
    "duration": 8,
    "start_time": "2021-11-19T17:42:38.516Z"
   },
   {
    "duration": 6,
    "start_time": "2021-11-19T17:43:08.725Z"
   },
   {
    "duration": 6,
    "start_time": "2021-11-19T17:43:11.444Z"
   },
   {
    "duration": 7,
    "start_time": "2021-11-19T17:43:14.388Z"
   },
   {
    "duration": 12,
    "start_time": "2021-11-19T17:44:53.242Z"
   },
   {
    "duration": 8,
    "start_time": "2021-11-19T17:46:51.775Z"
   },
   {
    "duration": -37,
    "start_time": "2021-11-19T17:51:48.511Z"
   },
   {
    "duration": 9523,
    "start_time": "2021-11-19T17:52:02.323Z"
   },
   {
    "duration": 7,
    "start_time": "2021-11-19T17:52:33.671Z"
   },
   {
    "duration": 7,
    "start_time": "2021-11-19T17:53:10.922Z"
   },
   {
    "duration": 22,
    "start_time": "2021-11-19T17:53:26.257Z"
   },
   {
    "duration": 128,
    "start_time": "2021-11-19T17:54:23.308Z"
   },
   {
    "duration": 7,
    "start_time": "2021-11-19T17:54:27.002Z"
   },
   {
    "duration": 10,
    "start_time": "2021-11-19T17:56:55.283Z"
   },
   {
    "duration": 11,
    "start_time": "2021-11-19T18:00:06.154Z"
   },
   {
    "duration": 8,
    "start_time": "2021-11-19T18:00:11.966Z"
   },
   {
    "duration": 8,
    "start_time": "2021-11-19T18:00:30.382Z"
   },
   {
    "duration": 6,
    "start_time": "2021-11-19T18:06:22.652Z"
   },
   {
    "duration": 5,
    "start_time": "2021-11-19T18:52:41.576Z"
   },
   {
    "duration": 8,
    "start_time": "2021-11-19T18:52:57.178Z"
   },
   {
    "duration": 6,
    "start_time": "2021-11-19T18:53:41.418Z"
   },
   {
    "duration": 33,
    "start_time": "2021-11-19T18:54:02.691Z"
   },
   {
    "duration": 6,
    "start_time": "2021-11-19T18:54:10.636Z"
   },
   {
    "duration": 6,
    "start_time": "2021-11-19T18:59:34.212Z"
   },
   {
    "duration": 481,
    "start_time": "2021-11-19T19:00:12.256Z"
   },
   {
    "duration": 7,
    "start_time": "2021-11-19T19:00:17.285Z"
   },
   {
    "duration": 76,
    "start_time": "2021-11-19T19:00:19.010Z"
   },
   {
    "duration": 6,
    "start_time": "2021-11-19T19:00:34.172Z"
   },
   {
    "duration": 8,
    "start_time": "2021-11-19T19:00:35.667Z"
   },
   {
    "duration": 130,
    "start_time": "2021-11-19T19:06:33.318Z"
   },
   {
    "duration": 57,
    "start_time": "2021-11-19T19:06:40.403Z"
   },
   {
    "duration": 37,
    "start_time": "2021-11-19T19:07:15.635Z"
   },
   {
    "duration": 34,
    "start_time": "2021-11-19T19:07:28.457Z"
   },
   {
    "duration": 7,
    "start_time": "2021-11-19T19:08:49.001Z"
   },
   {
    "duration": 7,
    "start_time": "2021-11-19T19:08:56.411Z"
   },
   {
    "duration": 7,
    "start_time": "2021-11-19T19:09:02.628Z"
   },
   {
    "duration": 3,
    "start_time": "2021-11-19T19:09:21.792Z"
   },
   {
    "duration": 65,
    "start_time": "2021-11-19T19:09:21.798Z"
   },
   {
    "duration": 20,
    "start_time": "2021-11-19T19:09:21.867Z"
   },
   {
    "duration": 17,
    "start_time": "2021-11-19T19:09:21.889Z"
   },
   {
    "duration": 7,
    "start_time": "2021-11-19T19:09:21.909Z"
   },
   {
    "duration": 6,
    "start_time": "2021-11-19T19:09:21.919Z"
   },
   {
    "duration": 41,
    "start_time": "2021-11-19T19:09:21.927Z"
   },
   {
    "duration": 17,
    "start_time": "2021-11-19T19:09:21.972Z"
   },
   {
    "duration": 9,
    "start_time": "2021-11-19T19:09:21.992Z"
   },
   {
    "duration": 19,
    "start_time": "2021-11-19T19:09:22.003Z"
   },
   {
    "duration": 36,
    "start_time": "2021-11-19T19:09:22.025Z"
   },
   {
    "duration": 10,
    "start_time": "2021-11-19T19:09:22.064Z"
   },
   {
    "duration": 17,
    "start_time": "2021-11-19T19:09:22.077Z"
   },
   {
    "duration": 9,
    "start_time": "2021-11-19T19:09:22.097Z"
   },
   {
    "duration": 54,
    "start_time": "2021-11-19T19:09:22.108Z"
   },
   {
    "duration": 7,
    "start_time": "2021-11-19T19:09:22.165Z"
   },
   {
    "duration": 13,
    "start_time": "2021-11-19T19:09:22.174Z"
   },
   {
    "duration": 9,
    "start_time": "2021-11-19T19:09:22.189Z"
   },
   {
    "duration": 61,
    "start_time": "2021-11-19T19:09:22.200Z"
   },
   {
    "duration": 14,
    "start_time": "2021-11-19T19:09:22.263Z"
   },
   {
    "duration": 100,
    "start_time": "2021-11-19T19:09:22.279Z"
   },
   {
    "duration": 12,
    "start_time": "2021-11-19T19:09:22.382Z"
   },
   {
    "duration": 6,
    "start_time": "2021-11-19T19:24:02.659Z"
   },
   {
    "duration": 16,
    "start_time": "2021-11-19T19:24:09.259Z"
   },
   {
    "duration": 18,
    "start_time": "2021-11-19T19:24:30.899Z"
   },
   {
    "duration": 361,
    "start_time": "2021-11-20T20:22:30.648Z"
   },
   {
    "duration": 791,
    "start_time": "2021-11-20T20:22:35.300Z"
   },
   {
    "duration": 63,
    "start_time": "2021-11-20T20:22:36.094Z"
   },
   {
    "duration": 28,
    "start_time": "2021-11-20T20:22:36.160Z"
   },
   {
    "duration": 39,
    "start_time": "2021-11-20T20:22:36.190Z"
   },
   {
    "duration": 8,
    "start_time": "2021-11-20T20:22:36.232Z"
   },
   {
    "duration": 8,
    "start_time": "2021-11-20T20:22:36.243Z"
   },
   {
    "duration": 13,
    "start_time": "2021-11-20T20:22:36.253Z"
   },
   {
    "duration": 9,
    "start_time": "2021-11-20T20:22:36.268Z"
   },
   {
    "duration": 59,
    "start_time": "2021-11-20T20:22:36.281Z"
   },
   {
    "duration": 18,
    "start_time": "2021-11-20T20:22:36.342Z"
   },
   {
    "duration": 14,
    "start_time": "2021-11-20T20:22:36.362Z"
   },
   {
    "duration": 7,
    "start_time": "2021-11-20T20:22:36.378Z"
   },
   {
    "duration": 42,
    "start_time": "2021-11-20T20:22:36.387Z"
   },
   {
    "duration": 12,
    "start_time": "2021-11-20T20:22:36.432Z"
   },
   {
    "duration": 39,
    "start_time": "2021-11-20T20:22:36.446Z"
   },
   {
    "duration": 6,
    "start_time": "2021-11-20T20:22:36.487Z"
   },
   {
    "duration": 38,
    "start_time": "2021-11-20T20:22:36.496Z"
   },
   {
    "duration": 10,
    "start_time": "2021-11-20T20:22:36.536Z"
   },
   {
    "duration": 23,
    "start_time": "2021-11-20T20:22:36.548Z"
   },
   {
    "duration": 13,
    "start_time": "2021-11-20T20:22:36.574Z"
   },
   {
    "duration": 73,
    "start_time": "2021-11-20T20:22:36.629Z"
   },
   {
    "duration": 32,
    "start_time": "2021-11-20T20:22:36.705Z"
   },
   {
    "duration": 5,
    "start_time": "2021-11-20T20:22:42.093Z"
   },
   {
    "duration": 19,
    "start_time": "2021-11-20T20:22:46.039Z"
   },
   {
    "duration": 5,
    "start_time": "2021-11-20T20:25:40.774Z"
   },
   {
    "duration": 20,
    "start_time": "2021-11-20T20:25:42.179Z"
   },
   {
    "duration": 88,
    "start_time": "2021-11-20T20:29:36.879Z"
   },
   {
    "duration": 103,
    "start_time": "2021-11-20T20:29:40.536Z"
   },
   {
    "duration": 4,
    "start_time": "2021-11-20T20:30:22.039Z"
   },
   {
    "duration": 20,
    "start_time": "2021-11-20T20:30:24.426Z"
   },
   {
    "duration": 19,
    "start_time": "2021-11-20T20:30:53.997Z"
   },
   {
    "duration": 31,
    "start_time": "2021-11-20T20:32:10.643Z"
   },
   {
    "duration": 56,
    "start_time": "2021-11-20T20:34:28.064Z"
   },
   {
    "duration": 28,
    "start_time": "2021-11-20T20:34:39.016Z"
   },
   {
    "duration": 54,
    "start_time": "2021-11-20T20:34:44.039Z"
   },
   {
    "duration": 27,
    "start_time": "2021-11-20T20:34:53.337Z"
   },
   {
    "duration": 23,
    "start_time": "2021-11-20T20:35:20.011Z"
   },
   {
    "duration": 22,
    "start_time": "2021-11-20T20:37:24.742Z"
   },
   {
    "duration": 8045,
    "start_time": "2021-11-20T20:40:25.829Z"
   },
   {
    "duration": 2447,
    "start_time": "2021-11-20T20:41:18.031Z"
   },
   {
    "duration": 66,
    "start_time": "2021-11-20T20:41:22.066Z"
   },
   {
    "duration": 69,
    "start_time": "2021-11-20T20:41:30.694Z"
   },
   {
    "duration": 68,
    "start_time": "2021-11-20T20:42:30.077Z"
   },
   {
    "duration": 4,
    "start_time": "2021-11-20T20:49:35.405Z"
   },
   {
    "duration": 314,
    "start_time": "2021-11-20T20:50:04.140Z"
   },
   {
    "duration": 293,
    "start_time": "2021-11-20T20:50:15.267Z"
   },
   {
    "duration": 16,
    "start_time": "2021-11-20T20:51:17.903Z"
   },
   {
    "duration": 32,
    "start_time": "2021-11-20T20:52:10.934Z"
   },
   {
    "duration": 8,
    "start_time": "2021-11-20T21:01:38.207Z"
   },
   {
    "duration": 3,
    "start_time": "2021-11-20T21:03:23.660Z"
   },
   {
    "duration": 8,
    "start_time": "2021-11-20T21:04:10.720Z"
   },
   {
    "duration": 7,
    "start_time": "2021-11-20T21:05:48.343Z"
   },
   {
    "duration": 9,
    "start_time": "2021-11-20T21:05:51.908Z"
   },
   {
    "duration": 20,
    "start_time": "2021-11-20T21:06:00.377Z"
   },
   {
    "duration": 4,
    "start_time": "2021-11-20T22:13:53.136Z"
   },
   {
    "duration": 598,
    "start_time": "2021-11-21T20:27:54.868Z"
   },
   {
    "duration": 4,
    "start_time": "2021-11-21T20:35:25.944Z"
   },
   {
    "duration": 309,
    "start_time": "2021-11-21T20:35:27.923Z"
   },
   {
    "duration": 2,
    "start_time": "2021-11-21T20:35:35.037Z"
   },
   {
    "duration": 49,
    "start_time": "2021-11-21T20:35:35.041Z"
   },
   {
    "duration": 24,
    "start_time": "2021-11-21T20:35:35.093Z"
   },
   {
    "duration": 9,
    "start_time": "2021-11-21T20:35:35.119Z"
   },
   {
    "duration": 5,
    "start_time": "2021-11-21T20:35:35.130Z"
   },
   {
    "duration": 4,
    "start_time": "2021-11-21T20:35:35.137Z"
   },
   {
    "duration": 7,
    "start_time": "2021-11-21T20:35:35.143Z"
   },
   {
    "duration": 10,
    "start_time": "2021-11-21T20:35:35.187Z"
   },
   {
    "duration": 12,
    "start_time": "2021-11-21T20:35:35.199Z"
   },
   {
    "duration": 12,
    "start_time": "2021-11-21T20:35:35.212Z"
   },
   {
    "duration": 6,
    "start_time": "2021-11-21T20:35:35.226Z"
   },
   {
    "duration": 7,
    "start_time": "2021-11-21T20:35:35.233Z"
   },
   {
    "duration": 5,
    "start_time": "2021-11-21T20:35:35.241Z"
   },
   {
    "duration": 5,
    "start_time": "2021-11-21T20:35:35.248Z"
   },
   {
    "duration": 63,
    "start_time": "2021-11-21T20:35:35.254Z"
   },
   {
    "duration": 4,
    "start_time": "2021-11-21T20:35:35.318Z"
   },
   {
    "duration": 10,
    "start_time": "2021-11-21T20:35:35.324Z"
   },
   {
    "duration": 5,
    "start_time": "2021-11-21T20:35:35.336Z"
   },
   {
    "duration": 13,
    "start_time": "2021-11-21T20:35:35.344Z"
   },
   {
    "duration": 6,
    "start_time": "2021-11-21T20:35:35.358Z"
   },
   {
    "duration": 50,
    "start_time": "2021-11-21T20:35:35.391Z"
   },
   {
    "duration": 17,
    "start_time": "2021-11-21T20:35:35.442Z"
   },
   {
    "duration": 3,
    "start_time": "2021-11-21T20:35:35.461Z"
   },
   {
    "duration": 4,
    "start_time": "2021-11-21T20:35:35.465Z"
   },
   {
    "duration": 30,
    "start_time": "2021-11-21T20:35:35.470Z"
   },
   {
    "duration": 17,
    "start_time": "2021-11-21T20:35:35.502Z"
   },
   {
    "duration": 15,
    "start_time": "2021-11-21T20:35:35.520Z"
   },
   {
    "duration": 13,
    "start_time": "2021-11-21T20:35:35.537Z"
   },
   {
    "duration": 80,
    "start_time": "2021-11-21T20:35:35.551Z"
   },
   {
    "duration": 10,
    "start_time": "2021-11-21T20:35:35.633Z"
   },
   {
    "duration": 23,
    "start_time": "2021-11-21T20:35:35.644Z"
   },
   {
    "duration": 25,
    "start_time": "2021-11-21T20:35:35.668Z"
   },
   {
    "duration": 8,
    "start_time": "2021-11-21T20:35:35.695Z"
   },
   {
    "duration": 15,
    "start_time": "2021-11-21T20:35:35.705Z"
   },
   {
    "duration": 4,
    "start_time": "2021-11-21T20:35:35.721Z"
   },
   {
    "duration": 3626,
    "start_time": "2021-11-21T20:35:37.698Z"
   },
   {
    "duration": 14,
    "start_time": "2021-11-21T20:36:39.715Z"
   },
   {
    "duration": 8,
    "start_time": "2021-11-21T20:41:05.077Z"
   },
   {
    "duration": 12,
    "start_time": "2021-11-21T20:42:04.182Z"
   },
   {
    "duration": 3,
    "start_time": "2021-11-21T21:05:47.014Z"
   },
   {
    "duration": 2792,
    "start_time": "2021-11-21T21:06:02.808Z"
   },
   {
    "duration": 3,
    "start_time": "2021-11-21T21:06:11.142Z"
   },
   {
    "duration": 6,
    "start_time": "2021-11-21T21:07:18.341Z"
   },
   {
    "duration": 18,
    "start_time": "2021-11-21T21:07:55.188Z"
   },
   {
    "duration": 13,
    "start_time": "2021-11-21T21:08:19.357Z"
   },
   {
    "duration": 76,
    "start_time": "2021-11-21T21:12:43.466Z"
   },
   {
    "duration": 5,
    "start_time": "2021-11-21T21:13:38.403Z"
   },
   {
    "duration": 4,
    "start_time": "2021-11-21T21:13:48.830Z"
   },
   {
    "duration": 83,
    "start_time": "2021-11-21T21:14:39.556Z"
   },
   {
    "duration": 77,
    "start_time": "2021-11-21T21:15:06.167Z"
   },
   {
    "duration": 79,
    "start_time": "2021-11-21T21:15:40.623Z"
   },
   {
    "duration": 79,
    "start_time": "2021-11-21T21:17:05.976Z"
   },
   {
    "duration": 75,
    "start_time": "2021-11-21T21:17:17.654Z"
   },
   {
    "duration": 76,
    "start_time": "2021-11-21T21:17:40.734Z"
   },
   {
    "duration": 84,
    "start_time": "2021-11-21T21:17:51.897Z"
   },
   {
    "duration": 83,
    "start_time": "2021-11-21T21:18:10.780Z"
   },
   {
    "duration": 79,
    "start_time": "2021-11-21T21:19:31.316Z"
   },
   {
    "duration": 79,
    "start_time": "2021-11-21T21:19:45.515Z"
   },
   {
    "duration": 73,
    "start_time": "2021-11-21T21:20:05.278Z"
   },
   {
    "duration": 4,
    "start_time": "2021-11-21T21:20:09.038Z"
   },
   {
    "duration": 3,
    "start_time": "2021-11-21T21:20:18.352Z"
   },
   {
    "duration": 72,
    "start_time": "2021-11-21T21:20:28.197Z"
   },
   {
    "duration": 186,
    "start_time": "2021-11-21T21:20:36.070Z"
   },
   {
    "duration": 97,
    "start_time": "2021-11-21T21:20:45.885Z"
   },
   {
    "duration": 5,
    "start_time": "2021-11-21T21:22:05.651Z"
   },
   {
    "duration": 89,
    "start_time": "2021-11-21T21:22:25.544Z"
   },
   {
    "duration": 79,
    "start_time": "2021-11-21T21:22:32.300Z"
   },
   {
    "duration": 86,
    "start_time": "2021-11-21T21:22:36.662Z"
   },
   {
    "duration": 76,
    "start_time": "2021-11-21T21:22:39.948Z"
   },
   {
    "duration": 75,
    "start_time": "2021-11-21T21:22:46.031Z"
   },
   {
    "duration": 85,
    "start_time": "2021-11-21T21:22:57.700Z"
   },
   {
    "duration": 4,
    "start_time": "2021-11-21T21:23:14.274Z"
   },
   {
    "duration": 4,
    "start_time": "2021-11-21T21:24:02.011Z"
   },
   {
    "duration": 4,
    "start_time": "2021-11-21T21:24:15.462Z"
   },
   {
    "duration": 4,
    "start_time": "2021-11-21T21:24:53.562Z"
   },
   {
    "duration": 22,
    "start_time": "2021-11-21T21:55:14.856Z"
   },
   {
    "duration": 257,
    "start_time": "2021-11-21T21:56:38.142Z"
   },
   {
    "duration": 18,
    "start_time": "2021-11-21T21:56:56.849Z"
   },
   {
    "duration": 16,
    "start_time": "2021-11-21T21:57:05.219Z"
   },
   {
    "duration": 17,
    "start_time": "2021-11-21T21:57:11.493Z"
   },
   {
    "duration": 17,
    "start_time": "2021-11-21T21:57:17.510Z"
   },
   {
    "duration": 81,
    "start_time": "2021-11-21T21:57:20.940Z"
   },
   {
    "duration": 20,
    "start_time": "2021-11-21T21:57:30.828Z"
   },
   {
    "duration": 18,
    "start_time": "2021-11-21T21:57:48.391Z"
   },
   {
    "duration": 265,
    "start_time": "2021-11-21T21:58:13.764Z"
   },
   {
    "duration": 21,
    "start_time": "2021-11-21T21:58:25.683Z"
   },
   {
    "duration": 20,
    "start_time": "2021-11-21T21:58:36.775Z"
   },
   {
    "duration": 14,
    "start_time": "2021-11-21T22:01:48.136Z"
   },
   {
    "duration": 23,
    "start_time": "2021-11-21T22:01:55.100Z"
   },
   {
    "duration": 17,
    "start_time": "2021-11-21T22:02:24.976Z"
   },
   {
    "duration": 25,
    "start_time": "2021-11-21T22:04:01.683Z"
   },
   {
    "duration": 5,
    "start_time": "2021-11-21T22:27:05.298Z"
   },
   {
    "duration": 79,
    "start_time": "2021-11-21T22:39:12.485Z"
   },
   {
    "duration": 11,
    "start_time": "2021-11-21T22:39:24.541Z"
   },
   {
    "duration": 228,
    "start_time": "2021-11-21T22:39:50.704Z"
   },
   {
    "duration": 241,
    "start_time": "2021-11-21T22:40:04.585Z"
   },
   {
    "duration": 25,
    "start_time": "2021-11-21T22:40:09.358Z"
   },
   {
    "duration": 612,
    "start_time": "2021-11-21T22:40:26.275Z"
   },
   {
    "duration": 9,
    "start_time": "2021-11-21T22:42:01.980Z"
   },
   {
    "duration": 8,
    "start_time": "2021-11-21T22:42:29.664Z"
   },
   {
    "duration": 9,
    "start_time": "2021-11-21T22:42:36.707Z"
   },
   {
    "duration": 393,
    "start_time": "2021-11-22T09:59:05.513Z"
   },
   {
    "duration": 778,
    "start_time": "2021-11-22T09:59:15.958Z"
   },
   {
    "duration": 63,
    "start_time": "2021-11-22T09:59:16.738Z"
   },
   {
    "duration": 29,
    "start_time": "2021-11-22T09:59:16.804Z"
   },
   {
    "duration": 18,
    "start_time": "2021-11-22T09:59:16.836Z"
   },
   {
    "duration": 8,
    "start_time": "2021-11-22T09:59:16.856Z"
   },
   {
    "duration": 38,
    "start_time": "2021-11-22T09:59:16.866Z"
   },
   {
    "duration": 14,
    "start_time": "2021-11-22T09:59:16.907Z"
   },
   {
    "duration": 11,
    "start_time": "2021-11-22T09:59:16.924Z"
   },
   {
    "duration": 20,
    "start_time": "2021-11-22T09:59:16.938Z"
   },
   {
    "duration": 42,
    "start_time": "2021-11-22T09:59:16.960Z"
   },
   {
    "duration": 8,
    "start_time": "2021-11-22T09:59:17.004Z"
   },
   {
    "duration": 10,
    "start_time": "2021-11-22T09:59:17.014Z"
   },
   {
    "duration": 9,
    "start_time": "2021-11-22T09:59:17.026Z"
   },
   {
    "duration": 7,
    "start_time": "2021-11-22T09:59:17.038Z"
   },
   {
    "duration": 75,
    "start_time": "2021-11-22T09:59:17.047Z"
   },
   {
    "duration": 6,
    "start_time": "2021-11-22T09:59:17.125Z"
   },
   {
    "duration": 29,
    "start_time": "2021-11-22T09:59:17.134Z"
   },
   {
    "duration": 20,
    "start_time": "2021-11-22T09:59:17.165Z"
   },
   {
    "duration": 33,
    "start_time": "2021-11-22T09:59:17.187Z"
   },
   {
    "duration": 16,
    "start_time": "2021-11-22T09:59:17.222Z"
   },
   {
    "duration": 95,
    "start_time": "2021-11-22T09:59:17.240Z"
   },
   {
    "duration": 11,
    "start_time": "2021-11-22T09:59:17.338Z"
   },
   {
    "duration": 5,
    "start_time": "2021-11-22T09:59:17.355Z"
   },
   {
    "duration": 37,
    "start_time": "2021-11-22T09:59:17.363Z"
   },
   {
    "duration": 20,
    "start_time": "2021-11-22T09:59:17.403Z"
   },
   {
    "duration": 29,
    "start_time": "2021-11-22T09:59:17.425Z"
   },
   {
    "duration": 49,
    "start_time": "2021-11-22T09:59:17.456Z"
   },
   {
    "duration": 22,
    "start_time": "2021-11-22T09:59:17.508Z"
   },
   {
    "duration": 89,
    "start_time": "2021-11-22T09:59:17.532Z"
   },
   {
    "duration": 16,
    "start_time": "2021-11-22T09:59:17.623Z"
   },
   {
    "duration": 37,
    "start_time": "2021-11-22T09:59:17.642Z"
   },
   {
    "duration": 20,
    "start_time": "2021-11-22T09:59:17.682Z"
   },
   {
    "duration": 7,
    "start_time": "2021-11-22T09:59:17.704Z"
   },
   {
    "duration": 20,
    "start_time": "2021-11-22T09:59:17.713Z"
   },
   {
    "duration": 969,
    "start_time": "2021-11-22T09:59:17.735Z"
   },
   {
    "duration": 5,
    "start_time": "2021-11-22T09:59:18.706Z"
   },
   {
    "duration": 3724,
    "start_time": "2021-11-22T09:59:18.714Z"
   },
   {
    "duration": 21,
    "start_time": "2021-11-22T09:59:22.441Z"
   },
   {
    "duration": 11,
    "start_time": "2021-11-22T09:59:22.465Z"
   },
   {
    "duration": 31,
    "start_time": "2021-11-22T09:59:22.479Z"
   },
   {
    "duration": 11,
    "start_time": "2021-11-22T09:59:22.513Z"
   },
   {
    "duration": 4,
    "start_time": "2021-11-22T09:59:22.527Z"
   },
   {
    "duration": 6,
    "start_time": "2021-11-22T09:59:22.534Z"
   },
   {
    "duration": 72,
    "start_time": "2021-11-22T09:59:22.542Z"
   },
   {
    "duration": 33,
    "start_time": "2021-11-22T09:59:22.617Z"
   },
   {
    "duration": 3,
    "start_time": "2021-11-22T09:59:22.653Z"
   },
   {
    "duration": 5,
    "start_time": "2021-11-22T10:01:10.252Z"
   },
   {
    "duration": 11788,
    "start_time": "2021-11-22T10:01:11.269Z"
   },
   {
    "duration": 52,
    "start_time": "2021-11-22T10:01:23.060Z"
   },
   {
    "duration": 8,
    "start_time": "2021-11-22T10:02:22.360Z"
   },
   {
    "duration": 3660,
    "start_time": "2021-11-22T10:03:11.897Z"
   },
   {
    "duration": 11691,
    "start_time": "2021-11-22T10:03:20.349Z"
   },
   {
    "duration": 12280,
    "start_time": "2021-11-22T10:04:46.853Z"
   },
   {
    "duration": 5,
    "start_time": "2021-11-22T10:05:55.289Z"
   },
   {
    "duration": 3873,
    "start_time": "2021-11-22T10:05:56.035Z"
   },
   {
    "duration": 9,
    "start_time": "2021-11-22T10:06:43.372Z"
   },
   {
    "duration": 7,
    "start_time": "2021-11-22T10:06:47.052Z"
   },
   {
    "duration": 8,
    "start_time": "2021-11-22T10:06:57.562Z"
   },
   {
    "duration": 10,
    "start_time": "2021-11-22T10:07:01.837Z"
   },
   {
    "duration": 25,
    "start_time": "2021-11-22T10:07:06.794Z"
   },
   {
    "duration": 33,
    "start_time": "2021-11-22T10:08:15.647Z"
   },
   {
    "duration": 27,
    "start_time": "2021-11-22T10:08:26.781Z"
   },
   {
    "duration": 30,
    "start_time": "2021-11-22T10:10:09.973Z"
   },
   {
    "duration": 15,
    "start_time": "2021-11-22T10:15:00.136Z"
   },
   {
    "duration": 4,
    "start_time": "2021-11-22T10:26:19.633Z"
   },
   {
    "duration": 3563,
    "start_time": "2021-11-22T10:26:21.219Z"
   },
   {
    "duration": 7,
    "start_time": "2021-11-22T10:27:30.431Z"
   },
   {
    "duration": 7,
    "start_time": "2021-11-22T10:29:40.970Z"
   },
   {
    "duration": 9,
    "start_time": "2021-11-22T10:36:12.763Z"
   },
   {
    "duration": 6,
    "start_time": "2021-11-22T10:36:22.297Z"
   },
   {
    "duration": 12,
    "start_time": "2021-11-22T10:36:49.327Z"
   },
   {
    "duration": 11,
    "start_time": "2021-11-22T10:36:53.539Z"
   },
   {
    "duration": 785,
    "start_time": "2021-11-22T10:37:01.354Z"
   },
   {
    "duration": 65,
    "start_time": "2021-11-22T10:37:02.142Z"
   },
   {
    "duration": 30,
    "start_time": "2021-11-22T10:37:02.213Z"
   },
   {
    "duration": 32,
    "start_time": "2021-11-22T10:37:02.245Z"
   },
   {
    "duration": 23,
    "start_time": "2021-11-22T10:37:02.279Z"
   },
   {
    "duration": 19,
    "start_time": "2021-11-22T10:37:02.304Z"
   },
   {
    "duration": 21,
    "start_time": "2021-11-22T10:37:02.327Z"
   },
   {
    "duration": 21,
    "start_time": "2021-11-22T10:37:02.351Z"
   },
   {
    "duration": 24,
    "start_time": "2021-11-22T10:37:02.374Z"
   },
   {
    "duration": 30,
    "start_time": "2021-11-22T10:37:02.401Z"
   },
   {
    "duration": 23,
    "start_time": "2021-11-22T10:37:02.434Z"
   },
   {
    "duration": 16,
    "start_time": "2021-11-22T10:37:02.460Z"
   },
   {
    "duration": 13,
    "start_time": "2021-11-22T10:37:02.479Z"
   },
   {
    "duration": 16,
    "start_time": "2021-11-22T10:37:02.495Z"
   },
   {
    "duration": 44,
    "start_time": "2021-11-22T10:37:02.514Z"
   },
   {
    "duration": 6,
    "start_time": "2021-11-22T10:37:02.561Z"
   },
   {
    "duration": 39,
    "start_time": "2021-11-22T10:37:02.569Z"
   },
   {
    "duration": 21,
    "start_time": "2021-11-22T10:37:02.610Z"
   },
   {
    "duration": 22,
    "start_time": "2021-11-22T10:37:02.634Z"
   },
   {
    "duration": 22,
    "start_time": "2021-11-22T10:37:02.659Z"
   },
   {
    "duration": 98,
    "start_time": "2021-11-22T10:37:02.684Z"
   },
   {
    "duration": 22,
    "start_time": "2021-11-22T10:37:02.788Z"
   },
   {
    "duration": 26,
    "start_time": "2021-11-22T10:37:02.816Z"
   },
   {
    "duration": 6,
    "start_time": "2021-11-22T10:37:02.854Z"
   },
   {
    "duration": 29,
    "start_time": "2021-11-22T10:37:02.862Z"
   },
   {
    "duration": 35,
    "start_time": "2021-11-22T10:37:02.894Z"
   },
   {
    "duration": 30,
    "start_time": "2021-11-22T10:37:02.932Z"
   },
   {
    "duration": 48,
    "start_time": "2021-11-22T10:37:02.965Z"
   },
   {
    "duration": 101,
    "start_time": "2021-11-22T10:37:03.016Z"
   },
   {
    "duration": 16,
    "start_time": "2021-11-22T10:37:03.119Z"
   },
   {
    "duration": 37,
    "start_time": "2021-11-22T10:37:03.138Z"
   },
   {
    "duration": 24,
    "start_time": "2021-11-22T10:37:03.177Z"
   },
   {
    "duration": 9,
    "start_time": "2021-11-22T10:37:03.204Z"
   },
   {
    "duration": 22,
    "start_time": "2021-11-22T10:37:03.215Z"
   },
   {
    "duration": 965,
    "start_time": "2021-11-22T10:37:03.240Z"
   },
   {
    "duration": 5,
    "start_time": "2021-11-22T10:37:04.208Z"
   },
   {
    "duration": 3759,
    "start_time": "2021-11-22T10:37:04.216Z"
   },
   {
    "duration": 27,
    "start_time": "2021-11-22T10:37:07.977Z"
   },
   {
    "duration": 15,
    "start_time": "2021-11-22T10:37:08.006Z"
   },
   {
    "duration": 26,
    "start_time": "2021-11-22T10:37:08.023Z"
   },
   {
    "duration": 12,
    "start_time": "2021-11-22T10:37:08.051Z"
   },
   {
    "duration": 4,
    "start_time": "2021-11-22T10:37:08.065Z"
   },
   {
    "duration": 35,
    "start_time": "2021-11-22T10:37:08.072Z"
   },
   {
    "duration": 11,
    "start_time": "2021-11-22T10:37:08.109Z"
   },
   {
    "duration": 4,
    "start_time": "2021-11-22T10:37:08.123Z"
   },
   {
    "duration": 23,
    "start_time": "2021-11-22T10:37:08.130Z"
   },
   {
    "duration": 53,
    "start_time": "2021-11-22T10:37:08.155Z"
   },
   {
    "duration": 35,
    "start_time": "2021-11-22T10:37:08.211Z"
   },
   {
    "duration": 66,
    "start_time": "2021-11-22T10:37:08.249Z"
   },
   {
    "duration": 3,
    "start_time": "2021-11-22T10:37:08.318Z"
   },
   {
    "duration": 10,
    "start_time": "2021-11-22T10:38:10.404Z"
   },
   {
    "duration": 10,
    "start_time": "2021-11-22T10:38:23.783Z"
   },
   {
    "duration": 31,
    "start_time": "2021-11-22T10:39:43.367Z"
   },
   {
    "duration": 35,
    "start_time": "2021-11-22T11:31:21.956Z"
   },
   {
    "duration": 37,
    "start_time": "2021-11-22T11:36:31.641Z"
   },
   {
    "duration": 37,
    "start_time": "2021-11-22T11:39:43.869Z"
   },
   {
    "duration": 33,
    "start_time": "2021-11-22T11:46:21.404Z"
   },
   {
    "duration": 32,
    "start_time": "2021-11-22T12:01:53.782Z"
   },
   {
    "duration": 801,
    "start_time": "2021-11-22T12:20:55.287Z"
   },
   {
    "duration": 66,
    "start_time": "2021-11-22T12:20:56.090Z"
   },
   {
    "duration": 31,
    "start_time": "2021-11-22T12:20:56.159Z"
   },
   {
    "duration": 16,
    "start_time": "2021-11-22T12:20:56.201Z"
   },
   {
    "duration": 8,
    "start_time": "2021-11-22T12:20:56.220Z"
   },
   {
    "duration": 11,
    "start_time": "2021-11-22T12:20:56.230Z"
   },
   {
    "duration": 12,
    "start_time": "2021-11-22T12:20:56.244Z"
   },
   {
    "duration": 45,
    "start_time": "2021-11-22T12:20:56.259Z"
   },
   {
    "duration": 15,
    "start_time": "2021-11-22T12:20:56.307Z"
   },
   {
    "duration": 20,
    "start_time": "2021-11-22T12:20:56.324Z"
   },
   {
    "duration": 14,
    "start_time": "2021-11-22T12:20:56.347Z"
   },
   {
    "duration": 38,
    "start_time": "2021-11-22T12:20:56.364Z"
   },
   {
    "duration": 6,
    "start_time": "2021-11-22T12:20:56.405Z"
   },
   {
    "duration": 8,
    "start_time": "2021-11-22T12:20:56.413Z"
   },
   {
    "duration": 40,
    "start_time": "2021-11-22T12:20:56.423Z"
   },
   {
    "duration": 38,
    "start_time": "2021-11-22T12:20:56.466Z"
   },
   {
    "duration": 19,
    "start_time": "2021-11-22T12:20:56.506Z"
   },
   {
    "duration": 8,
    "start_time": "2021-11-22T12:20:56.528Z"
   },
   {
    "duration": 19,
    "start_time": "2021-11-22T12:20:56.539Z"
   },
   {
    "duration": 41,
    "start_time": "2021-11-22T12:20:56.561Z"
   },
   {
    "duration": 80,
    "start_time": "2021-11-22T12:20:56.605Z"
   },
   {
    "duration": 13,
    "start_time": "2021-11-22T12:20:56.700Z"
   },
   {
    "duration": 5,
    "start_time": "2021-11-22T12:20:56.720Z"
   },
   {
    "duration": 14,
    "start_time": "2021-11-22T12:20:56.730Z"
   },
   {
    "duration": 22,
    "start_time": "2021-11-22T12:20:56.746Z"
   },
   {
    "duration": 55,
    "start_time": "2021-11-22T12:20:56.771Z"
   },
   {
    "duration": 29,
    "start_time": "2021-11-22T12:20:56.829Z"
   },
   {
    "duration": 58,
    "start_time": "2021-11-22T12:20:56.860Z"
   },
   {
    "duration": 91,
    "start_time": "2021-11-22T12:20:56.920Z"
   },
   {
    "duration": 17,
    "start_time": "2021-11-22T12:20:57.014Z"
   },
   {
    "duration": 38,
    "start_time": "2021-11-22T12:20:57.034Z"
   },
   {
    "duration": 31,
    "start_time": "2021-11-22T12:20:57.075Z"
   },
   {
    "duration": 10,
    "start_time": "2021-11-22T12:20:57.109Z"
   },
   {
    "duration": 18,
    "start_time": "2021-11-22T12:20:57.121Z"
   },
   {
    "duration": 965,
    "start_time": "2021-11-22T12:20:57.141Z"
   },
   {
    "duration": 6,
    "start_time": "2021-11-22T12:20:58.108Z"
   },
   {
    "duration": 4099,
    "start_time": "2021-11-22T12:20:58.116Z"
   },
   {
    "duration": 9,
    "start_time": "2021-11-22T12:21:02.218Z"
   },
   {
    "duration": 44,
    "start_time": "2021-11-22T12:21:02.230Z"
   },
   {
    "duration": 32,
    "start_time": "2021-11-22T12:21:02.277Z"
   },
   {
    "duration": 20,
    "start_time": "2021-11-22T12:21:02.311Z"
   },
   {
    "duration": 13,
    "start_time": "2021-11-22T12:21:02.333Z"
   },
   {
    "duration": 37,
    "start_time": "2021-11-22T12:21:02.348Z"
   },
   {
    "duration": 47,
    "start_time": "2021-11-22T12:21:02.387Z"
   },
   {
    "duration": 26,
    "start_time": "2021-11-22T12:21:02.436Z"
   },
   {
    "duration": 73,
    "start_time": "2021-11-22T12:21:02.465Z"
   },
   {
    "duration": 84,
    "start_time": "2021-11-22T12:21:02.540Z"
   },
   {
    "duration": 31,
    "start_time": "2021-11-22T12:21:02.627Z"
   },
   {
    "duration": 52,
    "start_time": "2021-11-22T12:21:02.661Z"
   },
   {
    "duration": 5,
    "start_time": "2021-11-22T13:59:39.793Z"
   },
   {
    "duration": 9912,
    "start_time": "2021-11-22T13:59:42.313Z"
   },
   {
    "duration": 357,
    "start_time": "2021-11-22T14:00:09.424Z"
   },
   {
    "duration": 18,
    "start_time": "2021-11-22T14:00:17.089Z"
   },
   {
    "duration": 24,
    "start_time": "2021-11-22T14:01:16.845Z"
   },
   {
    "duration": 23,
    "start_time": "2021-11-22T14:02:02.966Z"
   },
   {
    "duration": 13,
    "start_time": "2021-11-22T14:02:17.158Z"
   },
   {
    "duration": 34,
    "start_time": "2021-11-22T14:06:12.134Z"
   },
   {
    "duration": 378,
    "start_time": "2021-11-22T14:06:30.195Z"
   },
   {
    "duration": 30,
    "start_time": "2021-11-22T14:06:35.441Z"
   },
   {
    "duration": 31,
    "start_time": "2021-11-22T14:07:26.972Z"
   },
   {
    "duration": 32,
    "start_time": "2021-11-22T14:07:33.874Z"
   },
   {
    "duration": 33,
    "start_time": "2021-11-22T14:08:13.018Z"
   },
   {
    "duration": 141,
    "start_time": "2021-11-22T14:21:26.121Z"
   },
   {
    "duration": 152,
    "start_time": "2021-11-22T14:22:08.016Z"
   },
   {
    "duration": 111,
    "start_time": "2021-11-22T14:22:56.311Z"
   },
   {
    "duration": 134,
    "start_time": "2021-11-22T14:27:51.336Z"
   },
   {
    "duration": 111,
    "start_time": "2021-11-22T14:27:57.616Z"
   },
   {
    "duration": 114,
    "start_time": "2021-11-22T14:29:07.278Z"
   },
   {
    "duration": 161,
    "start_time": "2021-11-22T14:29:31.508Z"
   },
   {
    "duration": 7,
    "start_time": "2021-11-22T14:29:57.509Z"
   },
   {
    "duration": 872,
    "start_time": "2021-11-22T14:30:31.147Z"
   },
   {
    "duration": 6,
    "start_time": "2021-11-22T14:31:00.704Z"
   },
   {
    "duration": 802,
    "start_time": "2021-11-22T15:36:56.486Z"
   },
   {
    "duration": 66,
    "start_time": "2021-11-22T15:36:57.291Z"
   },
   {
    "duration": 43,
    "start_time": "2021-11-22T15:36:57.363Z"
   },
   {
    "duration": 20,
    "start_time": "2021-11-22T15:36:57.408Z"
   },
   {
    "duration": 8,
    "start_time": "2021-11-22T15:36:57.431Z"
   },
   {
    "duration": 9,
    "start_time": "2021-11-22T15:36:57.441Z"
   },
   {
    "duration": 51,
    "start_time": "2021-11-22T15:36:57.454Z"
   },
   {
    "duration": 10,
    "start_time": "2021-11-22T15:36:57.508Z"
   },
   {
    "duration": 14,
    "start_time": "2021-11-22T15:36:57.521Z"
   },
   {
    "duration": 20,
    "start_time": "2021-11-22T15:36:57.538Z"
   },
   {
    "duration": 8,
    "start_time": "2021-11-22T15:36:57.560Z"
   },
   {
    "duration": 8,
    "start_time": "2021-11-22T15:36:57.602Z"
   },
   {
    "duration": 7,
    "start_time": "2021-11-22T15:36:57.613Z"
   },
   {
    "duration": 10,
    "start_time": "2021-11-22T15:36:57.622Z"
   },
   {
    "duration": 74,
    "start_time": "2021-11-22T15:36:57.635Z"
   },
   {
    "duration": 8,
    "start_time": "2021-11-22T15:36:57.712Z"
   },
   {
    "duration": 15,
    "start_time": "2021-11-22T15:36:57.723Z"
   },
   {
    "duration": 13,
    "start_time": "2021-11-22T15:36:57.741Z"
   },
   {
    "duration": 64,
    "start_time": "2021-11-22T15:36:57.757Z"
   },
   {
    "duration": 7,
    "start_time": "2021-11-22T15:36:57.823Z"
   },
   {
    "duration": 111,
    "start_time": "2021-11-22T15:36:57.832Z"
   },
   {
    "duration": 12,
    "start_time": "2021-11-22T15:36:57.949Z"
   },
   {
    "duration": 4,
    "start_time": "2021-11-22T15:36:57.965Z"
   },
   {
    "duration": 31,
    "start_time": "2021-11-22T15:36:57.972Z"
   },
   {
    "duration": 23,
    "start_time": "2021-11-22T15:36:58.005Z"
   },
   {
    "duration": 25,
    "start_time": "2021-11-22T15:36:58.030Z"
   },
   {
    "duration": 59,
    "start_time": "2021-11-22T15:36:58.058Z"
   },
   {
    "duration": 23,
    "start_time": "2021-11-22T15:36:58.119Z"
   },
   {
    "duration": 87,
    "start_time": "2021-11-22T15:36:58.144Z"
   },
   {
    "duration": 16,
    "start_time": "2021-11-22T15:36:58.233Z"
   },
   {
    "duration": 51,
    "start_time": "2021-11-22T15:36:58.251Z"
   },
   {
    "duration": 7,
    "start_time": "2021-11-22T15:36:58.304Z"
   },
   {
    "duration": 7,
    "start_time": "2021-11-22T15:36:58.314Z"
   },
   {
    "duration": 19,
    "start_time": "2021-11-22T15:36:58.324Z"
   },
   {
    "duration": 1080,
    "start_time": "2021-11-22T15:36:58.345Z"
   },
   {
    "duration": 5,
    "start_time": "2021-11-22T15:36:59.428Z"
   },
   {
    "duration": 3807,
    "start_time": "2021-11-22T15:36:59.436Z"
   },
   {
    "duration": 14,
    "start_time": "2021-11-22T15:37:03.245Z"
   },
   {
    "duration": 14,
    "start_time": "2021-11-22T15:37:03.261Z"
   },
   {
    "duration": 31,
    "start_time": "2021-11-22T15:37:03.277Z"
   },
   {
    "duration": 11,
    "start_time": "2021-11-22T15:37:03.310Z"
   },
   {
    "duration": 7,
    "start_time": "2021-11-22T15:37:03.323Z"
   },
   {
    "duration": 29,
    "start_time": "2021-11-22T15:37:03.332Z"
   },
   {
    "duration": 13,
    "start_time": "2021-11-22T15:37:03.364Z"
   },
   {
    "duration": 23,
    "start_time": "2021-11-22T15:37:03.379Z"
   },
   {
    "duration": 22,
    "start_time": "2021-11-22T15:37:03.405Z"
   },
   {
    "duration": 29,
    "start_time": "2021-11-22T15:37:03.430Z"
   },
   {
    "duration": 79,
    "start_time": "2021-11-22T15:37:03.462Z"
   },
   {
    "duration": 37,
    "start_time": "2021-11-22T15:37:03.544Z"
   },
   {
    "duration": 32,
    "start_time": "2021-11-22T15:37:03.600Z"
   },
   {
    "duration": 33,
    "start_time": "2021-11-22T15:37:03.635Z"
   },
   {
    "duration": 32,
    "start_time": "2021-11-22T15:38:56.624Z"
   },
   {
    "duration": 816,
    "start_time": "2021-11-22T15:43:53.268Z"
   },
   {
    "duration": 67,
    "start_time": "2021-11-22T15:43:54.089Z"
   },
   {
    "duration": 42,
    "start_time": "2021-11-22T15:43:54.160Z"
   },
   {
    "duration": 17,
    "start_time": "2021-11-22T15:43:54.205Z"
   },
   {
    "duration": 17,
    "start_time": "2021-11-22T15:43:54.225Z"
   },
   {
    "duration": 13,
    "start_time": "2021-11-22T15:43:54.245Z"
   },
   {
    "duration": 44,
    "start_time": "2021-11-22T15:43:54.261Z"
   },
   {
    "duration": 10,
    "start_time": "2021-11-22T15:43:54.309Z"
   },
   {
    "duration": 14,
    "start_time": "2021-11-22T15:43:54.322Z"
   },
   {
    "duration": 23,
    "start_time": "2021-11-22T15:43:54.338Z"
   },
   {
    "duration": 12,
    "start_time": "2021-11-22T15:43:54.364Z"
   },
   {
    "duration": 31,
    "start_time": "2021-11-22T15:43:54.378Z"
   },
   {
    "duration": 14,
    "start_time": "2021-11-22T15:43:54.412Z"
   },
   {
    "duration": 15,
    "start_time": "2021-11-22T15:43:54.428Z"
   },
   {
    "duration": 60,
    "start_time": "2021-11-22T15:43:54.446Z"
   },
   {
    "duration": 6,
    "start_time": "2021-11-22T15:43:54.509Z"
   },
   {
    "duration": 21,
    "start_time": "2021-11-22T15:43:54.518Z"
   },
   {
    "duration": 17,
    "start_time": "2021-11-22T15:43:54.541Z"
   },
   {
    "duration": 41,
    "start_time": "2021-11-22T15:43:54.561Z"
   },
   {
    "duration": 6,
    "start_time": "2021-11-22T15:43:54.605Z"
   },
   {
    "duration": 104,
    "start_time": "2021-11-22T15:43:54.613Z"
   },
   {
    "duration": 12,
    "start_time": "2021-11-22T15:43:54.720Z"
   },
   {
    "duration": 7,
    "start_time": "2021-11-22T15:43:54.738Z"
   },
   {
    "duration": 6,
    "start_time": "2021-11-22T15:43:54.748Z"
   },
   {
    "duration": 52,
    "start_time": "2021-11-22T15:43:54.756Z"
   },
   {
    "duration": 26,
    "start_time": "2021-11-22T15:43:54.811Z"
   },
   {
    "duration": 29,
    "start_time": "2021-11-22T15:43:54.840Z"
   },
   {
    "duration": 49,
    "start_time": "2021-11-22T15:43:54.871Z"
   },
   {
    "duration": 92,
    "start_time": "2021-11-22T15:43:54.922Z"
   },
   {
    "duration": 18,
    "start_time": "2021-11-22T15:43:55.017Z"
   },
   {
    "duration": 39,
    "start_time": "2021-11-22T15:43:55.038Z"
   },
   {
    "duration": 43,
    "start_time": "2021-11-22T15:43:55.080Z"
   },
   {
    "duration": 21,
    "start_time": "2021-11-22T15:43:55.126Z"
   },
   {
    "duration": 23,
    "start_time": "2021-11-22T15:43:55.150Z"
   },
   {
    "duration": 959,
    "start_time": "2021-11-22T15:43:55.176Z"
   },
   {
    "duration": 5,
    "start_time": "2021-11-22T15:43:56.138Z"
   },
   {
    "duration": 3540,
    "start_time": "2021-11-22T15:43:56.146Z"
   },
   {
    "duration": 19,
    "start_time": "2021-11-22T15:43:59.688Z"
   },
   {
    "duration": 28,
    "start_time": "2021-11-22T15:43:59.709Z"
   },
   {
    "duration": 38,
    "start_time": "2021-11-22T15:43:59.740Z"
   },
   {
    "duration": 22,
    "start_time": "2021-11-22T15:43:59.780Z"
   },
   {
    "duration": 24,
    "start_time": "2021-11-22T15:43:59.804Z"
   },
   {
    "duration": 30,
    "start_time": "2021-11-22T15:43:59.831Z"
   },
   {
    "duration": 11,
    "start_time": "2021-11-22T15:43:59.864Z"
   },
   {
    "duration": 19,
    "start_time": "2021-11-22T15:43:59.878Z"
   },
   {
    "duration": 44,
    "start_time": "2021-11-22T15:43:59.899Z"
   },
   {
    "duration": 38,
    "start_time": "2021-11-22T15:43:59.946Z"
   },
   {
    "duration": 58,
    "start_time": "2021-11-22T15:43:59.987Z"
   },
   {
    "duration": 34,
    "start_time": "2021-11-22T15:44:00.047Z"
   },
   {
    "duration": 45,
    "start_time": "2021-11-22T15:44:00.084Z"
   },
   {
    "duration": 32,
    "start_time": "2021-11-22T15:44:00.131Z"
   },
   {
    "duration": 190,
    "start_time": "2021-11-22T23:44:16.305Z"
   },
   {
    "duration": 338,
    "start_time": "2021-11-22T23:47:08.826Z"
   },
   {
    "duration": 262,
    "start_time": "2021-11-22T23:47:20.088Z"
   },
   {
    "duration": 83,
    "start_time": "2021-11-22T23:48:26.034Z"
   },
   {
    "duration": 447,
    "start_time": "2021-12-06T16:18:28.758Z"
   },
   {
    "duration": 860,
    "start_time": "2021-12-06T16:18:45.260Z"
   },
   {
    "duration": 82,
    "start_time": "2021-12-06T16:18:46.123Z"
   },
   {
    "duration": 52,
    "start_time": "2021-12-06T16:18:46.209Z"
   },
   {
    "duration": 22,
    "start_time": "2021-12-06T16:18:46.264Z"
   },
   {
    "duration": 48,
    "start_time": "2021-12-06T16:18:49.067Z"
   },
   {
    "duration": 8,
    "start_time": "2021-12-06T16:24:40.238Z"
   },
   {
    "duration": 10,
    "start_time": "2021-12-06T16:24:54.639Z"
   },
   {
    "duration": 8,
    "start_time": "2021-12-06T16:25:09.209Z"
   },
   {
    "duration": 9723,
    "start_time": "2021-12-06T16:41:56.511Z"
   },
   {
    "duration": 10432,
    "start_time": "2021-12-06T16:42:36.373Z"
   },
   {
    "duration": 467,
    "start_time": "2021-12-06T16:42:57.735Z"
   },
   {
    "duration": 1180,
    "start_time": "2021-12-06T16:43:54.329Z"
   },
   {
    "duration": 374,
    "start_time": "2021-12-06T16:45:01.185Z"
   },
   {
    "duration": 13,
    "start_time": "2021-12-06T16:45:26.827Z"
   },
   {
    "duration": 7,
    "start_time": "2021-12-06T16:46:16.493Z"
   },
   {
    "duration": 12,
    "start_time": "2021-12-06T16:46:18.118Z"
   },
   {
    "duration": 12,
    "start_time": "2021-12-06T16:46:19.880Z"
   },
   {
    "duration": 15,
    "start_time": "2021-12-06T16:46:46.297Z"
   },
   {
    "duration": 403,
    "start_time": "2021-12-06T16:49:43.837Z"
   },
   {
    "duration": 68,
    "start_time": "2021-12-06T16:50:05.273Z"
   },
   {
    "duration": 60,
    "start_time": "2021-12-06T16:50:50.580Z"
   },
   {
    "duration": 7,
    "start_time": "2021-12-06T16:51:01.405Z"
   },
   {
    "duration": 380,
    "start_time": "2021-12-06T17:00:47.282Z"
   },
   {
    "duration": 22,
    "start_time": "2021-12-06T17:01:05.125Z"
   },
   {
    "duration": 21,
    "start_time": "2021-12-06T17:01:28.195Z"
   },
   {
    "duration": 17,
    "start_time": "2021-12-06T17:01:52.573Z"
   },
   {
    "duration": 22,
    "start_time": "2021-12-06T17:02:18.574Z"
   },
   {
    "duration": 16,
    "start_time": "2021-12-06T17:02:57.404Z"
   },
   {
    "duration": 10,
    "start_time": "2021-12-06T17:05:31.796Z"
   },
   {
    "duration": 10,
    "start_time": "2021-12-06T17:06:43.660Z"
   },
   {
    "duration": 23,
    "start_time": "2021-12-06T17:07:10.077Z"
   },
   {
    "duration": 5,
    "start_time": "2021-12-06T17:07:55.277Z"
   },
   {
    "duration": 12,
    "start_time": "2021-12-06T17:07:56.858Z"
   },
   {
    "duration": 24,
    "start_time": "2021-12-06T17:08:00.353Z"
   },
   {
    "duration": 107,
    "start_time": "2021-12-06T18:40:14.793Z"
   },
   {
    "duration": 863,
    "start_time": "2021-12-06T18:47:43.482Z"
   },
   {
    "duration": 73,
    "start_time": "2021-12-06T18:47:44.348Z"
   },
   {
    "duration": 36,
    "start_time": "2021-12-06T18:47:44.424Z"
   },
   {
    "duration": 21,
    "start_time": "2021-12-06T18:47:44.464Z"
   },
   {
    "duration": 76,
    "start_time": "2021-12-06T18:47:44.488Z"
   },
   {
    "duration": 9,
    "start_time": "2021-12-06T18:47:44.567Z"
   },
   {
    "duration": 10,
    "start_time": "2021-12-06T18:47:44.579Z"
   },
   {
    "duration": 18,
    "start_time": "2021-12-06T18:47:44.594Z"
   },
   {
    "duration": 59,
    "start_time": "2021-12-06T18:47:44.615Z"
   },
   {
    "duration": 10,
    "start_time": "2021-12-06T18:47:44.676Z"
   },
   {
    "duration": 11,
    "start_time": "2021-12-06T18:47:44.689Z"
   },
   {
    "duration": 20,
    "start_time": "2021-12-06T18:47:44.703Z"
   },
   {
    "duration": 41,
    "start_time": "2021-12-06T18:47:44.725Z"
   },
   {
    "duration": 12,
    "start_time": "2021-12-06T18:47:44.770Z"
   },
   {
    "duration": 109,
    "start_time": "2021-12-06T18:47:44.785Z"
   },
   {
    "duration": 7,
    "start_time": "2021-12-06T18:47:44.896Z"
   },
   {
    "duration": 13,
    "start_time": "2021-12-06T18:47:44.906Z"
   },
   {
    "duration": 9,
    "start_time": "2021-12-06T18:47:44.921Z"
   },
   {
    "duration": 29,
    "start_time": "2021-12-06T18:47:44.960Z"
   },
   {
    "duration": 16,
    "start_time": "2021-12-06T18:47:44.992Z"
   },
   {
    "duration": 164,
    "start_time": "2021-12-06T18:47:45.011Z"
   },
   {
    "duration": 18,
    "start_time": "2021-12-06T18:47:45.178Z"
   },
   {
    "duration": 7,
    "start_time": "2021-12-06T18:47:45.205Z"
   },
   {
    "duration": 11,
    "start_time": "2021-12-06T18:47:45.216Z"
   },
   {
    "duration": 53,
    "start_time": "2021-12-06T18:47:45.230Z"
   },
   {
    "duration": 29,
    "start_time": "2021-12-06T18:47:45.286Z"
   },
   {
    "duration": 60,
    "start_time": "2021-12-06T18:47:45.318Z"
   },
   {
    "duration": 28,
    "start_time": "2021-12-06T18:47:45.381Z"
   },
   {
    "duration": 97,
    "start_time": "2021-12-06T18:47:45.411Z"
   },
   {
    "duration": 16,
    "start_time": "2021-12-06T18:47:45.511Z"
   },
   {
    "duration": 60,
    "start_time": "2021-12-06T18:47:45.530Z"
   },
   {
    "duration": 7,
    "start_time": "2021-12-06T18:47:45.593Z"
   },
   {
    "duration": 9,
    "start_time": "2021-12-06T18:47:45.602Z"
   },
   {
    "duration": 63,
    "start_time": "2021-12-06T18:47:45.614Z"
   },
   {
    "duration": 1144,
    "start_time": "2021-12-06T18:47:45.679Z"
   },
   {
    "duration": 5,
    "start_time": "2021-12-06T18:47:46.826Z"
   },
   {
    "duration": 4773,
    "start_time": "2021-12-06T18:47:46.834Z"
   },
   {
    "duration": 10,
    "start_time": "2021-12-06T18:47:51.609Z"
   },
   {
    "duration": 11,
    "start_time": "2021-12-06T18:47:51.621Z"
   },
   {
    "duration": 48,
    "start_time": "2021-12-06T18:47:51.634Z"
   },
   {
    "duration": 15,
    "start_time": "2021-12-06T18:47:51.685Z"
   },
   {
    "duration": 9,
    "start_time": "2021-12-06T18:47:51.702Z"
   },
   {
    "duration": 17,
    "start_time": "2021-12-06T18:47:51.713Z"
   },
   {
    "duration": 36,
    "start_time": "2021-12-06T18:47:51.732Z"
   },
   {
    "duration": 42,
    "start_time": "2021-12-06T18:47:51.771Z"
   },
   {
    "duration": 45,
    "start_time": "2021-12-06T18:47:51.816Z"
   },
   {
    "duration": 42,
    "start_time": "2021-12-06T18:47:51.863Z"
   },
   {
    "duration": 60,
    "start_time": "2021-12-06T18:47:51.907Z"
   },
   {
    "duration": 37,
    "start_time": "2021-12-06T18:47:51.969Z"
   },
   {
    "duration": 85,
    "start_time": "2021-12-06T18:56:50.061Z"
   },
   {
    "duration": 85,
    "start_time": "2021-12-06T18:57:26.709Z"
   },
   {
    "duration": 483,
    "start_time": "2021-12-06T19:07:15.731Z"
   },
   {
    "duration": 6,
    "start_time": "2021-12-06T19:07:22.302Z"
   },
   {
    "duration": 10,
    "start_time": "2021-12-06T19:07:54.131Z"
   },
   {
    "duration": 10,
    "start_time": "2021-12-06T19:08:18.548Z"
   },
   {
    "duration": 10,
    "start_time": "2021-12-06T19:08:44.076Z"
   },
   {
    "duration": 9,
    "start_time": "2021-12-06T19:10:12.023Z"
   },
   {
    "duration": 32,
    "start_time": "2021-12-06T19:10:18.517Z"
   },
   {
    "duration": 57,
    "start_time": "2021-12-06T19:12:31.926Z"
   },
   {
    "duration": 122,
    "start_time": "2021-12-06T19:14:40.358Z"
   },
   {
    "duration": 119,
    "start_time": "2021-12-06T19:14:44.401Z"
   },
   {
    "duration": 26,
    "start_time": "2021-12-06T19:14:58.823Z"
   },
   {
    "duration": 22,
    "start_time": "2021-12-06T19:15:05.143Z"
   },
   {
    "duration": 61,
    "start_time": "2021-12-06T19:15:05.168Z"
   },
   {
    "duration": 29,
    "start_time": "2021-12-06T19:15:05.232Z"
   },
   {
    "duration": 29,
    "start_time": "2021-12-06T19:15:05.263Z"
   },
   {
    "duration": 47,
    "start_time": "2021-12-06T19:15:05.294Z"
   },
   {
    "duration": 22,
    "start_time": "2021-12-06T19:15:05.343Z"
   },
   {
    "duration": 16,
    "start_time": "2021-12-06T19:15:05.368Z"
   },
   {
    "duration": 12,
    "start_time": "2021-12-06T19:15:05.388Z"
   },
   {
    "duration": 15,
    "start_time": "2021-12-06T19:15:05.403Z"
   },
   {
    "duration": 45,
    "start_time": "2021-12-06T19:15:05.420Z"
   },
   {
    "duration": 18,
    "start_time": "2021-12-06T19:15:05.467Z"
   },
   {
    "duration": 20,
    "start_time": "2021-12-06T19:15:05.488Z"
   },
   {
    "duration": 8,
    "start_time": "2021-12-06T19:15:05.511Z"
   },
   {
    "duration": 45,
    "start_time": "2021-12-06T19:15:05.522Z"
   },
   {
    "duration": 71,
    "start_time": "2021-12-06T19:15:05.570Z"
   },
   {
    "duration": 23,
    "start_time": "2021-12-06T19:15:05.644Z"
   },
   {
    "duration": 21,
    "start_time": "2021-12-06T19:15:05.669Z"
   },
   {
    "duration": 9,
    "start_time": "2021-12-06T19:15:05.693Z"
   },
   {
    "duration": 21,
    "start_time": "2021-12-06T19:15:05.704Z"
   },
   {
    "duration": 51,
    "start_time": "2021-12-06T19:15:07.870Z"
   },
   {
    "duration": 496,
    "start_time": "2021-12-06T19:15:32.398Z"
   },
   {
    "duration": 32,
    "start_time": "2021-12-06T19:15:54.028Z"
   },
   {
    "duration": 1208,
    "start_time": "2021-12-06T19:16:11.312Z"
   },
   {
    "duration": 151,
    "start_time": "2021-12-06T19:16:36.159Z"
   },
   {
    "duration": 145,
    "start_time": "2021-12-06T19:17:00.291Z"
   },
   {
    "duration": 134,
    "start_time": "2021-12-06T19:17:06.462Z"
   },
   {
    "duration": 503,
    "start_time": "2021-12-06T19:17:53.072Z"
   },
   {
    "duration": 35,
    "start_time": "2021-12-06T19:18:11.909Z"
   },
   {
    "duration": 35,
    "start_time": "2021-12-06T19:21:10.708Z"
   },
   {
    "duration": 39,
    "start_time": "2021-12-06T19:22:14.851Z"
   },
   {
    "duration": 36,
    "start_time": "2021-12-06T19:22:39.989Z"
   },
   {
    "duration": 4,
    "start_time": "2021-12-06T19:22:53.420Z"
   },
   {
    "duration": 66,
    "start_time": "2021-12-06T19:22:53.427Z"
   },
   {
    "duration": 19,
    "start_time": "2021-12-06T19:22:53.496Z"
   },
   {
    "duration": 16,
    "start_time": "2021-12-06T19:22:53.517Z"
   },
   {
    "duration": 47,
    "start_time": "2021-12-06T19:22:53.559Z"
   },
   {
    "duration": 9,
    "start_time": "2021-12-06T19:22:53.608Z"
   },
   {
    "duration": 8,
    "start_time": "2021-12-06T19:22:53.620Z"
   },
   {
    "duration": 16,
    "start_time": "2021-12-06T19:22:53.661Z"
   },
   {
    "duration": 21,
    "start_time": "2021-12-06T19:22:53.679Z"
   },
   {
    "duration": 10,
    "start_time": "2021-12-06T19:22:53.702Z"
   },
   {
    "duration": 10,
    "start_time": "2021-12-06T19:22:53.715Z"
   },
   {
    "duration": 47,
    "start_time": "2021-12-06T19:22:53.728Z"
   },
   {
    "duration": 12,
    "start_time": "2021-12-06T19:22:53.777Z"
   },
   {
    "duration": 10,
    "start_time": "2021-12-06T19:22:53.791Z"
   },
   {
    "duration": 95,
    "start_time": "2021-12-06T19:22:53.804Z"
   },
   {
    "duration": 9,
    "start_time": "2021-12-06T19:22:53.901Z"
   },
   {
    "duration": 14,
    "start_time": "2021-12-06T19:22:53.913Z"
   },
   {
    "duration": 37,
    "start_time": "2021-12-06T19:22:53.930Z"
   },
   {
    "duration": 24,
    "start_time": "2021-12-06T19:22:53.977Z"
   },
   {
    "duration": 38,
    "start_time": "2021-12-06T19:22:55.884Z"
   },
   {
    "duration": 15,
    "start_time": "2021-12-06T19:23:17.831Z"
   },
   {
    "duration": 39,
    "start_time": "2021-12-06T19:25:09.310Z"
   },
   {
    "duration": 4,
    "start_time": "2021-12-06T19:25:26.837Z"
   },
   {
    "duration": 76,
    "start_time": "2021-12-06T19:25:26.844Z"
   },
   {
    "duration": 19,
    "start_time": "2021-12-06T19:25:26.923Z"
   },
   {
    "duration": 35,
    "start_time": "2021-12-06T19:25:26.944Z"
   },
   {
    "duration": 47,
    "start_time": "2021-12-06T19:25:26.982Z"
   },
   {
    "duration": 32,
    "start_time": "2021-12-06T19:25:27.032Z"
   },
   {
    "duration": 16,
    "start_time": "2021-12-06T19:25:27.068Z"
   },
   {
    "duration": 11,
    "start_time": "2021-12-06T19:25:27.087Z"
   },
   {
    "duration": 14,
    "start_time": "2021-12-06T19:25:27.100Z"
   },
   {
    "duration": 9,
    "start_time": "2021-12-06T19:25:27.116Z"
   },
   {
    "duration": 44,
    "start_time": "2021-12-06T19:25:27.127Z"
   },
   {
    "duration": 23,
    "start_time": "2021-12-06T19:25:27.174Z"
   },
   {
    "duration": 7,
    "start_time": "2021-12-06T19:25:27.200Z"
   },
   {
    "duration": 8,
    "start_time": "2021-12-06T19:25:27.210Z"
   },
   {
    "duration": 104,
    "start_time": "2021-12-06T19:25:27.220Z"
   },
   {
    "duration": 7,
    "start_time": "2021-12-06T19:25:27.326Z"
   },
   {
    "duration": 38,
    "start_time": "2021-12-06T19:25:27.335Z"
   },
   {
    "duration": 10,
    "start_time": "2021-12-06T19:25:27.376Z"
   },
   {
    "duration": 19,
    "start_time": "2021-12-06T19:25:27.390Z"
   },
   {
    "duration": 43,
    "start_time": "2021-12-06T19:25:28.695Z"
   },
   {
    "duration": 22,
    "start_time": "2021-12-06T19:31:14.723Z"
   },
   {
    "duration": 3,
    "start_time": "2021-12-06T19:49:29.973Z"
   },
   {
    "duration": 21,
    "start_time": "2021-12-06T19:49:31.877Z"
   },
   {
    "duration": 6,
    "start_time": "2021-12-06T19:49:45.620Z"
   },
   {
    "duration": 6,
    "start_time": "2021-12-06T19:49:47.498Z"
   },
   {
    "duration": 23,
    "start_time": "2021-12-06T19:49:49.173Z"
   },
   {
    "duration": 391,
    "start_time": "2021-12-06T19:50:29.074Z"
   },
   {
    "duration": 779,
    "start_time": "2021-12-06T19:50:42.289Z"
   },
   {
    "duration": 66,
    "start_time": "2021-12-06T19:50:43.071Z"
   },
   {
    "duration": 32,
    "start_time": "2021-12-06T19:50:43.140Z"
   },
   {
    "duration": 18,
    "start_time": "2021-12-06T19:50:43.175Z"
   },
   {
    "duration": 71,
    "start_time": "2021-12-06T19:50:43.196Z"
   },
   {
    "duration": 9,
    "start_time": "2021-12-06T19:50:43.271Z"
   },
   {
    "duration": 8,
    "start_time": "2021-12-06T19:50:43.283Z"
   },
   {
    "duration": 12,
    "start_time": "2021-12-06T19:50:43.294Z"
   },
   {
    "duration": 12,
    "start_time": "2021-12-06T19:50:43.309Z"
   },
   {
    "duration": 51,
    "start_time": "2021-12-06T19:50:43.323Z"
   },
   {
    "duration": 11,
    "start_time": "2021-12-06T19:50:43.377Z"
   },
   {
    "duration": 22,
    "start_time": "2021-12-06T19:50:43.390Z"
   },
   {
    "duration": 9,
    "start_time": "2021-12-06T19:50:43.414Z"
   },
   {
    "duration": 44,
    "start_time": "2021-12-06T19:50:43.425Z"
   },
   {
    "duration": 63,
    "start_time": "2021-12-06T19:50:43.472Z"
   },
   {
    "duration": 23,
    "start_time": "2021-12-06T19:50:43.538Z"
   },
   {
    "duration": 14,
    "start_time": "2021-12-06T19:50:43.568Z"
   },
   {
    "duration": 9,
    "start_time": "2021-12-06T19:50:43.585Z"
   },
   {
    "duration": 30,
    "start_time": "2021-12-06T19:50:43.596Z"
   },
   {
    "duration": 55,
    "start_time": "2021-12-06T19:50:43.629Z"
   },
   {
    "duration": 3,
    "start_time": "2021-12-06T19:50:43.686Z"
   },
   {
    "duration": 16,
    "start_time": "2021-12-06T19:50:43.692Z"
   },
   {
    "duration": 6,
    "start_time": "2021-12-06T19:50:43.714Z"
   },
   {
    "duration": 47,
    "start_time": "2021-12-06T19:50:43.723Z"
   },
   {
    "duration": 35,
    "start_time": "2021-12-06T19:50:43.774Z"
   },
   {
    "duration": 52,
    "start_time": "2021-12-06T19:50:43.812Z"
   },
   {
    "duration": 36,
    "start_time": "2021-12-06T19:50:43.867Z"
   },
   {
    "duration": 26,
    "start_time": "2021-12-06T19:50:43.906Z"
   },
   {
    "duration": 95,
    "start_time": "2021-12-06T19:50:43.934Z"
   },
   {
    "duration": 43,
    "start_time": "2021-12-06T19:50:44.032Z"
   },
   {
    "duration": 33,
    "start_time": "2021-12-06T19:50:44.077Z"
   },
   {
    "duration": 8,
    "start_time": "2021-12-06T19:50:44.112Z"
   },
   {
    "duration": 8,
    "start_time": "2021-12-06T19:50:44.122Z"
   },
   {
    "duration": 50,
    "start_time": "2021-12-06T19:50:44.132Z"
   },
   {
    "duration": 1107,
    "start_time": "2021-12-06T19:50:44.184Z"
   },
   {
    "duration": 6,
    "start_time": "2021-12-06T19:50:45.294Z"
   },
   {
    "duration": 4055,
    "start_time": "2021-12-06T19:50:45.304Z"
   },
   {
    "duration": 11,
    "start_time": "2021-12-06T19:50:49.363Z"
   },
   {
    "duration": 10,
    "start_time": "2021-12-06T19:50:49.377Z"
   },
   {
    "duration": 17,
    "start_time": "2021-12-06T19:50:49.389Z"
   },
   {
    "duration": 11,
    "start_time": "2021-12-06T19:50:49.408Z"
   },
   {
    "duration": 40,
    "start_time": "2021-12-06T19:50:49.421Z"
   },
   {
    "duration": 19,
    "start_time": "2021-12-06T19:50:49.470Z"
   },
   {
    "duration": 13,
    "start_time": "2021-12-06T19:50:49.491Z"
   },
   {
    "duration": 25,
    "start_time": "2021-12-06T19:50:49.507Z"
   },
   {
    "duration": 58,
    "start_time": "2021-12-06T19:50:49.534Z"
   },
   {
    "duration": 31,
    "start_time": "2021-12-06T19:50:49.594Z"
   },
   {
    "duration": 65,
    "start_time": "2021-12-06T19:50:49.627Z"
   },
   {
    "duration": 30,
    "start_time": "2021-12-06T19:50:49.694Z"
   },
   {
    "duration": 808,
    "start_time": "2021-12-06T19:52:36.952Z"
   },
   {
    "duration": 66,
    "start_time": "2021-12-06T19:52:37.763Z"
   },
   {
    "duration": 34,
    "start_time": "2021-12-06T19:52:37.833Z"
   },
   {
    "duration": 17,
    "start_time": "2021-12-06T19:52:37.870Z"
   },
   {
    "duration": 72,
    "start_time": "2021-12-06T19:52:37.890Z"
   },
   {
    "duration": 10,
    "start_time": "2021-12-06T19:52:37.965Z"
   },
   {
    "duration": 8,
    "start_time": "2021-12-06T19:52:37.978Z"
   },
   {
    "duration": 10,
    "start_time": "2021-12-06T19:52:37.990Z"
   },
   {
    "duration": 58,
    "start_time": "2021-12-06T19:52:38.003Z"
   },
   {
    "duration": 15,
    "start_time": "2021-12-06T19:52:38.068Z"
   },
   {
    "duration": 15,
    "start_time": "2021-12-06T19:52:38.086Z"
   },
   {
    "duration": 19,
    "start_time": "2021-12-06T19:52:38.104Z"
   },
   {
    "duration": 41,
    "start_time": "2021-12-06T19:52:38.125Z"
   },
   {
    "duration": 10,
    "start_time": "2021-12-06T19:52:38.169Z"
   },
   {
    "duration": 57,
    "start_time": "2021-12-06T19:52:38.181Z"
   },
   {
    "duration": 29,
    "start_time": "2021-12-06T19:52:38.240Z"
   },
   {
    "duration": 16,
    "start_time": "2021-12-06T19:52:38.272Z"
   },
   {
    "duration": 10,
    "start_time": "2021-12-06T19:52:38.290Z"
   },
   {
    "duration": 18,
    "start_time": "2021-12-06T19:52:38.302Z"
   },
   {
    "duration": 66,
    "start_time": "2021-12-06T19:52:38.323Z"
   },
   {
    "duration": 3,
    "start_time": "2021-12-06T19:52:38.391Z"
   },
   {
    "duration": 18,
    "start_time": "2021-12-06T19:52:38.397Z"
   },
   {
    "duration": 5,
    "start_time": "2021-12-06T19:52:38.422Z"
   },
   {
    "duration": 29,
    "start_time": "2021-12-06T19:52:38.430Z"
   },
   {
    "duration": 28,
    "start_time": "2021-12-06T19:52:38.461Z"
   },
   {
    "duration": 26,
    "start_time": "2021-12-06T19:52:38.492Z"
   },
   {
    "duration": 53,
    "start_time": "2021-12-06T19:52:38.520Z"
   },
   {
    "duration": 25,
    "start_time": "2021-12-06T19:52:38.575Z"
   },
   {
    "duration": 93,
    "start_time": "2021-12-06T19:52:38.603Z"
   },
   {
    "duration": 15,
    "start_time": "2021-12-06T19:52:38.699Z"
   },
   {
    "duration": 60,
    "start_time": "2021-12-06T19:52:38.716Z"
   },
   {
    "duration": 8,
    "start_time": "2021-12-06T19:52:38.779Z"
   },
   {
    "duration": 8,
    "start_time": "2021-12-06T19:52:38.790Z"
   },
   {
    "duration": 21,
    "start_time": "2021-12-06T19:52:38.800Z"
   },
   {
    "duration": 1009,
    "start_time": "2021-12-06T19:52:38.824Z"
   },
   {
    "duration": 6,
    "start_time": "2021-12-06T19:52:39.836Z"
   },
   {
    "duration": 4287,
    "start_time": "2021-12-06T19:52:39.845Z"
   },
   {
    "duration": 10,
    "start_time": "2021-12-06T19:52:44.134Z"
   },
   {
    "duration": 15,
    "start_time": "2021-12-06T19:52:44.146Z"
   },
   {
    "duration": 22,
    "start_time": "2021-12-06T19:52:44.167Z"
   },
   {
    "duration": 9,
    "start_time": "2021-12-06T19:52:44.191Z"
   },
   {
    "duration": 4,
    "start_time": "2021-12-06T19:52:44.203Z"
   },
   {
    "duration": 15,
    "start_time": "2021-12-06T19:52:44.209Z"
   },
   {
    "duration": 43,
    "start_time": "2021-12-06T19:52:44.226Z"
   },
   {
    "duration": 30,
    "start_time": "2021-12-06T19:52:44.271Z"
   },
   {
    "duration": 63,
    "start_time": "2021-12-06T19:52:44.304Z"
   },
   {
    "duration": 34,
    "start_time": "2021-12-06T19:52:44.370Z"
   },
   {
    "duration": 59,
    "start_time": "2021-12-06T19:52:44.407Z"
   },
   {
    "duration": 32,
    "start_time": "2021-12-06T19:52:44.468Z"
   }
  ],
  "celltoolbar": "Отсутствует",
  "kernelspec": {
   "display_name": "Python 3 (ipykernel)",
   "language": "python",
   "name": "python3"
  },
  "language_info": {
   "codemirror_mode": {
    "name": "ipython",
    "version": 3
   },
   "file_extension": ".py",
   "mimetype": "text/x-python",
   "name": "python",
   "nbconvert_exporter": "python",
   "pygments_lexer": "ipython3",
   "version": "3.9.7"
  },
  "toc": {
   "base_numbering": 1,
   "nav_menu": {},
   "number_sections": true,
   "sideBar": true,
   "skip_h1_title": true,
   "title_cell": "Содержание",
   "title_sidebar": "Содержание",
   "toc_cell": false,
   "toc_position": {
    "height": "calc(100% - 180px)",
    "left": "10px",
    "top": "150px",
    "width": "366.389px"
   },
   "toc_section_display": true,
   "toc_window_display": false
  },
  "widgets": {
   "application/vnd.jupyter.widget-state+json": {
    "state": {},
    "version_major": 2,
    "version_minor": 0
   }
  }
 },
 "nbformat": 4,
 "nbformat_minor": 2
}
