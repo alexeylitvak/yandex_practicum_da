{
 "cells": [
  {
   "cell_type": "markdown",
   "metadata": {},
   "source": [
    "# Проверка гипотез по увеличению выручки в интернет-магазине\n",
    "\n",
    "Отделом маркетинга крупного интернет-магазина подготовлен список гипотез для увеличения выручки. С помощью фреймворков ICE и RICE мы выполним приоритизацию гипотез. Затем запустим A/B-тест и проанализируем результаты.\n",
    "\n",
    "**Задача исследования**\n",
    "\n",
    "Приоритизировать гипотезы, проанализировать результаты A/B-теста.\n",
    "\n",
    "**Ход исследования**\n",
    "\n",
    "Для проведения исследования доступны следующие данные:\n",
    "\n",
    "* data_hypothesis.csv — 9 гипотез по увеличению выручки интернет-магазина с указанными параметрами Reach, Impact, Confidence, Effort.\n",
    "* data_orders.csv, data_visitors.csv — результаты проведенного A/B-теста.\n",
    "\n",
    "Перед решением задачи исследования понадобится обзор данных. Затем, на этапе предобработки, поищем возможность исправить самые критичные ошибки данных.\n",
    "\n",
    "В первой части применим фреймворки ICE и RICE для приоритизации гипотез.\n",
    "\n",
    "Во второй части проанализируем результаты A/B-теста.\n",
    "\n",
    "В общем выводе подведем итоги исследования и примем решение по результатам теста.\n",
    "\n",
    "**Этапы исследования**\n",
    "1. Обзор данных.\n",
    "2. Предобработка данных.\n",
    "3. Часть 1. Приоритизация гипотез.\n",
    "4. Выводы по части 1.\n",
    "5. Часть 2. Анализ A/B-теста.\n",
    "6. Выводы по части 2.\n",
    "7. Выводы"
   ]
  },
  {
   "cell_type": "markdown",
   "metadata": {},
   "source": [
    "## Обзор данных\n",
    "Составим первое впечатление о входных данных."
   ]
  },
  {
   "cell_type": "code",
   "execution_count": 1,
   "metadata": {},
   "outputs": [],
   "source": [
    "# Импортируем библиотеки\n",
    "import pandas as pd\n",
    "from pandas.plotting import register_matplotlib_converters\n",
    "register_matplotlib_converters()\n",
    "from datetime import datetime\n",
    "import numpy as np\n",
    "import matplotlib.pyplot as plt\n",
    "import scipy.stats as stats"
   ]
  },
  {
   "cell_type": "code",
   "execution_count": 2,
   "metadata": {},
   "outputs": [],
   "source": [
    "# Читаем файлы с данными и сохраняем в датафреймы\n",
    "hypothesis, orders, visitors = (\n",
    "    pd.read_csv('data_hypothesis.csv'), # гипотезы\n",
    "    pd.read_csv('data_orders.csv'), # заказы в A/B-тесте\n",
    "    pd.read_csv('data_visitors.csv'), # визиты в A/B-тесте\n",
    ")"
   ]
  },
  {
   "cell_type": "code",
   "execution_count": 3,
   "metadata": {},
   "outputs": [
    {
     "data": {
      "text/html": [
       "<div>\n",
       "<style scoped>\n",
       "    .dataframe tbody tr th:only-of-type {\n",
       "        vertical-align: middle;\n",
       "    }\n",
       "\n",
       "    .dataframe tbody tr th {\n",
       "        vertical-align: top;\n",
       "    }\n",
       "\n",
       "    .dataframe thead th {\n",
       "        text-align: right;\n",
       "    }\n",
       "</style>\n",
       "<table border=\"1\" class=\"dataframe\">\n",
       "  <thead>\n",
       "    <tr style=\"text-align: right;\">\n",
       "      <th></th>\n",
       "      <th>Hypothesis</th>\n",
       "      <th>Reach</th>\n",
       "      <th>Impact</th>\n",
       "      <th>Confidence</th>\n",
       "      <th>Efforts</th>\n",
       "    </tr>\n",
       "  </thead>\n",
       "  <tbody>\n",
       "    <tr>\n",
       "      <th>0</th>\n",
       "      <td>Добавить два новых канала привлечения трафика,...</td>\n",
       "      <td>3</td>\n",
       "      <td>10</td>\n",
       "      <td>8</td>\n",
       "      <td>6</td>\n",
       "    </tr>\n",
       "    <tr>\n",
       "      <th>1</th>\n",
       "      <td>Запустить собственную службу доставки, что сок...</td>\n",
       "      <td>2</td>\n",
       "      <td>5</td>\n",
       "      <td>4</td>\n",
       "      <td>10</td>\n",
       "    </tr>\n",
       "    <tr>\n",
       "      <th>2</th>\n",
       "      <td>Добавить блоки рекомендаций товаров на сайт ин...</td>\n",
       "      <td>8</td>\n",
       "      <td>3</td>\n",
       "      <td>7</td>\n",
       "      <td>3</td>\n",
       "    </tr>\n",
       "    <tr>\n",
       "      <th>3</th>\n",
       "      <td>Изменить структура категорий, что увеличит кон...</td>\n",
       "      <td>8</td>\n",
       "      <td>3</td>\n",
       "      <td>3</td>\n",
       "      <td>8</td>\n",
       "    </tr>\n",
       "    <tr>\n",
       "      <th>4</th>\n",
       "      <td>Изменить цвет фона главной страницы, чтобы уве...</td>\n",
       "      <td>3</td>\n",
       "      <td>1</td>\n",
       "      <td>1</td>\n",
       "      <td>1</td>\n",
       "    </tr>\n",
       "  </tbody>\n",
       "</table>\n",
       "</div>"
      ],
      "text/plain": [
       "                                          Hypothesis  Reach  Impact  \\\n",
       "0  Добавить два новых канала привлечения трафика,...      3      10   \n",
       "1  Запустить собственную службу доставки, что сок...      2       5   \n",
       "2  Добавить блоки рекомендаций товаров на сайт ин...      8       3   \n",
       "3  Изменить структура категорий, что увеличит кон...      8       3   \n",
       "4  Изменить цвет фона главной страницы, чтобы уве...      3       1   \n",
       "\n",
       "   Confidence  Efforts  \n",
       "0           8        6  \n",
       "1           4       10  \n",
       "2           7        3  \n",
       "3           3        8  \n",
       "4           1        1  "
      ]
     },
     "execution_count": 3,
     "metadata": {},
     "output_type": "execute_result"
    }
   ],
   "source": [
    "# Обзора данных датафрейма hypothesis, получаем первые 5 строк\n",
    "hypothesis.head()"
   ]
  },
  {
   "cell_type": "markdown",
   "metadata": {},
   "source": [
    "Таблица содержит гипотезы и оценку 4-х параметров по 10-балльной шкале.\n",
    "\n",
    "Согласно документации к данным:\n",
    "\n",
    "* `Hypothesis` — краткое описание гипотезы\n",
    "* `Reach` — охват пользователей по 10-балльной шкале\n",
    "* `Impact` — влияние на пользователей по 10-балльной шкале\n",
    "* `Confidence` — уверенность в гипотезе по 10-балльной шкале\n",
    "* `Efforts` — затраты ресурсов на проверку гипотезы по 10-балльной шкале. Чем больше значение Efforts, тем дороже проверка гипотезы\n",
    "\n",
    "В столбцах отмечено нарушение стиля — использование заглавных букв."
   ]
  },
  {
   "cell_type": "code",
   "execution_count": 4,
   "metadata": {},
   "outputs": [
    {
     "data": {
      "text/html": [
       "<div>\n",
       "<style scoped>\n",
       "    .dataframe tbody tr th:only-of-type {\n",
       "        vertical-align: middle;\n",
       "    }\n",
       "\n",
       "    .dataframe tbody tr th {\n",
       "        vertical-align: top;\n",
       "    }\n",
       "\n",
       "    .dataframe thead th {\n",
       "        text-align: right;\n",
       "    }\n",
       "</style>\n",
       "<table border=\"1\" class=\"dataframe\">\n",
       "  <thead>\n",
       "    <tr style=\"text-align: right;\">\n",
       "      <th></th>\n",
       "      <th>transactionId</th>\n",
       "      <th>visitorId</th>\n",
       "      <th>date</th>\n",
       "      <th>revenue</th>\n",
       "      <th>group</th>\n",
       "    </tr>\n",
       "  </thead>\n",
       "  <tbody>\n",
       "    <tr>\n",
       "      <th>0</th>\n",
       "      <td>3667963787</td>\n",
       "      <td>3312258926</td>\n",
       "      <td>2019-08-15</td>\n",
       "      <td>1650</td>\n",
       "      <td>B</td>\n",
       "    </tr>\n",
       "    <tr>\n",
       "      <th>1</th>\n",
       "      <td>2804400009</td>\n",
       "      <td>3642806036</td>\n",
       "      <td>2019-08-15</td>\n",
       "      <td>730</td>\n",
       "      <td>B</td>\n",
       "    </tr>\n",
       "    <tr>\n",
       "      <th>2</th>\n",
       "      <td>2961555356</td>\n",
       "      <td>4069496402</td>\n",
       "      <td>2019-08-15</td>\n",
       "      <td>400</td>\n",
       "      <td>A</td>\n",
       "    </tr>\n",
       "    <tr>\n",
       "      <th>3</th>\n",
       "      <td>3797467345</td>\n",
       "      <td>1196621759</td>\n",
       "      <td>2019-08-15</td>\n",
       "      <td>9759</td>\n",
       "      <td>B</td>\n",
       "    </tr>\n",
       "    <tr>\n",
       "      <th>4</th>\n",
       "      <td>2282983706</td>\n",
       "      <td>2322279887</td>\n",
       "      <td>2019-08-15</td>\n",
       "      <td>2308</td>\n",
       "      <td>B</td>\n",
       "    </tr>\n",
       "  </tbody>\n",
       "</table>\n",
       "</div>"
      ],
      "text/plain": [
       "   transactionId   visitorId        date  revenue group\n",
       "0     3667963787  3312258926  2019-08-15     1650     B\n",
       "1     2804400009  3642806036  2019-08-15      730     B\n",
       "2     2961555356  4069496402  2019-08-15      400     A\n",
       "3     3797467345  1196621759  2019-08-15     9759     B\n",
       "4     2282983706  2322279887  2019-08-15     2308     B"
      ]
     },
     "execution_count": 4,
     "metadata": {},
     "output_type": "execute_result"
    }
   ],
   "source": [
    "# Обзора данных датафрейма orders, получаем первые 5 строк\n",
    "orders.head()"
   ]
  },
  {
   "cell_type": "markdown",
   "metadata": {},
   "source": [
    "Согласно документации к данным:\n",
    "\n",
    "* `transactionId` — идентификатор заказа\n",
    "* `visitorId` — идентификатор пользователя, совершившего заказ\n",
    "* `date` — дата, когда был совершён заказ\n",
    "* `revenue` — выручка заказа\n",
    "* `group` — группа A/B-теста, в которую попал заказ\n",
    "\n",
    "В столбцах отмечены нарушениея стиля — использование заглавных букв, слитное написание."
   ]
  },
  {
   "cell_type": "code",
   "execution_count": 5,
   "metadata": {},
   "outputs": [
    {
     "name": "stdout",
     "output_type": "stream",
     "text": [
      "<class 'pandas.core.frame.DataFrame'>\n",
      "RangeIndex: 1197 entries, 0 to 1196\n",
      "Data columns (total 5 columns):\n",
      " #   Column         Non-Null Count  Dtype \n",
      "---  ------         --------------  ----- \n",
      " 0   transactionId  1197 non-null   int64 \n",
      " 1   visitorId      1197 non-null   int64 \n",
      " 2   date           1197 non-null   object\n",
      " 3   revenue        1197 non-null   int64 \n",
      " 4   group          1197 non-null   object\n",
      "dtypes: int64(3), object(2)\n",
      "memory usage: 46.9+ KB\n"
     ]
    }
   ],
   "source": [
    "# Обзора данных датафрейма orders, получаем общую информацию\n",
    "orders.info()"
   ]
  },
  {
   "cell_type": "markdown",
   "metadata": {},
   "source": [
    "Отмечено несоответствие типа данных документации:\n",
    "\n",
    "`date` строка `object`, по документации дата → `datetime`\n",
    "\n",
    "Пропусков значений нет."
   ]
  },
  {
   "cell_type": "code",
   "execution_count": 6,
   "metadata": {},
   "outputs": [
    {
     "data": {
      "text/html": [
       "<div>\n",
       "<style scoped>\n",
       "    .dataframe tbody tr th:only-of-type {\n",
       "        vertical-align: middle;\n",
       "    }\n",
       "\n",
       "    .dataframe tbody tr th {\n",
       "        vertical-align: top;\n",
       "    }\n",
       "\n",
       "    .dataframe thead th {\n",
       "        text-align: right;\n",
       "    }\n",
       "</style>\n",
       "<table border=\"1\" class=\"dataframe\">\n",
       "  <thead>\n",
       "    <tr style=\"text-align: right;\">\n",
       "      <th></th>\n",
       "      <th>date</th>\n",
       "      <th>group</th>\n",
       "      <th>visitors</th>\n",
       "    </tr>\n",
       "  </thead>\n",
       "  <tbody>\n",
       "    <tr>\n",
       "      <th>0</th>\n",
       "      <td>2019-08-01</td>\n",
       "      <td>A</td>\n",
       "      <td>719</td>\n",
       "    </tr>\n",
       "    <tr>\n",
       "      <th>1</th>\n",
       "      <td>2019-08-02</td>\n",
       "      <td>A</td>\n",
       "      <td>619</td>\n",
       "    </tr>\n",
       "    <tr>\n",
       "      <th>2</th>\n",
       "      <td>2019-08-03</td>\n",
       "      <td>A</td>\n",
       "      <td>507</td>\n",
       "    </tr>\n",
       "    <tr>\n",
       "      <th>3</th>\n",
       "      <td>2019-08-04</td>\n",
       "      <td>A</td>\n",
       "      <td>717</td>\n",
       "    </tr>\n",
       "    <tr>\n",
       "      <th>4</th>\n",
       "      <td>2019-08-05</td>\n",
       "      <td>A</td>\n",
       "      <td>756</td>\n",
       "    </tr>\n",
       "  </tbody>\n",
       "</table>\n",
       "</div>"
      ],
      "text/plain": [
       "         date group  visitors\n",
       "0  2019-08-01     A       719\n",
       "1  2019-08-02     A       619\n",
       "2  2019-08-03     A       507\n",
       "3  2019-08-04     A       717\n",
       "4  2019-08-05     A       756"
      ]
     },
     "execution_count": 6,
     "metadata": {},
     "output_type": "execute_result"
    }
   ],
   "source": [
    "# Обзора данных датафрейма visitors, получаем первые 5 строк\n",
    "visitors.head()"
   ]
  },
  {
   "cell_type": "markdown",
   "metadata": {},
   "source": [
    "Согласно документации к данным:\n",
    "\n",
    "* `date` — дата\n",
    "* `group` — группа A/B-теста\n",
    "* `visitors` — количество пользователей в указанную дату в указанной группе A/B-теста"
   ]
  },
  {
   "cell_type": "code",
   "execution_count": 7,
   "metadata": {},
   "outputs": [
    {
     "name": "stdout",
     "output_type": "stream",
     "text": [
      "<class 'pandas.core.frame.DataFrame'>\n",
      "RangeIndex: 62 entries, 0 to 61\n",
      "Data columns (total 3 columns):\n",
      " #   Column    Non-Null Count  Dtype \n",
      "---  ------    --------------  ----- \n",
      " 0   date      62 non-null     object\n",
      " 1   group     62 non-null     object\n",
      " 2   visitors  62 non-null     int64 \n",
      "dtypes: int64(1), object(2)\n",
      "memory usage: 1.6+ KB\n"
     ]
    }
   ],
   "source": [
    "# Обзора данных датафрейма visitors, получаем общую информацию\n",
    "visitors.info()"
   ]
  },
  {
   "cell_type": "markdown",
   "metadata": {},
   "source": [
    "Отмечено несоответствие типа данных документации:\n",
    "\n",
    "`date` строка `object`, по документации дата → `datetime`\n",
    "\n",
    "Пропусков значений нет."
   ]
  },
  {
   "cell_type": "markdown",
   "metadata": {},
   "source": [
    "**Вывод**\n",
    "<div style=\"background-color: #FBD603; width: 48px; height: 5px\">&nbsp;</div>\n",
    " \n",
    "Как и следовало из сопроводительной документации, мы располагаем списком гипотез, данными заказах и количестве пользователей во время проведения A/B-теста.\n",
    "\n",
    "В столбцах отмечены нарушения стиля. Данные столбцов, описывающие даты, следует привести к типу данных datetime."
   ]
  },
  {
   "cell_type": "markdown",
   "metadata": {},
   "source": [
    "## Предобработка данных\n",
    "Исправим именование столбцов. Проведем замену типов данных. Проверим данные на дубликаты."
   ]
  },
  {
   "cell_type": "markdown",
   "metadata": {},
   "source": [
    "### Стиль заголовков\n",
    "Заменим в названиях столбцов заглавные буквы на строчные, уберем CamelCase."
   ]
  },
  {
   "cell_type": "code",
   "execution_count": 8,
   "metadata": {},
   "outputs": [],
   "source": [
    "# Заменяем заглавные на строчные в датафрейме hypothesis\n",
    "hypothesis.columns = [x.lower() for x in hypothesis.columns.values]\n",
    "\n",
    "# Переименовываем столбцы в датафрейме orders\n",
    "orders.rename(columns={'transactionId': 'transaction_id', 'visitorId': 'visitor_id'}, inplace=True)"
   ]
  },
  {
   "cell_type": "markdown",
   "metadata": {},
   "source": [
    "Стиль названий столбцов приведен к корректному."
   ]
  },
  {
   "cell_type": "markdown",
   "metadata": {},
   "source": [
    "### Замена типа данных\n",
    "Заменим тип данных столбцов, описывающих даты, на тип данных datetime с помощью pandas.to_datetime."
   ]
  },
  {
   "cell_type": "code",
   "execution_count": 9,
   "metadata": {},
   "outputs": [],
   "source": [
    "# Изменим тип данных на datetime\n",
    "orders['date'] = pd.to_datetime(orders['date'])\n",
    "visitors['date'] = pd.to_datetime(visitors['date'])"
   ]
  },
  {
   "cell_type": "markdown",
   "metadata": {},
   "source": [
    "Тип данных столбцов, описывающих даты, приведен к корректному."
   ]
  },
  {
   "cell_type": "markdown",
   "metadata": {},
   "source": [
    "### Обработка дубликатов\n",
    "Проверим данные на явные строковые дубликаты."
   ]
  },
  {
   "cell_type": "code",
   "execution_count": 10,
   "metadata": {},
   "outputs": [
    {
     "name": "stdout",
     "output_type": "stream",
     "text": [
      "Дубликаты в orders: 0\n"
     ]
    }
   ],
   "source": [
    "print(f'Дубликаты в orders: {orders.duplicated().sum()}')"
   ]
  },
  {
   "cell_type": "code",
   "execution_count": 11,
   "metadata": {
    "scrolled": true
   },
   "outputs": [
    {
     "name": "stdout",
     "output_type": "stream",
     "text": [
      "Дубликаты в visitors: 0\n"
     ]
    }
   ],
   "source": [
    "print(f'Дубликаты в visitors: {visitors.duplicated().sum()}')"
   ]
  },
  {
   "cell_type": "markdown",
   "metadata": {},
   "source": [
    "Явные дубликаты отсутствуют."
   ]
  },
  {
   "cell_type": "markdown",
   "metadata": {},
   "source": [
    "### Уникальность пользователей по группам\n",
    "Проверим, что пользователи корректно разнесены по группам — одному Visitor ID соответствует одна из двух групп A/B-теста."
   ]
  },
  {
   "cell_type": "code",
   "execution_count": 12,
   "metadata": {
    "scrolled": true
   },
   "outputs": [
    {
     "name": "stdout",
     "output_type": "stream",
     "text": [
      "Число пользователей, находящиеся в двух группах теста: 58\n",
      "Число уникальных пользователей: 1031\n"
     ]
    }
   ],
   "source": [
    "# Найдем число пользователей, которые встречаются сразу в двух группах\n",
    "visitor_id_a = (\n",
    "    orders[orders['group'] == 'A']['visitor_id'].drop_duplicates()\n",
    ")\n",
    "visitor_id_b = (\n",
    "    orders[orders['group'] == 'B']['visitor_id'].drop_duplicates()\n",
    ")\n",
    "\n",
    "print(\n",
    "    'Число пользователей, находящиеся в двух группах теста:',\n",
    "    len(visitor_id_a[visitor_id_a.isin(visitor_id_b)])\n",
    ")\n",
    "\n",
    "print(\n",
    "    'Число уникальных пользователей:',\n",
    "    orders['visitor_id'].nunique()\n",
    ")"
   ]
  },
  {
   "cell_type": "markdown",
   "metadata": {},
   "source": [
    "58 пользователей учитываются одновременно в двух группах A/B-теста. Данные собраны некорретно, вероятно, в результате неправильной настройки теста. Доля таких пользователей составляет 5,6% от всех уникальных пользователей."
   ]
  },
  {
   "cell_type": "markdown",
   "metadata": {},
   "source": [
    "**Вывод**\n",
    "<div style=\"background-color: #FBD603; width: 48px; height: 5px\">&nbsp;</div>\n",
    "\n",
    "На этапе предобработки данных мы исправили стиль заголовков и тип данных столбцов, описывающих даты. Мы установили, что явные дубликаты отсутствуют.\n",
    "\n",
    "Данные A/B-теста собраны некорректно, 5,6% пользователей одновременно присутствуют в двух группах. Стоит учесть наличие ошибки в данных при анализе результатов A/B-теста."
   ]
  },
  {
   "cell_type": "markdown",
   "metadata": {},
   "source": [
    "## Часть 1. Приоритизация гипотез\n",
    "Применим фреймворки ICE и RICE для приоритизации гипотез."
   ]
  },
  {
   "cell_type": "markdown",
   "metadata": {},
   "source": [
    "### Фреймворк ICE"
   ]
  },
  {
   "cell_type": "code",
   "execution_count": 13,
   "metadata": {},
   "outputs": [
    {
     "data": {
      "text/html": [
       "<style type=\"text/css\">\n",
       "#T_aafd7_row0_col1 {\n",
       "  background-color: #004529;\n",
       "  color: #f1f1f1;\n",
       "}\n",
       "#T_aafd7_row1_col1 {\n",
       "  background-color: #12763d;\n",
       "  color: #f1f1f1;\n",
       "}\n",
       "#T_aafd7_row2_col1 {\n",
       "  background-color: #369d54;\n",
       "  color: #f1f1f1;\n",
       "}\n",
       "#T_aafd7_row3_col1 {\n",
       "  background-color: #89ce80;\n",
       "  color: #000000;\n",
       "}\n",
       "#T_aafd7_row4_col1 {\n",
       "  background-color: #a4d98a;\n",
       "  color: #000000;\n",
       "}\n",
       "#T_aafd7_row5_col1 {\n",
       "  background-color: #fbfdcf;\n",
       "  color: #000000;\n",
       "}\n",
       "#T_aafd7_row6_col1 {\n",
       "  background-color: #feffde;\n",
       "  color: #000000;\n",
       "}\n",
       "#T_aafd7_row7_col1 {\n",
       "  background-color: #feffe2;\n",
       "  color: #000000;\n",
       "}\n",
       "#T_aafd7_row8_col1 {\n",
       "  background-color: #ffffe5;\n",
       "  color: #000000;\n",
       "}\n",
       "</style>\n",
       "<table id=\"T_aafd7_\">\n",
       "  <thead>\n",
       "    <tr>\n",
       "      <th class=\"blank level0\" >&nbsp;</th>\n",
       "      <th class=\"col_heading level0 col0\" >hypothesis</th>\n",
       "      <th class=\"col_heading level0 col1\" >ice</th>\n",
       "    </tr>\n",
       "  </thead>\n",
       "  <tbody>\n",
       "    <tr>\n",
       "      <th id=\"T_aafd7_level0_row0\" class=\"row_heading level0 row0\" >8</th>\n",
       "      <td id=\"T_aafd7_row0_col0\" class=\"data row0 col0\" >Запустить акцию, дающую скидку на товар в день рождения</td>\n",
       "      <td id=\"T_aafd7_row0_col1\" class=\"data row0 col1\" >16.2</td>\n",
       "    </tr>\n",
       "    <tr>\n",
       "      <th id=\"T_aafd7_level0_row1\" class=\"row_heading level0 row1\" >0</th>\n",
       "      <td id=\"T_aafd7_row1_col0\" class=\"data row1 col0\" >Добавить два новых канала привлечения трафика, что позволит привлекать на 30% больше пользователей</td>\n",
       "      <td id=\"T_aafd7_row1_col1\" class=\"data row1 col1\" >13.3</td>\n",
       "    </tr>\n",
       "    <tr>\n",
       "      <th id=\"T_aafd7_level0_row2\" class=\"row_heading level0 row2\" >7</th>\n",
       "      <td id=\"T_aafd7_row2_col0\" class=\"data row2 col0\" >Добавить форму подписки на все основные страницы, чтобы собрать базу клиентов для email-рассылок</td>\n",
       "      <td id=\"T_aafd7_row2_col1\" class=\"data row2 col1\" >11.2</td>\n",
       "    </tr>\n",
       "    <tr>\n",
       "      <th id=\"T_aafd7_level0_row3\" class=\"row_heading level0 row3\" >6</th>\n",
       "      <td id=\"T_aafd7_row3_col0\" class=\"data row3 col0\" >Показать на главной странице баннеры с актуальными акциями и распродажами, чтобы увеличить конверсию</td>\n",
       "      <td id=\"T_aafd7_row3_col1\" class=\"data row3 col1\" >8.0</td>\n",
       "    </tr>\n",
       "    <tr>\n",
       "      <th id=\"T_aafd7_level0_row4\" class=\"row_heading level0 row4\" >2</th>\n",
       "      <td id=\"T_aafd7_row4_col0\" class=\"data row4 col0\" >Добавить блоки рекомендаций товаров на сайт интернет магазина, чтобы повысить конверсию и средний чек заказа</td>\n",
       "      <td id=\"T_aafd7_row4_col1\" class=\"data row4 col1\" >7.0</td>\n",
       "    </tr>\n",
       "    <tr>\n",
       "      <th id=\"T_aafd7_level0_row5\" class=\"row_heading level0 row5\" >1</th>\n",
       "      <td id=\"T_aafd7_row5_col0\" class=\"data row5 col0\" >Запустить собственную службу доставки, что сократит срок доставки заказов</td>\n",
       "      <td id=\"T_aafd7_row5_col1\" class=\"data row5 col1\" >2.0</td>\n",
       "    </tr>\n",
       "    <tr>\n",
       "      <th id=\"T_aafd7_level0_row6\" class=\"row_heading level0 row6\" >5</th>\n",
       "      <td id=\"T_aafd7_row6_col0\" class=\"data row6 col0\" >Добавить страницу отзывов клиентов о магазине, что позволит увеличить количество заказов</td>\n",
       "      <td id=\"T_aafd7_row6_col1\" class=\"data row6 col1\" >1.3</td>\n",
       "    </tr>\n",
       "    <tr>\n",
       "      <th id=\"T_aafd7_level0_row7\" class=\"row_heading level0 row7\" >3</th>\n",
       "      <td id=\"T_aafd7_row7_col0\" class=\"data row7 col0\" >Изменить структура категорий, что увеличит конверсию, т.к. пользователи быстрее найдут нужный товар</td>\n",
       "      <td id=\"T_aafd7_row7_col1\" class=\"data row7 col1\" >1.1</td>\n",
       "    </tr>\n",
       "    <tr>\n",
       "      <th id=\"T_aafd7_level0_row8\" class=\"row_heading level0 row8\" >4</th>\n",
       "      <td id=\"T_aafd7_row8_col0\" class=\"data row8 col0\" >Изменить цвет фона главной страницы, чтобы увеличить вовлеченность пользователей</td>\n",
       "      <td id=\"T_aafd7_row8_col1\" class=\"data row8 col1\" >1.0</td>\n",
       "    </tr>\n",
       "  </tbody>\n",
       "</table>\n"
      ],
      "text/plain": [
       "<pandas.io.formats.style.Styler at 0x24453eb9a00>"
      ]
     },
     "execution_count": 13,
     "metadata": {},
     "output_type": "execute_result"
    }
   ],
   "source": [
    "# Рассчитаем ICE Score и отсортируем гипотезы по убыванию приоритета\n",
    "hypothesis['ice'] = (\n",
    "    (hypothesis['impact'] * hypothesis['confidence'])\n",
    "    / hypothesis['efforts']\n",
    ")\n",
    "(\n",
    "    hypothesis[['hypothesis', 'ice']]\n",
    "    .sort_values(by='ice', ascending=False)\n",
    "    .style\n",
    "    .format({'ice': '{:.1f}'})\n",
    "    .background_gradient(cmap='YlGn')\n",
    ")"
   ]
  },
  {
   "cell_type": "markdown",
   "metadata": {},
   "source": [
    "При применении фреймворка ICE наибольший приоритет (*16,2*) получила гипотеза *Запустить акцию, дающую скидку на товар в день рождения*."
   ]
  },
  {
   "cell_type": "markdown",
   "metadata": {},
   "source": [
    "### Фреймворк RICE"
   ]
  },
  {
   "cell_type": "code",
   "execution_count": 14,
   "metadata": {},
   "outputs": [
    {
     "data": {
      "text/html": [
       "<style type=\"text/css\">\n",
       "#T_a5873_row0_col1 {\n",
       "  background-color: #004529;\n",
       "  color: #f1f1f1;\n",
       "}\n",
       "#T_a5873_row1_col1 {\n",
       "  background-color: #7ec97b;\n",
       "  color: #000000;\n",
       "}\n",
       "#T_a5873_row2_col1, #T_a5873_row3_col1 {\n",
       "  background-color: #bae394;\n",
       "  color: #000000;\n",
       "}\n",
       "#T_a5873_row4_col1 {\n",
       "  background-color: #f7fcba;\n",
       "  color: #000000;\n",
       "}\n",
       "#T_a5873_row5_col1 {\n",
       "  background-color: #fbfed2;\n",
       "  color: #000000;\n",
       "}\n",
       "#T_a5873_row6_col1, #T_a5873_row7_col1 {\n",
       "  background-color: #feffe2;\n",
       "  color: #000000;\n",
       "}\n",
       "#T_a5873_row8_col1 {\n",
       "  background-color: #ffffe5;\n",
       "  color: #000000;\n",
       "}\n",
       "</style>\n",
       "<table id=\"T_a5873_\">\n",
       "  <thead>\n",
       "    <tr>\n",
       "      <th class=\"blank level0\" >&nbsp;</th>\n",
       "      <th class=\"col_heading level0 col0\" >hypothesis</th>\n",
       "      <th class=\"col_heading level0 col1\" >rice</th>\n",
       "    </tr>\n",
       "  </thead>\n",
       "  <tbody>\n",
       "    <tr>\n",
       "      <th id=\"T_a5873_level0_row0\" class=\"row_heading level0 row0\" >7</th>\n",
       "      <td id=\"T_a5873_row0_col0\" class=\"data row0 col0\" >Добавить форму подписки на все основные страницы, чтобы собрать базу клиентов для email-рассылок</td>\n",
       "      <td id=\"T_a5873_row0_col1\" class=\"data row0 col1\" >112.0</td>\n",
       "    </tr>\n",
       "    <tr>\n",
       "      <th id=\"T_a5873_level0_row1\" class=\"row_heading level0 row1\" >2</th>\n",
       "      <td id=\"T_a5873_row1_col0\" class=\"data row1 col0\" >Добавить блоки рекомендаций товаров на сайт интернет магазина, чтобы повысить конверсию и средний чек заказа</td>\n",
       "      <td id=\"T_a5873_row1_col1\" class=\"data row1 col1\" >56.0</td>\n",
       "    </tr>\n",
       "    <tr>\n",
       "      <th id=\"T_a5873_level0_row2\" class=\"row_heading level0 row2\" >0</th>\n",
       "      <td id=\"T_a5873_row2_col0\" class=\"data row2 col0\" >Добавить два новых канала привлечения трафика, что позволит привлекать на 30% больше пользователей</td>\n",
       "      <td id=\"T_a5873_row2_col1\" class=\"data row2 col1\" >40.0</td>\n",
       "    </tr>\n",
       "    <tr>\n",
       "      <th id=\"T_a5873_level0_row3\" class=\"row_heading level0 row3\" >6</th>\n",
       "      <td id=\"T_a5873_row3_col0\" class=\"data row3 col0\" >Показать на главной странице баннеры с актуальными акциями и распродажами, чтобы увеличить конверсию</td>\n",
       "      <td id=\"T_a5873_row3_col1\" class=\"data row3 col1\" >40.0</td>\n",
       "    </tr>\n",
       "    <tr>\n",
       "      <th id=\"T_a5873_level0_row4\" class=\"row_heading level0 row4\" >8</th>\n",
       "      <td id=\"T_a5873_row4_col0\" class=\"data row4 col0\" >Запустить акцию, дающую скидку на товар в день рождения</td>\n",
       "      <td id=\"T_a5873_row4_col1\" class=\"data row4 col1\" >16.2</td>\n",
       "    </tr>\n",
       "    <tr>\n",
       "      <th id=\"T_a5873_level0_row5\" class=\"row_heading level0 row5\" >3</th>\n",
       "      <td id=\"T_a5873_row5_col0\" class=\"data row5 col0\" >Изменить структура категорий, что увеличит конверсию, т.к. пользователи быстрее найдут нужный товар</td>\n",
       "      <td id=\"T_a5873_row5_col1\" class=\"data row5 col1\" >9.0</td>\n",
       "    </tr>\n",
       "    <tr>\n",
       "      <th id=\"T_a5873_level0_row6\" class=\"row_heading level0 row6\" >1</th>\n",
       "      <td id=\"T_a5873_row6_col0\" class=\"data row6 col0\" >Запустить собственную службу доставки, что сократит срок доставки заказов</td>\n",
       "      <td id=\"T_a5873_row6_col1\" class=\"data row6 col1\" >4.0</td>\n",
       "    </tr>\n",
       "    <tr>\n",
       "      <th id=\"T_a5873_level0_row7\" class=\"row_heading level0 row7\" >5</th>\n",
       "      <td id=\"T_a5873_row7_col0\" class=\"data row7 col0\" >Добавить страницу отзывов клиентов о магазине, что позволит увеличить количество заказов</td>\n",
       "      <td id=\"T_a5873_row7_col1\" class=\"data row7 col1\" >4.0</td>\n",
       "    </tr>\n",
       "    <tr>\n",
       "      <th id=\"T_a5873_level0_row8\" class=\"row_heading level0 row8\" >4</th>\n",
       "      <td id=\"T_a5873_row8_col0\" class=\"data row8 col0\" >Изменить цвет фона главной страницы, чтобы увеличить вовлеченность пользователей</td>\n",
       "      <td id=\"T_a5873_row8_col1\" class=\"data row8 col1\" >3.0</td>\n",
       "    </tr>\n",
       "  </tbody>\n",
       "</table>\n"
      ],
      "text/plain": [
       "<pandas.io.formats.style.Styler at 0x24454038820>"
      ]
     },
     "execution_count": 14,
     "metadata": {},
     "output_type": "execute_result"
    }
   ],
   "source": [
    "# Рассчитаем RICE Score и отсортируем гипотезы по убыванию приоритета\n",
    "hypothesis['rice'] = (\n",
    "    (hypothesis['reach'] * hypothesis['impact'] * hypothesis['confidence'])\n",
    "    / hypothesis['efforts']\n",
    ")\n",
    "(\n",
    "    hypothesis[['hypothesis', 'rice']]\n",
    "    .sort_values(by='rice', ascending=False)\n",
    "    .style\n",
    "    .format({'ice': '{:.1f}', 'rice': '{:.1f}'})\n",
    "    .background_gradient(cmap='YlGn')\n",
    ")"
   ]
  },
  {
   "cell_type": "markdown",
   "metadata": {},
   "source": [
    "При применении фреймворка RICE наибольший приоритет (*112*) получила гипотеза *Добавить форму подписки на все основные страницы, чтобы собрать базу клиентов для email-рассылок*.\n",
    "\n",
    "Проранжируем получившиеся значения ICE и RICE и посмотрим, как расположились гипотезы по приоритету при оценке с помощью двух фреймворков одновременно."
   ]
  },
  {
   "cell_type": "code",
   "execution_count": 15,
   "metadata": {
    "scrolled": false
   },
   "outputs": [
    {
     "data": {
      "text/html": [
       "<style type=\"text/css\">\n",
       "#T_8a8a9_row0_col1 {\n",
       "  background-color: #ffffe5;\n",
       "  color: #000000;\n",
       "}\n",
       "#T_8a8a9_row1_col1 {\n",
       "  background-color: #f8fcc0;\n",
       "  color: #000000;\n",
       "}\n",
       "#T_8a8a9_row2_col1 {\n",
       "  background-color: #f3fab6;\n",
       "  color: #000000;\n",
       "}\n",
       "#T_8a8a9_row3_col1 {\n",
       "  background-color: #e2f4aa;\n",
       "  color: #000000;\n",
       "}\n",
       "#T_8a8a9_row4_col1 {\n",
       "  background-color: #d9f0a3;\n",
       "  color: #000000;\n",
       "}\n",
       "#T_8a8a9_row5_col1 {\n",
       "  background-color: #349a52;\n",
       "  color: #f1f1f1;\n",
       "}\n",
       "#T_8a8a9_row6_col1 {\n",
       "  background-color: #2c8f4b;\n",
       "  color: #f1f1f1;\n",
       "}\n",
       "#T_8a8a9_row7_col1 {\n",
       "  background-color: #228343;\n",
       "  color: #f1f1f1;\n",
       "}\n",
       "#T_8a8a9_row8_col1 {\n",
       "  background-color: #004529;\n",
       "  color: #f1f1f1;\n",
       "}\n",
       "</style>\n",
       "<table id=\"T_8a8a9_\">\n",
       "  <thead>\n",
       "    <tr>\n",
       "      <th class=\"blank level0\" >&nbsp;</th>\n",
       "      <th class=\"col_heading level0 col0\" >hypothesis</th>\n",
       "      <th class=\"col_heading level0 col1\" >rank</th>\n",
       "    </tr>\n",
       "  </thead>\n",
       "  <tbody>\n",
       "    <tr>\n",
       "      <th id=\"T_8a8a9_level0_row0\" class=\"row_heading level0 row0\" >7</th>\n",
       "      <td id=\"T_8a8a9_row0_col0\" class=\"data row0 col0\" >Добавить форму подписки на все основные страницы, чтобы собрать базу клиентов для email-рассылок</td>\n",
       "      <td id=\"T_8a8a9_row0_col1\" class=\"data row0 col1\" >4.0</td>\n",
       "    </tr>\n",
       "    <tr>\n",
       "      <th id=\"T_8a8a9_level0_row1\" class=\"row_heading level0 row1\" >0</th>\n",
       "      <td id=\"T_8a8a9_row1_col0\" class=\"data row1 col0\" >Добавить два новых канала привлечения трафика, что позволит привлекать на 30% больше пользователей</td>\n",
       "      <td id=\"T_8a8a9_row1_col1\" class=\"data row1 col1\" >5.5</td>\n",
       "    </tr>\n",
       "    <tr>\n",
       "      <th id=\"T_8a8a9_level0_row2\" class=\"row_heading level0 row2\" >8</th>\n",
       "      <td id=\"T_8a8a9_row2_col0\" class=\"data row2 col0\" >Запустить акцию, дающую скидку на товар в день рождения</td>\n",
       "      <td id=\"T_8a8a9_row2_col1\" class=\"data row2 col1\" >6.0</td>\n",
       "    </tr>\n",
       "    <tr>\n",
       "      <th id=\"T_8a8a9_level0_row3\" class=\"row_heading level0 row3\" >2</th>\n",
       "      <td id=\"T_8a8a9_row3_col0\" class=\"data row3 col0\" >Добавить блоки рекомендаций товаров на сайт интернет магазина, чтобы повысить конверсию и средний чек заказа</td>\n",
       "      <td id=\"T_8a8a9_row3_col1\" class=\"data row3 col1\" >7.0</td>\n",
       "    </tr>\n",
       "    <tr>\n",
       "      <th id=\"T_8a8a9_level0_row4\" class=\"row_heading level0 row4\" >6</th>\n",
       "      <td id=\"T_8a8a9_row4_col0\" class=\"data row4 col0\" >Показать на главной странице баннеры с актуальными акциями и распродажами, чтобы увеличить конверсию</td>\n",
       "      <td id=\"T_8a8a9_row4_col1\" class=\"data row4 col1\" >7.5</td>\n",
       "    </tr>\n",
       "    <tr>\n",
       "      <th id=\"T_8a8a9_level0_row5\" class=\"row_heading level0 row5\" >1</th>\n",
       "      <td id=\"T_8a8a9_row5_col0\" class=\"data row5 col0\" >Запустить собственную службу доставки, что сократит срок доставки заказов</td>\n",
       "      <td id=\"T_8a8a9_row5_col1\" class=\"data row5 col1\" >13.5</td>\n",
       "    </tr>\n",
       "    <tr>\n",
       "      <th id=\"T_8a8a9_level0_row6\" class=\"row_heading level0 row6\" >3</th>\n",
       "      <td id=\"T_8a8a9_row6_col0\" class=\"data row6 col0\" >Изменить структура категорий, что увеличит конверсию, т.к. пользователи быстрее найдут нужный товар</td>\n",
       "      <td id=\"T_8a8a9_row6_col1\" class=\"data row6 col1\" >14.0</td>\n",
       "    </tr>\n",
       "    <tr>\n",
       "      <th id=\"T_8a8a9_level0_row7\" class=\"row_heading level0 row7\" >5</th>\n",
       "      <td id=\"T_8a8a9_row7_col0\" class=\"data row7 col0\" >Добавить страницу отзывов клиентов о магазине, что позволит увеличить количество заказов</td>\n",
       "      <td id=\"T_8a8a9_row7_col1\" class=\"data row7 col1\" >14.5</td>\n",
       "    </tr>\n",
       "    <tr>\n",
       "      <th id=\"T_8a8a9_level0_row8\" class=\"row_heading level0 row8\" >4</th>\n",
       "      <td id=\"T_8a8a9_row8_col0\" class=\"data row8 col0\" >Изменить цвет фона главной страницы, чтобы увеличить вовлеченность пользователей</td>\n",
       "      <td id=\"T_8a8a9_row8_col1\" class=\"data row8 col1\" >18.0</td>\n",
       "    </tr>\n",
       "  </tbody>\n",
       "</table>\n"
      ],
      "text/plain": [
       "<pandas.io.formats.style.Styler at 0x24453ebea90>"
      ]
     },
     "execution_count": 15,
     "metadata": {},
     "output_type": "execute_result"
    }
   ],
   "source": [
    "# Ранжируем приоритеты ICE и RICE,\n",
    "# суммируем получившиеся ранги\n",
    "hypothesis['ice_rank'] = hypothesis['ice'].rank(ascending=False)\n",
    "hypothesis['rice_rank'] = hypothesis['rice'].rank(ascending=False)\n",
    "hypothesis['rank'] = hypothesis['ice_rank'] + hypothesis['rice_rank']\n",
    "\n",
    "# Располагаем гипотезы по рангам,\n",
    "# наименьший ранг означает наивысший приоритет по ICE и RICE\n",
    "(\n",
    "    hypothesis[['hypothesis', 'rank']]\n",
    "    .sort_values(by='rank')\n",
    "    .style\n",
    "    .format({'rank': '{:.1f}'})\n",
    "    .background_gradient(cmap='YlGn')\n",
    ")"
   ]
  },
  {
   "cell_type": "markdown",
   "metadata": {},
   "source": [
    "Гипотезы в таблице расположены с учетом приоритизации одновременно по ICE и RICE. Самый высокий приоритет имеет гипотеза  *Добавить форму подписки на все основные страницы, чтобы собрать базу клиентов для email-рассылок*."
   ]
  },
  {
   "cell_type": "markdown",
   "metadata": {},
   "source": [
    "## Выводы по части 1\n",
    "\n",
    "При приоритизации гипотез с помощью RICE вместо ICE учитывается фактор Reach, учитывающий, как много пользователей охватит предложенное изменение.\n",
    "\n",
    "Гипотеза *Добавить форму подписки на все основные страницы, чтобы собрать базу клиентов для email-рассылок* имеет максимальное значение Reach и среднее значение Efforts, благодаря чему оказалась самой приоритетной. Эта гипотеза имеет самый высокий приоритет при ранжировании одновременно по ICE и RICE.\n",
    "\n",
    "Гипотеза *Запустить акцию, дающую скидку на товар в день рождения* имеет минимальное значение Reach, из-за чего при изменение фреймворка с ICE на RICE опустилась с наивысшего уровня приоритета на пятый."
   ]
  },
  {
   "cell_type": "markdown",
   "metadata": {},
   "source": [
    "## Часть 2. Анализ A/B-теста\n",
    "Проанализируем результаты A/B-теста, примем решение по результатам теста."
   ]
  },
  {
   "cell_type": "markdown",
   "metadata": {},
   "source": [
    "### Кумулятивная выручка по группам"
   ]
  },
  {
   "cell_type": "code",
   "execution_count": 16,
   "metadata": {},
   "outputs": [
    {
     "data": {
      "text/html": [
       "<div>\n",
       "<style scoped>\n",
       "    .dataframe tbody tr th:only-of-type {\n",
       "        vertical-align: middle;\n",
       "    }\n",
       "\n",
       "    .dataframe tbody tr th {\n",
       "        vertical-align: top;\n",
       "    }\n",
       "\n",
       "    .dataframe thead th {\n",
       "        text-align: right;\n",
       "    }\n",
       "</style>\n",
       "<table border=\"1\" class=\"dataframe\">\n",
       "  <thead>\n",
       "    <tr style=\"text-align: right;\">\n",
       "      <th></th>\n",
       "      <th>date</th>\n",
       "      <th>group</th>\n",
       "      <th>orders</th>\n",
       "      <th>buyers</th>\n",
       "      <th>revenue</th>\n",
       "      <th>visitors</th>\n",
       "    </tr>\n",
       "  </thead>\n",
       "  <tbody>\n",
       "    <tr>\n",
       "      <th>0</th>\n",
       "      <td>2019-08-01</td>\n",
       "      <td>A</td>\n",
       "      <td>24</td>\n",
       "      <td>20</td>\n",
       "      <td>148579</td>\n",
       "      <td>719</td>\n",
       "    </tr>\n",
       "    <tr>\n",
       "      <th>1</th>\n",
       "      <td>2019-08-01</td>\n",
       "      <td>B</td>\n",
       "      <td>21</td>\n",
       "      <td>20</td>\n",
       "      <td>101217</td>\n",
       "      <td>713</td>\n",
       "    </tr>\n",
       "    <tr>\n",
       "      <th>2</th>\n",
       "      <td>2019-08-02</td>\n",
       "      <td>A</td>\n",
       "      <td>44</td>\n",
       "      <td>38</td>\n",
       "      <td>242401</td>\n",
       "      <td>1338</td>\n",
       "    </tr>\n",
       "    <tr>\n",
       "      <th>3</th>\n",
       "      <td>2019-08-02</td>\n",
       "      <td>B</td>\n",
       "      <td>45</td>\n",
       "      <td>43</td>\n",
       "      <td>266748</td>\n",
       "      <td>1294</td>\n",
       "    </tr>\n",
       "    <tr>\n",
       "      <th>4</th>\n",
       "      <td>2019-08-03</td>\n",
       "      <td>A</td>\n",
       "      <td>68</td>\n",
       "      <td>62</td>\n",
       "      <td>354874</td>\n",
       "      <td>1845</td>\n",
       "    </tr>\n",
       "  </tbody>\n",
       "</table>\n",
       "</div>"
      ],
      "text/plain": [
       "        date group  orders  buyers  revenue  visitors\n",
       "0 2019-08-01     A      24      20   148579       719\n",
       "1 2019-08-01     B      21      20   101217       713\n",
       "2 2019-08-02     A      44      38   242401      1338\n",
       "3 2019-08-02     B      45      43   266748      1294\n",
       "4 2019-08-03     A      68      62   354874      1845"
      ]
     },
     "execution_count": 16,
     "metadata": {},
     "output_type": "execute_result"
    }
   ],
   "source": [
    "# Создаем массив уникальных пар значений дат и групп\n",
    "dates_groups = orders[['date', 'group']].drop_duplicates()\n",
    "\n",
    "# Получаем агрегированные кумулятивные по дням данные о заказах\n",
    "orders_aggregated = dates_groups.apply(\n",
    "    lambda x: orders[\n",
    "        np.logical_and(orders['date'] <= x['date'],\n",
    "        orders['group'] == x['group'])\n",
    "    ]\n",
    "    .agg(\n",
    "        {'date': 'max',\n",
    "        'group': 'max',\n",
    "        'transaction_id': 'nunique',\n",
    "        'visitor_id': 'nunique',\n",
    "        'revenue': 'sum'}\n",
    "    ), axis=1).sort_values(by=['date', 'group'])\n",
    "                    \n",
    "# Получаем агрегированные кумулятивные по дням данные о посетителях\n",
    "visitors_aggregated = dates_groups.apply(\n",
    "    lambda x: visitors[\n",
    "        np.logical_and(visitors['date'] <= x['date'],\n",
    "        visitors['group'] == x['group'])\n",
    "    ]\n",
    "    .agg(\n",
    "        {'date': 'max',\n",
    "         'group': 'max',\n",
    "         'visitors': 'sum'}\n",
    "    ), axis=1).sort_values(by=['date', 'group'])\n",
    "\n",
    "# Объединяем кумулятивные данные в один датафрейм\n",
    "cumulative_data = orders_aggregated.merge(\n",
    "    visitors_aggregated,\n",
    "    left_on=['date', 'group'],\n",
    "    right_on=['date', 'group']\n",
    ")\n",
    "\n",
    "# Переименовываем столбцы\n",
    "cumulative_data.columns = [\n",
    "    'date',\n",
    "    'group',\n",
    "    'orders',\n",
    "    'buyers',\n",
    "    'revenue',\n",
    "    'visitors'\n",
    "]\n",
    "\n",
    "# Проверяем полученный датафрейм, выводим первые 5 строк\n",
    "cumulative_data.head()"
   ]
  },
  {
   "cell_type": "code",
   "execution_count": 17,
   "metadata": {
    "scrolled": false
   },
   "outputs": [
    {
     "data": {
      "image/png": "[encoded data removed]",
      "text/plain": [
       "<Figure size 720x432 with 1 Axes>"
      ]
     },
     "metadata": {
      "needs_background": "light"
     },
     "output_type": "display_data"
    }
   ],
   "source": [
    "# Датафрейм с кумулятивной выручкой\n",
    "# и кумулятивным количеством заказов по дням в группе \"A\"\n",
    "cumulative_revenue_a = (\n",
    "    cumulative_data[cumulative_data['group'] == 'A']\n",
    "    [['date', 'revenue', 'orders']]\n",
    ")\n",
    "\n",
    "# Датафрейм с кумулятивной выручкой\n",
    "# и кумулятивным количеством заказов по дням в группе \"B\"\n",
    "cumulative_revenue_b = (\n",
    "    cumulative_data[cumulative_data['group'] == 'B']\n",
    "    [['date', 'revenue', 'orders']]\n",
    ")\n",
    "\n",
    "# Строим графики\n",
    "plt.figure(figsize=(10, 6))\n",
    "test_start_date = min(cumulative_data['date'])\n",
    "test_stop_date = max(cumulative_data['date'])\n",
    "\n",
    "# График выручки группы \"A\"\n",
    "plt.plot(\n",
    "    cumulative_revenue_a['date'],\n",
    "    cumulative_revenue_a['revenue'],\n",
    "    label='Группа A')\n",
    "\n",
    "# График выручки группы \"B\"\n",
    "plt.plot(\n",
    "    cumulative_revenue_b['date'],\n",
    "    cumulative_revenue_b['revenue'],\n",
    "    label='Группа B')\n",
    "\n",
    "plt.xlim(test_start_date, test_stop_date)\n",
    "plt.legend()\n",
    "plt.title('График кумулятивной выручки по группам')\n",
    "plt.xlabel('дата')\n",
    "plt.ylabel('выручка')\n",
    "plt.annotate(\n",
    "    'отрыв группы \"B\"',\n",
    "    xy=(cumulative_revenue_a.loc[8, 'date'], 800000),\n",
    "    xytext=(cumulative_revenue_a.loc[8, 'date'], 2100000),\n",
    "    arrowprops=dict(arrowstyle='-|>', facecolor='black')\n",
    ")\n",
    "plt.annotate(\n",
    "    'резкий рост',\n",
    "    xy=(cumulative_revenue_a.loc[32, 'date'], 2800000),\n",
    "    xytext=(cumulative_revenue_a.loc[18, 'date'], 3600000),\n",
    "    arrowprops=dict(arrowstyle='-|>', facecolor='black')\n",
    ")\n",
    "plt.show()"
   ]
  },
  {
   "cell_type": "markdown",
   "metadata": {},
   "source": [
    "Выручка практически равномерно увеличивается в течение всего теста.\n",
    "\n",
    "Первые 5 дней теста выручка в обеих группах увеличивается одинаково, а после кумулятивная выручка в группе B превышает кумулятивную выручку в группе A.\n",
    "\n",
    "На графике группы B виден резкий рост кумулятивной выручки 19 августа 2019. Такой рост может быть связан с выбросами в данных — аномальном количестве или слишком высокой стоимости заказов."
   ]
  },
  {
   "cell_type": "markdown",
   "metadata": {},
   "source": [
    "### Кумулятивный средний чек по группам"
   ]
  },
  {
   "cell_type": "code",
   "execution_count": 18,
   "metadata": {
    "scrolled": false
   },
   "outputs": [
    {
     "data": {
      "image/png": "[encoded data removed]",
      "text/plain": [
       "<Figure size 720x432 with 1 Axes>"
      ]
     },
     "metadata": {
      "needs_background": "light"
     },
     "output_type": "display_data"
    }
   ],
   "source": [
    "# Строим графики\n",
    "plt.figure(figsize=(10, 6))\n",
    "\n",
    "# График кумулятивного среднего чека группы \"A\"\n",
    "plt.plot(cumulative_revenue_a['date'], cumulative_revenue_a['revenue'] / cumulative_revenue_a['orders'], label='Группа A')\n",
    "\n",
    "# График кумулятивного среднего чека группы \"B\"\n",
    "plt.plot(cumulative_revenue_b['date'], cumulative_revenue_b['revenue'] / cumulative_revenue_b['orders'], label='Группа B')\n",
    "\n",
    "plt.xlim(test_start_date, test_stop_date)\n",
    "plt.legend()\n",
    "plt.title('График кумулятивного среднего чека по группам')\n",
    "plt.xlabel('дата')\n",
    "plt.ylabel('средний чек')\n",
    "plt.annotate(\n",
    "    'резкий рост',\n",
    "    xy=(cumulative_revenue_a.loc[34, 'date'], 7250),\n",
    "    xytext=(cumulative_revenue_a.loc[24, 'date'], 8000),\n",
    "    arrowprops=dict(arrowstyle='-|>', facecolor='black')\n",
    ")\n",
    "plt.annotate(\n",
    "    'постепенное снижение',\n",
    "    xy=(cumulative_revenue_a.loc[38, 'date'], 10000),\n",
    "    xytext=(cumulative_revenue_a.loc[38, 'date'], 9000),\n",
    "    arrowprops=dict(arrowstyle='-|>', facecolor='black')\n",
    ")\n",
    "plt.show()"
   ]
  },
  {
   "cell_type": "markdown",
   "metadata": {},
   "source": [
    "Первые 10 дней теста кумулятивный средний чек устанавливается на уровне около 7000 для обеих групп.\n",
    "\n",
    "На графике группы B виден резкий рост кумулятивного среднего чека 19 августа 2019. Такой рост может быть связан с выбросами в данных. После резкого роста кумулятивный средний чек постепенно снижается, вероятно, влияние выбросов компенсируется накоплением корректных значений.\n",
    "\n",
    "Кумулятивный средний чек в группе к конце теста начинает постепенно повышаться."
   ]
  },
  {
   "cell_type": "markdown",
   "metadata": {},
   "source": [
    "### Относительное изменения кумулятивного среднего чека группы B к группе A"
   ]
  },
  {
   "cell_type": "code",
   "execution_count": 19,
   "metadata": {},
   "outputs": [
    {
     "data": {
      "image/png": "[encoded data removed]",
      "text/plain": [
       "<Figure size 720x432 with 1 Axes>"
      ]
     },
     "metadata": {
      "needs_background": "light"
     },
     "output_type": "display_data"
    }
   ],
   "source": [
    "# Собираем данные в одном датафрейме\n",
    "merged_cumulative_revenue = (\n",
    "    cumulative_revenue_a\n",
    "    .merge(\n",
    "        cumulative_revenue_b,\n",
    "        left_on='date',\n",
    "        right_on='date',\n",
    "        how='left',\n",
    "        suffixes=['_a', '_b']\n",
    "    )\n",
    ")\n",
    "\n",
    "# Строим график\n",
    "plt.figure(figsize=(10, 6))\n",
    "\n",
    "# Отношение средних чеков\n",
    "plt.plot(\n",
    "    merged_cumulative_revenue['date'],\n",
    "    (merged_cumulative_revenue['revenue_b'] / merged_cumulative_revenue['orders_b'])\n",
    "    / (merged_cumulative_revenue['revenue_a'] / merged_cumulative_revenue['orders_a']) - 1\n",
    ")\n",
    "\n",
    "plt.axhline(y=0, color='gray', linestyle='--')\n",
    "plt.xlim(test_start_date, test_stop_date)\n",
    "plt.title('Относительное изменения кумулятивного среднего чека группы B к группе A')\n",
    "plt.xlabel('дата')\n",
    "plt.ylabel('относительное изменения')\n",
    "plt.show()"
   ]
  },
  {
   "cell_type": "markdown",
   "metadata": {},
   "source": [
    "6-7 августа 2019 кумулятивный средний чек группы B значительно выше среднего чека в группе A за счет роста среднего чека в группе B с одновременным снижением показателя в группе A.\n",
    "\n",
    "Последовавший с 8 по 13 августа 2019 рост среднего чека в группе A отражен на графике в виде ухода относительного изменения в отрицательную область.\n",
    "\n",
    "Также на графике отражен резкий рост кумулятивного среднего чека 19 августа 2019 в группе B и последующее его снижение, что, по всей видимости, связано с наличием выбросов в данных группы."
   ]
  },
  {
   "cell_type": "markdown",
   "metadata": {},
   "source": [
    "### Кумулятивная конверсия по группам"
   ]
  },
  {
   "cell_type": "code",
   "execution_count": 20,
   "metadata": {
    "scrolled": false
   },
   "outputs": [
    {
     "data": {
      "image/png": "[encoded data removed]",
      "text/plain": [
       "<Figure size 720x432 with 1 Axes>"
      ]
     },
     "metadata": {
      "needs_background": "light"
     },
     "output_type": "display_data"
    }
   ],
   "source": [
    "# Считаем кумулятивную конверсию\n",
    "cumulative_data['conversion'] = (\n",
    "    cumulative_data['orders'] / cumulative_data['visitors']\n",
    ")\n",
    "\n",
    "# Датафрейм с данными группы \"A\"\n",
    "cumulative_data_a = cumulative_data[cumulative_data['group'] == 'A']\n",
    "\n",
    "# Датафрейм с данными группы \"B\"\n",
    "cumulative_data_b = cumulative_data[cumulative_data['group'] == 'B']\n",
    "\n",
    "# Строим графики\n",
    "plt.figure(figsize=(10, 6))\n",
    "\n",
    "# График кумулятивной конверсии группы \"A\"\n",
    "plt.plot(\n",
    "    cumulative_data_a['date'],\n",
    "    cumulative_data_a['conversion'],\n",
    "    label='Группа A'\n",
    ")\n",
    "\n",
    "# График кумулятивной конверсии группы \"B\"\n",
    "plt.plot(\n",
    "    cumulative_data_b['date'],\n",
    "    cumulative_data_b['conversion'],\n",
    "    label='Группа B'\n",
    ")\n",
    "\n",
    "plt.xlim(test_start_date, test_stop_date)\n",
    "plt.ylim(0, 0.05)\n",
    "plt.legend()\n",
    "plt.title('График кумулятивной конверсии по группам')\n",
    "plt.xlabel('дата')\n",
    "plt.ylabel('конверсия')\n",
    "plt.annotate(\n",
    "    'отрыв группы \"B\"',\n",
    "    xy=(cumulative_data_a.loc[10, 'date'], 0.033),\n",
    "    xytext=(cumulative_data_a.loc[8, 'date'], 0.04),\n",
    "    arrowprops=dict(arrowstyle='-|>', facecolor='black')\n",
    ")\n",
    "plt.show()"
   ]
  },
  {
   "cell_type": "markdown",
   "metadata": {},
   "source": [
    "В первые 6 дней теста кумулятивная конверсия группы A была выше.\n",
    "\n",
    "После 6 августа 2019 кумулятивная конверсия группы B стабильно превышает значение показателя группы А. Оба показателя достаточно стабильны с середины срока тестирования.\n",
    "\n",
    "На данном этапе тестовый вариант B является предпочтительным благодаря более высокой конверсии."
   ]
  },
  {
   "cell_type": "markdown",
   "metadata": {},
   "source": [
    "### Относительное изменение кумулятивной конверсии группы B к группе A"
   ]
  },
  {
   "cell_type": "code",
   "execution_count": 21,
   "metadata": {
    "scrolled": false
   },
   "outputs": [
    {
     "data": {
      "image/png": "[encoded data removed]",
      "text/plain": [
       "<Figure size 720x432 with 1 Axes>"
      ]
     },
     "metadata": {
      "needs_background": "light"
     },
     "output_type": "display_data"
    }
   ],
   "source": [
    "# Собираем данные в одном датафрейме\n",
    "merged_cumulative_conversion = (\n",
    "    cumulative_data_a[['date', 'conversion']]\n",
    "    .merge(\n",
    "        cumulative_data_b[['date', 'conversion']],\n",
    "        left_on='date',\n",
    "        right_on='date',\n",
    "        how='left',\n",
    "        suffixes=['_a', '_b']\n",
    "    )\n",
    ")\n",
    "\n",
    "# Строим график\n",
    "plt.figure(figsize=(10, 6))\n",
    "\n",
    "# Отношение конверсий\n",
    "plt.plot(\n",
    "    merged_cumulative_conversion['date'],\n",
    "    merged_cumulative_conversion['conversion_b'] / merged_cumulative_conversion['conversion_a'] - 1\n",
    ")\n",
    "\n",
    "plt.axhline(y=0, color='gray', linestyle='--')\n",
    "plt.xlim(test_start_date, test_stop_date)\n",
    "plt.ylim(-0.3, 0.3)\n",
    "plt.title('Относительное изменение кумулятивной конверсии группы B к группе A')\n",
    "plt.xlabel('дата')\n",
    "plt.ylabel('относительное изменения')\n",
    "plt.show()"
   ]
  },
  {
   "cell_type": "markdown",
   "metadata": {},
   "source": [
    "С 6 августа 2019 кумулятивная конверсия группы B превышает показатель группы A.\n",
    "\n",
    "Относительное изменение достигает максимального значения к середине срока теста, далее плавно снижается и в последние дни теста показывает небольшой рост.\n",
    "\n",
    "На данном этапе тестовый вариант B является предпочтительным благодаря конверсии на 15% превосходящей конверсию тестового варианта A."
   ]
  },
  {
   "cell_type": "markdown",
   "metadata": {},
   "source": [
    "### Количество заказов по пользователям"
   ]
  },
  {
   "cell_type": "code",
   "execution_count": 22,
   "metadata": {},
   "outputs": [
    {
     "data": {
      "text/html": [
       "<div>\n",
       "<style scoped>\n",
       "    .dataframe tbody tr th:only-of-type {\n",
       "        vertical-align: middle;\n",
       "    }\n",
       "\n",
       "    .dataframe tbody tr th {\n",
       "        vertical-align: top;\n",
       "    }\n",
       "\n",
       "    .dataframe thead th {\n",
       "        text-align: right;\n",
       "    }\n",
       "</style>\n",
       "<table border=\"1\" class=\"dataframe\">\n",
       "  <thead>\n",
       "    <tr style=\"text-align: right;\">\n",
       "      <th></th>\n",
       "      <th>visitor_id</th>\n",
       "      <th>orders</th>\n",
       "    </tr>\n",
       "  </thead>\n",
       "  <tbody>\n",
       "    <tr>\n",
       "      <th>1023</th>\n",
       "      <td>4256040402</td>\n",
       "      <td>11</td>\n",
       "    </tr>\n",
       "    <tr>\n",
       "      <th>591</th>\n",
       "      <td>2458001652</td>\n",
       "      <td>11</td>\n",
       "    </tr>\n",
       "    <tr>\n",
       "      <th>569</th>\n",
       "      <td>2378935119</td>\n",
       "      <td>9</td>\n",
       "    </tr>\n",
       "    <tr>\n",
       "      <th>487</th>\n",
       "      <td>2038680547</td>\n",
       "      <td>8</td>\n",
       "    </tr>\n",
       "    <tr>\n",
       "      <th>44</th>\n",
       "      <td>199603092</td>\n",
       "      <td>5</td>\n",
       "    </tr>\n",
       "    <tr>\n",
       "      <th>744</th>\n",
       "      <td>3062433592</td>\n",
       "      <td>5</td>\n",
       "    </tr>\n",
       "    <tr>\n",
       "      <th>55</th>\n",
       "      <td>237748145</td>\n",
       "      <td>5</td>\n",
       "    </tr>\n",
       "    <tr>\n",
       "      <th>917</th>\n",
       "      <td>3803269165</td>\n",
       "      <td>5</td>\n",
       "    </tr>\n",
       "    <tr>\n",
       "      <th>299</th>\n",
       "      <td>1230306981</td>\n",
       "      <td>5</td>\n",
       "    </tr>\n",
       "    <tr>\n",
       "      <th>897</th>\n",
       "      <td>3717692402</td>\n",
       "      <td>5</td>\n",
       "    </tr>\n",
       "  </tbody>\n",
       "</table>\n",
       "</div>"
      ],
      "text/plain": [
       "      visitor_id  orders\n",
       "1023  4256040402      11\n",
       "591   2458001652      11\n",
       "569   2378935119       9\n",
       "487   2038680547       8\n",
       "44     199603092       5\n",
       "744   3062433592       5\n",
       "55     237748145       5\n",
       "917   3803269165       5\n",
       "299   1230306981       5\n",
       "897   3717692402       5"
      ]
     },
     "execution_count": 22,
     "metadata": {},
     "output_type": "execute_result"
    }
   ],
   "source": [
    "# Считаем количество заказов на пользователя\n",
    "orders_by_users = orders.groupby('visitor_id', as_index=False).agg({'transaction_id': 'nunique'})\n",
    "\n",
    "# Переименовываем столбцы\n",
    "orders_by_users.columns = ['visitor_id', 'orders']\n",
    "\n",
    "# Выводим топ-10 пользователей по количеству заказов\n",
    "orders_by_users.sort_values(by='orders', ascending=False).head(10)"
   ]
  },
  {
   "cell_type": "markdown",
   "metadata": {},
   "source": [
    "За время теста были пользователи, совершившие 11, 9, 8, 5 заказов. Проверим, сколько заказов в среднем делали пользователи, посмотрев распределение на точечной диаграмме."
   ]
  },
  {
   "cell_type": "code",
   "execution_count": 23,
   "metadata": {},
   "outputs": [
    {
     "data": {
      "image/png": "[encoded data removed]",
      "text/plain": [
       "<Figure size 720x432 with 1 Axes>"
      ]
     },
     "metadata": {
      "needs_background": "light"
     },
     "output_type": "display_data"
    }
   ],
   "source": [
    "# Генерируем номера наблюдений\n",
    "x_values = pd.Series(range(0, len(orders_by_users)))\n",
    "\n",
    "# Точечная диаграмма распределения количества заказов на пользователя\n",
    "plt.figure(figsize=(10, 6))\n",
    "plt.scatter(x_values, orders_by_users['orders'])\n",
    "plt.title('Распределения количества заказов на пользователя')\n",
    "plt.xlabel('частота')\n",
    "plt.ylabel('количество заказов')\n",
    "plt.show()"
   ]
  },
  {
   "cell_type": "markdown",
   "metadata": {},
   "source": [
    "Подавляющее большинство пользователей сделали 1 заказ. Также можно выделить пользователей с 2 и 3 заказами. Крайне редко встречаются пользователи с 4-5 заказами.\n",
    "\n",
    "Данные о пользователях, совершивших более 5 заказов, вероятно, следует отнести к выбросам. Границу для определения аномальных пользователей выберем с помощью расчета перцентилей."
   ]
  },
  {
   "cell_type": "markdown",
   "metadata": {},
   "source": [
    "### Аномальные пользователи"
   ]
  },
  {
   "cell_type": "code",
   "execution_count": 24,
   "metadata": {},
   "outputs": [
    {
     "name": "stdout",
     "output_type": "stream",
     "text": [
      "95-й перцентиль: 2.0\n",
      "99-й перцентиль: 4.0\n",
      "\n"
     ]
    }
   ],
   "source": [
    "# 95-й и 99-й перцентили количества заказов на пользователя\n",
    "print(f'''95-й перцентиль: {np.percentile(orders_by_users['orders'], 95)}\n",
    "99-й перцентиль: {np.percentile(orders_by_users['orders'], 99)}\n",
    "''')"
   ]
  },
  {
   "cell_type": "markdown",
   "metadata": {},
   "source": [
    "Не более 1% пользователей совершали более 4 заказов. Выберем 4 заказа на пользователя (99-й перцентиль) в качестве границы для определения аномальных пользователей."
   ]
  },
  {
   "cell_type": "markdown",
   "metadata": {},
   "source": [
    "### Стоимость заказов"
   ]
  },
  {
   "cell_type": "code",
   "execution_count": 25,
   "metadata": {},
   "outputs": [
    {
     "data": {
      "image/png": "[encoded data removed]",
      "text/plain": [
       "<Figure size 720x432 with 1 Axes>"
      ]
     },
     "metadata": {
      "needs_background": "light"
     },
     "output_type": "display_data"
    }
   ],
   "source": [
    "# Генерируем номера наблюдений\n",
    "x_values = pd.Series(range(0, len(orders['revenue'])))\n",
    "\n",
    "# Точечная диаграмма распределения стоимостей заказов\n",
    "plt.figure(figsize=(10, 6))\n",
    "plt.scatter(x_values, orders['revenue'])\n",
    "plt.title('Распределения стоимостей заказов')\n",
    "plt.xlabel('частота')\n",
    "plt.ylabel('стоимость заказа')\n",
    "plt.show()"
   ]
  },
  {
   "cell_type": "markdown",
   "metadata": {},
   "source": [
    "На диаграмме видно, что почти все заказы укладываются в стоимость до 100 000. Из-за одного заказа с очень высокой стоимостью (более 1 200 000) трудно оценить, данные с какой стоимостью заказа считать выбросами. Воспользуюемся расчетом перцентилей для определения границы анамальных заказов."
   ]
  },
  {
   "cell_type": "markdown",
   "metadata": {},
   "source": [
    "### Аномальные заказы"
   ]
  },
  {
   "cell_type": "code",
   "execution_count": 26,
   "metadata": {},
   "outputs": [
    {
     "name": "stdout",
     "output_type": "stream",
     "text": [
      "95-й перцентиль: 28000.0\n",
      "99-й перцентиль: 58233.2\n",
      "\n"
     ]
    }
   ],
   "source": [
    "# 95-й и 99-й перцентили стоимости заказов\n",
    "print(f'''95-й перцентиль: {round(np.percentile(orders['revenue'], 95), 2)}\n",
    "99-й перцентиль: {round(np.percentile(orders['revenue'], 99), 2)}\n",
    "''')"
   ]
  },
  {
   "cell_type": "markdown",
   "metadata": {},
   "source": [
    "Не более 1% заказов имеют стоимость выше 58 233. Выберем стоимость заказа 58 233 (99-й перцентиль) в качестве границы для определения аномальных заказов."
   ]
  },
  {
   "cell_type": "markdown",
   "metadata": {},
   "source": [
    "### Статистическая значимость различий в конверсии между группами по «сырым» данным"
   ]
  },
  {
   "cell_type": "code",
   "execution_count": 27,
   "metadata": {
    "scrolled": false
   },
   "outputs": [],
   "source": [
    "# Подготовим данные к статистическому анализу\n",
    "# Количество пользователей в дату в группе \"A\"\n",
    "visitors_a_daily = (\n",
    "    visitors[visitors['group'] == 'A'][['date', 'visitors']]\n",
    ")\n",
    "visitors_a_daily.columns = [\n",
    "    'date',\n",
    "    'visitors_per_date_a'\n",
    "]\n",
    "\n",
    "# Количество пользователей в дату в группе \"B\"\n",
    "visitors_b_daily = (\n",
    "    visitors[visitors['group'] == 'B'][['date', 'visitors']]\n",
    ")\n",
    "visitors_b_daily.columns = [\n",
    "    'date',\n",
    "    'visitors_per_date_b'\n",
    "]"
   ]
  },
  {
   "cell_type": "code",
   "execution_count": 28,
   "metadata": {},
   "outputs": [],
   "source": [
    "# Совершенные заказы пользователей в группе \"A\",\n",
    "# которые заказывали хотя бы раз\n",
    "orders_by_users_a = (\n",
    "    orders[orders['group'] == 'A']\n",
    "    .groupby('visitor_id', as_index=False)\n",
    "    .agg({'transaction_id': 'nunique'})\n",
    ")\n",
    "orders_by_users_a.columns = ['visitor_id', 'orders']\n",
    "\n",
    "# Совершенные заказы пользователей в группе \"B\",\n",
    "# которые заказывали хотя бы раз\n",
    "orders_by_users_b = (\n",
    "    orders[orders['group'] == 'B']\n",
    "    .groupby('visitor_id', as_index=False)\n",
    "    .agg({'transaction_id': 'nunique'})\n",
    ")\n",
    "orders_by_users_b.columns = ['visitor_id', 'orders']"
   ]
  },
  {
   "cell_type": "code",
   "execution_count": 29,
   "metadata": {},
   "outputs": [],
   "source": [
    "# Число заказов пользователей в группе \"A\",\n",
    "# включая пользователей с нулевым числом заказов\n",
    "sample_a = pd.concat(\n",
    "    [orders_by_users_a['orders'],\n",
    "     pd.Series(0, index=np.arange(\n",
    "         visitors_a_daily['visitors_per_date_a'].sum()\n",
    "         - len(orders_by_users_a['orders'])\n",
    "     ), name='orders')], axis=0\n",
    ")\n",
    "\n",
    "# Число заказов пользователей в группе \"B\",\n",
    "# включая пользователей с нулевым числом заказов\n",
    "sample_b = pd.concat(\n",
    "    [orders_by_users_b['orders'],\n",
    "     pd.Series(0, index=np.arange(\n",
    "         visitors_b_daily['visitors_per_date_b'].sum()\n",
    "         - len(orders_by_users_b['orders'])\n",
    "     ), name='orders')], axis=0\n",
    ")"
   ]
  },
  {
   "cell_type": "markdown",
   "metadata": {},
   "source": [
    "Сформулируем проверяемые статистическим тестом гипотезы.\n",
    "\n",
    "* **Нулевая гипотеза**: различий в конверсии между группами нет. С математической точки зрения: вероятность того, что наблюдение из популяции X превышает наблюдение из популяции Y равна 50%.\n",
    "* **Альтернативная гипотеза**: конверсии в группах различаются. С математической точки зрения: вероятность того, что наблюдение из популяции X превышает наблюдение из популяции Y не равна 50%."
   ]
  },
  {
   "cell_type": "code",
   "execution_count": 30,
   "metadata": {},
   "outputs": [
    {
     "name": "stdout",
     "output_type": "stream",
     "text": [
      "P-value: 0.017\n",
      "Относительное различие: 0.138\n"
     ]
    }
   ],
   "source": [
    "# Считаем p-value статистического критерия Манна-Уитни\n",
    "print(\n",
    "    'P-value:',\n",
    "    '{0:.3f}'.format(stats.mannwhitneyu(\n",
    "        sample_a,\n",
    "        sample_b,\n",
    "        alternative='two-sided'\n",
    "    )[1])\n",
    ")\n",
    "\n",
    "# Считаем относительное различие в конверсии между группами\n",
    "print(\n",
    "    'Относительное различие:',\n",
    "    '{0:.3f}'.format(sample_b.mean() / sample_a.mean() - 1)\n",
    ")"
   ]
  },
  {
   "cell_type": "markdown",
   "metadata": {},
   "source": [
    "Проведен расчет статистической значимости различий в конверсии между группами по \"сырым\" данным.\n",
    "\n",
    "Полученное p-value меньше 0,05. Значит, **нулевую гипотезу** о том, что статистически значимых различий в конверсии между группами нет, **отвергаем**.\n",
    "\n",
    "Относительный прирост конверсии группы \"B\" составил 13,8%."
   ]
  },
  {
   "cell_type": "markdown",
   "metadata": {},
   "source": [
    "### Статистическая значимость различий в среднем чеке заказа между группами по «сырым» данным"
   ]
  },
  {
   "cell_type": "markdown",
   "metadata": {},
   "source": [
    "Сформулируем проверяемые статистическим тестом гипотезы.\n",
    "\n",
    "* **Нулевая гипотеза**: различий в среднем чеке между группами нет.\n",
    "* **Альтернативная гипотеза**: средний чек в группах различаются."
   ]
  },
  {
   "cell_type": "code",
   "execution_count": 31,
   "metadata": {},
   "outputs": [
    {
     "name": "stdout",
     "output_type": "stream",
     "text": [
      "P-value: 0.729\n",
      "Относительное различие: 0.259\n"
     ]
    }
   ],
   "source": [
    "# Считаем p-value статистического критерия Манна-Уитни\n",
    "print(\n",
    "    'P-value:',\n",
    "    '{0:.3f}'.format(stats.mannwhitneyu(\n",
    "        orders[orders['group'] =='A']['revenue'],\n",
    "        orders[orders['group'] =='B']['revenue'],\n",
    "    alternative='two-sided')[1])\n",
    ")\n",
    "\n",
    "# Считаем относительное различие в среднем чеке между группами\n",
    "print(\n",
    "    'Относительное различие:',\n",
    "    '{0:.3f}'.format(\n",
    "        orders[orders['group'] == 'B']['revenue'].mean()\n",
    "        / orders[orders['group'] == 'A']['revenue'].mean() - 1\n",
    "    )\n",
    ")"
   ]
  },
  {
   "cell_type": "markdown",
   "metadata": {},
   "source": [
    "Проведен расчет статистической значимость различий в среднем чеке заказа между группами по \"сырым\" данным.\n",
    "\n",
    "Полученное p-value значительно больше 0,05. Значит, **нулевую гипотезу** о том, что статистически значимых различий в среднем чеке заказа между группами нет, **не получилось отвергнуть**.\n",
    "\n",
    "Относительное различие в среднем чеке группы \"B\" составило 25,9%.\n",
    "\n",
    "Вероятно, в группу \"B\" попал выброс, который существенно исказил значение среднего чека группы. Проверим это предположение, пересчитав показатель на \"очищенных\" данных."
   ]
  },
  {
   "cell_type": "markdown",
   "metadata": {},
   "source": [
    "### Статистическая значимость различий в конверсии между группами по «очищенным» данным"
   ]
  },
  {
   "cell_type": "code",
   "execution_count": 32,
   "metadata": {},
   "outputs": [
    {
     "name": "stdout",
     "output_type": "stream",
     "text": [
      "Количество аномальных пользователей: 15\n"
     ]
    }
   ],
   "source": [
    "# Соберем аномальных пользователей в датафрейм\n",
    "# для последующей \"очистки\" данных\n",
    "# Пользователи с аномальным количеством заказов (более 4)\n",
    "users_with_many_orders = pd.concat(\n",
    "    [orders_by_users_a[orders_by_users_a['orders'] > 4]['visitor_id'],\n",
    "     orders_by_users_b[orders_by_users_b['orders'] > 4]['visitor_id']],\n",
    "    axis=0\n",
    ")\n",
    "\n",
    "# Пользователи с аномальной стоимостью заказа (более 58 233)\n",
    "users_with_expensive_orders = orders[orders['revenue'] > 58233]['visitor_id']\n",
    "\n",
    "# Объединяем списки аномальных пользователей,\n",
    "# проверяем количество записей\n",
    "abnormal_users = (\n",
    "    pd.concat([users_with_many_orders, users_with_expensive_orders], axis=0)\n",
    "    .drop_duplicates()\n",
    "    .sort_values()\n",
    ")\n",
    "\n",
    "print('Количество аномальных пользователей:', len(abnormal_users))"
   ]
  },
  {
   "cell_type": "code",
   "execution_count": 33,
   "metadata": {},
   "outputs": [],
   "source": [
    "# Число заказов пользователей в группе \"A\",\n",
    "# включая пользователей с нулевым числом заказов,\n",
    "# исключая аномальных пользователей\n",
    "sample_a_filtered = pd.concat(\n",
    "    [orders_by_users_a[\n",
    "        np.logical_not(\n",
    "            orders_by_users_a['visitor_id'].isin(abnormal_users)\n",
    "        )\n",
    "    ]['orders'],\n",
    "     pd.Series(0, index=np.arange(\n",
    "         visitors_a_daily['visitors_per_date_a'].sum()\n",
    "         - len(orders_by_users_a['orders'])\n",
    "     ), name='orders')], axis=0\n",
    ")\n",
    "\n",
    "# Число заказов пользователей в группе \"B\",\n",
    "# включая пользователей с нулевым числом заказов,\n",
    "# исключая аномальных пользователей\n",
    "sample_b_filtered = pd.concat(\n",
    "    [orders_by_users_b[\n",
    "        np.logical_not(\n",
    "            orders_by_users_b['visitor_id'].isin(abnormal_users)\n",
    "        )\n",
    "    ]['orders'],\n",
    "     pd.Series(0, index=np.arange(\n",
    "         visitors_b_daily['visitors_per_date_b'].sum()\n",
    "         - len(orders_by_users_b['orders'])\n",
    "     ), name='orders')], axis=0\n",
    ")"
   ]
  },
  {
   "cell_type": "markdown",
   "metadata": {},
   "source": [
    "* **Нулевая гипотеза**: различий в конверсии между группами нет.\n",
    "* **Альтернативная гипотеза**: конверсии в группах различаются."
   ]
  },
  {
   "cell_type": "code",
   "execution_count": 34,
   "metadata": {},
   "outputs": [
    {
     "name": "stdout",
     "output_type": "stream",
     "text": [
      "P-value: 0.014\n",
      "Относительное различие: 0.153\n"
     ]
    }
   ],
   "source": [
    "# Считаем p-value статистического критерия Манна-Уитни\n",
    "print(\n",
    "    'P-value:',\n",
    "    '{0:.3f}'.format(stats.mannwhitneyu(\n",
    "        sample_a_filtered,\n",
    "        sample_b_filtered,\n",
    "        alternative='two-sided'\n",
    "    )[1])\n",
    ")\n",
    "\n",
    "# Считаем относительное различие в конверсии между группами\n",
    "print(\n",
    "    'Относительное различие:',\n",
    "    '{0:.3f}'.format(sample_b_filtered.mean() / sample_a_filtered.mean() - 1)\n",
    ")"
   ]
  },
  {
   "cell_type": "markdown",
   "metadata": {},
   "source": [
    "Проведен расчет статистической значимости различий в конверсии между группами по \"очищенным\" данным.\n",
    "\n",
    "Полученное p-value меньше, чем при расчете по \"сырым\" данным, **нулевая гипотеза остается отвергнутой**. \n",
    "\n",
    "Относительное различие в конверсии группы \"B\" выше, чем при расчете по \"сырым\" данным (15,3% против 13,8%)."
   ]
  },
  {
   "cell_type": "markdown",
   "metadata": {},
   "source": [
    "### Статистическая значимость различий в среднем чеке заказа между группами по «очищенным» данным"
   ]
  },
  {
   "cell_type": "markdown",
   "metadata": {},
   "source": [
    "* **Нулевая гипотеза**: различий в среднем чеке между группами нет.\n",
    "* **Альтернативная гипотеза**: средний чек в группах различаются."
   ]
  },
  {
   "cell_type": "code",
   "execution_count": 35,
   "metadata": {},
   "outputs": [
    {
     "name": "stdout",
     "output_type": "stream",
     "text": [
      "P-value: 0.851\n",
      "Относительное различие: -0.006\n"
     ]
    }
   ],
   "source": [
    "# Считаем p-value статистического критерия Манна-Уитни\n",
    "print(\n",
    "    'P-value:',\n",
    "    '{0:.3f}'.format(stats.mannwhitneyu(\n",
    "        orders[\n",
    "            np.logical_and(orders['group'] == 'A',\n",
    "                           np.logical_not(\n",
    "                               orders['visitor_id']\n",
    "                                          .isin(abnormal_users)\n",
    "                           )\n",
    "                          )\n",
    "        ]['revenue'],\n",
    "        orders[\n",
    "            np.logical_and(orders['group'] == 'B',\n",
    "                           np.logical_not(\n",
    "                               orders['visitor_id']\n",
    "                                          .isin(abnormal_users)\n",
    "                           )\n",
    "                          )\n",
    "        ]['revenue'], alternative='two-sided'\n",
    "    )[1])\n",
    ")\n",
    "\n",
    "\n",
    "# Считаем относительное различие в среднем чеке между группами\n",
    "print(\n",
    "    'Относительное различие:',\n",
    "    '{0:.3f}'.format(\n",
    "        orders[\n",
    "            np.logical_and(orders['group'] == 'B',\n",
    "                           np.logical_not(\n",
    "                               orders['visitor_id']\n",
    "                                          .isin(abnormal_users)\n",
    "                                         )\n",
    "                          )]['revenue'].mean()\n",
    "        / orders[\n",
    "            np.logical_and(orders['group'] == 'A',\n",
    "                           np.logical_not(\n",
    "                               orders['visitor_id']\n",
    "                                          .isin(abnormal_users)\n",
    "                                         )\n",
    "                          )]['revenue'].mean() -1\n",
    "    )\n",
    ")"
   ]
  },
  {
   "cell_type": "markdown",
   "metadata": {},
   "source": [
    "Проведен расчет статистической значимость различий в среднем чеке заказа между группами по \"очищенным\" данным.\n",
    "\n",
    "Полученное p-value больше, чем при расчете по \"сырым\" данным, **нулевая гипотеза остается не отвергнутой**.\n",
    "\n",
    "Относительное различие в среднем чеке группы \"B\" существенно изменилось по сравнению с расчетом по \"сырым\" данным и находится в отрицательной зоне (-0,6% против 25,9%).\n",
    "\n",
    "Таким образом подтверждается предположение, что в группу \"B\" попал выброс, исказивший средний чек группы. При расчете статистического критерия Манна-Уитни выбросы не оказывают существенного влияния. Несмотря на огромное относительное различие среднего чека при расчете по \"сырым\" и очищенным\" данным, p-value в обоих случая принимает близкие значения."
   ]
  },
  {
   "cell_type": "markdown",
   "metadata": {},
   "source": [
    "## Выводы по части 2"
   ]
  },
  {
   "cell_type": "markdown",
   "metadata": {},
   "source": [
    "При проведении анализа A/B-теста установлены следующие факты: \n",
    "* Обнаружено статистически значимое различие по конверсии между группами по \"сырым\" и \"очищенным\" данным.\n",
    "* По \"очищенным\" данным относительный прирост конверсии группы \"B\" составил 15,3%.\n",
    "* Нет статистически значимого различия по среднему чеку между группами по \"сырым\" и \"очищенным\" данным.\n",
    "* По \"очищенным\" данным относительное различие в среднем чеке группы \"B\" составило -0,6%.\n",
    "* График различия конверсии между группами показывает установившуюся более высокую конверсию группы \"B\".\n",
    "* График различия среднего чека показывает находится под влиянием выбросов. Можно прогнозировать дальнейшее снижение показателя для группы \"B\". Это обусловлено постепенным снижением влиянием крупного выброса на показатель кумулятивного среднего чека."
   ]
  },
  {
   "cell_type": "markdown",
   "metadata": {},
   "source": [
    "## Выводы"
   ]
  },
  {
   "cell_type": "markdown",
   "metadata": {},
   "source": [
    "На этапе предобработки данных было выявлено, что **данные собраны некорректно**. 5,6% пользователей одновременно присутствуют в двух группах.\n",
    "\n",
    "На этапе приоритизации гипотез при применении одновременно фреймворков ICE и RICE гипотеза *Добавить форму подписки на все основные страницы, чтобы собрать базу клиентов для email-рассылок* выбрана приоритетной.\n",
    "\n",
    "По результатам проведенного A/B-теста обнаружено статистически значимое различие по конверсии между группами. По \"очищенным\" данным относительный прирост конверсии группы \"B\" составил 15,3%. Нет статистически значимого различия по среднему чеку между группами.\n",
    "\n",
    "Исходя из указанных фактов, можно дать рекомендацию **остановить тест и зафиксировать победу группы \"B\"**. Группа \"B\" характеризуется существенным положительным различием по конверсии при одинаковом среднем чеке."
   ]
  }
 ],
 "metadata": {
  "ExecuteTimeLog": [
   {
    "duration": 71,
    "start_time": "2022-02-21T16:46:57.844Z"
   },
   {
    "duration": 577,
    "start_time": "2022-02-21T16:47:31.030Z"
   },
   {
    "duration": 37,
    "start_time": "2022-02-21T16:53:22.715Z"
   },
   {
    "duration": 35,
    "start_time": "2022-02-21T16:53:43.197Z"
   },
   {
    "duration": 4,
    "start_time": "2022-02-21T16:53:45.332Z"
   },
   {
    "duration": 466,
    "start_time": "2022-02-21T16:54:04.955Z"
   },
   {
    "duration": 11,
    "start_time": "2022-02-21T16:55:28.019Z"
   },
   {
    "duration": 9,
    "start_time": "2022-02-21T16:59:42.922Z"
   },
   {
    "duration": 198,
    "start_time": "2022-02-21T17:01:16.576Z"
   },
   {
    "duration": 7,
    "start_time": "2022-02-21T17:01:29.812Z"
   },
   {
    "duration": 7,
    "start_time": "2022-02-21T17:01:32.687Z"
   },
   {
    "duration": 7,
    "start_time": "2022-02-21T17:04:02.379Z"
   },
   {
    "duration": 6,
    "start_time": "2022-02-21T17:05:37.815Z"
   },
   {
    "duration": 61,
    "start_time": "2022-02-21T17:06:18.828Z"
   },
   {
    "duration": 1339,
    "start_time": "2022-02-21T17:14:08.896Z"
   },
   {
    "duration": 62,
    "start_time": "2022-02-21T17:15:22.986Z"
   },
   {
    "duration": 6,
    "start_time": "2022-02-21T17:15:34.061Z"
   },
   {
    "duration": 10,
    "start_time": "2022-02-21T17:15:40.794Z"
   },
   {
    "duration": 11,
    "start_time": "2022-02-21T17:15:45.227Z"
   },
   {
    "duration": 6,
    "start_time": "2022-02-21T17:16:12.137Z"
   },
   {
    "duration": 8,
    "start_time": "2022-02-21T17:16:13.184Z"
   },
   {
    "duration": 4,
    "start_time": "2022-02-21T17:16:37.455Z"
   },
   {
    "duration": 7,
    "start_time": "2022-02-21T17:16:38.485Z"
   },
   {
    "duration": 7,
    "start_time": "2022-02-21T17:16:44.105Z"
   },
   {
    "duration": 2,
    "start_time": "2022-02-21T17:18:14.786Z"
   },
   {
    "duration": 8,
    "start_time": "2022-02-21T17:20:05.321Z"
   },
   {
    "duration": 6,
    "start_time": "2022-02-21T17:20:11.747Z"
   },
   {
    "duration": 6,
    "start_time": "2022-02-21T17:21:07.049Z"
   },
   {
    "duration": 7,
    "start_time": "2022-02-21T17:21:21.924Z"
   },
   {
    "duration": 7,
    "start_time": "2022-02-21T17:21:22.486Z"
   },
   {
    "duration": 6,
    "start_time": "2022-02-21T17:21:35.289Z"
   },
   {
    "duration": 8,
    "start_time": "2022-02-21T17:21:40.776Z"
   },
   {
    "duration": 6,
    "start_time": "2022-02-21T17:21:52.709Z"
   },
   {
    "duration": 8,
    "start_time": "2022-02-21T17:21:54.806Z"
   },
   {
    "duration": 8,
    "start_time": "2022-02-21T17:22:00.757Z"
   },
   {
    "duration": 6,
    "start_time": "2022-02-21T17:22:06.554Z"
   },
   {
    "duration": 5,
    "start_time": "2022-02-21T17:23:20.838Z"
   },
   {
    "duration": 5,
    "start_time": "2022-02-21T17:23:50.134Z"
   },
   {
    "duration": 6,
    "start_time": "2022-02-21T17:24:43.563Z"
   },
   {
    "duration": 5,
    "start_time": "2022-02-21T17:24:44.765Z"
   },
   {
    "duration": 61,
    "start_time": "2022-02-21T17:24:58.532Z"
   },
   {
    "duration": 2,
    "start_time": "2022-02-21T17:25:56.854Z"
   },
   {
    "duration": 3,
    "start_time": "2022-02-22T09:26:32.436Z"
   },
   {
    "duration": 356,
    "start_time": "2022-02-22T09:28:22.710Z"
   },
   {
    "duration": 591,
    "start_time": "2022-02-22T09:31:27.209Z"
   },
   {
    "duration": 75,
    "start_time": "2022-02-22T09:31:27.802Z"
   },
   {
    "duration": 11,
    "start_time": "2022-02-22T09:31:27.879Z"
   },
   {
    "duration": 11,
    "start_time": "2022-02-22T09:31:27.892Z"
   },
   {
    "duration": 7,
    "start_time": "2022-02-22T09:31:27.904Z"
   },
   {
    "duration": 9,
    "start_time": "2022-02-22T09:31:27.912Z"
   },
   {
    "duration": 11,
    "start_time": "2022-02-22T09:31:27.922Z"
   },
   {
    "duration": 12,
    "start_time": "2022-02-22T09:31:27.935Z"
   },
   {
    "duration": 10,
    "start_time": "2022-02-22T09:31:27.949Z"
   },
   {
    "duration": 7,
    "start_time": "2022-02-22T09:31:27.960Z"
   },
   {
    "duration": 6,
    "start_time": "2022-02-22T09:31:27.968Z"
   },
   {
    "duration": 16,
    "start_time": "2022-02-22T09:31:27.975Z"
   },
   {
    "duration": 436,
    "start_time": "2022-02-22T09:31:27.992Z"
   },
   {
    "duration": 11,
    "start_time": "2022-02-22T09:31:37.112Z"
   },
   {
    "duration": 537,
    "start_time": "2022-02-22T09:43:27.169Z"
   },
   {
    "duration": 15,
    "start_time": "2022-02-22T09:44:46.577Z"
   },
   {
    "duration": 379,
    "start_time": "2022-02-22T09:45:20.348Z"
   },
   {
    "duration": 13,
    "start_time": "2022-02-22T09:45:22.180Z"
   },
   {
    "duration": 330,
    "start_time": "2022-02-22T09:45:24.694Z"
   },
   {
    "duration": 14,
    "start_time": "2022-02-22T09:45:27.779Z"
   },
   {
    "duration": 13,
    "start_time": "2022-02-22T09:46:19.038Z"
   },
   {
    "duration": 13,
    "start_time": "2022-02-22T09:46:59.095Z"
   },
   {
    "duration": 14,
    "start_time": "2022-02-22T09:47:04.517Z"
   },
   {
    "duration": 15,
    "start_time": "2022-02-22T09:47:30.005Z"
   },
   {
    "duration": 14,
    "start_time": "2022-02-22T09:48:34.872Z"
   },
   {
    "duration": 14,
    "start_time": "2022-02-22T09:48:39.163Z"
   },
   {
    "duration": 14,
    "start_time": "2022-02-22T09:48:49.287Z"
   },
   {
    "duration": 15,
    "start_time": "2022-02-22T09:50:17.879Z"
   },
   {
    "duration": 15,
    "start_time": "2022-02-22T09:50:29.747Z"
   },
   {
    "duration": 15,
    "start_time": "2022-02-22T09:51:24.208Z"
   },
   {
    "duration": 14,
    "start_time": "2022-02-22T09:51:54.423Z"
   },
   {
    "duration": 27,
    "start_time": "2022-02-22T09:53:43.266Z"
   },
   {
    "duration": 3,
    "start_time": "2022-02-22T10:17:44.731Z"
   },
   {
    "duration": 2,
    "start_time": "2022-02-22T10:19:50.441Z"
   },
   {
    "duration": 10,
    "start_time": "2022-02-22T10:40:30.816Z"
   },
   {
    "duration": 6,
    "start_time": "2022-02-22T10:40:55.044Z"
   },
   {
    "duration": 12,
    "start_time": "2022-02-22T10:40:57.739Z"
   },
   {
    "duration": 4865,
    "start_time": "2022-02-22T10:45:00.925Z"
   },
   {
    "duration": 4664,
    "start_time": "2022-02-22T10:46:47.662Z"
   },
   {
    "duration": 4417,
    "start_time": "2022-02-22T10:49:19.250Z"
   },
   {
    "duration": 12,
    "start_time": "2022-02-22T10:49:40.209Z"
   },
   {
    "duration": 4367,
    "start_time": "2022-02-22T10:50:24.018Z"
   },
   {
    "duration": 171,
    "start_time": "2022-02-22T10:52:14.223Z"
   },
   {
    "duration": 502,
    "start_time": "2022-02-22T10:52:49.649Z"
   },
   {
    "duration": 211,
    "start_time": "2022-02-22T10:52:57.989Z"
   },
   {
    "duration": 174,
    "start_time": "2022-02-22T10:53:33.643Z"
   },
   {
    "duration": 294,
    "start_time": "2022-02-22T10:58:01.691Z"
   },
   {
    "duration": 296,
    "start_time": "2022-02-22T10:58:04.237Z"
   },
   {
    "duration": 311,
    "start_time": "2022-02-22T11:00:42.050Z"
   },
   {
    "duration": 295,
    "start_time": "2022-02-22T11:01:29.191Z"
   },
   {
    "duration": 298,
    "start_time": "2022-02-22T11:01:55.848Z"
   },
   {
    "duration": 301,
    "start_time": "2022-02-22T11:06:38.951Z"
   },
   {
    "duration": 302,
    "start_time": "2022-02-22T11:07:09.057Z"
   },
   {
    "duration": 9155,
    "start_time": "2022-02-22T11:11:16.057Z"
   },
   {
    "duration": 8,
    "start_time": "2022-02-22T11:11:43.360Z"
   },
   {
    "duration": 187,
    "start_time": "2022-02-22T11:14:57.900Z"
   },
   {
    "duration": 183,
    "start_time": "2022-02-22T11:17:24.753Z"
   },
   {
    "duration": 185,
    "start_time": "2022-02-22T11:17:35.783Z"
   },
   {
    "duration": 403,
    "start_time": "2022-02-22T11:18:03.264Z"
   },
   {
    "duration": 176,
    "start_time": "2022-02-22T11:18:06.809Z"
   },
   {
    "duration": 320,
    "start_time": "2022-02-22T11:18:58.999Z"
   },
   {
    "duration": 202,
    "start_time": "2022-02-22T11:19:23.153Z"
   },
   {
    "duration": 198,
    "start_time": "2022-02-22T11:19:52.294Z"
   },
   {
    "duration": 513,
    "start_time": "2022-02-22T11:31:35.499Z"
   },
   {
    "duration": 246,
    "start_time": "2022-02-22T11:31:46.952Z"
   },
   {
    "duration": 255,
    "start_time": "2022-02-22T11:34:00.308Z"
   },
   {
    "duration": 232,
    "start_time": "2022-02-22T11:34:08.410Z"
   },
   {
    "duration": 5,
    "start_time": "2022-02-22T11:47:04.396Z"
   },
   {
    "duration": 209,
    "start_time": "2022-02-22T11:47:17.158Z"
   },
   {
    "duration": 204,
    "start_time": "2022-02-22T11:48:27.197Z"
   },
   {
    "duration": 210,
    "start_time": "2022-02-22T11:49:18.853Z"
   },
   {
    "duration": 215,
    "start_time": "2022-02-22T11:51:02.669Z"
   },
   {
    "duration": 193,
    "start_time": "2022-02-22T12:21:04.986Z"
   },
   {
    "duration": 203,
    "start_time": "2022-02-22T12:22:41.895Z"
   },
   {
    "duration": 2,
    "start_time": "2022-02-22T12:32:32.871Z"
   },
   {
    "duration": 13,
    "start_time": "2022-02-22T12:34:47.382Z"
   },
   {
    "duration": 12,
    "start_time": "2022-02-22T12:35:07.192Z"
   },
   {
    "duration": 204,
    "start_time": "2022-02-22T13:31:01.459Z"
   },
   {
    "duration": 207,
    "start_time": "2022-02-22T13:32:26.207Z"
   },
   {
    "duration": 258,
    "start_time": "2022-02-22T13:32:32.012Z"
   },
   {
    "duration": 526,
    "start_time": "2022-02-22T13:33:27.953Z"
   },
   {
    "duration": 273,
    "start_time": "2022-02-22T13:33:41.694Z"
   },
   {
    "duration": 310,
    "start_time": "2022-02-22T13:33:45.398Z"
   },
   {
    "duration": 295,
    "start_time": "2022-02-22T13:35:23.792Z"
   },
   {
    "duration": 11,
    "start_time": "2022-02-22T13:45:17.955Z"
   },
   {
    "duration": 3,
    "start_time": "2022-02-22T13:45:54.290Z"
   },
   {
    "duration": 214,
    "start_time": "2022-02-22T13:50:11.078Z"
   },
   {
    "duration": 521,
    "start_time": "2022-02-22T13:51:42.421Z"
   },
   {
    "duration": 521,
    "start_time": "2022-02-22T13:52:08.169Z"
   },
   {
    "duration": 218,
    "start_time": "2022-02-22T13:52:45.620Z"
   },
   {
    "duration": 216,
    "start_time": "2022-02-22T13:53:15.608Z"
   },
   {
    "duration": 194,
    "start_time": "2022-02-22T13:53:25.210Z"
   },
   {
    "duration": 350,
    "start_time": "2022-02-22T14:03:07.189Z"
   },
   {
    "duration": 251,
    "start_time": "2022-02-22T14:03:12.152Z"
   },
   {
    "duration": 9,
    "start_time": "2022-02-22T14:03:14.561Z"
   },
   {
    "duration": 302,
    "start_time": "2022-02-22T14:04:32.607Z"
   },
   {
    "duration": 286,
    "start_time": "2022-02-22T14:05:25.391Z"
   },
   {
    "duration": 304,
    "start_time": "2022-02-22T14:06:39.908Z"
   },
   {
    "duration": 305,
    "start_time": "2022-02-22T14:06:44.653Z"
   },
   {
    "duration": 9,
    "start_time": "2022-02-22T14:07:30.654Z"
   },
   {
    "duration": 324,
    "start_time": "2022-02-22T14:11:45.105Z"
   },
   {
    "duration": 12,
    "start_time": "2022-02-22T14:17:58.672Z"
   },
   {
    "duration": 5,
    "start_time": "2022-02-22T14:22:40.042Z"
   },
   {
    "duration": 10,
    "start_time": "2022-02-22T14:22:44.009Z"
   },
   {
    "duration": 10,
    "start_time": "2022-02-22T14:24:34.052Z"
   },
   {
    "duration": 10,
    "start_time": "2022-02-22T14:25:14.568Z"
   },
   {
    "duration": 10,
    "start_time": "2022-02-22T14:25:19.870Z"
   },
   {
    "duration": 111,
    "start_time": "2022-02-22T14:25:38.036Z"
   },
   {
    "duration": 11,
    "start_time": "2022-02-22T14:25:50.354Z"
   },
   {
    "duration": 144,
    "start_time": "2022-02-22T14:28:46.459Z"
   },
   {
    "duration": 184,
    "start_time": "2022-02-22T14:29:42.369Z"
   },
   {
    "duration": 256,
    "start_time": "2022-02-22T14:36:05.096Z"
   },
   {
    "duration": 4,
    "start_time": "2022-02-22T14:41:18.856Z"
   },
   {
    "duration": 4,
    "start_time": "2022-02-22T14:41:37.012Z"
   },
   {
    "duration": 4,
    "start_time": "2022-02-22T14:41:42.944Z"
   },
   {
    "duration": 4,
    "start_time": "2022-02-22T14:41:54.542Z"
   },
   {
    "duration": 4,
    "start_time": "2022-02-22T14:42:04.031Z"
   },
   {
    "duration": 330,
    "start_time": "2022-02-22T14:49:41.876Z"
   },
   {
    "duration": 294,
    "start_time": "2022-02-22T14:49:48.024Z"
   },
   {
    "duration": 582,
    "start_time": "2022-02-22T14:50:32.870Z"
   },
   {
    "duration": 384,
    "start_time": "2022-02-22T14:50:41.995Z"
   },
   {
    "duration": 315,
    "start_time": "2022-02-22T14:51:12.357Z"
   },
   {
    "duration": 329,
    "start_time": "2022-02-22T14:51:24.050Z"
   },
   {
    "duration": 4,
    "start_time": "2022-02-22T14:56:33.433Z"
   },
   {
    "duration": 339,
    "start_time": "2022-02-22T14:58:07.154Z"
   },
   {
    "duration": 416,
    "start_time": "2022-02-22T14:58:21.295Z"
   },
   {
    "duration": 4,
    "start_time": "2022-02-22T14:58:34.552Z"
   },
   {
    "duration": 4,
    "start_time": "2022-02-22T14:58:43.203Z"
   },
   {
    "duration": 4,
    "start_time": "2022-02-22T14:58:55.934Z"
   },
   {
    "duration": 318,
    "start_time": "2022-02-22T15:04:57.758Z"
   },
   {
    "duration": 9,
    "start_time": "2022-02-22T16:15:54.254Z"
   },
   {
    "duration": 11,
    "start_time": "2022-02-22T16:25:47.820Z"
   },
   {
    "duration": 556,
    "start_time": "2022-02-22T16:44:30.364Z"
   },
   {
    "duration": 236,
    "start_time": "2022-02-22T16:44:36.269Z"
   },
   {
    "duration": 14,
    "start_time": "2022-02-22T16:51:02.107Z"
   },
   {
    "duration": 14,
    "start_time": "2022-02-22T16:51:03.254Z"
   },
   {
    "duration": 241,
    "start_time": "2022-02-22T16:51:30.164Z"
   },
   {
    "duration": 7,
    "start_time": "2022-02-22T16:51:41.797Z"
   },
   {
    "duration": 7,
    "start_time": "2022-02-22T16:51:49.377Z"
   },
   {
    "duration": 6,
    "start_time": "2022-02-22T16:51:59.552Z"
   },
   {
    "duration": 6,
    "start_time": "2022-02-22T16:52:05.182Z"
   },
   {
    "duration": 6,
    "start_time": "2022-02-22T16:52:09.053Z"
   },
   {
    "duration": 6,
    "start_time": "2022-02-22T16:52:14.830Z"
   },
   {
    "duration": 6,
    "start_time": "2022-02-22T16:52:23.052Z"
   },
   {
    "duration": 7,
    "start_time": "2022-02-22T16:52:33.220Z"
   },
   {
    "duration": 7,
    "start_time": "2022-02-22T16:52:36.908Z"
   },
   {
    "duration": 232,
    "start_time": "2022-02-22T17:00:48.196Z"
   },
   {
    "duration": 11,
    "start_time": "2022-02-22T17:05:57.715Z"
   },
   {
    "duration": 11,
    "start_time": "2022-02-22T17:09:35.412Z"
   },
   {
    "duration": 7,
    "start_time": "2022-02-22T17:09:36.602Z"
   },
   {
    "duration": 8,
    "start_time": "2022-02-22T17:09:46.422Z"
   },
   {
    "duration": 11,
    "start_time": "2022-02-22T17:10:17.461Z"
   },
   {
    "duration": 14,
    "start_time": "2022-02-22T17:10:34.478Z"
   },
   {
    "duration": 295,
    "start_time": "2022-02-22T19:37:41.427Z"
   },
   {
    "duration": 6,
    "start_time": "2022-02-22T19:37:56.935Z"
   },
   {
    "duration": 5,
    "start_time": "2022-02-22T19:38:04.660Z"
   },
   {
    "duration": 5,
    "start_time": "2022-02-22T19:38:12.100Z"
   },
   {
    "duration": 4,
    "start_time": "2022-02-22T19:38:15.703Z"
   },
   {
    "duration": 4,
    "start_time": "2022-02-22T19:38:25.460Z"
   },
   {
    "duration": 6,
    "start_time": "2022-02-22T19:38:28.366Z"
   },
   {
    "duration": 5,
    "start_time": "2022-02-22T19:38:33.430Z"
   },
   {
    "duration": 5,
    "start_time": "2022-02-22T19:38:40.889Z"
   },
   {
    "duration": 6,
    "start_time": "2022-02-22T19:38:46.709Z"
   },
   {
    "duration": 5,
    "start_time": "2022-02-22T19:38:48.773Z"
   },
   {
    "duration": 5,
    "start_time": "2022-02-22T19:38:49.737Z"
   },
   {
    "duration": 5,
    "start_time": "2022-02-22T19:38:50.504Z"
   },
   {
    "duration": 5,
    "start_time": "2022-02-22T19:38:51.355Z"
   },
   {
    "duration": 5,
    "start_time": "2022-02-22T19:38:53.264Z"
   },
   {
    "duration": 5,
    "start_time": "2022-02-22T19:38:54.177Z"
   },
   {
    "duration": 5,
    "start_time": "2022-02-22T19:38:54.916Z"
   },
   {
    "duration": 4,
    "start_time": "2022-02-22T19:38:55.679Z"
   },
   {
    "duration": 7,
    "start_time": "2022-02-22T19:45:49.409Z"
   },
   {
    "duration": 7,
    "start_time": "2022-02-22T19:48:56.924Z"
   },
   {
    "duration": 99,
    "start_time": "2022-02-22T19:49:28.508Z"
   },
   {
    "duration": 7,
    "start_time": "2022-02-22T19:49:34.104Z"
   },
   {
    "duration": 7,
    "start_time": "2022-02-22T19:50:13.782Z"
   },
   {
    "duration": 6,
    "start_time": "2022-02-22T19:50:55.712Z"
   },
   {
    "duration": 7,
    "start_time": "2022-02-22T19:51:08.154Z"
   },
   {
    "duration": 7,
    "start_time": "2022-02-22T19:54:26.880Z"
   },
   {
    "duration": 7,
    "start_time": "2022-02-22T19:54:36.732Z"
   },
   {
    "duration": 7,
    "start_time": "2022-02-22T19:57:08.275Z"
   },
   {
    "duration": 2,
    "start_time": "2022-02-22T19:57:11.157Z"
   },
   {
    "duration": 6,
    "start_time": "2022-02-22T20:00:49.122Z"
   },
   {
    "duration": 7,
    "start_time": "2022-02-22T20:01:37.418Z"
   },
   {
    "duration": 10,
    "start_time": "2022-02-22T20:03:59.205Z"
   },
   {
    "duration": 9,
    "start_time": "2022-02-22T20:10:40.857Z"
   },
   {
    "duration": 8,
    "start_time": "2022-02-22T21:01:20.473Z"
   },
   {
    "duration": 6,
    "start_time": "2022-02-22T21:03:18.509Z"
   },
   {
    "duration": 8,
    "start_time": "2022-02-22T21:03:20.258Z"
   },
   {
    "duration": 9,
    "start_time": "2022-02-22T21:03:27.006Z"
   },
   {
    "duration": 8,
    "start_time": "2022-02-22T21:05:00.635Z"
   },
   {
    "duration": 7,
    "start_time": "2022-02-22T21:05:42.766Z"
   },
   {
    "duration": 11,
    "start_time": "2022-02-22T21:05:48.899Z"
   },
   {
    "duration": 7,
    "start_time": "2022-02-22T21:07:14.853Z"
   },
   {
    "duration": 5,
    "start_time": "2022-02-22T21:08:18.985Z"
   },
   {
    "duration": 5,
    "start_time": "2022-02-22T21:08:33.521Z"
   },
   {
    "duration": 7,
    "start_time": "2022-02-22T21:08:42.832Z"
   },
   {
    "duration": 6,
    "start_time": "2022-02-22T21:08:45.565Z"
   },
   {
    "duration": 8,
    "start_time": "2022-02-22T21:11:51.891Z"
   },
   {
    "duration": 9,
    "start_time": "2022-02-22T21:14:32.203Z"
   },
   {
    "duration": 8,
    "start_time": "2022-02-22T21:14:39.192Z"
   },
   {
    "duration": 112,
    "start_time": "2022-02-22T21:15:00.672Z"
   },
   {
    "duration": 98,
    "start_time": "2022-02-22T21:15:04.521Z"
   },
   {
    "duration": 8,
    "start_time": "2022-02-22T21:15:07.275Z"
   },
   {
    "duration": 7,
    "start_time": "2022-02-22T21:15:11.021Z"
   },
   {
    "duration": 8,
    "start_time": "2022-02-22T21:15:57.928Z"
   },
   {
    "duration": 319,
    "start_time": "2022-02-22T21:37:59.983Z"
   },
   {
    "duration": 10,
    "start_time": "2022-02-22T21:38:12.371Z"
   },
   {
    "duration": 4,
    "start_time": "2022-02-22T21:39:06.962Z"
   },
   {
    "duration": 3,
    "start_time": "2022-02-22T21:39:41.135Z"
   },
   {
    "duration": 3,
    "start_time": "2022-02-22T21:40:09.055Z"
   },
   {
    "duration": 3,
    "start_time": "2022-02-22T21:40:15.549Z"
   },
   {
    "duration": 3,
    "start_time": "2022-02-22T21:40:25.726Z"
   },
   {
    "duration": 3,
    "start_time": "2022-02-22T21:41:12.414Z"
   },
   {
    "duration": 5390,
    "start_time": "2022-02-22T21:41:38.204Z"
   },
   {
    "duration": 5,
    "start_time": "2022-02-22T21:41:56.499Z"
   },
   {
    "duration": 5,
    "start_time": "2022-02-22T21:42:05.895Z"
   },
   {
    "duration": 5,
    "start_time": "2022-02-22T21:42:14.559Z"
   },
   {
    "duration": 4,
    "start_time": "2022-02-22T21:42:19.245Z"
   },
   {
    "duration": 4,
    "start_time": "2022-02-22T21:42:28.665Z"
   },
   {
    "duration": 5,
    "start_time": "2022-02-22T21:42:31.457Z"
   },
   {
    "duration": 9,
    "start_time": "2022-02-22T21:42:40.405Z"
   },
   {
    "duration": 6,
    "start_time": "2022-02-22T21:43:13.504Z"
   },
   {
    "duration": 6,
    "start_time": "2022-02-22T21:43:20.818Z"
   },
   {
    "duration": 7,
    "start_time": "2022-02-22T21:43:45.670Z"
   },
   {
    "duration": 5,
    "start_time": "2022-02-22T21:44:08.127Z"
   },
   {
    "duration": 5,
    "start_time": "2022-02-22T21:44:11.623Z"
   },
   {
    "duration": 4,
    "start_time": "2022-02-22T21:44:17.781Z"
   },
   {
    "duration": 6,
    "start_time": "2022-02-22T21:44:23.236Z"
   },
   {
    "duration": 8,
    "start_time": "2022-02-22T21:44:38.124Z"
   },
   {
    "duration": 12,
    "start_time": "2022-02-22T21:45:04.647Z"
   },
   {
    "duration": 5,
    "start_time": "2022-02-22T21:45:29.154Z"
   },
   {
    "duration": 4,
    "start_time": "2022-02-22T21:45:33.708Z"
   },
   {
    "duration": 14,
    "start_time": "2022-02-22T21:46:00.586Z"
   },
   {
    "duration": 11,
    "start_time": "2022-02-22T21:46:46.942Z"
   },
   {
    "duration": 364,
    "start_time": "2022-02-22T21:47:57.811Z"
   },
   {
    "duration": 998,
    "start_time": "2022-02-22T21:48:08.610Z"
   },
   {
    "duration": 143,
    "start_time": "2022-02-22T21:48:09.609Z"
   },
   {
    "duration": 10,
    "start_time": "2022-02-22T21:48:09.754Z"
   },
   {
    "duration": 9,
    "start_time": "2022-02-22T21:48:09.765Z"
   },
   {
    "duration": 6,
    "start_time": "2022-02-22T21:48:09.776Z"
   },
   {
    "duration": 7,
    "start_time": "2022-02-22T21:48:09.784Z"
   },
   {
    "duration": 6,
    "start_time": "2022-02-22T21:48:09.793Z"
   },
   {
    "duration": 5,
    "start_time": "2022-02-22T21:48:09.801Z"
   },
   {
    "duration": 7,
    "start_time": "2022-02-22T21:48:09.808Z"
   },
   {
    "duration": 10,
    "start_time": "2022-02-22T21:48:09.816Z"
   },
   {
    "duration": 20,
    "start_time": "2022-02-22T21:48:09.827Z"
   },
   {
    "duration": 474,
    "start_time": "2022-02-22T21:48:09.848Z"
   },
   {
    "duration": 17,
    "start_time": "2022-02-22T21:48:10.323Z"
   },
   {
    "duration": 312,
    "start_time": "2022-02-22T21:48:10.341Z"
   },
   {
    "duration": 231,
    "start_time": "2022-02-22T21:48:10.655Z"
   },
   {
    "duration": 208,
    "start_time": "2022-02-22T21:48:10.888Z"
   },
   {
    "duration": 366,
    "start_time": "2022-02-22T21:48:11.098Z"
   },
   {
    "duration": 209,
    "start_time": "2022-02-22T21:48:11.466Z"
   },
   {
    "duration": 296,
    "start_time": "2022-02-22T21:48:11.676Z"
   },
   {
    "duration": 10,
    "start_time": "2022-02-22T21:48:11.974Z"
   },
   {
    "duration": 299,
    "start_time": "2022-02-22T21:48:11.985Z"
   },
   {
    "duration": 4,
    "start_time": "2022-02-22T21:48:12.286Z"
   },
   {
    "duration": 396,
    "start_time": "2022-02-22T21:48:12.292Z"
   },
   {
    "duration": 5,
    "start_time": "2022-02-22T21:48:12.690Z"
   },
   {
    "duration": 9,
    "start_time": "2022-02-22T21:48:12.696Z"
   },
   {
    "duration": 11,
    "start_time": "2022-02-22T21:48:12.706Z"
   },
   {
    "duration": 5,
    "start_time": "2022-02-22T21:48:12.719Z"
   },
   {
    "duration": 22,
    "start_time": "2022-02-22T21:48:12.725Z"
   },
   {
    "duration": 9,
    "start_time": "2022-02-22T21:48:12.748Z"
   },
   {
    "duration": 9,
    "start_time": "2022-02-22T21:48:12.758Z"
   },
   {
    "duration": 11,
    "start_time": "2022-02-22T21:48:12.769Z"
   },
   {
    "duration": 395,
    "start_time": "2022-02-22T21:48:12.781Z"
   },
   {
    "duration": 375,
    "start_time": "2022-02-22T21:49:16.025Z"
   },
   {
    "duration": 312,
    "start_time": "2022-02-22T21:49:19.028Z"
   },
   {
    "duration": 308,
    "start_time": "2022-02-22T21:49:27.834Z"
   },
   {
    "duration": 10,
    "start_time": "2022-02-22T21:49:39.100Z"
   },
   {
    "duration": 4,
    "start_time": "2022-02-22T21:51:00.828Z"
   },
   {
    "duration": 4,
    "start_time": "2022-02-22T21:51:34.742Z"
   },
   {
    "duration": 5,
    "start_time": "2022-02-22T21:51:38.206Z"
   },
   {
    "duration": 9,
    "start_time": "2022-02-22T21:51:57.272Z"
   },
   {
    "duration": 8,
    "start_time": "2022-02-22T21:53:56.703Z"
   },
   {
    "duration": 5,
    "start_time": "2022-02-22T21:53:57.709Z"
   },
   {
    "duration": 7,
    "start_time": "2022-02-22T21:54:07.252Z"
   },
   {
    "duration": 7,
    "start_time": "2022-02-22T21:54:09.657Z"
   },
   {
    "duration": 13,
    "start_time": "2022-02-22T22:14:18.828Z"
   },
   {
    "duration": 943,
    "start_time": "2022-02-22T22:48:40.474Z"
   },
   {
    "duration": 59,
    "start_time": "2022-02-22T22:48:41.419Z"
   },
   {
    "duration": 9,
    "start_time": "2022-02-22T22:48:41.479Z"
   },
   {
    "duration": 8,
    "start_time": "2022-02-22T22:48:41.490Z"
   },
   {
    "duration": 8,
    "start_time": "2022-02-22T22:48:41.499Z"
   },
   {
    "duration": 7,
    "start_time": "2022-02-22T22:48:41.508Z"
   },
   {
    "duration": 5,
    "start_time": "2022-02-22T22:48:41.516Z"
   },
   {
    "duration": 4,
    "start_time": "2022-02-22T22:48:41.523Z"
   },
   {
    "duration": 6,
    "start_time": "2022-02-22T22:48:41.529Z"
   },
   {
    "duration": 5,
    "start_time": "2022-02-22T22:48:41.536Z"
   },
   {
    "duration": 4,
    "start_time": "2022-02-22T22:48:41.542Z"
   },
   {
    "duration": 507,
    "start_time": "2022-02-22T22:48:41.548Z"
   },
   {
    "duration": 15,
    "start_time": "2022-02-22T22:48:42.057Z"
   },
   {
    "duration": 312,
    "start_time": "2022-02-22T22:48:42.073Z"
   },
   {
    "duration": 232,
    "start_time": "2022-02-22T22:48:42.387Z"
   },
   {
    "duration": 208,
    "start_time": "2022-02-22T22:48:42.620Z"
   },
   {
    "duration": 387,
    "start_time": "2022-02-22T22:48:42.830Z"
   },
   {
    "duration": 210,
    "start_time": "2022-02-22T22:48:43.218Z"
   },
   {
    "duration": 356,
    "start_time": "2022-02-22T22:48:43.430Z"
   },
   {
    "duration": 10,
    "start_time": "2022-02-22T22:48:43.787Z"
   },
   {
    "duration": 283,
    "start_time": "2022-02-22T22:48:43.799Z"
   },
   {
    "duration": 4,
    "start_time": "2022-02-22T22:48:44.083Z"
   },
   {
    "duration": 382,
    "start_time": "2022-02-22T22:48:44.090Z"
   },
   {
    "duration": 4,
    "start_time": "2022-02-22T22:48:44.474Z"
   },
   {
    "duration": 7,
    "start_time": "2022-02-22T22:48:44.479Z"
   },
   {
    "duration": 10,
    "start_time": "2022-02-22T22:48:44.488Z"
   },
   {
    "duration": 8,
    "start_time": "2022-02-22T22:48:44.499Z"
   },
   {
    "duration": 11,
    "start_time": "2022-02-22T22:48:44.508Z"
   },
   {
    "duration": 27,
    "start_time": "2022-02-22T22:48:44.520Z"
   },
   {
    "duration": 18,
    "start_time": "2022-02-22T22:48:44.548Z"
   },
   {
    "duration": 12,
    "start_time": "2022-02-22T22:48:44.567Z"
   },
   {
    "duration": 22,
    "start_time": "2022-02-22T22:48:44.580Z"
   },
   {
    "duration": 14,
    "start_time": "2022-02-22T22:48:44.603Z"
   },
   {
    "duration": 76,
    "start_time": "2022-02-23T20:27:08.727Z"
   },
   {
    "duration": 1051,
    "start_time": "2022-02-25T15:02:35.771Z"
   },
   {
    "duration": 59,
    "start_time": "2022-02-25T15:02:36.824Z"
   },
   {
    "duration": 9,
    "start_time": "2022-02-25T15:02:36.885Z"
   },
   {
    "duration": 9,
    "start_time": "2022-02-25T15:02:36.896Z"
   },
   {
    "duration": 10,
    "start_time": "2022-02-25T15:02:36.906Z"
   },
   {
    "duration": 11,
    "start_time": "2022-02-25T15:02:36.917Z"
   },
   {
    "duration": 8,
    "start_time": "2022-02-25T15:02:36.930Z"
   },
   {
    "duration": 7,
    "start_time": "2022-02-25T15:02:36.939Z"
   },
   {
    "duration": 7,
    "start_time": "2022-02-25T15:02:36.948Z"
   },
   {
    "duration": 11,
    "start_time": "2022-02-25T15:02:36.956Z"
   },
   {
    "duration": 5,
    "start_time": "2022-02-25T15:02:36.968Z"
   },
   {
    "duration": 8,
    "start_time": "2022-02-25T15:02:45.590Z"
   },
   {
    "duration": 7,
    "start_time": "2022-02-25T15:02:51.369Z"
   },
   {
    "duration": 8,
    "start_time": "2022-02-25T15:05:29.351Z"
   },
   {
    "duration": 7,
    "start_time": "2022-02-25T15:05:59.264Z"
   },
   {
    "duration": 9,
    "start_time": "2022-02-25T15:06:03.809Z"
   },
   {
    "duration": 10,
    "start_time": "2022-02-25T15:06:19.687Z"
   },
   {
    "duration": 8,
    "start_time": "2022-02-25T15:06:27.458Z"
   },
   {
    "duration": 8,
    "start_time": "2022-02-25T15:06:48.705Z"
   },
   {
    "duration": 8,
    "start_time": "2022-02-25T15:06:50.786Z"
   },
   {
    "duration": 6,
    "start_time": "2022-02-25T15:07:38.271Z"
   },
   {
    "duration": 458,
    "start_time": "2022-02-25T15:08:07.973Z"
   },
   {
    "duration": 379,
    "start_time": "2022-02-25T15:08:15.389Z"
   },
   {
    "duration": 6,
    "start_time": "2022-02-25T15:08:19.866Z"
   },
   {
    "duration": 4,
    "start_time": "2022-02-25T15:09:16.955Z"
   },
   {
    "duration": 7,
    "start_time": "2022-02-25T15:09:19.924Z"
   },
   {
    "duration": 10,
    "start_time": "2022-02-25T15:09:28.958Z"
   },
   {
    "duration": 10,
    "start_time": "2022-02-25T15:09:37.318Z"
   },
   {
    "duration": 106,
    "start_time": "2022-02-25T15:09:51.963Z"
   },
   {
    "duration": 10,
    "start_time": "2022-02-25T15:10:03.880Z"
   },
   {
    "duration": 10,
    "start_time": "2022-02-25T15:10:15.536Z"
   },
   {
    "duration": 11,
    "start_time": "2022-02-25T15:10:29.015Z"
   },
   {
    "duration": 339,
    "start_time": "2022-02-25T15:11:35.403Z"
   },
   {
    "duration": 8,
    "start_time": "2022-02-25T15:11:52.260Z"
   },
   {
    "duration": 8,
    "start_time": "2022-02-25T15:12:01.705Z"
   },
   {
    "duration": 9,
    "start_time": "2022-02-25T15:12:06.184Z"
   },
   {
    "duration": 8,
    "start_time": "2022-02-25T15:12:50.349Z"
   },
   {
    "duration": 11,
    "start_time": "2022-02-25T15:13:13.226Z"
   },
   {
    "duration": 9,
    "start_time": "2022-02-25T15:13:22.824Z"
   },
   {
    "duration": 13,
    "start_time": "2022-02-25T15:13:39.642Z"
   },
   {
    "duration": 12,
    "start_time": "2022-02-25T15:13:43.904Z"
   },
   {
    "duration": 10,
    "start_time": "2022-02-25T15:13:46.273Z"
   },
   {
    "duration": 7,
    "start_time": "2022-02-25T15:14:44.114Z"
   },
   {
    "duration": 13,
    "start_time": "2022-02-25T15:15:12.846Z"
   },
   {
    "duration": 11,
    "start_time": "2022-02-25T15:24:09.914Z"
   },
   {
    "duration": 10,
    "start_time": "2022-02-25T15:24:29.771Z"
   },
   {
    "duration": 9,
    "start_time": "2022-02-25T15:24:44.534Z"
   },
   {
    "duration": 7,
    "start_time": "2022-02-25T15:24:55.946Z"
   },
   {
    "duration": 8,
    "start_time": "2022-02-25T15:24:59.462Z"
   },
   {
    "duration": 3,
    "start_time": "2022-02-25T15:25:10.992Z"
   },
   {
    "duration": 70,
    "start_time": "2022-02-25T15:25:10.998Z"
   },
   {
    "duration": 9,
    "start_time": "2022-02-25T15:25:11.069Z"
   },
   {
    "duration": 10,
    "start_time": "2022-02-25T15:25:11.080Z"
   },
   {
    "duration": 7,
    "start_time": "2022-02-25T15:25:11.092Z"
   },
   {
    "duration": 11,
    "start_time": "2022-02-25T15:25:11.100Z"
   },
   {
    "duration": 6,
    "start_time": "2022-02-25T15:25:11.113Z"
   },
   {
    "duration": 6,
    "start_time": "2022-02-25T15:25:11.121Z"
   },
   {
    "duration": 19,
    "start_time": "2022-02-25T15:25:11.129Z"
   },
   {
    "duration": 4,
    "start_time": "2022-02-25T15:25:11.150Z"
   },
   {
    "duration": 5,
    "start_time": "2022-02-25T15:25:11.155Z"
   },
   {
    "duration": 10,
    "start_time": "2022-02-25T15:25:11.161Z"
   },
   {
    "duration": 6,
    "start_time": "2022-02-25T15:25:11.172Z"
   },
   {
    "duration": 8,
    "start_time": "2022-02-25T15:25:13.034Z"
   },
   {
    "duration": 9,
    "start_time": "2022-02-25T15:25:22.135Z"
   },
   {
    "duration": 9,
    "start_time": "2022-02-25T15:27:52.714Z"
   },
   {
    "duration": 10,
    "start_time": "2022-02-25T15:28:18.608Z"
   },
   {
    "duration": 11,
    "start_time": "2022-02-25T15:28:47.126Z"
   },
   {
    "duration": 12,
    "start_time": "2022-02-25T15:29:50.762Z"
   },
   {
    "duration": 343,
    "start_time": "2022-02-25T15:32:06.124Z"
   },
   {
    "duration": 4,
    "start_time": "2022-02-25T15:32:09.574Z"
   },
   {
    "duration": 11,
    "start_time": "2022-02-25T15:33:14.648Z"
   },
   {
    "duration": 4,
    "start_time": "2022-02-25T15:35:50.765Z"
   },
   {
    "duration": 3,
    "start_time": "2022-02-25T15:42:43.424Z"
   },
   {
    "duration": 95,
    "start_time": "2022-02-25T15:42:43.429Z"
   },
   {
    "duration": 7,
    "start_time": "2022-02-25T15:42:43.526Z"
   },
   {
    "duration": 10,
    "start_time": "2022-02-25T15:42:43.535Z"
   },
   {
    "duration": 8,
    "start_time": "2022-02-25T15:42:43.547Z"
   },
   {
    "duration": 8,
    "start_time": "2022-02-25T15:42:43.557Z"
   },
   {
    "duration": 5,
    "start_time": "2022-02-25T15:42:43.568Z"
   },
   {
    "duration": 7,
    "start_time": "2022-02-25T15:42:43.575Z"
   },
   {
    "duration": 9,
    "start_time": "2022-02-25T15:42:43.583Z"
   },
   {
    "duration": 8,
    "start_time": "2022-02-25T15:42:43.594Z"
   },
   {
    "duration": 4,
    "start_time": "2022-02-25T15:42:43.603Z"
   },
   {
    "duration": 37,
    "start_time": "2022-02-25T15:42:43.609Z"
   },
   {
    "duration": 1757,
    "start_time": "2022-02-25T15:42:43.648Z"
   },
   {
    "duration": 19,
    "start_time": "2022-02-25T15:43:18.650Z"
   },
   {
    "duration": 19,
    "start_time": "2022-02-25T15:43:43.463Z"
   },
   {
    "duration": 4,
    "start_time": "2022-02-25T15:46:28.494Z"
   },
   {
    "duration": 347,
    "start_time": "2022-02-25T15:46:36.429Z"
   },
   {
    "duration": 3,
    "start_time": "2022-02-25T15:46:43.004Z"
   },
   {
    "duration": 69,
    "start_time": "2022-02-25T15:46:43.009Z"
   },
   {
    "duration": 7,
    "start_time": "2022-02-25T15:46:43.080Z"
   },
   {
    "duration": 10,
    "start_time": "2022-02-25T15:46:43.089Z"
   },
   {
    "duration": 9,
    "start_time": "2022-02-25T15:46:43.101Z"
   },
   {
    "duration": 13,
    "start_time": "2022-02-25T15:46:43.112Z"
   },
   {
    "duration": 9,
    "start_time": "2022-02-25T15:46:43.127Z"
   },
   {
    "duration": 6,
    "start_time": "2022-02-25T15:46:43.138Z"
   },
   {
    "duration": 7,
    "start_time": "2022-02-25T15:46:43.146Z"
   },
   {
    "duration": 5,
    "start_time": "2022-02-25T15:46:43.155Z"
   },
   {
    "duration": 4,
    "start_time": "2022-02-25T15:46:43.161Z"
   },
   {
    "duration": 12,
    "start_time": "2022-02-25T15:46:43.167Z"
   },
   {
    "duration": 18,
    "start_time": "2022-02-25T15:46:43.180Z"
   },
   {
    "duration": 16,
    "start_time": "2022-02-25T15:46:43.199Z"
   },
   {
    "duration": 334,
    "start_time": "2022-02-25T15:46:43.217Z"
   },
   {
    "duration": 244,
    "start_time": "2022-02-25T15:46:47.051Z"
   },
   {
    "duration": 260,
    "start_time": "2022-02-25T15:47:52.626Z"
   },
   {
    "duration": 268,
    "start_time": "2022-02-25T15:52:02.956Z"
   },
   {
    "duration": 279,
    "start_time": "2022-02-25T15:52:32.031Z"
   },
   {
    "duration": 274,
    "start_time": "2022-02-25T15:52:52.797Z"
   },
   {
    "duration": 425,
    "start_time": "2022-02-25T15:52:58.628Z"
   },
   {
    "duration": 334,
    "start_time": "2022-02-25T15:53:11.024Z"
   },
   {
    "duration": 395,
    "start_time": "2022-02-25T15:53:16.416Z"
   },
   {
    "duration": 265,
    "start_time": "2022-02-25T15:53:27.180Z"
   },
   {
    "duration": 271,
    "start_time": "2022-02-25T15:53:30.558Z"
   },
   {
    "duration": 266,
    "start_time": "2022-02-25T15:53:32.886Z"
   },
   {
    "duration": 277,
    "start_time": "2022-02-25T15:53:37.281Z"
   },
   {
    "duration": 268,
    "start_time": "2022-02-25T15:53:45.505Z"
   },
   {
    "duration": 276,
    "start_time": "2022-02-25T15:53:53.111Z"
   },
   {
    "duration": 268,
    "start_time": "2022-02-25T15:53:56.880Z"
   },
   {
    "duration": 269,
    "start_time": "2022-02-25T15:54:03.174Z"
   },
   {
    "duration": 262,
    "start_time": "2022-02-25T15:54:07.439Z"
   },
   {
    "duration": 356,
    "start_time": "2022-02-25T15:54:44.634Z"
   },
   {
    "duration": 287,
    "start_time": "2022-02-25T15:55:48.549Z"
   },
   {
    "duration": 273,
    "start_time": "2022-02-25T15:56:25.190Z"
   },
   {
    "duration": 276,
    "start_time": "2022-02-25T15:56:34.375Z"
   },
   {
    "duration": 551,
    "start_time": "2022-02-25T15:57:25.612Z"
   },
   {
    "duration": 265,
    "start_time": "2022-02-25T15:57:32.301Z"
   },
   {
    "duration": 271,
    "start_time": "2022-02-25T15:57:46.718Z"
   },
   {
    "duration": 274,
    "start_time": "2022-02-25T15:59:25.846Z"
   },
   {
    "duration": 276,
    "start_time": "2022-02-25T15:59:30.347Z"
   },
   {
    "duration": 266,
    "start_time": "2022-02-25T15:59:40.793Z"
   },
   {
    "duration": 298,
    "start_time": "2022-02-25T15:59:44.000Z"
   },
   {
    "duration": 343,
    "start_time": "2022-02-25T15:59:48.332Z"
   },
   {
    "duration": 263,
    "start_time": "2022-02-25T15:59:56.421Z"
   },
   {
    "duration": 268,
    "start_time": "2022-02-25T16:00:00.022Z"
   },
   {
    "duration": 267,
    "start_time": "2022-02-25T16:00:40.648Z"
   },
   {
    "duration": 262,
    "start_time": "2022-02-25T16:01:17.235Z"
   },
   {
    "duration": 242,
    "start_time": "2022-02-25T16:02:07.410Z"
   },
   {
    "duration": 250,
    "start_time": "2022-02-25T16:02:16.608Z"
   },
   {
    "duration": 236,
    "start_time": "2022-02-25T16:02:26.888Z"
   },
   {
    "duration": 244,
    "start_time": "2022-02-25T16:02:38.419Z"
   },
   {
    "duration": 259,
    "start_time": "2022-02-25T16:03:40.370Z"
   },
   {
    "duration": 288,
    "start_time": "2022-02-25T16:03:46.511Z"
   },
   {
    "duration": 317,
    "start_time": "2022-02-25T16:03:52.968Z"
   },
   {
    "duration": 265,
    "start_time": "2022-02-25T16:04:03.629Z"
   },
   {
    "duration": 260,
    "start_time": "2022-02-25T16:04:15.713Z"
   },
   {
    "duration": 262,
    "start_time": "2022-02-25T16:04:30.293Z"
   },
   {
    "duration": 276,
    "start_time": "2022-02-25T16:04:36.916Z"
   },
   {
    "duration": 219,
    "start_time": "2022-02-25T16:06:24.795Z"
   },
   {
    "duration": 232,
    "start_time": "2022-02-25T16:06:36.072Z"
   },
   {
    "duration": 229,
    "start_time": "2022-02-25T16:06:40.220Z"
   },
   {
    "duration": 245,
    "start_time": "2022-02-25T16:06:46.789Z"
   },
   {
    "duration": 242,
    "start_time": "2022-02-25T16:06:54.204Z"
   },
   {
    "duration": 272,
    "start_time": "2022-02-25T16:07:01.440Z"
   },
   {
    "duration": 316,
    "start_time": "2022-02-25T16:07:04.791Z"
   },
   {
    "duration": 232,
    "start_time": "2022-02-25T16:07:07.509Z"
   },
   {
    "duration": 229,
    "start_time": "2022-02-25T16:07:10.333Z"
   },
   {
    "duration": 216,
    "start_time": "2022-02-25T16:15:38.125Z"
   },
   {
    "duration": 10,
    "start_time": "2022-02-25T16:18:43.781Z"
   },
   {
    "duration": 10,
    "start_time": "2022-02-25T16:19:03.310Z"
   },
   {
    "duration": 12,
    "start_time": "2022-02-25T16:19:07.427Z"
   },
   {
    "duration": 10,
    "start_time": "2022-02-25T16:19:16.421Z"
   },
   {
    "duration": 336,
    "start_time": "2022-02-25T16:19:53.236Z"
   },
   {
    "duration": 4,
    "start_time": "2022-02-25T16:20:04.897Z"
   },
   {
    "duration": 94,
    "start_time": "2022-02-25T16:20:04.902Z"
   },
   {
    "duration": 7,
    "start_time": "2022-02-25T16:20:04.998Z"
   },
   {
    "duration": 11,
    "start_time": "2022-02-25T16:20:05.007Z"
   },
   {
    "duration": 8,
    "start_time": "2022-02-25T16:20:05.019Z"
   },
   {
    "duration": 14,
    "start_time": "2022-02-25T16:20:05.028Z"
   },
   {
    "duration": 6,
    "start_time": "2022-02-25T16:20:05.044Z"
   },
   {
    "duration": 6,
    "start_time": "2022-02-25T16:20:05.052Z"
   },
   {
    "duration": 8,
    "start_time": "2022-02-25T16:20:05.059Z"
   },
   {
    "duration": 9,
    "start_time": "2022-02-25T16:20:05.069Z"
   },
   {
    "duration": 4,
    "start_time": "2022-02-25T16:20:05.080Z"
   },
   {
    "duration": 11,
    "start_time": "2022-02-25T16:20:05.085Z"
   },
   {
    "duration": 48,
    "start_time": "2022-02-25T16:20:05.098Z"
   },
   {
    "duration": 18,
    "start_time": "2022-02-25T16:20:05.147Z"
   },
   {
    "duration": 341,
    "start_time": "2022-02-25T16:20:05.166Z"
   },
   {
    "duration": 326,
    "start_time": "2022-02-25T16:20:05.509Z"
   },
   {
    "duration": 328,
    "start_time": "2022-02-25T16:20:05.837Z"
   },
   {
    "duration": 381,
    "start_time": "2022-02-25T16:20:06.167Z"
   },
   {
    "duration": 260,
    "start_time": "2022-02-25T16:20:06.551Z"
   },
   {
    "duration": 373,
    "start_time": "2022-02-25T16:20:06.812Z"
   },
   {
    "duration": 10,
    "start_time": "2022-02-25T16:20:07.187Z"
   },
   {
    "duration": 337,
    "start_time": "2022-02-25T16:20:07.199Z"
   },
   {
    "duration": 11,
    "start_time": "2022-02-25T16:20:07.537Z"
   },
   {
    "duration": 340,
    "start_time": "2022-02-25T16:20:07.549Z"
   },
   {
    "duration": 4,
    "start_time": "2022-02-25T16:20:07.891Z"
   },
   {
    "duration": 10,
    "start_time": "2022-02-25T16:20:07.898Z"
   },
   {
    "duration": 19,
    "start_time": "2022-02-25T16:20:07.910Z"
   },
   {
    "duration": 19,
    "start_time": "2022-02-25T16:20:07.931Z"
   },
   {
    "duration": 12,
    "start_time": "2022-02-25T16:20:07.951Z"
   },
   {
    "duration": 86,
    "start_time": "2022-02-25T16:20:07.965Z"
   },
   {
    "duration": 10,
    "start_time": "2022-02-25T16:20:08.053Z"
   },
   {
    "duration": 9,
    "start_time": "2022-02-25T16:20:08.064Z"
   },
   {
    "duration": 7,
    "start_time": "2022-02-25T16:20:09.990Z"
   },
   {
    "duration": 7,
    "start_time": "2022-02-25T16:20:49.943Z"
   },
   {
    "duration": 14,
    "start_time": "2022-02-25T16:22:04.276Z"
   },
   {
    "duration": 1053,
    "start_time": "2022-02-25T21:18:53.059Z"
   },
   {
    "duration": 59,
    "start_time": "2022-02-25T21:18:54.114Z"
   },
   {
    "duration": 10,
    "start_time": "2022-02-25T21:18:54.175Z"
   },
   {
    "duration": 12,
    "start_time": "2022-02-25T21:18:54.187Z"
   },
   {
    "duration": 6,
    "start_time": "2022-02-25T21:18:54.201Z"
   },
   {
    "duration": 8,
    "start_time": "2022-02-25T21:18:54.209Z"
   },
   {
    "duration": 8,
    "start_time": "2022-02-25T21:18:54.218Z"
   },
   {
    "duration": 4,
    "start_time": "2022-02-25T21:18:54.228Z"
   },
   {
    "duration": 8,
    "start_time": "2022-02-25T21:18:54.234Z"
   },
   {
    "duration": 8,
    "start_time": "2022-02-25T21:18:54.244Z"
   },
   {
    "duration": 8,
    "start_time": "2022-02-25T21:18:54.253Z"
   },
   {
    "duration": 13,
    "start_time": "2022-02-25T21:18:54.263Z"
   },
   {
    "duration": 493,
    "start_time": "2022-02-25T21:18:54.278Z"
   },
   {
    "duration": 18,
    "start_time": "2022-02-25T21:18:54.773Z"
   },
   {
    "duration": 316,
    "start_time": "2022-02-25T21:18:54.793Z"
   },
   {
    "duration": 291,
    "start_time": "2022-02-25T21:18:55.111Z"
   },
   {
    "duration": 265,
    "start_time": "2022-02-25T21:18:55.404Z"
   },
   {
    "duration": 348,
    "start_time": "2022-02-25T21:18:55.670Z"
   },
   {
    "duration": 236,
    "start_time": "2022-02-25T21:18:56.020Z"
   },
   {
    "duration": 314,
    "start_time": "2022-02-25T21:18:56.257Z"
   },
   {
    "duration": 10,
    "start_time": "2022-02-25T21:18:56.572Z"
   },
   {
    "duration": 287,
    "start_time": "2022-02-25T21:18:56.584Z"
   },
   {
    "duration": 4,
    "start_time": "2022-02-25T21:18:56.874Z"
   },
   {
    "duration": 382,
    "start_time": "2022-02-25T21:18:56.879Z"
   },
   {
    "duration": 4,
    "start_time": "2022-02-25T21:18:57.263Z"
   },
   {
    "duration": 9,
    "start_time": "2022-02-25T21:18:57.268Z"
   },
   {
    "duration": 11,
    "start_time": "2022-02-25T21:18:57.278Z"
   },
   {
    "duration": 5,
    "start_time": "2022-02-25T21:18:57.290Z"
   },
   {
    "duration": 8,
    "start_time": "2022-02-25T21:18:57.297Z"
   },
   {
    "duration": 8,
    "start_time": "2022-02-25T21:18:57.307Z"
   },
   {
    "duration": 33,
    "start_time": "2022-02-25T21:18:57.317Z"
   },
   {
    "duration": 6,
    "start_time": "2022-02-25T21:18:57.352Z"
   },
   {
    "duration": 8,
    "start_time": "2022-02-25T21:18:57.360Z"
   },
   {
    "duration": 11,
    "start_time": "2022-02-25T21:18:57.370Z"
   },
   {
    "duration": 146,
    "start_time": "2022-02-26T16:05:28.349Z"
   },
   {
    "duration": 1443,
    "start_time": "2022-03-09T09:38:19.303Z"
   },
   {
    "duration": 47,
    "start_time": "2022-03-09T09:38:20.748Z"
   },
   {
    "duration": 17,
    "start_time": "2022-03-09T09:38:20.798Z"
   },
   {
    "duration": 22,
    "start_time": "2022-03-09T09:38:20.818Z"
   },
   {
    "duration": 9,
    "start_time": "2022-03-09T09:38:20.843Z"
   },
   {
    "duration": 36,
    "start_time": "2022-03-09T09:38:20.854Z"
   },
   {
    "duration": 10,
    "start_time": "2022-03-09T09:38:20.892Z"
   },
   {
    "duration": 8,
    "start_time": "2022-03-09T09:38:20.906Z"
   },
   {
    "duration": 12,
    "start_time": "2022-03-09T09:38:20.917Z"
   },
   {
    "duration": 14,
    "start_time": "2022-03-09T09:38:20.932Z"
   },
   {
    "duration": 39,
    "start_time": "2022-03-09T09:38:20.950Z"
   },
   {
    "duration": 26,
    "start_time": "2022-03-09T09:38:20.992Z"
   },
   {
    "duration": 570,
    "start_time": "2022-03-09T09:38:21.021Z"
   },
   {
    "duration": 35,
    "start_time": "2022-03-09T09:38:21.594Z"
   },
   {
    "duration": 576,
    "start_time": "2022-03-09T09:38:21.631Z"
   },
   {
    "duration": 526,
    "start_time": "2022-03-09T09:38:22.209Z"
   },
   {
    "duration": 504,
    "start_time": "2022-03-09T09:38:22.737Z"
   },
   {
    "duration": 555,
    "start_time": "2022-03-09T09:38:23.243Z"
   },
   {
    "duration": 445,
    "start_time": "2022-03-09T09:38:23.800Z"
   },
   {
    "duration": 518,
    "start_time": "2022-03-09T09:38:24.248Z"
   },
   {
    "duration": 29,
    "start_time": "2022-03-09T09:38:24.769Z"
   },
   {
    "duration": 608,
    "start_time": "2022-03-09T09:38:24.801Z"
   },
   {
    "duration": 8,
    "start_time": "2022-03-09T09:38:25.416Z"
   },
   {
    "duration": 793,
    "start_time": "2022-03-09T09:38:25.427Z"
   },
   {
    "duration": 7,
    "start_time": "2022-03-09T09:38:26.223Z"
   },
   {
    "duration": 14,
    "start_time": "2022-03-09T09:38:26.233Z"
   },
   {
    "duration": 45,
    "start_time": "2022-03-09T09:38:26.249Z"
   },
   {
    "duration": 8,
    "start_time": "2022-03-09T09:38:26.297Z"
   },
   {
    "duration": 10,
    "start_time": "2022-03-09T09:38:26.307Z"
   },
   {
    "duration": 14,
    "start_time": "2022-03-09T09:38:26.319Z"
   },
   {
    "duration": 56,
    "start_time": "2022-03-09T09:38:26.336Z"
   },
   {
    "duration": 21,
    "start_time": "2022-03-09T09:38:26.394Z"
   },
   {
    "duration": 14,
    "start_time": "2022-03-09T09:38:26.418Z"
   },
   {
    "duration": 60,
    "start_time": "2022-03-09T09:38:26.435Z"
   },
   {
    "duration": 16,
    "start_time": "2022-03-09T09:39:54.267Z"
   },
   {
    "duration": 18,
    "start_time": "2022-03-09T09:40:29.907Z"
   },
   {
    "duration": 347,
    "start_time": "2022-03-09T09:41:56.971Z"
   },
   {
    "duration": 18,
    "start_time": "2022-03-09T09:42:06.354Z"
   },
   {
    "duration": 30,
    "start_time": "2022-03-09T09:42:16.734Z"
   },
   {
    "duration": 30,
    "start_time": "2022-03-09T09:42:48.717Z"
   },
   {
    "duration": 16,
    "start_time": "2022-03-09T09:43:44.133Z"
   },
   {
    "duration": 242,
    "start_time": "2022-03-09T09:44:21.312Z"
   },
   {
    "duration": 25,
    "start_time": "2022-03-09T09:44:33.325Z"
   },
   {
    "duration": 28,
    "start_time": "2022-03-09T09:44:57.426Z"
   },
   {
    "duration": 27,
    "start_time": "2022-03-09T09:45:44.212Z"
   },
   {
    "duration": 28,
    "start_time": "2022-03-09T09:47:17.227Z"
   },
   {
    "duration": 27,
    "start_time": "2022-03-09T09:47:26.621Z"
   },
   {
    "duration": 26,
    "start_time": "2022-03-09T09:52:25.258Z"
   }
  ],
  "kernelspec": {
   "display_name": "Python 3 (ipykernel)",
   "language": "python",
   "name": "python3"
  },
  "language_info": {
   "codemirror_mode": {
    "name": "ipython",
    "version": 3
   },
   "file_extension": ".py",
   "mimetype": "text/x-python",
   "name": "python",
   "nbconvert_exporter": "python",
   "pygments_lexer": "ipython3",
   "version": "3.9.7"
  },
  "toc": {
   "base_numbering": 1,
   "nav_menu": {},
   "number_sections": true,
   "sideBar": true,
   "skip_h1_title": true,
   "title_cell": "Содержание",
   "title_sidebar": "Contents",
   "toc_cell": false,
   "toc_position": {
    "height": "calc(100% - 180px)",
    "left": "10px",
    "top": "150px",
    "width": "366.391px"
   },
   "toc_section_display": true,
   "toc_window_display": false
  }
 },
 "nbformat": 4,
 "nbformat_minor": 2
}
