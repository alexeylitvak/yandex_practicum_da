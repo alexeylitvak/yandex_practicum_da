{
 "cells": [
  {
   "cell_type": "markdown",
   "metadata": {},
   "source": [
    "# Определение выгодного тарифа для телеком компании\n",
    "\n",
    "На данных федерального оператора сотовой связи мы определим, какой из двух тарифных планов приносит больше денег. Это позволит коммерческому департаменту телеком-компании скорректировать рекламный бюджет.\n",
    "\n",
    "**Задача исследования**\n",
    "\n",
    "Определить более выгодный для компании тариф.\n",
    "\n",
    "**Описание тарифов**\n",
    "\n",
    "|Тариф|Ежемесячная плата|Включено в тариф|Стоимость сверх пакета|\n",
    "|:--  |:--              |:--             |:--                   |\n",
    "|«Смарт»|550 руб.|500 мин.<br />50 сообщений<br />15 Гб|3 руб./мин.<br />3 руб./сообщение<br />200 руб./Гб|\n",
    "|«Ультра»|1950 руб.|3000 мин.<br />1000 сообщений<br />30 Гб|1 руб./мин.<br />1 руб./сообщение<br /> 150 руб./Гб|\n",
    "\n",
    "Для звонков производится округление до минут в большую сторону. Каждый звонок округляется отдельно.\n",
    "\n",
    "Для веб-трафика производится округление до Гб в большую сторону. Отдельные сессии не считаются, округляется общая сумма Мб за месяц.\n",
    "\n",
    "**Ход исследования**\n",
    "\n",
    "В файлах содержатся данные 500 пользователей федерального оператора сотовой связи:\n",
    "\n",
    "  * `data_calls.csv`: информация о звонках\n",
    "  * `data_internet.csv`: информация об интернет-сессиях\n",
    "  * `data_messages.csv`: информация о сообщениях\n",
    "  * `data_tariffs.csv`: информация о тарифах\n",
    "  * `data_users.csv`: информация о пользователях\n",
    "\n",
    "Поскольку данные представлены в нескольких файлах, перед проведением исследования их потребуется объединить. Перед решением задачи исследования понадобится обзор данных. Затем, на этапе предобработки, поищем возможность исправить самые критичные ошибки данных.\n",
    "\n",
    "Для решения задачи исследования необходимо рассчитать и добавить в таблицу несколько показателей:\n",
    "\n",
    "  * количество сделанных звонков и израсходованных минут разговора по месяцам;\n",
    "  * количество отправленных сообщений по месяцам;\n",
    "  * объем израсходованного интернет-трафика по месяцам;\n",
    "  * помесячную выручку с каждого пользователя.\n",
    "\n",
    "Для определить более выгодного тарифа потребуется:\n",
    "\n",
    "  * изучить поведение пользователей:\n",
    "    1. Сколько минут разговора требуется пользователям каждого тарифа в месяц?\n",
    "    2. Сколько сообщений требуется пользователям каждого тарифа в месяц?\n",
    "    3. Какой объём интернет-трафика требуется пользователям каждого тарифа в месяц?\n",
    "  * проверить гипотезы:\n",
    "    1. Средняя выручка пользователей тарифов «Смарт» и «Ультра» различаются;\n",
    "    2. Средняя выручка пользователей из Москвы отличается от выручки пользователей из других регионов.\n",
    "\n",
    "Таким образом, **исследование пройдёт в четыре этапа**:\n",
    "\n",
    "  1. Обзор данных.\n",
    "  2. Предобработка данных.\n",
    "  3. Расчёты и добавление результатов в таблицу.\n",
    "  4. Статистический анализ данных."
   ]
  },
  {
   "cell_type": "markdown",
   "metadata": {},
   "source": [
    "## Обзор данных\n",
    "Составим первое впечатление о входных данных."
   ]
  },
  {
   "cell_type": "code",
   "execution_count": 1,
   "metadata": {},
   "outputs": [],
   "source": [
    "# Импортируем библиотеки\n",
    "import pandas as pd\n",
    "import numpy as np\n",
    "import matplotlib.pyplot as plt\n",
    "from scipy import stats as st "
   ]
  },
  {
   "cell_type": "code",
   "execution_count": 2,
   "metadata": {
    "scrolled": false
   },
   "outputs": [],
   "source": [
    "# Прочитаем и выведем как датафреймы все полученные файлы\n",
    "\n",
    "# Список названий файлов\n",
    "filenames = ['calls', 'internet', 'messages', 'tariffs', 'users']\n",
    "\n",
    "# Пустой список для сохранения датафреймов\n",
    "temp_dataframes = []\n",
    "\n",
    "# Читаем файлы и записываем датафреймы в список\n",
    "for filename in filenames:\n",
    "    temp_df = pd.read_csv('data_' + filename + '.csv')\n",
    "    temp_dataframes.append(temp_df)"
   ]
  },
  {
   "cell_type": "code",
   "execution_count": 3,
   "metadata": {},
   "outputs": [
    {
     "name": "stdout",
     "output_type": "stream",
     "text": [
      "<class 'pandas.core.frame.DataFrame'>\n",
      "RangeIndex: 202607 entries, 0 to 202606\n",
      "Data columns (total 4 columns):\n",
      " #   Column     Non-Null Count   Dtype  \n",
      "---  ------     --------------   -----  \n",
      " 0   id         202607 non-null  object \n",
      " 1   call_date  202607 non-null  object \n",
      " 2   duration   202607 non-null  float64\n",
      " 3   user_id    202607 non-null  int64  \n",
      "dtypes: float64(1), int64(1), object(2)\n",
      "memory usage: 6.2+ MB\n"
     ]
    }
   ],
   "source": [
    "# Обзор датафрейма calls, получаем общую информацию\n",
    "calls = temp_dataframes[0]\n",
    "calls.info()"
   ]
  },
  {
   "cell_type": "markdown",
   "metadata": {},
   "source": [
    "В таблице 202 607 записей о звонках пользователей, пропусков в данных нет.\n",
    "\n",
    "Согласно документации к данным:\n",
    "\n",
    "  * `id` — уникальный номер звонка\n",
    "  * `call_date` — дата звонка\n",
    "  * `duration` — длительность звонка в минутах\n",
    "  * `user_id` — идентификатор пользователя, сделавшего звонок\n",
    "\n",
    "Отмечено несоответствие типа данных документации:\n",
    "\n",
    "  * `id`: строка object, по документации номер → не будем менять тип данных, поскольку столбец не имеет значения для исследования\n",
    "  * `call_date`: строка `object`, по документации дата → `datetime`\n",
    "  * `duration`: вещественное число `float64`. По условиям тарифов каждый звонок округляется до минут в большую сторону, поэтому значения должны быть целочисленными → `int64`"
   ]
  },
  {
   "cell_type": "code",
   "execution_count": 4,
   "metadata": {},
   "outputs": [
    {
     "data": {
      "text/html": [
       "<div>\n",
       "<style scoped>\n",
       "    .dataframe tbody tr th:only-of-type {\n",
       "        vertical-align: middle;\n",
       "    }\n",
       "\n",
       "    .dataframe tbody tr th {\n",
       "        vertical-align: top;\n",
       "    }\n",
       "\n",
       "    .dataframe thead th {\n",
       "        text-align: right;\n",
       "    }\n",
       "</style>\n",
       "<table border=\"1\" class=\"dataframe\">\n",
       "  <thead>\n",
       "    <tr style=\"text-align: right;\">\n",
       "      <th></th>\n",
       "      <th>duration</th>\n",
       "      <th>user_id</th>\n",
       "    </tr>\n",
       "  </thead>\n",
       "  <tbody>\n",
       "    <tr>\n",
       "      <th>count</th>\n",
       "      <td>202607.000000</td>\n",
       "      <td>202607.000000</td>\n",
       "    </tr>\n",
       "    <tr>\n",
       "      <th>mean</th>\n",
       "      <td>6.755887</td>\n",
       "      <td>1253.940619</td>\n",
       "    </tr>\n",
       "    <tr>\n",
       "      <th>std</th>\n",
       "      <td>5.843365</td>\n",
       "      <td>144.722751</td>\n",
       "    </tr>\n",
       "    <tr>\n",
       "      <th>min</th>\n",
       "      <td>0.000000</td>\n",
       "      <td>1000.000000</td>\n",
       "    </tr>\n",
       "    <tr>\n",
       "      <th>25%</th>\n",
       "      <td>1.300000</td>\n",
       "      <td>1126.000000</td>\n",
       "    </tr>\n",
       "    <tr>\n",
       "      <th>50%</th>\n",
       "      <td>6.000000</td>\n",
       "      <td>1260.000000</td>\n",
       "    </tr>\n",
       "    <tr>\n",
       "      <th>75%</th>\n",
       "      <td>10.700000</td>\n",
       "      <td>1379.000000</td>\n",
       "    </tr>\n",
       "    <tr>\n",
       "      <th>max</th>\n",
       "      <td>38.000000</td>\n",
       "      <td>1499.000000</td>\n",
       "    </tr>\n",
       "  </tbody>\n",
       "</table>\n",
       "</div>"
      ],
      "text/plain": [
       "            duration        user_id\n",
       "count  202607.000000  202607.000000\n",
       "mean        6.755887    1253.940619\n",
       "std         5.843365     144.722751\n",
       "min         0.000000    1000.000000\n",
       "25%         1.300000    1126.000000\n",
       "50%         6.000000    1260.000000\n",
       "75%        10.700000    1379.000000\n",
       "max        38.000000    1499.000000"
      ]
     },
     "execution_count": 4,
     "metadata": {},
     "output_type": "execute_result"
    }
   ],
   "source": [
    "# Обзор датафрейма calls, получаем описательную статистику числовых столбцов\n",
    "calls.describe()"
   ]
  },
  {
   "cell_type": "markdown",
   "metadata": {},
   "source": [
    "В столбце `duration` есть нулевые значения. Согласно сопроводительной документации, нулями обозначены пропущенные звонки, поэтому их удаление приведет к потере данных о количестве звонков. Представлены значения `user_id` от 1000 до 1499."
   ]
  },
  {
   "cell_type": "code",
   "execution_count": 5,
   "metadata": {},
   "outputs": [
    {
     "name": "stdout",
     "output_type": "stream",
     "text": [
      "<class 'pandas.core.frame.DataFrame'>\n",
      "RangeIndex: 149396 entries, 0 to 149395\n",
      "Data columns (total 5 columns):\n",
      " #   Column        Non-Null Count   Dtype  \n",
      "---  ------        --------------   -----  \n",
      " 0   Unnamed: 0    149396 non-null  int64  \n",
      " 1   id            149396 non-null  object \n",
      " 2   mb_used       149396 non-null  float64\n",
      " 3   session_date  149396 non-null  object \n",
      " 4   user_id       149396 non-null  int64  \n",
      "dtypes: float64(1), int64(2), object(2)\n",
      "memory usage: 5.7+ MB\n"
     ]
    }
   ],
   "source": [
    "# Обзор датафрейма internet, получаем общую информацию\n",
    "internet = temp_dataframes[1]\n",
    "internet.info()"
   ]
  },
  {
   "cell_type": "markdown",
   "metadata": {},
   "source": [
    "В таблице 149 396 записей об интернет-сессиях пользователей, пропусков в данных нет.\n",
    "\n",
    "Согласно документации к данным:\n",
    "\n",
    "  * `id` — уникальный номер сессии\n",
    "  * `mb_used` — объём потраченного за сессию интернет-трафика (в мегабайтах)\n",
    "  * `session_date` — дата интернет-сессии\n",
    "  * `user_id` — идентификатор пользователя\n",
    "\n",
    "Отмечено несоответствие типа данных документации:\n",
    "\n",
    "  * `id`: строка object, по документации номер → не будем менять тип данных, поскольку столбец не имеет значения для исследования\n",
    "  * `session_date`: строка `object`, по документации дата → `datetime`"
   ]
  },
  {
   "cell_type": "code",
   "execution_count": 6,
   "metadata": {},
   "outputs": [
    {
     "data": {
      "text/html": [
       "<div>\n",
       "<style scoped>\n",
       "    .dataframe tbody tr th:only-of-type {\n",
       "        vertical-align: middle;\n",
       "    }\n",
       "\n",
       "    .dataframe tbody tr th {\n",
       "        vertical-align: top;\n",
       "    }\n",
       "\n",
       "    .dataframe thead th {\n",
       "        text-align: right;\n",
       "    }\n",
       "</style>\n",
       "<table border=\"1\" class=\"dataframe\">\n",
       "  <thead>\n",
       "    <tr style=\"text-align: right;\">\n",
       "      <th></th>\n",
       "      <th>Unnamed: 0</th>\n",
       "      <th>mb_used</th>\n",
       "      <th>user_id</th>\n",
       "    </tr>\n",
       "  </thead>\n",
       "  <tbody>\n",
       "    <tr>\n",
       "      <th>count</th>\n",
       "      <td>149396.000000</td>\n",
       "      <td>149396.000000</td>\n",
       "      <td>149396.000000</td>\n",
       "    </tr>\n",
       "    <tr>\n",
       "      <th>mean</th>\n",
       "      <td>74697.500000</td>\n",
       "      <td>370.192426</td>\n",
       "      <td>1252.099842</td>\n",
       "    </tr>\n",
       "    <tr>\n",
       "      <th>std</th>\n",
       "      <td>43127.054745</td>\n",
       "      <td>278.300951</td>\n",
       "      <td>144.050823</td>\n",
       "    </tr>\n",
       "    <tr>\n",
       "      <th>min</th>\n",
       "      <td>0.000000</td>\n",
       "      <td>0.000000</td>\n",
       "      <td>1000.000000</td>\n",
       "    </tr>\n",
       "    <tr>\n",
       "      <th>25%</th>\n",
       "      <td>37348.750000</td>\n",
       "      <td>138.187500</td>\n",
       "      <td>1130.000000</td>\n",
       "    </tr>\n",
       "    <tr>\n",
       "      <th>50%</th>\n",
       "      <td>74697.500000</td>\n",
       "      <td>348.015000</td>\n",
       "      <td>1251.000000</td>\n",
       "    </tr>\n",
       "    <tr>\n",
       "      <th>75%</th>\n",
       "      <td>112046.250000</td>\n",
       "      <td>559.552500</td>\n",
       "      <td>1380.000000</td>\n",
       "    </tr>\n",
       "    <tr>\n",
       "      <th>max</th>\n",
       "      <td>149395.000000</td>\n",
       "      <td>1724.830000</td>\n",
       "      <td>1499.000000</td>\n",
       "    </tr>\n",
       "  </tbody>\n",
       "</table>\n",
       "</div>"
      ],
      "text/plain": [
       "          Unnamed: 0        mb_used        user_id\n",
       "count  149396.000000  149396.000000  149396.000000\n",
       "mean    74697.500000     370.192426    1252.099842\n",
       "std     43127.054745     278.300951     144.050823\n",
       "min         0.000000       0.000000    1000.000000\n",
       "25%     37348.750000     138.187500    1130.000000\n",
       "50%     74697.500000     348.015000    1251.000000\n",
       "75%    112046.250000     559.552500    1380.000000\n",
       "max    149395.000000    1724.830000    1499.000000"
      ]
     },
     "execution_count": 6,
     "metadata": {},
     "output_type": "execute_result"
    }
   ],
   "source": [
    "# Обзор датафрейма internet, получаем описательную статистику числовых столбцов\n",
    "internet.describe()"
   ]
  },
  {
   "cell_type": "markdown",
   "metadata": {},
   "source": [
    "В результате чтения из файла появился лишний столец с индексами `Unnamed: 0`. Необходимости удалять его нет, поскольку данные из таблицы в исследовании будут использованы частично. Представлены значения `user_id` от 1000 до 1499."
   ]
  },
  {
   "cell_type": "code",
   "execution_count": 7,
   "metadata": {
    "scrolled": true
   },
   "outputs": [
    {
     "name": "stdout",
     "output_type": "stream",
     "text": [
      "<class 'pandas.core.frame.DataFrame'>\n",
      "RangeIndex: 123036 entries, 0 to 123035\n",
      "Data columns (total 3 columns):\n",
      " #   Column        Non-Null Count   Dtype \n",
      "---  ------        --------------   ----- \n",
      " 0   id            123036 non-null  object\n",
      " 1   message_date  123036 non-null  object\n",
      " 2   user_id       123036 non-null  int64 \n",
      "dtypes: int64(1), object(2)\n",
      "memory usage: 2.8+ MB\n"
     ]
    }
   ],
   "source": [
    "# Обзор датафрейма messages, получаем общую информацию\n",
    "messages = temp_dataframes[2]\n",
    "messages.info()"
   ]
  },
  {
   "cell_type": "markdown",
   "metadata": {},
   "source": [
    "В таблице 123 036 записей о сообщениях пользователей, пропусков в данных нет.\n",
    "\n",
    "Согласно документации к данным:\n",
    "\n",
    "  * `id` — уникальный номер сообщения\n",
    "  * `message_date` — дата сообщения\n",
    "  * `user_id` — идентификатор пользователя, отправившего сообщение\n",
    "\n",
    "Отмечено несоответствие типа данных документации:\n",
    "\n",
    "  * `id`: строка object, по документации номер → не будем менять тип данных, поскольку столбец не имеет значения для исследования\n",
    "  * `message_date`: строка object, по документации дата → `datetime`"
   ]
  },
  {
   "cell_type": "code",
   "execution_count": 8,
   "metadata": {},
   "outputs": [
    {
     "data": {
      "text/html": [
       "<div>\n",
       "<style scoped>\n",
       "    .dataframe tbody tr th:only-of-type {\n",
       "        vertical-align: middle;\n",
       "    }\n",
       "\n",
       "    .dataframe tbody tr th {\n",
       "        vertical-align: top;\n",
       "    }\n",
       "\n",
       "    .dataframe thead th {\n",
       "        text-align: right;\n",
       "    }\n",
       "</style>\n",
       "<table border=\"1\" class=\"dataframe\">\n",
       "  <thead>\n",
       "    <tr style=\"text-align: right;\">\n",
       "      <th></th>\n",
       "      <th>user_id</th>\n",
       "    </tr>\n",
       "  </thead>\n",
       "  <tbody>\n",
       "    <tr>\n",
       "      <th>count</th>\n",
       "      <td>123036.000000</td>\n",
       "    </tr>\n",
       "    <tr>\n",
       "      <th>mean</th>\n",
       "      <td>1256.989410</td>\n",
       "    </tr>\n",
       "    <tr>\n",
       "      <th>std</th>\n",
       "      <td>143.523967</td>\n",
       "    </tr>\n",
       "    <tr>\n",
       "      <th>min</th>\n",
       "      <td>1000.000000</td>\n",
       "    </tr>\n",
       "    <tr>\n",
       "      <th>25%</th>\n",
       "      <td>1134.000000</td>\n",
       "    </tr>\n",
       "    <tr>\n",
       "      <th>50%</th>\n",
       "      <td>1271.000000</td>\n",
       "    </tr>\n",
       "    <tr>\n",
       "      <th>75%</th>\n",
       "      <td>1381.000000</td>\n",
       "    </tr>\n",
       "    <tr>\n",
       "      <th>max</th>\n",
       "      <td>1499.000000</td>\n",
       "    </tr>\n",
       "  </tbody>\n",
       "</table>\n",
       "</div>"
      ],
      "text/plain": [
       "             user_id\n",
       "count  123036.000000\n",
       "mean     1256.989410\n",
       "std       143.523967\n",
       "min      1000.000000\n",
       "25%      1134.000000\n",
       "50%      1271.000000\n",
       "75%      1381.000000\n",
       "max      1499.000000"
      ]
     },
     "execution_count": 8,
     "metadata": {},
     "output_type": "execute_result"
    }
   ],
   "source": [
    "# Обзор датафрейма messages, получаем описательную статистику числовых столбцов\n",
    "messages.describe()"
   ]
  },
  {
   "cell_type": "markdown",
   "metadata": {},
   "source": [
    "Представлены значения `user_id` от 1000 до 1499."
   ]
  },
  {
   "cell_type": "code",
   "execution_count": 9,
   "metadata": {},
   "outputs": [
    {
     "name": "stdout",
     "output_type": "stream",
     "text": [
      "<class 'pandas.core.frame.DataFrame'>\n",
      "RangeIndex: 2 entries, 0 to 1\n",
      "Data columns (total 8 columns):\n",
      " #   Column                 Non-Null Count  Dtype \n",
      "---  ------                 --------------  ----- \n",
      " 0   messages_included      2 non-null      int64 \n",
      " 1   mb_per_month_included  2 non-null      int64 \n",
      " 2   minutes_included       2 non-null      int64 \n",
      " 3   rub_monthly_fee        2 non-null      int64 \n",
      " 4   rub_per_gb             2 non-null      int64 \n",
      " 5   rub_per_message        2 non-null      int64 \n",
      " 6   rub_per_minute         2 non-null      int64 \n",
      " 7   tariff_name            2 non-null      object\n",
      "dtypes: int64(7), object(1)\n",
      "memory usage: 256.0+ bytes\n"
     ]
    }
   ],
   "source": [
    "# Обзор датафрейма tariffs, получаем общую информацию\n",
    "tariffs = temp_dataframes[3]\n",
    "tariffs.info()"
   ]
  },
  {
   "cell_type": "markdown",
   "metadata": {},
   "source": [
    "В таблице 2 записи с характеристиками тарифов «Смарт» и «Ультра».\n",
    "\n",
    "Согласно документации к данным:\n",
    "\n",
    "  * `tariff_name` — название тарифа\n",
    "  * `rub_monthly_fee` — ежемесячная абонентская плата в рублях\n",
    "  * `minutes_included` — количество минут разговора в месяц, включённых в абонентскую плату\n",
    "  * `messages_included` — количество сообщений в месяц, включённых в абонентскую плату\n",
    "  * `mb_per_month_included` — объём интернет-трафика, включённого в абонентскую плату (в мегабайтах)\n",
    "  * `rub_per_minute` — стоимость минуты разговора сверх тарифного пакета (например, если в тарифе 100 минут разговора в месяц, то со 101 минуты будет взиматься плата)\n",
    "  * `rub_per_message` — стоимость отправки сообщения сверх тарифного пакета\n",
    "  * `rub_per_gb` — стоимость дополнительного гигабайта интернет-трафика сверх тарифного пакета (1 гигабайт = 1024 мегабайта)"
   ]
  },
  {
   "cell_type": "code",
   "execution_count": 10,
   "metadata": {},
   "outputs": [
    {
     "name": "stdout",
     "output_type": "stream",
     "text": [
      "<class 'pandas.core.frame.DataFrame'>\n",
      "RangeIndex: 500 entries, 0 to 499\n",
      "Data columns (total 8 columns):\n",
      " #   Column      Non-Null Count  Dtype \n",
      "---  ------      --------------  ----- \n",
      " 0   user_id     500 non-null    int64 \n",
      " 1   age         500 non-null    int64 \n",
      " 2   churn_date  38 non-null     object\n",
      " 3   city        500 non-null    object\n",
      " 4   first_name  500 non-null    object\n",
      " 5   last_name   500 non-null    object\n",
      " 6   reg_date    500 non-null    object\n",
      " 7   tariff      500 non-null    object\n",
      "dtypes: int64(2), object(6)\n",
      "memory usage: 31.4+ KB\n"
     ]
    }
   ],
   "source": [
    "# Обзор датафрейма users, получаем общую информацию\n",
    "users = temp_dataframes[4]\n",
    "users.info()"
   ]
  },
  {
   "cell_type": "markdown",
   "metadata": {},
   "source": [
    "В таблице 500 записей с данными пользователей, пропуски присутствуют в столбце `churn_date`.\n",
    "\n",
    "Согласно документации к данным:\n",
    "\n",
    "  * `user_id` — уникальный идентификатор пользователя\n",
    "  * `first_name` — имя пользователя\n",
    "  * `last_name` — фамилия пользователя\n",
    "  * `age` — возраст пользователя (годы)\n",
    "  * `reg_date` — дата подключения тарифа (день, месяц, год)\n",
    "  * `churn_date` — дата прекращения пользования тарифом (если значение пропущено, то тариф ещё действовал на момент выгрузки данных)\n",
    "  * `city` — город проживания пользователя\n",
    "  * `tariff` — название тарифного плана\n",
    "\n",
    "Отмечено несоответствие типа данных документации:\n",
    "\n",
    "  * `churn_date`: строка object, по документации дата → не будем менять тип данных, поскольку столбец не имеет значения для исследования\n",
    "  * `reg_date`: строка object, по документации дата → не будем менять тип данных, поскольку столбец не имеет значения для исследования\n",
    "\n",
    "Судя по документации, пропуски в столбце `churn_date` ошибкой не являются."
   ]
  },
  {
   "cell_type": "code",
   "execution_count": 11,
   "metadata": {},
   "outputs": [
    {
     "data": {
      "text/html": [
       "<div>\n",
       "<style scoped>\n",
       "    .dataframe tbody tr th:only-of-type {\n",
       "        vertical-align: middle;\n",
       "    }\n",
       "\n",
       "    .dataframe tbody tr th {\n",
       "        vertical-align: top;\n",
       "    }\n",
       "\n",
       "    .dataframe thead th {\n",
       "        text-align: right;\n",
       "    }\n",
       "</style>\n",
       "<table border=\"1\" class=\"dataframe\">\n",
       "  <thead>\n",
       "    <tr style=\"text-align: right;\">\n",
       "      <th></th>\n",
       "      <th>user_id</th>\n",
       "      <th>age</th>\n",
       "    </tr>\n",
       "  </thead>\n",
       "  <tbody>\n",
       "    <tr>\n",
       "      <th>count</th>\n",
       "      <td>500.000000</td>\n",
       "      <td>500.00000</td>\n",
       "    </tr>\n",
       "    <tr>\n",
       "      <th>mean</th>\n",
       "      <td>1249.500000</td>\n",
       "      <td>46.58800</td>\n",
       "    </tr>\n",
       "    <tr>\n",
       "      <th>std</th>\n",
       "      <td>144.481833</td>\n",
       "      <td>16.66763</td>\n",
       "    </tr>\n",
       "    <tr>\n",
       "      <th>min</th>\n",
       "      <td>1000.000000</td>\n",
       "      <td>18.00000</td>\n",
       "    </tr>\n",
       "    <tr>\n",
       "      <th>25%</th>\n",
       "      <td>1124.750000</td>\n",
       "      <td>32.00000</td>\n",
       "    </tr>\n",
       "    <tr>\n",
       "      <th>50%</th>\n",
       "      <td>1249.500000</td>\n",
       "      <td>46.00000</td>\n",
       "    </tr>\n",
       "    <tr>\n",
       "      <th>75%</th>\n",
       "      <td>1374.250000</td>\n",
       "      <td>62.00000</td>\n",
       "    </tr>\n",
       "    <tr>\n",
       "      <th>max</th>\n",
       "      <td>1499.000000</td>\n",
       "      <td>75.00000</td>\n",
       "    </tr>\n",
       "  </tbody>\n",
       "</table>\n",
       "</div>"
      ],
      "text/plain": [
       "           user_id        age\n",
       "count   500.000000  500.00000\n",
       "mean   1249.500000   46.58800\n",
       "std     144.481833   16.66763\n",
       "min    1000.000000   18.00000\n",
       "25%    1124.750000   32.00000\n",
       "50%    1249.500000   46.00000\n",
       "75%    1374.250000   62.00000\n",
       "max    1499.000000   75.00000"
      ]
     },
     "execution_count": 11,
     "metadata": {},
     "output_type": "execute_result"
    }
   ],
   "source": [
    "# Обзор датафрейма users, получаем описательную статистику числовых столбцов\n",
    "users.describe()"
   ]
  },
  {
   "cell_type": "markdown",
   "metadata": {},
   "source": [
    "Представлены значения `user_id` от 1000 до 1499. Аномалий в столбце `age` не обнаружено."
   ]
  },
  {
   "cell_type": "markdown",
   "metadata": {},
   "source": [
    "**Вывод**\n",
    "\n",
    "Как и следовало из сопроводительной информации и документации, в исходных файлах содержатся данные 500 пользователей телеком-оператора, их личные данные, звонки, сообщения и интернет-сессии. Отдельно представлена таблица с параметрами двух тарифов.\n",
    "\n",
    "Столбцы с датой в датафреймах `calls`, `internet`, `messages` приведем к типу datetime. Тип данных столбца `duration` датафрейма `calls` заменим на целочисленный, предварительно округлив в большую сторону.\n",
    "\n",
    "Для решения задачи исследования имеющихся данных недостаточно, потребуется выполнить расчеты и внести данные в таблицу."
   ]
  },
  {
   "cell_type": "markdown",
   "metadata": {},
   "source": [
    "## Предобработка данных\n",
    "Проведем замену типов данных."
   ]
  },
  {
   "cell_type": "markdown",
   "metadata": {},
   "source": [
    "### Замена типа данных\n",
    "Обработаем столбцы `call_date`, `session_date`, `message_date` в датафреймах `calls`, `internet`, `messages`. Изменим название столбцов на `date` и заменим тип данных на дату с помощью функции `pandas.to_datetime`. Обработаем столбец `duration` датафрейма `calls`. Округлим значения в большую сторону и заменим тип данных на целочисленный с помощью функции `pandas.DataFrame.astype`."
   ]
  },
  {
   "cell_type": "code",
   "execution_count": 12,
   "metadata": {},
   "outputs": [],
   "source": [
    "# Переименуем столбцы\n",
    "calls = calls.rename(\n",
    "    columns={'id': 'id',\n",
    "             'call_date': 'date',\n",
    "             'duration': 'duration',\n",
    "             'user_id': 'user_id'}\n",
    ")\n",
    "internet = internet.rename(\n",
    "    columns={'id': 'id',\n",
    "             'mb_used': 'mb_used',\n",
    "             'session_date': 'date',\n",
    "             'user_id': 'user_id'}\n",
    ")\n",
    "messages = messages.rename(\n",
    "    columns={'id': 'id',\n",
    "             'message_date': 'date',\n",
    "             'user_id': 'user_id'}\n",
    ")\n",
    "\n",
    "# Список датафреймов для обработки\n",
    "dataframes = [calls, internet, messages]\n",
    "\n",
    "# Изменим тип данных на datetime\n",
    "for dataframe in dataframes:\n",
    "    dataframe['date'] = pd.to_datetime(\n",
    "        dataframe['date'], format='%Y-%m-%d'\n",
    "    )"
   ]
  },
  {
   "cell_type": "code",
   "execution_count": 13,
   "metadata": {},
   "outputs": [],
   "source": [
    "# Округлим и изменим тип данных в столбце duration\n",
    "calls['duration'] = (\n",
    "    np.ceil(calls['duration']).astype('int64')\n",
    ")"
   ]
  },
  {
   "cell_type": "code",
   "execution_count": 14,
   "metadata": {},
   "outputs": [
    {
     "name": "stdout",
     "output_type": "stream",
     "text": [
      "id                  object\n",
      "date        datetime64[ns]\n",
      "duration             int64\n",
      "user_id              int64\n",
      "dtype: object\n",
      "\n",
      "Unnamed: 0             int64\n",
      "id                    object\n",
      "mb_used              float64\n",
      "date          datetime64[ns]\n",
      "user_id                int64\n",
      "dtype: object\n",
      "\n",
      "id                 object\n",
      "date       datetime64[ns]\n",
      "user_id             int64\n",
      "dtype: object\n",
      "\n"
     ]
    },
    {
     "data": {
      "text/html": [
       "<div>\n",
       "<style scoped>\n",
       "    .dataframe tbody tr th:only-of-type {\n",
       "        vertical-align: middle;\n",
       "    }\n",
       "\n",
       "    .dataframe tbody tr th {\n",
       "        vertical-align: top;\n",
       "    }\n",
       "\n",
       "    .dataframe thead th {\n",
       "        text-align: right;\n",
       "    }\n",
       "</style>\n",
       "<table border=\"1\" class=\"dataframe\">\n",
       "  <thead>\n",
       "    <tr style=\"text-align: right;\">\n",
       "      <th></th>\n",
       "      <th>id</th>\n",
       "      <th>date</th>\n",
       "      <th>duration</th>\n",
       "      <th>user_id</th>\n",
       "    </tr>\n",
       "  </thead>\n",
       "  <tbody>\n",
       "    <tr>\n",
       "      <th>0</th>\n",
       "      <td>1000_0</td>\n",
       "      <td>2018-07-25</td>\n",
       "      <td>0</td>\n",
       "      <td>1000</td>\n",
       "    </tr>\n",
       "    <tr>\n",
       "      <th>1</th>\n",
       "      <td>1000_1</td>\n",
       "      <td>2018-08-17</td>\n",
       "      <td>0</td>\n",
       "      <td>1000</td>\n",
       "    </tr>\n",
       "    <tr>\n",
       "      <th>2</th>\n",
       "      <td>1000_2</td>\n",
       "      <td>2018-06-11</td>\n",
       "      <td>3</td>\n",
       "      <td>1000</td>\n",
       "    </tr>\n",
       "    <tr>\n",
       "      <th>3</th>\n",
       "      <td>1000_3</td>\n",
       "      <td>2018-09-21</td>\n",
       "      <td>14</td>\n",
       "      <td>1000</td>\n",
       "    </tr>\n",
       "    <tr>\n",
       "      <th>4</th>\n",
       "      <td>1000_4</td>\n",
       "      <td>2018-12-15</td>\n",
       "      <td>6</td>\n",
       "      <td>1000</td>\n",
       "    </tr>\n",
       "  </tbody>\n",
       "</table>\n",
       "</div>"
      ],
      "text/plain": [
       "       id       date  duration  user_id\n",
       "0  1000_0 2018-07-25         0     1000\n",
       "1  1000_1 2018-08-17         0     1000\n",
       "2  1000_2 2018-06-11         3     1000\n",
       "3  1000_3 2018-09-21        14     1000\n",
       "4  1000_4 2018-12-15         6     1000"
      ]
     },
     "execution_count": 14,
     "metadata": {},
     "output_type": "execute_result"
    }
   ],
   "source": [
    "# Проверим изменение типа данных\n",
    "for dataframe in dataframes:\n",
    "    print(dataframe.dtypes)\n",
    "    print()\n",
    "\n",
    "calls.head()"
   ]
  },
  {
   "cell_type": "markdown",
   "metadata": {},
   "source": [
    "**Вывод**\n",
    "\n",
    "Для столбцов `call_date`, `session_date`, `message_date` в датафреймах `calls`, `internet`, `messages` тип данных изменен на `datetime`.\n",
    "\n",
    "Для столбца `duration` датафрейма `calls` проведено округление и заменен тип данных на целочисленный."
   ]
  },
  {
   "cell_type": "markdown",
   "metadata": {},
   "source": [
    "## Расчёты и добавление результатов в таблицу\n",
    "Расчитаем данные, которые потребуются для решения задач исследования:\n",
    "\n",
    "  * количество сделанных звонков по месяцам из датафрейма `calls`\n",
    "  * количество израсходованных минут разговора по месяцам из датафрейма `calls`\n",
    "  * количество отправленных сообщений по месяцам из датафрейма `messages`\n",
    "  * объем израсходованного интернет-трафика по месяцам из датафрейма `internet`\n",
    "  * помесячная выручка с каждого пользователя рассчитаем в общем датафрейме\n",
    "  \n",
    "Для расчета данных по месяцам добавим столбец `month`, хранящий информацию о месяце, в котором совершена операция (звонок, сообщение, интернет-сессия) в датафреймы `calls`, `messages`, `internet`. Затем сгруппируем данные по пользователям и месяцам и объединим датафреймы в общий с помощью общих столбцов `user_id` и `month`.\n",
    "\n",
    "Для расчета выручки по месяцам добавим в общий датафрейм информацию о тарифе пользователя из датафрейма `users` по общему столбцу `user_id` и добавим параметры тарифов из датафрейма `tariffs` по столбцам `tariff` и `tariff_name`."
   ]
  },
  {
   "cell_type": "code",
   "execution_count": 15,
   "metadata": {},
   "outputs": [],
   "source": [
    "# Список датафреймов для обработки\n",
    "dataframes = [calls, internet, messages]\n",
    "\n",
    "# Добавляем столбцы month\n",
    "for dataframe in dataframes:\n",
    "    dataframe['month'] = dataframe['date'].dt.month"
   ]
  },
  {
   "cell_type": "markdown",
   "metadata": {},
   "source": [
    "### Количество звонков и минут"
   ]
  },
  {
   "cell_type": "code",
   "execution_count": 16,
   "metadata": {},
   "outputs": [],
   "source": [
    "# Создадим общий датафрейм df\n",
    "# Рассчитаем и добавим количество звонков и минут\n",
    "df = (\n",
    "    calls.groupby(['user_id', 'month'])\n",
    "    .agg({'id': 'count', 'duration': 'sum'})\n",
    "    .reset_index()\n",
    ")"
   ]
  },
  {
   "cell_type": "markdown",
   "metadata": {},
   "source": [
    "### Количество сообщений"
   ]
  },
  {
   "cell_type": "code",
   "execution_count": 17,
   "metadata": {
    "scrolled": false
   },
   "outputs": [],
   "source": [
    "# Рассчитаем количество сообщений\n",
    "# Присоединим данные к общему датафрейму\n",
    "df = df.merge(\n",
    "    messages.groupby(['user_id', 'month'])\n",
    "    .agg({'id': 'count'}),\n",
    "    on=['user_id', 'month'],\n",
    "    how='outer'\n",
    ")"
   ]
  },
  {
   "cell_type": "markdown",
   "metadata": {},
   "source": [
    "### Объем интернет-трафика"
   ]
  },
  {
   "cell_type": "code",
   "execution_count": 18,
   "metadata": {
    "scrolled": false
   },
   "outputs": [],
   "source": [
    "# Рассчитаем интернет-трафика\n",
    "# Присоединим данные к общему датафрейму\n",
    "df = df.merge(\n",
    "    internet\n",
    "    .groupby(['user_id', 'month'])\n",
    "    .agg({'mb_used': 'sum'}),\n",
    "    on=['user_id', 'month'],\n",
    "    how='outer'\n",
    ")"
   ]
  },
  {
   "cell_type": "markdown",
   "metadata": {},
   "source": [
    "### Помесячная выручка"
   ]
  },
  {
   "cell_type": "code",
   "execution_count": 19,
   "metadata": {},
   "outputs": [],
   "source": [
    "# Заменим пропуски в общем датафрейме на нули\n",
    "df.fillna(0, inplace=True)"
   ]
  },
  {
   "cell_type": "code",
   "execution_count": 20,
   "metadata": {},
   "outputs": [],
   "source": [
    "# Расширим общий датафрейм информацией о пользователях\n",
    "df = df.merge(users[['user_id', 'city', 'tariff']], on='user_id', how='left')"
   ]
  },
  {
   "cell_type": "code",
   "execution_count": 21,
   "metadata": {
    "scrolled": false
   },
   "outputs": [],
   "source": [
    "# Переименуем столбцы датафрейма df\n",
    "df = df.rename(\n",
    "    columns={'id_x': 'calls',\n",
    "             'duration': 'total_duration',\n",
    "             'id_y': 'messages'}\n",
    ")"
   ]
  },
  {
   "cell_type": "code",
   "execution_count": 22,
   "metadata": {},
   "outputs": [],
   "source": [
    "# Расширим общий датафрейм параметрами тарифа\n",
    "df = df.merge(tariffs, left_on='tariff', right_on='tariff_name', how='left')"
   ]
  },
  {
   "cell_type": "markdown",
   "metadata": {},
   "source": [
    "Для расчета помесячной выручки с каждого пользователя вычтем бесплатные лимиты из суммарного времени звонков, количества сообщений и интернет-трафика. Остаток умножим на значения из тарифного плана и прибавим абонентскую плату по тарифу.\n",
    "\n",
    "Если израсходовано меньше минут (сообщений, интернет-трафика), чем было в пакете, подставим в формулу расчета доплаты ноль.\n",
    "\n",
    "По условиям тарифов, общая сумма Мб интернет-трафика за месяц округляется до Гб в большую сторону. Для расчета расходования пакета Гб по тарифу, разделим количество использованных Мб интернет-трафика на 1024 и округлим вверх до целого числа."
   ]
  },
  {
   "cell_type": "code",
   "execution_count": 23,
   "metadata": {
    "scrolled": false
   },
   "outputs": [],
   "source": [
    "# Добавим столбец с помесячной выручкой с каждого пользователя\n",
    "df['earnings'] = (\n",
    "    np.maximum((df['total_duration'] - df['minutes_included']), 0)\n",
    "    * df['rub_per_minute']\n",
    "    + np.maximum((df['messages'] - df['messages_included']), 0)\n",
    "    * df['rub_per_message']\n",
    "    + (np.maximum((df['mb_used'] - df['mb_per_month_included']), 0)\n",
    "    / 1024).apply(np.ceil) * df['rub_per_gb']\n",
    "    + df['rub_monthly_fee']\n",
    ")"
   ]
  },
  {
   "cell_type": "code",
   "execution_count": 24,
   "metadata": {},
   "outputs": [
    {
     "data": {
      "text/html": [
       "<div>\n",
       "<style scoped>\n",
       "    .dataframe tbody tr th:only-of-type {\n",
       "        vertical-align: middle;\n",
       "    }\n",
       "\n",
       "    .dataframe tbody tr th {\n",
       "        vertical-align: top;\n",
       "    }\n",
       "\n",
       "    .dataframe thead th {\n",
       "        text-align: right;\n",
       "    }\n",
       "</style>\n",
       "<table border=\"1\" class=\"dataframe\">\n",
       "  <thead>\n",
       "    <tr style=\"text-align: right;\">\n",
       "      <th></th>\n",
       "      <th>user_id</th>\n",
       "      <th>month</th>\n",
       "      <th>calls</th>\n",
       "      <th>total_duration</th>\n",
       "      <th>messages</th>\n",
       "      <th>mb_used</th>\n",
       "      <th>city</th>\n",
       "      <th>tariff</th>\n",
       "      <th>messages_included</th>\n",
       "      <th>mb_per_month_included</th>\n",
       "      <th>minutes_included</th>\n",
       "      <th>rub_monthly_fee</th>\n",
       "      <th>rub_per_gb</th>\n",
       "      <th>rub_per_message</th>\n",
       "      <th>rub_per_minute</th>\n",
       "      <th>tariff_name</th>\n",
       "      <th>earnings</th>\n",
       "    </tr>\n",
       "  </thead>\n",
       "  <tbody>\n",
       "    <tr>\n",
       "      <th>1027</th>\n",
       "      <td>1165</td>\n",
       "      <td>11</td>\n",
       "      <td>34.0</td>\n",
       "      <td>232.0</td>\n",
       "      <td>197.0</td>\n",
       "      <td>42144.47</td>\n",
       "      <td>Самара</td>\n",
       "      <td>ultra</td>\n",
       "      <td>1000</td>\n",
       "      <td>30720</td>\n",
       "      <td>3000</td>\n",
       "      <td>1950</td>\n",
       "      <td>150</td>\n",
       "      <td>1</td>\n",
       "      <td>1</td>\n",
       "      <td>ultra</td>\n",
       "      <td>3750.0</td>\n",
       "    </tr>\n",
       "    <tr>\n",
       "      <th>517</th>\n",
       "      <td>1082</td>\n",
       "      <td>10</td>\n",
       "      <td>32.0</td>\n",
       "      <td>303.0</td>\n",
       "      <td>73.0</td>\n",
       "      <td>10968.32</td>\n",
       "      <td>Москва</td>\n",
       "      <td>smart</td>\n",
       "      <td>50</td>\n",
       "      <td>15360</td>\n",
       "      <td>500</td>\n",
       "      <td>550</td>\n",
       "      <td>200</td>\n",
       "      <td>3</td>\n",
       "      <td>3</td>\n",
       "      <td>smart</td>\n",
       "      <td>619.0</td>\n",
       "    </tr>\n",
       "    <tr>\n",
       "      <th>778</th>\n",
       "      <td>1123</td>\n",
       "      <td>10</td>\n",
       "      <td>89.0</td>\n",
       "      <td>591.0</td>\n",
       "      <td>17.0</td>\n",
       "      <td>18245.45</td>\n",
       "      <td>Краснодар</td>\n",
       "      <td>smart</td>\n",
       "      <td>50</td>\n",
       "      <td>15360</td>\n",
       "      <td>500</td>\n",
       "      <td>550</td>\n",
       "      <td>200</td>\n",
       "      <td>3</td>\n",
       "      <td>3</td>\n",
       "      <td>smart</td>\n",
       "      <td>1423.0</td>\n",
       "    </tr>\n",
       "    <tr>\n",
       "      <th>1830</th>\n",
       "      <td>1292</td>\n",
       "      <td>7</td>\n",
       "      <td>29.0</td>\n",
       "      <td>206.0</td>\n",
       "      <td>0.0</td>\n",
       "      <td>39969.13</td>\n",
       "      <td>Красноярск</td>\n",
       "      <td>ultra</td>\n",
       "      <td>1000</td>\n",
       "      <td>30720</td>\n",
       "      <td>3000</td>\n",
       "      <td>1950</td>\n",
       "      <td>150</td>\n",
       "      <td>1</td>\n",
       "      <td>1</td>\n",
       "      <td>ultra</td>\n",
       "      <td>3450.0</td>\n",
       "    </tr>\n",
       "    <tr>\n",
       "      <th>1550</th>\n",
       "      <td>1248</td>\n",
       "      <td>10</td>\n",
       "      <td>113.0</td>\n",
       "      <td>727.0</td>\n",
       "      <td>0.0</td>\n",
       "      <td>21007.90</td>\n",
       "      <td>Москва</td>\n",
       "      <td>smart</td>\n",
       "      <td>50</td>\n",
       "      <td>15360</td>\n",
       "      <td>500</td>\n",
       "      <td>550</td>\n",
       "      <td>200</td>\n",
       "      <td>3</td>\n",
       "      <td>3</td>\n",
       "      <td>smart</td>\n",
       "      <td>2431.0</td>\n",
       "    </tr>\n",
       "  </tbody>\n",
       "</table>\n",
       "</div>"
      ],
      "text/plain": [
       "      user_id  month  calls  total_duration  messages   mb_used        city  \\\n",
       "1027     1165     11   34.0           232.0     197.0  42144.47      Самара   \n",
       "517      1082     10   32.0           303.0      73.0  10968.32      Москва   \n",
       "778      1123     10   89.0           591.0      17.0  18245.45   Краснодар   \n",
       "1830     1292      7   29.0           206.0       0.0  39969.13  Красноярск   \n",
       "1550     1248     10  113.0           727.0       0.0  21007.90      Москва   \n",
       "\n",
       "     tariff  messages_included  mb_per_month_included  minutes_included  \\\n",
       "1027  ultra               1000                  30720              3000   \n",
       "517   smart                 50                  15360               500   \n",
       "778   smart                 50                  15360               500   \n",
       "1830  ultra               1000                  30720              3000   \n",
       "1550  smart                 50                  15360               500   \n",
       "\n",
       "      rub_monthly_fee  rub_per_gb  rub_per_message  rub_per_minute  \\\n",
       "1027             1950         150                1               1   \n",
       "517               550         200                3               3   \n",
       "778               550         200                3               3   \n",
       "1830             1950         150                1               1   \n",
       "1550              550         200                3               3   \n",
       "\n",
       "     tariff_name  earnings  \n",
       "1027       ultra    3750.0  \n",
       "517        smart     619.0  \n",
       "778        smart    1423.0  \n",
       "1830       ultra    3450.0  \n",
       "1550       smart    2431.0  "
      ]
     },
     "execution_count": 24,
     "metadata": {},
     "output_type": "execute_result"
    }
   ],
   "source": [
    "# Проверим получившуюся таблицу, выведем 5 случайных строк\n",
    "df.sample(5)"
   ]
  },
  {
   "cell_type": "markdown",
   "metadata": {},
   "source": [
    "**Вывод**\n",
    "\n",
    "Для проведения статистического анализа данных собран датафрейм со всеми активными за период пользователями. Для каждого пользователя есть помесячные данные о количество сделанных звонков, израсходованных минут, отправленных сообщений, израсходованного интернет-трафика. Рассчитана помесячная выручка с каждого пользователя."
   ]
  },
  {
   "cell_type": "markdown",
   "metadata": {},
   "source": [
    "## Статистический анализ"
   ]
  },
  {
   "cell_type": "markdown",
   "metadata": {},
   "source": [
    "### Анализ поведения клиентов\n",
    "Исходя из выборки в 500 пользователей, опишем поведение клиентов телеком-оператора."
   ]
  },
  {
   "cell_type": "markdown",
   "metadata": {},
   "source": [
    "#### Сколько минут разговора требуется пользователям каждого тарифа в месяц?"
   ]
  },
  {
   "cell_type": "code",
   "execution_count": 25,
   "metadata": {},
   "outputs": [
    {
     "data": {
      "text/html": [
       "<div>\n",
       "<style scoped>\n",
       "    .dataframe tbody tr th:only-of-type {\n",
       "        vertical-align: middle;\n",
       "    }\n",
       "\n",
       "    .dataframe tbody tr th {\n",
       "        vertical-align: top;\n",
       "    }\n",
       "\n",
       "    .dataframe thead tr th {\n",
       "        text-align: left;\n",
       "    }\n",
       "\n",
       "    .dataframe thead tr:last-of-type th {\n",
       "        text-align: right;\n",
       "    }\n",
       "</style>\n",
       "<table border=\"1\" class=\"dataframe\">\n",
       "  <thead>\n",
       "    <tr>\n",
       "      <th></th>\n",
       "      <th colspan=\"3\" halign=\"left\">total_duration</th>\n",
       "    </tr>\n",
       "    <tr>\n",
       "      <th></th>\n",
       "      <th>mean</th>\n",
       "      <th>var</th>\n",
       "      <th>std</th>\n",
       "    </tr>\n",
       "    <tr>\n",
       "      <th>tariff</th>\n",
       "      <th></th>\n",
       "      <th></th>\n",
       "      <th></th>\n",
       "    </tr>\n",
       "  </thead>\n",
       "  <tbody>\n",
       "    <tr>\n",
       "      <th>smart</th>\n",
       "      <td>418.0</td>\n",
       "      <td>36219.0</td>\n",
       "      <td>190.0</td>\n",
       "    </tr>\n",
       "    <tr>\n",
       "      <th>ultra</th>\n",
       "      <td>527.0</td>\n",
       "      <td>100874.0</td>\n",
       "      <td>318.0</td>\n",
       "    </tr>\n",
       "  </tbody>\n",
       "</table>\n",
       "</div>"
      ],
      "text/plain": [
       "       total_duration                 \n",
       "                 mean       var    std\n",
       "tariff                                \n",
       "smart           418.0   36219.0  190.0\n",
       "ultra           527.0  100874.0  318.0"
      ]
     },
     "execution_count": 25,
     "metadata": {},
     "output_type": "execute_result"
    }
   ],
   "source": [
    "# Рассчитаем среднее, дисперсию и стандартное отклонение\n",
    "(\n",
    "    df.groupby('tariff')\n",
    "    .agg({'total_duration': ['mean', 'var', 'std']})\n",
    "    .round()\n",
    ")"
   ]
  },
  {
   "cell_type": "code",
   "execution_count": 26,
   "metadata": {},
   "outputs": [
    {
     "data": {
      "image/png": "[encoded data removed]",
      "text/plain": [
       "<Figure size 576x432 with 1 Axes>"
      ]
     },
     "metadata": {
      "needs_background": "light"
     },
     "output_type": "display_data"
    }
   ],
   "source": [
    "# Построим гистограмму\n",
    "(\n",
    "    df.query('tariff == \"smart\"')['total_duration']\n",
    "    .hist(bins=50, alpha=0.75, figsize=(8, 6))\n",
    ")\n",
    "(\n",
    "    df.query('tariff == \"ultra\"')['total_duration']\n",
    "    .hist(bins=50, alpha=0.75, figsize=(8, 6))\n",
    ")\n",
    "plt.title('Минуты разговора в месяц по тарифам')\n",
    "plt.xlabel('минуты')\n",
    "plt.ylabel('количество значений')\n",
    "plt.legend(['Тариф «Смарт»', 'Тариф «Ультра»'])\n",
    "plt.show()"
   ]
  },
  {
   "cell_type": "code",
   "execution_count": 27,
   "metadata": {
    "scrolled": true
   },
   "outputs": [
    {
     "name": "stdout",
     "output_type": "stream",
     "text": [
      "Тариф «Смарт»: 988\n",
      "Тариф «Ультра»: 1481\n"
     ]
    }
   ],
   "source": [
    "# Посчитаем предельные значения по правилу трех сигм\n",
    "print('Тариф «Смарт»:', 418 + 3 * 190)\n",
    "print('Тариф «Ультра»:', 527 + 3 * 318)"
   ]
  },
  {
   "cell_type": "markdown",
   "metadata": {},
   "source": [
    "Гистограммма тяготеет к нормальному распределению. Особенно это заметно для тарифа «Смарт», им пользуется большинство клиентов. Для тарифа «Ультра» наблюдается большее количество пропущенных звонков (с нулевой продолжительностью, в левой части гистограммы). Также для этого тарифа заметен более длинный \"хвост\" значений, среднее значение и стандартное отклонение больше.\n",
    "\n",
    "Пользователям тарифа «Смарт» в среднем требуется 418 минут разговора в месяц. 99% значений укладываются в 988 минут. При этом в тариф включено 500 минут. По гистограмме видно, что клиентам на этом тарифном плане часто приходится доплачивать за превышение пакета минут.\n",
    "\n",
    "Пользователям тарифа «Ультра» в среднем требуется 527 минут разговора в месяц. 99% значений укладываются в 1481 минуту. 3000 минут в тарифе достаточно для всех клиентов."
   ]
  },
  {
   "cell_type": "markdown",
   "metadata": {},
   "source": [
    "#### Сколько сообщений требуется пользователям каждого тарифа в месяц?"
   ]
  },
  {
   "cell_type": "code",
   "execution_count": 28,
   "metadata": {
    "scrolled": false
   },
   "outputs": [
    {
     "data": {
      "text/html": [
       "<div>\n",
       "<style scoped>\n",
       "    .dataframe tbody tr th:only-of-type {\n",
       "        vertical-align: middle;\n",
       "    }\n",
       "\n",
       "    .dataframe tbody tr th {\n",
       "        vertical-align: top;\n",
       "    }\n",
       "\n",
       "    .dataframe thead tr th {\n",
       "        text-align: left;\n",
       "    }\n",
       "\n",
       "    .dataframe thead tr:last-of-type th {\n",
       "        text-align: right;\n",
       "    }\n",
       "</style>\n",
       "<table border=\"1\" class=\"dataframe\">\n",
       "  <thead>\n",
       "    <tr>\n",
       "      <th></th>\n",
       "      <th colspan=\"3\" halign=\"left\">messages</th>\n",
       "    </tr>\n",
       "    <tr>\n",
       "      <th></th>\n",
       "      <th>mean</th>\n",
       "      <th>var</th>\n",
       "      <th>std</th>\n",
       "    </tr>\n",
       "    <tr>\n",
       "      <th>tariff</th>\n",
       "      <th></th>\n",
       "      <th></th>\n",
       "      <th></th>\n",
       "    </tr>\n",
       "  </thead>\n",
       "  <tbody>\n",
       "    <tr>\n",
       "      <th>smart</th>\n",
       "      <td>33.0</td>\n",
       "      <td>797.0</td>\n",
       "      <td>28.0</td>\n",
       "    </tr>\n",
       "    <tr>\n",
       "      <th>ultra</th>\n",
       "      <td>49.0</td>\n",
       "      <td>2285.0</td>\n",
       "      <td>48.0</td>\n",
       "    </tr>\n",
       "  </tbody>\n",
       "</table>\n",
       "</div>"
      ],
      "text/plain": [
       "       messages              \n",
       "           mean     var   std\n",
       "tariff                       \n",
       "smart      33.0   797.0  28.0\n",
       "ultra      49.0  2285.0  48.0"
      ]
     },
     "execution_count": 28,
     "metadata": {},
     "output_type": "execute_result"
    }
   ],
   "source": [
    "# Рассчитаем среднее, дисперсию и стандартное отклонение\n",
    "(\n",
    "    df.groupby('tariff')\n",
    "    .agg({'messages': ['mean', 'var', 'std']})\n",
    "    .round()\n",
    ")"
   ]
  },
  {
   "cell_type": "code",
   "execution_count": 29,
   "metadata": {
    "scrolled": false
   },
   "outputs": [
    {
     "data": {
      "image/png": "[encoded data removed]",
      "text/plain": [
       "<Figure size 576x432 with 1 Axes>"
      ]
     },
     "metadata": {
      "needs_background": "light"
     },
     "output_type": "display_data"
    }
   ],
   "source": [
    "# Построим гистограмму\n",
    "(\n",
    "    df.query('tariff == \"smart\"')['messages']\n",
    "    .hist(bins=25, alpha=0.75, figsize=(8, 6))\n",
    ")\n",
    "(\n",
    "    df.query('tariff == \"ultra\"')['messages']\n",
    "    .hist(bins=25, alpha=0.75, figsize=(8, 6))\n",
    ")\n",
    "plt.title('Сообщения в месяц по тарифам')\n",
    "plt.xlabel('сообщения')\n",
    "plt.ylabel('количество значений')\n",
    "plt.legend(['Тариф «Смарт»', 'Тариф «Ультра»'])\n",
    "plt.show()"
   ]
  },
  {
   "cell_type": "code",
   "execution_count": 30,
   "metadata": {},
   "outputs": [
    {
     "name": "stdout",
     "output_type": "stream",
     "text": [
      "Тариф «Смарт»: 117\n",
      "Тариф «Ультра»: 193\n"
     ]
    }
   ],
   "source": [
    "# Посчитаем предельные значения по правилу трех сигм\n",
    "print('Тариф «Смарт»:', 33 + 3 * 28)\n",
    "print('Тариф «Ультра»:', 49 + 3 * 48)"
   ]
  },
  {
   "cell_type": "markdown",
   "metadata": {},
   "source": [
    "Гистограмма напоминает распределение Пуассона. Для обоих тарифов характерно, что многие клиенты вообще не пользовались сообщениями.\n",
    "\n",
    "Пользователям тарифа «Смарт» в среднем требуется 33 сообщения в месяц. 99% значений укладываются в 117 сообщений. При этом в тариф включено 50 сообщений. По гистограмме видно, что клиентам на этом тарифном плане часто приходится доплачивать за превышение пакета сообщений.\n",
    "\n",
    "Пользователям тарифа «Ультра» в среднем требуется 49 сообщений в месяц. 99% значений укладываются в 193 сообщения. 1000 сообщений в тарифе с большим запасом хватит для всех клиентов."
   ]
  },
  {
   "cell_type": "markdown",
   "metadata": {},
   "source": [
    "#### Какой объём интернет-трафика требуется пользователям каждого тарифа в месяц?"
   ]
  },
  {
   "cell_type": "code",
   "execution_count": 31,
   "metadata": {
    "scrolled": true
   },
   "outputs": [
    {
     "data": {
      "text/html": [
       "<div>\n",
       "<style scoped>\n",
       "    .dataframe tbody tr th:only-of-type {\n",
       "        vertical-align: middle;\n",
       "    }\n",
       "\n",
       "    .dataframe tbody tr th {\n",
       "        vertical-align: top;\n",
       "    }\n",
       "\n",
       "    .dataframe thead tr th {\n",
       "        text-align: left;\n",
       "    }\n",
       "\n",
       "    .dataframe thead tr:last-of-type th {\n",
       "        text-align: right;\n",
       "    }\n",
       "</style>\n",
       "<table border=\"1\" class=\"dataframe\">\n",
       "  <thead>\n",
       "    <tr>\n",
       "      <th></th>\n",
       "      <th colspan=\"3\" halign=\"left\">mb_used</th>\n",
       "    </tr>\n",
       "    <tr>\n",
       "      <th></th>\n",
       "      <th>mean</th>\n",
       "      <th>var</th>\n",
       "      <th>std</th>\n",
       "    </tr>\n",
       "    <tr>\n",
       "      <th>tariff</th>\n",
       "      <th></th>\n",
       "      <th></th>\n",
       "      <th></th>\n",
       "    </tr>\n",
       "  </thead>\n",
       "  <tbody>\n",
       "    <tr>\n",
       "      <th>smart</th>\n",
       "      <td>16208.0</td>\n",
       "      <td>34462496.0</td>\n",
       "      <td>5870.0</td>\n",
       "    </tr>\n",
       "    <tr>\n",
       "      <th>ultra</th>\n",
       "      <td>19469.0</td>\n",
       "      <td>101751014.0</td>\n",
       "      <td>10087.0</td>\n",
       "    </tr>\n",
       "  </tbody>\n",
       "</table>\n",
       "</div>"
      ],
      "text/plain": [
       "        mb_used                      \n",
       "           mean          var      std\n",
       "tariff                               \n",
       "smart   16208.0   34462496.0   5870.0\n",
       "ultra   19469.0  101751014.0  10087.0"
      ]
     },
     "execution_count": 31,
     "metadata": {},
     "output_type": "execute_result"
    }
   ],
   "source": [
    "(\n",
    "    df.groupby('tariff')\n",
    "    .agg({'mb_used': ['mean', 'var', 'std']})\n",
    "    .round()\n",
    ")"
   ]
  },
  {
   "cell_type": "code",
   "execution_count": 32,
   "metadata": {},
   "outputs": [
    {
     "data": {
      "image/png": "[encoded data removed]",
      "text/plain": [
       "<Figure size 576x432 with 1 Axes>"
      ]
     },
     "metadata": {
      "needs_background": "light"
     },
     "output_type": "display_data"
    }
   ],
   "source": [
    "# Построим гистограмму\n",
    "(\n",
    "    df.query('tariff == \"smart\"')['mb_used']\n",
    "    .hist(bins=50, alpha=0.75, figsize=(8, 6))\n",
    ")\n",
    "(\n",
    "    df.query('tariff == \"ultra\"')['mb_used']\n",
    "    .hist(bins=50, alpha=0.75, figsize=(8, 6))\n",
    ")\n",
    "plt.title('Интернет-трафик в месяц по тарифам')\n",
    "plt.xlabel('интернет-трафик, Мб')\n",
    "plt.ylabel('количество значений')\n",
    "plt.legend(['Тариф «Смарт»', 'Тариф «Ультра»'])\n",
    "plt.show()"
   ]
  },
  {
   "cell_type": "code",
   "execution_count": 33,
   "metadata": {},
   "outputs": [
    {
     "name": "stdout",
     "output_type": "stream",
     "text": [
      "Тариф «Смарт»: 33\n",
      "Тариф «Ультра»: 49\n"
     ]
    }
   ],
   "source": [
    "# Посчитаем предельные значения по правилу трех сигм\n",
    "print(f'Тариф «Смарт»: '\n",
    "      f'{round((16208 + 3 * 5870) / 1024)}')\n",
    "print(f'Тариф «Ультра»: '\n",
    "      f'{round((19469 + 3 * 10087) / 1024)}')"
   ]
  },
  {
   "cell_type": "markdown",
   "metadata": {},
   "source": [
    "Гистограммма тяготеет к нормальному распределению. Особенно это заметно для тарифа «Смарт», им пользуется большинство клиентов. Для тарифа «Ультра» заметен более длинный \"хвост\" значений, среднее значение и стандартное отклонение больше.\n",
    "\n",
    "Пользователям тарифа «Смарт» в среднем требуется около 16 Гб интернет-трафика в месяц. 99% значений укладываются в 33 Гб. При этом в тариф включено всего 15 Гб. Половине клиентов на этом тарифном плане приходится доплачивать за превышение пакета интернет-трафика.\n",
    "\n",
    "Пользователям тарифа «Ультра» в среднем требуется около 19 Гб интернет-трафика в месяц. 99% значений укладываются в 49 Гб. В тариф включено 30 Гб, чего не хватает значительному числу пользователей, что видно на гистограмме."
   ]
  },
  {
   "cell_type": "markdown",
   "metadata": {},
   "source": [
    "### Проверка гипотез"
   ]
  },
  {
   "cell_type": "markdown",
   "metadata": {},
   "source": [
    "#### Средняя выручка пользователей тарифов «Смарт» и «Ультра» и  различаются"
   ]
  },
  {
   "cell_type": "markdown",
   "metadata": {},
   "source": [
    "Сформулируем нулевую гипотезу: *Средняя выручка пользователей тарифов «Смарт» и «Ультра» равны*.\n",
    "\n",
    "Сформулируем альтернативную гипотезу: *Средняя выручка пользователей тарифов «Смарт» и «Ультра» различаются*.\n",
    "\n",
    "Определим критический уровень статистической значимости `alpha` в 0,1%. Чтобы принять или отвергнуть гипотезу, проведем статистический тест."
   ]
  },
  {
   "cell_type": "code",
   "execution_count": 34,
   "metadata": {},
   "outputs": [
    {
     "name": "stdout",
     "output_type": "stream",
     "text": [
      "p-значение 1.4229814360764067e-160\n",
      "Отвергаем нулевую гипотезу\n"
     ]
    }
   ],
   "source": [
    "# Помесячная выручка от пользователей тарифа Смарт\n",
    "tariff_smart_earnings = (\n",
    "    df.query('tariff == \"smart\"')['earnings']\n",
    ")\n",
    "\n",
    "# Помесячная выручка от пользователей тарифа Ультра\n",
    "tariff_ultra_earnings = (\n",
    "    df.query('tariff == \"ultra\"')['earnings']\n",
    ")\n",
    "\n",
    "# Уровень статистической значимости\n",
    "alpha = 0.001\n",
    "\n",
    "# Статистический тест\n",
    "results = st.ttest_ind(\n",
    "    tariff_smart_earnings, tariff_ultra_earnings, equal_var=True\n",
    ")\n",
    "\n",
    "# Интерпретация результата\n",
    "print('p-значение', results.pvalue)\n",
    "\n",
    "if results.pvalue < alpha:\n",
    "    print('Отвергаем нулевую гипотезу')\n",
    "else:\n",
    "    print('Не получилось отвергнуть нулевую гипотезу')"
   ]
  },
  {
   "cell_type": "markdown",
   "metadata": {},
   "source": [
    "Принимаем альтернативную гипотезу. Средняя выручка пользователей тарифов «Смарт» и «Ультра» различаются. Полученное p-значение ничтожно мало, вероятность получить такую разницу в выручке случайно почти нулевая. Статистический тест не отвечает на вопрос, в какую сторону отличается выручка. Посчитаем средние значения."
   ]
  },
  {
   "cell_type": "code",
   "execution_count": 35,
   "metadata": {},
   "outputs": [
    {
     "name": "stdout",
     "output_type": "stream",
     "text": [
      "Средняя выручка от пользователей тарифа Смарт 1289.97 руб./мес.\n",
      "Средняя выручка от пользователей тарифа Ультра 2070.15 руб./мес.\n"
     ]
    }
   ],
   "source": [
    "# Получим средние значения выручки от пользователей тарифов\n",
    "print(f'Средняя выручка от пользователей тарифа Смарт '\n",
    "      f'{round(tariff_smart_earnings.mean(), 2)} руб./мес.')\n",
    "print(f'Средняя выручка от пользователей тарифа Ультра '\n",
    "      f'{round(tariff_ultra_earnings.mean(), 2)} руб./мес.')"
   ]
  },
  {
   "cell_type": "markdown",
   "metadata": {},
   "source": [
    "Средняя выручка от пользователей тарифа «Смарт» меньше средней выручки от пользователей тарифа «Ультра»."
   ]
  },
  {
   "cell_type": "markdown",
   "metadata": {},
   "source": [
    "#### Средняя выручка пользователей из Москвы отличается от выручки пользователей из других регионов"
   ]
  },
  {
   "cell_type": "markdown",
   "metadata": {},
   "source": [
    "Сформулируем нулевую гипотезу: *Средняя выручка пользователей из Москвы равна выручке от пользователей из других регионов*.\n",
    "\n",
    "Сформулируем альтернативную гипотезу: *Средняя выручка пользователей из Москвы отличается от выручки пользователей из других регионов*.\n",
    "\n",
    "Определим критический уровень статистической значимости `alpha` в 0,1%. Чтобы принять или отвергнуть гипотезу, проведем статистический тест."
   ]
  },
  {
   "cell_type": "code",
   "execution_count": 36,
   "metadata": {},
   "outputs": [
    {
     "name": "stdout",
     "output_type": "stream",
     "text": [
      "p-значение 0.5440152911670224\n",
      "Не получилось отвергнуть нулевую гипотезу\n"
     ]
    }
   ],
   "source": [
    "# Помесячная выручка от пользователей из Москвы\n",
    "moscow_users_earnings = (\n",
    "    df.query('city == \"Москва\"')['earnings']\n",
    ")\n",
    "\n",
    "# Помесячная выручка от пользователей из других регионов\n",
    "regions_users_earnings = (\n",
    "    df.query('city != \"Москва\"')['earnings']\n",
    ")\n",
    "\n",
    "# Уровень статистической значимости\n",
    "alpha = 0.001\n",
    "\n",
    "# Статистический тест\n",
    "results = st.ttest_ind(\n",
    "    moscow_users_earnings, regions_users_earnings, equal_var=True\n",
    ")\n",
    "\n",
    "# Интерпретация результата\n",
    "print('p-значение', results.pvalue)\n",
    "\n",
    "if results.pvalue < alpha:\n",
    "    print('Отвергаем нулевую гипотезу')\n",
    "else:\n",
    "    print('Не получилось отвергнуть нулевую гипотезу')"
   ]
  },
  {
   "cell_type": "markdown",
   "metadata": {},
   "source": [
    "Принимаем нулевую гипотезу. Средняя выручка пользователей из Москвы равна выручке от пользователей из других регионов. Полученное p-значение более 54%, вероятность получить разницу в выручке случайно очень высокая. Проверим, что средние значения выручки близки."
   ]
  },
  {
   "cell_type": "code",
   "execution_count": 37,
   "metadata": {},
   "outputs": [
    {
     "name": "stdout",
     "output_type": "stream",
     "text": [
      "Средняя выручка от пользователей из Москвы 1546.71 руб./мес.\n",
      "Средняя выручка от пользователей из других регионов 1524.94 руб./мес.\n"
     ]
    }
   ],
   "source": [
    "# Получим средние значения выручки\n",
    "# от пользователей из Москвы и других регионов\n",
    "print(f'Средняя выручка от пользователей из Москвы '\n",
    "      f'{round(moscow_users_earnings.mean(), 2)} руб./мес.')\n",
    "print(f'Средняя выручка от пользователей из других регионов '\n",
    "      f'{round(regions_users_earnings.mean(), 2)} руб./мес.')"
   ]
  },
  {
   "cell_type": "markdown",
   "metadata": {},
   "source": [
    "Средняя выручка пользователей из Москвы примерно равна выручке от пользователей из других регионов."
   ]
  },
  {
   "cell_type": "markdown",
   "metadata": {},
   "source": [
    "**Вывод**\n",
    "\n",
    "В среднем пользователям тарифа «Смарт» в месяц требуется:\n",
    "  * 418 минут разговора;\n",
    "  * 33 сообщения;\n",
    "  * около 16 Гб интернет-трафика.\n",
    "\n",
    "Пользователям тарифа «Смарт» часто приходится доплачивать за превышение пакетов минут, сообщений и интернет-трафика.\n",
    "\n",
    "В среднем пользователям тарифа «Ультра» в месяц требуется:\n",
    "  * 527 минут разговора;\n",
    "  * 49 сообщений;\n",
    "  * около 19 Гб интернет-трафика.\n",
    "\n",
    "Пользователям тарифа «Ультра» с запасом хватает пакетов минут и сообщений, но часто приходится доплачивать за превышение пакета интернет-трафика.\n",
    "\n",
    "**Средняя выручка от пользователей тарифа «Смарт» меньше средней выручки от пользователей тарифа «Ультра»**. Несмотря на то, что пользователи этого тарифа чаще платят за превышение пакетов минут, сообщений и интернет-трафика, в выборе средний размер выручки от пользователей тарифа «Ультра» выше на 60%.\n",
    "\n",
    "**Средняя выручка пользователей из Москвы примерно равна выручке от пользователей из других регионов**. Вероятно, это происходит из-за единых тарифов для всех регионов и похожих паттернов поведения пользователей."
   ]
  },
  {
   "cell_type": "markdown",
   "metadata": {},
   "source": [
    "## Общий вывод"
   ]
  },
  {
   "cell_type": "markdown",
   "metadata": {},
   "source": [
    "По результатам исследования на выборке из 500 пользователей федерального оператора сотовой связи можно заключить, что **наиболее  перспективным тарифным планом для компании является «Ультра»**.\n",
    "\n",
    "Пользователи на тарифном плане «Ультра» расходуют немного больше минут, сообщений и интернет-трафика, чем пользователи на тарифном плане «Смарт», но приносят на 60% больше дохода. Пакеты минут и сообщений в разы больше, чем требуется средним пользователям. Кроме того, часть пользователей регулярно доплачивает за превышение пакета интернет-трафика.\n",
    "\n",
    "Пользователей тарифного плана «Смарт» можно мотивировать перейти на «Ультра» предложив большие пакеты минут и сообщений, исключающие необходимость доплачивать за превышение. Вместе с тем, возможно, стоит увеличить пакет интернет-трафика на тарифном плане «Ультра», чтобы предложение было более выгодным для клиентов компании."
   ]
  }
 ],
 "metadata": {
  "ExecuteTimeLog": [
   {
    "duration": 584,
    "start_time": "2021-12-15T15:58:03.677Z"
   },
   {
    "duration": 2,
    "start_time": "2021-12-15T15:58:18.476Z"
   },
   {
    "duration": 437,
    "start_time": "2021-12-15T16:03:53.734Z"
   },
   {
    "duration": 374,
    "start_time": "2021-12-15T16:04:20.064Z"
   },
   {
    "duration": 281,
    "start_time": "2021-12-15T16:04:36.496Z"
   },
   {
    "duration": 392,
    "start_time": "2021-12-15T16:04:56.329Z"
   },
   {
    "duration": 294,
    "start_time": "2021-12-15T16:06:45.706Z"
   },
   {
    "duration": 351,
    "start_time": "2021-12-15T16:06:59.556Z"
   },
   {
    "duration": 279,
    "start_time": "2021-12-15T16:07:01.539Z"
   },
   {
    "duration": 347,
    "start_time": "2021-12-15T16:08:03.714Z"
   },
   {
    "duration": 14,
    "start_time": "2021-12-15T16:09:15.434Z"
   },
   {
    "duration": 636,
    "start_time": "2021-12-15T16:10:48.702Z"
   },
   {
    "duration": 382,
    "start_time": "2021-12-15T16:11:51.018Z"
   },
   {
    "duration": 385,
    "start_time": "2021-12-15T16:12:05.034Z"
   },
   {
    "duration": 372,
    "start_time": "2021-12-15T16:13:51.364Z"
   },
   {
    "duration": 9,
    "start_time": "2021-12-15T16:13:54.748Z"
   },
   {
    "duration": 277,
    "start_time": "2021-12-15T16:14:01.579Z"
   },
   {
    "duration": 395,
    "start_time": "2021-12-15T16:14:07.619Z"
   },
   {
    "duration": 570,
    "start_time": "2021-12-15T16:15:16.878Z"
   },
   {
    "duration": 381,
    "start_time": "2021-12-15T16:15:17.450Z"
   },
   {
    "duration": 348,
    "start_time": "2021-12-15T16:15:26.444Z"
   },
   {
    "duration": 243,
    "start_time": "2021-12-15T16:15:31.603Z"
   },
   {
    "duration": 385,
    "start_time": "2021-12-15T16:19:02.236Z"
   },
   {
    "duration": 231,
    "start_time": "2021-12-15T16:19:04.405Z"
   },
   {
    "duration": 419,
    "start_time": "2021-12-15T16:20:30.549Z"
   },
   {
    "duration": 17,
    "start_time": "2021-12-15T16:20:32.069Z"
   },
   {
    "duration": 296,
    "start_time": "2021-12-15T18:18:32.433Z"
   },
   {
    "duration": 628,
    "start_time": "2021-12-15T18:18:35.268Z"
   },
   {
    "duration": 382,
    "start_time": "2021-12-15T18:18:36.216Z"
   },
   {
    "duration": 31,
    "start_time": "2021-12-15T18:18:37.538Z"
   },
   {
    "duration": 18,
    "start_time": "2021-12-15T18:20:19.824Z"
   },
   {
    "duration": 8,
    "start_time": "2021-12-15T18:20:39.128Z"
   },
   {
    "duration": 7,
    "start_time": "2021-12-15T18:20:44.221Z"
   },
   {
    "duration": 9,
    "start_time": "2021-12-15T18:20:50.755Z"
   },
   {
    "duration": 11,
    "start_time": "2021-12-15T18:21:17.193Z"
   },
   {
    "duration": 3,
    "start_time": "2021-12-15T18:22:15.669Z"
   },
   {
    "duration": 4,
    "start_time": "2021-12-15T18:22:19.628Z"
   },
   {
    "duration": 25,
    "start_time": "2021-12-15T18:22:29.068Z"
   },
   {
    "duration": 416,
    "start_time": "2021-12-15T18:24:30.748Z"
   },
   {
    "duration": 28,
    "start_time": "2021-12-15T18:24:48.553Z"
   },
   {
    "duration": 417,
    "start_time": "2021-12-15T18:25:06.620Z"
   },
   {
    "duration": 33,
    "start_time": "2021-12-15T18:59:08.152Z"
   },
   {
    "duration": 379,
    "start_time": "2021-12-15T20:03:12.500Z"
   },
   {
    "duration": 18,
    "start_time": "2021-12-15T20:04:40.594Z"
   },
   {
    "duration": 567,
    "start_time": "2021-12-15T20:06:32.080Z"
   },
   {
    "duration": 383,
    "start_time": "2021-12-15T20:06:32.649Z"
   },
   {
    "duration": 22,
    "start_time": "2021-12-15T20:06:33.035Z"
   },
   {
    "duration": 42,
    "start_time": "2021-12-15T20:06:33.059Z"
   },
   {
    "duration": 18,
    "start_time": "2021-12-15T20:06:33.103Z"
   },
   {
    "duration": 37,
    "start_time": "2021-12-15T20:06:33.122Z"
   },
   {
    "duration": 13,
    "start_time": "2021-12-15T20:06:33.161Z"
   },
   {
    "duration": 29,
    "start_time": "2021-12-15T20:06:33.177Z"
   },
   {
    "duration": 7,
    "start_time": "2021-12-15T20:06:33.208Z"
   },
   {
    "duration": 22,
    "start_time": "2021-12-15T20:06:33.216Z"
   },
   {
    "duration": 27,
    "start_time": "2021-12-15T20:06:33.239Z"
   },
   {
    "duration": 292,
    "start_time": "2021-12-16T21:03:39.843Z"
   },
   {
    "duration": 255,
    "start_time": "2021-12-16T21:22:34.643Z"
   },
   {
    "duration": 568,
    "start_time": "2021-12-16T21:22:51.802Z"
   },
   {
    "duration": 717,
    "start_time": "2021-12-16T21:22:52.372Z"
   },
   {
    "duration": 21,
    "start_time": "2021-12-16T21:22:53.091Z"
   },
   {
    "duration": 35,
    "start_time": "2021-12-16T21:22:53.115Z"
   },
   {
    "duration": 16,
    "start_time": "2021-12-16T21:22:53.151Z"
   },
   {
    "duration": 29,
    "start_time": "2021-12-16T21:22:53.169Z"
   },
   {
    "duration": 15,
    "start_time": "2021-12-16T21:22:53.200Z"
   },
   {
    "duration": 13,
    "start_time": "2021-12-16T21:22:53.218Z"
   },
   {
    "duration": 35,
    "start_time": "2021-12-16T21:22:53.233Z"
   },
   {
    "duration": 18,
    "start_time": "2021-12-16T21:22:53.270Z"
   },
   {
    "duration": 40,
    "start_time": "2021-12-16T21:22:53.289Z"
   },
   {
    "duration": 7297,
    "start_time": "2021-12-16T21:22:53.331Z"
   },
   {
    "duration": 1918,
    "start_time": "2021-12-16T21:22:58.712Z"
   },
   {
    "duration": 1917,
    "start_time": "2021-12-16T21:22:58.715Z"
   },
   {
    "duration": 5,
    "start_time": "2021-12-16T21:23:05.690Z"
   },
   {
    "duration": 5,
    "start_time": "2021-12-16T21:24:02.976Z"
   },
   {
    "duration": 1925,
    "start_time": "2021-12-16T21:24:27.111Z"
   },
   {
    "duration": 5,
    "start_time": "2021-12-16T21:24:35.141Z"
   },
   {
    "duration": 6692,
    "start_time": "2021-12-16T21:25:21.292Z"
   },
   {
    "duration": 236,
    "start_time": "2021-12-16T21:25:52.401Z"
   },
   {
    "duration": 7104,
    "start_time": "2021-12-16T21:26:01.705Z"
   },
   {
    "duration": 58,
    "start_time": "2021-12-16T21:26:22.610Z"
   },
   {
    "duration": 38,
    "start_time": "2021-12-16T21:26:35.809Z"
   },
   {
    "duration": 39,
    "start_time": "2021-12-16T21:26:41.480Z"
   },
   {
    "duration": 288,
    "start_time": "2021-12-16T21:27:58.020Z"
   },
   {
    "duration": 286,
    "start_time": "2021-12-16T21:28:22.780Z"
   },
   {
    "duration": 375,
    "start_time": "2021-12-16T21:29:31.038Z"
   },
   {
    "duration": 293,
    "start_time": "2021-12-16T21:29:58.709Z"
   },
   {
    "duration": 5405,
    "start_time": "2021-12-16T21:30:22.057Z"
   },
   {
    "duration": 320,
    "start_time": "2021-12-16T21:30:45.438Z"
   },
   {
    "duration": 72,
    "start_time": "2021-12-16T21:30:56.854Z"
   },
   {
    "duration": 45,
    "start_time": "2021-12-16T21:31:47.324Z"
   },
   {
    "duration": 44,
    "start_time": "2021-12-16T21:31:51.721Z"
   },
   {
    "duration": 43,
    "start_time": "2021-12-16T21:31:58.636Z"
   },
   {
    "duration": 42,
    "start_time": "2021-12-16T21:32:15.577Z"
   },
   {
    "duration": 3,
    "start_time": "2021-12-16T21:39:52.477Z"
   },
   {
    "duration": 9,
    "start_time": "2021-12-16T21:40:58.118Z"
   },
   {
    "duration": 292,
    "start_time": "2021-12-16T21:41:41.061Z"
   },
   {
    "duration": 41,
    "start_time": "2021-12-16T21:42:18.908Z"
   },
   {
    "duration": 252,
    "start_time": "2021-12-16T21:42:56.984Z"
   },
   {
    "duration": 516,
    "start_time": "2021-12-16T21:43:34.471Z"
   },
   {
    "duration": 260,
    "start_time": "2021-12-16T21:43:57.739Z"
   },
   {
    "duration": 3,
    "start_time": "2021-12-16T21:45:08.144Z"
   },
   {
    "duration": 253,
    "start_time": "2021-12-16T21:45:19.657Z"
   },
   {
    "duration": 4,
    "start_time": "2021-12-16T21:45:34.588Z"
   },
   {
    "duration": 22,
    "start_time": "2021-12-16T21:46:11.628Z"
   },
   {
    "duration": 21,
    "start_time": "2021-12-16T21:47:35.553Z"
   },
   {
    "duration": 19,
    "start_time": "2021-12-16T21:48:03.644Z"
   },
   {
    "duration": 20,
    "start_time": "2021-12-16T21:48:19.480Z"
   },
   {
    "duration": 18,
    "start_time": "2021-12-16T21:50:39.463Z"
   },
   {
    "duration": 26,
    "start_time": "2021-12-16T21:50:47.386Z"
   },
   {
    "duration": 20,
    "start_time": "2021-12-16T21:50:54.886Z"
   },
   {
    "duration": 19,
    "start_time": "2021-12-16T21:51:21.785Z"
   },
   {
    "duration": 3,
    "start_time": "2021-12-16T21:51:45.895Z"
   },
   {
    "duration": 6,
    "start_time": "2021-12-16T21:51:52.663Z"
   },
   {
    "duration": 16,
    "start_time": "2021-12-16T21:52:17.702Z"
   },
   {
    "duration": 6,
    "start_time": "2021-12-16T21:52:24.180Z"
   },
   {
    "duration": 11,
    "start_time": "2021-12-16T21:52:52.110Z"
   },
   {
    "duration": 46,
    "start_time": "2021-12-16T22:00:23.444Z"
   },
   {
    "duration": 10,
    "start_time": "2021-12-16T22:09:23.026Z"
   },
   {
    "duration": 3,
    "start_time": "2021-12-16T22:09:31.973Z"
   },
   {
    "duration": 9,
    "start_time": "2021-12-16T22:09:58.588Z"
   },
   {
    "duration": 2,
    "start_time": "2021-12-16T22:12:47.836Z"
   },
   {
    "duration": 47,
    "start_time": "2021-12-16T22:14:25.214Z"
   },
   {
    "duration": 53,
    "start_time": "2021-12-16T22:14:55.407Z"
   },
   {
    "duration": 47,
    "start_time": "2021-12-16T22:15:05.714Z"
   },
   {
    "duration": 12,
    "start_time": "2021-12-16T22:16:38.486Z"
   },
   {
    "duration": 51,
    "start_time": "2021-12-16T22:17:24.151Z"
   },
   {
    "duration": 50,
    "start_time": "2021-12-16T22:19:19.540Z"
   },
   {
    "duration": 50,
    "start_time": "2021-12-16T22:20:24.521Z"
   },
   {
    "duration": 51,
    "start_time": "2021-12-16T22:22:04.117Z"
   },
   {
    "duration": 78,
    "start_time": "2021-12-16T22:26:33.196Z"
   },
   {
    "duration": 73,
    "start_time": "2021-12-16T22:27:53.702Z"
   },
   {
    "duration": 48,
    "start_time": "2021-12-16T22:29:16.458Z"
   },
   {
    "duration": 68,
    "start_time": "2021-12-16T22:29:50.640Z"
   },
   {
    "duration": 78,
    "start_time": "2021-12-16T22:30:44.300Z"
   },
   {
    "duration": 90,
    "start_time": "2021-12-16T22:30:56.379Z"
   },
   {
    "duration": 58,
    "start_time": "2021-12-16T22:31:35.325Z"
   },
   {
    "duration": 47,
    "start_time": "2021-12-16T22:31:51.288Z"
   },
   {
    "duration": 604,
    "start_time": "2021-12-16T22:32:36.367Z"
   },
   {
    "duration": 431,
    "start_time": "2021-12-16T22:32:36.973Z"
   },
   {
    "duration": 20,
    "start_time": "2021-12-16T22:32:37.406Z"
   },
   {
    "duration": 36,
    "start_time": "2021-12-16T22:32:37.428Z"
   },
   {
    "duration": 16,
    "start_time": "2021-12-16T22:32:37.466Z"
   },
   {
    "duration": 30,
    "start_time": "2021-12-16T22:32:37.484Z"
   },
   {
    "duration": 13,
    "start_time": "2021-12-16T22:32:37.516Z"
   },
   {
    "duration": 38,
    "start_time": "2021-12-16T22:32:37.532Z"
   },
   {
    "duration": 6,
    "start_time": "2021-12-16T22:32:37.572Z"
   },
   {
    "duration": 10,
    "start_time": "2021-12-16T22:32:37.579Z"
   },
   {
    "duration": 21,
    "start_time": "2021-12-16T22:32:37.591Z"
   },
   {
    "duration": 128,
    "start_time": "2021-12-16T22:32:37.613Z"
   },
   {
    "duration": 23,
    "start_time": "2021-12-16T22:32:37.743Z"
   },
   {
    "duration": 11,
    "start_time": "2021-12-16T22:32:37.767Z"
   },
   {
    "duration": 3,
    "start_time": "2021-12-16T22:32:37.780Z"
   },
   {
    "duration": 51,
    "start_time": "2021-12-16T22:32:37.785Z"
   },
   {
    "duration": 341,
    "start_time": "2021-12-16T22:32:37.838Z"
   },
   {
    "duration": 330,
    "start_time": "2021-12-16T22:33:11.702Z"
   },
   {
    "duration": 49,
    "start_time": "2021-12-16T22:33:24.399Z"
   },
   {
    "duration": 271,
    "start_time": "2021-12-16T22:33:25.808Z"
   },
   {
    "duration": 9,
    "start_time": "2021-12-16T22:33:50.541Z"
   },
   {
    "duration": 49,
    "start_time": "2021-12-16T22:33:54.951Z"
   },
   {
    "duration": 8,
    "start_time": "2021-12-16T22:33:56.177Z"
   },
   {
    "duration": 49,
    "start_time": "2021-12-16T22:34:28.242Z"
   },
   {
    "duration": 88,
    "start_time": "2021-12-16T22:34:31.268Z"
   },
   {
    "duration": 48,
    "start_time": "2021-12-16T22:35:15.104Z"
   },
   {
    "duration": 9,
    "start_time": "2021-12-16T22:35:18.403Z"
   },
   {
    "duration": 86,
    "start_time": "2021-12-16T22:35:23.267Z"
   },
   {
    "duration": 80,
    "start_time": "2021-12-16T22:35:35.012Z"
   },
   {
    "duration": 564,
    "start_time": "2021-12-16T22:36:29.219Z"
   },
   {
    "duration": 435,
    "start_time": "2021-12-16T22:36:29.785Z"
   },
   {
    "duration": 21,
    "start_time": "2021-12-16T22:36:30.223Z"
   },
   {
    "duration": 39,
    "start_time": "2021-12-16T22:36:30.246Z"
   },
   {
    "duration": 16,
    "start_time": "2021-12-16T22:36:30.287Z"
   },
   {
    "duration": 35,
    "start_time": "2021-12-16T22:36:30.305Z"
   },
   {
    "duration": 27,
    "start_time": "2021-12-16T22:36:30.341Z"
   },
   {
    "duration": 26,
    "start_time": "2021-12-16T22:36:30.370Z"
   },
   {
    "duration": 6,
    "start_time": "2021-12-16T22:36:30.398Z"
   },
   {
    "duration": 9,
    "start_time": "2021-12-16T22:36:30.406Z"
   },
   {
    "duration": 20,
    "start_time": "2021-12-16T22:36:30.417Z"
   },
   {
    "duration": 133,
    "start_time": "2021-12-16T22:36:30.439Z"
   },
   {
    "duration": 21,
    "start_time": "2021-12-16T22:36:30.574Z"
   },
   {
    "duration": 13,
    "start_time": "2021-12-16T22:36:30.597Z"
   },
   {
    "duration": 17,
    "start_time": "2021-12-16T22:36:30.612Z"
   },
   {
    "duration": 69,
    "start_time": "2021-12-16T22:36:30.630Z"
   },
   {
    "duration": 71,
    "start_time": "2021-12-16T22:36:34.104Z"
   },
   {
    "duration": 93,
    "start_time": "2021-12-16T22:36:39.764Z"
   },
   {
    "duration": 573,
    "start_time": "2021-12-16T22:37:50.794Z"
   },
   {
    "duration": 414,
    "start_time": "2021-12-16T22:37:51.369Z"
   },
   {
    "duration": 21,
    "start_time": "2021-12-16T22:37:51.785Z"
   },
   {
    "duration": 35,
    "start_time": "2021-12-16T22:37:51.808Z"
   },
   {
    "duration": 18,
    "start_time": "2021-12-16T22:37:51.845Z"
   },
   {
    "duration": 27,
    "start_time": "2021-12-16T22:37:51.865Z"
   },
   {
    "duration": 14,
    "start_time": "2021-12-16T22:37:51.894Z"
   },
   {
    "duration": 14,
    "start_time": "2021-12-16T22:37:51.910Z"
   },
   {
    "duration": 6,
    "start_time": "2021-12-16T22:37:51.925Z"
   },
   {
    "duration": 6,
    "start_time": "2021-12-16T22:37:51.964Z"
   },
   {
    "duration": 16,
    "start_time": "2021-12-16T22:37:51.972Z"
   },
   {
    "duration": 123,
    "start_time": "2021-12-16T22:37:51.989Z"
   },
   {
    "duration": 20,
    "start_time": "2021-12-16T22:37:52.114Z"
   },
   {
    "duration": 11,
    "start_time": "2021-12-16T22:37:52.135Z"
   },
   {
    "duration": 2,
    "start_time": "2021-12-16T22:37:52.164Z"
   },
   {
    "duration": 54,
    "start_time": "2021-12-16T22:37:52.168Z"
   },
   {
    "duration": 85,
    "start_time": "2021-12-16T22:37:54.059Z"
   },
   {
    "duration": 76,
    "start_time": "2021-12-16T22:38:05.875Z"
   },
   {
    "duration": 89,
    "start_time": "2021-12-16T22:38:10.403Z"
   },
   {
    "duration": 3,
    "start_time": "2021-12-16T22:38:21.876Z"
   },
   {
    "duration": 81,
    "start_time": "2021-12-16T22:38:23.253Z"
   },
   {
    "duration": 612,
    "start_time": "2021-12-16T22:38:42.347Z"
   },
   {
    "duration": 421,
    "start_time": "2021-12-16T22:38:42.961Z"
   },
   {
    "duration": 22,
    "start_time": "2021-12-16T22:38:43.384Z"
   },
   {
    "duration": 36,
    "start_time": "2021-12-16T22:38:43.408Z"
   },
   {
    "duration": 18,
    "start_time": "2021-12-16T22:38:43.446Z"
   },
   {
    "duration": 32,
    "start_time": "2021-12-16T22:38:43.466Z"
   },
   {
    "duration": 14,
    "start_time": "2021-12-16T22:38:43.500Z"
   },
   {
    "duration": 13,
    "start_time": "2021-12-16T22:38:43.517Z"
   },
   {
    "duration": 36,
    "start_time": "2021-12-16T22:38:43.532Z"
   },
   {
    "duration": 8,
    "start_time": "2021-12-16T22:38:43.570Z"
   },
   {
    "duration": 17,
    "start_time": "2021-12-16T22:38:43.579Z"
   },
   {
    "duration": 144,
    "start_time": "2021-12-16T22:38:43.598Z"
   },
   {
    "duration": 25,
    "start_time": "2021-12-16T22:38:43.744Z"
   },
   {
    "duration": 12,
    "start_time": "2021-12-16T22:38:43.771Z"
   },
   {
    "duration": 6,
    "start_time": "2021-12-16T22:38:43.785Z"
   },
   {
    "duration": 52,
    "start_time": "2021-12-16T22:38:43.793Z"
   },
   {
    "duration": 67,
    "start_time": "2021-12-16T22:38:45.202Z"
   },
   {
    "duration": 48,
    "start_time": "2021-12-16T22:39:10.483Z"
   },
   {
    "duration": 61,
    "start_time": "2021-12-16T22:39:14.371Z"
   },
   {
    "duration": 64,
    "start_time": "2021-12-16T22:39:27.023Z"
   },
   {
    "duration": 608,
    "start_time": "2021-12-16T22:43:11.972Z"
   },
   {
    "duration": 436,
    "start_time": "2021-12-16T22:43:12.582Z"
   },
   {
    "duration": 22,
    "start_time": "2021-12-16T22:43:13.020Z"
   },
   {
    "duration": 308,
    "start_time": "2021-12-16T22:43:13.044Z"
   },
   {
    "duration": 1856,
    "start_time": "2021-12-16T22:43:11.498Z"
   },
   {
    "duration": 1846,
    "start_time": "2021-12-16T22:43:11.509Z"
   },
   {
    "duration": 1845,
    "start_time": "2021-12-16T22:43:11.511Z"
   },
   {
    "duration": 1842,
    "start_time": "2021-12-16T22:43:11.514Z"
   },
   {
    "duration": 1841,
    "start_time": "2021-12-16T22:43:11.516Z"
   },
   {
    "duration": 1839,
    "start_time": "2021-12-16T22:43:11.519Z"
   },
   {
    "duration": 1838,
    "start_time": "2021-12-16T22:43:11.521Z"
   },
   {
    "duration": 1837,
    "start_time": "2021-12-16T22:43:11.523Z"
   },
   {
    "duration": 1836,
    "start_time": "2021-12-16T22:43:11.525Z"
   },
   {
    "duration": 1835,
    "start_time": "2021-12-16T22:43:11.527Z"
   },
   {
    "duration": 1835,
    "start_time": "2021-12-16T22:43:11.528Z"
   },
   {
    "duration": 1834,
    "start_time": "2021-12-16T22:43:11.530Z"
   },
   {
    "duration": 1832,
    "start_time": "2021-12-16T22:43:11.532Z"
   },
   {
    "duration": 39,
    "start_time": "2021-12-16T22:43:48.961Z"
   },
   {
    "duration": 582,
    "start_time": "2021-12-16T22:43:55.785Z"
   },
   {
    "duration": 421,
    "start_time": "2021-12-16T22:43:56.369Z"
   },
   {
    "duration": 21,
    "start_time": "2021-12-16T22:43:56.793Z"
   },
   {
    "duration": 32,
    "start_time": "2021-12-16T22:43:56.816Z"
   },
   {
    "duration": 17,
    "start_time": "2021-12-16T22:43:56.850Z"
   },
   {
    "duration": 29,
    "start_time": "2021-12-16T22:43:56.869Z"
   },
   {
    "duration": 14,
    "start_time": "2021-12-16T22:43:56.900Z"
   },
   {
    "duration": 14,
    "start_time": "2021-12-16T22:43:56.917Z"
   },
   {
    "duration": 30,
    "start_time": "2021-12-16T22:43:56.933Z"
   },
   {
    "duration": 6,
    "start_time": "2021-12-16T22:43:56.966Z"
   },
   {
    "duration": 16,
    "start_time": "2021-12-16T22:43:56.973Z"
   },
   {
    "duration": 129,
    "start_time": "2021-12-16T22:43:56.990Z"
   },
   {
    "duration": 22,
    "start_time": "2021-12-16T22:43:57.121Z"
   },
   {
    "duration": 20,
    "start_time": "2021-12-16T22:43:57.145Z"
   },
   {
    "duration": 3,
    "start_time": "2021-12-16T22:43:57.167Z"
   },
   {
    "duration": 53,
    "start_time": "2021-12-16T22:43:57.172Z"
   },
   {
    "duration": 99,
    "start_time": "2021-12-16T22:43:57.226Z"
   },
   {
    "duration": 797,
    "start_time": "2021-12-17T16:02:56.844Z"
   },
   {
    "duration": 551,
    "start_time": "2021-12-17T16:02:57.644Z"
   },
   {
    "duration": 31,
    "start_time": "2021-12-17T16:02:58.198Z"
   },
   {
    "duration": 56,
    "start_time": "2021-12-17T16:02:58.233Z"
   },
   {
    "duration": 24,
    "start_time": "2021-12-17T16:02:58.291Z"
   },
   {
    "duration": 61,
    "start_time": "2021-12-17T16:02:58.317Z"
   },
   {
    "duration": 19,
    "start_time": "2021-12-17T16:02:58.381Z"
   },
   {
    "duration": 35,
    "start_time": "2021-12-17T16:02:58.403Z"
   },
   {
    "duration": 27,
    "start_time": "2021-12-17T16:02:58.441Z"
   },
   {
    "duration": 12,
    "start_time": "2021-12-17T16:02:58.471Z"
   },
   {
    "duration": 25,
    "start_time": "2021-12-17T16:02:58.486Z"
   },
   {
    "duration": 173,
    "start_time": "2021-12-17T16:02:58.513Z"
   },
   {
    "duration": 21,
    "start_time": "2021-12-17T16:02:58.688Z"
   },
   {
    "duration": 22,
    "start_time": "2021-12-17T16:02:58.711Z"
   },
   {
    "duration": 138,
    "start_time": "2021-12-17T16:02:58.735Z"
   },
   {
    "duration": 113,
    "start_time": "2021-12-17T16:02:58.875Z"
   },
   {
    "duration": 13,
    "start_time": "2021-12-17T16:03:09.979Z"
   },
   {
    "duration": 63,
    "start_time": "2021-12-17T16:04:20.307Z"
   },
   {
    "duration": 56,
    "start_time": "2021-12-17T16:04:33.006Z"
   },
   {
    "duration": 58,
    "start_time": "2021-12-17T16:04:53.165Z"
   },
   {
    "duration": 82,
    "start_time": "2021-12-17T16:05:11.405Z"
   },
   {
    "duration": 52,
    "start_time": "2021-12-17T16:06:26.720Z"
   },
   {
    "duration": 5,
    "start_time": "2021-12-17T16:09:14.608Z"
   },
   {
    "duration": 21,
    "start_time": "2021-12-17T16:09:56.320Z"
   },
   {
    "duration": 43,
    "start_time": "2021-12-17T16:10:35.761Z"
   },
   {
    "duration": 349,
    "start_time": "2021-12-17T16:11:21.811Z"
   },
   {
    "duration": 26,
    "start_time": "2021-12-17T16:11:29.271Z"
   },
   {
    "duration": 37,
    "start_time": "2021-12-17T16:11:51.533Z"
   },
   {
    "duration": 62,
    "start_time": "2021-12-17T16:12:05.411Z"
   },
   {
    "duration": 60,
    "start_time": "2021-12-17T16:12:22.693Z"
   },
   {
    "duration": 41,
    "start_time": "2021-12-17T16:12:24.579Z"
   },
   {
    "duration": 43,
    "start_time": "2021-12-17T16:17:14.540Z"
   },
   {
    "duration": 41,
    "start_time": "2021-12-17T21:41:19.273Z"
   },
   {
    "duration": 28,
    "start_time": "2021-12-17T21:41:41.568Z"
   },
   {
    "duration": 42,
    "start_time": "2021-12-17T21:41:53.609Z"
   },
   {
    "duration": 46,
    "start_time": "2021-12-17T21:56:15.109Z"
   },
   {
    "duration": 56,
    "start_time": "2021-12-17T21:56:21.346Z"
   },
   {
    "duration": 47,
    "start_time": "2021-12-17T21:58:03.167Z"
   },
   {
    "duration": 17,
    "start_time": "2021-12-17T21:59:40.387Z"
   },
   {
    "duration": 53,
    "start_time": "2021-12-17T22:00:32.708Z"
   },
   {
    "duration": 310,
    "start_time": "2021-12-17T22:00:48.539Z"
   },
   {
    "duration": 39,
    "start_time": "2021-12-17T22:00:55.817Z"
   },
   {
    "duration": 41,
    "start_time": "2021-12-17T22:02:25.542Z"
   },
   {
    "duration": 39,
    "start_time": "2021-12-17T22:04:42.291Z"
   },
   {
    "duration": 42,
    "start_time": "2021-12-17T22:05:34.042Z"
   },
   {
    "duration": 10,
    "start_time": "2021-12-17T22:05:56.182Z"
   },
   {
    "duration": 25,
    "start_time": "2021-12-17T22:06:31.048Z"
   },
   {
    "duration": 300,
    "start_time": "2021-12-17T22:07:42.424Z"
   },
   {
    "duration": 15,
    "start_time": "2021-12-17T22:07:45.430Z"
   },
   {
    "duration": 36,
    "start_time": "2021-12-17T22:10:34.493Z"
   },
   {
    "duration": 27,
    "start_time": "2021-12-17T22:11:37.798Z"
   },
   {
    "duration": 40,
    "start_time": "2021-12-17T22:11:47.104Z"
   },
   {
    "duration": 46,
    "start_time": "2021-12-17T22:11:58.274Z"
   },
   {
    "duration": 90,
    "start_time": "2021-12-17T22:12:30.700Z"
   },
   {
    "duration": 46,
    "start_time": "2021-12-17T22:12:35.145Z"
   },
   {
    "duration": 42,
    "start_time": "2021-12-17T22:13:41.353Z"
   },
   {
    "duration": 60,
    "start_time": "2021-12-17T22:13:45.237Z"
   },
   {
    "duration": 45,
    "start_time": "2021-12-17T22:15:17.648Z"
   },
   {
    "duration": 5,
    "start_time": "2021-12-17T22:15:21.943Z"
   },
   {
    "duration": 574,
    "start_time": "2021-12-17T22:15:21.951Z"
   },
   {
    "duration": 27,
    "start_time": "2021-12-17T22:15:22.529Z"
   },
   {
    "duration": 40,
    "start_time": "2021-12-17T22:15:22.559Z"
   },
   {
    "duration": 24,
    "start_time": "2021-12-17T22:15:22.602Z"
   },
   {
    "duration": 60,
    "start_time": "2021-12-17T22:15:22.628Z"
   },
   {
    "duration": 21,
    "start_time": "2021-12-17T22:15:22.690Z"
   },
   {
    "duration": 19,
    "start_time": "2021-12-17T22:15:22.715Z"
   },
   {
    "duration": 38,
    "start_time": "2021-12-17T22:15:22.737Z"
   },
   {
    "duration": 14,
    "start_time": "2021-12-17T22:15:22.778Z"
   },
   {
    "duration": 36,
    "start_time": "2021-12-17T22:15:22.795Z"
   },
   {
    "duration": 178,
    "start_time": "2021-12-17T22:15:22.834Z"
   },
   {
    "duration": 23,
    "start_time": "2021-12-17T22:15:23.014Z"
   },
   {
    "duration": 35,
    "start_time": "2021-12-17T22:15:23.039Z"
   },
   {
    "duration": 95,
    "start_time": "2021-12-17T22:15:23.076Z"
   },
   {
    "duration": 39,
    "start_time": "2021-12-17T22:15:23.173Z"
   },
   {
    "duration": 29,
    "start_time": "2021-12-17T22:15:23.214Z"
   },
   {
    "duration": 59,
    "start_time": "2021-12-17T22:15:25.771Z"
   },
   {
    "duration": 286,
    "start_time": "2021-12-17T22:22:55.279Z"
   },
   {
    "duration": 259,
    "start_time": "2021-12-17T22:23:32.913Z"
   },
   {
    "duration": 6,
    "start_time": "2021-12-17T22:24:19.737Z"
   },
   {
    "duration": 40,
    "start_time": "2021-12-17T22:24:26.967Z"
   },
   {
    "duration": 5,
    "start_time": "2021-12-17T22:26:21.256Z"
   },
   {
    "duration": 386,
    "start_time": "2021-12-18T09:49:15.478Z"
   },
   {
    "duration": 574,
    "start_time": "2021-12-18T09:49:23.057Z"
   },
   {
    "duration": 407,
    "start_time": "2021-12-18T09:49:23.633Z"
   },
   {
    "duration": 21,
    "start_time": "2021-12-18T09:49:24.042Z"
   },
   {
    "duration": 33,
    "start_time": "2021-12-18T09:49:24.065Z"
   },
   {
    "duration": 16,
    "start_time": "2021-12-18T09:49:24.099Z"
   },
   {
    "duration": 26,
    "start_time": "2021-12-18T09:49:24.117Z"
   },
   {
    "duration": 14,
    "start_time": "2021-12-18T09:49:24.145Z"
   },
   {
    "duration": 12,
    "start_time": "2021-12-18T09:49:24.161Z"
   },
   {
    "duration": 32,
    "start_time": "2021-12-18T09:49:24.175Z"
   },
   {
    "duration": 10,
    "start_time": "2021-12-18T09:49:24.209Z"
   },
   {
    "duration": 16,
    "start_time": "2021-12-18T09:49:24.220Z"
   },
   {
    "duration": 117,
    "start_time": "2021-12-18T09:49:24.237Z"
   },
   {
    "duration": 16,
    "start_time": "2021-12-18T09:49:24.355Z"
   },
   {
    "duration": 11,
    "start_time": "2021-12-18T09:49:24.372Z"
   },
   {
    "duration": 65,
    "start_time": "2021-12-18T09:49:24.384Z"
   },
   {
    "duration": 26,
    "start_time": "2021-12-18T09:49:24.451Z"
   },
   {
    "duration": 32,
    "start_time": "2021-12-18T09:49:24.478Z"
   },
   {
    "duration": 18,
    "start_time": "2021-12-18T09:49:24.511Z"
   },
   {
    "duration": 9,
    "start_time": "2021-12-18T09:49:24.531Z"
   },
   {
    "duration": 9,
    "start_time": "2021-12-18T09:49:32.417Z"
   },
   {
    "duration": 367,
    "start_time": "2021-12-18T09:52:22.749Z"
   },
   {
    "duration": 121,
    "start_time": "2021-12-18T09:52:47.103Z"
   },
   {
    "duration": 118,
    "start_time": "2021-12-18T09:52:59.677Z"
   },
   {
    "duration": 10,
    "start_time": "2021-12-18T09:53:08.292Z"
   },
   {
    "duration": 9,
    "start_time": "2021-12-18T09:53:15.771Z"
   },
   {
    "duration": 26,
    "start_time": "2021-12-18T09:55:12.432Z"
   },
   {
    "duration": 566,
    "start_time": "2021-12-18T09:55:26.252Z"
   },
   {
    "duration": 403,
    "start_time": "2021-12-18T09:55:26.820Z"
   },
   {
    "duration": 21,
    "start_time": "2021-12-18T09:55:27.225Z"
   },
   {
    "duration": 34,
    "start_time": "2021-12-18T09:55:27.248Z"
   },
   {
    "duration": 28,
    "start_time": "2021-12-18T09:55:27.284Z"
   },
   {
    "duration": 33,
    "start_time": "2021-12-18T09:55:27.314Z"
   },
   {
    "duration": 23,
    "start_time": "2021-12-18T09:55:27.349Z"
   },
   {
    "duration": 42,
    "start_time": "2021-12-18T09:55:27.375Z"
   },
   {
    "duration": 6,
    "start_time": "2021-12-18T09:55:27.419Z"
   },
   {
    "duration": 8,
    "start_time": "2021-12-18T09:55:27.426Z"
   },
   {
    "duration": 15,
    "start_time": "2021-12-18T09:55:27.436Z"
   },
   {
    "duration": 122,
    "start_time": "2021-12-18T09:55:27.453Z"
   },
   {
    "duration": 16,
    "start_time": "2021-12-18T09:55:27.577Z"
   },
   {
    "duration": 20,
    "start_time": "2021-12-18T09:55:27.595Z"
   },
   {
    "duration": 51,
    "start_time": "2021-12-18T09:55:27.617Z"
   },
   {
    "duration": 43,
    "start_time": "2021-12-18T09:55:27.670Z"
   },
   {
    "duration": 18,
    "start_time": "2021-12-18T09:55:27.715Z"
   },
   {
    "duration": 20,
    "start_time": "2021-12-18T09:55:27.735Z"
   },
   {
    "duration": 9,
    "start_time": "2021-12-18T09:55:27.757Z"
   },
   {
    "duration": 39,
    "start_time": "2021-12-18T09:55:27.768Z"
   },
   {
    "duration": 2,
    "start_time": "2021-12-18T09:55:27.809Z"
   },
   {
    "duration": 8985,
    "start_time": "2021-12-18T09:55:54.970Z"
   },
   {
    "duration": 2,
    "start_time": "2021-12-18T09:56:18.315Z"
   },
   {
    "duration": 397,
    "start_time": "2021-12-18T09:56:18.319Z"
   },
   {
    "duration": 22,
    "start_time": "2021-12-18T09:56:18.718Z"
   },
   {
    "duration": 26,
    "start_time": "2021-12-18T09:56:18.742Z"
   },
   {
    "duration": 17,
    "start_time": "2021-12-18T09:56:18.770Z"
   },
   {
    "duration": 41,
    "start_time": "2021-12-18T09:56:18.789Z"
   },
   {
    "duration": 14,
    "start_time": "2021-12-18T09:56:18.832Z"
   },
   {
    "duration": 19,
    "start_time": "2021-12-18T09:56:18.848Z"
   },
   {
    "duration": 6,
    "start_time": "2021-12-18T09:56:18.869Z"
   },
   {
    "duration": 33,
    "start_time": "2021-12-18T09:56:18.878Z"
   },
   {
    "duration": 15,
    "start_time": "2021-12-18T09:56:18.913Z"
   },
   {
    "duration": 108,
    "start_time": "2021-12-18T09:56:18.930Z"
   },
   {
    "duration": 15,
    "start_time": "2021-12-18T09:56:19.040Z"
   },
   {
    "duration": 11,
    "start_time": "2021-12-18T09:56:19.056Z"
   },
   {
    "duration": 70,
    "start_time": "2021-12-18T09:56:19.070Z"
   },
   {
    "duration": 24,
    "start_time": "2021-12-18T09:56:19.142Z"
   },
   {
    "duration": 19,
    "start_time": "2021-12-18T09:56:19.167Z"
   },
   {
    "duration": 30,
    "start_time": "2021-12-18T09:56:19.188Z"
   },
   {
    "duration": 5,
    "start_time": "2021-12-18T09:56:19.220Z"
   },
   {
    "duration": 20,
    "start_time": "2021-12-18T09:56:19.227Z"
   },
   {
    "duration": 642,
    "start_time": "2021-12-18T09:56:36.610Z"
   },
   {
    "duration": 398,
    "start_time": "2021-12-18T09:56:37.254Z"
   },
   {
    "duration": 21,
    "start_time": "2021-12-18T09:56:37.654Z"
   },
   {
    "duration": 45,
    "start_time": "2021-12-18T09:56:37.677Z"
   },
   {
    "duration": 16,
    "start_time": "2021-12-18T09:56:37.724Z"
   },
   {
    "duration": 29,
    "start_time": "2021-12-18T09:56:37.742Z"
   },
   {
    "duration": 35,
    "start_time": "2021-12-18T09:56:37.773Z"
   },
   {
    "duration": 13,
    "start_time": "2021-12-18T09:56:37.811Z"
   },
   {
    "duration": 6,
    "start_time": "2021-12-18T09:56:37.826Z"
   },
   {
    "duration": 8,
    "start_time": "2021-12-18T09:56:37.834Z"
   },
   {
    "duration": 14,
    "start_time": "2021-12-18T09:56:37.844Z"
   },
   {
    "duration": 138,
    "start_time": "2021-12-18T09:56:37.860Z"
   },
   {
    "duration": 17,
    "start_time": "2021-12-18T09:56:38.006Z"
   },
   {
    "duration": 10,
    "start_time": "2021-12-18T09:56:38.025Z"
   },
   {
    "duration": 69,
    "start_time": "2021-12-18T09:56:38.037Z"
   },
   {
    "duration": 26,
    "start_time": "2021-12-18T09:56:38.108Z"
   },
   {
    "duration": 19,
    "start_time": "2021-12-18T09:56:38.136Z"
   },
   {
    "duration": 16,
    "start_time": "2021-12-18T09:56:38.157Z"
   },
   {
    "duration": 9,
    "start_time": "2021-12-18T09:56:38.175Z"
   },
   {
    "duration": 33,
    "start_time": "2021-12-18T09:56:38.186Z"
   },
   {
    "duration": 2,
    "start_time": "2021-12-18T09:56:38.221Z"
   },
   {
    "duration": 2,
    "start_time": "2021-12-18T09:56:53.430Z"
   },
   {
    "duration": 403,
    "start_time": "2021-12-18T09:56:53.434Z"
   },
   {
    "duration": 21,
    "start_time": "2021-12-18T09:56:53.839Z"
   },
   {
    "duration": 34,
    "start_time": "2021-12-18T09:56:53.862Z"
   },
   {
    "duration": 16,
    "start_time": "2021-12-18T09:56:53.898Z"
   },
   {
    "duration": 37,
    "start_time": "2021-12-18T09:56:53.915Z"
   },
   {
    "duration": 14,
    "start_time": "2021-12-18T09:56:53.953Z"
   },
   {
    "duration": 16,
    "start_time": "2021-12-18T09:56:53.969Z"
   },
   {
    "duration": 17,
    "start_time": "2021-12-18T09:56:53.987Z"
   },
   {
    "duration": 12,
    "start_time": "2021-12-18T09:56:54.005Z"
   },
   {
    "duration": 25,
    "start_time": "2021-12-18T09:56:54.018Z"
   },
   {
    "duration": 94,
    "start_time": "2021-12-18T09:56:54.045Z"
   },
   {
    "duration": 14,
    "start_time": "2021-12-18T09:56:54.140Z"
   },
   {
    "duration": 14,
    "start_time": "2021-12-18T09:56:54.156Z"
   },
   {
    "duration": 65,
    "start_time": "2021-12-18T09:56:54.171Z"
   },
   {
    "duration": 26,
    "start_time": "2021-12-18T09:56:54.237Z"
   },
   {
    "duration": 19,
    "start_time": "2021-12-18T09:56:54.265Z"
   },
   {
    "duration": 33,
    "start_time": "2021-12-18T09:56:54.286Z"
   },
   {
    "duration": 5,
    "start_time": "2021-12-18T09:56:54.321Z"
   },
   {
    "duration": 33,
    "start_time": "2021-12-18T09:56:54.328Z"
   },
   {
    "duration": 2,
    "start_time": "2021-12-18T09:56:54.362Z"
   },
   {
    "duration": 679,
    "start_time": "2021-12-18T09:57:00.314Z"
   },
   {
    "duration": 508,
    "start_time": "2021-12-18T09:57:00.995Z"
   },
   {
    "duration": 22,
    "start_time": "2021-12-18T09:57:01.507Z"
   },
   {
    "duration": 35,
    "start_time": "2021-12-18T09:57:01.531Z"
   },
   {
    "duration": 42,
    "start_time": "2021-12-18T09:57:01.567Z"
   },
   {
    "duration": 33,
    "start_time": "2021-12-18T09:57:01.610Z"
   },
   {
    "duration": 15,
    "start_time": "2021-12-18T09:57:01.645Z"
   },
   {
    "duration": 23,
    "start_time": "2021-12-18T09:57:01.663Z"
   },
   {
    "duration": 20,
    "start_time": "2021-12-18T09:57:01.688Z"
   },
   {
    "duration": 9,
    "start_time": "2021-12-18T09:57:01.709Z"
   },
   {
    "duration": 20,
    "start_time": "2021-12-18T09:57:01.719Z"
   },
   {
    "duration": 119,
    "start_time": "2021-12-18T09:57:01.740Z"
   },
   {
    "duration": 18,
    "start_time": "2021-12-18T09:57:01.861Z"
   },
   {
    "duration": 12,
    "start_time": "2021-12-18T09:57:01.880Z"
   },
   {
    "duration": 50,
    "start_time": "2021-12-18T09:57:01.907Z"
   },
   {
    "duration": 26,
    "start_time": "2021-12-18T09:57:01.959Z"
   },
   {
    "duration": 38,
    "start_time": "2021-12-18T09:57:01.987Z"
   },
   {
    "duration": 19,
    "start_time": "2021-12-18T09:57:02.026Z"
   },
   {
    "duration": 9,
    "start_time": "2021-12-18T09:57:02.047Z"
   },
   {
    "duration": 20,
    "start_time": "2021-12-18T09:57:02.058Z"
   },
   {
    "duration": 27,
    "start_time": "2021-12-18T09:57:02.080Z"
   },
   {
    "duration": 5,
    "start_time": "2021-12-18T09:59:21.648Z"
   },
   {
    "duration": 11,
    "start_time": "2021-12-18T09:59:28.856Z"
   },
   {
    "duration": 641,
    "start_time": "2021-12-18T10:00:14.074Z"
   },
   {
    "duration": 394,
    "start_time": "2021-12-18T10:00:14.716Z"
   },
   {
    "duration": 22,
    "start_time": "2021-12-18T10:00:15.112Z"
   },
   {
    "duration": 34,
    "start_time": "2021-12-18T10:00:15.136Z"
   },
   {
    "duration": 34,
    "start_time": "2021-12-18T10:00:15.172Z"
   },
   {
    "duration": 29,
    "start_time": "2021-12-18T10:00:15.209Z"
   },
   {
    "duration": 16,
    "start_time": "2021-12-18T10:00:15.240Z"
   },
   {
    "duration": 14,
    "start_time": "2021-12-18T10:00:15.259Z"
   },
   {
    "duration": 8,
    "start_time": "2021-12-18T10:00:15.308Z"
   },
   {
    "duration": 7,
    "start_time": "2021-12-18T10:00:15.318Z"
   },
   {
    "duration": 17,
    "start_time": "2021-12-18T10:00:15.327Z"
   },
   {
    "duration": 121,
    "start_time": "2021-12-18T10:00:15.346Z"
   },
   {
    "duration": 16,
    "start_time": "2021-12-18T10:00:15.469Z"
   },
   {
    "duration": 24,
    "start_time": "2021-12-18T10:00:15.487Z"
   },
   {
    "duration": 54,
    "start_time": "2021-12-18T10:00:15.512Z"
   },
   {
    "duration": 43,
    "start_time": "2021-12-18T10:00:15.568Z"
   },
   {
    "duration": 20,
    "start_time": "2021-12-18T10:00:15.613Z"
   },
   {
    "duration": 20,
    "start_time": "2021-12-18T10:00:15.634Z"
   },
   {
    "duration": 11,
    "start_time": "2021-12-18T10:00:15.655Z"
   },
   {
    "duration": 9,
    "start_time": "2021-12-18T10:00:15.667Z"
   },
   {
    "duration": 34,
    "start_time": "2021-12-18T10:00:15.677Z"
   },
   {
    "duration": 418,
    "start_time": "2021-12-18T10:25:47.638Z"
   },
   {
    "duration": 22,
    "start_time": "2021-12-18T10:25:57.508Z"
   },
   {
    "duration": 617,
    "start_time": "2021-12-18T10:35:57.237Z"
   },
   {
    "duration": 400,
    "start_time": "2021-12-18T10:35:57.856Z"
   },
   {
    "duration": 22,
    "start_time": "2021-12-18T10:35:58.258Z"
   },
   {
    "duration": 35,
    "start_time": "2021-12-18T10:35:58.282Z"
   },
   {
    "duration": 16,
    "start_time": "2021-12-18T10:35:58.319Z"
   },
   {
    "duration": 29,
    "start_time": "2021-12-18T10:35:58.337Z"
   },
   {
    "duration": 16,
    "start_time": "2021-12-18T10:35:58.368Z"
   },
   {
    "duration": 15,
    "start_time": "2021-12-18T10:35:58.409Z"
   },
   {
    "duration": 7,
    "start_time": "2021-12-18T10:35:58.427Z"
   },
   {
    "duration": 8,
    "start_time": "2021-12-18T10:35:58.436Z"
   },
   {
    "duration": 16,
    "start_time": "2021-12-18T10:35:58.446Z"
   },
   {
    "duration": 142,
    "start_time": "2021-12-18T10:35:58.464Z"
   },
   {
    "duration": 17,
    "start_time": "2021-12-18T10:35:58.608Z"
   },
   {
    "duration": 12,
    "start_time": "2021-12-18T10:35:58.627Z"
   },
   {
    "duration": 75,
    "start_time": "2021-12-18T10:35:58.641Z"
   },
   {
    "duration": 27,
    "start_time": "2021-12-18T10:35:58.718Z"
   },
   {
    "duration": 20,
    "start_time": "2021-12-18T10:35:58.747Z"
   },
   {
    "duration": 41,
    "start_time": "2021-12-18T10:35:58.769Z"
   },
   {
    "duration": 8,
    "start_time": "2021-12-18T10:35:58.812Z"
   },
   {
    "duration": 9,
    "start_time": "2021-12-18T10:35:58.822Z"
   },
   {
    "duration": 5,
    "start_time": "2021-12-18T10:35:58.833Z"
   },
   {
    "duration": 6,
    "start_time": "2021-12-18T10:35:58.839Z"
   },
   {
    "duration": 432,
    "start_time": "2021-12-18T10:35:58.847Z"
   },
   {
    "duration": 382,
    "start_time": "2021-12-18T10:37:10.805Z"
   },
   {
    "duration": 6,
    "start_time": "2021-12-18T10:37:30.663Z"
   },
   {
    "duration": 18,
    "start_time": "2021-12-18T10:37:39.856Z"
   },
   {
    "duration": 19,
    "start_time": "2021-12-18T10:37:50.814Z"
   },
   {
    "duration": 5,
    "start_time": "2021-12-18T10:38:50.808Z"
   },
   {
    "duration": 327,
    "start_time": "2021-12-18T10:48:00.413Z"
   },
   {
    "duration": 20,
    "start_time": "2021-12-18T10:48:43.338Z"
   },
   {
    "duration": 3,
    "start_time": "2021-12-18T10:53:14.818Z"
   },
   {
    "duration": 4,
    "start_time": "2021-12-18T10:53:18.843Z"
   },
   {
    "duration": 337,
    "start_time": "2021-12-18T10:55:48.746Z"
   },
   {
    "duration": 344,
    "start_time": "2021-12-18T10:56:27.323Z"
   },
   {
    "duration": 6,
    "start_time": "2021-12-18T10:56:54.859Z"
   },
   {
    "duration": 5,
    "start_time": "2021-12-18T10:57:07.550Z"
   },
   {
    "duration": 341,
    "start_time": "2021-12-18T10:57:29.143Z"
   },
   {
    "duration": 336,
    "start_time": "2021-12-18T10:59:41.941Z"
   },
   {
    "duration": 345,
    "start_time": "2021-12-18T10:59:56.300Z"
   },
   {
    "duration": 6,
    "start_time": "2021-12-18T11:01:56.439Z"
   },
   {
    "duration": 21,
    "start_time": "2021-12-18T11:02:21.185Z"
   },
   {
    "duration": 23,
    "start_time": "2021-12-18T11:02:47.579Z"
   },
   {
    "duration": 21,
    "start_time": "2021-12-18T11:04:47.484Z"
   },
   {
    "duration": 7,
    "start_time": "2021-12-18T11:10:16.722Z"
   },
   {
    "duration": 665,
    "start_time": "2021-12-18T11:12:15.720Z"
   },
   {
    "duration": 433,
    "start_time": "2021-12-18T11:12:16.388Z"
   },
   {
    "duration": 22,
    "start_time": "2021-12-18T11:12:16.823Z"
   },
   {
    "duration": 42,
    "start_time": "2021-12-18T11:12:16.847Z"
   },
   {
    "duration": 28,
    "start_time": "2021-12-18T11:12:16.891Z"
   },
   {
    "duration": 32,
    "start_time": "2021-12-18T11:12:16.921Z"
   },
   {
    "duration": 16,
    "start_time": "2021-12-18T11:12:16.956Z"
   },
   {
    "duration": 42,
    "start_time": "2021-12-18T11:12:16.975Z"
   },
   {
    "duration": 8,
    "start_time": "2021-12-18T11:12:17.019Z"
   },
   {
    "duration": 8,
    "start_time": "2021-12-18T11:12:17.029Z"
   },
   {
    "duration": 16,
    "start_time": "2021-12-18T11:12:17.039Z"
   },
   {
    "duration": 145,
    "start_time": "2021-12-18T11:12:17.057Z"
   },
   {
    "duration": 19,
    "start_time": "2021-12-18T11:12:17.204Z"
   },
   {
    "duration": 12,
    "start_time": "2021-12-18T11:12:17.225Z"
   },
   {
    "duration": 76,
    "start_time": "2021-12-18T11:12:17.238Z"
   },
   {
    "duration": 27,
    "start_time": "2021-12-18T11:12:17.316Z"
   },
   {
    "duration": 18,
    "start_time": "2021-12-18T11:12:17.345Z"
   },
   {
    "duration": 21,
    "start_time": "2021-12-18T11:12:17.365Z"
   },
   {
    "duration": 18,
    "start_time": "2021-12-18T11:12:17.388Z"
   },
   {
    "duration": 4,
    "start_time": "2021-12-18T11:12:17.408Z"
   },
   {
    "duration": 12,
    "start_time": "2021-12-18T11:12:17.414Z"
   },
   {
    "duration": 6,
    "start_time": "2021-12-18T11:12:17.429Z"
   },
   {
    "duration": 21,
    "start_time": "2021-12-18T11:12:17.436Z"
   },
   {
    "duration": 7,
    "start_time": "2021-12-18T11:12:17.459Z"
   },
   {
    "duration": 7,
    "start_time": "2021-12-18T11:12:29.541Z"
   },
   {
    "duration": 22,
    "start_time": "2021-12-18T11:13:22.801Z"
   },
   {
    "duration": 606,
    "start_time": "2021-12-18T11:14:21.242Z"
   },
   {
    "duration": 405,
    "start_time": "2021-12-18T11:14:21.850Z"
   },
   {
    "duration": 22,
    "start_time": "2021-12-18T11:14:22.258Z"
   },
   {
    "duration": 35,
    "start_time": "2021-12-18T11:14:22.282Z"
   },
   {
    "duration": 17,
    "start_time": "2021-12-18T11:14:22.319Z"
   },
   {
    "duration": 29,
    "start_time": "2021-12-18T11:14:22.337Z"
   },
   {
    "duration": 42,
    "start_time": "2021-12-18T11:14:22.369Z"
   },
   {
    "duration": 13,
    "start_time": "2021-12-18T11:14:22.413Z"
   },
   {
    "duration": 7,
    "start_time": "2021-12-18T11:14:22.428Z"
   },
   {
    "duration": 10,
    "start_time": "2021-12-18T11:14:22.436Z"
   },
   {
    "duration": 17,
    "start_time": "2021-12-18T11:14:22.448Z"
   },
   {
    "duration": 137,
    "start_time": "2021-12-18T11:14:22.467Z"
   },
   {
    "duration": 17,
    "start_time": "2021-12-18T11:14:22.605Z"
   },
   {
    "duration": 11,
    "start_time": "2021-12-18T11:14:22.623Z"
   },
   {
    "duration": 70,
    "start_time": "2021-12-18T11:14:22.636Z"
   },
   {
    "duration": 25,
    "start_time": "2021-12-18T11:14:22.708Z"
   },
   {
    "duration": 18,
    "start_time": "2021-12-18T11:14:22.735Z"
   },
   {
    "duration": 17,
    "start_time": "2021-12-18T11:14:22.754Z"
   },
   {
    "duration": 7,
    "start_time": "2021-12-18T11:14:22.773Z"
   },
   {
    "duration": 7,
    "start_time": "2021-12-18T11:14:35.759Z"
   },
   {
    "duration": 4,
    "start_time": "2021-12-18T11:14:50.399Z"
   },
   {
    "duration": 9,
    "start_time": "2021-12-18T11:15:14.516Z"
   },
   {
    "duration": 5,
    "start_time": "2021-12-18T11:15:18.755Z"
   },
   {
    "duration": 7,
    "start_time": "2021-12-18T11:15:21.141Z"
   },
   {
    "duration": 8,
    "start_time": "2021-12-18T11:15:22.677Z"
   },
   {
    "duration": 7,
    "start_time": "2021-12-18T11:15:34.176Z"
   },
   {
    "duration": 7,
    "start_time": "2021-12-18T11:15:49.395Z"
   },
   {
    "duration": 447,
    "start_time": "2021-12-18T14:12:30.792Z"
   },
   {
    "duration": 67,
    "start_time": "2021-12-18T14:12:37.418Z"
   },
   {
    "duration": 420,
    "start_time": "2021-12-18T14:12:50.047Z"
   },
   {
    "duration": 12,
    "start_time": "2021-12-18T14:12:58.504Z"
   },
   {
    "duration": 13,
    "start_time": "2021-12-18T14:15:09.602Z"
   },
   {
    "duration": 20,
    "start_time": "2021-12-18T14:15:34.822Z"
   },
   {
    "duration": 351,
    "start_time": "2021-12-18T14:16:28.592Z"
   },
   {
    "duration": 5,
    "start_time": "2021-12-18T14:16:37.852Z"
   },
   {
    "duration": 14,
    "start_time": "2021-12-18T14:18:50.674Z"
   },
   {
    "duration": 431,
    "start_time": "2021-12-18T14:29:39.024Z"
   },
   {
    "duration": 355,
    "start_time": "2021-12-18T14:32:03.508Z"
   },
   {
    "duration": 9099,
    "start_time": "2021-12-18T14:32:10.534Z"
   },
   {
    "duration": 173,
    "start_time": "2021-12-18T14:33:33.861Z"
   },
   {
    "duration": 28,
    "start_time": "2021-12-18T14:33:45.006Z"
   },
   {
    "duration": 423,
    "start_time": "2021-12-18T14:34:03.055Z"
   },
   {
    "duration": 579,
    "start_time": "2021-12-18T14:34:12.000Z"
   },
   {
    "duration": 376,
    "start_time": "2021-12-18T14:34:41.473Z"
   },
   {
    "duration": 301,
    "start_time": "2021-12-18T14:34:47.300Z"
   },
   {
    "duration": 365,
    "start_time": "2021-12-18T14:34:53.934Z"
   },
   {
    "duration": 366,
    "start_time": "2021-12-18T14:35:37.485Z"
   },
   {
    "duration": 464,
    "start_time": "2021-12-18T14:35:44.364Z"
   },
   {
    "duration": 381,
    "start_time": "2021-12-18T14:35:47.558Z"
   },
   {
    "duration": 398,
    "start_time": "2021-12-18T14:36:30.823Z"
   },
   {
    "duration": 387,
    "start_time": "2021-12-18T14:36:38.208Z"
   },
   {
    "duration": 3,
    "start_time": "2021-12-18T14:37:46.323Z"
   },
   {
    "duration": 893,
    "start_time": "2021-12-18T14:38:32.508Z"
   },
   {
    "duration": 3,
    "start_time": "2021-12-18T14:39:05.450Z"
   },
   {
    "duration": 515,
    "start_time": "2021-12-18T14:39:10.528Z"
   },
   {
    "duration": 525,
    "start_time": "2021-12-18T14:39:32.721Z"
   },
   {
    "duration": 119,
    "start_time": "2021-12-18T14:40:10.047Z"
   },
   {
    "duration": 691,
    "start_time": "2021-12-18T14:40:12.865Z"
   },
   {
    "duration": 389,
    "start_time": "2021-12-18T14:40:23.695Z"
   },
   {
    "duration": 902,
    "start_time": "2021-12-18T14:41:54.074Z"
   },
   {
    "duration": 662,
    "start_time": "2021-12-18T14:42:44.134Z"
   },
   {
    "duration": 2049,
    "start_time": "2021-12-18T14:47:34.059Z"
   },
   {
    "duration": 531,
    "start_time": "2021-12-18T14:47:48.293Z"
   },
   {
    "duration": 541,
    "start_time": "2021-12-18T14:49:05.471Z"
   },
   {
    "duration": 710,
    "start_time": "2021-12-18T14:49:16.302Z"
   },
   {
    "duration": 904,
    "start_time": "2021-12-18T14:49:19.614Z"
   },
   {
    "duration": 583,
    "start_time": "2021-12-18T14:51:59.196Z"
   },
   {
    "duration": 635,
    "start_time": "2021-12-18T14:52:11.675Z"
   },
   {
    "duration": 762,
    "start_time": "2021-12-18T14:53:51.770Z"
   },
   {
    "duration": 771,
    "start_time": "2021-12-18T14:54:09.616Z"
   },
   {
    "duration": 1250,
    "start_time": "2021-12-18T14:54:14.496Z"
   },
   {
    "duration": 618,
    "start_time": "2021-12-18T14:54:18.388Z"
   },
   {
    "duration": 606,
    "start_time": "2021-12-18T14:54:40.445Z"
   },
   {
    "duration": 383,
    "start_time": "2021-12-18T14:54:57.323Z"
   },
   {
    "duration": 361,
    "start_time": "2021-12-18T14:55:02.496Z"
   },
   {
    "duration": 642,
    "start_time": "2021-12-18T14:55:08.813Z"
   },
   {
    "duration": 615,
    "start_time": "2021-12-18T14:55:21.459Z"
   },
   {
    "duration": 754,
    "start_time": "2021-12-18T14:55:28.531Z"
   },
   {
    "duration": 786,
    "start_time": "2021-12-18T14:57:06.602Z"
   },
   {
    "duration": 752,
    "start_time": "2021-12-18T14:57:19.657Z"
   },
   {
    "duration": 1143,
    "start_time": "2021-12-18T14:57:29.910Z"
   },
   {
    "duration": 560,
    "start_time": "2021-12-18T15:00:00.574Z"
   },
   {
    "duration": 371,
    "start_time": "2021-12-18T15:00:19.223Z"
   },
   {
    "duration": 623,
    "start_time": "2021-12-18T15:00:53.035Z"
   },
   {
    "duration": 638,
    "start_time": "2021-12-18T15:02:08.675Z"
   },
   {
    "duration": 791,
    "start_time": "2021-12-18T15:02:34.922Z"
   },
   {
    "duration": 330,
    "start_time": "2021-12-18T15:02:41.371Z"
   },
   {
    "duration": 652,
    "start_time": "2021-12-18T15:04:13.905Z"
   },
   {
    "duration": 414,
    "start_time": "2021-12-18T15:04:18.277Z"
   },
   {
    "duration": 432,
    "start_time": "2021-12-18T15:04:27.349Z"
   },
   {
    "duration": 4,
    "start_time": "2021-12-18T15:06:36.959Z"
   },
   {
    "duration": 4,
    "start_time": "2021-12-18T15:06:44.024Z"
   },
   {
    "duration": 4,
    "start_time": "2021-12-18T15:08:23.223Z"
   },
   {
    "duration": 5,
    "start_time": "2021-12-18T15:09:15.892Z"
   },
   {
    "duration": 4,
    "start_time": "2021-12-18T15:09:26.484Z"
   },
   {
    "duration": 540,
    "start_time": "2021-12-18T15:21:37.849Z"
   },
   {
    "duration": 418,
    "start_time": "2021-12-18T15:25:18.081Z"
   },
   {
    "duration": 298,
    "start_time": "2021-12-18T15:25:22.365Z"
   },
   {
    "duration": 424,
    "start_time": "2021-12-18T15:25:25.382Z"
   },
   {
    "duration": 962,
    "start_time": "2021-12-18T15:41:09.077Z"
   },
   {
    "duration": 23,
    "start_time": "2021-12-18T15:41:21.496Z"
   },
   {
    "duration": 13,
    "start_time": "2021-12-18T15:42:20.610Z"
   },
   {
    "duration": 11,
    "start_time": "2021-12-18T15:42:45.362Z"
   },
   {
    "duration": 351,
    "start_time": "2021-12-18T15:43:28.054Z"
   },
   {
    "duration": 13,
    "start_time": "2021-12-18T15:43:40.021Z"
   },
   {
    "duration": 16,
    "start_time": "2021-12-18T15:43:54.533Z"
   },
   {
    "duration": 11,
    "start_time": "2021-12-18T15:48:26.388Z"
   },
   {
    "duration": 12,
    "start_time": "2021-12-18T15:48:40.861Z"
   },
   {
    "duration": 18,
    "start_time": "2021-12-18T15:50:14.929Z"
   },
   {
    "duration": 15,
    "start_time": "2021-12-18T15:52:31.607Z"
   },
   {
    "duration": 16,
    "start_time": "2021-12-18T15:52:48.066Z"
   },
   {
    "duration": 16,
    "start_time": "2021-12-18T15:52:56.192Z"
   },
   {
    "duration": 130,
    "start_time": "2021-12-18T15:55:37.216Z"
   },
   {
    "duration": 394,
    "start_time": "2021-12-18T15:55:53.288Z"
   },
   {
    "duration": 10,
    "start_time": "2021-12-18T15:56:26.704Z"
   },
   {
    "duration": 9,
    "start_time": "2021-12-18T15:56:31.122Z"
   },
   {
    "duration": 13,
    "start_time": "2021-12-18T15:57:10.275Z"
   },
   {
    "duration": 12,
    "start_time": "2021-12-18T15:57:16.712Z"
   },
   {
    "duration": 20,
    "start_time": "2021-12-18T15:58:21.067Z"
   },
   {
    "duration": 11,
    "start_time": "2021-12-18T16:06:02.210Z"
   },
   {
    "duration": 5,
    "start_time": "2021-12-18T16:06:51.756Z"
   },
   {
    "duration": 178,
    "start_time": "2021-12-18T16:08:13.410Z"
   },
   {
    "duration": 11,
    "start_time": "2021-12-18T16:08:44.720Z"
   },
   {
    "duration": 4,
    "start_time": "2021-12-18T16:08:49.537Z"
   },
   {
    "duration": 9,
    "start_time": "2021-12-18T19:18:37.249Z"
   },
   {
    "duration": 25,
    "start_time": "2021-12-18T20:11:44.232Z"
   },
   {
    "duration": 353,
    "start_time": "2021-12-18T20:11:56.551Z"
   },
   {
    "duration": 26,
    "start_time": "2021-12-18T20:12:02.076Z"
   },
   {
    "duration": 25,
    "start_time": "2021-12-18T20:12:45.976Z"
   },
   {
    "duration": 26,
    "start_time": "2021-12-18T20:13:08.812Z"
   },
   {
    "duration": 26,
    "start_time": "2021-12-18T20:13:46.451Z"
   },
   {
    "duration": 4,
    "start_time": "2021-12-18T20:18:24.669Z"
   },
   {
    "duration": 386,
    "start_time": "2021-12-18T20:22:36.532Z"
   },
   {
    "duration": 351,
    "start_time": "2021-12-18T20:23:01.194Z"
   },
   {
    "duration": 4,
    "start_time": "2021-12-18T20:23:20.814Z"
   },
   {
    "duration": 5,
    "start_time": "2021-12-18T20:23:31.470Z"
   },
   {
    "duration": 4,
    "start_time": "2021-12-18T20:24:13.722Z"
   },
   {
    "duration": 8,
    "start_time": "2021-12-18T20:25:57.349Z"
   },
   {
    "duration": 4,
    "start_time": "2021-12-18T20:26:16.310Z"
   },
   {
    "duration": 5,
    "start_time": "2021-12-18T20:26:52.724Z"
   },
   {
    "duration": 14,
    "start_time": "2021-12-18T20:45:34.695Z"
   },
   {
    "duration": 13,
    "start_time": "2021-12-18T20:45:49.948Z"
   },
   {
    "duration": 1480,
    "start_time": "2021-12-18T21:10:31.307Z"
   },
   {
    "duration": 419,
    "start_time": "2021-12-18T21:10:32.789Z"
   },
   {
    "duration": 20,
    "start_time": "2021-12-18T21:10:33.211Z"
   },
   {
    "duration": 32,
    "start_time": "2021-12-18T21:10:33.233Z"
   },
   {
    "duration": 16,
    "start_time": "2021-12-18T21:10:33.267Z"
   },
   {
    "duration": 27,
    "start_time": "2021-12-18T21:10:33.306Z"
   },
   {
    "duration": 14,
    "start_time": "2021-12-18T21:10:33.335Z"
   },
   {
    "duration": 13,
    "start_time": "2021-12-18T21:10:33.351Z"
   },
   {
    "duration": 6,
    "start_time": "2021-12-18T21:10:33.365Z"
   },
   {
    "duration": 37,
    "start_time": "2021-12-18T21:10:33.373Z"
   },
   {
    "duration": 13,
    "start_time": "2021-12-18T21:10:33.412Z"
   },
   {
    "duration": 122,
    "start_time": "2021-12-18T21:10:33.427Z"
   },
   {
    "duration": 19,
    "start_time": "2021-12-18T21:10:33.550Z"
   },
   {
    "duration": 12,
    "start_time": "2021-12-18T21:10:33.571Z"
   },
   {
    "duration": 67,
    "start_time": "2021-12-18T21:10:33.584Z"
   },
   {
    "duration": 28,
    "start_time": "2021-12-18T21:10:33.652Z"
   },
   {
    "duration": 33,
    "start_time": "2021-12-18T21:10:33.682Z"
   },
   {
    "duration": 19,
    "start_time": "2021-12-18T21:10:33.717Z"
   },
   {
    "duration": 3,
    "start_time": "2021-12-18T21:10:33.738Z"
   },
   {
    "duration": 12,
    "start_time": "2021-12-18T21:10:33.743Z"
   },
   {
    "duration": 4,
    "start_time": "2021-12-18T21:10:33.757Z"
   },
   {
    "duration": 6,
    "start_time": "2021-12-18T21:10:33.763Z"
   },
   {
    "duration": 37,
    "start_time": "2021-12-18T21:10:33.772Z"
   },
   {
    "duration": 13,
    "start_time": "2021-12-18T21:10:33.811Z"
   },
   {
    "duration": 12,
    "start_time": "2021-12-18T21:10:33.826Z"
   },
   {
    "duration": 430,
    "start_time": "2021-12-18T21:10:33.840Z"
   },
   {
    "duration": 4,
    "start_time": "2021-12-18T21:10:34.272Z"
   },
   {
    "duration": 28,
    "start_time": "2021-12-18T21:10:34.278Z"
   },
   {
    "duration": 299,
    "start_time": "2021-12-18T21:10:34.308Z"
   },
   {
    "duration": 3,
    "start_time": "2021-12-18T21:10:34.609Z"
   },
   {
    "duration": 12,
    "start_time": "2021-12-18T21:10:34.614Z"
   },
   {
    "duration": 416,
    "start_time": "2021-12-18T21:10:34.628Z"
   },
   {
    "duration": 4,
    "start_time": "2021-12-18T21:10:35.045Z"
   },
   {
    "duration": 10,
    "start_time": "2021-12-18T21:10:35.051Z"
   },
   {
    "duration": 3,
    "start_time": "2021-12-18T21:10:35.063Z"
   },
   {
    "duration": 10,
    "start_time": "2021-12-18T21:10:35.068Z"
   },
   {
    "duration": 30,
    "start_time": "2021-12-18T21:10:35.079Z"
   },
   {
    "duration": 13,
    "start_time": "2021-12-18T21:12:45.774Z"
   },
   {
    "duration": 407,
    "start_time": "2021-12-18T21:13:10.166Z"
   },
   {
    "duration": 13,
    "start_time": "2021-12-18T21:13:28.477Z"
   },
   {
    "duration": 412,
    "start_time": "2021-12-18T21:13:33.330Z"
   },
   {
    "duration": 362,
    "start_time": "2021-12-18T21:13:54.325Z"
   },
   {
    "duration": 15,
    "start_time": "2021-12-18T21:14:05.951Z"
   },
   {
    "duration": 413,
    "start_time": "2021-12-18T21:14:20.804Z"
   },
   {
    "duration": 12,
    "start_time": "2021-12-18T21:15:02.471Z"
   },
   {
    "duration": 4,
    "start_time": "2021-12-18T21:15:44.401Z"
   },
   {
    "duration": 380,
    "start_time": "2021-12-18T21:20:25.414Z"
   },
   {
    "duration": 118,
    "start_time": "2021-12-18T21:20:46.992Z"
   },
   {
    "duration": 45,
    "start_time": "2021-12-18T21:25:23.244Z"
   },
   {
    "duration": 6,
    "start_time": "2021-12-18T21:26:15.411Z"
   },
   {
    "duration": 6,
    "start_time": "2021-12-18T21:26:50.968Z"
   },
   {
    "duration": 4,
    "start_time": "2021-12-18T21:31:32.608Z"
   },
   {
    "duration": 4,
    "start_time": "2021-12-18T21:32:15.758Z"
   },
   {
    "duration": 5,
    "start_time": "2021-12-18T21:35:19.687Z"
   },
   {
    "duration": 113,
    "start_time": "2021-12-18T21:35:28.314Z"
   },
   {
    "duration": 5,
    "start_time": "2021-12-18T21:35:33.510Z"
   },
   {
    "duration": 159,
    "start_time": "2021-12-18T21:37:20.716Z"
   },
   {
    "duration": 5,
    "start_time": "2021-12-18T21:37:25.137Z"
   },
   {
    "duration": 4,
    "start_time": "2021-12-18T21:37:31.447Z"
   },
   {
    "duration": 1099,
    "start_time": "2021-12-18T21:38:04.189Z"
   },
   {
    "duration": 407,
    "start_time": "2021-12-18T21:38:05.289Z"
   },
   {
    "duration": 20,
    "start_time": "2021-12-18T21:38:05.698Z"
   },
   {
    "duration": 32,
    "start_time": "2021-12-18T21:38:05.719Z"
   },
   {
    "duration": 16,
    "start_time": "2021-12-18T21:38:05.753Z"
   },
   {
    "duration": 51,
    "start_time": "2021-12-18T21:38:05.771Z"
   },
   {
    "duration": 13,
    "start_time": "2021-12-18T21:38:05.824Z"
   },
   {
    "duration": 14,
    "start_time": "2021-12-18T21:38:05.840Z"
   },
   {
    "duration": 6,
    "start_time": "2021-12-18T21:38:05.856Z"
   },
   {
    "duration": 9,
    "start_time": "2021-12-18T21:38:05.863Z"
   },
   {
    "duration": 42,
    "start_time": "2021-12-18T21:38:05.874Z"
   },
   {
    "duration": 116,
    "start_time": "2021-12-18T21:38:05.918Z"
   },
   {
    "duration": 19,
    "start_time": "2021-12-18T21:38:06.036Z"
   },
   {
    "duration": 14,
    "start_time": "2021-12-18T21:38:06.057Z"
   },
   {
    "duration": 76,
    "start_time": "2021-12-18T21:38:06.073Z"
   },
   {
    "duration": 26,
    "start_time": "2021-12-18T21:38:06.151Z"
   },
   {
    "duration": 40,
    "start_time": "2021-12-18T21:38:06.179Z"
   },
   {
    "duration": 18,
    "start_time": "2021-12-18T21:38:06.221Z"
   },
   {
    "duration": 4,
    "start_time": "2021-12-18T21:38:06.240Z"
   },
   {
    "duration": 8,
    "start_time": "2021-12-18T21:38:06.246Z"
   },
   {
    "duration": 4,
    "start_time": "2021-12-18T21:38:06.256Z"
   },
   {
    "duration": 8,
    "start_time": "2021-12-18T21:38:06.261Z"
   },
   {
    "duration": 37,
    "start_time": "2021-12-18T21:38:06.272Z"
   },
   {
    "duration": 14,
    "start_time": "2021-12-18T21:38:06.311Z"
   },
   {
    "duration": 12,
    "start_time": "2021-12-18T21:38:06.326Z"
   },
   {
    "duration": 433,
    "start_time": "2021-12-18T21:38:06.339Z"
   },
   {
    "duration": 3,
    "start_time": "2021-12-18T21:38:06.774Z"
   },
   {
    "duration": 14,
    "start_time": "2021-12-18T21:38:06.779Z"
   },
   {
    "duration": 305,
    "start_time": "2021-12-18T21:38:06.794Z"
   },
   {
    "duration": 7,
    "start_time": "2021-12-18T21:38:07.100Z"
   },
   {
    "duration": 12,
    "start_time": "2021-12-18T21:38:07.108Z"
   },
   {
    "duration": 400,
    "start_time": "2021-12-18T21:38:07.122Z"
   },
   {
    "duration": 3,
    "start_time": "2021-12-18T21:38:07.524Z"
   },
   {
    "duration": 10,
    "start_time": "2021-12-18T21:38:07.528Z"
   },
   {
    "duration": 3,
    "start_time": "2021-12-18T21:38:07.540Z"
   },
   {
    "duration": 13,
    "start_time": "2021-12-18T21:38:07.544Z"
   },
   {
    "duration": 113,
    "start_time": "2021-12-18T21:38:07.559Z"
   },
   {
    "duration": 4,
    "start_time": "2021-12-18T21:39:46.371Z"
   },
   {
    "duration": 1093,
    "start_time": "2021-12-18T21:40:00.346Z"
   },
   {
    "duration": 413,
    "start_time": "2021-12-18T21:40:01.442Z"
   },
   {
    "duration": 21,
    "start_time": "2021-12-18T21:40:01.860Z"
   },
   {
    "duration": 34,
    "start_time": "2021-12-18T21:40:01.883Z"
   },
   {
    "duration": 17,
    "start_time": "2021-12-18T21:40:01.919Z"
   },
   {
    "duration": 29,
    "start_time": "2021-12-18T21:40:01.939Z"
   },
   {
    "duration": 36,
    "start_time": "2021-12-18T21:40:01.971Z"
   },
   {
    "duration": 15,
    "start_time": "2021-12-18T21:40:02.010Z"
   },
   {
    "duration": 16,
    "start_time": "2021-12-18T21:40:02.027Z"
   },
   {
    "duration": 16,
    "start_time": "2021-12-18T21:40:02.045Z"
   },
   {
    "duration": 17,
    "start_time": "2021-12-18T21:40:02.063Z"
   },
   {
    "duration": 124,
    "start_time": "2021-12-18T21:40:02.082Z"
   },
   {
    "duration": 18,
    "start_time": "2021-12-18T21:40:02.208Z"
   },
   {
    "duration": 11,
    "start_time": "2021-12-18T21:40:02.228Z"
   },
   {
    "duration": 69,
    "start_time": "2021-12-18T21:40:02.241Z"
   },
   {
    "duration": 26,
    "start_time": "2021-12-18T21:40:02.312Z"
   },
   {
    "duration": 18,
    "start_time": "2021-12-18T21:40:02.340Z"
   },
   {
    "duration": 16,
    "start_time": "2021-12-18T21:40:02.360Z"
   },
   {
    "duration": 3,
    "start_time": "2021-12-18T21:40:02.378Z"
   },
   {
    "duration": 7,
    "start_time": "2021-12-18T21:40:02.407Z"
   },
   {
    "duration": 4,
    "start_time": "2021-12-18T21:40:02.416Z"
   },
   {
    "duration": 6,
    "start_time": "2021-12-18T21:40:02.423Z"
   },
   {
    "duration": 10,
    "start_time": "2021-12-18T21:40:02.431Z"
   },
   {
    "duration": 13,
    "start_time": "2021-12-18T21:40:02.444Z"
   },
   {
    "duration": 12,
    "start_time": "2021-12-18T21:40:02.458Z"
   },
   {
    "duration": 455,
    "start_time": "2021-12-18T21:40:02.472Z"
   },
   {
    "duration": 3,
    "start_time": "2021-12-18T21:40:02.929Z"
   },
   {
    "duration": 14,
    "start_time": "2021-12-18T21:40:02.934Z"
   },
   {
    "duration": 310,
    "start_time": "2021-12-18T21:40:02.950Z"
   },
   {
    "duration": 3,
    "start_time": "2021-12-18T21:40:03.262Z"
   },
   {
    "duration": 15,
    "start_time": "2021-12-18T21:40:03.267Z"
   },
   {
    "duration": 442,
    "start_time": "2021-12-18T21:40:03.284Z"
   },
   {
    "duration": 3,
    "start_time": "2021-12-18T21:40:03.729Z"
   },
   {
    "duration": 17,
    "start_time": "2021-12-18T21:40:03.734Z"
   },
   {
    "duration": 9,
    "start_time": "2021-12-18T21:40:03.752Z"
   },
   {
    "duration": 12,
    "start_time": "2021-12-18T21:40:03.762Z"
   },
   {
    "duration": 6,
    "start_time": "2021-12-18T21:40:03.776Z"
   },
   {
    "duration": 1335,
    "start_time": "2021-12-19T16:31:01.044Z"
   },
   {
    "duration": 461,
    "start_time": "2021-12-19T16:31:02.382Z"
   },
   {
    "duration": 31,
    "start_time": "2021-12-19T16:31:02.846Z"
   },
   {
    "duration": 73,
    "start_time": "2021-12-19T16:31:02.880Z"
   },
   {
    "duration": 23,
    "start_time": "2021-12-19T16:31:02.956Z"
   },
   {
    "duration": 73,
    "start_time": "2021-12-19T16:31:02.982Z"
   },
   {
    "duration": 21,
    "start_time": "2021-12-19T16:31:03.058Z"
   },
   {
    "duration": 26,
    "start_time": "2021-12-19T16:31:03.083Z"
   },
   {
    "duration": 25,
    "start_time": "2021-12-19T16:31:03.112Z"
   },
   {
    "duration": 21,
    "start_time": "2021-12-19T16:31:03.140Z"
   },
   {
    "duration": 45,
    "start_time": "2021-12-19T16:31:03.164Z"
   },
   {
    "duration": 150,
    "start_time": "2021-12-19T16:31:03.212Z"
   },
   {
    "duration": 22,
    "start_time": "2021-12-19T16:31:03.364Z"
   },
   {
    "duration": 21,
    "start_time": "2021-12-19T16:31:03.388Z"
   },
   {
    "duration": 92,
    "start_time": "2021-12-19T16:31:03.424Z"
   },
   {
    "duration": 36,
    "start_time": "2021-12-19T16:31:03.518Z"
   },
   {
    "duration": 28,
    "start_time": "2021-12-19T16:31:03.557Z"
   },
   {
    "duration": 42,
    "start_time": "2021-12-19T16:31:03.588Z"
   },
   {
    "duration": 5,
    "start_time": "2021-12-19T16:31:03.632Z"
   },
   {
    "duration": 32,
    "start_time": "2021-12-19T16:31:03.640Z"
   },
   {
    "duration": 17,
    "start_time": "2021-12-19T16:31:03.674Z"
   },
   {
    "duration": 32,
    "start_time": "2021-12-19T16:31:03.694Z"
   },
   {
    "duration": 36,
    "start_time": "2021-12-19T16:31:03.731Z"
   },
   {
    "duration": 29,
    "start_time": "2021-12-19T16:31:03.769Z"
   },
   {
    "duration": 18,
    "start_time": "2021-12-19T16:31:03.800Z"
   },
   {
    "duration": 684,
    "start_time": "2021-12-19T16:31:03.820Z"
   },
   {
    "duration": 5,
    "start_time": "2021-12-19T16:31:04.506Z"
   },
   {
    "duration": 17,
    "start_time": "2021-12-19T16:31:04.524Z"
   },
   {
    "duration": 528,
    "start_time": "2021-12-19T16:31:04.543Z"
   },
   {
    "duration": 6,
    "start_time": "2021-12-19T16:31:05.074Z"
   },
   {
    "duration": 38,
    "start_time": "2021-12-19T16:31:05.082Z"
   },
   {
    "duration": 674,
    "start_time": "2021-12-19T16:31:05.123Z"
   },
   {
    "duration": 4,
    "start_time": "2021-12-19T16:31:05.800Z"
   },
   {
    "duration": 25,
    "start_time": "2021-12-19T16:31:05.807Z"
   },
   {
    "duration": 26,
    "start_time": "2021-12-19T16:31:05.835Z"
   },
   {
    "duration": 42,
    "start_time": "2021-12-19T16:31:05.864Z"
   },
   {
    "duration": 20,
    "start_time": "2021-12-19T16:31:05.909Z"
   },
   {
    "duration": 167,
    "start_time": "2021-12-19T16:45:34.046Z"
   },
   {
    "duration": 181,
    "start_time": "2021-12-19T16:45:42.186Z"
   },
   {
    "duration": 31,
    "start_time": "2021-12-19T16:50:42.291Z"
   },
   {
    "duration": 11,
    "start_time": "2021-12-19T16:56:12.455Z"
   },
   {
    "duration": 25,
    "start_time": "2021-12-19T16:59:08.336Z"
   },
   {
    "duration": 1486,
    "start_time": "2021-12-19T20:43:37.569Z"
   },
   {
    "duration": 569,
    "start_time": "2021-12-19T20:43:39.058Z"
   },
   {
    "duration": 29,
    "start_time": "2021-12-19T20:43:39.630Z"
   },
   {
    "duration": 45,
    "start_time": "2021-12-19T20:43:39.662Z"
   },
   {
    "duration": 24,
    "start_time": "2021-12-19T20:43:39.710Z"
   },
   {
    "duration": 59,
    "start_time": "2021-12-19T20:43:39.736Z"
   },
   {
    "duration": 19,
    "start_time": "2021-12-19T20:43:39.797Z"
   },
   {
    "duration": 20,
    "start_time": "2021-12-19T20:43:39.820Z"
   },
   {
    "duration": 32,
    "start_time": "2021-12-19T20:43:39.842Z"
   },
   {
    "duration": 14,
    "start_time": "2021-12-19T20:43:39.877Z"
   },
   {
    "duration": 24,
    "start_time": "2021-12-19T20:43:39.894Z"
   },
   {
    "duration": 201,
    "start_time": "2021-12-19T20:43:39.921Z"
   },
   {
    "duration": 37,
    "start_time": "2021-12-19T20:43:41.928Z"
   },
   {
    "duration": 26,
    "start_time": "2021-12-19T20:43:54.304Z"
   },
   {
    "duration": 6,
    "start_time": "2021-12-19T20:49:25.722Z"
   },
   {
    "duration": 4,
    "start_time": "2021-12-19T20:49:34.637Z"
   },
   {
    "duration": 579,
    "start_time": "2021-12-19T20:49:34.644Z"
   },
   {
    "duration": 33,
    "start_time": "2021-12-19T20:49:35.226Z"
   },
   {
    "duration": 36,
    "start_time": "2021-12-19T20:49:35.262Z"
   },
   {
    "duration": 23,
    "start_time": "2021-12-19T20:49:35.300Z"
   },
   {
    "duration": 64,
    "start_time": "2021-12-19T20:49:35.325Z"
   },
   {
    "duration": 20,
    "start_time": "2021-12-19T20:49:35.391Z"
   },
   {
    "duration": 19,
    "start_time": "2021-12-19T20:49:35.414Z"
   },
   {
    "duration": 39,
    "start_time": "2021-12-19T20:49:35.435Z"
   },
   {
    "duration": 12,
    "start_time": "2021-12-19T20:49:35.476Z"
   },
   {
    "duration": 24,
    "start_time": "2021-12-19T20:49:35.490Z"
   },
   {
    "duration": 168,
    "start_time": "2021-12-19T20:49:35.517Z"
   },
   {
    "duration": 6,
    "start_time": "2021-12-19T20:49:37.022Z"
   },
   {
    "duration": 19,
    "start_time": "2021-12-19T20:49:46.806Z"
   },
   {
    "duration": 4,
    "start_time": "2021-12-19T20:50:41.741Z"
   },
   {
    "duration": 551,
    "start_time": "2021-12-19T20:50:41.748Z"
   },
   {
    "duration": 28,
    "start_time": "2021-12-19T20:50:42.302Z"
   },
   {
    "duration": 36,
    "start_time": "2021-12-19T20:50:42.333Z"
   },
   {
    "duration": 26,
    "start_time": "2021-12-19T20:50:42.371Z"
   },
   {
    "duration": 39,
    "start_time": "2021-12-19T20:50:42.400Z"
   },
   {
    "duration": 42,
    "start_time": "2021-12-19T20:50:42.442Z"
   },
   {
    "duration": 21,
    "start_time": "2021-12-19T20:50:42.488Z"
   },
   {
    "duration": 10,
    "start_time": "2021-12-19T20:50:42.512Z"
   },
   {
    "duration": 53,
    "start_time": "2021-12-19T20:50:42.525Z"
   },
   {
    "duration": 24,
    "start_time": "2021-12-19T20:50:42.581Z"
   },
   {
    "duration": 171,
    "start_time": "2021-12-19T20:50:42.608Z"
   },
   {
    "duration": 20,
    "start_time": "2021-12-19T20:50:44.837Z"
   },
   {
    "duration": 6,
    "start_time": "2021-12-19T20:50:47.386Z"
   },
   {
    "duration": 4,
    "start_time": "2021-12-19T20:54:17.324Z"
   },
   {
    "duration": 543,
    "start_time": "2021-12-19T20:54:17.331Z"
   },
   {
    "duration": 26,
    "start_time": "2021-12-19T20:54:17.877Z"
   },
   {
    "duration": 33,
    "start_time": "2021-12-19T20:54:17.906Z"
   },
   {
    "duration": 45,
    "start_time": "2021-12-19T20:54:17.942Z"
   },
   {
    "duration": 38,
    "start_time": "2021-12-19T20:54:17.989Z"
   },
   {
    "duration": 43,
    "start_time": "2021-12-19T20:54:18.031Z"
   },
   {
    "duration": 20,
    "start_time": "2021-12-19T20:54:18.077Z"
   },
   {
    "duration": 9,
    "start_time": "2021-12-19T20:54:18.100Z"
   },
   {
    "duration": 12,
    "start_time": "2021-12-19T20:54:18.111Z"
   },
   {
    "duration": 61,
    "start_time": "2021-12-19T20:54:18.125Z"
   },
   {
    "duration": 157,
    "start_time": "2021-12-19T20:54:18.188Z"
   },
   {
    "duration": 5,
    "start_time": "2021-12-19T20:54:18.348Z"
   },
   {
    "duration": 31,
    "start_time": "2021-12-19T20:54:18.356Z"
   },
   {
    "duration": 91,
    "start_time": "2021-12-19T20:54:18.391Z"
   },
   {
    "duration": 39,
    "start_time": "2021-12-19T20:54:18.484Z"
   },
   {
    "duration": 53,
    "start_time": "2021-12-19T20:54:18.526Z"
   },
   {
    "duration": 27,
    "start_time": "2021-12-19T20:54:18.582Z"
   },
   {
    "duration": 6,
    "start_time": "2021-12-19T20:54:18.613Z"
   },
   {
    "duration": 13,
    "start_time": "2021-12-19T20:54:20.783Z"
   },
   {
    "duration": 32,
    "start_time": "2021-12-19T20:54:24.968Z"
   },
   {
    "duration": 4,
    "start_time": "2021-12-19T20:57:23.366Z"
   },
   {
    "duration": 563,
    "start_time": "2021-12-19T20:57:23.373Z"
   },
   {
    "duration": 28,
    "start_time": "2021-12-19T20:57:23.939Z"
   },
   {
    "duration": 35,
    "start_time": "2021-12-19T20:57:23.970Z"
   },
   {
    "duration": 25,
    "start_time": "2021-12-19T20:57:24.008Z"
   },
   {
    "duration": 61,
    "start_time": "2021-12-19T20:57:24.036Z"
   },
   {
    "duration": 20,
    "start_time": "2021-12-19T20:57:24.100Z"
   },
   {
    "duration": 48,
    "start_time": "2021-12-19T20:57:24.126Z"
   },
   {
    "duration": 9,
    "start_time": "2021-12-19T20:57:24.177Z"
   },
   {
    "duration": 11,
    "start_time": "2021-12-19T20:57:24.188Z"
   },
   {
    "duration": 23,
    "start_time": "2021-12-19T20:57:24.201Z"
   },
   {
    "duration": 179,
    "start_time": "2021-12-19T20:57:24.226Z"
   },
   {
    "duration": 6,
    "start_time": "2021-12-19T20:57:24.408Z"
   },
   {
    "duration": 19,
    "start_time": "2021-12-19T20:57:24.416Z"
   },
   {
    "duration": 99,
    "start_time": "2021-12-19T20:57:24.438Z"
   },
   {
    "duration": 54,
    "start_time": "2021-12-19T20:57:24.539Z"
   },
   {
    "duration": 27,
    "start_time": "2021-12-19T20:57:24.596Z"
   },
   {
    "duration": 44,
    "start_time": "2021-12-19T20:57:24.626Z"
   },
   {
    "duration": 5,
    "start_time": "2021-12-19T20:57:24.673Z"
   },
   {
    "duration": 14,
    "start_time": "2021-12-19T20:57:24.681Z"
   },
   {
    "duration": 7,
    "start_time": "2021-12-19T20:57:26.236Z"
   },
   {
    "duration": 24,
    "start_time": "2021-12-19T20:57:30.440Z"
   },
   {
    "duration": 6,
    "start_time": "2021-12-19T20:57:37.943Z"
   },
   {
    "duration": 4,
    "start_time": "2021-12-19T20:58:29.691Z"
   },
   {
    "duration": 595,
    "start_time": "2021-12-19T20:58:29.697Z"
   },
   {
    "duration": 36,
    "start_time": "2021-12-19T20:58:30.296Z"
   },
   {
    "duration": 44,
    "start_time": "2021-12-19T20:58:30.335Z"
   },
   {
    "duration": 24,
    "start_time": "2021-12-19T20:58:30.382Z"
   },
   {
    "duration": 58,
    "start_time": "2021-12-19T20:58:30.409Z"
   },
   {
    "duration": 19,
    "start_time": "2021-12-19T20:58:30.469Z"
   },
   {
    "duration": 25,
    "start_time": "2021-12-19T20:58:30.492Z"
   },
   {
    "duration": 9,
    "start_time": "2021-12-19T20:58:30.520Z"
   },
   {
    "duration": 37,
    "start_time": "2021-12-19T20:58:30.531Z"
   },
   {
    "duration": 30,
    "start_time": "2021-12-19T20:58:30.571Z"
   },
   {
    "duration": 149,
    "start_time": "2021-12-19T20:58:30.604Z"
   },
   {
    "duration": 15,
    "start_time": "2021-12-19T20:58:30.756Z"
   },
   {
    "duration": 20,
    "start_time": "2021-12-19T20:58:30.774Z"
   },
   {
    "duration": 100,
    "start_time": "2021-12-19T20:58:30.796Z"
   },
   {
    "duration": 38,
    "start_time": "2021-12-19T20:58:30.899Z"
   },
   {
    "duration": 41,
    "start_time": "2021-12-19T20:58:30.939Z"
   },
   {
    "duration": 28,
    "start_time": "2021-12-19T20:58:30.983Z"
   },
   {
    "duration": 5,
    "start_time": "2021-12-19T20:58:31.014Z"
   },
   {
    "duration": 15,
    "start_time": "2021-12-19T20:58:31.022Z"
   },
   {
    "duration": 30,
    "start_time": "2021-12-19T20:58:31.040Z"
   },
   {
    "duration": 421,
    "start_time": "2021-12-19T20:58:31.072Z"
   },
   {
    "duration": -1020,
    "start_time": "2021-12-19T20:58:32.518Z"
   },
   {
    "duration": -1022,
    "start_time": "2021-12-19T20:58:32.521Z"
   },
   {
    "duration": -1027,
    "start_time": "2021-12-19T20:58:32.528Z"
   },
   {
    "duration": -1028,
    "start_time": "2021-12-19T20:58:32.531Z"
   },
   {
    "duration": -1029,
    "start_time": "2021-12-19T20:58:32.534Z"
   },
   {
    "duration": -1030,
    "start_time": "2021-12-19T20:58:32.538Z"
   },
   {
    "duration": -1037,
    "start_time": "2021-12-19T20:58:32.546Z"
   },
   {
    "duration": -1039,
    "start_time": "2021-12-19T20:58:32.550Z"
   },
   {
    "duration": 269,
    "start_time": "2021-12-19T20:58:32.728Z"
   },
   {
    "duration": 26,
    "start_time": "2021-12-19T20:58:53.125Z"
   },
   {
    "duration": 23,
    "start_time": "2021-12-19T20:59:00.013Z"
   },
   {
    "duration": 26,
    "start_time": "2021-12-19T20:59:42.702Z"
   },
   {
    "duration": 26,
    "start_time": "2021-12-19T21:02:27.338Z"
   },
   {
    "duration": 25,
    "start_time": "2021-12-19T21:02:47.204Z"
   },
   {
    "duration": 21,
    "start_time": "2021-12-19T21:03:21.268Z"
   },
   {
    "duration": 24,
    "start_time": "2021-12-19T21:03:38.459Z"
   },
   {
    "duration": 20,
    "start_time": "2021-12-19T21:05:14.161Z"
   },
   {
    "duration": 21,
    "start_time": "2021-12-19T21:06:26.071Z"
   },
   {
    "duration": 82,
    "start_time": "2021-12-19T21:06:29.380Z"
   },
   {
    "duration": 273,
    "start_time": "2021-12-19T21:06:33.655Z"
   },
   {
    "duration": 37,
    "start_time": "2021-12-19T21:07:56.934Z"
   },
   {
    "duration": 10,
    "start_time": "2021-12-19T21:08:12.434Z"
   },
   {
    "duration": 1372,
    "start_time": "2021-12-19T21:09:02.263Z"
   },
   {
    "duration": 569,
    "start_time": "2021-12-19T21:09:03.638Z"
   },
   {
    "duration": 28,
    "start_time": "2021-12-19T21:09:04.211Z"
   },
   {
    "duration": 42,
    "start_time": "2021-12-19T21:09:04.242Z"
   },
   {
    "duration": 23,
    "start_time": "2021-12-19T21:09:04.287Z"
   },
   {
    "duration": 59,
    "start_time": "2021-12-19T21:09:04.312Z"
   },
   {
    "duration": 19,
    "start_time": "2021-12-19T21:09:04.373Z"
   },
   {
    "duration": 17,
    "start_time": "2021-12-19T21:09:04.396Z"
   },
   {
    "duration": 8,
    "start_time": "2021-12-19T21:09:04.416Z"
   },
   {
    "duration": 46,
    "start_time": "2021-12-19T21:09:04.427Z"
   },
   {
    "duration": 25,
    "start_time": "2021-12-19T21:09:04.476Z"
   },
   {
    "duration": 174,
    "start_time": "2021-12-19T21:09:04.503Z"
   },
   {
    "duration": 5,
    "start_time": "2021-12-19T21:09:04.680Z"
   },
   {
    "duration": 17,
    "start_time": "2021-12-19T21:09:04.688Z"
   },
   {
    "duration": 103,
    "start_time": "2021-12-19T21:09:04.707Z"
   },
   {
    "duration": 43,
    "start_time": "2021-12-19T21:09:04.812Z"
   },
   {
    "duration": 28,
    "start_time": "2021-12-19T21:09:04.867Z"
   },
   {
    "duration": 26,
    "start_time": "2021-12-19T21:09:04.898Z"
   },
   {
    "duration": 6,
    "start_time": "2021-12-19T21:09:04.927Z"
   },
   {
    "duration": 37,
    "start_time": "2021-12-19T21:09:04.935Z"
   },
   {
    "duration": 6,
    "start_time": "2021-12-19T21:09:04.975Z"
   },
   {
    "duration": 10,
    "start_time": "2021-12-19T21:09:04.983Z"
   },
   {
    "duration": 13,
    "start_time": "2021-12-19T21:09:04.999Z"
   },
   {
    "duration": 54,
    "start_time": "2021-12-19T21:09:05.015Z"
   },
   {
    "duration": 24,
    "start_time": "2021-12-19T21:09:05.071Z"
   },
   {
    "duration": 779,
    "start_time": "2021-12-19T21:09:05.098Z"
   },
   {
    "duration": 5,
    "start_time": "2021-12-19T21:09:05.879Z"
   },
   {
    "duration": 30,
    "start_time": "2021-12-19T21:09:05.887Z"
   },
   {
    "duration": 545,
    "start_time": "2021-12-19T21:09:05.919Z"
   },
   {
    "duration": 5,
    "start_time": "2021-12-19T21:09:06.468Z"
   },
   {
    "duration": 26,
    "start_time": "2021-12-19T21:09:06.476Z"
   },
   {
    "duration": 842,
    "start_time": "2021-12-19T21:09:06.504Z"
   },
   {
    "duration": 5,
    "start_time": "2021-12-19T21:09:07.348Z"
   },
   {
    "duration": 23,
    "start_time": "2021-12-19T21:09:07.356Z"
   },
   {
    "duration": 6,
    "start_time": "2021-12-19T21:09:07.381Z"
   },
   {
    "duration": 15,
    "start_time": "2021-12-19T21:09:07.389Z"
   },
   {
    "duration": 5,
    "start_time": "2021-12-19T21:09:07.407Z"
   },
   {
    "duration": 398,
    "start_time": "2021-12-19T21:10:59.454Z"
   },
   {
    "duration": 6,
    "start_time": "2021-12-19T21:11:25.798Z"
   },
   {
    "duration": 288,
    "start_time": "2021-12-19T21:12:03.937Z"
   },
   {
    "duration": 5,
    "start_time": "2021-12-19T21:13:01.398Z"
   },
   {
    "duration": 6,
    "start_time": "2021-12-19T21:13:23.283Z"
   },
   {
    "duration": 7,
    "start_time": "2021-12-19T21:15:49.313Z"
   },
   {
    "duration": 5,
    "start_time": "2021-12-19T21:16:11.640Z"
   },
   {
    "duration": 1344,
    "start_time": "2021-12-19T21:17:02.194Z"
   },
   {
    "duration": 570,
    "start_time": "2021-12-19T21:17:03.541Z"
   },
   {
    "duration": 31,
    "start_time": "2021-12-19T21:17:04.114Z"
   },
   {
    "duration": 67,
    "start_time": "2021-12-19T21:17:04.148Z"
   },
   {
    "duration": 28,
    "start_time": "2021-12-19T21:17:04.217Z"
   },
   {
    "duration": 43,
    "start_time": "2021-12-19T21:17:04.268Z"
   },
   {
    "duration": 22,
    "start_time": "2021-12-19T21:17:04.314Z"
   },
   {
    "duration": 45,
    "start_time": "2021-12-19T21:17:04.339Z"
   },
   {
    "duration": 10,
    "start_time": "2021-12-19T21:17:04.388Z"
   },
   {
    "duration": 12,
    "start_time": "2021-12-19T21:17:04.400Z"
   },
   {
    "duration": 58,
    "start_time": "2021-12-19T21:17:04.414Z"
   },
   {
    "duration": 163,
    "start_time": "2021-12-19T21:17:04.474Z"
   },
   {
    "duration": 6,
    "start_time": "2021-12-19T21:17:04.640Z"
   },
   {
    "duration": 31,
    "start_time": "2021-12-19T21:17:04.648Z"
   },
   {
    "duration": 113,
    "start_time": "2021-12-19T21:17:04.682Z"
   },
   {
    "duration": 43,
    "start_time": "2021-12-19T21:17:04.797Z"
   },
   {
    "duration": 48,
    "start_time": "2021-12-19T21:17:04.842Z"
   },
   {
    "duration": 28,
    "start_time": "2021-12-19T21:17:04.892Z"
   },
   {
    "duration": 6,
    "start_time": "2021-12-19T21:17:04.922Z"
   },
   {
    "duration": 38,
    "start_time": "2021-12-19T21:17:04.930Z"
   },
   {
    "duration": 6,
    "start_time": "2021-12-19T21:17:04.971Z"
   },
   {
    "duration": 11,
    "start_time": "2021-12-19T21:17:04.980Z"
   },
   {
    "duration": 14,
    "start_time": "2021-12-19T21:17:04.996Z"
   },
   {
    "duration": 23,
    "start_time": "2021-12-19T21:17:05.013Z"
   },
   {
    "duration": 24,
    "start_time": "2021-12-19T21:17:05.068Z"
   },
   {
    "duration": 799,
    "start_time": "2021-12-19T21:17:05.095Z"
   },
   {
    "duration": 6,
    "start_time": "2021-12-19T21:17:05.897Z"
   },
   {
    "duration": 33,
    "start_time": "2021-12-19T21:17:05.905Z"
   },
   {
    "duration": 581,
    "start_time": "2021-12-19T21:17:05.941Z"
   },
   {
    "duration": 6,
    "start_time": "2021-12-19T21:17:06.524Z"
   },
   {
    "duration": 47,
    "start_time": "2021-12-19T21:17:06.532Z"
   },
   {
    "duration": 747,
    "start_time": "2021-12-19T21:17:06.582Z"
   },
   {
    "duration": 6,
    "start_time": "2021-12-19T21:17:07.332Z"
   },
   {
    "duration": 37,
    "start_time": "2021-12-19T21:17:07.340Z"
   },
   {
    "duration": 6,
    "start_time": "2021-12-19T21:17:07.379Z"
   },
   {
    "duration": 23,
    "start_time": "2021-12-19T21:17:07.388Z"
   },
   {
    "duration": 5,
    "start_time": "2021-12-19T21:17:07.414Z"
   },
   {
    "duration": 919,
    "start_time": "2021-12-19T21:18:05.921Z"
   },
   {
    "duration": 731,
    "start_time": "2021-12-19T21:19:07.530Z"
   },
   {
    "duration": 624,
    "start_time": "2021-12-19T21:19:15.647Z"
   },
   {
    "duration": 730,
    "start_time": "2021-12-19T21:19:23.164Z"
   },
   {
    "duration": 21,
    "start_time": "2021-12-19T21:19:35.361Z"
   },
   {
    "duration": 1340,
    "start_time": "2021-12-19T21:20:02.303Z"
   },
   {
    "duration": 591,
    "start_time": "2021-12-19T21:20:03.647Z"
   },
   {
    "duration": 32,
    "start_time": "2021-12-19T21:20:04.241Z"
   },
   {
    "duration": 45,
    "start_time": "2021-12-19T21:20:04.275Z"
   },
   {
    "duration": 24,
    "start_time": "2021-12-19T21:20:04.322Z"
   },
   {
    "duration": 57,
    "start_time": "2021-12-19T21:20:04.348Z"
   },
   {
    "duration": 20,
    "start_time": "2021-12-19T21:20:04.407Z"
   },
   {
    "duration": 50,
    "start_time": "2021-12-19T21:20:04.432Z"
   },
   {
    "duration": 10,
    "start_time": "2021-12-19T21:20:04.486Z"
   },
   {
    "duration": 11,
    "start_time": "2021-12-19T21:20:04.499Z"
   },
   {
    "duration": 70,
    "start_time": "2021-12-19T21:20:04.513Z"
   },
   {
    "duration": 171,
    "start_time": "2021-12-19T21:20:04.587Z"
   },
   {
    "duration": 6,
    "start_time": "2021-12-19T21:20:04.761Z"
   },
   {
    "duration": 22,
    "start_time": "2021-12-19T21:20:04.769Z"
   },
   {
    "duration": 95,
    "start_time": "2021-12-19T21:20:04.793Z"
   },
   {
    "duration": 42,
    "start_time": "2021-12-19T21:20:04.890Z"
   },
   {
    "duration": 47,
    "start_time": "2021-12-19T21:20:04.935Z"
   },
   {
    "duration": 28,
    "start_time": "2021-12-19T21:20:04.984Z"
   },
   {
    "duration": 6,
    "start_time": "2021-12-19T21:20:05.014Z"
   },
   {
    "duration": 10,
    "start_time": "2021-12-19T21:20:05.022Z"
   },
   {
    "duration": 34,
    "start_time": "2021-12-19T21:20:05.035Z"
   },
   {
    "duration": 9,
    "start_time": "2021-12-19T21:20:05.071Z"
   },
   {
    "duration": 19,
    "start_time": "2021-12-19T21:20:05.085Z"
   },
   {
    "duration": 25,
    "start_time": "2021-12-19T21:20:05.107Z"
   },
   {
    "duration": 63,
    "start_time": "2021-12-19T21:20:05.135Z"
   },
   {
    "duration": 881,
    "start_time": "2021-12-19T21:20:05.201Z"
   },
   {
    "duration": 7,
    "start_time": "2021-12-19T21:20:06.085Z"
   },
   {
    "duration": 28,
    "start_time": "2021-12-19T21:20:06.095Z"
   },
   {
    "duration": 564,
    "start_time": "2021-12-19T21:20:06.126Z"
   },
   {
    "duration": 6,
    "start_time": "2021-12-19T21:20:06.693Z"
   },
   {
    "duration": 26,
    "start_time": "2021-12-19T21:20:06.702Z"
   },
   {
    "duration": 718,
    "start_time": "2021-12-19T21:20:06.766Z"
   },
   {
    "duration": 5,
    "start_time": "2021-12-19T21:20:07.486Z"
   },
   {
    "duration": 16,
    "start_time": "2021-12-19T21:20:07.493Z"
   },
   {
    "duration": 5,
    "start_time": "2021-12-19T21:20:07.511Z"
   },
   {
    "duration": 56,
    "start_time": "2021-12-19T21:20:07.519Z"
   },
   {
    "duration": 5,
    "start_time": "2021-12-19T21:20:07.577Z"
   },
   {
    "duration": 1416,
    "start_time": "2021-12-20T08:26:05.406Z"
   },
   {
    "duration": 502,
    "start_time": "2021-12-20T08:26:06.825Z"
   },
   {
    "duration": 27,
    "start_time": "2021-12-20T08:26:07.330Z"
   },
   {
    "duration": 49,
    "start_time": "2021-12-20T08:26:07.360Z"
   },
   {
    "duration": 23,
    "start_time": "2021-12-20T08:26:07.411Z"
   },
   {
    "duration": 53,
    "start_time": "2021-12-20T08:26:07.437Z"
   },
   {
    "duration": 17,
    "start_time": "2021-12-20T08:26:07.492Z"
   },
   {
    "duration": 40,
    "start_time": "2021-12-20T08:26:07.512Z"
   },
   {
    "duration": 13,
    "start_time": "2021-12-20T08:26:07.556Z"
   },
   {
    "duration": 38,
    "start_time": "2021-12-20T08:26:07.572Z"
   },
   {
    "duration": 23,
    "start_time": "2021-12-20T08:26:07.612Z"
   },
   {
    "duration": 143,
    "start_time": "2021-12-20T08:26:07.638Z"
   },
   {
    "duration": 6,
    "start_time": "2021-12-20T08:26:07.783Z"
   },
   {
    "duration": 16,
    "start_time": "2021-12-20T08:26:07.791Z"
   },
   {
    "duration": 101,
    "start_time": "2021-12-20T08:26:07.809Z"
   },
   {
    "duration": 49,
    "start_time": "2021-12-20T08:26:07.913Z"
   },
   {
    "duration": 28,
    "start_time": "2021-12-20T08:26:07.965Z"
   },
   {
    "duration": 25,
    "start_time": "2021-12-20T08:26:07.996Z"
   },
   {
    "duration": 4,
    "start_time": "2021-12-20T08:26:08.024Z"
   },
   {
    "duration": 37,
    "start_time": "2021-12-20T08:26:08.030Z"
   },
   {
    "duration": 6,
    "start_time": "2021-12-20T08:26:08.070Z"
   },
   {
    "duration": 7,
    "start_time": "2021-12-20T08:26:08.079Z"
   },
   {
    "duration": 15,
    "start_time": "2021-12-20T08:26:08.088Z"
   },
   {
    "duration": 58,
    "start_time": "2021-12-20T08:26:08.106Z"
   },
   {
    "duration": 26,
    "start_time": "2021-12-20T08:26:08.167Z"
   },
   {
    "duration": 814,
    "start_time": "2021-12-20T08:26:08.195Z"
   },
   {
    "duration": 5,
    "start_time": "2021-12-20T08:26:09.016Z"
   },
   {
    "duration": 41,
    "start_time": "2021-12-20T08:26:09.025Z"
   },
   {
    "duration": 520,
    "start_time": "2021-12-20T08:26:09.068Z"
   },
   {
    "duration": 4,
    "start_time": "2021-12-20T08:26:09.592Z"
   },
   {
    "duration": 27,
    "start_time": "2021-12-20T08:26:09.599Z"
   },
   {
    "duration": 897,
    "start_time": "2021-12-20T08:26:09.629Z"
   },
   {
    "duration": 5,
    "start_time": "2021-12-20T08:26:10.529Z"
   },
   {
    "duration": 32,
    "start_time": "2021-12-20T08:26:10.537Z"
   },
   {
    "duration": 9,
    "start_time": "2021-12-20T08:26:10.572Z"
   },
   {
    "duration": 15,
    "start_time": "2021-12-20T08:26:10.583Z"
   },
   {
    "duration": 15,
    "start_time": "2021-12-20T08:26:10.600Z"
   },
   {
    "duration": 24,
    "start_time": "2021-12-20T08:26:24.038Z"
   },
   {
    "duration": 26,
    "start_time": "2021-12-20T08:26:27.759Z"
   },
   {
    "duration": 346,
    "start_time": "2021-12-20T09:16:56.757Z"
   },
   {
    "duration": 275,
    "start_time": "2021-12-20T09:17:02.305Z"
   },
   {
    "duration": 477,
    "start_time": "2021-12-20T09:17:06.841Z"
   },
   {
    "duration": 1445,
    "start_time": "2021-12-20T09:17:12.198Z"
   },
   {
    "duration": 522,
    "start_time": "2021-12-20T09:17:13.646Z"
   },
   {
    "duration": 27,
    "start_time": "2021-12-20T09:17:14.172Z"
   },
   {
    "duration": 61,
    "start_time": "2021-12-20T09:17:14.202Z"
   },
   {
    "duration": 23,
    "start_time": "2021-12-20T09:17:14.266Z"
   },
   {
    "duration": 57,
    "start_time": "2021-12-20T09:17:14.292Z"
   },
   {
    "duration": 27,
    "start_time": "2021-12-20T09:17:14.351Z"
   },
   {
    "duration": 37,
    "start_time": "2021-12-20T09:17:14.382Z"
   },
   {
    "duration": 32,
    "start_time": "2021-12-20T09:17:14.422Z"
   },
   {
    "duration": 26,
    "start_time": "2021-12-20T09:17:14.456Z"
   },
   {
    "duration": 49,
    "start_time": "2021-12-20T09:17:14.484Z"
   },
   {
    "duration": 164,
    "start_time": "2021-12-20T09:17:14.535Z"
   },
   {
    "duration": 6,
    "start_time": "2021-12-20T09:17:14.701Z"
   },
   {
    "duration": 30,
    "start_time": "2021-12-20T09:17:14.710Z"
   },
   {
    "duration": 85,
    "start_time": "2021-12-20T09:17:14.743Z"
   },
   {
    "duration": 54,
    "start_time": "2021-12-20T09:17:14.831Z"
   },
   {
    "duration": 33,
    "start_time": "2021-12-20T09:17:14.887Z"
   },
   {
    "duration": 49,
    "start_time": "2021-12-20T09:17:14.923Z"
   },
   {
    "duration": 6,
    "start_time": "2021-12-20T09:17:14.975Z"
   },
   {
    "duration": 37,
    "start_time": "2021-12-20T09:17:14.984Z"
   },
   {
    "duration": 30,
    "start_time": "2021-12-20T09:17:15.024Z"
   },
   {
    "duration": 30,
    "start_time": "2021-12-20T09:17:15.057Z"
   },
   {
    "duration": 32,
    "start_time": "2021-12-20T09:17:15.093Z"
   },
   {
    "duration": 30,
    "start_time": "2021-12-20T09:17:15.128Z"
   },
   {
    "duration": 34,
    "start_time": "2021-12-20T09:17:15.161Z"
   },
   {
    "duration": 771,
    "start_time": "2021-12-20T09:17:15.197Z"
   },
   {
    "duration": 6,
    "start_time": "2021-12-20T09:17:15.971Z"
   },
   {
    "duration": 43,
    "start_time": "2021-12-20T09:17:15.980Z"
   },
   {
    "duration": 529,
    "start_time": "2021-12-20T09:17:16.026Z"
   },
   {
    "duration": 6,
    "start_time": "2021-12-20T09:17:16.563Z"
   },
   {
    "duration": 68,
    "start_time": "2021-12-20T09:17:16.572Z"
   },
   {
    "duration": 759,
    "start_time": "2021-12-20T09:17:16.643Z"
   },
   {
    "duration": 6,
    "start_time": "2021-12-20T09:17:17.404Z"
   },
   {
    "duration": 35,
    "start_time": "2021-12-20T09:17:17.412Z"
   },
   {
    "duration": 39,
    "start_time": "2021-12-20T09:17:17.451Z"
   },
   {
    "duration": 52,
    "start_time": "2021-12-20T09:17:17.493Z"
   },
   {
    "duration": 6,
    "start_time": "2021-12-20T09:17:17.548Z"
   },
   {
    "duration": 9,
    "start_time": "2021-12-20T09:27:36.580Z"
   },
   {
    "duration": 5,
    "start_time": "2021-12-20T09:28:10.452Z"
   }
  ],
  "kernelspec": {
   "display_name": "Python 3 (ipykernel)",
   "language": "python",
   "name": "python3"
  },
  "language_info": {
   "codemirror_mode": {
    "name": "ipython",
    "version": 3
   },
   "file_extension": ".py",
   "mimetype": "text/x-python",
   "name": "python",
   "nbconvert_exporter": "python",
   "pygments_lexer": "ipython3",
   "version": "3.9.7"
  },
  "toc": {
   "base_numbering": 1,
   "nav_menu": {},
   "number_sections": true,
   "sideBar": true,
   "skip_h1_title": true,
   "title_cell": "Содержание",
   "title_sidebar": "Содержание",
   "toc_cell": false,
   "toc_position": {
    "height": "calc(100% - 180px)",
    "left": "10px",
    "top": "150px",
    "width": "380.594px"
   },
   "toc_section_display": true,
   "toc_window_display": false
  }
 },
 "nbformat": 4,
 "nbformat_minor": 2
}
