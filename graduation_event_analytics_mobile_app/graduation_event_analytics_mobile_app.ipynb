{
 "cells": [
  {
   "cell_type": "markdown",
   "id": "4cb6f082",
   "metadata": {},
   "source": [
    "# Анализ поведения пользователей в мобильном приложении\n",
    "\n",
    "От продуктового менеджера мобильного приложения «Ненужные вещи» поступила задача проанализировать поведение пользователей. В приложении пользователи продают свои ненужные вещи, размещая их на доске объявлений. Результаты исследования помогут продуктовой команде выделить основные сценарии использования приложения и оценить, какие фичи работают.\n",
    "\n",
    "**Задача исследования**\n",
    "\n",
    "Проанализировать целевое и вспомогательные события, совершаемые пользователями мобильного приложения.\n",
    "\n",
    "**Ход исследования**\n",
    "\n",
    "Для проведения исследования доступны следующие данные:\n",
    "\n",
    "* data_dataset.csv — логи пользователей, впервые совершивших действия в приложении после 7 октября 2019 года.\n",
    "* data_sources.csv — данные об источнике трафика пользователей мобильного приложения.\n",
    "\n",
    "Перед решением задачи исследования понадобится обзор данных. Затем, на этапе предобработки, поищем возможность исправить самые критичные ошибки данных.\n",
    "\n",
    "Для анализа влияние событий на совершение целевого события потребуется:\n",
    "\n",
    "* Выделить события, которые часто совершают пользователи вместе с целевым событием.\n",
    "* Проанализировать, часто ли эти события бывают самостоятельными событиями пользователя или они составляют воронку.\n",
    "* Проанализировать, за какое время до совершения целевого события совершаются вспомогательные события.\n",
    "\n",
    "Проверим гипотезы:\n",
    "\n",
    "* Конверсия в просмотры контактов различается пользователей, которые совершают действия tips_show и tips_click, и тех, которые совершают только действие tips_show.\n",
    "* Конверсия в просмотры контактов различается в зависимости от источника.\n",
    "\n",
    "**Этапы исследования**\n",
    "\n",
    "1. Обзор данных\n",
    "2. Предобработка данных\n",
    "3. Исследовательский анализ данных\n",
    "4. Анализ влияния событий на совершение целевого события\n",
    "5. Статистический анализ данных\n",
    "6. Выводы"
   ]
  },
  {
   "cell_type": "markdown",
   "id": "79075a46",
   "metadata": {},
   "source": [
    "## Обзор данных\n",
    "Составим первое впечатление о входных данных."
   ]
  },
  {
   "cell_type": "code",
   "execution_count": 1,
   "id": "94f7f7a6",
   "metadata": {},
   "outputs": [],
   "source": [
    "# Импортируем библиотеки\n",
    "import pandas as pd\n",
    "import numpy as np\n",
    "import math as mth\n",
    "import datetime as dt\n",
    "import matplotlib.pyplot as plt\n",
    "import seaborn as sns\n",
    "from scipy import stats as st"
   ]
  },
  {
   "cell_type": "code",
   "execution_count": 2,
   "id": "c289923b",
   "metadata": {},
   "outputs": [],
   "source": [
    "# Читаем файлы с данными и сохраняем их в датафреймы\n",
    "dataset, sourсes = (\n",
    "    pd.read_csv('data_dataset.csv'), # логи\n",
    "    pd.read_csv('data_sourсes.csv')  # источники\n",
    ")"
   ]
  },
  {
   "cell_type": "code",
   "execution_count": 3,
   "id": "b35978f0",
   "metadata": {},
   "outputs": [],
   "source": [
    "# Определяем функцию для обзора данных датафрейма\n",
    "def get_overview(df):\n",
    "    '''\n",
    "    Принимает датафрейм, возвращает первые 5 строк,\n",
    "    общую информацию, обзор числовых и строковых значений\n",
    "    '''\n",
    "    display(df.head())\n",
    "    print(df.info())\n",
    "    print(df.describe(include='all'))"
   ]
  },
  {
   "cell_type": "code",
   "execution_count": 4,
   "id": "36988fbd",
   "metadata": {},
   "outputs": [
    {
     "data": {
      "text/html": [
       "<div>\n",
       "<style scoped>\n",
       "    .dataframe tbody tr th:only-of-type {\n",
       "        vertical-align: middle;\n",
       "    }\n",
       "\n",
       "    .dataframe tbody tr th {\n",
       "        vertical-align: top;\n",
       "    }\n",
       "\n",
       "    .dataframe thead th {\n",
       "        text-align: right;\n",
       "    }\n",
       "</style>\n",
       "<table border=\"1\" class=\"dataframe\">\n",
       "  <thead>\n",
       "    <tr style=\"text-align: right;\">\n",
       "      <th></th>\n",
       "      <th>event.time</th>\n",
       "      <th>event.name</th>\n",
       "      <th>user.id</th>\n",
       "    </tr>\n",
       "  </thead>\n",
       "  <tbody>\n",
       "    <tr>\n",
       "      <th>0</th>\n",
       "      <td>2019-10-07 00:00:00.431357</td>\n",
       "      <td>advert_open</td>\n",
       "      <td>020292ab-89bc-4156-9acf-68bc2783f894</td>\n",
       "    </tr>\n",
       "    <tr>\n",
       "      <th>1</th>\n",
       "      <td>2019-10-07 00:00:01.236320</td>\n",
       "      <td>tips_show</td>\n",
       "      <td>020292ab-89bc-4156-9acf-68bc2783f894</td>\n",
       "    </tr>\n",
       "    <tr>\n",
       "      <th>2</th>\n",
       "      <td>2019-10-07 00:00:02.245341</td>\n",
       "      <td>tips_show</td>\n",
       "      <td>cf7eda61-9349-469f-ac27-e5b6f5ec475c</td>\n",
       "    </tr>\n",
       "    <tr>\n",
       "      <th>3</th>\n",
       "      <td>2019-10-07 00:00:07.039334</td>\n",
       "      <td>tips_show</td>\n",
       "      <td>020292ab-89bc-4156-9acf-68bc2783f894</td>\n",
       "    </tr>\n",
       "    <tr>\n",
       "      <th>4</th>\n",
       "      <td>2019-10-07 00:00:56.319813</td>\n",
       "      <td>advert_open</td>\n",
       "      <td>cf7eda61-9349-469f-ac27-e5b6f5ec475c</td>\n",
       "    </tr>\n",
       "  </tbody>\n",
       "</table>\n",
       "</div>"
      ],
      "text/plain": [
       "                   event.time   event.name  \\\n",
       "0  2019-10-07 00:00:00.431357  advert_open   \n",
       "1  2019-10-07 00:00:01.236320    tips_show   \n",
       "2  2019-10-07 00:00:02.245341    tips_show   \n",
       "3  2019-10-07 00:00:07.039334    tips_show   \n",
       "4  2019-10-07 00:00:56.319813  advert_open   \n",
       "\n",
       "                                user.id  \n",
       "0  020292ab-89bc-4156-9acf-68bc2783f894  \n",
       "1  020292ab-89bc-4156-9acf-68bc2783f894  \n",
       "2  cf7eda61-9349-469f-ac27-e5b6f5ec475c  \n",
       "3  020292ab-89bc-4156-9acf-68bc2783f894  \n",
       "4  cf7eda61-9349-469f-ac27-e5b6f5ec475c  "
      ]
     },
     "metadata": {},
     "output_type": "display_data"
    },
    {
     "name": "stdout",
     "output_type": "stream",
     "text": [
      "<class 'pandas.core.frame.DataFrame'>\n",
      "RangeIndex: 74197 entries, 0 to 74196\n",
      "Data columns (total 3 columns):\n",
      " #   Column      Non-Null Count  Dtype \n",
      "---  ------      --------------  ----- \n",
      " 0   event.time  74197 non-null  object\n",
      " 1   event.name  74197 non-null  object\n",
      " 2   user.id     74197 non-null  object\n",
      "dtypes: object(3)\n",
      "memory usage: 1.7+ MB\n",
      "None\n",
      "                        event.time event.name  \\\n",
      "count                        74197      74197   \n",
      "unique                       74197         16   \n",
      "top     2019-10-07 00:00:00.431357  tips_show   \n",
      "freq                             1      40055   \n",
      "\n",
      "                                     user.id  \n",
      "count                                  74197  \n",
      "unique                                  4293  \n",
      "top     cb36854f-570a-41f4-baa8-36680b396370  \n",
      "freq                                     478  \n"
     ]
    }
   ],
   "source": [
    "# Обзора данных датафрейма dataset\n",
    "get_overview(dataset)"
   ]
  },
  {
   "cell_type": "markdown",
   "id": "0fceaff1",
   "metadata": {},
   "source": [
    "В таблице 3 столбца, 74 197 строк.\n",
    "\n",
    "Согласно документации к данным:\n",
    "\n",
    "* `event.time` — время совершения\n",
    "* `user.id` — идентификатор пользователя\n",
    "* `event.name` — действие пользователя\n",
    "\n",
    "В столбцах отмечены нарушения стиля — использование точки для разделения слов.\n",
    "\n",
    "Отмечено несоответствие типа данных документации:\n",
    "\n",
    "* `event.time` строка `object`, по документации дата и время → `datetime`\n",
    "\n",
    "Пропусков значений нет.\n",
    "\n",
    "* В логах 16 уникальных типов событий, наиболее частое — *tips_show* (40 055 событий).\n",
    "* В логах 4293 уникальных пользователя.\n",
    "* Отмечен случай очень активного использования приложения — пользователь с 478 событиями.\n",
    "\n",
    "Проверим все типы событий."
   ]
  },
  {
   "cell_type": "code",
   "execution_count": 5,
   "id": "e78dfd35",
   "metadata": {},
   "outputs": [
    {
     "data": {
      "text/plain": [
       "tips_show        40055\n",
       "photos_show      10012\n",
       "advert_open       6164\n",
       "contacts_show     4450\n",
       "map               3881\n",
       "search_1          3506\n",
       "favorites_add     1417\n",
       "search_5          1049\n",
       "tips_click         814\n",
       "search_4           701\n",
       "contacts_call      541\n",
       "search_3           522\n",
       "search_6           460\n",
       "search_2           324\n",
       "search_7           222\n",
       "show_contacts       79\n",
       "Name: event.name, dtype: int64"
      ]
     },
     "execution_count": 5,
     "metadata": {},
     "output_type": "execute_result"
    }
   ],
   "source": [
    "# Выведем значения event.name\n",
    "dataset['event.name'].value_counts()"
   ]
  },
  {
   "cell_type": "markdown",
   "id": "a1a03433",
   "metadata": {},
   "source": [
    "Согласно документации к данным:\n",
    "\n",
    "* `tips_show` — увидел рекомендованные объявления\n",
    "* `photos_show` — просмотрел фотографий в объявлении\n",
    "* `advert_open` — открыл карточки объявления\n",
    "* `contacts_show` и `show_contacts` — посмотрел номер телефона\n",
    "* `map` — открыл карту объявлений\n",
    "* `search_1` - `search_7` — разные действия, связанные с поиском по сайту\n",
    "* `favorites_add` — добавил объявление в избранное\n",
    "* `tips_click` — кликнул по рекомендованному объявлению\n",
    "* `contacts_call` — позвонил по номеру из объявления\n",
    "\n",
    "Поскольку у нас нет сведений, чем отличаются события `search_1` - `search_7`, их следует объединить в одну категорию `search`.\n",
    "\n",
    "Видно, что `contacts_show` и `show_contacts` — одно и то же событие, вероятно, различное название появилось из-за сбора данных из разных источников. Эти события объединим в одну категорию `contacts_show`."
   ]
  },
  {
   "cell_type": "code",
   "execution_count": 6,
   "id": "56c92ad4",
   "metadata": {
    "scrolled": false
   },
   "outputs": [
    {
     "data": {
      "text/html": [
       "<div>\n",
       "<style scoped>\n",
       "    .dataframe tbody tr th:only-of-type {\n",
       "        vertical-align: middle;\n",
       "    }\n",
       "\n",
       "    .dataframe tbody tr th {\n",
       "        vertical-align: top;\n",
       "    }\n",
       "\n",
       "    .dataframe thead th {\n",
       "        text-align: right;\n",
       "    }\n",
       "</style>\n",
       "<table border=\"1\" class=\"dataframe\">\n",
       "  <thead>\n",
       "    <tr style=\"text-align: right;\">\n",
       "      <th></th>\n",
       "      <th>userId</th>\n",
       "      <th>source</th>\n",
       "    </tr>\n",
       "  </thead>\n",
       "  <tbody>\n",
       "    <tr>\n",
       "      <th>0</th>\n",
       "      <td>020292ab-89bc-4156-9acf-68bc2783f894</td>\n",
       "      <td>other</td>\n",
       "    </tr>\n",
       "    <tr>\n",
       "      <th>1</th>\n",
       "      <td>cf7eda61-9349-469f-ac27-e5b6f5ec475c</td>\n",
       "      <td>yandex</td>\n",
       "    </tr>\n",
       "    <tr>\n",
       "      <th>2</th>\n",
       "      <td>8c356c42-3ba9-4cb6-80b8-3f868d0192c3</td>\n",
       "      <td>yandex</td>\n",
       "    </tr>\n",
       "    <tr>\n",
       "      <th>3</th>\n",
       "      <td>d9b06b47-0f36-419b-bbb0-3533e582a6cb</td>\n",
       "      <td>other</td>\n",
       "    </tr>\n",
       "    <tr>\n",
       "      <th>4</th>\n",
       "      <td>f32e1e2a-3027-4693-b793-b7b3ff274439</td>\n",
       "      <td>google</td>\n",
       "    </tr>\n",
       "  </tbody>\n",
       "</table>\n",
       "</div>"
      ],
      "text/plain": [
       "                                 userId  source\n",
       "0  020292ab-89bc-4156-9acf-68bc2783f894   other\n",
       "1  cf7eda61-9349-469f-ac27-e5b6f5ec475c  yandex\n",
       "2  8c356c42-3ba9-4cb6-80b8-3f868d0192c3  yandex\n",
       "3  d9b06b47-0f36-419b-bbb0-3533e582a6cb   other\n",
       "4  f32e1e2a-3027-4693-b793-b7b3ff274439  google"
      ]
     },
     "metadata": {},
     "output_type": "display_data"
    },
    {
     "name": "stdout",
     "output_type": "stream",
     "text": [
      "<class 'pandas.core.frame.DataFrame'>\n",
      "RangeIndex: 4293 entries, 0 to 4292\n",
      "Data columns (total 2 columns):\n",
      " #   Column  Non-Null Count  Dtype \n",
      "---  ------  --------------  ----- \n",
      " 0   userId  4293 non-null   object\n",
      " 1   source  4293 non-null   object\n",
      "dtypes: object(2)\n",
      "memory usage: 67.2+ KB\n",
      "None\n",
      "                                      userId  source\n",
      "count                                   4293    4293\n",
      "unique                                  4293       3\n",
      "top     020292ab-89bc-4156-9acf-68bc2783f894  yandex\n",
      "freq                                       1    1934\n"
     ]
    }
   ],
   "source": [
    "# Обзора данных датафрейма sourсes\n",
    "get_overview(sourсes)"
   ]
  },
  {
   "cell_type": "markdown",
   "id": "93439d78",
   "metadata": {},
   "source": [
    "В таблице 2 столбца, 4293 строк.\n",
    "\n",
    "Согласно документации к данным:\n",
    "\n",
    "* userId — идентификатор пользователя\n",
    "* source — источник, с которого пользователь установил приложение\n",
    "\n",
    "В столбце отмечено нарушения стиля — использование CamelCase.\n",
    "\n",
    "Пропусков значений нет.\n",
    "\n",
    "* В таблице 3 уникальных источника трафика, наиболее частый — *yandex* (указан для 1934 пользователей).\n",
    "* В таблице 4293 уникальных пользователя, что совпадает с количеством уникальных пользователей таблицы *dataset*.\n",
    "\n",
    "Проверим все источники."
   ]
  },
  {
   "cell_type": "code",
   "execution_count": 7,
   "id": "9386c079",
   "metadata": {},
   "outputs": [
    {
     "data": {
      "text/plain": [
       "yandex    1934\n",
       "other     1230\n",
       "google    1129\n",
       "Name: source, dtype: int64"
      ]
     },
     "execution_count": 7,
     "metadata": {},
     "output_type": "execute_result"
    }
   ],
   "source": [
    "# Выведем значения source\n",
    "sourсes['source'].value_counts()"
   ]
  },
  {
   "cell_type": "markdown",
   "id": "358fa464",
   "metadata": {},
   "source": [
    "Среди источников встречаются поисковые системы Yandex, Google и прочие источники."
   ]
  },
  {
   "cell_type": "markdown",
   "id": "bc60803d",
   "metadata": {},
   "source": [
    "**Вывод**\n",
    "<div style=\"background-color: #FBD603; width: 48px; height: 5px\">&nbsp;</div>\n",
    "\n",
    "Как и следовало из сопроводительной документации, мы располагаем данными о событиях, совершенных пользователями мобильного приложения и источниках привлечения пользователей.\n",
    "\n",
    "В столбцах отмечены нарушения стиля. Данные столбца `event.time` следует привести к типу данных `datetime`.\n",
    "\n",
    "Предварительно мы отметили, что в датасете 16 уникальных типов событий (наиболее частое — *tips_show*), 3 уникальных источника трафика (наиболее частый — *yandex*) и 4293 уникальных пользователя.\n",
    "\n",
    "Число уникальных пользователей совпадает в обеих таблицах, скорее всего, с объединением таблиц проблем возникнуть не должно. Одинаковые по смыслу события объединим в категории `search` и `contacts_show`."
   ]
  },
  {
   "cell_type": "markdown",
   "id": "006107a4",
   "metadata": {},
   "source": [
    "## Предобработка данных\n",
    "Исправим именование столбцов. Объединим данные. Заменим тип данных `event.time`. Объединим события *search* и *contacts_show*. Проверим данные на дубликаты."
   ]
  },
  {
   "cell_type": "markdown",
   "id": "b689530e",
   "metadata": {},
   "source": [
    "### Стиль заголовков\n",
    "Заменим в названиях столбцов точки на подчеркивания и уберем CamelCase."
   ]
  },
  {
   "cell_type": "code",
   "execution_count": 8,
   "id": "93f4de70",
   "metadata": {},
   "outputs": [],
   "source": [
    "# Заменяем точки на подчеркивания\n",
    "dataset.columns = [x.replace('.', '_') for x in dataset.columns]\n",
    "\n",
    "# Переименовываем столбец с CamelCase\n",
    "sourсes.rename(columns={'userId': 'user_id'}, inplace=True)"
   ]
  },
  {
   "cell_type": "markdown",
   "id": "27945f8c",
   "metadata": {},
   "source": [
    "Стиль названий столбцов в датафреймах приведен к корректному."
   ]
  },
  {
   "cell_type": "markdown",
   "id": "211e6a0c",
   "metadata": {},
   "source": [
    "### Объединение данных\n",
    "Добавим информацию об источнике из датафрейма *sourсes* в датафрейм *dataset*."
   ]
  },
  {
   "cell_type": "code",
   "execution_count": 9,
   "id": "a79a8328",
   "metadata": {},
   "outputs": [
    {
     "data": {
      "text/html": [
       "<div>\n",
       "<style scoped>\n",
       "    .dataframe tbody tr th:only-of-type {\n",
       "        vertical-align: middle;\n",
       "    }\n",
       "\n",
       "    .dataframe tbody tr th {\n",
       "        vertical-align: top;\n",
       "    }\n",
       "\n",
       "    .dataframe thead th {\n",
       "        text-align: right;\n",
       "    }\n",
       "</style>\n",
       "<table border=\"1\" class=\"dataframe\">\n",
       "  <thead>\n",
       "    <tr style=\"text-align: right;\">\n",
       "      <th></th>\n",
       "      <th>event_time</th>\n",
       "      <th>event_name</th>\n",
       "      <th>user_id</th>\n",
       "      <th>source</th>\n",
       "    </tr>\n",
       "  </thead>\n",
       "  <tbody>\n",
       "    <tr>\n",
       "      <th>0</th>\n",
       "      <td>2019-10-07 00:00:00.431357</td>\n",
       "      <td>advert_open</td>\n",
       "      <td>020292ab-89bc-4156-9acf-68bc2783f894</td>\n",
       "      <td>other</td>\n",
       "    </tr>\n",
       "    <tr>\n",
       "      <th>1</th>\n",
       "      <td>2019-10-07 00:00:01.236320</td>\n",
       "      <td>tips_show</td>\n",
       "      <td>020292ab-89bc-4156-9acf-68bc2783f894</td>\n",
       "      <td>other</td>\n",
       "    </tr>\n",
       "    <tr>\n",
       "      <th>2</th>\n",
       "      <td>2019-10-07 00:00:02.245341</td>\n",
       "      <td>tips_show</td>\n",
       "      <td>cf7eda61-9349-469f-ac27-e5b6f5ec475c</td>\n",
       "      <td>yandex</td>\n",
       "    </tr>\n",
       "    <tr>\n",
       "      <th>3</th>\n",
       "      <td>2019-10-07 00:00:07.039334</td>\n",
       "      <td>tips_show</td>\n",
       "      <td>020292ab-89bc-4156-9acf-68bc2783f894</td>\n",
       "      <td>other</td>\n",
       "    </tr>\n",
       "    <tr>\n",
       "      <th>4</th>\n",
       "      <td>2019-10-07 00:00:56.319813</td>\n",
       "      <td>advert_open</td>\n",
       "      <td>cf7eda61-9349-469f-ac27-e5b6f5ec475c</td>\n",
       "      <td>yandex</td>\n",
       "    </tr>\n",
       "  </tbody>\n",
       "</table>\n",
       "</div>"
      ],
      "text/plain": [
       "                   event_time   event_name  \\\n",
       "0  2019-10-07 00:00:00.431357  advert_open   \n",
       "1  2019-10-07 00:00:01.236320    tips_show   \n",
       "2  2019-10-07 00:00:02.245341    tips_show   \n",
       "3  2019-10-07 00:00:07.039334    tips_show   \n",
       "4  2019-10-07 00:00:56.319813  advert_open   \n",
       "\n",
       "                                user_id  source  \n",
       "0  020292ab-89bc-4156-9acf-68bc2783f894   other  \n",
       "1  020292ab-89bc-4156-9acf-68bc2783f894   other  \n",
       "2  cf7eda61-9349-469f-ac27-e5b6f5ec475c  yandex  \n",
       "3  020292ab-89bc-4156-9acf-68bc2783f894   other  \n",
       "4  cf7eda61-9349-469f-ac27-e5b6f5ec475c  yandex  "
      ]
     },
     "execution_count": 9,
     "metadata": {},
     "output_type": "execute_result"
    }
   ],
   "source": [
    "# Создадим датафрейм df с объединенными данными\n",
    "df = dataset.merge(sourсes, on='user_id', how='left')\n",
    "\n",
    "# Проверим получившийся датафрейм, выведем первые 5 строк\n",
    "df.head()"
   ]
  },
  {
   "cell_type": "markdown",
   "id": "0e87260a",
   "metadata": {},
   "source": [
    "Исходные данные сведены в один датафрейм."
   ]
  },
  {
   "cell_type": "markdown",
   "id": "efcf31ea",
   "metadata": {},
   "source": [
    "### Замена типа данных\n",
    "Заменим тип данных `event_time` на тип данных `datetime` с помощью `pandas.to_datetime`."
   ]
  },
  {
   "cell_type": "code",
   "execution_count": 10,
   "id": "d41ac345",
   "metadata": {},
   "outputs": [],
   "source": [
    "# Изменим тип данных на datetime\n",
    "df['event_time'] = pd.to_datetime(df['event_time'])"
   ]
  },
  {
   "cell_type": "markdown",
   "id": "0a627010",
   "metadata": {},
   "source": [
    "Тип данных столбца `event_time` приведен к корректному."
   ]
  },
  {
   "cell_type": "markdown",
   "id": "9b241136",
   "metadata": {},
   "source": [
    "### Объединение событий\n",
    "Объединим события `search_1` - `search_7` и `contacts_show` / `show_contacts`."
   ]
  },
  {
   "cell_type": "code",
   "execution_count": 11,
   "id": "377b52d4",
   "metadata": {},
   "outputs": [
    {
     "data": {
      "text/plain": [
       "tips_show        40055\n",
       "photos_show      10012\n",
       "search            6784\n",
       "advert_open       6164\n",
       "contacts_show     4529\n",
       "map               3881\n",
       "favorites_add     1417\n",
       "tips_click         814\n",
       "contacts_call      541\n",
       "Name: event_name, dtype: int64"
      ]
     },
     "execution_count": 11,
     "metadata": {},
     "output_type": "execute_result"
    }
   ],
   "source": [
    "# Заменяем события search_1-search_7 на search\n",
    "df.loc[df['event_name'].str.contains('search'), 'event_name'] = 'search'\n",
    "\n",
    "# Заменяем события show_contacts на contacts_show\n",
    "df.loc[df['event_name'] == 'show_contacts', 'event_name'] = 'contacts_show'\n",
    "\n",
    "# Проверяем значения event_name\n",
    "df['event_name'].value_counts()"
   ]
  },
  {
   "cell_type": "markdown",
   "id": "70e221fe",
   "metadata": {},
   "source": [
    "Одинаковые по смыслу события объединены в категории `search` и `contacts_show`."
   ]
  },
  {
   "cell_type": "markdown",
   "id": "36100c24",
   "metadata": {},
   "source": [
    "### Обработка дубликатов\n",
    "Проверим данные на явные строковые дубликаты."
   ]
  },
  {
   "cell_type": "code",
   "execution_count": 12,
   "id": "0fcb292a",
   "metadata": {},
   "outputs": [
    {
     "name": "stdout",
     "output_type": "stream",
     "text": [
      "Дубликаты: 0\n"
     ]
    }
   ],
   "source": [
    "# Проверим дубликаты\n",
    "print('Дубликаты:', df.duplicated().sum())"
   ]
  },
  {
   "cell_type": "markdown",
   "id": "0843de6e",
   "metadata": {},
   "source": [
    "Явные строковые дубликаты отсутствуют.\n",
    "\n",
    "Проверим, как связно наличие дубликатов с точностью времени регистрации события — как отстоят друг от друга одинаковые события одних и тех же пользователей."
   ]
  },
  {
   "cell_type": "code",
   "execution_count": 13,
   "id": "4b99eac2",
   "metadata": {
    "scrolled": false
   },
   "outputs": [
    {
     "name": "stdout",
     "output_type": "stream",
     "text": [
      "Дубликаты при округлении до миллисекунд: 44\n",
      "Дубликаты при округлении до секунд: 1189\n"
     ]
    },
    {
     "data": {
      "text/html": [
       "<div>\n",
       "<style scoped>\n",
       "    .dataframe tbody tr th:only-of-type {\n",
       "        vertical-align: middle;\n",
       "    }\n",
       "\n",
       "    .dataframe tbody tr th {\n",
       "        vertical-align: top;\n",
       "    }\n",
       "\n",
       "    .dataframe thead th {\n",
       "        text-align: right;\n",
       "    }\n",
       "</style>\n",
       "<table border=\"1\" class=\"dataframe\">\n",
       "  <thead>\n",
       "    <tr style=\"text-align: right;\">\n",
       "      <th></th>\n",
       "      <th>event_time</th>\n",
       "      <th>event_name</th>\n",
       "      <th>user_id</th>\n",
       "      <th>source</th>\n",
       "    </tr>\n",
       "  </thead>\n",
       "  <tbody>\n",
       "    <tr>\n",
       "      <th>73010</th>\n",
       "      <td>2019-11-03 18:02:20</td>\n",
       "      <td>photos_show</td>\n",
       "      <td>6e623c43-e219-4c27-bc29-5180d9250f8d</td>\n",
       "      <td>other</td>\n",
       "    </tr>\n",
       "    <tr>\n",
       "      <th>73011</th>\n",
       "      <td>2019-11-03 18:02:20</td>\n",
       "      <td>photos_show</td>\n",
       "      <td>6e623c43-e219-4c27-bc29-5180d9250f8d</td>\n",
       "      <td>other</td>\n",
       "    </tr>\n",
       "    <tr>\n",
       "      <th>73426</th>\n",
       "      <td>2019-11-03 20:09:47</td>\n",
       "      <td>tips_show</td>\n",
       "      <td>a0944ccf-5813-427a-966e-b146d4e9adbc</td>\n",
       "      <td>google</td>\n",
       "    </tr>\n",
       "    <tr>\n",
       "      <th>73427</th>\n",
       "      <td>2019-11-03 20:09:47</td>\n",
       "      <td>tips_show</td>\n",
       "      <td>a0944ccf-5813-427a-966e-b146d4e9adbc</td>\n",
       "      <td>google</td>\n",
       "    </tr>\n",
       "    <tr>\n",
       "      <th>73677</th>\n",
       "      <td>2019-11-03 21:10:40</td>\n",
       "      <td>photos_show</td>\n",
       "      <td>06edf71c-b725-47dc-acfe-0c78f079fe8f</td>\n",
       "      <td>yandex</td>\n",
       "    </tr>\n",
       "    <tr>\n",
       "      <th>73678</th>\n",
       "      <td>2019-11-03 21:10:40</td>\n",
       "      <td>photos_show</td>\n",
       "      <td>06edf71c-b725-47dc-acfe-0c78f079fe8f</td>\n",
       "      <td>yandex</td>\n",
       "    </tr>\n",
       "    <tr>\n",
       "      <th>73838</th>\n",
       "      <td>2019-11-03 21:45:22</td>\n",
       "      <td>photos_show</td>\n",
       "      <td>1af9ffcd-2c77-4de0-9d35-3ff30604c9bd</td>\n",
       "      <td>google</td>\n",
       "    </tr>\n",
       "    <tr>\n",
       "      <th>73839</th>\n",
       "      <td>2019-11-03 21:45:22</td>\n",
       "      <td>photos_show</td>\n",
       "      <td>1af9ffcd-2c77-4de0-9d35-3ff30604c9bd</td>\n",
       "      <td>google</td>\n",
       "    </tr>\n",
       "    <tr>\n",
       "      <th>74027</th>\n",
       "      <td>2019-11-03 22:41:01</td>\n",
       "      <td>tips_show</td>\n",
       "      <td>16a5371c-152f-48d8-86fe-5636a931316b</td>\n",
       "      <td>yandex</td>\n",
       "    </tr>\n",
       "    <tr>\n",
       "      <th>74028</th>\n",
       "      <td>2019-11-03 22:41:01</td>\n",
       "      <td>tips_show</td>\n",
       "      <td>16a5371c-152f-48d8-86fe-5636a931316b</td>\n",
       "      <td>yandex</td>\n",
       "    </tr>\n",
       "  </tbody>\n",
       "</table>\n",
       "</div>"
      ],
      "text/plain": [
       "               event_time   event_name                               user_id  \\\n",
       "73010 2019-11-03 18:02:20  photos_show  6e623c43-e219-4c27-bc29-5180d9250f8d   \n",
       "73011 2019-11-03 18:02:20  photos_show  6e623c43-e219-4c27-bc29-5180d9250f8d   \n",
       "73426 2019-11-03 20:09:47    tips_show  a0944ccf-5813-427a-966e-b146d4e9adbc   \n",
       "73427 2019-11-03 20:09:47    tips_show  a0944ccf-5813-427a-966e-b146d4e9adbc   \n",
       "73677 2019-11-03 21:10:40  photos_show  06edf71c-b725-47dc-acfe-0c78f079fe8f   \n",
       "73678 2019-11-03 21:10:40  photos_show  06edf71c-b725-47dc-acfe-0c78f079fe8f   \n",
       "73838 2019-11-03 21:45:22  photos_show  1af9ffcd-2c77-4de0-9d35-3ff30604c9bd   \n",
       "73839 2019-11-03 21:45:22  photos_show  1af9ffcd-2c77-4de0-9d35-3ff30604c9bd   \n",
       "74027 2019-11-03 22:41:01    tips_show  16a5371c-152f-48d8-86fe-5636a931316b   \n",
       "74028 2019-11-03 22:41:01    tips_show  16a5371c-152f-48d8-86fe-5636a931316b   \n",
       "\n",
       "       source  \n",
       "73010   other  \n",
       "73011   other  \n",
       "73426  google  \n",
       "73427  google  \n",
       "73677  yandex  \n",
       "73678  yandex  \n",
       "73838  google  \n",
       "73839  google  \n",
       "74027  yandex  \n",
       "74028  yandex  "
      ]
     },
     "execution_count": 13,
     "metadata": {},
     "output_type": "execute_result"
    }
   ],
   "source": [
    "# Округлим время события до миллисекунд и проверим заново\n",
    "duplicates = df.copy()\n",
    "duplicates['event_time'] = duplicates['event_time'].dt.round('ms')\n",
    "print(\n",
    "    'Дубликаты при округлении до миллисекунд:',\n",
    "    duplicates.duplicated().sum()\n",
    ")\n",
    "\n",
    "# Округлим время события до секунд и проверим заново\n",
    "duplicates['event_time'] = duplicates['event_time'].dt.round('S')\n",
    "print(\n",
    "    'Дубликаты при округлении до секунд:',\n",
    "    duplicates.duplicated().sum()\n",
    ")\n",
    "\n",
    "# Выведем несколько примеров дубликатов\n",
    "duplicates.loc[duplicates.duplicated(keep=False)].tail(10)"
   ]
  },
  {
   "cell_type": "markdown",
   "id": "ae5c25a3",
   "metadata": {},
   "source": [
    "При округлении до миллисекунд появляется 44 дубликата, а при округлении до секунд — 1189 дубликатов.\n",
    "\n",
    "Если появление дубликатов при округлении до миллисекунд можно считать технической ошибкой (вероятность за миллисекунду выполнить два действия крайне мала), то дубликаты при округлении до секунд однозначно интерпретировать сложно. Возникновение таких дубликатов может быть связано как с технической ошибкой (повторная регистрация события), так и быть вполне правдоподобным явлением (случайное повторное нажатие).\n",
    "\n",
    "В рамках исследования время события решено не округлять, дубликаты, возникающие при округлении, не удалять. Поскольку основные метрики и проверки выполняются по уникальным пользователям, такие дубли не окажут влияния на результат."
   ]
  },
  {
   "cell_type": "markdown",
   "id": "5f73bbc6",
   "metadata": {},
   "source": [
    "**Вывод**\n",
    "<div style=\"background-color: #FBD603; width: 48px; height: 5px\">&nbsp;</div>\n",
    "\n",
    "На этапе предобработки данных мы исправили стиль заголовков и тип данных столбца `event_time`.\n",
    "\n",
    "Исходные данные были объединены в один датафрейм.\n",
    "\n",
    "Мы обнаружили аномалию в данных — дубликаты, возникающие при округлении времени события до миллисекунд и секунд. Не имея дополнительной информации о регистрации событий, невозможно однозначно утверждать, является ли она ошибкой в данных. Решено время события не округлять, потенциальные дубликаты не удалять, так как они не оказали бы влияния на результаты исследования."
   ]
  },
  {
   "cell_type": "markdown",
   "id": "ecfd10b2",
   "metadata": {},
   "source": [
    "## Исследовательский анализ данных\n",
    "Изучим события и пользователей в логах, период наблюдения. Выделим и изучим пользовательские сессии. Получим пользовательские профили. Рассчитаем DAU, retention rate и конверсию."
   ]
  },
  {
   "cell_type": "markdown",
   "id": "62e28fdf",
   "metadata": {},
   "source": [
    "### События и пользователи в логах\n",
    "Узнаем, сколько всего событий, пользователей в логах, а также сколько в среднем событий приходится на пользователя."
   ]
  },
  {
   "cell_type": "code",
   "execution_count": 14,
   "id": "617b3b02",
   "metadata": {
    "scrolled": false
   },
   "outputs": [
    {
     "data": {
      "image/png": "[encoded data removed]",
      "text/plain": [
       "<Figure size 576x432 with 1 Axes>"
      ]
     },
     "metadata": {
      "needs_background": "light"
     },
     "output_type": "display_data"
    }
   ],
   "source": [
    "# Распределение событий по типам\n",
    "(\n",
    "    df\n",
    "    .groupby('event_name')\n",
    "    .agg({'user_id': 'count'})\n",
    "    .sort_values(by='user_id', ascending=True)\n",
    "    .plot(kind='barh', figsize=(8, 6), legend=False)\n",
    ")\n",
    "plt.title('Количество событий')\n",
    "plt.xlabel('количество')\n",
    "plt.ylabel('событие')\n",
    "plt.show()"
   ]
  },
  {
   "cell_type": "markdown",
   "id": "e994849c",
   "metadata": {},
   "source": [
    "Наиболее частое событие — *tips_show* (увидел рекомендованные объявления). Исходя из документации, это событие по умолчанию, пользователю всегда показываются рекомендованные объявления.\n",
    "\n",
    "Из пользовательских взаимодействий наиболее частыми являются *photos_show* (просмотрел фотографий в объявлении), *search* (действия, связанные с поиском по сайту), *advert_open* (открыл карточки объявления), contacts_show (посмотрел номер телефона) и *map* (открыл карту объявлений).\n",
    "\n",
    "Среди редких пользовательских взаимодействий *favorites_add* (добавил объявление в избранное), *tips_click* (кликнул по рекомендованному объявлению) и *contacts_call* (позвонил по номеру из объявления)."
   ]
  },
  {
   "cell_type": "code",
   "execution_count": 15,
   "id": "0f00a8ca",
   "metadata": {},
   "outputs": [
    {
     "name": "stdout",
     "output_type": "stream",
     "text": [
      "Уникальных пользователей: 4293\n"
     ]
    }
   ],
   "source": [
    "# Количество пользователей\n",
    "print(\n",
    "    'Уникальных пользователей:',\n",
    "    df['user_id'].nunique()\n",
    ")"
   ]
  },
  {
   "cell_type": "markdown",
   "id": "110aa5e0",
   "metadata": {},
   "source": [
    "В датасете представлены данные 4293 уникальных пользователей."
   ]
  },
  {
   "cell_type": "code",
   "execution_count": 16,
   "id": "cc98829a",
   "metadata": {},
   "outputs": [
    {
     "data": {
      "text/html": [
       "<div>\n",
       "<style scoped>\n",
       "    .dataframe tbody tr th:only-of-type {\n",
       "        vertical-align: middle;\n",
       "    }\n",
       "\n",
       "    .dataframe tbody tr th {\n",
       "        vertical-align: top;\n",
       "    }\n",
       "\n",
       "    .dataframe thead th {\n",
       "        text-align: right;\n",
       "    }\n",
       "</style>\n",
       "<table border=\"1\" class=\"dataframe\">\n",
       "  <thead>\n",
       "    <tr style=\"text-align: right;\">\n",
       "      <th></th>\n",
       "      <th>event_name</th>\n",
       "    </tr>\n",
       "  </thead>\n",
       "  <tbody>\n",
       "    <tr>\n",
       "      <th>count</th>\n",
       "      <td>4293.000000</td>\n",
       "    </tr>\n",
       "    <tr>\n",
       "      <th>mean</th>\n",
       "      <td>17.283252</td>\n",
       "    </tr>\n",
       "    <tr>\n",
       "      <th>std</th>\n",
       "      <td>29.130677</td>\n",
       "    </tr>\n",
       "    <tr>\n",
       "      <th>min</th>\n",
       "      <td>1.000000</td>\n",
       "    </tr>\n",
       "    <tr>\n",
       "      <th>25%</th>\n",
       "      <td>5.000000</td>\n",
       "    </tr>\n",
       "    <tr>\n",
       "      <th>50%</th>\n",
       "      <td>9.000000</td>\n",
       "    </tr>\n",
       "    <tr>\n",
       "      <th>75%</th>\n",
       "      <td>17.000000</td>\n",
       "    </tr>\n",
       "    <tr>\n",
       "      <th>max</th>\n",
       "      <td>478.000000</td>\n",
       "    </tr>\n",
       "  </tbody>\n",
       "</table>\n",
       "</div>"
      ],
      "text/plain": [
       "        event_name\n",
       "count  4293.000000\n",
       "mean     17.283252\n",
       "std      29.130677\n",
       "min       1.000000\n",
       "25%       5.000000\n",
       "50%       9.000000\n",
       "75%      17.000000\n",
       "max     478.000000"
      ]
     },
     "execution_count": 16,
     "metadata": {},
     "output_type": "execute_result"
    }
   ],
   "source": [
    "# Количество событий на пользователя\n",
    "(\n",
    "    df\n",
    "    .groupby('user_id')\n",
    "    .agg({'event_name': 'count'})\n",
    "    .describe()\n",
    ")"
   ]
  },
  {
   "cell_type": "markdown",
   "id": "48e4aebd",
   "metadata": {},
   "source": [
    "В среднем на одного уникального пользователя приходится 17 событий, медианное значение — 9 событий. На среднее значение сильно влияют выбросы (пользователи, с очень большим числом событий)."
   ]
  },
  {
   "cell_type": "markdown",
   "id": "b4d11b36",
   "metadata": {},
   "source": [
    "### Период наблюдения\n",
    "Оценим, данными за какой период мы располагаем, а также полноту данных."
   ]
  },
  {
   "cell_type": "code",
   "execution_count": 17,
   "id": "4891c45a",
   "metadata": {
    "scrolled": true
   },
   "outputs": [
    {
     "name": "stdout",
     "output_type": "stream",
     "text": [
      "Минимальная дата: 2019-10-07 00:00:00 \n",
      "Максимальная дата: 2019-11-03 23:58:13\n"
     ]
    }
   ],
   "source": [
    "# Минимальная и максимальная даты события\n",
    "print(\n",
    "    'Минимальная дата:',\n",
    "    df['event_time'].min().round(freq='S'),\n",
    "    '\\nМаксимальная дата:',\n",
    "    df['event_time'].max().round(freq='S')\n",
    ")"
   ]
  },
  {
   "cell_type": "markdown",
   "id": "e2014a6c",
   "metadata": {},
   "source": [
    "В логах представлены данные о событиях за период с 7 октября 2019 по 3 ноября 2019. Это 4 полные недели, начиная с понедельника.\n",
    "\n",
    "Посмотрим, как распределены события по дате."
   ]
  },
  {
   "cell_type": "code",
   "execution_count": 18,
   "id": "1604945f",
   "metadata": {
    "scrolled": false
   },
   "outputs": [
    {
     "data": {
      "image/png": "[encoded data removed]",
      "text/plain": [
       "<Figure size 864x576 with 1 Axes>"
      ]
     },
     "metadata": {
      "needs_background": "light"
     },
     "output_type": "display_data"
    }
   ],
   "source": [
    "# Выделим день в отдельный столбец\n",
    "df['event_date'] = df['event_time'].dt.date\n",
    "\n",
    "# График распределения событий по дате\n",
    "(\n",
    "    df\n",
    "    .groupby('event_date')\n",
    "    .agg({'event_name': 'count'})\n",
    "    .plot(kind='bar', figsize=(12, 8), legend=False)\n",
    ")\n",
    "for i in range(len(df['event_date'].unique())):\n",
    "    if i in [6, 13, 20, 27]:\n",
    "        plt.axvline(x=i, color='gray', alpha=0.25, linestyle='--')\n",
    "plt.title('Распределение событий по дате')\n",
    "plt.xlabel('дата')\n",
    "plt.ylabel('количество событий')\n",
    "plt.show()"
   ]
  },
  {
   "cell_type": "markdown",
   "id": "06120d3f",
   "metadata": {},
   "source": [
    "Судя по графику, данные за рассматриваемый период полные.\n",
    "\n",
    "На графике видно, что количество событий различается по дням недели (конец недели отмечен пунктирной линией). Наибольшее число событий обычно совершаются в понедельник и вторник, к выходным активность пользователей снижается. Можно отметить растущий тренд — от недели к неделе растет число событий."
   ]
  },
  {
   "cell_type": "markdown",
   "id": "e476bf2f",
   "metadata": {},
   "source": [
    "### Пользовательские сессий\n",
    "Определим величину таймаута. Выделим пользовательские сессии. Рассчитаем и визуализируем число сессий на пользователя.\n",
    "\n",
    "Для последующего выделения пользовательских сессий нужно определиться со значением таймаута — времени, по которому мы разделим 2 последовательных события одного пользователя на разные сессии."
   ]
  },
  {
   "cell_type": "code",
   "execution_count": 19,
   "id": "9a8111ee",
   "metadata": {},
   "outputs": [
    {
     "name": "stdout",
     "output_type": "stream",
     "text": [
      "count                        69904\n",
      "mean     0 days 03:53:01.169952121\n",
      "std      1 days 01:32:57.259354294\n",
      "min         0 days 00:00:00.000001\n",
      "25%      0 days 00:00:23.594245250\n",
      "50%         0 days 00:01:10.535313\n",
      "75%      0 days 00:03:00.300498750\n",
      "max        26 days 13:49:54.853516\n",
      "Name: event_time, dtype: object\n"
     ]
    },
    {
     "data": {
      "image/png": "[encoded data removed]",
      "text/plain": [
       "<Figure size 576x432 with 1 Axes>"
      ]
     },
     "metadata": {
      "needs_background": "light"
     },
     "output_type": "display_data"
    }
   ],
   "source": [
    "# Рассчитаем разницу времени между событиями\n",
    "# для каждого пользователя\n",
    "report = df.groupby('user_id')['event_time'].diff()\n",
    "\n",
    "# Числовое описание времени между событиями\n",
    "print(report.describe())\n",
    "\n",
    "# График времени между событиями\n",
    "report.astype('timedelta64[s]').plot(\n",
    "    kind='hist',\n",
    "    bins=100,\n",
    "    range=(0, 3600),\n",
    "    figsize=(8, 6),\n",
    "    legend=False\n",
    ")\n",
    "plt.title('Время между событиями')\n",
    "plt.xlabel('время, с')\n",
    "plt.ylabel('сессии')\n",
    "plt.show()"
   ]
  },
  {
   "cell_type": "markdown",
   "id": "3377b1ad",
   "metadata": {},
   "source": [
    "Время между событиями изменяется в очень широком диапазоне - от долей секунды до 26 дней, стандартное отклонение 1 день 1 час 32 минуты. Однако, 75% значений укладывается в 3 минуты. Такая разница объясняется тем, что один пользователь может активно использовать приложение несколько минут подряд или повторно зайти спустя неделю — это нормальное поведение.\n",
    "\n",
    "На гистограмме отображены временные интервалы между событиями в диапазоне от 0 до 3600 секунд (1 час). Видно, интервалы более 1800 секунд (30 минут) встречаются редко. 30 минут выберем в качкстве значения таймаута — если следующее событие одного пользователя происходит спустя более чем 30 минут от предыдущего, будем считать такое событие началом новой сессии.\n",
    "\n",
    "Для выделения пользовательских сессий отсортируем датафрейм по пользователям (`user_id`) и времени события (`event_time`). Начало новой сессии фиксуруем, если соблюдается одно из условий:\n",
    "\n",
    "* меняется пользователь (`user_id` следующей строки от предыдущей)\n",
    "* таймаут между событиями более 30 минут (`event_time` следующей строки от предыдущей на 30 минут и более)\n",
    "\n",
    "Каждой сессии с помощью метода *cumsum()* присвоим значения, начиная с 1 (технически мы считаем накопительным итогом количество значений True)."
   ]
  },
  {
   "cell_type": "code",
   "execution_count": 20,
   "id": "e3c7eb92",
   "metadata": {
    "scrolled": true
   },
   "outputs": [
    {
     "name": "stdout",
     "output_type": "stream",
     "text": [
      "Количество пользовательских сессий: 10368\n"
     ]
    },
    {
     "data": {
      "text/html": [
       "<div>\n",
       "<style scoped>\n",
       "    .dataframe tbody tr th:only-of-type {\n",
       "        vertical-align: middle;\n",
       "    }\n",
       "\n",
       "    .dataframe tbody tr th {\n",
       "        vertical-align: top;\n",
       "    }\n",
       "\n",
       "    .dataframe thead th {\n",
       "        text-align: right;\n",
       "    }\n",
       "</style>\n",
       "<table border=\"1\" class=\"dataframe\">\n",
       "  <thead>\n",
       "    <tr style=\"text-align: right;\">\n",
       "      <th></th>\n",
       "      <th>event_time</th>\n",
       "      <th>event_name</th>\n",
       "      <th>user_id</th>\n",
       "      <th>source</th>\n",
       "      <th>event_date</th>\n",
       "      <th>session</th>\n",
       "    </tr>\n",
       "  </thead>\n",
       "  <tbody>\n",
       "    <tr>\n",
       "      <th>805</th>\n",
       "      <td>2019-10-07 13:39:45.989359</td>\n",
       "      <td>tips_show</td>\n",
       "      <td>0001b1d5-b74a-4cbf-aeb0-7df5947bf349</td>\n",
       "      <td>other</td>\n",
       "      <td>2019-10-07</td>\n",
       "      <td>1</td>\n",
       "    </tr>\n",
       "    <tr>\n",
       "      <th>806</th>\n",
       "      <td>2019-10-07 13:40:31.052909</td>\n",
       "      <td>tips_show</td>\n",
       "      <td>0001b1d5-b74a-4cbf-aeb0-7df5947bf349</td>\n",
       "      <td>other</td>\n",
       "      <td>2019-10-07</td>\n",
       "      <td>1</td>\n",
       "    </tr>\n",
       "    <tr>\n",
       "      <th>809</th>\n",
       "      <td>2019-10-07 13:41:05.722489</td>\n",
       "      <td>tips_show</td>\n",
       "      <td>0001b1d5-b74a-4cbf-aeb0-7df5947bf349</td>\n",
       "      <td>other</td>\n",
       "      <td>2019-10-07</td>\n",
       "      <td>1</td>\n",
       "    </tr>\n",
       "    <tr>\n",
       "      <th>820</th>\n",
       "      <td>2019-10-07 13:43:20.735461</td>\n",
       "      <td>tips_show</td>\n",
       "      <td>0001b1d5-b74a-4cbf-aeb0-7df5947bf349</td>\n",
       "      <td>other</td>\n",
       "      <td>2019-10-07</td>\n",
       "      <td>1</td>\n",
       "    </tr>\n",
       "    <tr>\n",
       "      <th>830</th>\n",
       "      <td>2019-10-07 13:45:30.917502</td>\n",
       "      <td>tips_show</td>\n",
       "      <td>0001b1d5-b74a-4cbf-aeb0-7df5947bf349</td>\n",
       "      <td>other</td>\n",
       "      <td>2019-10-07</td>\n",
       "      <td>1</td>\n",
       "    </tr>\n",
       "  </tbody>\n",
       "</table>\n",
       "</div>"
      ],
      "text/plain": [
       "                    event_time event_name  \\\n",
       "805 2019-10-07 13:39:45.989359  tips_show   \n",
       "806 2019-10-07 13:40:31.052909  tips_show   \n",
       "809 2019-10-07 13:41:05.722489  tips_show   \n",
       "820 2019-10-07 13:43:20.735461  tips_show   \n",
       "830 2019-10-07 13:45:30.917502  tips_show   \n",
       "\n",
       "                                  user_id source  event_date  session  \n",
       "805  0001b1d5-b74a-4cbf-aeb0-7df5947bf349  other  2019-10-07        1  \n",
       "806  0001b1d5-b74a-4cbf-aeb0-7df5947bf349  other  2019-10-07        1  \n",
       "809  0001b1d5-b74a-4cbf-aeb0-7df5947bf349  other  2019-10-07        1  \n",
       "820  0001b1d5-b74a-4cbf-aeb0-7df5947bf349  other  2019-10-07        1  \n",
       "830  0001b1d5-b74a-4cbf-aeb0-7df5947bf349  other  2019-10-07        1  "
      ]
     },
     "execution_count": 20,
     "metadata": {},
     "output_type": "execute_result"
    }
   ],
   "source": [
    "# Сортируем датафрейм\n",
    "df = df.sort_values(by=['user_id', 'event_time'])\n",
    "\n",
    "# Получаем фильтр по user_id\n",
    "user_change = df['user_id'] != df['user_id'].shift()\n",
    "\n",
    "# Получаем фильтр по event_time\n",
    "timeout = df['event_time'].diff() > dt.timedelta(minutes=30)\n",
    "\n",
    "# Добавляем сессии в датафрейм\n",
    "df['session'] = (user_change | timeout).cumsum()\n",
    "\n",
    "# Считаем сессий\n",
    "print(\n",
    "    'Количество пользовательских сессий:',\n",
    "    df['session'].nunique()\n",
    ")\n",
    "\n",
    "# Проверяем датафрейм\n",
    "df.head(5)"
   ]
  },
  {
   "cell_type": "markdown",
   "id": "a26fffb2",
   "metadata": {},
   "source": [
    "Выделено 10 368 пользовательских сессий.\n",
    "\n",
    "Посчитаем и визуализируем число сессий на пользователя."
   ]
  },
  {
   "cell_type": "code",
   "execution_count": 21,
   "id": "725d72d5",
   "metadata": {},
   "outputs": [
    {
     "name": "stdout",
     "output_type": "stream",
     "text": [
      "Среднее число сессий на пользователя: 2.4 \n",
      "Медианное число сессий на пользователя: 1.0\n"
     ]
    },
    {
     "data": {
      "image/png": "[encoded data removed]",
      "text/plain": [
       "<Figure size 576x432 with 1 Axes>"
      ]
     },
     "metadata": {
      "needs_background": "light"
     },
     "output_type": "display_data"
    }
   ],
   "source": [
    "# Среднее и медианное число сессий на пользователя\n",
    "report = df.groupby('user_id').agg({'session': 'nunique'})\n",
    "print(\n",
    "    'Среднее число сессий на пользователя:',\n",
    "    round(report['session'].mean(), 1),\n",
    "    '\\nМедианное число сессий на пользователя:',\n",
    "    report['session'].median()\n",
    ")\n",
    "\n",
    "# Рассчитаем Q3 и IQR для построения графика без выбросов\n",
    "q1 = report['session'].quantile(0.25) # первый квартиль Q1\n",
    "q3 = report['session'].quantile(0.75) # третий квартиль Q3\n",
    "iqr = q3 - q1 # межквартильный размах IQR\n",
    "\n",
    "# График распределения числа сессий на пользователя\n",
    "report.plot(\n",
    "    kind='hist',\n",
    "    bins=5,\n",
    "    range=(1, (q3 + 1.5 * iqr)),\n",
    "    figsize=(8, 6),\n",
    "    legend=False\n",
    ")\n",
    "plt.title('Число сессий на пользователя')\n",
    "plt.xlabel('сессии на пользователя')\n",
    "plt.ylabel('пользователи')\n",
    "plt.show()"
   ]
  },
  {
   "cell_type": "markdown",
   "id": "8080a8f6",
   "metadata": {},
   "source": [
    "В среднем на одного пользователя приходится 2 сессии, но медианное значение — 1 сессия на пользователя. Среднее значение больше медианы из-за длинного хвоста редких, но очень высоких значений. Судя по гистограмме, большинство пользователей действительно имели по 1 сессии и больше в приложение не возвращались."
   ]
  },
  {
   "cell_type": "markdown",
   "id": "5d551f74",
   "metadata": {},
   "source": [
    "### Пользовательские профили\n",
    "Для последующего расчета конверсии и retention rate получим пользовательские профили — список уникальных пользователей с данными о дате первого посещения и источнике привлечения пользователя."
   ]
  },
  {
   "cell_type": "code",
   "execution_count": 22,
   "id": "840d3f90",
   "metadata": {},
   "outputs": [
    {
     "data": {
      "text/html": [
       "<div>\n",
       "<style scoped>\n",
       "    .dataframe tbody tr th:only-of-type {\n",
       "        vertical-align: middle;\n",
       "    }\n",
       "\n",
       "    .dataframe tbody tr th {\n",
       "        vertical-align: top;\n",
       "    }\n",
       "\n",
       "    .dataframe thead th {\n",
       "        text-align: right;\n",
       "    }\n",
       "</style>\n",
       "<table border=\"1\" class=\"dataframe\">\n",
       "  <thead>\n",
       "    <tr style=\"text-align: right;\">\n",
       "      <th></th>\n",
       "      <th>user_id</th>\n",
       "      <th>first_ts</th>\n",
       "      <th>source</th>\n",
       "      <th>first_dt</th>\n",
       "    </tr>\n",
       "  </thead>\n",
       "  <tbody>\n",
       "    <tr>\n",
       "      <th>0</th>\n",
       "      <td>0001b1d5-b74a-4cbf-aeb0-7df5947bf349</td>\n",
       "      <td>2019-10-07 13:39:45.989359</td>\n",
       "      <td>other</td>\n",
       "      <td>2019-10-07</td>\n",
       "    </tr>\n",
       "    <tr>\n",
       "      <th>1</th>\n",
       "      <td>00157779-810c-4498-9e05-a1e9e3cedf93</td>\n",
       "      <td>2019-10-19 21:34:33.849769</td>\n",
       "      <td>yandex</td>\n",
       "      <td>2019-10-19</td>\n",
       "    </tr>\n",
       "    <tr>\n",
       "      <th>2</th>\n",
       "      <td>00463033-5717-4bf1-91b4-09183923b9df</td>\n",
       "      <td>2019-11-01 13:54:35.385028</td>\n",
       "      <td>yandex</td>\n",
       "      <td>2019-11-01</td>\n",
       "    </tr>\n",
       "    <tr>\n",
       "      <th>3</th>\n",
       "      <td>004690c3-5a84-4bb7-a8af-e0c8f8fca64e</td>\n",
       "      <td>2019-10-18 22:14:05.555052</td>\n",
       "      <td>google</td>\n",
       "      <td>2019-10-18</td>\n",
       "    </tr>\n",
       "    <tr>\n",
       "      <th>4</th>\n",
       "      <td>00551e79-152e-4441-9cf7-565d7eb04090</td>\n",
       "      <td>2019-10-25 16:44:41.263364</td>\n",
       "      <td>yandex</td>\n",
       "      <td>2019-10-25</td>\n",
       "    </tr>\n",
       "  </tbody>\n",
       "</table>\n",
       "</div>"
      ],
      "text/plain": [
       "                                user_id                   first_ts  source  \\\n",
       "0  0001b1d5-b74a-4cbf-aeb0-7df5947bf349 2019-10-07 13:39:45.989359   other   \n",
       "1  00157779-810c-4498-9e05-a1e9e3cedf93 2019-10-19 21:34:33.849769  yandex   \n",
       "2  00463033-5717-4bf1-91b4-09183923b9df 2019-11-01 13:54:35.385028  yandex   \n",
       "3  004690c3-5a84-4bb7-a8af-e0c8f8fca64e 2019-10-18 22:14:05.555052  google   \n",
       "4  00551e79-152e-4441-9cf7-565d7eb04090 2019-10-25 16:44:41.263364  yandex   \n",
       "\n",
       "     first_dt  \n",
       "0  2019-10-07  \n",
       "1  2019-10-19  \n",
       "2  2019-11-01  \n",
       "3  2019-10-18  \n",
       "4  2019-10-25  "
      ]
     },
     "execution_count": 22,
     "metadata": {},
     "output_type": "execute_result"
    }
   ],
   "source": [
    "# Получаем пользовательские профили\n",
    "profiles = (\n",
    "    df.groupby('user_id')\n",
    "    .agg({'event_time': 'min', 'source': 'first'})\n",
    "    .rename(columns={'event_time': 'first_ts'})\n",
    "    .reset_index()\n",
    ")\n",
    "\n",
    "# Выделяем день первого посещения\n",
    "profiles['first_dt'] = profiles['first_ts'].dt.date\n",
    "\n",
    "# Проверяем полученные профили\n",
    "profiles.head()"
   ]
  },
  {
   "cell_type": "markdown",
   "id": "fb1ddc36",
   "metadata": {},
   "source": [
    "Пользовательские профили сформированы."
   ]
  },
  {
   "cell_type": "markdown",
   "id": "4343ee87",
   "metadata": {},
   "source": [
    "### DAU\n",
    "Рассчитаем и визуализируем метрику DAU."
   ]
  },
  {
   "cell_type": "code",
   "execution_count": 23,
   "id": "e7861a9a",
   "metadata": {},
   "outputs": [
    {
     "name": "stdout",
     "output_type": "stream",
     "text": [
      "Средний DAU: 279.2\n"
     ]
    },
    {
     "data": {
      "image/png": "[encoded data removed]",
      "text/plain": [
       "<Figure size 864x432 with 1 Axes>"
      ]
     },
     "metadata": {
      "needs_background": "light"
     },
     "output_type": "display_data"
    }
   ],
   "source": [
    "# Рассчитаем DAU\n",
    "report = df.groupby('event_date').agg({'user_id': 'nunique'})\n",
    "\n",
    "# Рассчитаем средний DAU\n",
    "print(\n",
    "    'Средний DAU:',\n",
    "    round(report['user_id'].mean(), 1)\n",
    ")\n",
    "\n",
    "# Построим график DAU\n",
    "report.plot(figsize=(12, 6), grid=True, marker='o', legend=False)\n",
    "plt.title('DAU')\n",
    "plt.xlabel('дата')\n",
    "plt.ylabel('уникальные пользователи')\n",
    "plt.annotate(\n",
    "    'резкий рост',\n",
    "    xy=('2019-10-13', 226),\n",
    "    xytext=('2019-10-10', 275),\n",
    "    arrowprops=dict(arrowstyle='-|>', facecolor='black')\n",
    ")\n",
    "plt.annotate(\n",
    "    'резкое падение',\n",
    "    xy=('2019-11-01', 279),\n",
    "    xytext=('2019-10-28', 225),\n",
    "    arrowprops=dict(arrowstyle='-|>', facecolor='black')\n",
    ")\n",
    "plt.show()"
   ]
  },
  {
   "cell_type": "markdown",
   "id": "27be9e3c",
   "metadata": {},
   "source": [
    "Средний DAU составляет 279 уникальных пользователей.\n",
    "\n",
    "Минимальное значение DAU (178 пользователей) зафиксировано 12.10.2019, затем на графике отмечается резкий рост. До 31.10.2019 наблюдается растущий тренд, после этой даты — резкое снижение DAU."
   ]
  },
  {
   "cell_type": "markdown",
   "id": "6c4e4bb7",
   "metadata": {},
   "source": [
    "### Retention\n",
    "Рассчитаем retention rate."
   ]
  },
  {
   "cell_type": "code",
   "execution_count": 24,
   "id": "b89fdfa9",
   "metadata": {},
   "outputs": [
    {
     "data": {
      "text/html": [
       "<div>\n",
       "<style scoped>\n",
       "    .dataframe tbody tr th:only-of-type {\n",
       "        vertical-align: middle;\n",
       "    }\n",
       "\n",
       "    .dataframe tbody tr th {\n",
       "        vertical-align: top;\n",
       "    }\n",
       "\n",
       "    .dataframe thead th {\n",
       "        text-align: right;\n",
       "    }\n",
       "</style>\n",
       "<table border=\"1\" class=\"dataframe\">\n",
       "  <thead>\n",
       "    <tr style=\"text-align: right;\">\n",
       "      <th></th>\n",
       "      <th>user_id</th>\n",
       "      <th>session</th>\n",
       "      <th>session_start</th>\n",
       "    </tr>\n",
       "  </thead>\n",
       "  <tbody>\n",
       "    <tr>\n",
       "      <th>0</th>\n",
       "      <td>0001b1d5-b74a-4cbf-aeb0-7df5947bf349</td>\n",
       "      <td>1</td>\n",
       "      <td>2019-10-07 13:39:45.989359</td>\n",
       "    </tr>\n",
       "    <tr>\n",
       "      <th>1</th>\n",
       "      <td>0001b1d5-b74a-4cbf-aeb0-7df5947bf349</td>\n",
       "      <td>2</td>\n",
       "      <td>2019-10-09 18:33:55.577963</td>\n",
       "    </tr>\n",
       "    <tr>\n",
       "      <th>2</th>\n",
       "      <td>0001b1d5-b74a-4cbf-aeb0-7df5947bf349</td>\n",
       "      <td>3</td>\n",
       "      <td>2019-10-21 19:52:30.778932</td>\n",
       "    </tr>\n",
       "    <tr>\n",
       "      <th>3</th>\n",
       "      <td>0001b1d5-b74a-4cbf-aeb0-7df5947bf349</td>\n",
       "      <td>4</td>\n",
       "      <td>2019-10-22 11:18:14.635436</td>\n",
       "    </tr>\n",
       "    <tr>\n",
       "      <th>4</th>\n",
       "      <td>00157779-810c-4498-9e05-a1e9e3cedf93</td>\n",
       "      <td>5</td>\n",
       "      <td>2019-10-19 21:34:33.849769</td>\n",
       "    </tr>\n",
       "  </tbody>\n",
       "</table>\n",
       "</div>"
      ],
      "text/plain": [
       "                                user_id  session              session_start\n",
       "0  0001b1d5-b74a-4cbf-aeb0-7df5947bf349        1 2019-10-07 13:39:45.989359\n",
       "1  0001b1d5-b74a-4cbf-aeb0-7df5947bf349        2 2019-10-09 18:33:55.577963\n",
       "2  0001b1d5-b74a-4cbf-aeb0-7df5947bf349        3 2019-10-21 19:52:30.778932\n",
       "3  0001b1d5-b74a-4cbf-aeb0-7df5947bf349        4 2019-10-22 11:18:14.635436\n",
       "4  00157779-810c-4498-9e05-a1e9e3cedf93        5 2019-10-19 21:34:33.849769"
      ]
     },
     "execution_count": 24,
     "metadata": {},
     "output_type": "execute_result"
    }
   ],
   "source": [
    "#Получаем список пользовательских сессий\n",
    "sessions = (\n",
    "    df\n",
    "    .groupby(['user_id', 'session'])\n",
    "    .agg({'event_time': 'min'})\n",
    "    .rename(columns={'event_time': 'session_start'})\n",
    "    .reset_index()\n",
    ")\n",
    "\n",
    "# Проверяем список сессий\n",
    "sessions.head()"
   ]
  },
  {
   "cell_type": "code",
   "execution_count": 25,
   "id": "5ac4739e",
   "metadata": {
    "scrolled": false
   },
   "outputs": [
    {
     "data": {
      "image/png": "[encoded data removed]",
      "text/plain": [
       "<Figure size 1152x576 with 2 Axes>"
      ]
     },
     "metadata": {
      "needs_background": "light"
     },
     "output_type": "display_data"
    }
   ],
   "source": [
    "# Задаем максимальную дату привлечения\n",
    "max_acquisition_date = dt.datetime(2019, 10, 21).date()\n",
    "\n",
    "# Задаем максимальный лайфтайм для графика\n",
    "max_lifetime = 14\n",
    "\n",
    "# Добавляем в профили данные session_start из сессий\n",
    "# с учетотом максимальной даты привлечения\n",
    "result_raw = (\n",
    "    profiles\n",
    "    .query('first_dt <= @max_acquisition_date')\n",
    "    .merge(\n",
    "        sessions[['user_id', 'session_start']],\n",
    "        on='user_id',\n",
    "        how='left'\n",
    "    )\n",
    ")\n",
    "\n",
    "# Добавляем лайфтайм для сессий в днях\n",
    "result_raw['lifetime'] = (\n",
    "    (result_raw['session_start']\n",
    "     - result_raw['first_ts']).dt.days\n",
    ")\n",
    "\n",
    "# Строим таблицу удержания\n",
    "result_grouped = (\n",
    "    result_raw\n",
    "    .pivot_table(\n",
    "        index='first_dt',\n",
    "        columns='lifetime',\n",
    "        values='user_id',\n",
    "        aggfunc='nunique'\n",
    "    )\n",
    ")\n",
    "\n",
    "# Вычисляем размеры когорт\n",
    "cohort_sizes = (\n",
    "    result_raw\n",
    "    .groupby('first_dt')\n",
    "    .agg({'user_id': 'nunique'})\n",
    "    .rename(columns={'user_id': 'cohort_size'})\n",
    ")\n",
    "\n",
    "# Объединяем размеры когорт и таблицу удержания\n",
    "result_grouped = (\n",
    "    cohort_sizes\n",
    "    .merge(result_grouped, on='first_dt', how='left')\n",
    "    .fillna(0)\n",
    ")\n",
    "\n",
    "# Делим данные таблицы удержания на размеры когорт\n",
    "result_grouped = (\n",
    "    result_grouped.div(result_grouped['cohort_size'], axis=0)\n",
    ")\n",
    "\n",
    "# Учитываем выбранный максимальный лайфтайм\n",
    "result_grouped = (\n",
    "    result_grouped[['cohort_size'] + list(range(max_lifetime))]\n",
    ")\n",
    "\n",
    "# Строим хитмэп удержания пользователей\n",
    "plt.figure(figsize=(16, 8))\n",
    "sns.heatmap(\n",
    "    result_grouped.drop(columns=['cohort_size', 0]),\n",
    "    annot=True,\n",
    "    fmt='.2%'\n",
    ")\n",
    "plt.title('Тепловая карта удержания пользователей')\n",
    "plt.ylabel('')\n",
    "plt.show()"
   ]
  },
  {
   "cell_type": "markdown",
   "id": "7fc89ec6",
   "metadata": {},
   "source": [
    "Тепловая карта показывает удержание пользователей до 14-го лайфтайма. Поэтому выбраны пользователи, привлеченные с 7 по 21 октября 2019 года, для которых есть полные данные по активности за 2 недели.\n",
    "\n",
    "На 2-й лайфтайм в мобильное приложение возвращается от 7,4 до 16% пользователей. Максимальный retention 2-го дня у когорты, привлеченной 8 октября. В среднем теряются 89% пользователей.\n",
    "\n",
    "На 14-й лайфтайм в мобильное приложение возвращается от 0,6 до 6% пользователей. Максимальный retention 14-го дня у когорты, привлеченной 14 октября. В среднем теряются 96% пользователей."
   ]
  },
  {
   "cell_type": "markdown",
   "id": "81fe575e",
   "metadata": {},
   "source": [
    "### Конверсия\n",
    "Рассчитаем конверсию в целевое событие *contacts_show*."
   ]
  },
  {
   "cell_type": "code",
   "execution_count": 26,
   "id": "d9ada5d3",
   "metadata": {},
   "outputs": [
    {
     "data": {
      "text/plain": [
       "conversion    0.23\n",
       "dtype: float64"
      ]
     },
     "execution_count": 26,
     "metadata": {},
     "output_type": "execute_result"
    }
   ],
   "source": [
    "# Добавим в датафрейм столбец conversion,\n",
    "# отмечающий является ли событие целевым\n",
    "df['conversion'] = df['event_name'] == 'contacts_show'\n",
    "df\n",
    "\n",
    "# Пользователи, совершившие конверсионное событие\n",
    "conversion = df.groupby('user_id').agg({'conversion': 'max'})\n",
    "\n",
    "# Конверсия\n",
    "round(conversion.mean(), 2)"
   ]
  },
  {
   "cell_type": "markdown",
   "id": "95b7deaa",
   "metadata": {},
   "source": [
    "Конверсия в целевое событие *contacts_show* составила 23%."
   ]
  },
  {
   "cell_type": "markdown",
   "id": "828bee48",
   "metadata": {},
   "source": [
    "**Вывод**\n",
    "<div style=\"background-color: #FBD603; width: 48px; height: 5px\">&nbsp;</div>\n",
    "\n",
    "В датасете представлены данные о событиях за период с 7 октября 2019 по 3 ноября 2019 для **4293 уникальных пользователей**.\n",
    "\n",
    "Медианное **число событий на одного уникального пользователя — 9**.\n",
    "\n",
    "Наиболее частыми являются tips_show (увидел рекомендованные объявления), photos_show (просмотрел фотографий в объявлении), search (действия, связанные с поиском по сайту), advert_open (открыл карточки объявления), contacts_show (посмотрел номер телефона) и map (открыл карту объявлений).\n",
    "\n",
    "Наибольшее число событий обычно совершаются в понедельник и вторник, к выходным активность пользователей снижается\n",
    "\n",
    "Выделено **10 368 пользовательских сессий**, сформированы пользовательские профили.\n",
    "\n",
    "Средний **DAU** составляет **279 уникальных пользователей**.\n",
    "\n",
    "Средний **retention rate** 2-го дня составляет **11%**, 14-го дня — **4%**.\n",
    "\n",
    "**Конверсия** в целевое событие *contacts_show* составила **23%**."
   ]
  },
  {
   "cell_type": "markdown",
   "id": "08cbdabd",
   "metadata": {},
   "source": [
    "## Анализ влияния событий на совершение целевого события\n",
    "Выделим события, которые часто совершают пользователи вместе с целевым событием. Проанализируем, часто ли эти события бывают самостоятельными событиями пользователя или они составляют воронку. Проанализируем, за какое время до совершения целевого события совершаются вспомогательные события."
   ]
  },
  {
   "cell_type": "markdown",
   "id": "4c76bad4",
   "metadata": {},
   "source": [
    "### Вспомогательные события\n",
    "Найдем события, которые часто совершают пользователи вместе с целевым событием *contacts_show*."
   ]
  },
  {
   "cell_type": "code",
   "execution_count": 27,
   "id": "3020a4bb",
   "metadata": {
    "scrolled": false
   },
   "outputs": [
    {
     "data": {
      "text/plain": [
       "tips_show        7509\n",
       "contacts_show    4529\n",
       "photos_show      1594\n",
       "search            908\n",
       "advert_open       777\n",
       "contacts_call     541\n",
       "map               514\n",
       "favorites_add     251\n",
       "tips_click        189\n",
       "Name: event_name, dtype: int64"
      ]
     },
     "execution_count": 27,
     "metadata": {},
     "output_type": "execute_result"
    }
   ],
   "source": [
    "# Получаем сессии, в которых совершено целевое событие\n",
    "conv_sessions = (\n",
    "    df\n",
    "    .groupby('session')\n",
    "    .agg({'conversion': 'max'})\n",
    ")\n",
    "conv_sessions = (\n",
    "    conv_sessions\n",
    "    .query('conversion == True')\n",
    "    .index\n",
    "    .to_list()\n",
    ")\n",
    "\n",
    "# Считаем события только для конверсионных сессий\n",
    "df.query('session in @conv_sessions')['event_name'].value_counts()"
   ]
  },
  {
   "cell_type": "markdown",
   "id": "da15fcb5",
   "metadata": {},
   "source": [
    "Вместе с целевым дейтвием *contacts_show* часто совершаются действия *tips_show*, *photos_show*, *search*, *advert_open*, *contacts_call*, *map*."
   ]
  },
  {
   "cell_type": "markdown",
   "id": "79ceb31e",
   "metadata": {},
   "source": [
    "### Воронка событий\n",
    "Определим, составляют ли вспомогательные события воронку, которая заканчивается целевым событием *contacts_show*.\n",
    "\n",
    "Событие *tips_show* является событием по умолчанию, поэтому его и относящееся к нему событие *tips_click* не следует рассматривать в качестве вспомогательного. Событие *contacts_call* следует за *contacts_show*, поэтому также не может рассматриваться как вспомогательное.\n",
    "\n",
    "Тогда вспомогательными будем считать частые события *photos_show*, *search*, *advert_open*, *map*.\n",
    "\n",
    "Для получения списков первых и всех событий и их частотности для пользователей, совершивших вспомогательные события, определим функцию."
   ]
  },
  {
   "cell_type": "code",
   "execution_count": 28,
   "id": "6457a411",
   "metadata": {},
   "outputs": [],
   "source": [
    "# Определяем функцию для получения топа первых\n",
    "# событий и топа всех событий\n",
    "def get_event_counts(event):\n",
    "    '''\n",
    "    Принимает событие, фильтрует пользователей,\n",
    "    совершавших событие, возвращает топ первых\n",
    "    событий и топ всех событий этих пользователей.\n",
    "    \n",
    "    '''\n",
    "    # Фильтруем пользователей, совершавших событие\n",
    "    event_users = (\n",
    "        df\n",
    "        .loc[df['event_name'] == event, 'user_id']\n",
    "        .unique()\n",
    "    )\n",
    "    # Первые события сессий, совершенных пользователями\n",
    "    print(\n",
    "        df\n",
    "        .query('user_id in @event_users')\n",
    "        .groupby('session')\n",
    "        .agg({'event_name': 'first'})['event_name']\n",
    "        .value_counts()\n",
    "    )\n",
    "    # Все события, совершенные пользователями\n",
    "    print()\n",
    "    print(\n",
    "        df\n",
    "        .query('user_id in @event_users')['event_name']\n",
    "        .value_counts()\n",
    "    )"
   ]
  },
  {
   "cell_type": "markdown",
   "id": "7c615442",
   "metadata": {},
   "source": [
    "Воспользуемся функцией *get_event_counts* для получения событий пользователей, совершивших вспомогательные события *photos_show*, *search*, *advert_open*, *map*."
   ]
  },
  {
   "cell_type": "code",
   "execution_count": 29,
   "id": "003ccae9",
   "metadata": {},
   "outputs": [
    {
     "name": "stdout",
     "output_type": "stream",
     "text": [
      "Списки событий пользователей,\n",
      "совершавших событие photos_show \n",
      "\n",
      "photos_show      1673\n",
      "search           1161\n",
      "contacts_show     242\n",
      "advert_open        93\n",
      "favorites_add      69\n",
      "tips_show          16\n",
      "map                 5\n",
      "tips_click          1\n",
      "Name: event_name, dtype: int64\n",
      "\n",
      "photos_show      10012\n",
      "search            2837\n",
      "contacts_show     1089\n",
      "favorites_add      673\n",
      "advert_open        407\n",
      "contacts_call      404\n",
      "tips_show          231\n",
      "map                 37\n",
      "tips_click           8\n",
      "Name: event_name, dtype: int64\n",
      "\n",
      "Списки событий пользователей,\n",
      "совершавших событие search \n",
      "\n",
      "search           2499\n",
      "tips_show         756\n",
      "photos_show       644\n",
      "map               303\n",
      "advert_open       183\n",
      "contacts_show     168\n",
      "favorites_add      51\n",
      "tips_click          5\n",
      "Name: event_name, dtype: int64\n",
      "\n",
      "tips_show        13329\n",
      "search            6784\n",
      "photos_show       5808\n",
      "advert_open       3253\n",
      "contacts_show     1633\n",
      "map               1547\n",
      "favorites_add      853\n",
      "contacts_call      266\n",
      "tips_click         152\n",
      "Name: event_name, dtype: int64\n",
      "\n",
      "Списки событий пользователей,\n",
      "совершавших событие advert_open \n",
      "\n",
      "tips_show        736\n",
      "map              493\n",
      "search           453\n",
      "advert_open      407\n",
      "photos_show      168\n",
      "contacts_show     74\n",
      "favorites_add     44\n",
      "tips_click        13\n",
      "Name: event_name, dtype: int64\n",
      "\n",
      "tips_show        11424\n",
      "advert_open       6164\n",
      "search            1491\n",
      "map               1490\n",
      "photos_show       1369\n",
      "contacts_show      947\n",
      "favorites_add      725\n",
      "tips_click         182\n",
      "contacts_call       48\n",
      "Name: event_name, dtype: int64\n",
      "\n",
      "Списки событий пользователей,\n",
      "совершавших событие map \n",
      "\n",
      "tips_show        1678\n",
      "map              1288\n",
      "search            592\n",
      "advert_open       164\n",
      "contacts_show     102\n",
      "photos_show        22\n",
      "tips_click         19\n",
      "favorites_add      10\n",
      "Name: event_name, dtype: int64\n",
      "\n",
      "tips_show        24340\n",
      "advert_open       4545\n",
      "map               3881\n",
      "contacts_show     1970\n",
      "search            1908\n",
      "favorites_add      457\n",
      "tips_click         399\n",
      "photos_show        273\n",
      "Name: event_name, dtype: int64\n",
      "\n"
     ]
    }
   ],
   "source": [
    "# Список вспомогательных событий\n",
    "event_list = ['photos_show', 'search', 'advert_open', 'map']\n",
    "\n",
    "# В цикле вызовем функцию get_event_counts\n",
    "for event in event_list:\n",
    "    print(\n",
    "        'Списки событий пользователей,\\nсовершавших событие',\n",
    "        event,\n",
    "        '\\n'\n",
    "    )\n",
    "    get_event_counts(event)\n",
    "    print()"
   ]
  },
  {
   "cell_type": "markdown",
   "id": "83b7d2df",
   "metadata": {},
   "source": [
    "Пользователи, совершавшие событие *photos_show*, преимущественно начинают сессии с событий *photos_show* и *search*.\n",
    "\n",
    "Пользователи, совершавшие событие *search*, преимущественно начинают сессии с событий *search* и *photos_show*. Часто встречается событие *advert_open*, которого почти нет в списке первых событий сессии.\n",
    "\n",
    "Пользователи, совершавшие событие *advert_open*, преимущественно начинают сессии с событий *map*, *search*, *advert_open*. Часто встречается событие *advert_open*.\n",
    "\n",
    "Пользователи, совершавшие событие *map*, преимущественно начинают сессии с событий *map*, *search*. Часто встречается событие *advert_open*.\n",
    "\n",
    "Исходя из полученных выше данных, можно представить 3 частые воронки событий (в скобках отмечено необязательное событие):\n",
    "\n",
    "1. photos_show → search → (advert_open) → contacts_show\n",
    "2. search → photos_show → (advert_open) → contacts_show\n",
    "3. map → advert_open → (photos_show) → contacts_show"
   ]
  },
  {
   "cell_type": "markdown",
   "id": "7feccc7c",
   "metadata": {},
   "source": [
    "### Временной интервал вспомогательных событий\n",
    "Исследуем, за какое время до совершения целевого события совершаются вспомогательные события."
   ]
  },
  {
   "cell_type": "code",
   "execution_count": 30,
   "id": "35fbd555",
   "metadata": {
    "scrolled": false
   },
   "outputs": [
    {
     "data": {
      "text/html": [
       "<div>\n",
       "<style scoped>\n",
       "    .dataframe tbody tr th:only-of-type {\n",
       "        vertical-align: middle;\n",
       "    }\n",
       "\n",
       "    .dataframe tbody tr th {\n",
       "        vertical-align: top;\n",
       "    }\n",
       "\n",
       "    .dataframe thead th {\n",
       "        text-align: right;\n",
       "    }\n",
       "</style>\n",
       "<table border=\"1\" class=\"dataframe\">\n",
       "  <thead>\n",
       "    <tr style=\"text-align: right;\">\n",
       "      <th></th>\n",
       "      <th>0</th>\n",
       "    </tr>\n",
       "  </thead>\n",
       "  <tbody>\n",
       "    <tr>\n",
       "      <th>count</th>\n",
       "      <td>981.000000</td>\n",
       "    </tr>\n",
       "    <tr>\n",
       "      <th>mean</th>\n",
       "      <td>265.513162</td>\n",
       "    </tr>\n",
       "    <tr>\n",
       "      <th>std</th>\n",
       "      <td>478.485251</td>\n",
       "    </tr>\n",
       "    <tr>\n",
       "      <th>min</th>\n",
       "      <td>1.896557</td>\n",
       "    </tr>\n",
       "    <tr>\n",
       "      <th>25%</th>\n",
       "      <td>41.719908</td>\n",
       "    </tr>\n",
       "    <tr>\n",
       "      <th>50%</th>\n",
       "      <td>101.847629</td>\n",
       "    </tr>\n",
       "    <tr>\n",
       "      <th>75%</th>\n",
       "      <td>278.503005</td>\n",
       "    </tr>\n",
       "    <tr>\n",
       "      <th>max</th>\n",
       "      <td>7120.331925</td>\n",
       "    </tr>\n",
       "  </tbody>\n",
       "</table>\n",
       "</div>"
      ],
      "text/plain": [
       "                 0\n",
       "count   981.000000\n",
       "mean    265.513162\n",
       "std     478.485251\n",
       "min       1.896557\n",
       "25%      41.719908\n",
       "50%     101.847629\n",
       "75%     278.503005\n",
       "max    7120.331925"
      ]
     },
     "execution_count": 30,
     "metadata": {},
     "output_type": "execute_result"
    }
   ],
   "source": [
    "# Список вспомогательных и целового событий\n",
    "event_list = ['photos_show', 'search', 'advert_open', 'map', 'contacts_show']\n",
    "\n",
    "# Отфильтровываем события по списку\n",
    "# и считаем разницу во времени между событиями\n",
    "events = df.query('event_name in @event_list').reset_index()\n",
    "events['time_diff'] = events['event_time'].diff()\n",
    "\n",
    "# Список для хранения разницы во времени\n",
    "time_diff = []\n",
    "\n",
    "# Заполняем список\n",
    "for i in range(len(events)):\n",
    "    # Ищем строки с целевым событием\n",
    "    if events['event_name'][i] == event_list[4]:\n",
    "        # Проверяем, что предыдущая строка относится\n",
    "        # к той же сессии и событие одно из вспомогательных\n",
    "        if (\n",
    "            events['event_name'][i - 1] not in event_list[4]\n",
    "        ) and (\n",
    "            events['session'][i] == events['session'][i - 1]\n",
    "        ):\n",
    "            # Добавляем разницу во времени в список\n",
    "            time_diff.append(events['time_diff'][i])\n",
    "\n",
    "# Считаем время между вспомогательны и целевым событиями,\n",
    "# из списка интервалов делаем датафрейм, делим значения\n",
    "# на секунды для длины интервала в секундах, выводим describe\n",
    "(\n",
    "    pd.DataFrame(time_diff)\n",
    "    / dt.timedelta(seconds=1)\n",
    ").describe()"
   ]
  },
  {
   "cell_type": "markdown",
   "id": "022d07fd",
   "metadata": {},
   "source": [
    "В среднем вспомогательные события совершаются за 4 минуты и 27 секунд до совершения целевого события, медианное значение показателя — 1 минута и 42 секунды. На среднее значение сильно влияют выбросы (очень большие интервалы)."
   ]
  },
  {
   "cell_type": "markdown",
   "id": "159b958a",
   "metadata": {},
   "source": [
    "**Вывод**\n",
    "<div style=\"background-color: #FBD603; width: 48px; height: 5px\">&nbsp;</div>\n",
    "\n",
    "Вместе с целевым событием *contacts_show* совершаются события *tips_show*, *photos_show*, *search*, *advert_open*, *contacts_call*, *map*.\n",
    "\n",
    "Вспомогательные события составляют **3 воронки событий** (в скобках отмечено необязательное событие):\n",
    "\n",
    "* photos_show → search → (advert_open) → contacts_show\n",
    "* search → photos_show → (advert_open) → contacts_show\n",
    "* map → advert_open → (photos_show) → contacts_show\n",
    "\n",
    "Медианный **интервал между вспомогательным и целевым событиями составил 1 мин 42 с**."
   ]
  },
  {
   "cell_type": "markdown",
   "id": "8e1f812c",
   "metadata": {},
   "source": [
    "## Статистический анализ данных\n",
    "\n",
    "Проверим гипотезы:\n",
    "* Конверсия различается в зависимости от событий.\n",
    "* Конверсия различается в зависимости от источника."
   ]
  },
  {
   "cell_type": "markdown",
   "id": "8348e07e",
   "metadata": {},
   "source": [
    "### Проверка гипотезы о различии конверсии в зависимости от событий\n",
    "\n",
    "Сформулируем нулевую гипотезу: *конверсия в просмотры контактов пользователей, которые совершают действия tips_show и tips_click, и тех, которые совершают только действие tips_show одинакова*.\n",
    "\n",
    "Сформулируем альтернативную гипотезу: *конверсия в просмотры контактов пользователей, которые совершают действия tips_show и tips_click, и тех, которые совершают только действие tips_show различается*.\n",
    "\n",
    "Определим критический уровень статистической значимости alpha в 5%. Для того, чтобы проверить, есть ли различия в конверсии между группами в зависимости от событий, проведем z-тест для пропорций.\n",
    "\n",
    "Для проверки гипотезы определим функцию *check_hypothesis*."
   ]
  },
  {
   "cell_type": "code",
   "execution_count": 31,
   "id": "18ccc5e5",
   "metadata": {},
   "outputs": [],
   "source": [
    "# Определим функцию для проверки гипотезы\n",
    "def check_hypothesis(successes_1, successes_2, trials_1, trials_2):\n",
    "    '''\n",
    "    Получает количество сконвертировавшихся\n",
    "    и уникальных пользователей в двух группах.\n",
    "    Возвращает p-value z-теста для пропорций.\n",
    "    '''\n",
    "    # пропорция успехов в первой группе\n",
    "    p1 = successes_1 / trials_1\n",
    "    # пропорция успехов во второй группе\n",
    "    p2 = successes_2 / trials_2\n",
    "    # пропорция успехов в комбинированном датасете\n",
    "    p_combined = (successes_1 + successes_2) / (trials_1 + trials_2)\n",
    "    # разница пропорций в датасетах\n",
    "    difference = p1 - p2\n",
    "    # считаем статистику\n",
    "    z_value = difference / mth.sqrt(\n",
    "        p_combined * (1 - p_combined) * (1 / trials_1 + 1 / trials_2)\n",
    "    )\n",
    "    # задаем стандартное нормальное распределение\n",
    "    distr = st.norm(0, 1)\n",
    "    # получаем p_value\n",
    "    p_value = (1 - distr.cdf(abs(z_value))) * 2\n",
    "    return p_value"
   ]
  },
  {
   "cell_type": "markdown",
   "id": "3fdff36a",
   "metadata": {},
   "source": [
    "Разделим пользователей на 2 группы:\n",
    "\n",
    "* **группа A**, пользователи совершают действия *tips_show* и *tips_click*\n",
    "* **группа B**, пользователи совершают только действие *tips_show*."
   ]
  },
  {
   "cell_type": "code",
   "execution_count": 32,
   "id": "2c0b1b59",
   "metadata": {
    "scrolled": false
   },
   "outputs": [
    {
     "name": "stdout",
     "output_type": "stream",
     "text": [
      "Конверсия группы A: 0.31 \n",
      "Конверсия группы B: 0.17\n"
     ]
    }
   ],
   "source": [
    "# Отфильтруем пользователей, совершавших\n",
    "# события tips_show и tips_click\n",
    "report = (\n",
    "    df\n",
    "    .groupby(['user_id', 'event_name'])\n",
    "    .agg({'session': 'count'})\n",
    "    .reset_index()\n",
    ")\n",
    "report = (\n",
    "    report\n",
    "    .query('event_name == \"tips_show\" | event_name == \"tips_click\"')\n",
    ")\n",
    "\n",
    "# Получим user_id пользователей двух групп\n",
    "group_a_users = (\n",
    "    report\n",
    "    .query('event_name == \"tips_click\"')['user_id']\n",
    ")\n",
    "group_b_users = (\n",
    "    report\n",
    "    .query('user_id not in @group_a_users')['user_id']\n",
    ")\n",
    "\n",
    "# Считаем сконвертировавшихся пользователей в группах\n",
    "group_a_conv = (\n",
    "    conversion\n",
    "    .query('user_id in @group_a_users')['conversion']\n",
    "    .sum()\n",
    ")\n",
    "group_b_conv = (\n",
    "    conversion\n",
    "    .query('user_id in @group_b_users')['conversion']\n",
    "    .sum()\n",
    ")\n",
    "\n",
    "# Выводим конверсию в группах\n",
    "print(\n",
    "    'Конверсия группы A:',\n",
    "    round(group_a_conv / len(group_a_users), 2),\n",
    "    '\\nКонверсия группы B:',\n",
    "    round(group_b_conv / len(group_b_users), 2))"
   ]
  },
  {
   "cell_type": "markdown",
   "id": "dd8cdd14",
   "metadata": {},
   "source": [
    "Проводим статистический тест."
   ]
  },
  {
   "cell_type": "code",
   "execution_count": 33,
   "id": "4b068aae",
   "metadata": {},
   "outputs": [
    {
     "name": "stdout",
     "output_type": "stream",
     "text": [
      "p-value 9.576128778832071e-10\n",
      "Отвергаем нулевую гипотезу: конверсия различается в зависимости от событий.\n",
      "\n"
     ]
    }
   ],
   "source": [
    "# Критический уровень статистической значимости\n",
    "alpha = 0.05\n",
    "\n",
    "p_value = check_hypothesis(\n",
    "    group_a_conv,\n",
    "    group_b_conv,\n",
    "    len(group_a_users),\n",
    "    len(group_b_users)\n",
    ")\n",
    "\n",
    "print('p-value', p_value)\n",
    "if p_value < alpha:\n",
    "    print('Отвергаем нулевую гипотезу: конверсия различается в зависимости от событий.\\n')\n",
    "else:\n",
    "    print('Не удалось отвергнуть нулевую гипотезу, конверсия одинакова вне зависимости от событий.\\n')"
   ]
  },
  {
   "cell_type": "markdown",
   "id": "fe1417c5",
   "metadata": {},
   "source": [
    "Статистический тест показал значимое различие в конверсии между пользователями *группы A* и *группы B*.\n",
    "\n",
    "Таким образом, принимаем альтернативную гипотезу: *конверсия в просмотры контактов пользователей, которые совершают действия tips_show и tips_click, и тех, которые совершают только действие tips_show различается*."
   ]
  },
  {
   "cell_type": "markdown",
   "id": "98b6e69d",
   "metadata": {},
   "source": [
    "### Проверка гипотезы о различии конверсии в зависимости от источника\n",
    "\n",
    "Сформулируем нулевую гипотезу: *конверсия в просмотры контактов одинакова вне зависимости от источника*.\n",
    "\n",
    "Сформулируем альтернативную гипотезу: *конверсия в просмотры контактов различается в зависимости от источника*.\n",
    "\n",
    "Определим критический уровень статистической значимости alpha в 5%. Для того, чтобы проверить, есть ли различия в конверсии между группами по источнику привлечения, проведем z-тест для пропорций. Проводится 3 попарных сравнения:\n",
    "\n",
    "* google и other\n",
    "* google и yandex\n",
    "* yandex и other \n",
    "\n",
    "Поэтому установим более строгий критический уровень статистической значимости, воспользовавшись поправкой Бонферрони (поправкой на множественное сравнение). Значение поправки — 3.\n",
    "\n",
    "Воспользуемся созданной функцией *check_hypothesis* для проверки гипотезы."
   ]
  },
  {
   "cell_type": "code",
   "execution_count": 34,
   "id": "1fa7a14f",
   "metadata": {},
   "outputs": [
    {
     "data": {
      "text/html": [
       "<div>\n",
       "<style scoped>\n",
       "    .dataframe tbody tr th:only-of-type {\n",
       "        vertical-align: middle;\n",
       "    }\n",
       "\n",
       "    .dataframe tbody tr th {\n",
       "        vertical-align: top;\n",
       "    }\n",
       "\n",
       "    .dataframe thead th {\n",
       "        text-align: right;\n",
       "    }\n",
       "</style>\n",
       "<table border=\"1\" class=\"dataframe\">\n",
       "  <thead>\n",
       "    <tr style=\"text-align: right;\">\n",
       "      <th>conversion</th>\n",
       "      <th>not_conv</th>\n",
       "      <th>conv</th>\n",
       "      <th>users</th>\n",
       "      <th>conversion</th>\n",
       "    </tr>\n",
       "    <tr>\n",
       "      <th>source</th>\n",
       "      <th></th>\n",
       "      <th></th>\n",
       "      <th></th>\n",
       "      <th></th>\n",
       "    </tr>\n",
       "  </thead>\n",
       "  <tbody>\n",
       "    <tr>\n",
       "      <th>google</th>\n",
       "      <td>854</td>\n",
       "      <td>275</td>\n",
       "      <td>1129</td>\n",
       "      <td>0.24</td>\n",
       "    </tr>\n",
       "    <tr>\n",
       "      <th>other</th>\n",
       "      <td>1002</td>\n",
       "      <td>228</td>\n",
       "      <td>1230</td>\n",
       "      <td>0.19</td>\n",
       "    </tr>\n",
       "    <tr>\n",
       "      <th>yandex</th>\n",
       "      <td>1456</td>\n",
       "      <td>478</td>\n",
       "      <td>1934</td>\n",
       "      <td>0.25</td>\n",
       "    </tr>\n",
       "  </tbody>\n",
       "</table>\n",
       "</div>"
      ],
      "text/plain": [
       "conversion  not_conv  conv  users  conversion\n",
       "source                                       \n",
       "google           854   275   1129        0.24\n",
       "other           1002   228   1230        0.19\n",
       "yandex          1456   478   1934        0.25"
      ]
     },
     "execution_count": 34,
     "metadata": {},
     "output_type": "execute_result"
    }
   ],
   "source": [
    "# Разбиваем пользователей на группы\n",
    "# и считаем сконвертировавшихся пользователей\n",
    "report = conversion.merge(sourсes, on='user_id', how='left')\n",
    "report = (\n",
    "    report\n",
    "    .pivot_table(\n",
    "        index='source',\n",
    "        columns='conversion',\n",
    "        values='user_id',\n",
    "        aggfunc='count'\n",
    "    )\n",
    ")\n",
    "report = (\n",
    "    report\n",
    "    .rename(columns={False: 'not_conv', True: 'conv'})\n",
    ")\n",
    "report['users'] = report['not_conv'] + report['conv']\n",
    "report['conversion'] = round(report['conv'] / report['users'], 2)\n",
    "report"
   ]
  },
  {
   "cell_type": "markdown",
   "id": "e4a6ec2f",
   "metadata": {},
   "source": [
    "Проводим статистический тест."
   ]
  },
  {
   "cell_type": "code",
   "execution_count": 35,
   "id": "ca423c54",
   "metadata": {},
   "outputs": [
    {
     "name": "stdout",
     "output_type": "stream",
     "text": [
      "other / google — p-value 0.0005640941887214979\n",
      "Отвергаем нулевую гипотезу: конверсия в просмотры контактов различается.\n",
      "\n",
      "yandex / google — p-value 0.8244316027993777\n",
      "Не удалось отвергнуть нулевую гипотезу, конверсия в просмотры контактов одинакова.\n",
      "\n",
      "yandex / other — p-value 4.7142597613403225e-05\n",
      "Отвергаем нулевую гипотезу: конверсия в просмотры контактов различается.\n",
      "\n"
     ]
    }
   ],
   "source": [
    "# Критический уровень статистической значимости\n",
    "# с учетом поправки на множественное сравнение\n",
    "alpha = 0.05 / 3\n",
    "\n",
    "for source_1 in report.index:\n",
    "    for source_2 in report.index:\n",
    "        if source_1 == source_2:\n",
    "            break\n",
    "        else:\n",
    "            p_value = check_hypothesis(\n",
    "                report['conv'][source_1],\n",
    "                report['conv'][source_2],\n",
    "                report['users'][source_1],\n",
    "                report['users'][source_2])\n",
    "            print(source_1, '/', source_2, '— p-value', p_value)\n",
    "            if p_value < alpha:\n",
    "                print('Отвергаем нулевую гипотезу: конверсия в просмотры контактов различается.\\n')\n",
    "            else:\n",
    "                print('Не удалось отвергнуть нулевую гипотезу, конверсия в просмотры контактов одинакова.\\n')"
   ]
  },
  {
   "cell_type": "markdown",
   "id": "8742e741",
   "metadata": {},
   "source": [
    "Статистический тест показал значимое различие в конверсии между группами пользователей, привлеченных из источников *google и other*, а также из *yandex и other*.\n",
    "\n",
    "Различие в конверсии между группами пользователей, привлеченных из источников *google и yandex* не является статистически достоверным.\n",
    "\n",
    "Таким образом, принимаем альтернативную гипотезу: *конверсия в просмотры контактов различается в зависимости от источника*."
   ]
  },
  {
   "cell_type": "markdown",
   "id": "92b92312",
   "metadata": {},
   "source": [
    "**Вывод**\n",
    "<div style=\"background-color: #FBD603; width: 48px; height: 5px\">&nbsp;</div>\n",
    "\n",
    "Проверка гипотезы о различии конверсии в зависимости от событий показала, что *конверсия в просмотры контактов пользователей, которые совершают действия tips_show и tips_click, и тех, которые совершают только действие tips_show различается*. Конверсия в целевое событие *contacts_show* составляет:\n",
    "\n",
    "* **31%** в группе пользователей, которые совершают действия *tips_show* и *tips_click*.\n",
    "* **17%** в группе пользователей, которые совершают только действие *tips_show*.\n",
    "\n",
    "Проверка гипотезы о различии конверсии в зависимости от источника показала, что *конверсия в просмотры контактов различается в зависимости от источника*. Различие в конверсии между группами пользователей, привлеченных из источников google и yandex не является статистически достоверным. Конверсия в целевое событие contacts_show составляет:\n",
    "\n",
    "* **25%** в группе пользователей, привлеченных из Яндекса.\n",
    "* **24%** в группе пользователей, привлеченных из Google.\n",
    "* **19%** в группе пользователей, привлеченных из других источников."
   ]
  },
  {
   "cell_type": "markdown",
   "id": "680def47",
   "metadata": {},
   "source": [
    "## Выводы"
   ]
  },
  {
   "cell_type": "markdown",
   "id": "e55d1fa6",
   "metadata": {},
   "source": [
    "На этапе предобработки данных мы исправили стиль заголовков и тип данных столбца event_time, исходные данные были объединены в один датафрейм. Мы обнаружили аномалию в данных — дубликаты, возникающие при округлении времени события до миллисекунд и секунд. Не имея дополнительной информации о регистрации событий, невозможно однозначно утверждать, является ли она ошибкой в данных.\n",
    "\n",
    "На этапе исследовательского анализа данных мы изучили бизнес-показатели мобильного приложения:\n",
    "* Медианное **число событий на одного уникального пользователя — 9**.\n",
    "* Средний **DAU** составляет **279 уникальных пользователей**.\n",
    "* Средний **retention rate** 2-го дня составляет **11%**, 14-го дня — **4%**.\n",
    "* **Конверсия** в целевое событие *contacts_show* составила **23%**.\n",
    "\n",
    "На этапе анализа влияния событий на совершение целевого события обнаружено:\n",
    "* Вместе с целевым событием *contacts_show* совершаются события *tips_show*, *photos_show*, *search*, *advert_open*, *contacts_call*, *map*.\n",
    "* Вспомогательные события составляют 3 частые воронки событий (в скобках отмечено необязательное событие):\n",
    "    * photos_show → search → (advert_open) → contacts_show\n",
    "    * search → photos_show → (advert_open) → contacts_show\n",
    "    * map → advert_open → (photos_show) → contacts_show\n",
    "* Медианный интервал между вспомогательным и целевым событиями составил 1 мин 42 с.\n",
    "\n",
    "Проверка гипотез с помощью статистического теста показала:\n",
    "* Конверсия в просмотры контактов пользователей, которые совершают действия tips_show и tips_click, и тех, которые совершают только действие tips_show различается.\n",
    "* Конверсия в просмотры контактов различается в зависимости от источника. Различие в конверсии между группами пользователей, привлеченных из источников google и yandex не является статистически достоверным.\n",
    "\n",
    "Рекомендации по результатам исследования:\n",
    "* Retention rate показывает, что большинство пользователей не возвращаются в приложение. Можно порекомендовать **рассчитать retention на более длительном периоде**. Возможно, имея положительный опыт покупки в приложении, пользователь снова вернется, когда у него появятся ненужные вещи.\n",
    "* Просмотр фотографий — самое частое пользовательское событие. Следует **мотивировать пользователей размещать больше фотографий** вещей, это способствует продажам.\n",
    "* Следует **улучшать рекомендательную систему** — пользователи, кликнувшие по рекомендованному объявлению, существенно более конверсионные. Однако конверсия в клик по рекомендованному объявлению низкая.\n",
    "* Следует **привлекать больше трафика из поисковых систем Яндекса и Google**, который является наиболее конверсионным. Также необходимо проверить трафик с пометкой *other*, возможно, удастся найти конкретные каналы, снижающие конверсию в этой группе источников."
   ]
  }
 ],
 "metadata": {
  "ExecuteTimeLog": [
   {
    "duration": 1058,
    "start_time": "2022-05-12T19:04:59.318Z"
   },
   {
    "duration": 390,
    "start_time": "2022-05-12T19:05:00.378Z"
   },
   {
    "duration": 3,
    "start_time": "2022-05-12T19:05:00.770Z"
   },
   {
    "duration": 148,
    "start_time": "2022-05-12T19:05:00.775Z"
   },
   {
    "duration": 10,
    "start_time": "2022-05-12T19:05:00.925Z"
   },
   {
    "duration": 35,
    "start_time": "2022-05-12T19:05:00.936Z"
   },
   {
    "duration": 5,
    "start_time": "2022-05-12T19:05:00.972Z"
   },
   {
    "duration": 5,
    "start_time": "2022-05-12T19:05:00.979Z"
   },
   {
    "duration": 22,
    "start_time": "2022-05-12T19:05:00.986Z"
   },
   {
    "duration": 14,
    "start_time": "2022-05-12T19:05:01.011Z"
   },
   {
    "duration": 63,
    "start_time": "2022-05-12T19:05:01.027Z"
   },
   {
    "duration": 24,
    "start_time": "2022-05-12T19:05:01.092Z"
   },
   {
    "duration": 96,
    "start_time": "2022-05-12T19:05:01.118Z"
   },
   {
    "duration": 174,
    "start_time": "2022-05-12T19:05:01.215Z"
   },
   {
    "duration": 13,
    "start_time": "2022-05-12T19:05:01.390Z"
   },
   {
    "duration": 24,
    "start_time": "2022-05-12T19:05:01.405Z"
   },
   {
    "duration": 19,
    "start_time": "2022-05-12T19:05:01.431Z"
   },
   {
    "duration": 396,
    "start_time": "2022-05-12T19:05:01.452Z"
   },
   {
    "duration": 864,
    "start_time": "2022-05-12T19:05:01.850Z"
   },
   {
    "duration": 65,
    "start_time": "2022-05-12T19:05:02.715Z"
   },
   {
    "duration": 135,
    "start_time": "2022-05-12T19:05:02.782Z"
   },
   {
    "duration": 25,
    "start_time": "2022-05-12T19:05:02.919Z"
   },
   {
    "duration": 458,
    "start_time": "2022-05-12T19:05:02.945Z"
   },
   {
    "duration": 35,
    "start_time": "2022-05-12T19:05:03.405Z"
   },
   {
    "duration": 1838,
    "start_time": "2022-05-12T19:05:03.441Z"
   },
   {
    "duration": 33,
    "start_time": "2022-05-12T19:05:05.281Z"
   },
   {
    "duration": 22,
    "start_time": "2022-05-12T19:05:05.316Z"
   },
   {
    "duration": 5,
    "start_time": "2022-05-12T19:05:05.341Z"
   },
   {
    "duration": 129,
    "start_time": "2022-05-12T19:05:05.348Z"
   },
   {
    "duration": 180,
    "start_time": "2022-05-12T19:05:05.478Z"
   },
   {
    "duration": 4,
    "start_time": "2022-05-12T19:05:05.659Z"
   },
   {
    "duration": 33,
    "start_time": "2022-05-12T19:05:05.670Z"
   },
   {
    "duration": 5,
    "start_time": "2022-05-12T19:05:05.704Z"
   },
   {
    "duration": 22,
    "start_time": "2022-05-12T19:05:05.711Z"
   },
   {
    "duration": 9,
    "start_time": "2022-05-12T19:05:05.735Z"
   },
   {
    "duration": 6,
    "start_time": "2022-05-12T19:17:05.125Z"
   },
   {
    "duration": 6,
    "start_time": "2022-05-12T19:17:09.582Z"
   }
  ],
  "kernelspec": {
   "display_name": "Python 3 (ipykernel)",
   "language": "python",
   "name": "python3"
  },
  "language_info": {
   "codemirror_mode": {
    "name": "ipython",
    "version": 3
   },
   "file_extension": ".py",
   "mimetype": "text/x-python",
   "name": "python",
   "nbconvert_exporter": "python",
   "pygments_lexer": "ipython3",
   "version": "3.9.7"
  },
  "toc": {
   "base_numbering": 1,
   "nav_menu": {},
   "number_sections": true,
   "sideBar": true,
   "skip_h1_title": true,
   "title_cell": "Содержание",
   "title_sidebar": "Содержание",
   "toc_cell": false,
   "toc_position": {},
   "toc_section_display": true,
   "toc_window_display": false
  }
 },
 "nbformat": 4,
 "nbformat_minor": 5
}
