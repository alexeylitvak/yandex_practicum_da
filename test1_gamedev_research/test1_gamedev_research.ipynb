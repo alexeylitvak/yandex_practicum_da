{
 "cells": [
  {
   "cell_type": "markdown",
   "metadata": {},
   "source": [
    "# Исследование рынка видеоигр\n",
    "На исторических данных мы выявим закономерности, определяющие успешность игры. Доступны данные из открытых источников об играх, продажах, оценках пользователей и критиков. Выявленные закономерности позволят глобальному интернет-магазину по продаже компьютерных игр сделать ставку на потенциально популярный продукт и спланировать рекламные кампании.\n",
    "\n",
    "**Задача исследования**\n",
    "\n",
    "Выявить закономерности, определяющие успешность игры \n",
    "\n",
    "**Ход исследования**\n",
    "\n",
    "В файле *data.csv* содержатся данные об играх, вышедших в разные годы. Данные за 2016 год могут быть неполными.\n",
    "\n",
    "Перед решением задачи исследования понадобится обзор данных. Затем, на этапе предобработки, поищем возможность исправить самые критичные ошибки данных.\n",
    "\n",
    "Для решения задачи исследования необходимо рассчитать и добавить в таблицу суммарные продажи во всех регионах.\n",
    "\n",
    "Для выявления закономерностей потребуется:\n",
    "\n",
    "  * изучить выход игр по годам;\n",
    "  * определить актуальный период для анализа;\n",
    "  * изучить глобальные продажи по платформам;\n",
    "  * оценить влияние отзывов пользователей и критиков на продажи;\n",
    "  * изучить распределение игр по жанра;\n",
    "  * учесть региональные различия.\n",
    "\n",
    "Проверим гипотезы:\n",
    "\n",
    "  * средние пользовательские рейтинги платформ Xbox One и PC одинаковые;\n",
    "  * средние пользовательские рейтинги жанров Action и Sports разные.\n",
    "\n",
    "**Этапы исследования**\n",
    "\n",
    "  1. Обзор данных.\n",
    "  2. Предобработка данных.\n",
    "  3. Расчёты и добавление результатов в таблицу.\n",
    "  4. Исследовательский анализ данных\n",
    "  5. Статистический анализ данных."
   ]
  },
  {
   "cell_type": "markdown",
   "metadata": {},
   "source": [
    "<h1>Содержание<span class=\"tocSkip\"></span></h1>\n",
    "<div class=\"toc\"><ul class=\"toc-item\"><li><span><a href=\"#Исследование-рынка-видеоигр\" data-toc-modified-id=\"Исследование-рынка-видеоигр-1\">Исследование рынка видеоигр</a></span><ul class=\"toc-item\"><li><span><a href=\"#Обзор-данных\" data-toc-modified-id=\"Обзор-данных-1.1\">Обзор данных</a></span></li><li><span><a href=\"#Предобработка-данных\" data-toc-modified-id=\"Предобработка-данных-1.2\">Предобработка данных</a></span><ul class=\"toc-item\"><li><span><a href=\"#Стиль-заголовков\" data-toc-modified-id=\"Стиль-заголовков-1.2.1\">Стиль заголовков</a></span></li><li><span><a href=\"#Обработка-пропусков\" data-toc-modified-id=\"Обработка-пропусков-1.2.2\">Обработка пропусков</a></span></li><li><span><a href=\"#Замена-типа-данных\" data-toc-modified-id=\"Замена-типа-данных-1.2.3\">Замена типа данных</a></span></li><li><span><a href=\"#Обработка-дубликатов\" data-toc-modified-id=\"Обработка-дубликатов-1.2.4\">Обработка дубликатов</a></span></li></ul></li><li><span><a href=\"#Расчёты-и-добавление-результатов-в-таблицу\" data-toc-modified-id=\"Расчёты-и-добавление-результатов-в-таблицу-1.3\">Расчёты и добавление результатов в таблицу</a></span></li><li><span><a href=\"#Исследовательский-анализ-данных\" data-toc-modified-id=\"Исследовательский-анализ-данных-1.4\">Исследовательский анализ данных</a></span><ul class=\"toc-item\"><li><span><a href=\"#Изучение-выхода-игр-по-годам\" data-toc-modified-id=\"Изучение-выхода-игр-по-годам-1.4.1\">Изучение выхода игр по годам</a></span></li><li><span><a href=\"#Определение-актуального-периода-для-анализа\" data-toc-modified-id=\"Определение-актуального-периода-для-анализа-1.4.2\">Определение актуального периода для анализа</a></span></li><li><span><a href=\"#Глобальные-продажи-по-платформам\" data-toc-modified-id=\"Глобальные-продажи-по-платформам-1.4.3\">Глобальные продажи по платформам</a></span></li><li><span><a href=\"#Влияние-отзывов-на-продажи\" data-toc-modified-id=\"Влияние-отзывов-на-продажи-1.4.4\">Влияние отзывов на продажи</a></span></li><li><span><a href=\"#Распределение-игр-по-жанра\" data-toc-modified-id=\"Распределение-игр-по-жанра-1.4.5\">Распределение игр по жанра</a></span></li><li><span><a href=\"#Региональные-различия\" data-toc-modified-id=\"Региональные-различия-1.4.6\">Региональные различия</a></span></li></ul></li><li><span><a href=\"#Статистический-анализ-данных\" data-toc-modified-id=\"Статистический-анализ-данных-1.5\">Статистический анализ данных</a></span><ul class=\"toc-item\"><li><span><a href=\"#Проверка-гипотезы-о-средних-пользовательских-рейтингах-платформ-Xbox-One-и-PC\" data-toc-modified-id=\"Проверка-гипотезы-о-средних-пользовательских-рейтингах-платформ-Xbox-One-и-PC-1.5.1\">Проверка гипотезы о средних пользовательских рейтингах платформ Xbox One и PC</a></span></li><li><span><a href=\"#Проверка-гипотезы-о-средних-пользовательских-рейтингах-жанров-Action-и-Sports\" data-toc-modified-id=\"Проверка-гипотезы-о-средних-пользовательских-рейтингах-жанров-Action-и-Sports-1.5.2\">Проверка гипотезы о средних пользовательских рейтингах жанров Action и Sports</a></span></li></ul></li><li><span><a href=\"#Общий-вывод\" data-toc-modified-id=\"Общий-вывод-1.6\">Общий вывод</a></span></li></ul></li></ul></div>"
   ]
  },
  {
   "cell_type": "markdown",
   "metadata": {},
   "source": [
    "## Обзор данных\n",
    "Составим первое впечатление о входных данных."
   ]
  },
  {
   "cell_type": "code",
   "execution_count": 1,
   "metadata": {},
   "outputs": [],
   "source": [
    "# Импортируем библиотеки\n",
    "import pandas as pd\n",
    "import matplotlib.pyplot as plt\n",
    "import numpy as np\n",
    "import seaborn as sns\n",
    "from scipy import stats as st"
   ]
  },
  {
   "cell_type": "code",
   "execution_count": 2,
   "metadata": {},
   "outputs": [],
   "source": [
    "# Читаем файл с данными и сохраняем в датафрейм df\n",
    "df = pd.read_csv('data.csv')"
   ]
  },
  {
   "cell_type": "code",
   "execution_count": 3,
   "metadata": {
    "scrolled": true
   },
   "outputs": [
    {
     "data": {
      "text/html": [
       "<div>\n",
       "<style scoped>\n",
       "    .dataframe tbody tr th:only-of-type {\n",
       "        vertical-align: middle;\n",
       "    }\n",
       "\n",
       "    .dataframe tbody tr th {\n",
       "        vertical-align: top;\n",
       "    }\n",
       "\n",
       "    .dataframe thead th {\n",
       "        text-align: right;\n",
       "    }\n",
       "</style>\n",
       "<table border=\"1\" class=\"dataframe\">\n",
       "  <thead>\n",
       "    <tr style=\"text-align: right;\">\n",
       "      <th></th>\n",
       "      <th>Name</th>\n",
       "      <th>Platform</th>\n",
       "      <th>Year_of_Release</th>\n",
       "      <th>Genre</th>\n",
       "      <th>NA_sales</th>\n",
       "      <th>EU_sales</th>\n",
       "      <th>JP_sales</th>\n",
       "      <th>Other_sales</th>\n",
       "      <th>Critic_Score</th>\n",
       "      <th>User_Score</th>\n",
       "      <th>Rating</th>\n",
       "    </tr>\n",
       "  </thead>\n",
       "  <tbody>\n",
       "    <tr>\n",
       "      <th>0</th>\n",
       "      <td>Wii Sports</td>\n",
       "      <td>Wii</td>\n",
       "      <td>2006.0</td>\n",
       "      <td>Sports</td>\n",
       "      <td>41.36</td>\n",
       "      <td>28.96</td>\n",
       "      <td>3.77</td>\n",
       "      <td>8.45</td>\n",
       "      <td>76.0</td>\n",
       "      <td>8</td>\n",
       "      <td>E</td>\n",
       "    </tr>\n",
       "    <tr>\n",
       "      <th>1</th>\n",
       "      <td>Super Mario Bros.</td>\n",
       "      <td>NES</td>\n",
       "      <td>1985.0</td>\n",
       "      <td>Platform</td>\n",
       "      <td>29.08</td>\n",
       "      <td>3.58</td>\n",
       "      <td>6.81</td>\n",
       "      <td>0.77</td>\n",
       "      <td>NaN</td>\n",
       "      <td>NaN</td>\n",
       "      <td>NaN</td>\n",
       "    </tr>\n",
       "    <tr>\n",
       "      <th>2</th>\n",
       "      <td>Mario Kart Wii</td>\n",
       "      <td>Wii</td>\n",
       "      <td>2008.0</td>\n",
       "      <td>Racing</td>\n",
       "      <td>15.68</td>\n",
       "      <td>12.76</td>\n",
       "      <td>3.79</td>\n",
       "      <td>3.29</td>\n",
       "      <td>82.0</td>\n",
       "      <td>8.3</td>\n",
       "      <td>E</td>\n",
       "    </tr>\n",
       "    <tr>\n",
       "      <th>3</th>\n",
       "      <td>Wii Sports Resort</td>\n",
       "      <td>Wii</td>\n",
       "      <td>2009.0</td>\n",
       "      <td>Sports</td>\n",
       "      <td>15.61</td>\n",
       "      <td>10.93</td>\n",
       "      <td>3.28</td>\n",
       "      <td>2.95</td>\n",
       "      <td>80.0</td>\n",
       "      <td>8</td>\n",
       "      <td>E</td>\n",
       "    </tr>\n",
       "    <tr>\n",
       "      <th>4</th>\n",
       "      <td>Pokemon Red/Pokemon Blue</td>\n",
       "      <td>GB</td>\n",
       "      <td>1996.0</td>\n",
       "      <td>Role-Playing</td>\n",
       "      <td>11.27</td>\n",
       "      <td>8.89</td>\n",
       "      <td>10.22</td>\n",
       "      <td>1.00</td>\n",
       "      <td>NaN</td>\n",
       "      <td>NaN</td>\n",
       "      <td>NaN</td>\n",
       "    </tr>\n",
       "  </tbody>\n",
       "</table>\n",
       "</div>"
      ],
      "text/plain": [
       "                       Name Platform  Year_of_Release         Genre  NA_sales  \\\n",
       "0                Wii Sports      Wii           2006.0        Sports     41.36   \n",
       "1         Super Mario Bros.      NES           1985.0      Platform     29.08   \n",
       "2            Mario Kart Wii      Wii           2008.0        Racing     15.68   \n",
       "3         Wii Sports Resort      Wii           2009.0        Sports     15.61   \n",
       "4  Pokemon Red/Pokemon Blue       GB           1996.0  Role-Playing     11.27   \n",
       "\n",
       "   EU_sales  JP_sales  Other_sales  Critic_Score User_Score Rating  \n",
       "0     28.96      3.77         8.45          76.0          8      E  \n",
       "1      3.58      6.81         0.77           NaN        NaN    NaN  \n",
       "2     12.76      3.79         3.29          82.0        8.3      E  \n",
       "3     10.93      3.28         2.95          80.0          8      E  \n",
       "4      8.89     10.22         1.00           NaN        NaN    NaN  "
      ]
     },
     "execution_count": 3,
     "metadata": {},
     "output_type": "execute_result"
    }
   ],
   "source": [
    "# Обзор датафрейма, получаем первые 5 строк\n",
    "df.head()"
   ]
  },
  {
   "cell_type": "markdown",
   "metadata": {},
   "source": [
    "В таблице 11 столбцов.\n",
    "\n",
    "Согласно документации к данным:\n",
    "\n",
    "  * `Name` — название игры\n",
    "  * `Platform` — платформа\n",
    "  * `Year_of_Release` — год выпуска\n",
    "  * `Genre` — жанр игры\n",
    "  * `NA_sales` — продажи в Северной Америке (млн проданных копий)\n",
    "  * `EU_sales` — продажи в Европе (млн проданных копий)\n",
    "  * `JP_sales` — продажи в Японии (млн проданных копий)\n",
    "  * `Other_sales` — продажи в других странах (млн проданных копий)\n",
    "  * `Critic_Score` — оценка критиков (максимум 100)\n",
    "  * `User_Score` — оценка пользователей (максимум 10)\n",
    "  * `Rating` — рейтинг от организации ESRB (возрастная категория)\n",
    "\n",
    "Во всех столбцах отмечено нарушение стиля — использование заглавных букв."
   ]
  },
  {
   "cell_type": "code",
   "execution_count": 4,
   "metadata": {},
   "outputs": [
    {
     "name": "stdout",
     "output_type": "stream",
     "text": [
      "<class 'pandas.core.frame.DataFrame'>\n",
      "RangeIndex: 16715 entries, 0 to 16714\n",
      "Data columns (total 11 columns):\n",
      " #   Column           Non-Null Count  Dtype  \n",
      "---  ------           --------------  -----  \n",
      " 0   Name             16713 non-null  object \n",
      " 1   Platform         16715 non-null  object \n",
      " 2   Year_of_Release  16446 non-null  float64\n",
      " 3   Genre            16713 non-null  object \n",
      " 4   NA_sales         16715 non-null  float64\n",
      " 5   EU_sales         16715 non-null  float64\n",
      " 6   JP_sales         16715 non-null  float64\n",
      " 7   Other_sales      16715 non-null  float64\n",
      " 8   Critic_Score     8137 non-null   float64\n",
      " 9   User_Score       10014 non-null  object \n",
      " 10  Rating           9949 non-null   object \n",
      "dtypes: float64(6), object(5)\n",
      "memory usage: 1.4+ MB\n"
     ]
    }
   ],
   "source": [
    "# Обзор датафрейма, получаем общую информацию\n",
    "df.info()"
   ]
  },
  {
   "cell_type": "markdown",
   "metadata": {},
   "source": [
    "В таблице 16715 строк.\n",
    "\n",
    "Отмечено несоответствие типа данных документации:\n",
    "\n",
    "  * `User_Score` строка `object`, по документации оценка → `float64`\n",
    "\n",
    "В столбцах `Name`, `Year_of_Release`, `Genre`, `Critic_Score`, `User_Score` и `Rating` количество значений отличается от числа строк, в данных есть пропуски."
   ]
  },
  {
   "cell_type": "code",
   "execution_count": 5,
   "metadata": {},
   "outputs": [
    {
     "data": {
      "text/html": [
       "<div>\n",
       "<style scoped>\n",
       "    .dataframe tbody tr th:only-of-type {\n",
       "        vertical-align: middle;\n",
       "    }\n",
       "\n",
       "    .dataframe tbody tr th {\n",
       "        vertical-align: top;\n",
       "    }\n",
       "\n",
       "    .dataframe thead th {\n",
       "        text-align: right;\n",
       "    }\n",
       "</style>\n",
       "<table border=\"1\" class=\"dataframe\">\n",
       "  <thead>\n",
       "    <tr style=\"text-align: right;\">\n",
       "      <th></th>\n",
       "      <th>Year_of_Release</th>\n",
       "      <th>NA_sales</th>\n",
       "      <th>EU_sales</th>\n",
       "      <th>JP_sales</th>\n",
       "      <th>Other_sales</th>\n",
       "      <th>Critic_Score</th>\n",
       "    </tr>\n",
       "  </thead>\n",
       "  <tbody>\n",
       "    <tr>\n",
       "      <th>count</th>\n",
       "      <td>16446.000000</td>\n",
       "      <td>16715.000000</td>\n",
       "      <td>16715.000000</td>\n",
       "      <td>16715.000000</td>\n",
       "      <td>16715.000000</td>\n",
       "      <td>8137.000000</td>\n",
       "    </tr>\n",
       "    <tr>\n",
       "      <th>mean</th>\n",
       "      <td>2006.484616</td>\n",
       "      <td>0.263377</td>\n",
       "      <td>0.145060</td>\n",
       "      <td>0.077617</td>\n",
       "      <td>0.047342</td>\n",
       "      <td>68.967679</td>\n",
       "    </tr>\n",
       "    <tr>\n",
       "      <th>std</th>\n",
       "      <td>5.877050</td>\n",
       "      <td>0.813604</td>\n",
       "      <td>0.503339</td>\n",
       "      <td>0.308853</td>\n",
       "      <td>0.186731</td>\n",
       "      <td>13.938165</td>\n",
       "    </tr>\n",
       "    <tr>\n",
       "      <th>min</th>\n",
       "      <td>1980.000000</td>\n",
       "      <td>0.000000</td>\n",
       "      <td>0.000000</td>\n",
       "      <td>0.000000</td>\n",
       "      <td>0.000000</td>\n",
       "      <td>13.000000</td>\n",
       "    </tr>\n",
       "    <tr>\n",
       "      <th>25%</th>\n",
       "      <td>2003.000000</td>\n",
       "      <td>0.000000</td>\n",
       "      <td>0.000000</td>\n",
       "      <td>0.000000</td>\n",
       "      <td>0.000000</td>\n",
       "      <td>60.000000</td>\n",
       "    </tr>\n",
       "    <tr>\n",
       "      <th>50%</th>\n",
       "      <td>2007.000000</td>\n",
       "      <td>0.080000</td>\n",
       "      <td>0.020000</td>\n",
       "      <td>0.000000</td>\n",
       "      <td>0.010000</td>\n",
       "      <td>71.000000</td>\n",
       "    </tr>\n",
       "    <tr>\n",
       "      <th>75%</th>\n",
       "      <td>2010.000000</td>\n",
       "      <td>0.240000</td>\n",
       "      <td>0.110000</td>\n",
       "      <td>0.040000</td>\n",
       "      <td>0.030000</td>\n",
       "      <td>79.000000</td>\n",
       "    </tr>\n",
       "    <tr>\n",
       "      <th>max</th>\n",
       "      <td>2016.000000</td>\n",
       "      <td>41.360000</td>\n",
       "      <td>28.960000</td>\n",
       "      <td>10.220000</td>\n",
       "      <td>10.570000</td>\n",
       "      <td>98.000000</td>\n",
       "    </tr>\n",
       "  </tbody>\n",
       "</table>\n",
       "</div>"
      ],
      "text/plain": [
       "       Year_of_Release      NA_sales      EU_sales      JP_sales  \\\n",
       "count     16446.000000  16715.000000  16715.000000  16715.000000   \n",
       "mean       2006.484616      0.263377      0.145060      0.077617   \n",
       "std           5.877050      0.813604      0.503339      0.308853   \n",
       "min        1980.000000      0.000000      0.000000      0.000000   \n",
       "25%        2003.000000      0.000000      0.000000      0.000000   \n",
       "50%        2007.000000      0.080000      0.020000      0.000000   \n",
       "75%        2010.000000      0.240000      0.110000      0.040000   \n",
       "max        2016.000000     41.360000     28.960000     10.220000   \n",
       "\n",
       "        Other_sales  Critic_Score  \n",
       "count  16715.000000   8137.000000  \n",
       "mean       0.047342     68.967679  \n",
       "std        0.186731     13.938165  \n",
       "min        0.000000     13.000000  \n",
       "25%        0.000000     60.000000  \n",
       "50%        0.010000     71.000000  \n",
       "75%        0.030000     79.000000  \n",
       "max       10.570000     98.000000  "
      ]
     },
     "execution_count": 5,
     "metadata": {},
     "output_type": "execute_result"
    }
   ],
   "source": [
    "# Обзор датафрейма, получаем описательную статистику\n",
    "df.describe()"
   ]
  },
  {
   "cell_type": "markdown",
   "metadata": {},
   "source": [
    "В датасете представлены игры, выпущенные с 1980 по 2016 год. В данных о продажах много нулевых значений. Оценки критиков распределены от 13 до 98. Аномальных данных не выявлено."
   ]
  },
  {
   "cell_type": "markdown",
   "metadata": {},
   "source": [
    "**Вывод**\n",
    "\n",
    "Как и следовало из сопроводительной документации, в строках таблицы находятся игры, вышедшие с 1980 по 2016 годы. Столбцы описывают характеристики игр, продажи по глобальным регионам и рейтинги.\n",
    "\n",
    "В столбцах отмечено нарушение стиля. Данные в столбе `User_Score` приведем к вещественному типу.\n",
    "\n",
    "В данных присутствуют пропуски, их нужно обработать."
   ]
  },
  {
   "cell_type": "markdown",
   "metadata": {},
   "source": [
    "## Предобработка данных\n",
    "Исправим именование столбцов. Проведем обработку пропусков. Проведем замену типов данных. Проверим данные на дубликаты."
   ]
  },
  {
   "cell_type": "markdown",
   "metadata": {},
   "source": [
    "### Стиль заголовков"
   ]
  },
  {
   "cell_type": "code",
   "execution_count": 6,
   "metadata": {},
   "outputs": [
    {
     "data": {
      "text/plain": [
       "Index(['name', 'platform', 'year_of_release', 'genre', 'na_sales', 'eu_sales',\n",
       "       'jp_sales', 'other_sales', 'critic_score', 'user_score', 'rating'],\n",
       "      dtype='object')"
      ]
     },
     "execution_count": 6,
     "metadata": {},
     "output_type": "execute_result"
    }
   ],
   "source": [
    "# Переименуем столбцы\n",
    "df.rename(str.lower, axis='columns', inplace=True)\n",
    "\n",
    "# Проверим переименование\n",
    "df.columns"
   ]
  },
  {
   "cell_type": "markdown",
   "metadata": {},
   "source": [
    "Стиль заголовков приведен к корректному."
   ]
  },
  {
   "cell_type": "markdown",
   "metadata": {},
   "source": [
    "### Обработка пропусков"
   ]
  },
  {
   "cell_type": "code",
   "execution_count": 7,
   "metadata": {
    "scrolled": true
   },
   "outputs": [
    {
     "data": {
      "text/plain": [
       "name                  2\n",
       "platform              0\n",
       "year_of_release     269\n",
       "genre                 2\n",
       "na_sales              0\n",
       "eu_sales              0\n",
       "jp_sales              0\n",
       "other_sales           0\n",
       "critic_score       8578\n",
       "user_score         6701\n",
       "rating             6766\n",
       "dtype: int64"
      ]
     },
     "execution_count": 7,
     "metadata": {},
     "output_type": "execute_result"
    }
   ],
   "source": [
    "# Посчитаем пропуски значений\n",
    "df.isna().sum()"
   ]
  },
  {
   "cell_type": "markdown",
   "metadata": {},
   "source": [
    "В 6 столбцах присутствуют пропуски:\n",
    "\n",
    "  * `name`: 2 пропуска не повлияют на исследование, оставим.\n",
    "  * `year_of_release`: 269 пропусков не повлияют на исследование, оставим.\n",
    "  * `genre`: 2 пропуска не повлияют на исследование, оставим.\n",
    "  * `critic_score`: 8578 пропусков. 5% игр не имеют оценки критиков. Заполнить значения нечем, оставим пропуски.\n",
    "  * `user_score`: 6701 пропуск. 4% игр не имеют оценки пользователей. Заполнить значения нечем, оставим пропуски.\n",
    "  * `rating`: 6766 пропусков. 4% игр не имеют возрастной категории. Для корректности будущих выводов, пропуски в столбце со строковыми данными следует заполнить заглушками `not rated`."
   ]
  },
  {
   "cell_type": "code",
   "execution_count": 8,
   "metadata": {},
   "outputs": [
    {
     "data": {
      "text/plain": [
       "0"
      ]
     },
     "execution_count": 8,
     "metadata": {},
     "output_type": "execute_result"
    }
   ],
   "source": [
    "# Заполним пропуски в столбце rating значением not rated\n",
    "df.loc[df['rating'].isna(), 'rating'] = 'not rated'\n",
    "\n",
    "# Проверим заполнение пропусков\n",
    "df['rating'].isna().sum()"
   ]
  },
  {
   "cell_type": "markdown",
   "metadata": {},
   "source": [
    "Пропуски в столбце `rating` заменены на заглушку `not rated`. Обработка остальных пропусков не требуется."
   ]
  },
  {
   "cell_type": "markdown",
   "metadata": {},
   "source": [
    "### Замена типа данных\n",
    "Заменим тип данных в столбце `user_score` на вещественный с помощью функции `pandas.DataFrame.astype`."
   ]
  },
  {
   "cell_type": "markdown",
   "metadata": {},
   "source": [
    "В столбце `user_score` присутствуют нечисловые значения `tbd`. Вероятно, обозначение использовано для игр, по которым еще не сформирован (ожидается) пользовательский рейтинг. Такое обозначение аналогично отсутствию значения рейтинга. Проверим, сколько таких значений и заменим их пропусками."
   ]
  },
  {
   "cell_type": "code",
   "execution_count": 9,
   "metadata": {},
   "outputs": [
    {
     "data": {
      "text/plain": [
       "2424"
      ]
     },
     "execution_count": 9,
     "metadata": {},
     "output_type": "execute_result"
    }
   ],
   "source": [
    "# Проверим количество значений tbd\n",
    "len(df.query('user_score == \"tbd\"'))"
   ]
  },
  {
   "cell_type": "code",
   "execution_count": 10,
   "metadata": {},
   "outputs": [
    {
     "data": {
      "text/plain": [
       "9125"
      ]
     },
     "execution_count": 10,
     "metadata": {},
     "output_type": "execute_result"
    }
   ],
   "source": [
    "# Заменим значения tbd на пропуски\n",
    "df.loc[df['user_score'] == 'tbd', 'user_score'] = None\n",
    "\n",
    "# Проверим новое количество пропусков в столбце\n",
    "df['user_score'].isna().sum()"
   ]
  },
  {
   "cell_type": "code",
   "execution_count": 11,
   "metadata": {},
   "outputs": [
    {
     "data": {
      "text/plain": [
       "name                object\n",
       "platform            object\n",
       "year_of_release    float64\n",
       "genre               object\n",
       "na_sales           float64\n",
       "eu_sales           float64\n",
       "jp_sales           float64\n",
       "other_sales        float64\n",
       "critic_score       float64\n",
       "user_score         float64\n",
       "rating              object\n",
       "dtype: object"
      ]
     },
     "execution_count": 11,
     "metadata": {},
     "output_type": "execute_result"
    }
   ],
   "source": [
    "# Изменим тип данных в столбце user_score\n",
    "df['user_score'] = df['user_score'].astype('float64')\n",
    "\n",
    "# Проверим изменение типа данных\n",
    "df.dtypes"
   ]
  },
  {
   "cell_type": "markdown",
   "metadata": {},
   "source": [
    "Тип данных в столбце `user_score` изменен на вещественный. При этом 2424 строковых значений `tbd` были переведены в пропуски. В столбце теперь 9125 пропусков."
   ]
  },
  {
   "cell_type": "markdown",
   "metadata": {},
   "source": [
    "### Обработка дубликатов"
   ]
  },
  {
   "cell_type": "code",
   "execution_count": 12,
   "metadata": {},
   "outputs": [
    {
     "data": {
      "text/plain": [
       "0"
      ]
     },
     "execution_count": 12,
     "metadata": {},
     "output_type": "execute_result"
    }
   ],
   "source": [
    "# Проверим данные в датафрейме на явные строковые дубликаты\n",
    "df.duplicated().sum()"
   ]
  },
  {
   "cell_type": "markdown",
   "metadata": {},
   "source": [
    "Явные дубликаты в датафрейме отсутствуют."
   ]
  },
  {
   "cell_type": "markdown",
   "metadata": {},
   "source": [
    "**Вывод**\n",
    "\n",
    "На этапе предобработки данных мы исправили стиль заголовков, обработали пропуски в столбце `rating`, убрали нечисловые значения в столбце `user_score`, исправили тип данных столбца `user_score`. Мы установили, что явные дубликаты в датафрейме отсутствуют."
   ]
  },
  {
   "cell_type": "markdown",
   "metadata": {},
   "source": [
    "## Расчёты и добавление результатов в таблицу\n",
    "Добавим столбец `total_sales` с суммой продаж (млн проданных копий) во всех регионах (Северная Америка, Европа, Япония и другие страны)."
   ]
  },
  {
   "cell_type": "code",
   "execution_count": 13,
   "metadata": {
    "scrolled": false
   },
   "outputs": [],
   "source": [
    "# Добавим столбец total_sales\n",
    "df['total_sales'] = (\n",
    "    df['na_sales']\n",
    "    + df['eu_sales']\n",
    "    + df['jp_sales']\n",
    "    + df['other_sales']\n",
    ")"
   ]
  },
  {
   "cell_type": "code",
   "execution_count": 14,
   "metadata": {},
   "outputs": [
    {
     "data": {
      "text/html": [
       "<div>\n",
       "<style scoped>\n",
       "    .dataframe tbody tr th:only-of-type {\n",
       "        vertical-align: middle;\n",
       "    }\n",
       "\n",
       "    .dataframe tbody tr th {\n",
       "        vertical-align: top;\n",
       "    }\n",
       "\n",
       "    .dataframe thead th {\n",
       "        text-align: right;\n",
       "    }\n",
       "</style>\n",
       "<table border=\"1\" class=\"dataframe\">\n",
       "  <thead>\n",
       "    <tr style=\"text-align: right;\">\n",
       "      <th></th>\n",
       "      <th>name</th>\n",
       "      <th>platform</th>\n",
       "      <th>year_of_release</th>\n",
       "      <th>genre</th>\n",
       "      <th>na_sales</th>\n",
       "      <th>eu_sales</th>\n",
       "      <th>jp_sales</th>\n",
       "      <th>other_sales</th>\n",
       "      <th>critic_score</th>\n",
       "      <th>user_score</th>\n",
       "      <th>rating</th>\n",
       "      <th>total_sales</th>\n",
       "    </tr>\n",
       "  </thead>\n",
       "  <tbody>\n",
       "    <tr>\n",
       "      <th>0</th>\n",
       "      <td>Wii Sports</td>\n",
       "      <td>Wii</td>\n",
       "      <td>2006.0</td>\n",
       "      <td>Sports</td>\n",
       "      <td>41.36</td>\n",
       "      <td>28.96</td>\n",
       "      <td>3.77</td>\n",
       "      <td>8.45</td>\n",
       "      <td>76.0</td>\n",
       "      <td>8.0</td>\n",
       "      <td>E</td>\n",
       "      <td>82.54</td>\n",
       "    </tr>\n",
       "    <tr>\n",
       "      <th>1</th>\n",
       "      <td>Super Mario Bros.</td>\n",
       "      <td>NES</td>\n",
       "      <td>1985.0</td>\n",
       "      <td>Platform</td>\n",
       "      <td>29.08</td>\n",
       "      <td>3.58</td>\n",
       "      <td>6.81</td>\n",
       "      <td>0.77</td>\n",
       "      <td>NaN</td>\n",
       "      <td>NaN</td>\n",
       "      <td>not rated</td>\n",
       "      <td>40.24</td>\n",
       "    </tr>\n",
       "    <tr>\n",
       "      <th>2</th>\n",
       "      <td>Mario Kart Wii</td>\n",
       "      <td>Wii</td>\n",
       "      <td>2008.0</td>\n",
       "      <td>Racing</td>\n",
       "      <td>15.68</td>\n",
       "      <td>12.76</td>\n",
       "      <td>3.79</td>\n",
       "      <td>3.29</td>\n",
       "      <td>82.0</td>\n",
       "      <td>8.3</td>\n",
       "      <td>E</td>\n",
       "      <td>35.52</td>\n",
       "    </tr>\n",
       "    <tr>\n",
       "      <th>3</th>\n",
       "      <td>Wii Sports Resort</td>\n",
       "      <td>Wii</td>\n",
       "      <td>2009.0</td>\n",
       "      <td>Sports</td>\n",
       "      <td>15.61</td>\n",
       "      <td>10.93</td>\n",
       "      <td>3.28</td>\n",
       "      <td>2.95</td>\n",
       "      <td>80.0</td>\n",
       "      <td>8.0</td>\n",
       "      <td>E</td>\n",
       "      <td>32.77</td>\n",
       "    </tr>\n",
       "    <tr>\n",
       "      <th>4</th>\n",
       "      <td>Pokemon Red/Pokemon Blue</td>\n",
       "      <td>GB</td>\n",
       "      <td>1996.0</td>\n",
       "      <td>Role-Playing</td>\n",
       "      <td>11.27</td>\n",
       "      <td>8.89</td>\n",
       "      <td>10.22</td>\n",
       "      <td>1.00</td>\n",
       "      <td>NaN</td>\n",
       "      <td>NaN</td>\n",
       "      <td>not rated</td>\n",
       "      <td>31.38</td>\n",
       "    </tr>\n",
       "  </tbody>\n",
       "</table>\n",
       "</div>"
      ],
      "text/plain": [
       "                       name platform  year_of_release         genre  na_sales  \\\n",
       "0                Wii Sports      Wii           2006.0        Sports     41.36   \n",
       "1         Super Mario Bros.      NES           1985.0      Platform     29.08   \n",
       "2            Mario Kart Wii      Wii           2008.0        Racing     15.68   \n",
       "3         Wii Sports Resort      Wii           2009.0        Sports     15.61   \n",
       "4  Pokemon Red/Pokemon Blue       GB           1996.0  Role-Playing     11.27   \n",
       "\n",
       "   eu_sales  jp_sales  other_sales  critic_score  user_score     rating  \\\n",
       "0     28.96      3.77         8.45          76.0         8.0          E   \n",
       "1      3.58      6.81         0.77           NaN         NaN  not rated   \n",
       "2     12.76      3.79         3.29          82.0         8.3          E   \n",
       "3     10.93      3.28         2.95          80.0         8.0          E   \n",
       "4      8.89     10.22         1.00           NaN         NaN  not rated   \n",
       "\n",
       "   total_sales  \n",
       "0        82.54  \n",
       "1        40.24  \n",
       "2        35.52  \n",
       "3        32.77  \n",
       "4        31.38  "
      ]
     },
     "execution_count": 14,
     "metadata": {},
     "output_type": "execute_result"
    }
   ],
   "source": [
    "# Проверим созданный столбец, выведем первые 5 строк датафрейма\n",
    "df.head()"
   ]
  },
  {
   "cell_type": "markdown",
   "metadata": {},
   "source": [
    "**Вывод**\n",
    "\n",
    "Добавлен столбец `total_sales` с суммарными продажами во всех регионах."
   ]
  },
  {
   "cell_type": "markdown",
   "metadata": {},
   "source": [
    "## Исследовательский анализ данных\n",
    "Изучим выход игр по годам и определим актуальный период для анализа.\n",
    "\n",
    "Изучим глобальные продажи по платформам. Оценить влияние отзывов пользователей и критиков на продажи. Изучим распределение игр по жанра.\n",
    "\n",
    "Определим портрет пользователя для регионов Северная Америка, Европа, Япония: найдем 5 самых популярных платформ и жанров, оценим влияние рейтинга ESRB на продажи."
   ]
  },
  {
   "cell_type": "markdown",
   "metadata": {},
   "source": [
    "### Изучение выхода игр по годам\n",
    "Изучим, как менялось количество выпущенных игр по годам. Определим период для проведения исследования."
   ]
  },
  {
   "cell_type": "code",
   "execution_count": 15,
   "metadata": {
    "scrolled": false
   },
   "outputs": [
    {
     "data": {
      "image/png": "[encoded data removed]",
      "text/plain": [
       "<Figure size 648x432 with 1 Axes>"
      ]
     },
     "metadata": {
      "needs_background": "light"
     },
     "output_type": "display_data"
    }
   ],
   "source": [
    "# Построим график выхода игр по годам\n",
    "df.groupby('year_of_release')['name'].count().plot(figsize=(9, 6), grid=True, marker='o',)\n",
    "plt.title('Выход игр по годам')\n",
    "plt.xlabel('год выпуска')\n",
    "plt.ylabel('количество игр')\n",
    "plt.show()"
   ]
  },
  {
   "cell_type": "markdown",
   "metadata": {},
   "source": [
    "На графике отчетливо виден приход пятого поколения игровых приставок в 1994 году, отличавшегося полноценной трехмерной графикой. В это же время появляется самая успешная консоль периода — Sony PlayStation. До 2008 года практически каждый год выпуск игр рос год к году. После 2008 года наблюдается резкий спад выпуска игр. Возможно, перелом в 2008 году связан с мировым финансовым кризисом, когда компании перешли в режим экономии и замораживали разработку. Восстановление началось с 2013 года (считается годом преодоления основых последствий финансового кризиса) и тенденция роста выпуска игр продолжается. Учитывая, что данные за 2016 год неполные, можно ожидать выпуск игр по итогам 2016 года на уровне 2015 года.\n",
    "\n",
    "Учитывая описанные выше процессы в индустрии, **в рамках исследования стоит рассматривать период с 2013 года**. Данные бурного роста количетсва выпускаемых игр до 2008 года и пост-кризисного восстановления 2008-2012 годов не помогут построить прогноз на 2017 год."
   ]
  },
  {
   "cell_type": "markdown",
   "metadata": {},
   "source": [
    "### Определение актуального периода для анализа\n",
    "Изучим, как менялись суммарные продажи игр на разных платформах по годам. Определим средний \"срок жизни\" игровой платформы."
   ]
  },
  {
   "cell_type": "code",
   "execution_count": 16,
   "metadata": {
    "scrolled": true
   },
   "outputs": [
    {
     "data": {
      "text/plain": [
       "platform\n",
       "PS2     1255.77\n",
       "X360     971.42\n",
       "PS3      939.65\n",
       "Wii      907.51\n",
       "DS       806.12\n",
       "PS       730.86\n",
       "GBA      317.85\n",
       "PS4      314.14\n",
       "PSP      294.05\n",
       "PC       259.52\n",
       "Name: total_sales, dtype: float64"
      ]
     },
     "execution_count": 16,
     "metadata": {},
     "output_type": "execute_result"
    }
   ],
   "source": [
    "# Выведем 10 платформ с самыми большими продажами\n",
    "(\n",
    "    df.groupby('platform')['total_sales']\n",
    "    .sum()\n",
    "    .sort_values(ascending=False)\n",
    "    .head(10)\n",
    ")"
   ]
  },
  {
   "cell_type": "markdown",
   "metadata": {},
   "source": [
    "Изучим распределение продаж по годам для 7 наиболее популряных за все время платформ:\n",
    "\n",
    "  * PS2 — Sony PlayStation 2;\n",
    "  * X360 — Microsoft Xbox 360;\n",
    "  * PS3 — Sony PlayStation 3;\n",
    "  * Wii — Nintendo Wii;\n",
    "  * DS — Nintendo DS;\n",
    "  * PS — Sony PlayStation;\n",
    "  * GBA — Nintendo Game Boy Advance."
   ]
  },
  {
   "cell_type": "code",
   "execution_count": 17,
   "metadata": {},
   "outputs": [
    {
     "data": {
      "image/png": "[encoded data removed]",
      "text/plain": [
       "<Figure size 648x432 with 1 Axes>"
      ]
     },
     "metadata": {
      "needs_background": "light"
     },
     "output_type": "display_data"
    }
   ],
   "source": [
    "# Список платформ для изучения\n",
    "top_platforms = [\"PS2\", \"X360\", \"PS3\", \"Wii\", \"DS\", \"PS\", \"GBA\"]\n",
    "\n",
    "# Построим графики продаж игр по годам для выбранных платформ\n",
    "for platform in top_platforms:\n",
    "    (\n",
    "        df.loc[df['platform'] == platform]\n",
    "        .groupby('year_of_release')['total_sales']\n",
    "        .sum()\n",
    "        .plot(figsize=(9, 6), grid=True)\n",
    "    )\n",
    "plt.title('Продажи игр на платформах по годам')\n",
    "plt.xlabel('год выпуска')\n",
    "plt.xlim(1993, 2016)\n",
    "plt.ylabel('млн проданных копий')\n",
    "plt.legend(\n",
    "    [\"PlayStation\",\n",
    "    \"Xbox 360\",\n",
    "    \"PlayStation 3\",\n",
    "    \"Nintendo Wii\",\n",
    "    \"Nintendo DS\",\n",
    "    \"PlayStation\",\n",
    "    \"Game Boy Advance\"]\n",
    ")\n",
    "plt.show()"
   ]
  },
  {
   "cell_type": "markdown",
   "metadata": {},
   "source": [
    "На графике видны \"сроки жизни\" платформ. Вышедшую в 1994 году Sony PlayStation в 2000 году сменяет Sony PlayStation 2. Параллельно ей с 2001 по 2006 годы существует портативная приставка Nintendo Game Boy Advance. На смену Sony PlayStation 2 в 2006 году приходит Sony PlayStation 3. Этот период характеризуется высокой конкуренцией, приставку-лидера по продажам игр не определить. Практически одновременно с Sony PlayStation 3 на рынке представлены портативная Nintendo DS, Nintendo Wii, Microsoft Xbox 360.\n",
    "\n",
    "\"Срок жизни\" платформ со временем растет. Видно, что платформы пятого и шестого поколений (Sony PlayStation и Sony PlayStation 2 соответственно) были актуальны около 6 лет. Платформы седьмого поколения (Sony PlayStation 3 и конкуренты) актуальны около 8 лет. Предположительно, с 2013 года (8 лет после выпуска платформ седьмого поколения) начали развиваться платформы следующего, восьмого поколения. К 2016 году они должны находиться близко к пику популярности.\n",
    "\n",
    "Таким образом, **подтверждается правильность выбора актуального периода для проведения дальнейшего исследования**. Рассматривая период с 2013 по 2016 год мы оценим продажи игр для находящихся возле пиков популярности современных платформ. Это поможет сделать корректный прогноз на 2017 год."
   ]
  },
  {
   "cell_type": "markdown",
   "metadata": {},
   "source": [
    "### Глобальные продажи по платформам\n",
    "Изучим, как менялись глобальные продажи по платформам в актуальный период с 2013 по 2016 годы."
   ]
  },
  {
   "cell_type": "code",
   "execution_count": 18,
   "metadata": {
    "scrolled": false
   },
   "outputs": [
    {
     "data": {
      "text/html": [
       "<style type=\"text/css\">\n",
       "#T_fd671_row0_col0, #T_fd671_row1_col0, #T_fd671_row2_col1, #T_fd671_row3_col0, #T_fd671_row4_col2, #T_fd671_row5_col0, #T_fd671_row6_col1, #T_fd671_row7_col0, #T_fd671_row8_col1, #T_fd671_row9_col0, #T_fd671_row10_col2 {\n",
       "  background-color: lightgreen;\n",
       "}\n",
       "</style>\n",
       "<table id=\"T_fd671_\">\n",
       "  <thead>\n",
       "    <tr>\n",
       "      <th class=\"index_name level0\" >year_of_release</th>\n",
       "      <th class=\"col_heading level0 col0\" >2013.0</th>\n",
       "      <th class=\"col_heading level0 col1\" >2014.0</th>\n",
       "      <th class=\"col_heading level0 col2\" >2015.0</th>\n",
       "      <th class=\"col_heading level0 col3\" >2016.0</th>\n",
       "    </tr>\n",
       "    <tr>\n",
       "      <th class=\"index_name level0\" >platform</th>\n",
       "      <th class=\"blank col0\" >&nbsp;</th>\n",
       "      <th class=\"blank col1\" >&nbsp;</th>\n",
       "      <th class=\"blank col2\" >&nbsp;</th>\n",
       "      <th class=\"blank col3\" >&nbsp;</th>\n",
       "    </tr>\n",
       "  </thead>\n",
       "  <tbody>\n",
       "    <tr>\n",
       "      <th id=\"T_fd671_level0_row0\" class=\"row_heading level0 row0\" >3DS</th>\n",
       "      <td id=\"T_fd671_row0_col0\" class=\"data row0 col0\" >56.570000</td>\n",
       "      <td id=\"T_fd671_row0_col1\" class=\"data row0 col1\" >43.760000</td>\n",
       "      <td id=\"T_fd671_row0_col2\" class=\"data row0 col2\" >27.780000</td>\n",
       "      <td id=\"T_fd671_row0_col3\" class=\"data row0 col3\" >15.140000</td>\n",
       "    </tr>\n",
       "    <tr>\n",
       "      <th id=\"T_fd671_level0_row1\" class=\"row_heading level0 row1\" >DS</th>\n",
       "      <td id=\"T_fd671_row1_col0\" class=\"data row1 col0\" >1.540000</td>\n",
       "      <td id=\"T_fd671_row1_col1\" class=\"data row1 col1\" >0.000000</td>\n",
       "      <td id=\"T_fd671_row1_col2\" class=\"data row1 col2\" >0.000000</td>\n",
       "      <td id=\"T_fd671_row1_col3\" class=\"data row1 col3\" >0.000000</td>\n",
       "    </tr>\n",
       "    <tr>\n",
       "      <th id=\"T_fd671_level0_row2\" class=\"row_heading level0 row2\" >PC</th>\n",
       "      <td id=\"T_fd671_row2_col0\" class=\"data row2 col0\" >12.380000</td>\n",
       "      <td id=\"T_fd671_row2_col1\" class=\"data row2 col1\" >13.280000</td>\n",
       "      <td id=\"T_fd671_row2_col2\" class=\"data row2 col2\" >8.520000</td>\n",
       "      <td id=\"T_fd671_row2_col3\" class=\"data row2 col3\" >5.250000</td>\n",
       "    </tr>\n",
       "    <tr>\n",
       "      <th id=\"T_fd671_level0_row3\" class=\"row_heading level0 row3\" >PS3</th>\n",
       "      <td id=\"T_fd671_row3_col0\" class=\"data row3 col0\" >113.250000</td>\n",
       "      <td id=\"T_fd671_row3_col1\" class=\"data row3 col1\" >47.760000</td>\n",
       "      <td id=\"T_fd671_row3_col2\" class=\"data row3 col2\" >16.820000</td>\n",
       "      <td id=\"T_fd671_row3_col3\" class=\"data row3 col3\" >3.600000</td>\n",
       "    </tr>\n",
       "    <tr>\n",
       "      <th id=\"T_fd671_level0_row4\" class=\"row_heading level0 row4\" >PS4</th>\n",
       "      <td id=\"T_fd671_row4_col0\" class=\"data row4 col0\" >25.990000</td>\n",
       "      <td id=\"T_fd671_row4_col1\" class=\"data row4 col1\" >100.000000</td>\n",
       "      <td id=\"T_fd671_row4_col2\" class=\"data row4 col2\" >118.900000</td>\n",
       "      <td id=\"T_fd671_row4_col3\" class=\"data row4 col3\" >69.250000</td>\n",
       "    </tr>\n",
       "    <tr>\n",
       "      <th id=\"T_fd671_level0_row5\" class=\"row_heading level0 row5\" >PSP</th>\n",
       "      <td id=\"T_fd671_row5_col0\" class=\"data row5 col0\" >3.140000</td>\n",
       "      <td id=\"T_fd671_row5_col1\" class=\"data row5 col1\" >0.240000</td>\n",
       "      <td id=\"T_fd671_row5_col2\" class=\"data row5 col2\" >0.120000</td>\n",
       "      <td id=\"T_fd671_row5_col3\" class=\"data row5 col3\" >0.000000</td>\n",
       "    </tr>\n",
       "    <tr>\n",
       "      <th id=\"T_fd671_level0_row6\" class=\"row_heading level0 row6\" >PSV</th>\n",
       "      <td id=\"T_fd671_row6_col0\" class=\"data row6 col0\" >10.590000</td>\n",
       "      <td id=\"T_fd671_row6_col1\" class=\"data row6 col1\" >11.900000</td>\n",
       "      <td id=\"T_fd671_row6_col2\" class=\"data row6 col2\" >6.250000</td>\n",
       "      <td id=\"T_fd671_row6_col3\" class=\"data row6 col3\" >4.250000</td>\n",
       "    </tr>\n",
       "    <tr>\n",
       "      <th id=\"T_fd671_level0_row7\" class=\"row_heading level0 row7\" >Wii</th>\n",
       "      <td id=\"T_fd671_row7_col0\" class=\"data row7 col0\" >8.590000</td>\n",
       "      <td id=\"T_fd671_row7_col1\" class=\"data row7 col1\" >3.750000</td>\n",
       "      <td id=\"T_fd671_row7_col2\" class=\"data row7 col2\" >1.140000</td>\n",
       "      <td id=\"T_fd671_row7_col3\" class=\"data row7 col3\" >0.180000</td>\n",
       "    </tr>\n",
       "    <tr>\n",
       "      <th id=\"T_fd671_level0_row8\" class=\"row_heading level0 row8\" >WiiU</th>\n",
       "      <td id=\"T_fd671_row8_col0\" class=\"data row8 col0\" >21.650000</td>\n",
       "      <td id=\"T_fd671_row8_col1\" class=\"data row8 col1\" >22.030000</td>\n",
       "      <td id=\"T_fd671_row8_col2\" class=\"data row8 col2\" >16.350000</td>\n",
       "      <td id=\"T_fd671_row8_col3\" class=\"data row8 col3\" >4.600000</td>\n",
       "    </tr>\n",
       "    <tr>\n",
       "      <th id=\"T_fd671_level0_row9\" class=\"row_heading level0 row9\" >X360</th>\n",
       "      <td id=\"T_fd671_row9_col0\" class=\"data row9 col0\" >88.580000</td>\n",
       "      <td id=\"T_fd671_row9_col1\" class=\"data row9 col1\" >34.740000</td>\n",
       "      <td id=\"T_fd671_row9_col2\" class=\"data row9 col2\" >11.960000</td>\n",
       "      <td id=\"T_fd671_row9_col3\" class=\"data row9 col3\" >1.520000</td>\n",
       "    </tr>\n",
       "    <tr>\n",
       "      <th id=\"T_fd671_level0_row10\" class=\"row_heading level0 row10\" >XOne</th>\n",
       "      <td id=\"T_fd671_row10_col0\" class=\"data row10 col0\" >18.960000</td>\n",
       "      <td id=\"T_fd671_row10_col1\" class=\"data row10 col1\" >54.070000</td>\n",
       "      <td id=\"T_fd671_row10_col2\" class=\"data row10 col2\" >60.140000</td>\n",
       "      <td id=\"T_fd671_row10_col3\" class=\"data row10 col3\" >26.150000</td>\n",
       "    </tr>\n",
       "  </tbody>\n",
       "</table>\n"
      ],
      "text/plain": [
       "<pandas.io.formats.style.Styler at 0x2299a2428e0>"
      ]
     },
     "execution_count": 18,
     "metadata": {},
     "output_type": "execute_result"
    }
   ],
   "source": [
    "# Соберем данные за актуальный период в новый датафрейм\n",
    "\n",
    "df_filtered = df.query('year_of_release >= 2013')\n",
    "\n",
    "# На актуальных данных для каждой платформы узнаем продажи по годам\n",
    "(\n",
    "    df_filtered.pivot_table(\n",
    "        index='platform',\n",
    "        columns='year_of_release',\n",
    "        values='total_sales',\n",
    "        aggfunc='sum',\n",
    "        fill_value=0)\n",
    "    .style\n",
    "    .highlight_max(color='lightgreen', axis=1)\n",
    ")"
   ]
  },
  {
   "cell_type": "markdown",
   "metadata": {},
   "source": [
    "В актуальный период по глобальным продажам игр **лидируют Sony PlayStation 4 и Microsoft Xbox One**. Из таблицы видно, что эти приставки набирают популярность и были лидерами в 2015 году, а также показывают лучшие результаты в 2016 году. Поскольку данные за 2016 год неполные, мы не можем сделать вывод по итогам года, однако, тренд сохраняется.\n",
    "\n",
    "Приставки Nintendo 3DS, Sony PlayStation 3, Microsoft Xbox 360, Nintendo Wii утрачивает популярность, поскольку им на смену уже пришло новое поколение приставок. Ориентироваться на эти платформы не стоит.\n",
    "\n",
    "Персональные компьютеры, Sony PlayStation Vita и Nintendo Wii U актуальны, но продажи игр для этих платформ не снижаются.\n",
    "\n",
    "Nintendo DS и Sony PlayStation Portable в 2016 году уже окончательно выбыли из конкурентной борьбы."
   ]
  },
  {
   "cell_type": "code",
   "execution_count": 19,
   "metadata": {},
   "outputs": [
    {
     "data": {
      "image/png": "[encoded data removed]",
      "text/plain": [
       "<Figure size 648x432 with 1 Axes>"
      ]
     },
     "metadata": {
      "needs_background": "light"
     },
     "output_type": "display_data"
    }
   ],
   "source": [
    "# Построим диаграмму размаха\n",
    "(\n",
    "    df_filtered.pivot_table(\n",
    "        index='year_of_release',\n",
    "        columns='platform',\n",
    "        values='total_sales',\n",
    "        aggfunc='sum')\n",
    "    .boxplot(figsize=(9, 6))\n",
    ")\n",
    "plt.title('Размах продаж игр на платформах по годам')\n",
    "plt.xlabel('платформа')\n",
    "plt.ylabel('млн проданных копий')\n",
    "plt.show()"
   ]
  },
  {
   "cell_type": "markdown",
   "metadata": {},
   "source": [
    "На диаграмме размаха видно, что медианы продаж в год на новых платформах (Sony PlayStation 4 и Microsoft Xbox One) намного выше медиан продаж соответствующих старых платформ (Sony PlayStation 3 и Microsoft Xbox 360)."
   ]
  },
  {
   "cell_type": "markdown",
   "metadata": {},
   "source": [
    "### Влияние отзывов на продажи\n",
    "Изучим влияние отзывов критиков и пользователей на продажи игр. Рассмотрим на примере самой популярной в актуальный период платформы Sony PlayStation 4."
   ]
  },
  {
   "cell_type": "code",
   "execution_count": 20,
   "metadata": {
    "scrolled": false
   },
   "outputs": [
    {
     "data": {
      "image/png": "[encoded data removed]",
      "text/plain": [
       "<Figure size 648x432 with 1 Axes>"
      ]
     },
     "metadata": {
      "needs_background": "light"
     },
     "output_type": "display_data"
    }
   ],
   "source": [
    "# Построим диаграмму рассеяния для отзывов критиков\n",
    "(\n",
    "    df_filtered.query('platform == \"PS4\"')\n",
    "    .plot(\n",
    "        kind='scatter',\n",
    "        x='critic_score',\n",
    "        y='total_sales',\n",
    "        alpha=0.75,\n",
    "        figsize=(9, 6),\n",
    "        grid=True)\n",
    ")\n",
    "plt.title('Влияние оценки критиков на глобальные продажи')\n",
    "plt.xlabel('оценка критиков')\n",
    "plt.ylabel('млн проданных копий')\n",
    "plt.show()"
   ]
  },
  {
   "cell_type": "markdown",
   "metadata": {},
   "source": [
    "Судя по диаграмме, **оценка критиков влияет на продажи**. Игры с оценкой критиков ниже 60 продаются намного хуже, чем игры с более высокой оценкой. Самые высокие продажи у игр с оценкой выше 80."
   ]
  },
  {
   "cell_type": "code",
   "execution_count": 21,
   "metadata": {},
   "outputs": [
    {
     "data": {
      "image/png": "[encoded data removed]",
      "text/plain": [
       "<Figure size 648x432 with 1 Axes>"
      ]
     },
     "metadata": {
      "needs_background": "light"
     },
     "output_type": "display_data"
    }
   ],
   "source": [
    "# Построим диаграмму рассеяния для отзывов пользователей\n",
    "(\n",
    "    df_filtered.query('platform == \"PS4\"')\n",
    "    .plot(\n",
    "        kind='scatter',\n",
    "        x='user_score',\n",
    "        y='total_sales',\n",
    "        alpha=0.75,\n",
    "        figsize=(9, 6),\n",
    "        grid=True)\n",
    ")\n",
    "plt.title('Влияние оценки пользователей на глобальные продажи')\n",
    "plt.xlabel('оценка пользователей')\n",
    "plt.ylabel('млн проданных копий')\n",
    "plt.show()"
   ]
  },
  {
   "cell_type": "markdown",
   "metadata": {},
   "source": [
    "Судя по диаграмме, **оценка пользователей не влияет на продажи**. Самые высокотиражные игры имеют средние пользовательские оценки."
   ]
  },
  {
   "cell_type": "code",
   "execution_count": 22,
   "metadata": {
    "scrolled": false
   },
   "outputs": [
    {
     "data": {
      "image/png": "[encoded data removed]",
      "text/plain": [
       "<Figure size 648x432 with 2 Axes>"
      ]
     },
     "metadata": {
      "needs_background": "light"
     },
     "output_type": "display_data"
    }
   ],
   "source": [
    "# Получаем матрицу корреляции\n",
    "corr_matrix = (\n",
    "    df_filtered.query('platform == \"PS4\"')\n",
    "    [['critic_score', 'user_score', 'total_sales']]\n",
    "    .corr()\n",
    ")\n",
    "\n",
    "# Составим список с названиями параметров\n",
    "correlation_labels = [\n",
    "    'оценка критиков',\n",
    "    'оценка пользователей',\n",
    "    'глобальные продажи'\n",
    "]\n",
    "\n",
    "# Визуализируем матрицу корреляции\n",
    "plt.figure(figsize=(9, 6))\n",
    "sns.heatmap(\n",
    "    corr_matrix,\n",
    "    vmin=-1,\n",
    "    vmax=1,\n",
    "    cmap='coolwarm',\n",
    "    annot=True,\n",
    "    yticklabels=correlation_labels,\n",
    "    xticklabels=correlation_labels)\n",
    "plt.title('Матрица корреляции')\n",
    "plt.show()"
   ]
  },
  {
   "cell_type": "markdown",
   "metadata": {},
   "source": [
    "Средняя положительная линейная связь отмечается между оценкой критиков и глобальными продажами. Чем выше оценки, тем выше продажи.\n",
    "\n",
    "Проверим для других платформ, действительно ли игры с высокими оценками лучше продаются."
   ]
  },
  {
   "cell_type": "code",
   "execution_count": 23,
   "metadata": {},
   "outputs": [
    {
     "data": {
      "text/plain": [
       "platform\n",
       "PC      75.550336\n",
       "PSP     74.000000\n",
       "XOne    73.325444\n",
       "PS4     72.091270\n",
       "WiiU    71.642857\n",
       "PSV     71.636364\n",
       "PS3     70.198347\n",
       "X360    69.234568\n",
       "3DS     68.338028\n",
       "DS            NaN\n",
       "Wii           NaN\n",
       "Name: critic_score, dtype: float64"
      ]
     },
     "execution_count": 23,
     "metadata": {},
     "output_type": "execute_result"
    }
   ],
   "source": [
    "# Получим средние оценки игр критиками на каждой платформе\n",
    "(\n",
    "    df_filtered.groupby('platform')['critic_score']\n",
    "    .mean()\n",
    "    .sort_values(ascending=False)\n",
    ")"
   ]
  },
  {
   "cell_type": "markdown",
   "metadata": {},
   "source": [
    "Самые высокие оценки игр отмечены на платформах PC и Sony PlayStation Portable. По продажам игр эти платформы сильно уступают Microsoft Xbox One и Sony PlayStation 4. Ровное число для Sony PlayStation Portable дает основания полагать, что для платформы слишком мало оценок критиков в датафрейме. Проверим эту версию."
   ]
  },
  {
   "cell_type": "code",
   "execution_count": 24,
   "metadata": {
    "scrolled": true
   },
   "outputs": [
    {
     "data": {
      "text/plain": [
       "platform\n",
       "PS4     252\n",
       "XOne    169\n",
       "PC      149\n",
       "PS3     121\n",
       "X360     81\n",
       "PSV      77\n",
       "3DS      71\n",
       "WiiU     70\n",
       "PSP       1\n",
       "DS        0\n",
       "Wii       0\n",
       "Name: critic_score, dtype: int64"
      ]
     },
     "execution_count": 24,
     "metadata": {},
     "output_type": "execute_result"
    }
   ],
   "source": [
    "# Получим количество оценок игр критиками на каждой платформе\n",
    "(\n",
    "    df_filtered.groupby('platform')['critic_score']\n",
    "    .count()\n",
    "    .sort_values(ascending=False)\n",
    ")"
   ]
  },
  {
   "cell_type": "markdown",
   "metadata": {},
   "source": [
    "Для Sony PlayStation Portable доступна всего одна оценка. Тем не менее, для платформы PC достаточно оценок, но рейтинг критиков гораздо выше, чем можно было бы ожидать при небольших продажах игр."
   ]
  },
  {
   "cell_type": "code",
   "execution_count": 25,
   "metadata": {},
   "outputs": [
    {
     "data": {
      "image/png": "[encoded data removed]",
      "text/plain": [
       "<Figure size 648x432 with 2 Axes>"
      ]
     },
     "metadata": {
      "needs_background": "light"
     },
     "output_type": "display_data"
    }
   ],
   "source": [
    "# Получаем матрицу корреляции\n",
    "corr_matrix = (\n",
    "    df_filtered.query('platform == \"PC\"')\n",
    "    [['critic_score', 'user_score', 'total_sales']]\n",
    "    .corr()\n",
    ")\n",
    "\n",
    "# Составим список с названиями параметров\n",
    "correlation_labels = [\n",
    "    'оценка критиков',\n",
    "    'оценка пользователей',\n",
    "    'глобальные продажи'\n",
    "]\n",
    "\n",
    "# Визуализируем матрицу корреляции\n",
    "plt.figure(figsize=(9, 6))\n",
    "sns.heatmap(\n",
    "    corr_matrix,\n",
    "    vmin=-1,\n",
    "    vmax=1,\n",
    "    cmap='coolwarm',\n",
    "    annot=True,\n",
    "    yticklabels=correlation_labels,\n",
    "    xticklabels=correlation_labels)\n",
    "plt.title('Матрица корреляции')\n",
    "plt.show()"
   ]
  },
  {
   "cell_type": "markdown",
   "metadata": {},
   "source": [
    "Коэффициент корреляции между отзывами критиков и продажами для платформы PC в 2 раза ниже, чем для Sony PlayStation 4.\n",
    "\n",
    "**Опираться на корреляцию между оценками критиков и продажами игр для построения прогнозов не следует**. Можно использовать в качестве дополнительного фактора принятия решений в случае платформ, для которых значение коэффициента корреляции выше и есть достаточно отзывов."
   ]
  },
  {
   "cell_type": "markdown",
   "metadata": {},
   "source": [
    "### Распределение игр по жанра\n",
    "Изучим прибыльность игр по жанрам для актуального периода."
   ]
  },
  {
   "cell_type": "code",
   "execution_count": 26,
   "metadata": {},
   "outputs": [
    {
     "data": {
      "image/png": "[encoded data removed]",
      "text/plain": [
       "<Figure size 576x432 with 1 Axes>"
      ]
     },
     "metadata": {
      "needs_background": "light"
     },
     "output_type": "display_data"
    }
   ],
   "source": [
    "# Количество игр по жанрам\n",
    "(\n",
    "    df_filtered.groupby('genre')['name']\n",
    "    .count()\n",
    "    .sort_values(ascending=True)\n",
    "    .plot(kind='barh', x='genre', figsize=(8, 6))\n",
    ")\n",
    "plt.title('Количество игр по жанрам')\n",
    "plt.xlabel('количество игр')\n",
    "plt.ylabel('жанр')\n",
    "plt.show()"
   ]
  },
  {
   "cell_type": "markdown",
   "metadata": {},
   "source": [
    "С большим отрывом **самым популярным жанром является экшн** (Action). Реже всего выпускаются игры в жанре пазл (Puzzle)."
   ]
  },
  {
   "cell_type": "code",
   "execution_count": 27,
   "metadata": {},
   "outputs": [
    {
     "data": {
      "image/png": "[encoded data removed]",
      "text/plain": [
       "<Figure size 576x432 with 1 Axes>"
      ]
     },
     "metadata": {
      "needs_background": "light"
     },
     "output_type": "display_data"
    }
   ],
   "source": [
    "# Глобальные продажи игр по жанрам\n",
    "(\n",
    "    df_filtered.groupby('genre')['total_sales']\n",
    "    .sum()\n",
    "    .sort_values(ascending=True)\n",
    "    .plot(kind='barh', x='genre', figsize=(8, 6))\n",
    ")\n",
    "plt.title('Глобальные продажи игр по жанрам')\n",
    "plt.xlabel('млн проданных копий')\n",
    "plt.ylabel('жанр')\n",
    "plt.show()"
   ]
  },
  {
   "cell_type": "markdown",
   "metadata": {},
   "source": [
    "**По количеству проданных копий лидирует снова жанр экшн**, но уже с меньшим отрывом. На втором месте теперь шутеры (Shooter). Самый малотиражный жанр — пазлы.\n",
    "\n",
    "Судя по графикам выше, игры в жанре экшн выпускаются значительно чаще, чем игры других жанров. То есть перекос в количестве проданных копий может быть вызван тем, что таких игр больше. Проверим это, рассчитав глобальные продажи в пересчете на одну игру жанра."
   ]
  },
  {
   "cell_type": "code",
   "execution_count": 28,
   "metadata": {},
   "outputs": [
    {
     "data": {
      "image/png": "[encoded data removed]",
      "text/plain": [
       "<Figure size 576x432 with 1 Axes>"
      ]
     },
     "metadata": {
      "needs_background": "light"
     },
     "output_type": "display_data"
    }
   ],
   "source": [
    "# Сформируем таблицу жанров с количеством игр и продажами\n",
    "mean_game_by_genre = (\n",
    "    df_filtered.pivot_table(\n",
    "        index='genre',\n",
    "        values='total_sales',\n",
    "        aggfunc=['count', 'sum']\n",
    "    )\n",
    "    .reset_index()\n",
    ")\n",
    "\n",
    "# Добавим столбец sales_per_game с продажами на одну игру\n",
    "mean_game_by_genre['sales_per_game'] = (\n",
    "    mean_game_by_genre['sum']['total_sales']\n",
    "    / mean_game_by_genre['count']['total_sales']\n",
    ")\n",
    "\n",
    "# Глобальные продажи в пересчете на одну игру жанра\n",
    "(\n",
    "    mean_game_by_genre\n",
    "    .sort_values(by='sales_per_game', ascending=True)\n",
    "    .plot(\n",
    "        kind='barh',\n",
    "        x='genre',\n",
    "        y='sales_per_game',\n",
    "        figsize=(8, 6),\n",
    "        legend=False\n",
    "    )\n",
    ")\n",
    "plt.title('Глобальные продажи в пересчете на одну игру жанра')\n",
    "plt.xlabel('млн проданных копий')\n",
    "plt.ylabel('жанр')\n",
    "plt.show()"
   ]
  },
  {
   "cell_type": "markdown",
   "metadata": {},
   "source": [
    "**В пересчете на одну игру самым продаваемым жанром являются шутеры**. На втором месте — спорт (Sports). Жанр экшн по этому показателю оказался в середине списка. Наименее продаваемый — жанр приключений (Adventure). Вероятно, под жанр экшн попадает слишком много различных игр (в том числе игры с комбинацией жанров, например, экшн/шутер). Поскольку количество игр велико, то велики и различия в количестве проданных копий."
   ]
  },
  {
   "cell_type": "markdown",
   "metadata": {},
   "source": [
    "### Региональные различия\n",
    "Определим портрет пользователя для каждого региона (Северная Америка, Европа, Япония). Найдем 5 самых популярных платформ и 5 самых популярных жанров. Оценим влияние рейтинга ESRB на продажи в для каждого региона."
   ]
  },
  {
   "cell_type": "code",
   "execution_count": 29,
   "metadata": {
    "scrolled": true
   },
   "outputs": [
    {
     "data": {
      "image/png": "[encoded data removed]",
      "text/plain": [
       "<Figure size 1152x288 with 3 Axes>"
      ]
     },
     "metadata": {
      "needs_background": "light"
     },
     "output_type": "display_data"
    }
   ],
   "source": [
    "# Выведем топ-5 платформ в регионе по продажам\n",
    "plt.figure(figsize=(16, 4))\n",
    "\n",
    "plt.subplot(131)\n",
    "(\n",
    "    df_filtered.groupby('platform')['na_sales']\n",
    "    .sum()\n",
    "    .sort_values(ascending=False)\n",
    "    .head()\n",
    "    .plot(kind='bar')\n",
    ")\n",
    "plt.title('Северная Америка')\n",
    "plt.xlabel('платформа')\n",
    "plt.ylabel('млн проданных копий')\n",
    "plt.xticks(rotation='0')\n",
    "\n",
    "plt.subplot(132)\n",
    "(\n",
    "    df_filtered.groupby('platform')['eu_sales']\n",
    "    .sum()\n",
    "    .sort_values(ascending=False)\n",
    "    .head()\n",
    "    .plot(kind='bar')\n",
    ")\n",
    "plt.title('Европа')\n",
    "plt.xlabel('платформа')\n",
    "plt.ylabel('млн проданных копий')\n",
    "plt.xticks(rotation='0')\n",
    "\n",
    "plt.subplot(133)\n",
    "(\n",
    "    df_filtered.groupby('platform')['jp_sales']\n",
    "    .sum()\n",
    "    .sort_values(ascending=False)\n",
    "    .head()\n",
    "    .plot(kind='bar')\n",
    ")\n",
    "plt.title('Япония')\n",
    "plt.xlabel('платформа')\n",
    "plt.ylabel('млн проданных копий')\n",
    "plt.xticks(rotation='0')\n",
    "\n",
    "plt.suptitle(\n",
    "    'Продажи игр по платформе в регионе',\n",
    "    y=1.02,\n",
    "    fontsize=14\n",
    ")\n",
    "plt.show()"
   ]
  },
  {
   "cell_type": "markdown",
   "metadata": {},
   "source": [
    "В Северной Америке и Европе первое место по продажам игр занимает платформа Sony PlayStation 4, в топе также приставки от Microsoft. В Японии первое место у Nintendo 3DS, а в топ-5 только игры для локальных игровых приставок Nintendo и Sony."
   ]
  },
  {
   "cell_type": "code",
   "execution_count": 30,
   "metadata": {},
   "outputs": [
    {
     "data": {
      "image/png": "[encoded data removed]",
      "text/plain": [
       "<Figure size 1152x288 with 3 Axes>"
      ]
     },
     "metadata": {
      "needs_background": "light"
     },
     "output_type": "display_data"
    }
   ],
   "source": [
    "# Выведем топ-5 жанров в регионе по продажам\n",
    "plt.figure(figsize=(16, 4))\n",
    "\n",
    "plt.subplot(131)\n",
    "(\n",
    "    df_filtered.groupby('genre')['na_sales']\n",
    "    .sum()\n",
    "    .sort_values(ascending=False)\n",
    "    .head()\n",
    "    .plot(kind='bar')\n",
    ")\n",
    "plt.title('Северная Америка')\n",
    "plt.xlabel('жанр')\n",
    "plt.ylabel('млн проданных копий')\n",
    "plt.xticks(rotation='0')\n",
    "\n",
    "plt.subplot(132)\n",
    "(\n",
    "    df_filtered.groupby('genre')['eu_sales']\n",
    "    .sum()\n",
    "    .sort_values(ascending=False)\n",
    "    .head()\n",
    "    .plot(kind='bar')\n",
    ")\n",
    "plt.title('Европа')\n",
    "plt.xlabel('жанр')\n",
    "plt.ylabel('млн проданных копий')\n",
    "plt.xticks(rotation='0')\n",
    "\n",
    "plt.subplot(133)\n",
    "(\n",
    "    df_filtered.groupby('genre')['jp_sales']\n",
    "    .sum()\n",
    "    .sort_values(ascending=False)\n",
    "    .head()\n",
    "    .plot(kind='bar')\n",
    ")\n",
    "plt.title('Япония')\n",
    "plt.xlabel('жанр')\n",
    "plt.ylabel('млн проданных копий')\n",
    "plt.xticks(rotation='0')\n",
    "\n",
    "plt.suptitle(\n",
    "    'Продажи игр по жанрам в регионе',\n",
    "    y=1.02,\n",
    "    fontsize=14\n",
    ")\n",
    "plt.show()"
   ]
  },
  {
   "cell_type": "markdown",
   "metadata": {},
   "source": [
    "В Северной Америке и Европе топ практически идентичен — экшн, шутеры, спорт. В Японии на первом месте по продажам жанр ролевых игр (Role-Playing)."
   ]
  },
  {
   "cell_type": "code",
   "execution_count": 31,
   "metadata": {},
   "outputs": [
    {
     "data": {
      "image/png": "[encoded data removed]",
      "text/plain": [
       "<Figure size 1152x288 with 3 Axes>"
      ]
     },
     "metadata": {
      "needs_background": "light"
     },
     "output_type": "display_data"
    }
   ],
   "source": [
    "# Выведем топ-5 рейтингов в регионе по продажам\n",
    "plt.figure(figsize=(16, 4))\n",
    "\n",
    "plt.subplot(131)\n",
    "(\n",
    "    df_filtered.groupby('rating')['na_sales']\n",
    "    .sum()\n",
    "    .sort_values(ascending=False)\n",
    "    .head()\n",
    "    .plot(kind='bar')\n",
    ")\n",
    "plt.title('Северная Америка')\n",
    "plt.xlabel('рейтинг')\n",
    "plt.ylabel('млн проданных копий')\n",
    "plt.xticks(rotation='0')\n",
    "\n",
    "plt.subplot(132)\n",
    "(\n",
    "    df_filtered.groupby('rating')['eu_sales']\n",
    "    .sum()\n",
    "    .sort_values(ascending=False)\n",
    "    .head()\n",
    "    .plot(kind='bar')\n",
    ")\n",
    "plt.title('Европа')\n",
    "plt.xlabel('рейтинг')\n",
    "plt.ylabel('млн проданных копий')\n",
    "plt.xticks(rotation='0')\n",
    "\n",
    "plt.subplot(133)\n",
    "(\n",
    "    df_filtered.groupby('rating')['jp_sales']\n",
    "    .sum()\n",
    "    .sort_values(ascending=False)\n",
    "    .head()\n",
    "    .plot(kind='bar')\n",
    ")\n",
    "plt.title('Япония')\n",
    "plt.xlabel('рейтинг')\n",
    "plt.ylabel('млн проданных копий')\n",
    "plt.xticks(rotation='0')\n",
    "\n",
    "plt.suptitle(\n",
    "    'Продажи игр по рейтингу ESRB в регионе',\n",
    "    y=1.02,\n",
    "    fontsize=14\n",
    ")\n",
    "plt.show()"
   ]
  },
  {
   "cell_type": "markdown",
   "metadata": {},
   "source": [
    "В Северной Америке и Европе с большим отрывом на первом месте рейтинг M (для взрослых). На втором месте в Северной Америке игры с неизвестным рейтингом, на третьем — с рейтингом E (для всех). В Европе на втором месте игры с рейтингом E, а на третьем — игры с неизвестным рейтингом. В Японии на первом месте по продажам с большим отрызвом оказались игры с неизвестным рейтингом. Таким образом, сделать выводы для рынка Японии не представляется возможным."
   ]
  },
  {
   "cell_type": "markdown",
   "metadata": {},
   "source": [
    "**Вывод**\n",
    "\n",
    "Актуальный период для проведения исследования: с 2013 по 2016 год.\n",
    "\n",
    "В актуальный период по глобальным продажам игр лидируют игровые приставки Sony PlayStation 4 и Microsoft Xbox One.\n",
    "___\n",
    "Между оценками критиков и продажами игр есть определенная взаимосвязь, но использовать корреляцию для прогнозирования продаж следует с осторожностью, учитывая, что для разных платформ взамосвязь имеет разную силу. Между оценками пользователей и продажами игр взаимосвязи не обнаружено.\n",
    "___\n",
    "Самым популярным жанром среди всех игр является экшн. Он же лидирует по числу проданных копий игр. В пересчете на одну игру самым продаваемым жанром являются шутеры.\n",
    "___\n",
    "Самая популярная платформа по продажам игр в Северной Америке и Европе — Sony PlayStation 4, в Японии — Nintendo 3DS.\n",
    "\n",
    "Самый популярный жанр в Северной Америке и Европе — экшн, в Японии — ролевые игры.\n",
    "\n",
    "Наибольшие продажи в Северной Америке и Европе у игр с рейтингом M. Для Японии определить влияние рейтинга на продажи не удалось из-за недостатка данных о рейтингах игр."
   ]
  },
  {
   "cell_type": "markdown",
   "metadata": {},
   "source": [
    "## Статистический анализ данных\n",
    "Проверим гипотезы:\n",
    "  * средние пользовательские рейтинги платформ Xbox One и PC одинаковые;\n",
    "  * средние пользовательские рейтинги жанров Action и Sports разные."
   ]
  },
  {
   "cell_type": "markdown",
   "metadata": {},
   "source": [
    "### Проверка гипотезы о средних пользовательских рейтингах платформ Xbox One и PC\n",
    "Сформулируем нулевую гипотезу: *Средние пользовательские рейтинги платформ Xbox One и PC равны*.\n",
    "\n",
    "Сформулируем альтернативную гипотезу: *Средние пользовательские рейтинги платформ Xbox One и PC различаются*.\n",
    "\n",
    "Определим критический уровень статистической значимости alpha в 5%. Чтобы принять или отвергнуть гипотезу, проведем статистический тест."
   ]
  },
  {
   "cell_type": "code",
   "execution_count": 32,
   "metadata": {},
   "outputs": [
    {
     "name": "stdout",
     "output_type": "stream",
     "text": [
      "p-значение 0.1401265840361139\n",
      "Не получилось отвергнуть нулевую гипотезу\n"
     ]
    }
   ],
   "source": [
    "# Оценки пользователей игр для платформы Xbox One\n",
    "xone_user_score = (\n",
    "    df_filtered.query('platform == \"XOne\"')['user_score']\n",
    ")\n",
    "\n",
    "# Оценки пользователей игр для платформы PC\n",
    "pc_user_score = (\n",
    "    df_filtered.query('platform == \"PC\"')['user_score']\n",
    ")\n",
    "\n",
    "# Уровень статистической значимости\n",
    "alpha = 0.05\n",
    "\n",
    "# Статистический тест\n",
    "results = st.ttest_ind(\n",
    "    xone_user_score, pc_user_score, nan_policy='omit', equal_var=True\n",
    ")\n",
    "\n",
    "# Интерпретация результата\n",
    "print('p-значение', results.pvalue)\n",
    "\n",
    "if results.pvalue < alpha:\n",
    "    print('Отвергаем нулевую гипотезу')\n",
    "else:\n",
    "    print('Не получилось отвергнуть нулевую гипотезу')"
   ]
  },
  {
   "cell_type": "markdown",
   "metadata": {},
   "source": [
    "Принимаем нулевую гипотезу. Средние пользовательские рейтинги платформ Xbox One и PC равны. P-значение — 14%, есть вероятность получить имеющуюся разницу в оценках случайно."
   ]
  },
  {
   "cell_type": "markdown",
   "metadata": {},
   "source": [
    "### Проверка гипотезы о средних пользовательских рейтингах жанров Action и Sports\n",
    "Сформулируем нулевую гипотезу: *Средние пользовательские рейтинги жанров Action и Sports равны*.\n",
    "\n",
    "Сформулируем альтернативную гипотезу: *Средние пользовательские рейтинги жанров Action и Sports различаются*.\n",
    "\n",
    "Определим критический уровень статистической значимости alpha в 5%. Чтобы принять или отвергнуть гипотезу, проведем статистический тест."
   ]
  },
  {
   "cell_type": "code",
   "execution_count": 33,
   "metadata": {},
   "outputs": [
    {
     "name": "stdout",
     "output_type": "stream",
     "text": [
      "p-значение 1.0517832389142297e-27\n",
      "Отвергаем нулевую гипотезу\n"
     ]
    }
   ],
   "source": [
    "# Оценки пользователей игр в жанре Action\n",
    "action_user_score = (\n",
    "    df_filtered.query('genre == \"Action\"')['user_score']\n",
    ")\n",
    "\n",
    "# Оценки пользователей игр в жанре Sports\n",
    "sport_user_score = (\n",
    "    df_filtered.query('genre == \"Sports\"')['user_score']\n",
    ")\n",
    "\n",
    "# Уровень статистической значимости\n",
    "alpha = 0.05\n",
    "\n",
    "# Статистический тест\n",
    "results = st.ttest_ind(\n",
    "    action_user_score, sport_user_score, nan_policy='omit', equal_var=True\n",
    ")\n",
    "\n",
    "print('p-значение', results.pvalue)\n",
    "\n",
    "# Интерпретация результата\n",
    "if results.pvalue < alpha:\n",
    "    print('Отвергаем нулевую гипотезу')\n",
    "else:\n",
    "    print('Не получилось отвергнуть нулевую гипотезу')"
   ]
  },
  {
   "cell_type": "markdown",
   "metadata": {},
   "source": [
    "Принимаем альтернативную гипотезу. Средние пользовательские рейтинги жанров Action и Sports различаются. Полученное p-значение ничтожно мало, вероятность получить такую разницу в оценках случайно почти нулевая."
   ]
  },
  {
   "cell_type": "markdown",
   "metadata": {},
   "source": [
    "**Вывод**\n",
    "\n",
    "Проведенный статистический тест дает основание полагать, что верна гипотеза **средние пользовательские рейтинги платформ Xbox One и PC равны**. Вероятно, для Microsoft Xbox One выходит недостаточно эксклюзивных игр, которые могли быть оценены выше, чем общие игры для обеих платформ.\n",
    "\n",
    "Проведенный статистический тест дает основание полагать, что верна гипотеза **средние пользовательские рейтинги жанров Action и Sports различаются**. Жанры сильно различаются, вероятно, игроки этих двух жанров тоже непохожи и ставят разные оценки, исходя из различных приоритетов."
   ]
  },
  {
   "cell_type": "markdown",
   "metadata": {},
   "source": [
    "## Общий вывод"
   ]
  },
  {
   "cell_type": "markdown",
   "metadata": {},
   "source": [
    "По результатам исследования удалось выявить некоторые закономерности, определяющие успешность игры. Для планирования будущих рекламных кампаний дадим следующие рекомендации:\n",
    "\n",
    "  * В Северной Америке и Европе следует продвигать игры для платформ Sony PlayStation 4 и Microsoft Xbox One.\n",
    "  * На рынке Японии следует продвигать игры для платформы Nintendo 3DS.\n",
    "  * При выборе перспективных игр не следует полагаться на отзывы критиков и пользователей. Отзывы критиков допустимо использовать в качестве дополнительного признака потенциальной успешности игры для Sony PlayStation 4.\n",
    "  * В Северной Америке и Европе потенциально успешные игры в жанрах экшн и шутер с рейтингом M.\n",
    "  * На рынке Японии следует ориентироваться на жанр ролевых игр. Сделать выводы о влиянии рейтинга не удалось из-за недостатка данных."
   ]
  }
 ],
 "metadata": {
  "ExecuteTimeLog": [
   {
    "duration": 778,
    "start_time": "2021-12-27T09:32:18.785Z"
   },
   {
    "duration": 50,
    "start_time": "2021-12-27T09:33:22.997Z"
   },
   {
    "duration": 28,
    "start_time": "2021-12-27T09:33:56.746Z"
   },
   {
    "duration": 5,
    "start_time": "2021-12-27T09:35:12.852Z"
   },
   {
    "duration": 15,
    "start_time": "2021-12-27T09:35:43.876Z"
   },
   {
    "duration": 41,
    "start_time": "2021-12-27T09:49:05.953Z"
   },
   {
    "duration": 183,
    "start_time": "2021-12-27T10:04:52.317Z"
   },
   {
    "duration": 34,
    "start_time": "2021-12-27T10:12:02.238Z"
   },
   {
    "duration": 9,
    "start_time": "2021-12-27T10:12:35.619Z"
   },
   {
    "duration": 10,
    "start_time": "2021-12-27T10:13:12.460Z"
   },
   {
    "duration": 14,
    "start_time": "2021-12-27T10:14:40.668Z"
   },
   {
    "duration": 13,
    "start_time": "2021-12-27T10:31:55.545Z"
   },
   {
    "duration": 406,
    "start_time": "2021-12-27T10:36:11.712Z"
   },
   {
    "duration": 266,
    "start_time": "2021-12-27T10:40:48.043Z"
   },
   {
    "duration": 324,
    "start_time": "2021-12-27T10:41:43.583Z"
   },
   {
    "duration": 12,
    "start_time": "2021-12-27T10:41:54.868Z"
   },
   {
    "duration": 9,
    "start_time": "2021-12-27T10:49:44.874Z"
   },
   {
    "duration": 3,
    "start_time": "2021-12-27T10:49:50.150Z"
   },
   {
    "duration": 9,
    "start_time": "2021-12-27T10:57:48.803Z"
   },
   {
    "duration": 15,
    "start_time": "2021-12-27T10:57:59.999Z"
   },
   {
    "duration": 12,
    "start_time": "2021-12-27T10:58:20.902Z"
   },
   {
    "duration": 6,
    "start_time": "2021-12-27T11:00:04.017Z"
   },
   {
    "duration": 8,
    "start_time": "2021-12-27T11:00:41.019Z"
   },
   {
    "duration": 8,
    "start_time": "2021-12-27T11:09:57.716Z"
   },
   {
    "duration": 8,
    "start_time": "2021-12-27T11:10:04.109Z"
   },
   {
    "duration": 7,
    "start_time": "2021-12-27T11:10:43.752Z"
   },
   {
    "duration": 26,
    "start_time": "2021-12-27T11:16:34.289Z"
   },
   {
    "duration": 22,
    "start_time": "2021-12-27T11:16:39.188Z"
   },
   {
    "duration": 279,
    "start_time": "2021-12-27T11:21:22.381Z"
   },
   {
    "duration": 7,
    "start_time": "2021-12-27T11:22:28.335Z"
   },
   {
    "duration": 5,
    "start_time": "2021-12-27T11:22:55.911Z"
   },
   {
    "duration": 24,
    "start_time": "2021-12-27T11:23:08.721Z"
   },
   {
    "duration": 3,
    "start_time": "2021-12-27T11:36:38.353Z"
   },
   {
    "duration": 45,
    "start_time": "2021-12-27T11:36:38.360Z"
   },
   {
    "duration": 18,
    "start_time": "2021-12-27T11:36:38.407Z"
   },
   {
    "duration": 15,
    "start_time": "2021-12-27T11:36:38.429Z"
   },
   {
    "duration": 42,
    "start_time": "2021-12-27T11:36:38.447Z"
   },
   {
    "duration": 10,
    "start_time": "2021-12-27T11:36:38.518Z"
   },
   {
    "duration": 16,
    "start_time": "2021-12-27T11:36:38.530Z"
   },
   {
    "duration": 302,
    "start_time": "2021-12-27T11:37:05.815Z"
   },
   {
    "duration": 288,
    "start_time": "2021-12-27T11:37:19.827Z"
   },
   {
    "duration": 255,
    "start_time": "2021-12-27T11:38:12.753Z"
   },
   {
    "duration": 259,
    "start_time": "2021-12-27T11:38:35.996Z"
   },
   {
    "duration": 260,
    "start_time": "2021-12-27T11:38:49.268Z"
   },
   {
    "duration": 5,
    "start_time": "2021-12-27T11:40:44.563Z"
   },
   {
    "duration": 18,
    "start_time": "2021-12-27T11:40:51.652Z"
   },
   {
    "duration": 5,
    "start_time": "2021-12-27T11:45:28.778Z"
   },
   {
    "duration": 21,
    "start_time": "2021-12-27T11:45:32.732Z"
   },
   {
    "duration": 688,
    "start_time": "2021-12-27T11:47:03.460Z"
   },
   {
    "duration": 47,
    "start_time": "2021-12-27T11:47:04.150Z"
   },
   {
    "duration": 28,
    "start_time": "2021-12-27T11:47:04.200Z"
   },
   {
    "duration": 17,
    "start_time": "2021-12-27T11:47:04.230Z"
   },
   {
    "duration": 42,
    "start_time": "2021-12-27T11:47:04.249Z"
   },
   {
    "duration": 29,
    "start_time": "2021-12-27T11:47:04.294Z"
   },
   {
    "duration": 10,
    "start_time": "2021-12-27T11:47:04.326Z"
   },
   {
    "duration": 4,
    "start_time": "2021-12-27T11:47:04.340Z"
   },
   {
    "duration": 11,
    "start_time": "2021-12-27T11:47:04.347Z"
   },
   {
    "duration": 11,
    "start_time": "2021-12-27T11:47:04.360Z"
   },
   {
    "duration": 10,
    "start_time": "2021-12-27T11:47:04.417Z"
   },
   {
    "duration": 29,
    "start_time": "2021-12-27T11:47:04.429Z"
   },
   {
    "duration": 6,
    "start_time": "2021-12-27T11:47:04.460Z"
   },
   {
    "duration": 55,
    "start_time": "2021-12-27T11:47:04.468Z"
   },
   {
    "duration": 6,
    "start_time": "2021-12-27T11:54:29.589Z"
   },
   {
    "duration": 827,
    "start_time": "2021-12-27T11:54:40.137Z"
   },
   {
    "duration": 115,
    "start_time": "2021-12-27T11:54:40.966Z"
   },
   {
    "duration": 28,
    "start_time": "2021-12-27T11:54:41.084Z"
   },
   {
    "duration": 15,
    "start_time": "2021-12-27T11:54:41.115Z"
   },
   {
    "duration": 46,
    "start_time": "2021-12-27T11:54:41.133Z"
   },
   {
    "duration": 7,
    "start_time": "2021-12-27T11:54:41.181Z"
   },
   {
    "duration": 27,
    "start_time": "2021-12-27T11:54:41.191Z"
   },
   {
    "duration": 5,
    "start_time": "2021-12-27T11:54:41.222Z"
   },
   {
    "duration": 18,
    "start_time": "2021-12-27T11:54:41.229Z"
   },
   {
    "duration": 12,
    "start_time": "2021-12-27T11:54:41.249Z"
   },
   {
    "duration": 13,
    "start_time": "2021-12-27T11:54:41.263Z"
   },
   {
    "duration": 29,
    "start_time": "2021-12-27T11:54:41.278Z"
   },
   {
    "duration": 11,
    "start_time": "2021-12-27T11:54:41.309Z"
   },
   {
    "duration": 22,
    "start_time": "2021-12-27T11:54:41.322Z"
   },
   {
    "duration": 732,
    "start_time": "2021-12-27T11:55:02.956Z"
   },
   {
    "duration": 54,
    "start_time": "2021-12-27T11:55:03.690Z"
   },
   {
    "duration": 29,
    "start_time": "2021-12-27T11:55:03.748Z"
   },
   {
    "duration": 36,
    "start_time": "2021-12-27T11:55:03.781Z"
   },
   {
    "duration": 44,
    "start_time": "2021-12-27T11:55:03.820Z"
   },
   {
    "duration": 8,
    "start_time": "2021-12-27T11:55:03.867Z"
   },
   {
    "duration": 47,
    "start_time": "2021-12-27T11:55:03.878Z"
   },
   {
    "duration": 372,
    "start_time": "2021-12-27T11:55:03.930Z"
   },
   {
    "duration": -106,
    "start_time": "2021-12-27T11:55:04.412Z"
   },
   {
    "duration": -108,
    "start_time": "2021-12-27T11:55:04.417Z"
   },
   {
    "duration": -108,
    "start_time": "2021-12-27T11:55:04.419Z"
   },
   {
    "duration": -108,
    "start_time": "2021-12-27T11:55:04.421Z"
   },
   {
    "duration": -107,
    "start_time": "2021-12-27T11:55:04.423Z"
   },
   {
    "duration": -107,
    "start_time": "2021-12-27T11:55:04.425Z"
   },
   {
    "duration": 5,
    "start_time": "2021-12-27T11:56:02.912Z"
   },
   {
    "duration": 773,
    "start_time": "2021-12-27T11:56:16.316Z"
   },
   {
    "duration": 49,
    "start_time": "2021-12-27T11:56:17.092Z"
   },
   {
    "duration": 31,
    "start_time": "2021-12-27T11:56:17.144Z"
   },
   {
    "duration": 16,
    "start_time": "2021-12-27T11:56:17.179Z"
   },
   {
    "duration": 45,
    "start_time": "2021-12-27T11:56:17.218Z"
   },
   {
    "duration": 8,
    "start_time": "2021-12-27T11:56:17.265Z"
   },
   {
    "duration": 44,
    "start_time": "2021-12-27T11:56:17.275Z"
   },
   {
    "duration": 5,
    "start_time": "2021-12-27T11:56:17.323Z"
   },
   {
    "duration": 17,
    "start_time": "2021-12-27T11:56:17.331Z"
   },
   {
    "duration": 13,
    "start_time": "2021-12-27T11:56:17.350Z"
   },
   {
    "duration": 10,
    "start_time": "2021-12-27T11:56:17.365Z"
   },
   {
    "duration": 64,
    "start_time": "2021-12-27T11:56:17.377Z"
   },
   {
    "duration": 6,
    "start_time": "2021-12-27T11:56:17.444Z"
   },
   {
    "duration": 21,
    "start_time": "2021-12-27T11:56:17.452Z"
   },
   {
    "duration": 13,
    "start_time": "2021-12-27T11:59:11.813Z"
   },
   {
    "duration": 9,
    "start_time": "2021-12-27T11:59:56.716Z"
   },
   {
    "duration": 833,
    "start_time": "2021-12-27T12:00:05.600Z"
   },
   {
    "duration": 50,
    "start_time": "2021-12-27T12:00:06.435Z"
   },
   {
    "duration": 31,
    "start_time": "2021-12-27T12:00:06.487Z"
   },
   {
    "duration": 16,
    "start_time": "2021-12-27T12:00:06.521Z"
   },
   {
    "duration": 45,
    "start_time": "2021-12-27T12:00:06.540Z"
   },
   {
    "duration": 35,
    "start_time": "2021-12-27T12:00:06.587Z"
   },
   {
    "duration": 14,
    "start_time": "2021-12-27T12:00:06.624Z"
   },
   {
    "duration": 12,
    "start_time": "2021-12-27T12:00:06.642Z"
   },
   {
    "duration": 12,
    "start_time": "2021-12-27T12:00:06.656Z"
   },
   {
    "duration": 50,
    "start_time": "2021-12-27T12:00:06.670Z"
   },
   {
    "duration": 22,
    "start_time": "2021-12-27T12:00:06.722Z"
   },
   {
    "duration": 54,
    "start_time": "2021-12-27T12:00:06.746Z"
   },
   {
    "duration": 7,
    "start_time": "2021-12-27T12:00:06.802Z"
   },
   {
    "duration": 65,
    "start_time": "2021-12-27T12:00:06.811Z"
   },
   {
    "duration": 10,
    "start_time": "2021-12-27T12:00:50.425Z"
   },
   {
    "duration": 21,
    "start_time": "2021-12-27T12:00:53.162Z"
   },
   {
    "duration": 10,
    "start_time": "2021-12-27T12:01:13.334Z"
   },
   {
    "duration": 22,
    "start_time": "2021-12-27T12:01:15.784Z"
   },
   {
    "duration": 448,
    "start_time": "2021-12-27T12:10:29.832Z"
   },
   {
    "duration": 10,
    "start_time": "2021-12-27T12:11:24.631Z"
   },
   {
    "duration": 5,
    "start_time": "2021-12-27T15:35:34.761Z"
   },
   {
    "duration": 21,
    "start_time": "2021-12-27T15:35:36.160Z"
   },
   {
    "duration": 734,
    "start_time": "2021-12-27T15:36:50.036Z"
   },
   {
    "duration": 53,
    "start_time": "2021-12-27T15:36:50.773Z"
   },
   {
    "duration": 28,
    "start_time": "2021-12-27T15:36:50.830Z"
   },
   {
    "duration": 15,
    "start_time": "2021-12-27T15:36:50.862Z"
   },
   {
    "duration": 78,
    "start_time": "2021-12-27T15:36:50.880Z"
   },
   {
    "duration": 9,
    "start_time": "2021-12-27T15:36:50.961Z"
   },
   {
    "duration": 22,
    "start_time": "2021-12-27T15:36:50.972Z"
   },
   {
    "duration": 7,
    "start_time": "2021-12-27T15:36:51.020Z"
   },
   {
    "duration": 14,
    "start_time": "2021-12-27T15:36:51.029Z"
   },
   {
    "duration": 13,
    "start_time": "2021-12-27T15:36:51.045Z"
   },
   {
    "duration": 13,
    "start_time": "2021-12-27T15:36:51.061Z"
   },
   {
    "duration": 30,
    "start_time": "2021-12-27T15:36:51.118Z"
   },
   {
    "duration": 8,
    "start_time": "2021-12-27T15:36:51.151Z"
   },
   {
    "duration": 59,
    "start_time": "2021-12-27T15:36:51.161Z"
   },
   {
    "duration": 22,
    "start_time": "2021-12-27T15:40:00.003Z"
   },
   {
    "duration": 15,
    "start_time": "2021-12-27T15:46:02.970Z"
   },
   {
    "duration": 405,
    "start_time": "2021-12-27T15:46:24.789Z"
   },
   {
    "duration": 359,
    "start_time": "2021-12-27T15:47:18.732Z"
   },
   {
    "duration": 621,
    "start_time": "2021-12-27T15:48:03.341Z"
   },
   {
    "duration": 430,
    "start_time": "2021-12-27T15:48:12.415Z"
   },
   {
    "duration": 14,
    "start_time": "2021-12-27T15:48:19.212Z"
   },
   {
    "duration": 368,
    "start_time": "2021-12-27T15:48:34.561Z"
   },
   {
    "duration": 328,
    "start_time": "2021-12-27T15:51:04.056Z"
   },
   {
    "duration": 10,
    "start_time": "2021-12-27T15:56:19.837Z"
   },
   {
    "duration": 10,
    "start_time": "2021-12-27T15:56:39.004Z"
   },
   {
    "duration": 10,
    "start_time": "2021-12-27T16:02:34.978Z"
   },
   {
    "duration": 12,
    "start_time": "2021-12-27T16:02:54.003Z"
   },
   {
    "duration": 10,
    "start_time": "2021-12-27T16:03:57.409Z"
   },
   {
    "duration": 398,
    "start_time": "2021-12-27T16:07:08.899Z"
   },
   {
    "duration": 380,
    "start_time": "2021-12-27T16:07:19.199Z"
   },
   {
    "duration": 604,
    "start_time": "2021-12-27T16:07:28.154Z"
   },
   {
    "duration": 14,
    "start_time": "2021-12-27T16:07:57.017Z"
   },
   {
    "duration": 273,
    "start_time": "2021-12-27T16:08:07.819Z"
   },
   {
    "duration": 10,
    "start_time": "2021-12-27T16:08:58.366Z"
   },
   {
    "duration": 11,
    "start_time": "2021-12-27T16:09:10.871Z"
   },
   {
    "duration": 81,
    "start_time": "2021-12-27T16:11:01.263Z"
   },
   {
    "duration": 287,
    "start_time": "2021-12-27T16:11:17.750Z"
   },
   {
    "duration": 332,
    "start_time": "2021-12-27T16:11:32.810Z"
   },
   {
    "duration": 310,
    "start_time": "2021-12-27T16:12:33.701Z"
   },
   {
    "duration": 424,
    "start_time": "2021-12-27T16:13:01.360Z"
   },
   {
    "duration": 431,
    "start_time": "2021-12-27T16:13:05.581Z"
   },
   {
    "duration": 398,
    "start_time": "2021-12-27T16:13:38.180Z"
   },
   {
    "duration": 530,
    "start_time": "2021-12-27T16:14:42.104Z"
   },
   {
    "duration": 408,
    "start_time": "2021-12-27T16:16:06.944Z"
   },
   {
    "duration": 84,
    "start_time": "2021-12-27T16:47:28.809Z"
   },
   {
    "duration": 259,
    "start_time": "2021-12-27T16:47:48.531Z"
   },
   {
    "duration": 13,
    "start_time": "2021-12-27T16:48:06.766Z"
   },
   {
    "duration": 553,
    "start_time": "2021-12-27T16:49:24.968Z"
   },
   {
    "duration": 423,
    "start_time": "2021-12-27T16:49:30.711Z"
   },
   {
    "duration": 40,
    "start_time": "2021-12-27T16:49:36.954Z"
   },
   {
    "duration": 349,
    "start_time": "2021-12-27T16:50:03.738Z"
   },
   {
    "duration": 353,
    "start_time": "2021-12-27T16:50:35.273Z"
   },
   {
    "duration": 42,
    "start_time": "2021-12-27T16:50:39.968Z"
   },
   {
    "duration": 45,
    "start_time": "2021-12-27T16:51:30.782Z"
   },
   {
    "duration": 45,
    "start_time": "2021-12-27T16:51:53.541Z"
   },
   {
    "duration": 392,
    "start_time": "2021-12-27T16:52:07.479Z"
   },
   {
    "duration": 44,
    "start_time": "2021-12-27T16:52:16.757Z"
   },
   {
    "duration": 6642,
    "start_time": "2021-12-27T16:53:38.556Z"
   },
   {
    "duration": 6417,
    "start_time": "2021-12-27T16:53:59.519Z"
   },
   {
    "duration": 44,
    "start_time": "2021-12-27T16:54:11.362Z"
   },
   {
    "duration": 47,
    "start_time": "2021-12-27T16:54:37.038Z"
   },
   {
    "duration": 45,
    "start_time": "2021-12-27T16:54:58.057Z"
   },
   {
    "duration": 858,
    "start_time": "2021-12-27T16:58:12.051Z"
   },
   {
    "duration": 206,
    "start_time": "2021-12-27T17:00:45.490Z"
   },
   {
    "duration": 271,
    "start_time": "2021-12-27T20:04:14.293Z"
   },
   {
    "duration": 9,
    "start_time": "2021-12-27T20:09:52.065Z"
   },
   {
    "duration": 16,
    "start_time": "2021-12-27T20:10:06.296Z"
   },
   {
    "duration": 228,
    "start_time": "2021-12-27T20:10:13.956Z"
   },
   {
    "duration": 672,
    "start_time": "2021-12-27T20:12:24.130Z"
   },
   {
    "duration": 6,
    "start_time": "2021-12-27T20:13:32.263Z"
   },
   {
    "duration": 6,
    "start_time": "2021-12-27T20:13:47.184Z"
   },
   {
    "duration": 10,
    "start_time": "2021-12-27T20:13:52.185Z"
   },
   {
    "duration": 35,
    "start_time": "2021-12-27T20:15:23.880Z"
   },
   {
    "duration": 1147,
    "start_time": "2021-12-27T20:15:51.932Z"
   },
   {
    "duration": 1191,
    "start_time": "2021-12-27T20:16:10.709Z"
   },
   {
    "duration": 1231,
    "start_time": "2021-12-27T20:16:40.456Z"
   },
   {
    "duration": 1445,
    "start_time": "2021-12-27T20:17:40.403Z"
   },
   {
    "duration": 1189,
    "start_time": "2021-12-27T20:17:49.247Z"
   },
   {
    "duration": 1207,
    "start_time": "2021-12-27T20:19:08.251Z"
   },
   {
    "duration": 736,
    "start_time": "2021-12-27T20:28:21.875Z"
   },
   {
    "duration": 48,
    "start_time": "2021-12-27T20:28:22.614Z"
   },
   {
    "duration": 32,
    "start_time": "2021-12-27T20:28:22.669Z"
   },
   {
    "duration": 14,
    "start_time": "2021-12-27T20:28:22.718Z"
   },
   {
    "duration": 41,
    "start_time": "2021-12-27T20:28:22.734Z"
   },
   {
    "duration": 39,
    "start_time": "2021-12-27T20:28:22.778Z"
   },
   {
    "duration": 12,
    "start_time": "2021-12-27T20:28:22.821Z"
   },
   {
    "duration": 5,
    "start_time": "2021-12-27T20:28:22.836Z"
   },
   {
    "duration": 14,
    "start_time": "2021-12-27T20:28:22.844Z"
   },
   {
    "duration": 12,
    "start_time": "2021-12-27T20:28:22.861Z"
   },
   {
    "duration": 10,
    "start_time": "2021-12-27T20:28:22.917Z"
   },
   {
    "duration": 28,
    "start_time": "2021-12-27T20:28:22.929Z"
   },
   {
    "duration": 6,
    "start_time": "2021-12-27T20:28:22.960Z"
   },
   {
    "duration": 53,
    "start_time": "2021-12-27T20:28:22.969Z"
   },
   {
    "duration": 401,
    "start_time": "2021-12-27T20:28:23.024Z"
   },
   {
    "duration": 11,
    "start_time": "2021-12-27T20:28:23.427Z"
   },
   {
    "duration": 432,
    "start_time": "2021-12-27T20:28:23.440Z"
   },
   {
    "duration": 874,
    "start_time": "2021-12-27T20:28:23.875Z"
   },
   {
    "duration": 1156,
    "start_time": "2021-12-27T20:28:24.752Z"
   },
   {
    "duration": 15,
    "start_time": "2021-12-27T20:28:25.910Z"
   },
   {
    "duration": 300,
    "start_time": "2021-12-27T20:28:31.002Z"
   },
   {
    "duration": 313,
    "start_time": "2021-12-27T20:28:49.598Z"
   },
   {
    "duration": 11,
    "start_time": "2021-12-27T20:29:07.634Z"
   },
   {
    "duration": 308,
    "start_time": "2021-12-27T20:29:19.073Z"
   },
   {
    "duration": 10,
    "start_time": "2021-12-27T20:29:37.229Z"
   },
   {
    "duration": 314,
    "start_time": "2021-12-27T20:30:04.705Z"
   },
   {
    "duration": 296,
    "start_time": "2021-12-27T20:30:14.243Z"
   },
   {
    "duration": 303,
    "start_time": "2021-12-27T20:30:28.721Z"
   },
   {
    "duration": 580,
    "start_time": "2021-12-27T20:31:24.213Z"
   },
   {
    "duration": 429,
    "start_time": "2021-12-27T20:31:35.458Z"
   },
   {
    "duration": 296,
    "start_time": "2021-12-27T20:31:59.242Z"
   },
   {
    "duration": 80,
    "start_time": "2021-12-27T20:33:17.363Z"
   },
   {
    "duration": 358,
    "start_time": "2021-12-27T20:33:21.334Z"
   },
   {
    "duration": 299,
    "start_time": "2021-12-27T20:33:33.001Z"
   },
   {
    "duration": 80,
    "start_time": "2021-12-27T20:39:10.852Z"
   },
   {
    "duration": 25,
    "start_time": "2021-12-27T20:39:15.927Z"
   },
   {
    "duration": 34,
    "start_time": "2021-12-27T20:39:22.820Z"
   },
   {
    "duration": 36,
    "start_time": "2021-12-27T20:39:34.931Z"
   },
   {
    "duration": 34,
    "start_time": "2021-12-27T20:39:47.861Z"
   },
   {
    "duration": 37,
    "start_time": "2021-12-27T20:40:08.866Z"
   },
   {
    "duration": 34,
    "start_time": "2021-12-27T20:41:20.275Z"
   },
   {
    "duration": 43,
    "start_time": "2021-12-27T20:41:31.305Z"
   },
   {
    "duration": 471,
    "start_time": "2021-12-27T20:42:02.427Z"
   },
   {
    "duration": 443,
    "start_time": "2021-12-27T20:42:22.784Z"
   },
   {
    "duration": 465,
    "start_time": "2021-12-27T20:42:37.113Z"
   },
   {
    "duration": 288,
    "start_time": "2021-12-27T20:43:01.341Z"
   },
   {
    "duration": 334,
    "start_time": "2021-12-27T20:43:15.143Z"
   },
   {
    "duration": 339,
    "start_time": "2021-12-27T20:43:37.787Z"
   },
   {
    "duration": 53,
    "start_time": "2021-12-27T20:47:14.221Z"
   },
   {
    "duration": 490,
    "start_time": "2021-12-27T20:48:07.047Z"
   },
   {
    "duration": 395,
    "start_time": "2021-12-27T20:48:19.132Z"
   },
   {
    "duration": 503,
    "start_time": "2021-12-27T20:48:46.542Z"
   },
   {
    "duration": 460,
    "start_time": "2021-12-27T20:51:00.526Z"
   },
   {
    "duration": 528,
    "start_time": "2021-12-27T20:51:08.569Z"
   },
   {
    "duration": 484,
    "start_time": "2021-12-27T20:51:13.728Z"
   },
   {
    "duration": 427,
    "start_time": "2021-12-27T20:51:18.134Z"
   },
   {
    "duration": 460,
    "start_time": "2021-12-27T20:51:30.180Z"
   },
   {
    "duration": 435,
    "start_time": "2021-12-27T20:51:34.863Z"
   },
   {
    "duration": 445,
    "start_time": "2021-12-27T20:51:45.568Z"
   },
   {
    "duration": 23,
    "start_time": "2021-12-27T20:52:52.687Z"
   },
   {
    "duration": 449,
    "start_time": "2021-12-27T20:53:38.493Z"
   },
   {
    "duration": 262,
    "start_time": "2021-12-27T21:05:18.565Z"
   },
   {
    "duration": 95,
    "start_time": "2021-12-27T21:06:43.282Z"
   },
   {
    "duration": 10,
    "start_time": "2021-12-27T21:08:16.457Z"
   },
   {
    "duration": 265,
    "start_time": "2021-12-27T21:08:22.155Z"
   },
   {
    "duration": 16,
    "start_time": "2021-12-27T21:08:24.501Z"
   },
   {
    "duration": 30,
    "start_time": "2021-12-27T21:08:41.928Z"
   },
   {
    "duration": 57,
    "start_time": "2021-12-27T21:09:22.514Z"
   },
   {
    "duration": 119,
    "start_time": "2021-12-27T21:11:28.517Z"
   },
   {
    "duration": 680,
    "start_time": "2021-12-27T21:11:36.397Z"
   },
   {
    "duration": 717,
    "start_time": "2021-12-27T21:11:40.862Z"
   },
   {
    "duration": 434,
    "start_time": "2021-12-27T21:11:52.355Z"
   },
   {
    "duration": 425,
    "start_time": "2021-12-27T21:11:56.080Z"
   },
   {
    "duration": 22,
    "start_time": "2021-12-27T21:11:59.690Z"
   },
   {
    "duration": 312,
    "start_time": "2021-12-27T21:12:09.292Z"
   },
   {
    "duration": 281,
    "start_time": "2021-12-27T21:12:12.852Z"
   },
   {
    "duration": 359,
    "start_time": "2021-12-27T21:12:37.511Z"
   },
   {
    "duration": 36,
    "start_time": "2021-12-27T21:12:53.351Z"
   },
   {
    "duration": 37,
    "start_time": "2021-12-27T21:13:59.969Z"
   },
   {
    "duration": 14,
    "start_time": "2021-12-27T21:19:16.982Z"
   },
   {
    "duration": 27,
    "start_time": "2021-12-27T21:19:28.565Z"
   },
   {
    "duration": 14,
    "start_time": "2021-12-27T21:20:20.379Z"
   },
   {
    "duration": 21,
    "start_time": "2021-12-27T21:20:32.988Z"
   },
   {
    "duration": 24,
    "start_time": "2021-12-27T21:20:36.298Z"
   },
   {
    "duration": 17,
    "start_time": "2021-12-27T21:20:43.435Z"
   },
   {
    "duration": 23,
    "start_time": "2021-12-27T21:20:57.643Z"
   },
   {
    "duration": 92,
    "start_time": "2021-12-27T21:21:10.959Z"
   },
   {
    "duration": 22,
    "start_time": "2021-12-27T21:21:14.939Z"
   },
   {
    "duration": 23,
    "start_time": "2021-12-27T21:21:18.218Z"
   },
   {
    "duration": 280,
    "start_time": "2021-12-27T21:22:21.401Z"
   },
   {
    "duration": 11,
    "start_time": "2021-12-27T21:22:26.075Z"
   },
   {
    "duration": 11,
    "start_time": "2021-12-27T21:23:01.806Z"
   },
   {
    "duration": 12,
    "start_time": "2021-12-27T21:23:04.974Z"
   },
   {
    "duration": 25,
    "start_time": "2021-12-27T21:24:37.158Z"
   },
   {
    "duration": 26,
    "start_time": "2021-12-27T21:25:09.818Z"
   },
   {
    "duration": 14,
    "start_time": "2021-12-27T21:34:22.315Z"
   },
   {
    "duration": 15,
    "start_time": "2021-12-27T21:34:42.561Z"
   },
   {
    "duration": 16,
    "start_time": "2021-12-27T21:34:43.715Z"
   },
   {
    "duration": 20,
    "start_time": "2021-12-27T21:35:21.286Z"
   },
   {
    "duration": 16,
    "start_time": "2021-12-27T21:35:28.778Z"
   },
   {
    "duration": 16,
    "start_time": "2021-12-27T21:35:39.980Z"
   },
   {
    "duration": 15,
    "start_time": "2021-12-27T21:35:43.689Z"
   },
   {
    "duration": 12,
    "start_time": "2021-12-27T21:35:53.878Z"
   },
   {
    "duration": 259,
    "start_time": "2021-12-27T21:39:35.322Z"
   },
   {
    "duration": 547,
    "start_time": "2021-12-27T21:39:56.682Z"
   },
   {
    "duration": 16,
    "start_time": "2021-12-27T21:40:00.045Z"
   },
   {
    "duration": 14,
    "start_time": "2021-12-27T21:40:51.929Z"
   },
   {
    "duration": 14,
    "start_time": "2021-12-27T21:40:56.293Z"
   },
   {
    "duration": 17,
    "start_time": "2021-12-27T21:41:19.294Z"
   },
   {
    "duration": 16,
    "start_time": "2021-12-27T21:41:23.468Z"
   },
   {
    "duration": 17,
    "start_time": "2021-12-27T21:41:26.819Z"
   },
   {
    "duration": 16,
    "start_time": "2021-12-27T21:46:54.382Z"
   },
   {
    "duration": 305,
    "start_time": "2021-12-27T21:47:18.825Z"
   },
   {
    "duration": 14,
    "start_time": "2021-12-27T21:47:25.318Z"
   },
   {
    "duration": 19,
    "start_time": "2021-12-27T21:47:31.014Z"
   },
   {
    "duration": 18,
    "start_time": "2021-12-27T21:48:11.530Z"
   },
   {
    "duration": 20,
    "start_time": "2021-12-27T21:51:00.153Z"
   },
   {
    "duration": 18,
    "start_time": "2021-12-27T21:51:16.725Z"
   },
   {
    "duration": 18,
    "start_time": "2021-12-27T21:52:04.450Z"
   },
   {
    "duration": 19,
    "start_time": "2021-12-27T21:52:11.906Z"
   },
   {
    "duration": 20,
    "start_time": "2021-12-27T21:52:15.006Z"
   },
   {
    "duration": 24,
    "start_time": "2021-12-27T21:52:23.764Z"
   },
   {
    "duration": 27,
    "start_time": "2021-12-27T21:52:31.032Z"
   },
   {
    "duration": 19,
    "start_time": "2021-12-27T21:52:38.006Z"
   },
   {
    "duration": 344,
    "start_time": "2021-12-28T09:55:46.734Z"
   },
   {
    "duration": 1504,
    "start_time": "2021-12-28T09:55:56.038Z"
   },
   {
    "duration": 52,
    "start_time": "2021-12-28T09:55:57.545Z"
   },
   {
    "duration": 31,
    "start_time": "2021-12-28T09:55:57.601Z"
   },
   {
    "duration": 35,
    "start_time": "2021-12-28T09:55:57.635Z"
   },
   {
    "duration": 47,
    "start_time": "2021-12-28T09:55:57.673Z"
   },
   {
    "duration": 42,
    "start_time": "2021-12-28T09:55:57.722Z"
   },
   {
    "duration": 13,
    "start_time": "2021-12-28T09:55:57.767Z"
   },
   {
    "duration": 7,
    "start_time": "2021-12-28T09:55:57.784Z"
   },
   {
    "duration": 14,
    "start_time": "2021-12-28T09:55:57.794Z"
   },
   {
    "duration": 52,
    "start_time": "2021-12-28T09:55:57.811Z"
   },
   {
    "duration": 12,
    "start_time": "2021-12-28T09:55:57.866Z"
   },
   {
    "duration": 30,
    "start_time": "2021-12-28T09:55:57.880Z"
   },
   {
    "duration": 8,
    "start_time": "2021-12-28T09:55:57.913Z"
   },
   {
    "duration": 61,
    "start_time": "2021-12-28T09:55:57.924Z"
   },
   {
    "duration": 327,
    "start_time": "2021-12-28T09:56:02.001Z"
   },
   {
    "duration": 337,
    "start_time": "2021-12-28T09:56:11.409Z"
   },
   {
    "duration": 347,
    "start_time": "2021-12-28T09:58:14.044Z"
   },
   {
    "duration": 536,
    "start_time": "2021-12-28T09:58:37.176Z"
   },
   {
    "duration": 398,
    "start_time": "2021-12-28T10:44:49.909Z"
   },
   {
    "duration": 422,
    "start_time": "2021-12-28T10:45:02.169Z"
   },
   {
    "duration": 106,
    "start_time": "2021-12-28T10:46:12.596Z"
   },
   {
    "duration": 502,
    "start_time": "2021-12-28T10:46:39.023Z"
   },
   {
    "duration": 492,
    "start_time": "2021-12-28T10:48:00.136Z"
   },
   {
    "duration": 568,
    "start_time": "2021-12-28T10:48:43.019Z"
   },
   {
    "duration": 673,
    "start_time": "2021-12-28T10:48:51.286Z"
   },
   {
    "duration": 490,
    "start_time": "2021-12-28T10:48:56.398Z"
   },
   {
    "duration": 361,
    "start_time": "2021-12-28T10:49:02.512Z"
   },
   {
    "duration": 510,
    "start_time": "2021-12-28T10:49:47.585Z"
   },
   {
    "duration": 476,
    "start_time": "2021-12-28T10:49:53.457Z"
   },
   {
    "duration": 512,
    "start_time": "2021-12-28T10:52:40.572Z"
   },
   {
    "duration": 508,
    "start_time": "2021-12-28T10:53:09.908Z"
   },
   {
    "duration": 523,
    "start_time": "2021-12-28T10:53:16.845Z"
   },
   {
    "duration": 519,
    "start_time": "2021-12-28T10:54:02.750Z"
   },
   {
    "duration": 502,
    "start_time": "2021-12-28T10:54:13.355Z"
   },
   {
    "duration": 510,
    "start_time": "2021-12-28T10:54:29.148Z"
   },
   {
    "duration": 12,
    "start_time": "2021-12-28T11:30:19.471Z"
   },
   {
    "duration": 913,
    "start_time": "2021-12-28T11:30:54.571Z"
   },
   {
    "duration": 584,
    "start_time": "2021-12-28T11:31:16.508Z"
   },
   {
    "duration": 578,
    "start_time": "2021-12-28T11:31:27.731Z"
   },
   {
    "duration": 65,
    "start_time": "2021-12-28T11:33:35.937Z"
   },
   {
    "duration": 80,
    "start_time": "2021-12-28T11:33:44.238Z"
   },
   {
    "duration": 97,
    "start_time": "2021-12-28T11:41:31.447Z"
   },
   {
    "duration": 69,
    "start_time": "2021-12-28T11:41:46.979Z"
   },
   {
    "duration": 69,
    "start_time": "2021-12-28T11:41:55.050Z"
   },
   {
    "duration": 69,
    "start_time": "2021-12-28T11:41:59.116Z"
   },
   {
    "duration": 550,
    "start_time": "2021-12-28T11:59:42.528Z"
   },
   {
    "duration": 528,
    "start_time": "2021-12-28T12:02:20.283Z"
   },
   {
    "duration": 517,
    "start_time": "2021-12-28T12:03:23.254Z"
   },
   {
    "duration": 685,
    "start_time": "2021-12-28T12:04:11.082Z"
   },
   {
    "duration": 552,
    "start_time": "2021-12-28T12:14:06.476Z"
   },
   {
    "duration": 489,
    "start_time": "2021-12-28T12:14:14.926Z"
   },
   {
    "duration": 475,
    "start_time": "2021-12-28T12:16:30.794Z"
   },
   {
    "duration": 613,
    "start_time": "2021-12-28T12:16:47.751Z"
   },
   {
    "duration": 472,
    "start_time": "2021-12-28T12:17:11.782Z"
   },
   {
    "duration": 630,
    "start_time": "2021-12-28T12:17:20.350Z"
   },
   {
    "duration": 564,
    "start_time": "2021-12-28T12:17:28.967Z"
   },
   {
    "duration": 368,
    "start_time": "2021-12-28T12:17:38.157Z"
   },
   {
    "duration": 535,
    "start_time": "2021-12-28T12:18:15.839Z"
   },
   {
    "duration": 20,
    "start_time": "2021-12-28T15:44:44.398Z"
   },
   {
    "duration": 259,
    "start_time": "2021-12-28T15:48:12.492Z"
   },
   {
    "duration": 514,
    "start_time": "2021-12-28T15:48:21.031Z"
   },
   {
    "duration": 490,
    "start_time": "2021-12-28T15:51:19.828Z"
   },
   {
    "duration": 440,
    "start_time": "2021-12-28T15:51:25.773Z"
   },
   {
    "duration": 437,
    "start_time": "2021-12-28T15:52:12.730Z"
   },
   {
    "duration": 386,
    "start_time": "2021-12-28T15:53:01.965Z"
   },
   {
    "duration": 359,
    "start_time": "2021-12-28T15:54:08.360Z"
   },
   {
    "duration": 372,
    "start_time": "2021-12-28T15:54:18.611Z"
   },
   {
    "duration": 526,
    "start_time": "2021-12-28T15:55:04.923Z"
   },
   {
    "duration": 363,
    "start_time": "2021-12-28T15:55:18.004Z"
   },
   {
    "duration": 374,
    "start_time": "2021-12-28T15:55:32.182Z"
   },
   {
    "duration": 11,
    "start_time": "2021-12-28T15:56:51.105Z"
   },
   {
    "duration": 11,
    "start_time": "2021-12-28T15:57:01.883Z"
   },
   {
    "duration": 10,
    "start_time": "2021-12-28T15:57:25.595Z"
   },
   {
    "duration": 11,
    "start_time": "2021-12-28T15:57:37.240Z"
   },
   {
    "duration": 423,
    "start_time": "2021-12-28T15:58:13.032Z"
   },
   {
    "duration": 343,
    "start_time": "2021-12-28T15:58:25.295Z"
   },
   {
    "duration": 327,
    "start_time": "2021-12-28T15:58:33.825Z"
   },
   {
    "duration": 332,
    "start_time": "2021-12-28T15:58:38.173Z"
   },
   {
    "duration": 11,
    "start_time": "2021-12-28T15:58:43.053Z"
   },
   {
    "duration": 11,
    "start_time": "2021-12-28T15:59:29.407Z"
   },
   {
    "duration": 11,
    "start_time": "2021-12-28T15:59:33.272Z"
   },
   {
    "duration": 1620,
    "start_time": "2021-12-28T16:02:50.635Z"
   },
   {
    "duration": 385,
    "start_time": "2021-12-28T16:03:04.769Z"
   },
   {
    "duration": 10,
    "start_time": "2021-12-28T16:04:30.049Z"
   },
   {
    "duration": 10,
    "start_time": "2021-12-28T16:08:28.337Z"
   },
   {
    "duration": 11,
    "start_time": "2021-12-28T16:08:42.178Z"
   },
   {
    "duration": 10,
    "start_time": "2021-12-28T16:09:34.412Z"
   },
   {
    "duration": 363,
    "start_time": "2021-12-28T16:10:38.788Z"
   },
   {
    "duration": 10,
    "start_time": "2021-12-28T16:12:54.706Z"
   },
   {
    "duration": 375,
    "start_time": "2021-12-28T16:21:27.337Z"
   },
   {
    "duration": 358,
    "start_time": "2021-12-28T16:21:40.263Z"
   },
   {
    "duration": 643,
    "start_time": "2021-12-28T16:21:59.799Z"
   },
   {
    "duration": 365,
    "start_time": "2021-12-28T16:22:13.125Z"
   },
   {
    "duration": 359,
    "start_time": "2021-12-28T16:23:52.506Z"
   },
   {
    "duration": 509,
    "start_time": "2021-12-28T16:32:47.123Z"
   },
   {
    "duration": 386,
    "start_time": "2021-12-28T16:33:14.033Z"
   },
   {
    "duration": 378,
    "start_time": "2021-12-28T16:35:41.262Z"
   },
   {
    "duration": 38,
    "start_time": "2021-12-28T16:40:58.459Z"
   },
   {
    "duration": 37,
    "start_time": "2021-12-28T16:44:22.667Z"
   },
   {
    "duration": 31,
    "start_time": "2021-12-28T16:44:32.723Z"
   },
   {
    "duration": 51,
    "start_time": "2021-12-28T16:45:43.223Z"
   },
   {
    "duration": 356,
    "start_time": "2021-12-28T16:46:03.953Z"
   },
   {
    "duration": 7798,
    "start_time": "2021-12-28T16:46:09.877Z"
   },
   {
    "duration": 45,
    "start_time": "2021-12-28T16:46:34.138Z"
   },
   {
    "duration": 111,
    "start_time": "2021-12-28T16:46:55.342Z"
   },
   {
    "duration": 103,
    "start_time": "2021-12-28T16:47:07.264Z"
   },
   {
    "duration": 69,
    "start_time": "2021-12-28T16:47:10.592Z"
   },
   {
    "duration": 160,
    "start_time": "2021-12-28T16:47:44.972Z"
   },
   {
    "duration": 46,
    "start_time": "2021-12-28T16:48:11.185Z"
   },
   {
    "duration": 43,
    "start_time": "2021-12-28T16:48:31.298Z"
   },
   {
    "duration": 378,
    "start_time": "2021-12-28T16:48:40.632Z"
   },
   {
    "duration": 365,
    "start_time": "2021-12-28T16:49:19.408Z"
   },
   {
    "duration": 114,
    "start_time": "2021-12-28T16:49:58.214Z"
   },
   {
    "duration": 408,
    "start_time": "2021-12-28T16:50:02.418Z"
   },
   {
    "duration": 413,
    "start_time": "2021-12-28T16:50:46.798Z"
   },
   {
    "duration": 28,
    "start_time": "2021-12-28T17:03:03.881Z"
   },
   {
    "duration": 25,
    "start_time": "2021-12-28T17:03:21.302Z"
   },
   {
    "duration": 31,
    "start_time": "2021-12-28T17:03:59.204Z"
   },
   {
    "duration": 28,
    "start_time": "2021-12-28T17:04:15.940Z"
   },
   {
    "duration": 24,
    "start_time": "2021-12-28T17:05:16.999Z"
   },
   {
    "duration": 26,
    "start_time": "2021-12-28T17:05:46.197Z"
   },
   {
    "duration": 24,
    "start_time": "2021-12-28T17:18:38.462Z"
   },
   {
    "duration": 17,
    "start_time": "2021-12-28T17:24:21.412Z"
   },
   {
    "duration": 19,
    "start_time": "2021-12-28T17:24:27.172Z"
   },
   {
    "duration": 1559,
    "start_time": "2021-12-28T21:13:56.091Z"
   },
   {
    "duration": 68,
    "start_time": "2021-12-28T21:13:57.653Z"
   },
   {
    "duration": 39,
    "start_time": "2021-12-28T21:13:57.725Z"
   },
   {
    "duration": 17,
    "start_time": "2021-12-28T21:13:57.778Z"
   },
   {
    "duration": 44,
    "start_time": "2021-12-28T21:13:57.797Z"
   },
   {
    "duration": 31,
    "start_time": "2021-12-28T21:13:57.843Z"
   },
   {
    "duration": 13,
    "start_time": "2021-12-28T21:13:57.877Z"
   },
   {
    "duration": 6,
    "start_time": "2021-12-28T21:13:57.894Z"
   },
   {
    "duration": 15,
    "start_time": "2021-12-28T21:13:57.904Z"
   },
   {
    "duration": 55,
    "start_time": "2021-12-28T21:13:57.922Z"
   },
   {
    "duration": 17,
    "start_time": "2021-12-28T21:13:57.980Z"
   },
   {
    "duration": 29,
    "start_time": "2021-12-28T21:13:57.999Z"
   },
   {
    "duration": 32,
    "start_time": "2021-12-28T21:13:58.031Z"
   },
   {
    "duration": 23,
    "start_time": "2021-12-28T21:13:58.066Z"
   },
   {
    "duration": 410,
    "start_time": "2021-12-28T21:13:58.092Z"
   },
   {
    "duration": 12,
    "start_time": "2021-12-28T21:13:58.504Z"
   },
   {
    "duration": 578,
    "start_time": "2021-12-28T21:13:58.518Z"
   },
   {
    "duration": 983,
    "start_time": "2021-12-28T21:13:59.099Z"
   },
   {
    "duration": 649,
    "start_time": "2021-12-28T21:14:00.084Z"
   },
   {
    "duration": 573,
    "start_time": "2021-12-28T21:14:00.736Z"
   },
   {
    "duration": 674,
    "start_time": "2021-12-28T21:14:01.312Z"
   },
   {
    "duration": 384,
    "start_time": "2021-12-28T21:14:01.989Z"
   },
   {
    "duration": 14,
    "start_time": "2021-12-28T21:14:02.378Z"
   },
   {
    "duration": 11,
    "start_time": "2021-12-28T21:14:02.395Z"
   },
   {
    "duration": 417,
    "start_time": "2021-12-28T21:14:02.409Z"
   },
   {
    "duration": 390,
    "start_time": "2021-12-28T21:14:02.829Z"
   },
   {
    "duration": 654,
    "start_time": "2021-12-28T21:14:03.222Z"
   },
   {
    "duration": 431,
    "start_time": "2021-12-28T21:14:03.879Z"
   },
   {
    "duration": 52,
    "start_time": "2021-12-28T21:14:04.313Z"
   },
   {
    "duration": 34,
    "start_time": "2021-12-28T21:14:04.370Z"
   },
   {
    "duration": 78,
    "start_time": "2021-12-28T21:14:04.407Z"
   },
   {
    "duration": 17,
    "start_time": "2021-12-28T21:14:04.488Z"
   },
   {
    "duration": 21,
    "start_time": "2021-12-28T21:14:04.508Z"
   },
   {
    "duration": 1447,
    "start_time": "2021-12-29T20:18:05.286Z"
   },
   {
    "duration": 50,
    "start_time": "2021-12-29T20:18:06.735Z"
   },
   {
    "duration": 24,
    "start_time": "2021-12-29T20:18:06.788Z"
   },
   {
    "duration": 14,
    "start_time": "2021-12-29T20:18:06.815Z"
   },
   {
    "duration": 88,
    "start_time": "2021-12-29T20:18:06.832Z"
   },
   {
    "duration": 10,
    "start_time": "2021-12-29T20:18:06.923Z"
   },
   {
    "duration": 40,
    "start_time": "2021-12-29T20:18:06.936Z"
   },
   {
    "duration": 11,
    "start_time": "2021-12-29T20:18:06.982Z"
   },
   {
    "duration": 17,
    "start_time": "2021-12-29T20:18:06.998Z"
   },
   {
    "duration": 46,
    "start_time": "2021-12-29T20:18:07.019Z"
   },
   {
    "duration": 9,
    "start_time": "2021-12-29T20:18:07.067Z"
   },
   {
    "duration": 26,
    "start_time": "2021-12-29T20:18:07.079Z"
   },
   {
    "duration": 6,
    "start_time": "2021-12-29T20:18:07.108Z"
   },
   {
    "duration": 62,
    "start_time": "2021-12-29T20:18:07.116Z"
   },
   {
    "duration": 384,
    "start_time": "2021-12-29T20:18:07.180Z"
   },
   {
    "duration": 10,
    "start_time": "2021-12-29T20:18:07.566Z"
   },
   {
    "duration": 631,
    "start_time": "2021-12-29T20:18:07.579Z"
   },
   {
    "duration": 778,
    "start_time": "2021-12-29T20:18:08.214Z"
   },
   {
    "duration": 581,
    "start_time": "2021-12-29T20:18:08.995Z"
   },
   {
    "duration": 538,
    "start_time": "2021-12-29T20:18:09.579Z"
   },
   {
    "duration": 598,
    "start_time": "2021-12-29T20:18:10.119Z"
   },
   {
    "duration": 369,
    "start_time": "2021-12-29T20:18:10.719Z"
   },
   {
    "duration": 11,
    "start_time": "2021-12-29T20:18:11.092Z"
   },
   {
    "duration": 19,
    "start_time": "2021-12-29T20:18:11.106Z"
   },
   {
    "duration": 374,
    "start_time": "2021-12-29T20:18:11.128Z"
   },
   {
    "duration": 382,
    "start_time": "2021-12-29T20:18:11.505Z"
   },
   {
    "duration": 361,
    "start_time": "2021-12-29T20:18:11.889Z"
   },
   {
    "duration": 396,
    "start_time": "2021-12-29T20:18:12.259Z"
   },
   {
    "duration": 29,
    "start_time": "2021-12-29T20:18:12.660Z"
   },
   {
    "duration": 70,
    "start_time": "2021-12-29T20:18:12.692Z"
   },
   {
    "duration": 33,
    "start_time": "2021-12-29T20:18:12.765Z"
   },
   {
    "duration": 15,
    "start_time": "2021-12-29T20:18:12.801Z"
   },
   {
    "duration": 17,
    "start_time": "2021-12-29T20:18:12.860Z"
   },
   {
    "duration": 16,
    "start_time": "2021-12-29T20:28:35.409Z"
   },
   {
    "duration": 1623,
    "start_time": "2022-01-02T09:43:16.151Z"
   },
   {
    "duration": 47,
    "start_time": "2022-01-02T09:43:17.777Z"
   },
   {
    "duration": 35,
    "start_time": "2022-01-02T09:43:17.827Z"
   },
   {
    "duration": 15,
    "start_time": "2022-01-02T09:43:17.865Z"
   },
   {
    "duration": 43,
    "start_time": "2022-01-02T09:43:17.882Z"
   },
   {
    "duration": 33,
    "start_time": "2022-01-02T09:43:17.927Z"
   },
   {
    "duration": 14,
    "start_time": "2022-01-02T09:43:17.963Z"
   },
   {
    "duration": 3169,
    "start_time": "2022-01-02T09:45:35.322Z"
   },
   {
    "duration": 8558,
    "start_time": "2022-01-02T09:45:40.820Z"
   },
   {
    "duration": 7,
    "start_time": "2022-01-02T09:46:04.530Z"
   },
   {
    "duration": 1028,
    "start_time": "2022-01-02T09:46:32.213Z"
   },
   {
    "duration": 1000,
    "start_time": "2022-01-02T09:46:56.165Z"
   },
   {
    "duration": 1090,
    "start_time": "2022-01-02T09:47:01.360Z"
   },
   {
    "duration": 8,
    "start_time": "2022-01-02T09:47:16.055Z"
   },
   {
    "duration": 35,
    "start_time": "2022-01-02T09:47:36.611Z"
   },
   {
    "duration": 26,
    "start_time": "2022-01-02T09:47:43.673Z"
   },
   {
    "duration": 22,
    "start_time": "2022-01-02T09:48:23.192Z"
   },
   {
    "duration": 122,
    "start_time": "2022-01-02T09:52:31.522Z"
   },
   {
    "duration": 1456,
    "start_time": "2022-01-02T10:12:19.875Z"
   },
   {
    "duration": 49,
    "start_time": "2022-01-02T10:12:21.334Z"
   },
   {
    "duration": 22,
    "start_time": "2022-01-02T10:12:21.386Z"
   },
   {
    "duration": 16,
    "start_time": "2022-01-02T10:12:21.410Z"
   },
   {
    "duration": 70,
    "start_time": "2022-01-02T10:12:21.428Z"
   },
   {
    "duration": 7,
    "start_time": "2022-01-02T10:12:21.500Z"
   },
   {
    "duration": 12,
    "start_time": "2022-01-02T10:12:21.510Z"
   },
   {
    "duration": 53,
    "start_time": "2022-01-02T10:12:21.526Z"
   },
   {
    "duration": 544,
    "start_time": "2022-01-02T10:12:21.582Z"
   },
   {
    "duration": 3149,
    "start_time": "2022-01-02T10:12:18.981Z"
   },
   {
    "duration": 3145,
    "start_time": "2022-01-02T10:12:18.987Z"
   },
   {
    "duration": 3141,
    "start_time": "2022-01-02T10:12:18.992Z"
   },
   {
    "duration": 3138,
    "start_time": "2022-01-02T10:12:18.997Z"
   },
   {
    "duration": 3135,
    "start_time": "2022-01-02T10:12:19.001Z"
   },
   {
    "duration": 3133,
    "start_time": "2022-01-02T10:12:19.005Z"
   },
   {
    "duration": 3131,
    "start_time": "2022-01-02T10:12:19.009Z"
   },
   {
    "duration": 3128,
    "start_time": "2022-01-02T10:12:19.013Z"
   },
   {
    "duration": 3123,
    "start_time": "2022-01-02T10:12:19.020Z"
   },
   {
    "duration": 3121,
    "start_time": "2022-01-02T10:12:19.023Z"
   },
   {
    "duration": 3119,
    "start_time": "2022-01-02T10:12:19.027Z"
   },
   {
    "duration": 3117,
    "start_time": "2022-01-02T10:12:19.030Z"
   },
   {
    "duration": 3115,
    "start_time": "2022-01-02T10:12:19.034Z"
   },
   {
    "duration": 3112,
    "start_time": "2022-01-02T10:12:19.038Z"
   },
   {
    "duration": 3111,
    "start_time": "2022-01-02T10:12:19.041Z"
   },
   {
    "duration": 3108,
    "start_time": "2022-01-02T10:12:19.045Z"
   },
   {
    "duration": 3107,
    "start_time": "2022-01-02T10:12:19.048Z"
   },
   {
    "duration": 3104,
    "start_time": "2022-01-02T10:12:19.052Z"
   },
   {
    "duration": 3103,
    "start_time": "2022-01-02T10:12:19.055Z"
   },
   {
    "duration": 3100,
    "start_time": "2022-01-02T10:12:19.059Z"
   },
   {
    "duration": 3097,
    "start_time": "2022-01-02T10:12:19.063Z"
   },
   {
    "duration": 3096,
    "start_time": "2022-01-02T10:12:19.066Z"
   },
   {
    "duration": 3094,
    "start_time": "2022-01-02T10:12:19.069Z"
   },
   {
    "duration": 3084,
    "start_time": "2022-01-02T10:12:19.080Z"
   },
   {
    "duration": 3081,
    "start_time": "2022-01-02T10:12:19.084Z"
   },
   {
    "duration": 4,
    "start_time": "2022-01-02T10:14:46.852Z"
   },
   {
    "duration": 52,
    "start_time": "2022-01-02T10:14:46.859Z"
   },
   {
    "duration": 18,
    "start_time": "2022-01-02T10:14:46.913Z"
   },
   {
    "duration": 27,
    "start_time": "2022-01-02T10:14:46.934Z"
   },
   {
    "duration": 41,
    "start_time": "2022-01-02T10:14:46.964Z"
   },
   {
    "duration": 6,
    "start_time": "2022-01-02T10:14:47.007Z"
   },
   {
    "duration": 44,
    "start_time": "2022-01-02T10:14:47.016Z"
   },
   {
    "duration": 29,
    "start_time": "2022-01-02T10:14:47.062Z"
   },
   {
    "duration": 6,
    "start_time": "2022-01-02T10:14:58.664Z"
   },
   {
    "duration": 25,
    "start_time": "2022-01-02T10:15:16.658Z"
   },
   {
    "duration": 4,
    "start_time": "2022-01-02T10:16:51.949Z"
   },
   {
    "duration": 49,
    "start_time": "2022-01-02T10:16:51.955Z"
   },
   {
    "duration": 17,
    "start_time": "2022-01-02T10:16:52.007Z"
   },
   {
    "duration": 12,
    "start_time": "2022-01-02T10:16:52.027Z"
   },
   {
    "duration": 54,
    "start_time": "2022-01-02T10:16:52.042Z"
   },
   {
    "duration": 7,
    "start_time": "2022-01-02T10:16:52.098Z"
   },
   {
    "duration": 10,
    "start_time": "2022-01-02T10:16:52.108Z"
   },
   {
    "duration": 33,
    "start_time": "2022-01-02T10:16:53.265Z"
   },
   {
    "duration": 8,
    "start_time": "2022-01-02T10:18:23.243Z"
   },
   {
    "duration": 379,
    "start_time": "2022-01-02T10:18:44.551Z"
   },
   {
    "duration": 9,
    "start_time": "2022-01-02T10:19:10.212Z"
   },
   {
    "duration": 12,
    "start_time": "2022-01-02T10:19:24.363Z"
   },
   {
    "duration": 1446,
    "start_time": "2022-01-02T10:19:30.814Z"
   },
   {
    "duration": 49,
    "start_time": "2022-01-02T10:19:32.263Z"
   },
   {
    "duration": 23,
    "start_time": "2022-01-02T10:19:32.316Z"
   },
   {
    "duration": 26,
    "start_time": "2022-01-02T10:19:32.342Z"
   },
   {
    "duration": 41,
    "start_time": "2022-01-02T10:19:32.371Z"
   },
   {
    "duration": 6,
    "start_time": "2022-01-02T10:19:32.415Z"
   },
   {
    "duration": 39,
    "start_time": "2022-01-02T10:19:32.424Z"
   },
   {
    "duration": 11,
    "start_time": "2022-01-02T10:19:32.467Z"
   },
   {
    "duration": 6,
    "start_time": "2022-01-02T10:19:32.481Z"
   },
   {
    "duration": 13,
    "start_time": "2022-01-02T10:19:32.489Z"
   },
   {
    "duration": 11,
    "start_time": "2022-01-02T10:19:32.504Z"
   },
   {
    "duration": 50,
    "start_time": "2022-01-02T10:19:32.517Z"
   },
   {
    "duration": 28,
    "start_time": "2022-01-02T10:19:32.569Z"
   },
   {
    "duration": 6,
    "start_time": "2022-01-02T10:19:32.599Z"
   },
   {
    "duration": 55,
    "start_time": "2022-01-02T10:19:32.607Z"
   },
   {
    "duration": 365,
    "start_time": "2022-01-02T10:19:32.665Z"
   },
   {
    "duration": 11,
    "start_time": "2022-01-02T10:19:33.032Z"
   },
   {
    "duration": 506,
    "start_time": "2022-01-02T10:19:33.045Z"
   },
   {
    "duration": 780,
    "start_time": "2022-01-02T10:19:33.553Z"
   },
   {
    "duration": 568,
    "start_time": "2022-01-02T10:19:34.335Z"
   },
   {
    "duration": 570,
    "start_time": "2022-01-02T10:19:34.905Z"
   },
   {
    "duration": 575,
    "start_time": "2022-01-02T10:19:35.477Z"
   },
   {
    "duration": 353,
    "start_time": "2022-01-02T10:19:36.056Z"
   },
   {
    "duration": 10,
    "start_time": "2022-01-02T10:19:36.411Z"
   },
   {
    "duration": 9,
    "start_time": "2022-01-02T10:19:36.423Z"
   },
   {
    "duration": 361,
    "start_time": "2022-01-02T10:19:36.434Z"
   },
   {
    "duration": 374,
    "start_time": "2022-01-02T10:19:36.799Z"
   },
   {
    "duration": 363,
    "start_time": "2022-01-02T10:19:37.176Z"
   },
   {
    "duration": 393,
    "start_time": "2022-01-02T10:19:37.542Z"
   },
   {
    "duration": 35,
    "start_time": "2022-01-02T10:19:37.937Z"
   },
   {
    "duration": 25,
    "start_time": "2022-01-02T10:19:37.974Z"
   },
   {
    "duration": 74,
    "start_time": "2022-01-02T10:19:38.001Z"
   },
   {
    "duration": 16,
    "start_time": "2022-01-02T10:19:38.077Z"
   },
   {
    "duration": 19,
    "start_time": "2022-01-02T10:19:38.096Z"
   },
   {
    "duration": 493,
    "start_time": "2022-01-02T10:47:52.479Z"
   },
   {
    "duration": 1031,
    "start_time": "2022-01-02T10:50:45.019Z"
   },
   {
    "duration": 1077,
    "start_time": "2022-01-02T10:51:10.472Z"
   },
   {
    "duration": 538,
    "start_time": "2022-01-02T10:53:08.902Z"
   },
   {
    "duration": 192,
    "start_time": "2022-01-02T10:55:25.808Z"
   },
   {
    "duration": 193,
    "start_time": "2022-01-02T10:57:32.429Z"
   },
   {
    "duration": 893,
    "start_time": "2022-01-02T10:58:29.954Z"
   },
   {
    "duration": 861,
    "start_time": "2022-01-02T10:59:02.800Z"
   },
   {
    "duration": 212,
    "start_time": "2022-01-02T10:59:27.585Z"
   },
   {
    "duration": 947,
    "start_time": "2022-01-02T11:00:09.476Z"
   },
   {
    "duration": 876,
    "start_time": "2022-01-02T11:00:16.883Z"
   },
   {
    "duration": 214,
    "start_time": "2022-01-02T11:00:34.266Z"
   },
   {
    "duration": 604,
    "start_time": "2022-01-02T11:00:44.175Z"
   },
   {
    "duration": 966,
    "start_time": "2022-01-02T11:01:54.319Z"
   },
   {
    "duration": 9,
    "start_time": "2022-01-02T11:02:16.139Z"
   },
   {
    "duration": 226,
    "start_time": "2022-01-02T11:12:46.521Z"
   },
   {
    "duration": 272,
    "start_time": "2022-01-02T11:12:55.987Z"
   },
   {
    "duration": 224,
    "start_time": "2022-01-02T11:13:06.237Z"
   },
   {
    "duration": 232,
    "start_time": "2022-01-02T11:13:15.765Z"
   },
   {
    "duration": 701,
    "start_time": "2022-01-02T11:17:36.930Z"
   },
   {
    "duration": 921,
    "start_time": "2022-01-02T11:18:14.238Z"
   },
   {
    "duration": 888,
    "start_time": "2022-01-02T11:18:51.309Z"
   },
   {
    "duration": 239,
    "start_time": "2022-01-02T11:20:42.242Z"
   },
   {
    "duration": 229,
    "start_time": "2022-01-02T11:20:45.691Z"
   },
   {
    "duration": 924,
    "start_time": "2022-01-02T11:21:01.466Z"
   },
   {
    "duration": 3,
    "start_time": "2022-01-02T11:21:10.333Z"
   },
   {
    "duration": 53,
    "start_time": "2022-01-02T11:21:10.339Z"
   },
   {
    "duration": 18,
    "start_time": "2022-01-02T11:21:10.395Z"
   },
   {
    "duration": 45,
    "start_time": "2022-01-02T11:21:10.416Z"
   },
   {
    "duration": 42,
    "start_time": "2022-01-02T11:21:10.463Z"
   },
   {
    "duration": 7,
    "start_time": "2022-01-02T11:21:10.508Z"
   },
   {
    "duration": 43,
    "start_time": "2022-01-02T11:21:10.519Z"
   },
   {
    "duration": 12,
    "start_time": "2022-01-02T11:21:10.565Z"
   },
   {
    "duration": 6,
    "start_time": "2022-01-02T11:21:10.579Z"
   },
   {
    "duration": 11,
    "start_time": "2022-01-02T11:21:10.588Z"
   },
   {
    "duration": 12,
    "start_time": "2022-01-02T11:21:10.601Z"
   },
   {
    "duration": 51,
    "start_time": "2022-01-02T11:21:10.615Z"
   },
   {
    "duration": 24,
    "start_time": "2022-01-02T11:21:10.669Z"
   },
   {
    "duration": 5,
    "start_time": "2022-01-02T11:21:10.696Z"
   },
   {
    "duration": 55,
    "start_time": "2022-01-02T11:21:10.704Z"
   },
   {
    "duration": 360,
    "start_time": "2022-01-02T11:21:10.761Z"
   },
   {
    "duration": 11,
    "start_time": "2022-01-02T11:21:11.124Z"
   },
   {
    "duration": 827,
    "start_time": "2022-01-02T11:21:11.158Z"
   },
   {
    "duration": 138,
    "start_time": "2022-01-02T11:21:11.992Z"
   },
   {
    "duration": 1092,
    "start_time": "2022-01-02T11:21:12.134Z"
   },
   {
    "duration": 703,
    "start_time": "2022-01-02T11:21:13.229Z"
   },
   {
    "duration": 690,
    "start_time": "2022-01-02T11:21:13.936Z"
   },
   {
    "duration": 548,
    "start_time": "2022-01-02T11:21:14.629Z"
   },
   {
    "duration": 14,
    "start_time": "2022-01-02T11:21:15.180Z"
   },
   {
    "duration": 12,
    "start_time": "2022-01-02T11:21:15.197Z"
   },
   {
    "duration": 569,
    "start_time": "2022-01-02T11:21:15.212Z"
   },
   {
    "duration": 593,
    "start_time": "2022-01-02T11:21:15.785Z"
   },
   {
    "duration": 581,
    "start_time": "2022-01-02T11:21:16.382Z"
   },
   {
    "duration": 637,
    "start_time": "2022-01-02T11:21:16.966Z"
   },
   {
    "duration": 55,
    "start_time": "2022-01-02T11:21:17.606Z"
   },
   {
    "duration": 12,
    "start_time": "2022-01-02T11:21:17.664Z"
   },
   {
    "duration": 409,
    "start_time": "2022-01-02T11:21:17.679Z"
   },
   {
    "duration": 994,
    "start_time": "2022-01-02T11:21:21.189Z"
   },
   {
    "duration": 1047,
    "start_time": "2022-01-02T11:21:44.262Z"
   },
   {
    "duration": 1772,
    "start_time": "2022-01-02T11:21:50.989Z"
   },
   {
    "duration": 666,
    "start_time": "2022-01-02T11:26:43.586Z"
   },
   {
    "duration": 952,
    "start_time": "2022-01-02T11:26:51.062Z"
   },
   {
    "duration": 944,
    "start_time": "2022-01-02T11:27:19.260Z"
   },
   {
    "duration": 961,
    "start_time": "2022-01-02T11:27:40.295Z"
   },
   {
    "duration": 233,
    "start_time": "2022-01-02T11:27:58.948Z"
   },
   {
    "duration": 10,
    "start_time": "2022-01-02T11:28:08.739Z"
   },
   {
    "duration": 236,
    "start_time": "2022-01-02T11:28:14.671Z"
   },
   {
    "duration": 284,
    "start_time": "2022-01-02T11:28:38.884Z"
   },
   {
    "duration": 679,
    "start_time": "2022-01-02T11:28:58.389Z"
   },
   {
    "duration": 1000,
    "start_time": "2022-01-02T11:29:11.195Z"
   },
   {
    "duration": 915,
    "start_time": "2022-01-02T11:29:23.395Z"
   },
   {
    "duration": 888,
    "start_time": "2022-01-02T11:34:48.648Z"
   },
   {
    "duration": 4,
    "start_time": "2022-01-02T11:35:16.959Z"
   },
   {
    "duration": 888,
    "start_time": "2022-01-02T11:35:23.349Z"
   },
   {
    "duration": 925,
    "start_time": "2022-01-02T11:35:53.136Z"
   },
   {
    "duration": 597,
    "start_time": "2022-01-02T11:36:13.899Z"
   },
   {
    "duration": 385,
    "start_time": "2022-01-02T11:37:42.535Z"
   },
   {
    "duration": 502,
    "start_time": "2022-01-02T11:37:57.481Z"
   },
   {
    "duration": 513,
    "start_time": "2022-01-02T11:39:26.313Z"
   },
   {
    "duration": 914,
    "start_time": "2022-01-02T11:49:06.668Z"
   },
   {
    "duration": 1849,
    "start_time": "2022-01-02T11:49:19.432Z"
   },
   {
    "duration": 4,
    "start_time": "2022-01-02T11:49:30.672Z"
   },
   {
    "duration": 53,
    "start_time": "2022-01-02T11:49:30.679Z"
   },
   {
    "duration": 24,
    "start_time": "2022-01-02T11:49:30.735Z"
   },
   {
    "duration": 14,
    "start_time": "2022-01-02T11:49:30.763Z"
   },
   {
    "duration": 81,
    "start_time": "2022-01-02T11:49:30.779Z"
   },
   {
    "duration": 8,
    "start_time": "2022-01-02T11:49:30.862Z"
   },
   {
    "duration": 16,
    "start_time": "2022-01-02T11:49:30.873Z"
   },
   {
    "duration": 12,
    "start_time": "2022-01-02T11:49:30.892Z"
   },
   {
    "duration": 6,
    "start_time": "2022-01-02T11:49:30.907Z"
   },
   {
    "duration": 48,
    "start_time": "2022-01-02T11:49:30.915Z"
   },
   {
    "duration": 12,
    "start_time": "2022-01-02T11:49:30.966Z"
   },
   {
    "duration": 25,
    "start_time": "2022-01-02T11:49:30.980Z"
   },
   {
    "duration": 53,
    "start_time": "2022-01-02T11:49:31.008Z"
   },
   {
    "duration": 6,
    "start_time": "2022-01-02T11:49:31.063Z"
   },
   {
    "duration": 38,
    "start_time": "2022-01-02T11:49:31.072Z"
   },
   {
    "duration": 465,
    "start_time": "2022-01-02T11:49:31.113Z"
   },
   {
    "duration": 10,
    "start_time": "2022-01-02T11:49:31.581Z"
   },
   {
    "duration": 520,
    "start_time": "2022-01-02T11:49:31.594Z"
   },
   {
    "duration": 86,
    "start_time": "2022-01-02T11:49:32.118Z"
   },
   {
    "duration": 562,
    "start_time": "2022-01-02T11:49:32.207Z"
   },
   {
    "duration": 469,
    "start_time": "2022-01-02T11:49:32.773Z"
   },
   {
    "duration": 479,
    "start_time": "2022-01-02T11:49:33.245Z"
   },
   {
    "duration": 360,
    "start_time": "2022-01-02T11:49:33.727Z"
   },
   {
    "duration": 13,
    "start_time": "2022-01-02T11:49:34.090Z"
   },
   {
    "duration": 10,
    "start_time": "2022-01-02T11:49:34.107Z"
   },
   {
    "duration": 384,
    "start_time": "2022-01-02T11:49:34.120Z"
   },
   {
    "duration": 368,
    "start_time": "2022-01-02T11:49:34.508Z"
   },
   {
    "duration": 358,
    "start_time": "2022-01-02T11:49:34.879Z"
   },
   {
    "duration": 383,
    "start_time": "2022-01-02T11:49:35.239Z"
   },
   {
    "duration": 43,
    "start_time": "2022-01-02T11:49:35.625Z"
   },
   {
    "duration": 8,
    "start_time": "2022-01-02T11:49:35.670Z"
   },
   {
    "duration": 970,
    "start_time": "2022-01-02T11:49:37.735Z"
   },
   {
    "duration": 5,
    "start_time": "2022-01-02T11:51:28.224Z"
   },
   {
    "duration": 53,
    "start_time": "2022-01-02T11:51:28.231Z"
   },
   {
    "duration": 18,
    "start_time": "2022-01-02T11:51:28.287Z"
   },
   {
    "duration": 14,
    "start_time": "2022-01-02T11:51:28.307Z"
   },
   {
    "duration": 71,
    "start_time": "2022-01-02T11:51:28.324Z"
   },
   {
    "duration": 7,
    "start_time": "2022-01-02T11:51:28.397Z"
   },
   {
    "duration": 12,
    "start_time": "2022-01-02T11:51:28.407Z"
   },
   {
    "duration": 47,
    "start_time": "2022-01-02T11:51:28.421Z"
   },
   {
    "duration": 5,
    "start_time": "2022-01-02T11:51:28.470Z"
   },
   {
    "duration": 11,
    "start_time": "2022-01-02T11:51:28.477Z"
   },
   {
    "duration": 12,
    "start_time": "2022-01-02T11:51:28.491Z"
   },
   {
    "duration": 9,
    "start_time": "2022-01-02T11:51:28.505Z"
   },
   {
    "duration": 26,
    "start_time": "2022-01-02T11:51:28.560Z"
   },
   {
    "duration": 6,
    "start_time": "2022-01-02T11:51:28.588Z"
   },
   {
    "duration": 23,
    "start_time": "2022-01-02T11:51:28.596Z"
   },
   {
    "duration": 386,
    "start_time": "2022-01-02T11:51:28.621Z"
   },
   {
    "duration": 11,
    "start_time": "2022-01-02T11:51:29.009Z"
   },
   {
    "duration": 707,
    "start_time": "2022-01-02T11:51:29.022Z"
   },
   {
    "duration": 86,
    "start_time": "2022-01-02T11:51:29.733Z"
   },
   {
    "duration": 577,
    "start_time": "2022-01-02T11:51:29.823Z"
   },
   {
    "duration": 537,
    "start_time": "2022-01-02T11:51:30.403Z"
   },
   {
    "duration": 498,
    "start_time": "2022-01-02T11:51:30.942Z"
   },
   {
    "duration": 359,
    "start_time": "2022-01-02T11:51:31.443Z"
   },
   {
    "duration": 10,
    "start_time": "2022-01-02T11:51:31.804Z"
   },
   {
    "duration": 11,
    "start_time": "2022-01-02T11:51:31.816Z"
   },
   {
    "duration": 362,
    "start_time": "2022-01-02T11:51:31.830Z"
   },
   {
    "duration": 357,
    "start_time": "2022-01-02T11:51:32.195Z"
   },
   {
    "duration": 366,
    "start_time": "2022-01-02T11:51:32.559Z"
   },
   {
    "duration": 382,
    "start_time": "2022-01-02T11:51:32.927Z"
   },
   {
    "duration": 23,
    "start_time": "2022-01-02T11:51:33.311Z"
   },
   {
    "duration": 951,
    "start_time": "2022-01-02T11:51:35.282Z"
   },
   {
    "duration": 645,
    "start_time": "2022-01-02T11:52:01.102Z"
   },
   {
    "duration": 1106,
    "start_time": "2022-01-02T11:52:29.588Z"
   },
   {
    "duration": 673,
    "start_time": "2022-01-02T11:54:48.373Z"
   },
   {
    "duration": 582,
    "start_time": "2022-01-02T11:55:13.223Z"
   },
   {
    "duration": 572,
    "start_time": "2022-01-02T11:55:16.193Z"
   },
   {
    "duration": 1063,
    "start_time": "2022-01-02T11:55:32.894Z"
   },
   {
    "duration": 1107,
    "start_time": "2022-01-02T11:55:43.180Z"
   },
   {
    "duration": 580,
    "start_time": "2022-01-02T11:56:02.846Z"
   },
   {
    "duration": 526,
    "start_time": "2022-01-02T11:57:04.795Z"
   },
   {
    "duration": 535,
    "start_time": "2022-01-02T11:57:21.778Z"
   },
   {
    "duration": 876,
    "start_time": "2022-01-02T11:59:47.116Z"
   },
   {
    "duration": 1273,
    "start_time": "2022-01-02T11:59:57.473Z"
   },
   {
    "duration": 1502,
    "start_time": "2022-01-02T12:01:22.230Z"
   },
   {
    "duration": 1280,
    "start_time": "2022-01-02T12:01:27.381Z"
   },
   {
    "duration": 517,
    "start_time": "2022-01-02T12:01:32.799Z"
   },
   {
    "duration": 574,
    "start_time": "2022-01-02T12:01:57.185Z"
   },
   {
    "duration": 1086,
    "start_time": "2022-01-02T12:02:36.590Z"
   },
   {
    "duration": 508,
    "start_time": "2022-01-02T12:02:46.777Z"
   },
   {
    "duration": 465,
    "start_time": "2022-01-02T12:02:54.267Z"
   },
   {
    "duration": 315,
    "start_time": "2022-01-02T12:02:58.868Z"
   },
   {
    "duration": 936,
    "start_time": "2022-01-02T12:03:25.765Z"
   },
   {
    "duration": 3,
    "start_time": "2022-01-02T12:05:12.858Z"
   },
   {
    "duration": 4,
    "start_time": "2022-01-02T12:05:21.136Z"
   },
   {
    "duration": 49,
    "start_time": "2022-01-02T12:05:21.143Z"
   },
   {
    "duration": 19,
    "start_time": "2022-01-02T12:05:21.196Z"
   },
   {
    "duration": 17,
    "start_time": "2022-01-02T12:05:21.219Z"
   },
   {
    "duration": 45,
    "start_time": "2022-01-02T12:05:21.260Z"
   },
   {
    "duration": 9,
    "start_time": "2022-01-02T12:05:21.308Z"
   },
   {
    "duration": 46,
    "start_time": "2022-01-02T12:05:21.320Z"
   },
   {
    "duration": 13,
    "start_time": "2022-01-02T12:05:21.370Z"
   },
   {
    "duration": 6,
    "start_time": "2022-01-02T12:05:21.389Z"
   },
   {
    "duration": 13,
    "start_time": "2022-01-02T12:05:21.399Z"
   },
   {
    "duration": 12,
    "start_time": "2022-01-02T12:05:21.460Z"
   },
   {
    "duration": 12,
    "start_time": "2022-01-02T12:05:21.475Z"
   },
   {
    "duration": 32,
    "start_time": "2022-01-02T12:05:21.489Z"
   },
   {
    "duration": 41,
    "start_time": "2022-01-02T12:05:21.524Z"
   },
   {
    "duration": 22,
    "start_time": "2022-01-02T12:05:21.568Z"
   },
   {
    "duration": 385,
    "start_time": "2022-01-02T12:05:21.593Z"
   },
   {
    "duration": 13,
    "start_time": "2022-01-02T12:05:21.981Z"
   },
   {
    "duration": 530,
    "start_time": "2022-01-02T12:05:21.996Z"
   },
   {
    "duration": 80,
    "start_time": "2022-01-02T12:05:22.529Z"
   },
   {
    "duration": 575,
    "start_time": "2022-01-02T12:05:22.611Z"
   },
   {
    "duration": 496,
    "start_time": "2022-01-02T12:05:23.188Z"
   },
   {
    "duration": 483,
    "start_time": "2022-01-02T12:05:23.687Z"
   },
   {
    "duration": 390,
    "start_time": "2022-01-02T12:05:24.173Z"
   },
   {
    "duration": 11,
    "start_time": "2022-01-02T12:05:24.566Z"
   },
   {
    "duration": 9,
    "start_time": "2022-01-02T12:05:24.579Z"
   },
   {
    "duration": 402,
    "start_time": "2022-01-02T12:05:24.591Z"
   },
   {
    "duration": 376,
    "start_time": "2022-01-02T12:05:24.998Z"
   },
   {
    "duration": 359,
    "start_time": "2022-01-02T12:05:25.377Z"
   },
   {
    "duration": 545,
    "start_time": "2022-01-02T12:05:25.739Z"
   },
   {
    "duration": 25,
    "start_time": "2022-01-02T12:05:26.287Z"
   },
   {
    "duration": 9,
    "start_time": "2022-01-02T12:05:55.719Z"
   },
   {
    "duration": 355,
    "start_time": "2022-01-02T12:06:40.047Z"
   },
   {
    "duration": 771,
    "start_time": "2022-01-02T12:07:07.852Z"
   },
   {
    "duration": 649,
    "start_time": "2022-01-02T12:07:19.410Z"
   },
   {
    "duration": 749,
    "start_time": "2022-01-02T12:07:28.731Z"
   },
   {
    "duration": 641,
    "start_time": "2022-01-02T12:07:40.326Z"
   },
   {
    "duration": 760,
    "start_time": "2022-01-02T12:07:50.688Z"
   },
   {
    "duration": 766,
    "start_time": "2022-01-02T12:07:57.355Z"
   },
   {
    "duration": 628,
    "start_time": "2022-01-02T12:08:44.700Z"
   },
   {
    "duration": 1008,
    "start_time": "2022-01-02T12:08:56.011Z"
   },
   {
    "duration": 1030,
    "start_time": "2022-01-02T12:09:30.569Z"
   },
   {
    "duration": 1041,
    "start_time": "2022-01-02T12:09:36.101Z"
   },
   {
    "duration": 622,
    "start_time": "2022-01-02T12:09:41.084Z"
   },
   {
    "duration": 646,
    "start_time": "2022-01-02T12:14:34.785Z"
   },
   {
    "duration": 645,
    "start_time": "2022-01-02T12:15:40.407Z"
   },
   {
    "duration": 802,
    "start_time": "2022-01-02T12:17:33.190Z"
   },
   {
    "duration": 658,
    "start_time": "2022-01-02T12:17:41.524Z"
   },
   {
    "duration": 698,
    "start_time": "2022-01-02T12:17:45.854Z"
   },
   {
    "duration": 722,
    "start_time": "2022-01-02T12:17:51.572Z"
   },
   {
    "duration": 641,
    "start_time": "2022-01-02T12:18:03.138Z"
   },
   {
    "duration": 643,
    "start_time": "2022-01-02T12:18:09.163Z"
   },
   {
    "duration": 639,
    "start_time": "2022-01-02T12:18:14.302Z"
   },
   {
    "duration": 641,
    "start_time": "2022-01-02T12:19:33.661Z"
   },
   {
    "duration": 931,
    "start_time": "2022-01-02T12:23:51.308Z"
   },
   {
    "duration": 662,
    "start_time": "2022-01-02T12:24:04.488Z"
   },
   {
    "duration": 657,
    "start_time": "2022-01-02T12:24:35.973Z"
   },
   {
    "duration": 652,
    "start_time": "2022-01-02T12:24:40.934Z"
   },
   {
    "duration": 650,
    "start_time": "2022-01-02T12:24:47.333Z"
   },
   {
    "duration": 639,
    "start_time": "2022-01-02T12:24:53.515Z"
   },
   {
    "duration": 653,
    "start_time": "2022-01-02T12:25:02.442Z"
   },
   {
    "duration": 654,
    "start_time": "2022-01-02T12:25:07.856Z"
   },
   {
    "duration": 834,
    "start_time": "2022-01-02T12:25:11.988Z"
   },
   {
    "duration": 676,
    "start_time": "2022-01-02T12:26:45.550Z"
   },
   {
    "duration": 763,
    "start_time": "2022-01-02T18:00:36.953Z"
   },
   {
    "duration": 677,
    "start_time": "2022-01-02T18:03:33.327Z"
   },
   {
    "duration": 64,
    "start_time": "2022-01-02T18:07:01.387Z"
   },
   {
    "duration": 793,
    "start_time": "2022-01-02T18:08:07.014Z"
   },
   {
    "duration": 683,
    "start_time": "2022-01-02T18:08:37.038Z"
   },
   {
    "duration": 709,
    "start_time": "2022-01-02T18:08:42.954Z"
   },
   {
    "duration": 685,
    "start_time": "2022-01-02T18:08:48.468Z"
   },
   {
    "duration": 880,
    "start_time": "2022-01-02T18:09:06.964Z"
   },
   {
    "duration": 668,
    "start_time": "2022-01-02T18:09:12.955Z"
   },
   {
    "duration": 662,
    "start_time": "2022-01-02T18:09:18.605Z"
   },
   {
    "duration": 650,
    "start_time": "2022-01-02T18:09:25.302Z"
   },
   {
    "duration": 1432,
    "start_time": "2022-01-02T18:09:33.782Z"
   },
   {
    "duration": 52,
    "start_time": "2022-01-02T18:09:35.216Z"
   },
   {
    "duration": 23,
    "start_time": "2022-01-02T18:09:35.276Z"
   },
   {
    "duration": 15,
    "start_time": "2022-01-02T18:09:35.302Z"
   },
   {
    "duration": 73,
    "start_time": "2022-01-02T18:09:35.320Z"
   },
   {
    "duration": 7,
    "start_time": "2022-01-02T18:09:35.396Z"
   },
   {
    "duration": 12,
    "start_time": "2022-01-02T18:09:35.407Z"
   },
   {
    "duration": 44,
    "start_time": "2022-01-02T18:09:35.423Z"
   },
   {
    "duration": 6,
    "start_time": "2022-01-02T18:09:35.469Z"
   },
   {
    "duration": 13,
    "start_time": "2022-01-02T18:09:35.477Z"
   },
   {
    "duration": 11,
    "start_time": "2022-01-02T18:09:35.492Z"
   },
   {
    "duration": 10,
    "start_time": "2022-01-02T18:09:35.505Z"
   },
   {
    "duration": 66,
    "start_time": "2022-01-02T18:09:35.517Z"
   },
   {
    "duration": 6,
    "start_time": "2022-01-02T18:09:35.585Z"
   },
   {
    "duration": 21,
    "start_time": "2022-01-02T18:09:35.593Z"
   },
   {
    "duration": 492,
    "start_time": "2022-01-02T18:09:35.616Z"
   },
   {
    "duration": 10,
    "start_time": "2022-01-02T18:09:36.111Z"
   },
   {
    "duration": 530,
    "start_time": "2022-01-02T18:09:36.123Z"
   },
   {
    "duration": 761,
    "start_time": "2022-01-02T18:09:36.659Z"
   },
   {
    "duration": 580,
    "start_time": "2022-01-02T18:09:37.423Z"
   },
   {
    "duration": 572,
    "start_time": "2022-01-02T18:09:38.006Z"
   },
   {
    "duration": 551,
    "start_time": "2022-01-02T18:09:38.583Z"
   },
   {
    "duration": 360,
    "start_time": "2022-01-02T18:09:39.137Z"
   },
   {
    "duration": 10,
    "start_time": "2022-01-02T18:09:39.500Z"
   },
   {
    "duration": 10,
    "start_time": "2022-01-02T18:09:39.513Z"
   },
   {
    "duration": 353,
    "start_time": "2022-01-02T18:09:39.525Z"
   },
   {
    "duration": 467,
    "start_time": "2022-01-02T18:09:39.880Z"
   },
   {
    "duration": 350,
    "start_time": "2022-01-02T18:09:40.349Z"
   },
   {
    "duration": 387,
    "start_time": "2022-01-02T18:09:40.702Z"
   },
   {
    "duration": 671,
    "start_time": "2022-01-02T18:09:41.091Z"
   },
   {
    "duration": 677,
    "start_time": "2022-01-02T18:09:41.764Z"
   },
   {
    "duration": 772,
    "start_time": "2022-01-02T18:09:42.443Z"
   },
   {
    "duration": 17,
    "start_time": "2022-01-02T18:09:43.218Z"
   },
   {
    "duration": 34,
    "start_time": "2022-01-02T18:09:43.237Z"
   }
  ],
  "kernelspec": {
   "display_name": "Python 3 (ipykernel)",
   "language": "python",
   "name": "python3"
  },
  "language_info": {
   "codemirror_mode": {
    "name": "ipython",
    "version": 3
   },
   "file_extension": ".py",
   "mimetype": "text/x-python",
   "name": "python",
   "nbconvert_exporter": "python",
   "pygments_lexer": "ipython3",
   "version": "3.9.7"
  },
  "toc": {
   "base_numbering": 1,
   "nav_menu": {
    "height": "348px",
    "width": "576px"
   },
   "number_sections": false,
   "sideBar": true,
   "skip_h1_title": false,
   "title_cell": "Содержание",
   "title_sidebar": "Содержание",
   "toc_cell": false,
   "toc_position": {},
   "toc_section_display": true,
   "toc_window_display": false
  }
 },
 "nbformat": 4,
 "nbformat_minor": 2
}
