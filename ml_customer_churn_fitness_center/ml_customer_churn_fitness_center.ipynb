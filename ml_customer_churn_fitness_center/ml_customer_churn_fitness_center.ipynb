{
 "cells": [
  {
   "cell_type": "markdown",
   "metadata": {},
   "source": [
    "# Прогнозирование вероятности оттока для сети фитнес-центров\n",
    "\n",
    "Сеть фитнес-центров разрабатывает стратегию взаимодействия с клиентами на основе аналитических данных. Чтобы бороться с оттоком (клиент за последний месяц ни разу не посетил спортзал), отдел по работе с клиентами перевел в электронный вид клиентские анкеты. С помощью модели прогнозирования оттока клиентов и кластеризации клиентов необходимо сделать выводы и сформулировать рекомендации для стратегии взаимодействия с клиентами и их удержания.\n",
    "\n",
    "**Задача исследования**\n",
    "\n",
    "На основе анализа данных подготовить план действий по удержанию клиентов.\n",
    "\n",
    "**Ход исследования**\n",
    "\n",
    "Для проведения исследования доступны следующие данные:\n",
    "\n",
    "* data.csv — данные клиента за предыдущий до проверки факта оттока месяц, информация на основе журнала посещений, покупок и информация о текущем статусе абонемента клиента.\n",
    " \n",
    "Перед решением задачи исследования понадобится обзор данных. Затем, на этапе предобработки, поищем возможность исправить самые критичные ошибки данных.\n",
    "\n",
    "На этапе исследовательского анализа данных изучим средние значения, распределения и корреляции признаков.\n",
    "\n",
    "Затем построим модель бинарной классификации клиентов и сделаем кластеризацию клиентов.\n",
    "\n",
    "В выводе дадим базовые рекомендации по работе с клиентами.\n",
    "\n",
    "**Этапы исследования**\n",
    "\n",
    "1. Обзор данных.\n",
    "2. Предобработка данных.\n",
    "3. Исследовательский анализ данных.\n",
    "4. Построение модели прогнозирования оттока клиентов.\n",
    "5. Кластеризация клиентов.\n",
    "6. Выводы."
   ]
  },
  {
   "cell_type": "markdown",
   "metadata": {},
   "source": [
    "# Прогнозирование вероятности оттока для сети фитнес-центров\n",
    "\n",
    "## Описание проекта\n",
    "Сеть фитнес-центров разрабатывает стратегию взаимодействия с клиентами на основе аналитических данных. Чтобы бороться с оттоком (клиент за последний месяц ни разу не посетил спортзал), отдел по работе с клиентами перевел в электронный вид клиентские анкеты. С помощью модели прогнозирования оттока клиентов и кластеризации клиентов необходимо сделать выводы и сформулировать рекомендации для стратегии взаимодействия с клиентами и их удержания.\n",
    "\n",
    "## Цель\n",
    "На основе анализа данных подготовить план действий по удержанию клиентов.\n",
    "\n",
    "## Вывод\n",
    "Анализ средних значений признаков показал:\n",
    "* Большинство клиентов проживают или работают рядом с фитнес-центров, половина клиентов — сотрудники компании-партнёра клуба, треть клиентов пришли по акции «приведи друга».\n",
    "* В среднем длительность абонемента около 5 месяцев, клиент посещает фитнес-центр 2 раза в неделю, 41% клиентов посещали групповых занятий, средняя суммарная выручка от других услуг фитнес-центра — 147.\n",
    "* 27% клиентов ушли в отток.\n",
    "\n",
    "Анализ средние значения признаков клиентов группы оттока по сравнению с клиентами группы, не попавших в отток, показал, что:\n",
    "* Наибольший отток наблюдается для абонементов длительностью 1 месяц, в первые 2 месяца с момента первого посещения, со сроком окончания 1 месяц.\n",
    "* Более склонны к оттоку клиенты, которые реже посещают фитнес-центр и приносят меньшую выручку от других услуг, не входящие в число сотрудников компании-партнёра клуба, не пришедшие по акции «приведи друга», не посещающие групповые занятия.\n",
    "\n",
    "На основе данных мы построили модель логистической регрессии, которая верно определила 83% клиентов, ушедших в отток, на валидационном выборке. Рабочая модель может быть полезна для определения склонных к оттоку клиентов по их поведению и исходным данным.\n",
    "\n",
    "Методом k-means мы выполнили кластеризацию клиентов и получили 5 кластеров клиентов, отличающихся по средним значениям признаков и доле оттока. Для каждого кластера сформулированы предложения стратегии взаимодействия с клиентами и их удержания:\n",
    "\n",
    "**Кластер 0** (2,8% оттока).\n",
    "Наиболее лояльные клиенты, активны, приносят наибольшую выручку за дополнительные услуги и имеют самые длительные абонементы. Для поддержания лояльности предлагать долгосрочные абонементы со скидкой, расширять спектр дополнительных услуг.\n",
    "\n",
    "**Кластер 1** (26,8% оттока).\n",
    "Клиенты, характеризующиеся средними показателями лояльности и активности. В кластер попали клиенты, не указавшие номер телефона. Для всех таких клиентов, не ушедших в отток, следует уточнить номер телефона для продолжения маркетинговых коммуникаций. \n",
    "\n",
    "**Кластер 2** (44,4% оттока).\n",
    "Нелояльные клиенты, приносят минимальную выручку за дополнительные услуги, недавно начали посещать фитнес-центр. Вероятно, клиенты недавно купили абонемент и еще не раскрыли все возможности. Следует предлагать групповые занятия, давать скидки на дополнительные услуги.\n",
    "\n",
    "**Кластер 3** (51,4% оттока).\n",
    "Клиенты, которые с наибольшей вероятностью попадут в отток. Недавно начали заниматься, имеют короткий абонемент, редко посещают занятия. Необходимо поддерживать контакт, выяснить, в чем причина редкого посещения. Предложить скидки на продление абонемента, дополнительные услуги.\n",
    "\n",
    "**Кластер 4** (6,8% оттока).\n",
    "Лояльные клиенты, самые активные и прибыльные. Отличаются от кластера 0 меньшим сроком абонемента и меньшим сроком до его окончания. Предложить перейти на долгосрочный абонемент, расширять спектр дополнительных услуг.\n",
    "\n",
    "## Стек\n",
    "`pandas`, `numpy`, `matplotlib, seaborn, sklearn, scipy"
   ]
  },
  {
   "cell_type": "markdown",
   "metadata": {},
   "source": [
    "<h1>Содержание<span class=\"tocSkip\"></span></h1>\n",
    "<div class=\"toc\"><ul class=\"toc-item\"><li><span><a href=\"#Обзор-данных\" data-toc-modified-id=\"Обзор-данных-1\"><span class=\"toc-item-num\">1&nbsp;&nbsp;</span>Обзор данных</a></span></li><li><span><a href=\"#Предобработка-данных\" data-toc-modified-id=\"Предобработка-данных-2\"><span class=\"toc-item-num\">2&nbsp;&nbsp;</span>Предобработка данных</a></span><ul class=\"toc-item\"><li><span><a href=\"#Стиль-заголовков\" data-toc-modified-id=\"Стиль-заголовков-2.1\"><span class=\"toc-item-num\">2.1&nbsp;&nbsp;</span>Стиль заголовков</a></span></li><li><span><a href=\"#Обработка-дубликатов\" data-toc-modified-id=\"Обработка-дубликатов-2.2\"><span class=\"toc-item-num\">2.2&nbsp;&nbsp;</span>Обработка дубликатов</a></span></li></ul></li><li><span><a href=\"#Исследовательский-анализ-данных\" data-toc-modified-id=\"Исследовательский-анализ-данных-3\"><span class=\"toc-item-num\">3&nbsp;&nbsp;</span>Исследовательский анализ данных</a></span><ul class=\"toc-item\"><li><span><a href=\"#Изучение-признаков-и-средних-значений\" data-toc-modified-id=\"Изучение-признаков-и-средних-значений-3.1\"><span class=\"toc-item-num\">3.1&nbsp;&nbsp;</span>Изучение признаков и средних значений</a></span></li><li><span><a href=\"#Сравнение-средних-значений-признаков-в-группах-по-факту-оттока\" data-toc-modified-id=\"Сравнение-средних-значений-признаков-в-группах-по-факту-оттока-3.2\"><span class=\"toc-item-num\">3.2&nbsp;&nbsp;</span>Сравнение средних значений признаков в группах по факту оттока</a></span></li><li><span><a href=\"#Диаграммы-признаков-в-группах-по-факту-оттока\" data-toc-modified-id=\"Диаграммы-признаков-в-группах-по-факту-оттока-3.3\"><span class=\"toc-item-num\">3.3&nbsp;&nbsp;</span>Диаграммы признаков в группах по факту оттока</a></span></li><li><span><a href=\"#Матрица-корреляций\" data-toc-modified-id=\"Матрица-корреляций-3.4\"><span class=\"toc-item-num\">3.4&nbsp;&nbsp;</span>Матрица корреляций</a></span></li></ul></li><li><span><a href=\"#Построение-модели-прогнозирования-оттока-клиентов\" data-toc-modified-id=\"Построение-модели-прогнозирования-оттока-клиентов-4\"><span class=\"toc-item-num\">4&nbsp;&nbsp;</span>Построение модели прогнозирования оттока клиентов</a></span></li><li><span><a href=\"#Кластеризация-клиентов\" data-toc-modified-id=\"Кластеризация-клиентов-5\"><span class=\"toc-item-num\">5&nbsp;&nbsp;</span>Кластеризация клиентов</a></span></li><li><span><a href=\"#Выводы\" data-toc-modified-id=\"Выводы-6\"><span class=\"toc-item-num\">6&nbsp;&nbsp;</span>Выводы</a></span></li></ul></div>"
   ]
  },
  {
   "cell_type": "markdown",
   "metadata": {},
   "source": [
    "## Обзор данных\n",
    "Составим первое впечатление о входных данных."
   ]
  },
  {
   "cell_type": "code",
   "execution_count": 1,
   "metadata": {},
   "outputs": [],
   "source": [
    "# Импортируем библиотеки\n",
    "import pandas as pd\n",
    "import numpy as np\n",
    "import matplotlib.pyplot as plt\n",
    "import seaborn as sns\n",
    "from sklearn.model_selection import train_test_split\n",
    "from sklearn.preprocessing import StandardScaler\n",
    "from sklearn.linear_model import LogisticRegression\n",
    "from sklearn.ensemble import RandomForestClassifier\n",
    "from sklearn.metrics import accuracy_score, precision_score, recall_score, f1_score\n",
    "from scipy.cluster.hierarchy import dendrogram, linkage\n",
    "from sklearn.cluster import KMeans"
   ]
  },
  {
   "cell_type": "code",
   "execution_count": 2,
   "metadata": {},
   "outputs": [],
   "source": [
    "# Читаем файл с данными и сохраняем в датафрейм\n",
    "df = pd.read_csv('data.csv')"
   ]
  },
  {
   "cell_type": "code",
   "execution_count": 3,
   "metadata": {},
   "outputs": [
    {
     "data": {
      "text/html": [
       "<div>\n",
       "<style scoped>\n",
       "    .dataframe tbody tr th:only-of-type {\n",
       "        vertical-align: middle;\n",
       "    }\n",
       "\n",
       "    .dataframe tbody tr th {\n",
       "        vertical-align: top;\n",
       "    }\n",
       "\n",
       "    .dataframe thead th {\n",
       "        text-align: right;\n",
       "    }\n",
       "</style>\n",
       "<table border=\"1\" class=\"dataframe\">\n",
       "  <thead>\n",
       "    <tr style=\"text-align: right;\">\n",
       "      <th></th>\n",
       "      <th>gender</th>\n",
       "      <th>Near_Location</th>\n",
       "      <th>Partner</th>\n",
       "      <th>Promo_friends</th>\n",
       "      <th>Phone</th>\n",
       "      <th>Contract_period</th>\n",
       "      <th>Group_visits</th>\n",
       "      <th>Age</th>\n",
       "      <th>Avg_additional_charges_total</th>\n",
       "      <th>Month_to_end_contract</th>\n",
       "      <th>Lifetime</th>\n",
       "      <th>Avg_class_frequency_total</th>\n",
       "      <th>Avg_class_frequency_current_month</th>\n",
       "      <th>Churn</th>\n",
       "    </tr>\n",
       "  </thead>\n",
       "  <tbody>\n",
       "    <tr>\n",
       "      <th>0</th>\n",
       "      <td>1</td>\n",
       "      <td>1</td>\n",
       "      <td>1</td>\n",
       "      <td>1</td>\n",
       "      <td>0</td>\n",
       "      <td>6</td>\n",
       "      <td>1</td>\n",
       "      <td>29</td>\n",
       "      <td>14.227470</td>\n",
       "      <td>5.0</td>\n",
       "      <td>3</td>\n",
       "      <td>0.020398</td>\n",
       "      <td>0.000000</td>\n",
       "      <td>0</td>\n",
       "    </tr>\n",
       "    <tr>\n",
       "      <th>1</th>\n",
       "      <td>0</td>\n",
       "      <td>1</td>\n",
       "      <td>0</td>\n",
       "      <td>0</td>\n",
       "      <td>1</td>\n",
       "      <td>12</td>\n",
       "      <td>1</td>\n",
       "      <td>31</td>\n",
       "      <td>113.202938</td>\n",
       "      <td>12.0</td>\n",
       "      <td>7</td>\n",
       "      <td>1.922936</td>\n",
       "      <td>1.910244</td>\n",
       "      <td>0</td>\n",
       "    </tr>\n",
       "    <tr>\n",
       "      <th>2</th>\n",
       "      <td>0</td>\n",
       "      <td>1</td>\n",
       "      <td>1</td>\n",
       "      <td>0</td>\n",
       "      <td>1</td>\n",
       "      <td>1</td>\n",
       "      <td>0</td>\n",
       "      <td>28</td>\n",
       "      <td>129.448479</td>\n",
       "      <td>1.0</td>\n",
       "      <td>2</td>\n",
       "      <td>1.859098</td>\n",
       "      <td>1.736502</td>\n",
       "      <td>0</td>\n",
       "    </tr>\n",
       "    <tr>\n",
       "      <th>3</th>\n",
       "      <td>0</td>\n",
       "      <td>1</td>\n",
       "      <td>1</td>\n",
       "      <td>1</td>\n",
       "      <td>1</td>\n",
       "      <td>12</td>\n",
       "      <td>1</td>\n",
       "      <td>33</td>\n",
       "      <td>62.669863</td>\n",
       "      <td>12.0</td>\n",
       "      <td>2</td>\n",
       "      <td>3.205633</td>\n",
       "      <td>3.357215</td>\n",
       "      <td>0</td>\n",
       "    </tr>\n",
       "    <tr>\n",
       "      <th>4</th>\n",
       "      <td>1</td>\n",
       "      <td>1</td>\n",
       "      <td>1</td>\n",
       "      <td>1</td>\n",
       "      <td>1</td>\n",
       "      <td>1</td>\n",
       "      <td>0</td>\n",
       "      <td>26</td>\n",
       "      <td>198.362265</td>\n",
       "      <td>1.0</td>\n",
       "      <td>3</td>\n",
       "      <td>1.113884</td>\n",
       "      <td>1.120078</td>\n",
       "      <td>0</td>\n",
       "    </tr>\n",
       "  </tbody>\n",
       "</table>\n",
       "</div>"
      ],
      "text/plain": [
       "   gender  Near_Location  Partner  Promo_friends  Phone  Contract_period  \\\n",
       "0       1              1        1              1      0                6   \n",
       "1       0              1        0              0      1               12   \n",
       "2       0              1        1              0      1                1   \n",
       "3       0              1        1              1      1               12   \n",
       "4       1              1        1              1      1                1   \n",
       "\n",
       "   Group_visits  Age  Avg_additional_charges_total  Month_to_end_contract  \\\n",
       "0             1   29                     14.227470                    5.0   \n",
       "1             1   31                    113.202938                   12.0   \n",
       "2             0   28                    129.448479                    1.0   \n",
       "3             1   33                     62.669863                   12.0   \n",
       "4             0   26                    198.362265                    1.0   \n",
       "\n",
       "   Lifetime  Avg_class_frequency_total  Avg_class_frequency_current_month  \\\n",
       "0         3                   0.020398                           0.000000   \n",
       "1         7                   1.922936                           1.910244   \n",
       "2         2                   1.859098                           1.736502   \n",
       "3         2                   3.205633                           3.357215   \n",
       "4         3                   1.113884                           1.120078   \n",
       "\n",
       "   Churn  \n",
       "0      0  \n",
       "1      0  \n",
       "2      0  \n",
       "3      0  \n",
       "4      0  "
      ]
     },
     "execution_count": 3,
     "metadata": {},
     "output_type": "execute_result"
    }
   ],
   "source": [
    "# Обзор датафрейма, получаем первые 5 строк\n",
    "df.head()"
   ]
  },
  {
   "cell_type": "markdown",
   "metadata": {},
   "source": [
    "Таблица содержит общую информацию и текущий статус клиентов сети фитнес-центров.\n",
    "\n",
    "Согласно документации к данным:\n",
    "\n",
    "* `gender` — пол (0 — мужчины, 1 — женщины)\n",
    "* `Near_Location` — проживание или работа в районе, где находится фитнес-центр\n",
    "* `Partner` — сотрудник компании-партнёра клуба\n",
    "* `Promo_friends` — факт первоначальной записи в рамках акции «приведи друга»\n",
    "* `Phone` — наличие контактного телефона\n",
    "* `Contract_period` — длительность текущего действующего абонемента (месяц, 6 месяцев, год)\n",
    "* `Group_visits` — факт посещения групповых занятий\n",
    "* `Age` — возраст\n",
    "* `Avg_additional_charges_total` — суммарная выручка от других услуг фитнес-центра: кафе, спорттовары, косметический и массажный салон\n",
    "* `Month_to_end_contract` — срок до окончания текущего действующего абонемента (в месяцах)\n",
    "* `Lifetime` — время с момента первого обращения в фитнес-центр (в месяцах)\n",
    "* `Avg_class_frequency_total` — средняя частота посещений в неделю за все время с начала действия абонемента\n",
    "* `Avg_class_frequency_current_month` — средняя частота посещений в неделю за предыдущий месяц\n",
    "* `Churn` — факт оттока в текущем месяце (0 — не в оттоке, 1 — в оттоке)\n",
    "\n",
    "В столбцах отмечено нарушение стиля — использование заглавных букв."
   ]
  },
  {
   "cell_type": "code",
   "execution_count": 4,
   "metadata": {},
   "outputs": [
    {
     "name": "stdout",
     "output_type": "stream",
     "text": [
      "<class 'pandas.core.frame.DataFrame'>\n",
      "RangeIndex: 4000 entries, 0 to 3999\n",
      "Data columns (total 14 columns):\n",
      " #   Column                             Non-Null Count  Dtype  \n",
      "---  ------                             --------------  -----  \n",
      " 0   gender                             4000 non-null   int64  \n",
      " 1   Near_Location                      4000 non-null   int64  \n",
      " 2   Partner                            4000 non-null   int64  \n",
      " 3   Promo_friends                      4000 non-null   int64  \n",
      " 4   Phone                              4000 non-null   int64  \n",
      " 5   Contract_period                    4000 non-null   int64  \n",
      " 6   Group_visits                       4000 non-null   int64  \n",
      " 7   Age                                4000 non-null   int64  \n",
      " 8   Avg_additional_charges_total       4000 non-null   float64\n",
      " 9   Month_to_end_contract              4000 non-null   float64\n",
      " 10  Lifetime                           4000 non-null   int64  \n",
      " 11  Avg_class_frequency_total          4000 non-null   float64\n",
      " 12  Avg_class_frequency_current_month  4000 non-null   float64\n",
      " 13  Churn                              4000 non-null   int64  \n",
      "dtypes: float64(4), int64(10)\n",
      "memory usage: 437.6 KB\n"
     ]
    }
   ],
   "source": [
    "# Обзор датафрейма , получаем общую информацию\n",
    "df.info()"
   ]
  },
  {
   "cell_type": "markdown",
   "metadata": {},
   "source": [
    "В таблице данные 4000 клиентов.\n",
    "\n",
    "Не отмечено несоответствий типа данных документации и пропусков значений."
   ]
  },
  {
   "cell_type": "markdown",
   "metadata": {},
   "source": [
    "**Вывод**\n",
    "<div style=\"background-color: #FBD603; width: 48px; height: 5px\">&nbsp;</div>\n",
    "\n",
    "Как и следовало из сопроводительной документации, мы располагаем данными клиентов, информацией на основе журнала посещений, покупок, информацией о текущем статусе абонемента клиента сети фитнес-центров.\n",
    "\n",
    "Для анализа доступны данные 4000 клиентов.\n",
    "\n",
    "В столбцах отмечены нарушения стиля."
   ]
  },
  {
   "cell_type": "markdown",
   "metadata": {},
   "source": [
    "## Предобработка данных\n",
    "Исправим именование столбцов. Проверим данные на дубликаты."
   ]
  },
  {
   "cell_type": "markdown",
   "metadata": {},
   "source": [
    "### Стиль заголовков\n",
    "Заменим в названиях столбцов заглавные буквы на строчные. "
   ]
  },
  {
   "cell_type": "code",
   "execution_count": 5,
   "metadata": {},
   "outputs": [
    {
     "data": {
      "text/plain": [
       "Index(['gender', 'near_location', 'partner', 'promo_friends', 'phone',\n",
       "       'contract_period', 'group_visits', 'age',\n",
       "       'avg_additional_charges_total', 'month_to_end_contract', 'lifetime',\n",
       "       'avg_class_frequency_total', 'avg_class_frequency_current_month',\n",
       "       'churn'],\n",
       "      dtype='object')"
      ]
     },
     "execution_count": 5,
     "metadata": {},
     "output_type": "execute_result"
    }
   ],
   "source": [
    "# Заменяем заглавные на строчные в названиях столбцов\n",
    "df.columns = [x.lower() for x in df.columns.values]\n",
    "\n",
    "# Проверяем переименование столбцов\n",
    "df.columns"
   ]
  },
  {
   "cell_type": "markdown",
   "metadata": {},
   "source": [
    "Стиль названий столбцов приведен к корректному."
   ]
  },
  {
   "cell_type": "markdown",
   "metadata": {},
   "source": [
    "### Обработка дубликатов\n",
    "Проверим данные на явные строковые дубликаты."
   ]
  },
  {
   "cell_type": "code",
   "execution_count": 6,
   "metadata": {
    "scrolled": true
   },
   "outputs": [
    {
     "name": "stdout",
     "output_type": "stream",
     "text": [
      "Дубликаты: 0\n"
     ]
    }
   ],
   "source": [
    "# Проверим количество дубликатов\n",
    "print(f'Дубликаты: {df.duplicated().sum()}')"
   ]
  },
  {
   "cell_type": "markdown",
   "metadata": {},
   "source": [
    "Явные дубликаты отсутствуют."
   ]
  },
  {
   "cell_type": "markdown",
   "metadata": {},
   "source": [
    "**Вывод**\n",
    "<div style=\"background-color: #FBD603; width: 48px; height: 5px\">&nbsp;</div>\n",
    "\n",
    "На этапе предобработки данных мы исправили стиль заголовков и установили, что явные дубликаты отсутствуют."
   ]
  },
  {
   "cell_type": "markdown",
   "metadata": {},
   "source": [
    "## Исследовательский анализ данных\n",
    "Проверим отсутствующие признаки в датасете, изучим средние значения и стандартные отклонения. Посмотрим на средние значения признаков в двух группах (тех, кто ушел в отток и тех, кто остался). Построим столбчатые гистограммы и распределения признаков в двух группах. Построим матрицу корреляций."
   ]
  },
  {
   "cell_type": "markdown",
   "metadata": {},
   "source": [
    "### Изучение признаков и средних значений"
   ]
  },
  {
   "cell_type": "code",
   "execution_count": 7,
   "metadata": {
    "scrolled": false
   },
   "outputs": [
    {
     "data": {
      "text/html": [
       "<div>\n",
       "<style scoped>\n",
       "    .dataframe tbody tr th:only-of-type {\n",
       "        vertical-align: middle;\n",
       "    }\n",
       "\n",
       "    .dataframe tbody tr th {\n",
       "        vertical-align: top;\n",
       "    }\n",
       "\n",
       "    .dataframe thead th {\n",
       "        text-align: right;\n",
       "    }\n",
       "</style>\n",
       "<table border=\"1\" class=\"dataframe\">\n",
       "  <thead>\n",
       "    <tr style=\"text-align: right;\">\n",
       "      <th></th>\n",
       "      <th>count</th>\n",
       "      <th>mean</th>\n",
       "      <th>std</th>\n",
       "      <th>min</th>\n",
       "      <th>25%</th>\n",
       "      <th>50%</th>\n",
       "      <th>75%</th>\n",
       "      <th>max</th>\n",
       "    </tr>\n",
       "  </thead>\n",
       "  <tbody>\n",
       "    <tr>\n",
       "      <th>gender</th>\n",
       "      <td>4000.0</td>\n",
       "      <td>0.510250</td>\n",
       "      <td>0.499957</td>\n",
       "      <td>0.000000</td>\n",
       "      <td>0.000000</td>\n",
       "      <td>1.000000</td>\n",
       "      <td>1.000000</td>\n",
       "      <td>1.000000</td>\n",
       "    </tr>\n",
       "    <tr>\n",
       "      <th>near_location</th>\n",
       "      <td>4000.0</td>\n",
       "      <td>0.845250</td>\n",
       "      <td>0.361711</td>\n",
       "      <td>0.000000</td>\n",
       "      <td>1.000000</td>\n",
       "      <td>1.000000</td>\n",
       "      <td>1.000000</td>\n",
       "      <td>1.000000</td>\n",
       "    </tr>\n",
       "    <tr>\n",
       "      <th>partner</th>\n",
       "      <td>4000.0</td>\n",
       "      <td>0.486750</td>\n",
       "      <td>0.499887</td>\n",
       "      <td>0.000000</td>\n",
       "      <td>0.000000</td>\n",
       "      <td>0.000000</td>\n",
       "      <td>1.000000</td>\n",
       "      <td>1.000000</td>\n",
       "    </tr>\n",
       "    <tr>\n",
       "      <th>promo_friends</th>\n",
       "      <td>4000.0</td>\n",
       "      <td>0.308500</td>\n",
       "      <td>0.461932</td>\n",
       "      <td>0.000000</td>\n",
       "      <td>0.000000</td>\n",
       "      <td>0.000000</td>\n",
       "      <td>1.000000</td>\n",
       "      <td>1.000000</td>\n",
       "    </tr>\n",
       "    <tr>\n",
       "      <th>phone</th>\n",
       "      <td>4000.0</td>\n",
       "      <td>0.903500</td>\n",
       "      <td>0.295313</td>\n",
       "      <td>0.000000</td>\n",
       "      <td>1.000000</td>\n",
       "      <td>1.000000</td>\n",
       "      <td>1.000000</td>\n",
       "      <td>1.000000</td>\n",
       "    </tr>\n",
       "    <tr>\n",
       "      <th>contract_period</th>\n",
       "      <td>4000.0</td>\n",
       "      <td>4.681250</td>\n",
       "      <td>4.549706</td>\n",
       "      <td>1.000000</td>\n",
       "      <td>1.000000</td>\n",
       "      <td>1.000000</td>\n",
       "      <td>6.000000</td>\n",
       "      <td>12.000000</td>\n",
       "    </tr>\n",
       "    <tr>\n",
       "      <th>group_visits</th>\n",
       "      <td>4000.0</td>\n",
       "      <td>0.412250</td>\n",
       "      <td>0.492301</td>\n",
       "      <td>0.000000</td>\n",
       "      <td>0.000000</td>\n",
       "      <td>0.000000</td>\n",
       "      <td>1.000000</td>\n",
       "      <td>1.000000</td>\n",
       "    </tr>\n",
       "    <tr>\n",
       "      <th>age</th>\n",
       "      <td>4000.0</td>\n",
       "      <td>29.184250</td>\n",
       "      <td>3.258367</td>\n",
       "      <td>18.000000</td>\n",
       "      <td>27.000000</td>\n",
       "      <td>29.000000</td>\n",
       "      <td>31.000000</td>\n",
       "      <td>41.000000</td>\n",
       "    </tr>\n",
       "    <tr>\n",
       "      <th>avg_additional_charges_total</th>\n",
       "      <td>4000.0</td>\n",
       "      <td>146.943728</td>\n",
       "      <td>96.355602</td>\n",
       "      <td>0.148205</td>\n",
       "      <td>68.868830</td>\n",
       "      <td>136.220159</td>\n",
       "      <td>210.949625</td>\n",
       "      <td>552.590740</td>\n",
       "    </tr>\n",
       "    <tr>\n",
       "      <th>month_to_end_contract</th>\n",
       "      <td>4000.0</td>\n",
       "      <td>4.322750</td>\n",
       "      <td>4.191297</td>\n",
       "      <td>1.000000</td>\n",
       "      <td>1.000000</td>\n",
       "      <td>1.000000</td>\n",
       "      <td>6.000000</td>\n",
       "      <td>12.000000</td>\n",
       "    </tr>\n",
       "    <tr>\n",
       "      <th>lifetime</th>\n",
       "      <td>4000.0</td>\n",
       "      <td>3.724750</td>\n",
       "      <td>3.749267</td>\n",
       "      <td>0.000000</td>\n",
       "      <td>1.000000</td>\n",
       "      <td>3.000000</td>\n",
       "      <td>5.000000</td>\n",
       "      <td>31.000000</td>\n",
       "    </tr>\n",
       "    <tr>\n",
       "      <th>avg_class_frequency_total</th>\n",
       "      <td>4000.0</td>\n",
       "      <td>1.879020</td>\n",
       "      <td>0.972245</td>\n",
       "      <td>0.000000</td>\n",
       "      <td>1.180875</td>\n",
       "      <td>1.832768</td>\n",
       "      <td>2.536078</td>\n",
       "      <td>6.023668</td>\n",
       "    </tr>\n",
       "    <tr>\n",
       "      <th>avg_class_frequency_current_month</th>\n",
       "      <td>4000.0</td>\n",
       "      <td>1.767052</td>\n",
       "      <td>1.052906</td>\n",
       "      <td>0.000000</td>\n",
       "      <td>0.963003</td>\n",
       "      <td>1.719574</td>\n",
       "      <td>2.510336</td>\n",
       "      <td>6.146783</td>\n",
       "    </tr>\n",
       "    <tr>\n",
       "      <th>churn</th>\n",
       "      <td>4000.0</td>\n",
       "      <td>0.265250</td>\n",
       "      <td>0.441521</td>\n",
       "      <td>0.000000</td>\n",
       "      <td>0.000000</td>\n",
       "      <td>0.000000</td>\n",
       "      <td>1.000000</td>\n",
       "      <td>1.000000</td>\n",
       "    </tr>\n",
       "  </tbody>\n",
       "</table>\n",
       "</div>"
      ],
      "text/plain": [
       "                                    count        mean        std        min  \\\n",
       "gender                             4000.0    0.510250   0.499957   0.000000   \n",
       "near_location                      4000.0    0.845250   0.361711   0.000000   \n",
       "partner                            4000.0    0.486750   0.499887   0.000000   \n",
       "promo_friends                      4000.0    0.308500   0.461932   0.000000   \n",
       "phone                              4000.0    0.903500   0.295313   0.000000   \n",
       "contract_period                    4000.0    4.681250   4.549706   1.000000   \n",
       "group_visits                       4000.0    0.412250   0.492301   0.000000   \n",
       "age                                4000.0   29.184250   3.258367  18.000000   \n",
       "avg_additional_charges_total       4000.0  146.943728  96.355602   0.148205   \n",
       "month_to_end_contract              4000.0    4.322750   4.191297   1.000000   \n",
       "lifetime                           4000.0    3.724750   3.749267   0.000000   \n",
       "avg_class_frequency_total          4000.0    1.879020   0.972245   0.000000   \n",
       "avg_class_frequency_current_month  4000.0    1.767052   1.052906   0.000000   \n",
       "churn                              4000.0    0.265250   0.441521   0.000000   \n",
       "\n",
       "                                         25%         50%         75%  \\\n",
       "gender                              0.000000    1.000000    1.000000   \n",
       "near_location                       1.000000    1.000000    1.000000   \n",
       "partner                             0.000000    0.000000    1.000000   \n",
       "promo_friends                       0.000000    0.000000    1.000000   \n",
       "phone                               1.000000    1.000000    1.000000   \n",
       "contract_period                     1.000000    1.000000    6.000000   \n",
       "group_visits                        0.000000    0.000000    1.000000   \n",
       "age                                27.000000   29.000000   31.000000   \n",
       "avg_additional_charges_total       68.868830  136.220159  210.949625   \n",
       "month_to_end_contract               1.000000    1.000000    6.000000   \n",
       "lifetime                            1.000000    3.000000    5.000000   \n",
       "avg_class_frequency_total           1.180875    1.832768    2.536078   \n",
       "avg_class_frequency_current_month   0.963003    1.719574    2.510336   \n",
       "churn                               0.000000    0.000000    1.000000   \n",
       "\n",
       "                                          max  \n",
       "gender                               1.000000  \n",
       "near_location                        1.000000  \n",
       "partner                              1.000000  \n",
       "promo_friends                        1.000000  \n",
       "phone                                1.000000  \n",
       "contract_period                     12.000000  \n",
       "group_visits                         1.000000  \n",
       "age                                 41.000000  \n",
       "avg_additional_charges_total       552.590740  \n",
       "month_to_end_contract               12.000000  \n",
       "lifetime                            31.000000  \n",
       "avg_class_frequency_total            6.023668  \n",
       "avg_class_frequency_current_month    6.146783  \n",
       "churn                                1.000000  "
      ]
     },
     "execution_count": 7,
     "metadata": {},
     "output_type": "execute_result"
    }
   ],
   "source": [
    "# Получаем обзор значений датафрейма\n",
    "df.describe().T"
   ]
  },
  {
   "cell_type": "markdown",
   "metadata": {},
   "source": [
    "Как было отмечено на этапе Обзора данных, отсутствующих признаков нет, во всех столбцах по 4000 значений, что совпадает с числом строк датафрейма.\n",
    "\n",
    "На основе средних значений можно сделать предварительные выводы о клиентах сети фитнес-центров:\n",
    "* 51% клиентов — женщины\n",
    "* 85% клиентов проживают или работают в районе, где находится фитнес-центр\n",
    "* 49% клиентов — сотрудники компании-партнёра клуба\n",
    "* 31% клиентов пришли по акции «приведи друга»\n",
    "* 90% клиентов указали номер телефона\n",
    "* средняя длительность абонемента 4,7 месяцев, вероятно, много полугодовых абонементов и значительное количество месячных абонементов, снижающих среднее значение\n",
    "* 41% клиентов посещали групповых занятий\n",
    "* средний возраст — 29 лет\n",
    "* средняя суммарная выручка от других услуг фитнес-центра — 147\n",
    "* средний срок до окончания абонемента — 4,3 месяца\n",
    "* среднее время с момента первого обращения в фитнес-центр — 3,7 месяца\n",
    "* средняя частота посещений в неделю — 1,9 раза\n",
    "* средняя частота посещений в неделю за предыдущий месяц — 1,8 раза\n",
    "* 27% клиентов ушли в отток (за предыдущий месяц ни разу не посетили фитнес-центр)"
   ]
  },
  {
   "cell_type": "markdown",
   "metadata": {},
   "source": [
    "### Сравнение средних значений признаков в группах по факту оттока"
   ]
  },
  {
   "cell_type": "code",
   "execution_count": 8,
   "metadata": {
    "scrolled": false
   },
   "outputs": [
    {
     "data": {
      "text/html": [
       "<style type=\"text/css\">\n",
       "#T_798c9_row0_col0, #T_798c9_row1_col1, #T_798c9_row2_col1, #T_798c9_row3_col1, #T_798c9_row4_col1, #T_798c9_row5_col1, #T_798c9_row6_col1, #T_798c9_row7_col1, #T_798c9_row8_col1, #T_798c9_row9_col1, #T_798c9_row10_col1, #T_798c9_row11_col1, #T_798c9_row12_col1 {\n",
       "  background-color: lightyellow;\n",
       "}\n",
       "</style>\n",
       "<table id=\"T_798c9_\">\n",
       "  <thead>\n",
       "    <tr>\n",
       "      <th class=\"index_name level0\" >churn</th>\n",
       "      <th class=\"col_heading level0 col0\" >0</th>\n",
       "      <th class=\"col_heading level0 col1\" >1</th>\n",
       "    </tr>\n",
       "  </thead>\n",
       "  <tbody>\n",
       "    <tr>\n",
       "      <th id=\"T_798c9_level0_row0\" class=\"row_heading level0 row0\" >gender</th>\n",
       "      <td id=\"T_798c9_row0_col0\" class=\"data row0 col0\" >0.510037</td>\n",
       "      <td id=\"T_798c9_row0_col1\" class=\"data row0 col1\" >0.510839</td>\n",
       "    </tr>\n",
       "    <tr>\n",
       "      <th id=\"T_798c9_level0_row1\" class=\"row_heading level0 row1\" >near_location</th>\n",
       "      <td id=\"T_798c9_row1_col0\" class=\"data row1 col0\" >0.873086</td>\n",
       "      <td id=\"T_798c9_row1_col1\" class=\"data row1 col1\" >0.768143</td>\n",
       "    </tr>\n",
       "    <tr>\n",
       "      <th id=\"T_798c9_level0_row2\" class=\"row_heading level0 row2\" >partner</th>\n",
       "      <td id=\"T_798c9_row2_col0\" class=\"data row2 col0\" >0.534195</td>\n",
       "      <td id=\"T_798c9_row2_col1\" class=\"data row2 col1\" >0.355325</td>\n",
       "    </tr>\n",
       "    <tr>\n",
       "      <th id=\"T_798c9_level0_row3\" class=\"row_heading level0 row3\" >promo_friends</th>\n",
       "      <td id=\"T_798c9_row3_col0\" class=\"data row3 col0\" >0.353522</td>\n",
       "      <td id=\"T_798c9_row3_col1\" class=\"data row3 col1\" >0.183789</td>\n",
       "    </tr>\n",
       "    <tr>\n",
       "      <th id=\"T_798c9_level0_row4\" class=\"row_heading level0 row4\" >phone</th>\n",
       "      <td id=\"T_798c9_row4_col0\" class=\"data row4 col0\" >0.903709</td>\n",
       "      <td id=\"T_798c9_row4_col1\" class=\"data row4 col1\" >0.902922</td>\n",
       "    </tr>\n",
       "    <tr>\n",
       "      <th id=\"T_798c9_level0_row5\" class=\"row_heading level0 row5\" >contract_period</th>\n",
       "      <td id=\"T_798c9_row5_col0\" class=\"data row5 col0\" >5.747193</td>\n",
       "      <td id=\"T_798c9_row5_col1\" class=\"data row5 col1\" >1.728558</td>\n",
       "    </tr>\n",
       "    <tr>\n",
       "      <th id=\"T_798c9_level0_row6\" class=\"row_heading level0 row6\" >group_visits</th>\n",
       "      <td id=\"T_798c9_row6_col0\" class=\"data row6 col0\" >0.464103</td>\n",
       "      <td id=\"T_798c9_row6_col1\" class=\"data row6 col1\" >0.268615</td>\n",
       "    </tr>\n",
       "    <tr>\n",
       "      <th id=\"T_798c9_level0_row7\" class=\"row_heading level0 row7\" >age</th>\n",
       "      <td id=\"T_798c9_row7_col0\" class=\"data row7 col0\" >29.976523</td>\n",
       "      <td id=\"T_798c9_row7_col1\" class=\"data row7 col1\" >26.989632</td>\n",
       "    </tr>\n",
       "    <tr>\n",
       "      <th id=\"T_798c9_level0_row8\" class=\"row_heading level0 row8\" >avg_additional_charges_total</th>\n",
       "      <td id=\"T_798c9_row8_col0\" class=\"data row8 col0\" >158.445715</td>\n",
       "      <td id=\"T_798c9_row8_col1\" class=\"data row8 col1\" >115.082899</td>\n",
       "    </tr>\n",
       "    <tr>\n",
       "      <th id=\"T_798c9_level0_row9\" class=\"row_heading level0 row9\" >month_to_end_contract</th>\n",
       "      <td id=\"T_798c9_row9_col0\" class=\"data row9 col0\" >5.283089</td>\n",
       "      <td id=\"T_798c9_row9_col1\" class=\"data row9 col1\" >1.662582</td>\n",
       "    </tr>\n",
       "    <tr>\n",
       "      <th id=\"T_798c9_level0_row10\" class=\"row_heading level0 row10\" >lifetime</th>\n",
       "      <td id=\"T_798c9_row10_col0\" class=\"data row10 col0\" >4.711807</td>\n",
       "      <td id=\"T_798c9_row10_col1\" class=\"data row10 col1\" >0.990575</td>\n",
       "    </tr>\n",
       "    <tr>\n",
       "      <th id=\"T_798c9_level0_row11\" class=\"row_heading level0 row11\" >avg_class_frequency_total</th>\n",
       "      <td id=\"T_798c9_row11_col0\" class=\"data row11 col0\" >2.024876</td>\n",
       "      <td id=\"T_798c9_row11_col1\" class=\"data row11 col1\" >1.474995</td>\n",
       "    </tr>\n",
       "    <tr>\n",
       "      <th id=\"T_798c9_level0_row12\" class=\"row_heading level0 row12\" >avg_class_frequency_current_month</th>\n",
       "      <td id=\"T_798c9_row12_col0\" class=\"data row12 col0\" >2.027882</td>\n",
       "      <td id=\"T_798c9_row12_col1\" class=\"data row12 col1\" >1.044546</td>\n",
       "    </tr>\n",
       "  </tbody>\n",
       "</table>\n"
      ],
      "text/plain": [
       "<pandas.io.formats.style.Styler at 0x2c1ee403820>"
      ]
     },
     "execution_count": 8,
     "metadata": {},
     "output_type": "execute_result"
    }
   ],
   "source": [
    "# Таблица средних значений признаков в группах по факту оттока\n",
    "(\n",
    "    df\n",
    "    .groupby('churn')\n",
    "    .agg('mean')\n",
    "    .T\n",
    "    .style\n",
    "    .highlight_min(color='lightyellow', axis=1)\n",
    ")"
   ]
  },
  {
   "cell_type": "markdown",
   "metadata": {},
   "source": [
    "При сравнении средних значений признаков двух групп клиентов (попавших в отток и не попавших в отток) заметно, что средние  всех признаков, кроме пола (для этого признака средние почти равны) в группе оттока ниже.\n",
    "\n",
    "Следует остановиться на существенно различающихся средних значения признаков клиентов **группы оттока** по сравнению с клиентами группы, не попавших в отток:\n",
    "\n",
    "* **77%** против 87% клиентов проживают или работают в районе, где находится фитнес-центр\n",
    "* **36%** против 53% клиентов — сотрудники компании-партнёра клуба\n",
    "* **18%** против 35% клиентов пришли по акции «приведи друга»\n",
    "* средняя длительность абонемента **1,7 месяца** против 5,7 месяцев\n",
    "* **26%** против 46% клиентов посещали групповых занятий\n",
    "* средний возраст — **26 лет** против 30 лет\n",
    "* средняя суммарная выручка от других услуг фитнес-центра — **115** против 158\n",
    "* средний срок до окончания абонемента — **1,7** месяца против 5,3 месяца\n",
    "* среднее время с момента первого обращения в фитнес-центр — **1 месяц** против 4,7 месяца\n",
    "* средняя частота посещений в неделю — **1,5 раза** против 2 раз\n",
    "* средняя частота посещений в неделю за предыдущий месяц — **1 раз** против 2 раз\n",
    "\n",
    "Визуализируем признаки — построим столбцовые диаграммы для дискретных признаков и гистограммы для непрерывных признаков."
   ]
  },
  {
   "cell_type": "markdown",
   "metadata": {},
   "source": [
    "### Диаграммы признаков в группах по факту оттока"
   ]
  },
  {
   "cell_type": "code",
   "execution_count": 9,
   "metadata": {
    "scrolled": false
   },
   "outputs": [
    {
     "data": {
      "image/png": "[encoded data removed]",
      "text/plain": [
       "<Figure size 1008x2016 with 8 Axes>"
      ]
     },
     "metadata": {
      "needs_background": "light"
     },
     "output_type": "display_data"
    }
   ],
   "source": [
    "# Список признаков для построения столбцовых диаграмм\n",
    "bar_labels = [\n",
    "    'gender',\n",
    "    'near_location',\n",
    "    'partner',\n",
    "    'promo_friends',\n",
    "    'phone',\n",
    "    'contract_period',\n",
    "    'group_visits'\n",
    "]\n",
    "\n",
    "# Строим сетку графиков\n",
    "fig, axs = plt.subplots(4, 2, figsize=(14, 28))\n",
    "\n",
    "# Выпрямляем набор осей для построения в 4 строки\n",
    "axs = axs.ravel()\n",
    "\n",
    "# Скрываем лишние восьмые оси\n",
    "axs[7].set_axis_off()\n",
    "\n",
    "# Для каждого признака строим гистограмму\n",
    "for i, label in enumerate(bar_labels):\n",
    "    report = df.pivot_table(index=label, columns='churn', values='lifetime', aggfunc='count')\n",
    "    report.plot(ax=axs[i], kind='bar', stacked=True, alpha=0.5)\n",
    "    axs[i].set_title(label)\n",
    "    axs[i].set_ylabel('clients')\n",
    "    axs[i].tick_params(axis='x', labelrotation=0)\n",
    "plt.show()"
   ]
  },
  {
   "cell_type": "code",
   "execution_count": 10,
   "metadata": {
    "scrolled": false
   },
   "outputs": [
    {
     "data": {
      "image/png": "[encoded data removed]",
      "text/plain": [
       "<Figure size 1008x1440 with 6 Axes>"
      ]
     },
     "metadata": {
      "needs_background": "light"
     },
     "output_type": "display_data"
    }
   ],
   "source": [
    "# Список признаков для построения гистограмм\n",
    "hist_labels = [\n",
    "    'age',\n",
    "    'avg_additional_charges_total',\n",
    "    'month_to_end_contract',\n",
    "    'lifetime',\n",
    "    'avg_class_frequency_total',\n",
    "    'avg_class_frequency_current_month'\n",
    "]\n",
    "\n",
    "# Строим сетку графиков\n",
    "fig, axs = plt.subplots(3, 2, figsize=(14, 20))\n",
    "\n",
    "# Выпрямляем набор осей для построения в 3 строки\n",
    "axs = axs.ravel()\n",
    "\n",
    "# Для каждого признака строим гистограмму\n",
    "for i, label in enumerate(hist_labels):\n",
    "    (\n",
    "        df\n",
    "        .query('churn == 0')[label]\n",
    "        .plot(\n",
    "            ax=axs[i],\n",
    "            kind='hist',\n",
    "            density=True,\n",
    "            alpha=0.5,\n",
    "            label='churn 0',\n",
    "            legend=True)\n",
    "    )\n",
    "    (\n",
    "        df\n",
    "        .query('churn == 1')[label]\n",
    "        .plot(\n",
    "            ax=axs[i],\n",
    "            kind='hist',\n",
    "            density=True,\n",
    "            alpha=0.5,\n",
    "            label='churn 1',\n",
    "            legend=True)\n",
    "    )\n",
    "    axs[i].set_title(label)\n",
    "    axs[i].set_xlabel(label)\n",
    "plt.show()"
   ]
  },
  {
   "cell_type": "markdown",
   "metadata": {},
   "source": [
    "На визуализациях отчетливо видно, что в группе оттока:\n",
    "* меньше клиентов из числа сотрудников компании-партнёра клуба\n",
    "* меньше клиентов, пришедших по акции «приведи друга»\n",
    "* меньше клиентов, посещающих групповые занятия\n",
    "* более молодые клиенты\n",
    "* клиенты, приносящие меньшую выручку от других услуг\n",
    "* клиенты, реже посещающие фитнес-центр\n",
    "\n",
    "Также следует отметить, что наибольший отток наблюдается:\n",
    "* для абонементов длительностью 1 месяц\n",
    "* для абонементов со сроком окончания 1 месяц\n",
    "* в первые 2 месяца с момента первого посещения"
   ]
  },
  {
   "cell_type": "markdown",
   "metadata": {},
   "source": [
    "### Матрица корреляций"
   ]
  },
  {
   "cell_type": "code",
   "execution_count": 11,
   "metadata": {},
   "outputs": [
    {
     "data": {
      "image/png": "[encoded data removed]",
      "text/plain": [
       "<Figure size 1080x720 with 2 Axes>"
      ]
     },
     "metadata": {
      "needs_background": "light"
     },
     "output_type": "display_data"
    }
   ],
   "source": [
    "# Получаем матрицу корреляций\n",
    "cm = df.corr()\n",
    "\n",
    "# Визуализируем матрицу корреляций\n",
    "fig, ax = plt.subplots(figsize=(15, 10))\n",
    "sns.heatmap(cm, annot=True, square=True)\n",
    "plt.show()"
   ]
  },
  {
   "cell_type": "markdown",
   "metadata": {},
   "source": [
    "Отмечена отрицательная линейная связь между оттоком клиентов (`churn`) и длительностью текущего действующего абонемента (`contract_period`), возрастом клиента (`age`), сроком до окончания текущего абонемента (`month_to_end_contract`), временем с момента первого обращения (`lifetime`) и средней частотой посещений в неделю за предыдущий месяц (`avg_class_frequency_current_month`).\n",
    "\n",
    "Предварительно можно отметить, что более склонны к оттоку клиенты:\n",
    "* с короткими абонементами,\n",
    "* молодого возраста,\n",
    "* коротким сроком до окончания абонемента,\n",
    "* начавшие ходить в фитнес-центр недавно,\n",
    "* занимающиеся редко в течение недели.\n",
    "\n",
    "Признак `contract_period` сильно скоррелирован с признаком `month_to_end_contract`. Признак `avg_class_frequency_total` сильно скоррелирован с признаком `avg_class_frequency_current_month`. Для избежания переобучения модели машинного обучения и возникновения мультиколлинеарности, удалим по одному признаку из пар скоррелированных признаков (`month_to_end_contract` и `avg_class_frequency_current_month`)."
   ]
  },
  {
   "cell_type": "markdown",
   "metadata": {},
   "source": [
    "**Вывод**\n",
    "<div style=\"background-color: #FBD603; width: 48px; height: 5px\">&nbsp;</div>\n",
    "\n",
    "Исследовательский анализ данных показал, что в датасете нет пропущенных признаков. Изучив средние значения признаков, мы составили общее представление о клиентах сети фитнес-центров:\n",
    "* В выборке одинаково представлены мужчины и женщины, средний возраст клиента — 29 лет.\n",
    "* Большинство клиентов проживают или работают рядом с фитнес-центров, половина клиентов — сотрудники компании-партнёра клуба, треть клиентов пришли по акции «приведи друга».\n",
    "* Средняя длительность абонемента около 5 месяцев.\n",
    "* В среднем клиент посещает фитнес-центр 2 раза в неделю.\n",
    "* 41% клиентов посещали групповых занятий, средняя суммарная выручка от других услуг фитнес-центра — 147.\n",
    "* 27% клиентов ушли в отток.\n",
    "\n",
    "Сравнив средние значения признаков клиентов группы оттока по сравнению с клиентами группы, не попавших в отток, мы увидели основные отличия клиентов, ушедших в отток:\n",
    "\n",
    "* Реже посещают фитнес-центр и приносят меньшую выручку от других услуг.\n",
    "* Меньше клиентов из числа сотрудников компании-партнёра клуба, пришедших по акции «приведи друга», посещающих групповые занятия.\n",
    "* Наибольший отток наблюдается для абонементов длительностью 1 месяц, в первые 2 месяца с момента первого посещения, со сроком окончания 1 месяц.\n",
    "\n",
    "Эти выводы подтверждает наличие отрицательной линейной связи между признаком оттока клиентов и средней частотой посещений в неделю, длительностью действующего абонемента, сроком до окончания абонемента."
   ]
  },
  {
   "cell_type": "markdown",
   "metadata": {},
   "source": [
    "## Построение модели прогнозирования оттока клиентов\n",
    "Построим модели бинарной классификации клиентов логистической регрессией и случайным лесом. Целевой признак — факт оттока клиента в следующем месяце. Определим лучшую модель с помощью метрик accuracy, precision и recall."
   ]
  },
  {
   "cell_type": "code",
   "execution_count": 12,
   "metadata": {},
   "outputs": [],
   "source": [
    "# Разделим данные на признаки (X) и целевую переменную (y),\n",
    "# удалим month_to_end_contract и avg_class_frequency_current_month\n",
    "X = df.drop([\n",
    "    'churn',\n",
    "    'month_to_end_contract',\n",
    "    'avg_class_frequency_current_month'\n",
    "], axis=1)\n",
    "y = df['churn']\n",
    "\n",
    "# Разделим данные на обучающую и валидационную выборки\n",
    "X_train, X_test, y_train, y_test = train_test_split(X, y, test_size=0.2, stratify=y, random_state=0)\n",
    "\n",
    "# Обучим стандартизатор на обучающей выборке\n",
    "scaler = StandardScaler()\n",
    "scaler.fit(X_train)\n",
    "\n",
    "# Стандартизируем обучающий и валидационный наборы данных\n",
    "X_train_st = scaler.transform(X_train)\n",
    "X_test_st = scaler.transform(X_test)"
   ]
  },
  {
   "cell_type": "code",
   "execution_count": 13,
   "metadata": {},
   "outputs": [],
   "source": [
    "# Функция для вывода метрик прогноза\n",
    "def get_metrics(algorithm, y_test, y_pred):\n",
    "    '''\n",
    "    Получает название алгоритма, целевую переменную\n",
    "    валидационной выборки, предсказанную на валидационной\n",
    "    выборке целевую переменную. Расчитывает и распечатывает\n",
    "    значения метрик accuracy, precision и recall_score, f1_score.\n",
    "    '''\n",
    "    print(f'Метрики {algorithm}')\n",
    "    print('Accuracy: {:.2f}'.format(accuracy_score(y_test, y_pred)))\n",
    "    print('Precision: {:.2f}'.format(precision_score(y_test, y_pred)))\n",
    "    print('Recall: {:.2f}'.format(recall_score(y_test, y_pred)))\n",
    "    print('F1: {:.2f}'.format(f1_score(y_test, y_pred)))"
   ]
  },
  {
   "cell_type": "code",
   "execution_count": 14,
   "metadata": {
    "scrolled": false
   },
   "outputs": [
    {
     "name": "stdout",
     "output_type": "stream",
     "text": [
      "Метрики LogisticRegression\n",
      "Accuracy: 0.91\n",
      "Precision: 0.83\n",
      "Recall: 0.83\n",
      "F1: 0.83\n"
     ]
    }
   ],
   "source": [
    "# Задаем алгоритм для модели логистической регрессии\n",
    "model_lr = LogisticRegression(solver='liblinear', random_state=0)\n",
    "\n",
    "# Обучаем модель\n",
    "model_lr.fit(X_train_st, y_train)\n",
    "\n",
    "# Делаем прогноз\n",
    "y_pred_lr = model_lr.predict(X_test_st)\n",
    "\n",
    "# Выводим метрики для полученного прогноза\n",
    "get_metrics('LogisticRegression', y_test, y_pred_lr)"
   ]
  },
  {
   "cell_type": "code",
   "execution_count": 15,
   "metadata": {},
   "outputs": [
    {
     "name": "stdout",
     "output_type": "stream",
     "text": [
      "Метрики RandomForestClassifier\n",
      "Accuracy: 0.89\n",
      "Precision: 0.81\n",
      "Recall: 0.79\n",
      "F1: 0.80\n"
     ]
    }
   ],
   "source": [
    "# Задаем алгоритм для модели на основе случайного леса\n",
    "model = RandomForestClassifier(random_state=0)\n",
    "\n",
    "# Обучаем модель\n",
    "model.fit(X_train_st, y_train)\n",
    "\n",
    "# Делаем прогноз\n",
    "y_pred_rf = model.predict(X_test_st)\n",
    "\n",
    "# Выводим метрики для полученного прогноза\n",
    "get_metrics('RandomForestClassifier', y_test, y_pred_rf)"
   ]
  },
  {
   "cell_type": "markdown",
   "metadata": {},
   "source": [
    "**Вывод**\n",
    "<div style=\"background-color: #FBD603; width: 48px; height: 5px\">&nbsp;</div>\n",
    "\n",
    "Мы построили две модели бинарной классификации клиентов и получили метрики accuracy, precision и recall. Судя по этим метрикам, лучше показала себя модель логистической регрессии — при сравнимых значениях accuracy и precision, она имеет более высокий показатель recall по сравнению с моделью случайного леса. Сводная метрика F1-мера также показала преимущество модели логистической регрессии.\n",
    "\n",
    "Показатель recall (полнота) является определяющим в нашей задаче, поскольку показывает, сколько клиентов, действительно ушедших в отток, смогла определить модель. **Модель логистической регрессии верно определила 83% клиентов, ушедших в отток**, на валидационном выборке."
   ]
  },
  {
   "cell_type": "markdown",
   "metadata": {},
   "source": [
    "## Кластеризация клиентов\n",
    "Выполним кластеризацию клиентов. Сравним получившиеся кластеры по средним значения признаков, получим долю оттока для кластеров. Построим распределения признаков для кластеров.\n",
    "\n",
    "Для определения оптимального числа кластеров построим дендрограмму."
   ]
  },
  {
   "cell_type": "code",
   "execution_count": 16,
   "metadata": {},
   "outputs": [
    {
     "data": {
      "image/png": "[encoded data removed]",
      "text/plain": [
       "<Figure size 1080x720 with 1 Axes>"
      ]
     },
     "metadata": {
      "needs_background": "light"
     },
     "output_type": "display_data"
    }
   ],
   "source": [
    "# Выберем из данных признаки\n",
    "X = df.drop('churn', axis=1)\n",
    "\n",
    "# Стандартизируем набор данных\n",
    "scaler = StandardScaler()\n",
    "X_st = scaler.fit_transform(X)\n",
    "\n",
    "# Получаем матрицу расстояний\n",
    "linked = linkage(X_st, method='ward')\n",
    "\n",
    "# Визуализируем дендрограмму\n",
    "plt.figure(figsize=(15, 10))\n",
    "dendrogram(linked, orientation='top', no_labels=True)\n",
    "plt.title('Дендрограмма кластеризации клиентов сети фитнес-центров')\n",
    "plt.show()"
   ]
  },
  {
   "cell_type": "markdown",
   "metadata": {},
   "source": [
    "Полученная дендрограмма кластеризации показывает, что оптимальным является число кластеров от 4 до 6.\n",
    "\n",
    "Для последующей кластеризации клиентов сети фитнес-центров методом k-means выберем 5 целевым числом кластеров. "
   ]
  },
  {
   "cell_type": "code",
   "execution_count": 17,
   "metadata": {},
   "outputs": [],
   "source": [
    "# Задаем модель k-means с числом кластеров 5\n",
    "km = KMeans(n_clusters=5, random_state=0)\n",
    "\n",
    "# Прогнозируем кластеры для наблюдений\n",
    "labels = km.fit_predict(X_st)\n",
    "\n",
    "# Добавляем метки кластера в датафрейм\n",
    "df['cluster_km'] = labels"
   ]
  },
  {
   "cell_type": "markdown",
   "metadata": {},
   "source": [
    "Сгруппируем исходный датафрейм с полученными метриками по кластером и сравним средние значения признаков по кластерам."
   ]
  },
  {
   "cell_type": "code",
   "execution_count": 18,
   "metadata": {
    "scrolled": false
   },
   "outputs": [
    {
     "data": {
      "text/html": [
       "<style type=\"text/css\">\n",
       "#T_d254d_row0_col13, #T_d254d_row1_col4, #T_d254d_row2_col1, #T_d254d_row2_col3, #T_d254d_row2_col6, #T_d254d_row3_col0, #T_d254d_row3_col2, #T_d254d_row3_col5, #T_d254d_row3_col7, #T_d254d_row3_col8, #T_d254d_row3_col9, #T_d254d_row3_col10, #T_d254d_row3_col11, #T_d254d_row3_col12 {\n",
       "  background-color: lightyellow;\n",
       "}\n",
       "</style>\n",
       "<table id=\"T_d254d_\">\n",
       "  <thead>\n",
       "    <tr>\n",
       "      <th class=\"blank level0\" >&nbsp;</th>\n",
       "      <th class=\"col_heading level0 col0\" >gender</th>\n",
       "      <th class=\"col_heading level0 col1\" >near_location</th>\n",
       "      <th class=\"col_heading level0 col2\" >partner</th>\n",
       "      <th class=\"col_heading level0 col3\" >promo_friends</th>\n",
       "      <th class=\"col_heading level0 col4\" >phone</th>\n",
       "      <th class=\"col_heading level0 col5\" >contract_period</th>\n",
       "      <th class=\"col_heading level0 col6\" >group_visits</th>\n",
       "      <th class=\"col_heading level0 col7\" >age</th>\n",
       "      <th class=\"col_heading level0 col8\" >avg_additional_charges_total</th>\n",
       "      <th class=\"col_heading level0 col9\" >month_to_end_contract</th>\n",
       "      <th class=\"col_heading level0 col10\" >lifetime</th>\n",
       "      <th class=\"col_heading level0 col11\" >avg_class_frequency_total</th>\n",
       "      <th class=\"col_heading level0 col12\" >avg_class_frequency_current_month</th>\n",
       "      <th class=\"col_heading level0 col13\" >churn</th>\n",
       "    </tr>\n",
       "    <tr>\n",
       "      <th class=\"index_name level0\" >cluster_km</th>\n",
       "      <th class=\"blank col0\" >&nbsp;</th>\n",
       "      <th class=\"blank col1\" >&nbsp;</th>\n",
       "      <th class=\"blank col2\" >&nbsp;</th>\n",
       "      <th class=\"blank col3\" >&nbsp;</th>\n",
       "      <th class=\"blank col4\" >&nbsp;</th>\n",
       "      <th class=\"blank col5\" >&nbsp;</th>\n",
       "      <th class=\"blank col6\" >&nbsp;</th>\n",
       "      <th class=\"blank col7\" >&nbsp;</th>\n",
       "      <th class=\"blank col8\" >&nbsp;</th>\n",
       "      <th class=\"blank col9\" >&nbsp;</th>\n",
       "      <th class=\"blank col10\" >&nbsp;</th>\n",
       "      <th class=\"blank col11\" >&nbsp;</th>\n",
       "      <th class=\"blank col12\" >&nbsp;</th>\n",
       "      <th class=\"blank col13\" >&nbsp;</th>\n",
       "    </tr>\n",
       "  </thead>\n",
       "  <tbody>\n",
       "    <tr>\n",
       "      <th id=\"T_d254d_level0_row0\" class=\"row_heading level0 row0\" >0</th>\n",
       "      <td id=\"T_d254d_row0_col0\" class=\"data row0 col0\" >0.502970</td>\n",
       "      <td id=\"T_d254d_row0_col1\" class=\"data row0 col1\" >0.959406</td>\n",
       "      <td id=\"T_d254d_row0_col2\" class=\"data row0 col2\" >0.783168</td>\n",
       "      <td id=\"T_d254d_row0_col3\" class=\"data row0 col3\" >0.574257</td>\n",
       "      <td id=\"T_d254d_row0_col4\" class=\"data row0 col4\" >1.000000</td>\n",
       "      <td id=\"T_d254d_row0_col5\" class=\"data row0 col5\" >10.889109</td>\n",
       "      <td id=\"T_d254d_row0_col6\" class=\"data row0 col6\" >0.542574</td>\n",
       "      <td id=\"T_d254d_row0_col7\" class=\"data row0 col7\" >29.982178</td>\n",
       "      <td id=\"T_d254d_row0_col8\" class=\"data row0 col8\" >160.761016</td>\n",
       "      <td id=\"T_d254d_row0_col9\" class=\"data row0 col9\" >9.954455</td>\n",
       "      <td id=\"T_d254d_row0_col10\" class=\"data row0 col10\" >4.736634</td>\n",
       "      <td id=\"T_d254d_row0_col11\" class=\"data row0 col11\" >1.982055</td>\n",
       "      <td id=\"T_d254d_row0_col12\" class=\"data row0 col12\" >1.974789</td>\n",
       "      <td id=\"T_d254d_row0_col13\" class=\"data row0 col13\" >0.027723</td>\n",
       "    </tr>\n",
       "    <tr>\n",
       "      <th id=\"T_d254d_level0_row1\" class=\"row_heading level0 row1\" >1</th>\n",
       "      <td id=\"T_d254d_row1_col0\" class=\"data row1 col0\" >0.522078</td>\n",
       "      <td id=\"T_d254d_row1_col1\" class=\"data row1 col1\" >0.862338</td>\n",
       "      <td id=\"T_d254d_row1_col2\" class=\"data row1 col2\" >0.470130</td>\n",
       "      <td id=\"T_d254d_row1_col3\" class=\"data row1 col3\" >0.306494</td>\n",
       "      <td id=\"T_d254d_row1_col4\" class=\"data row1 col4\" >0.000000</td>\n",
       "      <td id=\"T_d254d_row1_col5\" class=\"data row1 col5\" >4.787013</td>\n",
       "      <td id=\"T_d254d_row1_col6\" class=\"data row1 col6\" >0.425974</td>\n",
       "      <td id=\"T_d254d_row1_col7\" class=\"data row1 col7\" >29.301299</td>\n",
       "      <td id=\"T_d254d_row1_col8\" class=\"data row1 col8\" >143.957664</td>\n",
       "      <td id=\"T_d254d_row1_col9\" class=\"data row1 col9\" >4.475325</td>\n",
       "      <td id=\"T_d254d_row1_col10\" class=\"data row1 col10\" >3.924675</td>\n",
       "      <td id=\"T_d254d_row1_col11\" class=\"data row1 col11\" >1.847220</td>\n",
       "      <td id=\"T_d254d_row1_col12\" class=\"data row1 col12\" >1.716369</td>\n",
       "      <td id=\"T_d254d_row1_col13\" class=\"data row1 col13\" >0.267532</td>\n",
       "    </tr>\n",
       "    <tr>\n",
       "      <th id=\"T_d254d_level0_row2\" class=\"row_heading level0 row2\" >2</th>\n",
       "      <td id=\"T_d254d_row2_col0\" class=\"data row2 col0\" >0.495050</td>\n",
       "      <td id=\"T_d254d_row2_col1\" class=\"data row2 col1\" >0.000000</td>\n",
       "      <td id=\"T_d254d_row2_col2\" class=\"data row2 col2\" >0.463366</td>\n",
       "      <td id=\"T_d254d_row2_col3\" class=\"data row2 col3\" >0.079208</td>\n",
       "      <td id=\"T_d254d_row2_col4\" class=\"data row2 col4\" >1.000000</td>\n",
       "      <td id=\"T_d254d_row2_col5\" class=\"data row2 col5\" >2.352475</td>\n",
       "      <td id=\"T_d254d_row2_col6\" class=\"data row2 col6\" >0.215842</td>\n",
       "      <td id=\"T_d254d_row2_col7\" class=\"data row2 col7\" >28.477228</td>\n",
       "      <td id=\"T_d254d_row2_col8\" class=\"data row2 col8\" >135.457501</td>\n",
       "      <td id=\"T_d254d_row2_col9\" class=\"data row2 col9\" >2.198020</td>\n",
       "      <td id=\"T_d254d_row2_col10\" class=\"data row2 col10\" >2.809901</td>\n",
       "      <td id=\"T_d254d_row2_col11\" class=\"data row2 col11\" >1.660461</td>\n",
       "      <td id=\"T_d254d_row2_col12\" class=\"data row2 col12\" >1.477324</td>\n",
       "      <td id=\"T_d254d_row2_col13\" class=\"data row2 col13\" >0.443564</td>\n",
       "    </tr>\n",
       "    <tr>\n",
       "      <th id=\"T_d254d_level0_row3\" class=\"row_heading level0 row3\" >3</th>\n",
       "      <td id=\"T_d254d_row3_col0\" class=\"data row3 col0\" >0.485737</td>\n",
       "      <td id=\"T_d254d_row3_col1\" class=\"data row3 col1\" >1.000000</td>\n",
       "      <td id=\"T_d254d_row3_col2\" class=\"data row3 col2\" >0.350238</td>\n",
       "      <td id=\"T_d254d_row3_col3\" class=\"data row3 col3\" >0.240095</td>\n",
       "      <td id=\"T_d254d_row3_col4\" class=\"data row3 col4\" >1.000000</td>\n",
       "      <td id=\"T_d254d_row3_col5\" class=\"data row3 col5\" >1.948494</td>\n",
       "      <td id=\"T_d254d_row3_col6\" class=\"data row3 col6\" >0.341521</td>\n",
       "      <td id=\"T_d254d_row3_col7\" class=\"data row3 col7\" >28.167987</td>\n",
       "      <td id=\"T_d254d_row3_col8\" class=\"data row3 col8\" >131.622204</td>\n",
       "      <td id=\"T_d254d_row3_col9\" class=\"data row3 col9\" >1.856577</td>\n",
       "      <td id=\"T_d254d_row3_col10\" class=\"data row3 col10\" >2.440571</td>\n",
       "      <td id=\"T_d254d_row3_col11\" class=\"data row3 col11\" >1.247634</td>\n",
       "      <td id=\"T_d254d_row3_col12\" class=\"data row3 col12\" >1.012983</td>\n",
       "      <td id=\"T_d254d_row3_col13\" class=\"data row3 col13\" >0.514263</td>\n",
       "    </tr>\n",
       "    <tr>\n",
       "      <th id=\"T_d254d_level0_row4\" class=\"row_heading level0 row4\" >4</th>\n",
       "      <td id=\"T_d254d_row4_col0\" class=\"data row4 col0\" >0.559666</td>\n",
       "      <td id=\"T_d254d_row4_col1\" class=\"data row4 col1\" >0.976134</td>\n",
       "      <td id=\"T_d254d_row4_col2\" class=\"data row4 col2\" >0.356802</td>\n",
       "      <td id=\"T_d254d_row4_col3\" class=\"data row4 col3\" >0.230310</td>\n",
       "      <td id=\"T_d254d_row4_col4\" class=\"data row4 col4\" >0.998807</td>\n",
       "      <td id=\"T_d254d_row4_col5\" class=\"data row4 col5\" >2.669451</td>\n",
       "      <td id=\"T_d254d_row4_col6\" class=\"data row4 col6\" >0.473747</td>\n",
       "      <td id=\"T_d254d_row4_col7\" class=\"data row4 col7\" >30.125298</td>\n",
       "      <td id=\"T_d254d_row4_col8\" class=\"data row4 col8\" >161.657905</td>\n",
       "      <td id=\"T_d254d_row4_col9\" class=\"data row4 col9\" >2.459427</td>\n",
       "      <td id=\"T_d254d_row4_col10\" class=\"data row4 col10\" >4.898568</td>\n",
       "      <td id=\"T_d254d_row4_col11\" class=\"data row4 col11\" >2.852002</td>\n",
       "      <td id=\"T_d254d_row4_col12\" class=\"data row4 col12\" >2.850161</td>\n",
       "      <td id=\"T_d254d_row4_col13\" class=\"data row4 col13\" >0.068019</td>\n",
       "    </tr>\n",
       "  </tbody>\n",
       "</table>\n"
      ],
      "text/plain": [
       "<pandas.io.formats.style.Styler at 0x2c1ef6af1c0>"
      ]
     },
     "execution_count": 18,
     "metadata": {},
     "output_type": "execute_result"
    }
   ],
   "source": [
    "# Таблица средних значений признаков в группах по кластерам\n",
    "(\n",
    "    df\n",
    "    .groupby('cluster_km')\n",
    "    .agg('mean')\n",
    "    .style\n",
    "    .highlight_min(color='lightyellow', axis=0)\n",
    ")"
   ]
  },
  {
   "cell_type": "markdown",
   "metadata": {},
   "source": [
    "В результате кластеризации мы получили **5 кластеров клиентов**:\n",
    "* *Кластеры с метками 2 и 3*, наиболее склонные к оттоку (доля оттока 44,4% и 51,4% соответсвенно).\n",
    "* *Кластеры с метками 0 и 4*, наименее склонные к оттоку (доля оттока 2,8% и 6,8% соответсвенно).\n",
    "* *Кластер с меткой 1* со средним значением оттока (доля оттока 26,8%).\n",
    "\n",
    "Средние значения признаков в кластерах подтверждают выдвинутые ранее предположения. В наиболее склонных к оттоку *кластерах 2 и 3*:\n",
    "* клиенты, реже посещающие фитнес-центр и приносящие меньшую выручку от других услуг,\n",
    "* наименьшая доля клиентов, пришедших по акции «приведи друга», посещающих групповые занятия,\n",
    "* клиенты с более короткими абонементами, меньшим временем с момента первого посещения и меньшим сроком до окончания абонемента.\n",
    "* клиенты с меньшим средним возрастом.\n",
    "\n",
    "Визуализируем различия признаков между кластерами — построим столбцовые диаграммы для дискретных признаков и гистограммы для непрерывных признаков."
   ]
  },
  {
   "cell_type": "code",
   "execution_count": 19,
   "metadata": {
    "scrolled": false
   },
   "outputs": [
    {
     "data": {
      "image/png": "[encoded data removed]",
      "text/plain": [
       "<Figure size 1008x2016 with 8 Axes>"
      ]
     },
     "metadata": {
      "needs_background": "light"
     },
     "output_type": "display_data"
    }
   ],
   "source": [
    "# Список признаков для построения столбцовых диаграмм\n",
    "bar_labels = [\n",
    "    'gender',\n",
    "    'near_location',\n",
    "    'partner',\n",
    "    'promo_friends',\n",
    "    'phone',\n",
    "    'contract_period',\n",
    "    'group_visits'\n",
    "]\n",
    "\n",
    "# Строим сетку графиков\n",
    "fig, axs = plt.subplots(4, 2, figsize=(14, 28))\n",
    "\n",
    "# Выпрямляем набор осей для построения в 4 строки\n",
    "axs = axs.ravel()\n",
    "\n",
    "# Скрываем лишние восьмые оси\n",
    "axs[7].set_axis_off()\n",
    "\n",
    "# Для каждого признака строим гистограмму\n",
    "for i, label in enumerate(bar_labels):\n",
    "    report = df.pivot_table(index=label, columns='cluster_km', values='lifetime', aggfunc='count')\n",
    "    report.plot(ax=axs[i], kind='bar', stacked=True, alpha=0.5)\n",
    "    axs[i].set_title(label)\n",
    "    axs[i].set_ylabel('clients')\n",
    "    axs[i].tick_params(axis='x', labelrotation=0)\n",
    "    axs[i].legend(loc='upper right')\n",
    "plt.show()"
   ]
  },
  {
   "cell_type": "code",
   "execution_count": 20,
   "metadata": {
    "scrolled": false
   },
   "outputs": [
    {
     "data": {
      "image/png": "[encoded data removed]",
      "text/plain": [
       "<Figure size 1008x1440 with 6 Axes>"
      ]
     },
     "metadata": {
      "needs_background": "light"
     },
     "output_type": "display_data"
    }
   ],
   "source": [
    "# Список признаков для построения гистограмм\n",
    "hist_labels = [\n",
    "    'age',\n",
    "    'avg_additional_charges_total',\n",
    "    'month_to_end_contract',\n",
    "    'lifetime',\n",
    "    'avg_class_frequency_total',\n",
    "    'avg_class_frequency_current_month'\n",
    "]\n",
    "\n",
    "# Строим сетку графиков\n",
    "fig, axs = plt.subplots(3, 2, figsize=(14, 20))\n",
    "\n",
    "# Выпрямляем набор осей для построения в 3 строки\n",
    "axs = axs.ravel()\n",
    "\n",
    "# Для каждого признака строим гистограмму\n",
    "for i, label in enumerate(hist_labels):\n",
    "    (\n",
    "        df\n",
    "        .query('cluster_km == 0')[label]\n",
    "        .plot(\n",
    "            ax=axs[i],\n",
    "            kind='hist',\n",
    "            density=True,\n",
    "            alpha=0.25,\n",
    "            label='cluster 0',\n",
    "            legend=True)\n",
    "    )\n",
    "    (\n",
    "        df\n",
    "        .query('cluster_km == 1')[label]\n",
    "        .plot(\n",
    "            ax=axs[i],\n",
    "            kind='hist',\n",
    "            density=True,\n",
    "            alpha=0.25,\n",
    "            label='cluster 1',\n",
    "            legend=True)\n",
    "    )\n",
    "    (\n",
    "        df\n",
    "        .query('cluster_km == 2')[label]\n",
    "        .plot(\n",
    "            ax=axs[i],\n",
    "            kind='hist',\n",
    "            density=True,\n",
    "            alpha=0.25,\n",
    "            label='cluster 2',\n",
    "            legend=True)\n",
    "    )\n",
    "    (\n",
    "        df\n",
    "        .query('cluster_km == 3')[label]\n",
    "        .plot(\n",
    "            ax=axs[i],\n",
    "            kind='hist',\n",
    "            density=True,\n",
    "            alpha=0.25,\n",
    "            label='cluster 3',\n",
    "            legend=True)\n",
    "    )\n",
    "    (\n",
    "        df\n",
    "        .query('cluster_km == 4')[label]\n",
    "        .plot(\n",
    "            ax=axs[i],\n",
    "            kind='hist',\n",
    "            density=True,\n",
    "            alpha=0.25,\n",
    "            label='cluster 4',\n",
    "            legend=True)\n",
    "    )\n",
    "    axs[i].set_title(label)\n",
    "    axs[i].set_xlabel(label)\n",
    "plt.show()"
   ]
  },
  {
   "cell_type": "markdown",
   "metadata": {},
   "source": [
    "На визуализациях распределения признаков для кластеров можно отметить:\n",
    "* Клиенты, попавшие в склонный к оттоку *кластер 2*, не проживают и не работают рядом с фитнес-центром.\n",
    "* Клиенты, попавшие в склонный к оттоку *кластер 3*, не являются сотрудниками компании-партнёра клуба и не пришли по акции «приведи друга».\n",
    "* Клиенты, попавшие в склонный к оттоку *кластер 3*, преимущественно имеют абонементы со сроком 1 месяц, а клиенты, попавшие в *кластер 0* с наименьшей вероятностью оттока, имеют абонемент 12 месяцев.\n",
    "* Средний возраст клиентов, попавшие в *кластер 0* с наименьшей вероятностью оттока, выше, чем у клиентов, попавших в склонный к оттоку *кластер 3*.\n",
    "* Наибольший срок до окончания текущего действующего абонемента имеют клиенты, попавшие в наименее склонный к оттоку *кластер 0*.\n",
    "* В среднем клиенты, попавшие в *кластер 4* с меньшей вероятностью оттока, чаще посещают фитнес-центр, чем клиенты, попавшие в склонный к оттоку *кластер 3*."
   ]
  },
  {
   "cell_type": "markdown",
   "metadata": {},
   "source": [
    "**Вывод**\n",
    "<div style=\"background-color: #FBD603; width: 48px; height: 5px\">&nbsp;</div>\n",
    "\n",
    "Методом k-means мы выполнили кластеризацию клиентов сети фитнес-центров. Полученные 5 кластеров клиентов отличаются по средним значениям признаков и доле оттока.\n",
    "\n",
    "В таблице ниже **выделены** наиболее склонные к оттоку кластеры, указаны особенности клиентов в кластерах, исходя из средних значений признаков.\n",
    "\n",
    "|Кластер |% оттока |Особенности клиентов кластера|\n",
    "|:--\t |:--\t   |:-- |\n",
    "|0   \t |2,8      |максимальная длительность текущего абонемента|\n",
    "|1   \t |26,8     |отсутствует контактный телефон|\n",
    "|**2**   \t |**44,4**     |не проживают и не работают рядом с фитнес-центром, не пришли по акции «приведи друга», редко посещают групповые занятия, минимальная средняя суммарная выручка от других услуг, минимальное время с момента первого обращения|\n",
    "|**3**   \t |**51,4**     |редко являются сотрудниками компании-партнёра клуба, минимальная длительность текущего  абонемента, минимальная средняя суммарная выручка от других услуг, минимальное время с момента первого обращения, редко посещают фитнес-центр|\n",
    "|4   \t |6,8      |редко являются сотрудниками компании-партнёра клуба|"
   ]
  },
  {
   "cell_type": "markdown",
   "metadata": {},
   "source": [
    "## Выводы\n",
    "Для проведения исследования доступны данные 4000 клиентов сети фитнес-центров. На этапе предобработки данных мы исправили стиль заголовков и установили, что в данных нет пропущенных признаков.\n",
    "\n",
    "Анализ средних значений признаков показал:\n",
    "* Большинство клиентов проживают или работают рядом с фитнес-центров, половина клиентов — сотрудники компании-партнёра клуба, треть клиентов пришли по акции «приведи друга».\n",
    "* В среднем длительность абонемента около 5 месяцев, клиент посещает фитнес-центр 2 раза в неделю, 41% клиентов посещали групповых занятий, средняя суммарная выручка от других услуг фитнес-центра — 147.\n",
    "* 27% клиентов ушли в отток.\n",
    "\n",
    "Анализ средние значения признаков клиентов группы оттока по сравнению с клиентами группы, не попавших в отток, показал, что:\n",
    "* Наибольший отток наблюдается для абонементов длительностью 1 месяц, в первые 2 месяца с момента первого посещения, со сроком окончания 1 месяц.\n",
    "* Более склонны к оттоку клиенты, которые реже посещают фитнес-центр и приносят меньшую выручку от других услуг, не входящие в число сотрудников компании-партнёра клуба, не пришедшие по акции «приведи друга», не посещающие групповые занятия.\n",
    "\n",
    "На основе данных мы построили модель логистической регрессии, которая верно определила 83% клиентов, ушедших в отток, на валидационном выборке. Рабочая модель может быть полезна для определения склонных к оттоку клиентов по их поведению и исходным данным.\n",
    "\n",
    "Методом k-means мы выполнили кластеризацию клиентов и получили 5 кластеров клиентов, отличающихся по средним значениям признаков и доле оттока. Для каждого кластера сформулированы предложения стратегии взаимодействия с клиентами и их удержания:\n",
    "\n",
    "**Кластер 0** (2,8% оттока).\n",
    "Наиболее лояльные клиенты, активны, приносят наибольшую выручку за дополнительные услуги и имеют самые длительные абонементы. Для поддержания лояльности предлагать долгосрочные абонементы со скидкой, расширять спектр дополнительных услуг.\n",
    "\n",
    "**Кластер 1** (26,8% оттока).\n",
    "Клиенты, характеризующиеся средними показателями лояльности и активности. В кластер попали клиенты, не указавшие номер телефона. Для всех таких клиентов, не ушедших в отток, следует уточнить номер телефона для продолжения маркетинговых коммуникаций. \n",
    "\n",
    "**Кластер 2** (44,4% оттока).\n",
    "Нелояльные клиенты, приносят минимальную выручку за дополнительные услуги, недавно начали посещать фитнес-центр. Вероятно, клиенты недавно купили абонемент и еще не раскрыли все возможности. Следует предлагать групповые занятия, давать скидки на дополнительные услуги.\n",
    "\n",
    "**Кластер 3** (51,4% оттока).\n",
    "Клиенты, которые с наибольшей вероятностью попадут в отток. Недавно начали заниматься, имеют короткий абонемент, редко посещают занятия. Необходимо поддерживать контакт, выяснить, в чем причина редкого посещения. Предложить скидки на продление абонемента, дополнительные услуги.\n",
    "\n",
    "**Кластер 4** (6,8% оттока).\n",
    "Лояльные клиенты, самые активные и прибыльные. Отличаются от кластера 0 меньшим сроком абонемента и меньшим сроком до его окончания. Предложить перейти на долгосрочный абонемент, расширять спектр дополнительных услуг."
   ]
  }
 ],
 "metadata": {
  "ExecuteTimeLog": [
   {
    "duration": 996,
    "start_time": "2022-04-22T16:57:24.518Z"
   },
   {
    "duration": 27,
    "start_time": "2022-04-22T16:58:07.078Z"
   },
   {
    "duration": 22,
    "start_time": "2022-04-22T16:58:35.314Z"
   },
   {
    "duration": 12,
    "start_time": "2022-04-22T17:07:01.876Z"
   },
   {
    "duration": 6,
    "start_time": "2022-04-22T17:15:22.716Z"
   },
   {
    "duration": 3,
    "start_time": "2022-04-22T17:15:47.050Z"
   },
   {
    "duration": 5,
    "start_time": "2022-04-22T17:15:51.882Z"
   },
   {
    "duration": 92,
    "start_time": "2022-04-22T17:16:08.154Z"
   },
   {
    "duration": 738,
    "start_time": "2022-04-22T17:16:24.724Z"
   },
   {
    "duration": 21,
    "start_time": "2022-04-22T17:16:25.464Z"
   },
   {
    "duration": 22,
    "start_time": "2022-04-22T17:16:25.487Z"
   },
   {
    "duration": 31,
    "start_time": "2022-04-22T17:16:25.514Z"
   },
   {
    "duration": 3,
    "start_time": "2022-04-22T17:16:25.547Z"
   },
   {
    "duration": 6,
    "start_time": "2022-04-22T17:16:25.552Z"
   },
   {
    "duration": 4,
    "start_time": "2022-04-22T17:17:07.674Z"
   },
   {
    "duration": 14,
    "start_time": "2022-04-22T17:19:00.208Z"
   },
   {
    "duration": 12,
    "start_time": "2022-04-22T17:30:47.457Z"
   },
   {
    "duration": 59,
    "start_time": "2022-04-22T17:30:54.586Z"
   },
   {
    "duration": 4,
    "start_time": "2022-04-22T17:38:45.613Z"
   },
   {
    "duration": 15,
    "start_time": "2022-04-22T17:38:50.326Z"
   },
   {
    "duration": 16,
    "start_time": "2022-04-22T17:39:01.439Z"
   },
   {
    "duration": 86,
    "start_time": "2022-04-22T17:42:43.285Z"
   },
   {
    "duration": 26,
    "start_time": "2022-04-22T17:42:51.434Z"
   },
   {
    "duration": 31,
    "start_time": "2022-04-22T17:44:18.719Z"
   },
   {
    "duration": 24,
    "start_time": "2022-04-22T17:44:29.432Z"
   },
   {
    "duration": 24,
    "start_time": "2022-04-22T17:45:04.065Z"
   },
   {
    "duration": 16,
    "start_time": "2022-04-22T20:12:03.277Z"
   },
   {
    "duration": 16,
    "start_time": "2022-04-22T20:12:08.078Z"
   },
   {
    "duration": 149,
    "start_time": "2022-04-22T20:12:37.236Z"
   },
   {
    "duration": 137,
    "start_time": "2022-04-22T20:12:46.016Z"
   },
   {
    "duration": 710,
    "start_time": "2022-04-22T20:21:37.362Z"
   },
   {
    "duration": 17,
    "start_time": "2022-04-22T20:22:35.609Z"
   },
   {
    "duration": 762,
    "start_time": "2022-04-22T20:22:48.656Z"
   },
   {
    "duration": 423,
    "start_time": "2022-04-22T20:23:22.005Z"
   },
   {
    "duration": 757,
    "start_time": "2022-04-22T20:23:42.984Z"
   },
   {
    "duration": 2237,
    "start_time": "2022-04-22T20:24:40.540Z"
   },
   {
    "duration": 740,
    "start_time": "2022-04-22T20:25:44.233Z"
   },
   {
    "duration": 910,
    "start_time": "2022-04-22T20:26:16.565Z"
   },
   {
    "duration": 842,
    "start_time": "2022-04-22T20:28:05.582Z"
   },
   {
    "duration": 1284,
    "start_time": "2022-04-22T20:28:52.231Z"
   },
   {
    "duration": 1213,
    "start_time": "2022-04-22T20:29:18.025Z"
   },
   {
    "duration": 1276,
    "start_time": "2022-04-22T20:29:23.504Z"
   },
   {
    "duration": 868,
    "start_time": "2022-04-22T20:29:29.126Z"
   },
   {
    "duration": 895,
    "start_time": "2022-04-22T20:29:36.671Z"
   },
   {
    "duration": 858,
    "start_time": "2022-04-22T20:33:46.804Z"
   },
   {
    "duration": 935,
    "start_time": "2022-04-22T20:34:16.546Z"
   },
   {
    "duration": 928,
    "start_time": "2022-04-22T20:34:20.812Z"
   },
   {
    "duration": 830,
    "start_time": "2022-04-22T20:34:24.912Z"
   },
   {
    "duration": 905,
    "start_time": "2022-04-22T20:34:32.833Z"
   },
   {
    "duration": 862,
    "start_time": "2022-04-22T20:34:44.625Z"
   },
   {
    "duration": 913,
    "start_time": "2022-04-22T20:34:48.469Z"
   },
   {
    "duration": 138,
    "start_time": "2022-04-22T20:44:50.281Z"
   },
   {
    "duration": 252,
    "start_time": "2022-04-22T20:45:00.499Z"
   },
   {
    "duration": 264,
    "start_time": "2022-04-22T20:45:10.774Z"
   },
   {
    "duration": 176,
    "start_time": "2022-04-22T20:45:17.082Z"
   },
   {
    "duration": 181,
    "start_time": "2022-04-22T20:45:24.113Z"
   },
   {
    "duration": 139,
    "start_time": "2022-04-22T20:45:33.221Z"
   },
   {
    "duration": 194,
    "start_time": "2022-04-22T20:45:36.098Z"
   },
   {
    "duration": 276,
    "start_time": "2022-04-22T20:46:44.345Z"
   },
   {
    "duration": 12,
    "start_time": "2022-04-22T20:46:55.255Z"
   },
   {
    "duration": 111,
    "start_time": "2022-04-22T20:48:06.621Z"
   },
   {
    "duration": 108,
    "start_time": "2022-04-22T20:48:22.422Z"
   },
   {
    "duration": 129,
    "start_time": "2022-04-22T20:48:48.751Z"
   },
   {
    "duration": 16,
    "start_time": "2022-04-22T20:50:05.111Z"
   },
   {
    "duration": 129,
    "start_time": "2022-04-22T20:52:37.232Z"
   },
   {
    "duration": 142,
    "start_time": "2022-04-22T20:52:58.556Z"
   },
   {
    "duration": 145,
    "start_time": "2022-04-22T20:53:10.747Z"
   },
   {
    "duration": 352,
    "start_time": "2022-04-22T20:55:00.365Z"
   },
   {
    "duration": 1075,
    "start_time": "2022-04-22T20:55:09.293Z"
   },
   {
    "duration": 1156,
    "start_time": "2022-04-22T20:55:22.675Z"
   },
   {
    "duration": 157,
    "start_time": "2022-04-22T20:58:15.294Z"
   },
   {
    "duration": 603,
    "start_time": "2022-04-22T20:58:58.049Z"
   },
   {
    "duration": 186,
    "start_time": "2022-04-22T20:59:14.160Z"
   },
   {
    "duration": 222,
    "start_time": "2022-04-22T20:59:22.997Z"
   },
   {
    "duration": 146,
    "start_time": "2022-04-22T20:59:35.924Z"
   },
   {
    "duration": 220,
    "start_time": "2022-04-22T20:59:59.703Z"
   },
   {
    "duration": 152,
    "start_time": "2022-04-22T21:01:14.236Z"
   },
   {
    "duration": 172,
    "start_time": "2022-04-22T21:01:51.436Z"
   },
   {
    "duration": 149,
    "start_time": "2022-04-22T21:02:13.580Z"
   },
   {
    "duration": 170,
    "start_time": "2022-04-22T21:02:21.426Z"
   },
   {
    "duration": 174,
    "start_time": "2022-04-22T21:02:40.442Z"
   },
   {
    "duration": 180,
    "start_time": "2022-04-22T21:02:46.646Z"
   },
   {
    "duration": 172,
    "start_time": "2022-04-22T21:02:59.789Z"
   },
   {
    "duration": 177,
    "start_time": "2022-04-22T21:03:03.394Z"
   },
   {
    "duration": 294,
    "start_time": "2022-04-22T21:04:12.324Z"
   },
   {
    "duration": 1321,
    "start_time": "2022-04-22T21:07:46.883Z"
   },
   {
    "duration": 1736,
    "start_time": "2022-04-22T21:10:00.387Z"
   },
   {
    "duration": 889,
    "start_time": "2022-04-22T21:10:42.429Z"
   },
   {
    "duration": 252,
    "start_time": "2022-04-22T21:12:06.323Z"
   },
   {
    "duration": 2001,
    "start_time": "2022-04-22T21:12:17.868Z"
   },
   {
    "duration": 62,
    "start_time": "2022-04-22T21:18:20.081Z"
   },
   {
    "duration": 628,
    "start_time": "2022-04-22T21:18:30.950Z"
   },
   {
    "duration": 1988,
    "start_time": "2022-04-22T21:19:03.625Z"
   },
   {
    "duration": 287,
    "start_time": "2022-04-22T21:19:17.047Z"
   },
   {
    "duration": 1356,
    "start_time": "2022-04-22T21:20:02.401Z"
   },
   {
    "duration": 1354,
    "start_time": "2022-04-22T21:20:34.720Z"
   },
   {
    "duration": 1461,
    "start_time": "2022-04-22T21:20:43.152Z"
   },
   {
    "duration": 1472,
    "start_time": "2022-04-22T21:20:49.815Z"
   },
   {
    "duration": 1445,
    "start_time": "2022-04-22T21:20:55.069Z"
   },
   {
    "duration": 1351,
    "start_time": "2022-04-22T21:21:04.734Z"
   },
   {
    "duration": 1468,
    "start_time": "2022-04-22T21:21:16.646Z"
   },
   {
    "duration": 1310,
    "start_time": "2022-04-23T21:02:23.203Z"
   },
   {
    "duration": 18,
    "start_time": "2022-04-23T21:02:24.515Z"
   },
   {
    "duration": 16,
    "start_time": "2022-04-23T21:02:24.535Z"
   },
   {
    "duration": 13,
    "start_time": "2022-04-23T21:02:24.553Z"
   },
   {
    "duration": 5,
    "start_time": "2022-04-23T21:02:24.568Z"
   },
   {
    "duration": 8,
    "start_time": "2022-04-23T21:02:24.592Z"
   },
   {
    "duration": 43,
    "start_time": "2022-04-23T21:02:24.602Z"
   },
   {
    "duration": 86,
    "start_time": "2022-04-23T21:02:24.648Z"
   },
   {
    "duration": 864,
    "start_time": "2022-04-23T21:02:24.736Z"
   },
   {
    "duration": 1455,
    "start_time": "2022-04-23T21:02:25.602Z"
   },
   {
    "duration": 1451,
    "start_time": "2022-04-23T21:02:27.058Z"
   },
   {
    "duration": 12,
    "start_time": "2022-04-23T21:03:36.935Z"
   },
   {
    "duration": 4,
    "start_time": "2022-04-23T21:04:09.947Z"
   },
   {
    "duration": 13,
    "start_time": "2022-04-23T21:04:14.397Z"
   },
   {
    "duration": 4,
    "start_time": "2022-04-23T21:04:36.180Z"
   },
   {
    "duration": 13,
    "start_time": "2022-04-23T21:04:45.258Z"
   },
   {
    "duration": 7,
    "start_time": "2022-04-23T21:04:51.027Z"
   },
   {
    "duration": 4,
    "start_time": "2022-04-23T21:05:38.322Z"
   },
   {
    "duration": 465,
    "start_time": "2022-04-23T21:14:10.938Z"
   },
   {
    "duration": 6,
    "start_time": "2022-04-23T21:14:16.625Z"
   },
   {
    "duration": 113,
    "start_time": "2022-04-23T21:17:24.500Z"
   },
   {
    "duration": 122,
    "start_time": "2022-04-23T21:17:31.072Z"
   },
   {
    "duration": 56,
    "start_time": "2022-04-23T21:17:50.938Z"
   },
   {
    "duration": 107,
    "start_time": "2022-04-23T21:17:57.293Z"
   },
   {
    "duration": 25,
    "start_time": "2022-04-23T21:18:15.350Z"
   },
   {
    "duration": 684,
    "start_time": "2022-04-23T21:21:33.343Z"
   },
   {
    "duration": 7,
    "start_time": "2022-04-23T21:25:23.723Z"
   },
   {
    "duration": 3,
    "start_time": "2022-04-23T21:29:11.042Z"
   },
   {
    "duration": 190,
    "start_time": "2022-04-23T21:33:21.504Z"
   },
   {
    "duration": 188,
    "start_time": "2022-04-23T21:33:52.805Z"
   },
   {
    "duration": 759,
    "start_time": "2022-04-23T21:35:41.458Z"
   },
   {
    "duration": 711,
    "start_time": "2022-04-23T21:35:52.415Z"
   },
   {
    "duration": 3,
    "start_time": "2022-04-23T21:39:48.350Z"
   },
   {
    "duration": 349,
    "start_time": "2022-04-23T21:40:01.674Z"
   },
   {
    "duration": 3,
    "start_time": "2022-04-23T21:41:20.168Z"
   },
   {
    "duration": 14,
    "start_time": "2022-04-23T21:44:26.389Z"
   },
   {
    "duration": 1546,
    "start_time": "2022-04-23T21:50:44.246Z"
   },
   {
    "duration": 18,
    "start_time": "2022-04-23T21:50:45.794Z"
   },
   {
    "duration": 16,
    "start_time": "2022-04-23T21:50:45.814Z"
   },
   {
    "duration": 16,
    "start_time": "2022-04-23T21:50:45.832Z"
   },
   {
    "duration": 5,
    "start_time": "2022-04-23T21:50:45.849Z"
   },
   {
    "duration": 18,
    "start_time": "2022-04-23T21:50:45.856Z"
   },
   {
    "duration": 57,
    "start_time": "2022-04-23T21:50:45.876Z"
   },
   {
    "duration": 80,
    "start_time": "2022-04-23T21:50:45.935Z"
   },
   {
    "duration": 940,
    "start_time": "2022-04-23T21:50:46.016Z"
   },
   {
    "duration": 1348,
    "start_time": "2022-04-23T21:50:46.959Z"
   },
   {
    "duration": 1565,
    "start_time": "2022-04-23T21:50:48.308Z"
   },
   {
    "duration": 14,
    "start_time": "2022-04-23T21:50:49.875Z"
   },
   {
    "duration": 22,
    "start_time": "2022-04-23T21:50:49.890Z"
   },
   {
    "duration": 531,
    "start_time": "2022-04-23T21:50:49.914Z"
   },
   {
    "duration": 5,
    "start_time": "2022-04-23T22:02:02.118Z"
   },
   {
    "duration": 12,
    "start_time": "2022-04-23T22:03:01.873Z"
   },
   {
    "duration": 11,
    "start_time": "2022-04-23T22:04:22.738Z"
   },
   {
    "duration": 115,
    "start_time": "2022-04-23T22:05:52.779Z"
   },
   {
    "duration": 559,
    "start_time": "2022-04-23T22:06:06.377Z"
   },
   {
    "duration": 108783,
    "start_time": "2022-04-23T22:10:36.685Z"
   },
   {
    "duration": 20,
    "start_time": "2022-04-23T22:15:46.670Z"
   },
   {
    "duration": 1423,
    "start_time": "2022-04-23T22:19:43.373Z"
   },
   {
    "duration": 1420,
    "start_time": "2022-04-23T22:20:07.378Z"
   },
   {
    "duration": 14,
    "start_time": "2022-04-23T22:20:14.196Z"
   },
   {
    "duration": 29,
    "start_time": "2022-04-23T22:22:12.362Z"
   },
   {
    "duration": 3083,
    "start_time": "2022-04-24T21:19:28.227Z"
   },
   {
    "duration": 69,
    "start_time": "2022-04-24T21:19:31.313Z"
   },
   {
    "duration": 25,
    "start_time": "2022-04-24T21:19:31.385Z"
   },
   {
    "duration": 30,
    "start_time": "2022-04-24T21:19:31.413Z"
   },
   {
    "duration": 14,
    "start_time": "2022-04-24T21:19:31.446Z"
   },
   {
    "duration": 13,
    "start_time": "2022-04-24T21:19:31.463Z"
   },
   {
    "duration": 103,
    "start_time": "2022-04-24T21:19:31.478Z"
   },
   {
    "duration": 160,
    "start_time": "2022-04-24T21:19:31.584Z"
   },
   {
    "duration": 1840,
    "start_time": "2022-04-24T21:19:31.747Z"
   },
   {
    "duration": 2569,
    "start_time": "2022-04-24T21:19:33.592Z"
   },
   {
    "duration": 2522,
    "start_time": "2022-04-24T21:19:36.163Z"
   },
   {
    "duration": 20,
    "start_time": "2022-04-24T21:19:38.688Z"
   },
   {
    "duration": 129,
    "start_time": "2022-04-24T21:19:38.710Z"
   },
   {
    "duration": 643,
    "start_time": "2022-04-24T21:19:38.848Z"
   },
   {
    "duration": 177669,
    "start_time": "2022-04-24T21:19:39.494Z"
   },
   {
    "duration": 1358,
    "start_time": "2022-04-24T21:22:37.166Z"
   },
   {
    "duration": 50,
    "start_time": "2022-04-24T21:22:38.528Z"
   },
   {
    "duration": 26,
    "start_time": "2022-04-24T21:42:48.112Z"
   },
   {
    "duration": 81,
    "start_time": "2022-04-24T21:42:51.761Z"
   },
   {
    "duration": 549,
    "start_time": "2022-04-24T21:43:00.966Z"
   },
   {
    "duration": 204565,
    "start_time": "2022-04-24T21:45:18.301Z"
   },
   {
    "duration": 173950,
    "start_time": "2022-04-24T21:50:39.959Z"
   },
   {
    "duration": 1763,
    "start_time": "2022-04-25T08:14:15.650Z"
   },
   {
    "duration": 35,
    "start_time": "2022-04-25T08:14:17.415Z"
   },
   {
    "duration": 15,
    "start_time": "2022-04-25T08:14:17.452Z"
   },
   {
    "duration": 11,
    "start_time": "2022-04-25T08:14:17.469Z"
   },
   {
    "duration": 6,
    "start_time": "2022-04-25T08:14:17.482Z"
   },
   {
    "duration": 16,
    "start_time": "2022-04-25T08:14:17.490Z"
   },
   {
    "duration": 54,
    "start_time": "2022-04-25T08:14:17.508Z"
   },
   {
    "duration": 97,
    "start_time": "2022-04-25T08:14:17.564Z"
   },
   {
    "duration": 1197,
    "start_time": "2022-04-25T08:14:17.662Z"
   },
   {
    "duration": 1680,
    "start_time": "2022-04-25T08:14:18.862Z"
   },
   {
    "duration": 1881,
    "start_time": "2022-04-25T08:14:20.544Z"
   },
   {
    "duration": 17,
    "start_time": "2022-04-25T08:14:22.426Z"
   },
   {
    "duration": 20,
    "start_time": "2022-04-25T08:14:22.445Z"
   },
   {
    "duration": 320,
    "start_time": "2022-04-25T08:14:22.467Z"
   },
   {
    "duration": 97113,
    "start_time": "2022-04-25T08:14:22.789Z"
   },
   {
    "duration": 1006,
    "start_time": "2022-04-25T08:15:59.904Z"
   },
   {
    "duration": 104,
    "start_time": "2022-04-25T08:16:00.916Z"
   },
   {
    "duration": 27,
    "start_time": "2022-04-25T08:16:01.023Z"
   },
   {
    "duration": 94,
    "start_time": "2022-04-25T08:16:51.244Z"
   },
   {
    "duration": 122,
    "start_time": "2022-04-25T08:17:21.994Z"
   },
   {
    "duration": 25,
    "start_time": "2022-04-25T08:17:39.289Z"
   },
   {
    "duration": 160,
    "start_time": "2022-04-25T08:17:49.946Z"
   },
   {
    "duration": 139,
    "start_time": "2022-04-25T08:19:08.513Z"
   },
   {
    "duration": 1296,
    "start_time": "2022-04-25T08:22:21.838Z"
   },
   {
    "duration": 1628,
    "start_time": "2022-04-25T08:22:37.933Z"
   },
   {
    "duration": 1674,
    "start_time": "2022-04-25T09:29:45.211Z"
   },
   {
    "duration": 1533,
    "start_time": "2022-04-25T09:31:57.785Z"
   },
   {
    "duration": 1650,
    "start_time": "2022-04-25T09:32:18.530Z"
   },
   {
    "duration": 1872,
    "start_time": "2022-04-25T09:33:21.072Z"
   },
   {
    "duration": 1085,
    "start_time": "2022-04-25T09:38:10.305Z"
   },
   {
    "duration": 176,
    "start_time": "2022-04-25T09:38:49.795Z"
   },
   {
    "duration": 992,
    "start_time": "2022-04-25T09:39:14.455Z"
   },
   {
    "duration": 265,
    "start_time": "2022-04-25T09:39:32.427Z"
   },
   {
    "duration": 1000,
    "start_time": "2022-04-25T09:40:05.518Z"
   },
   {
    "duration": 1441,
    "start_time": "2022-04-25T09:40:36.240Z"
   },
   {
    "duration": 93290,
    "start_time": "2022-04-25T10:28:36.352Z"
   },
   {
    "duration": 2241,
    "start_time": "2022-04-25T11:35:35.579Z"
   },
   {
    "duration": 36,
    "start_time": "2022-04-25T11:35:37.822Z"
   },
   {
    "duration": 16,
    "start_time": "2022-04-25T11:35:37.859Z"
   },
   {
    "duration": 11,
    "start_time": "2022-04-25T11:35:37.878Z"
   },
   {
    "duration": 4,
    "start_time": "2022-04-25T11:35:37.891Z"
   },
   {
    "duration": 8,
    "start_time": "2022-04-25T11:35:37.901Z"
   },
   {
    "duration": 40,
    "start_time": "2022-04-25T11:35:37.910Z"
   },
   {
    "duration": 76,
    "start_time": "2022-04-25T11:35:37.952Z"
   },
   {
    "duration": 940,
    "start_time": "2022-04-25T11:35:38.030Z"
   },
   {
    "duration": 1014,
    "start_time": "2022-04-25T11:35:38.973Z"
   },
   {
    "duration": 1343,
    "start_time": "2022-04-25T11:35:39.989Z"
   },
   {
    "duration": 13,
    "start_time": "2022-04-25T11:35:41.334Z"
   },
   {
    "duration": 19,
    "start_time": "2022-04-25T11:35:41.349Z"
   },
   {
    "duration": 292,
    "start_time": "2022-04-25T11:35:41.370Z"
   },
   {
    "duration": 100855,
    "start_time": "2022-04-25T11:35:41.663Z"
   },
   {
    "duration": 1581,
    "start_time": "2022-04-25T11:37:22.520Z"
   },
   {
    "duration": 27,
    "start_time": "2022-04-25T11:37:24.103Z"
   },
   {
    "duration": 1015,
    "start_time": "2022-04-25T11:37:24.132Z"
   },
   {
    "duration": 2392,
    "start_time": "2022-04-25T11:37:25.149Z"
   },
   {
    "duration": 1836,
    "start_time": "2022-04-26T08:45:34.809Z"
   },
   {
    "duration": 26,
    "start_time": "2022-04-26T08:45:36.647Z"
   },
   {
    "duration": 16,
    "start_time": "2022-04-26T08:45:36.675Z"
   },
   {
    "duration": 12,
    "start_time": "2022-04-26T08:45:36.694Z"
   },
   {
    "duration": 5,
    "start_time": "2022-04-26T08:45:36.708Z"
   },
   {
    "duration": 12,
    "start_time": "2022-04-26T08:45:36.715Z"
   },
   {
    "duration": 54,
    "start_time": "2022-04-26T08:45:36.729Z"
   },
   {
    "duration": 72,
    "start_time": "2022-04-26T08:45:36.785Z"
   },
   {
    "duration": 114,
    "start_time": "2022-04-26T08:45:42.997Z"
   },
   {
    "duration": 15,
    "start_time": "2022-04-26T08:45:49.313Z"
   },
   {
    "duration": 16,
    "start_time": "2022-04-26T08:45:58.261Z"
   },
   {
    "duration": 16,
    "start_time": "2022-04-26T08:46:04.581Z"
   },
   {
    "duration": 42,
    "start_time": "2022-04-26T08:46:12.203Z"
   },
   {
    "duration": 1705,
    "start_time": "2022-04-26T08:49:34.092Z"
   },
   {
    "duration": 852,
    "start_time": "2022-04-26T08:51:57.082Z"
   },
   {
    "duration": 784,
    "start_time": "2022-04-26T08:52:01.388Z"
   },
   {
    "duration": 140,
    "start_time": "2022-04-26T09:00:01.217Z"
   },
   {
    "duration": 1276,
    "start_time": "2022-04-26T09:00:13.149Z"
   },
   {
    "duration": 1605,
    "start_time": "2022-04-26T09:00:44.047Z"
   },
   {
    "duration": 4,
    "start_time": "2022-04-26T09:01:09.975Z"
   },
   {
    "duration": 4,
    "start_time": "2022-04-26T09:01:29.419Z"
   },
   {
    "duration": 138,
    "start_time": "2022-04-26T09:01:38.337Z"
   },
   {
    "duration": 1123,
    "start_time": "2022-04-26T09:01:42.379Z"
   },
   {
    "duration": 1022,
    "start_time": "2022-04-26T09:02:16.124Z"
   },
   {
    "duration": 1155,
    "start_time": "2022-04-26T09:02:54.001Z"
   },
   {
    "duration": 1663,
    "start_time": "2022-04-26T09:03:29.910Z"
   },
   {
    "duration": 416,
    "start_time": "2022-04-26T09:03:45.810Z"
   },
   {
    "duration": 336,
    "start_time": "2022-04-26T09:04:03.929Z"
   },
   {
    "duration": 436,
    "start_time": "2022-04-26T09:04:08.184Z"
   },
   {
    "duration": 342,
    "start_time": "2022-04-26T09:04:15.217Z"
   },
   {
    "duration": 105,
    "start_time": "2022-04-26T09:04:22.504Z"
   },
   {
    "duration": 340,
    "start_time": "2022-04-26T09:04:28.450Z"
   },
   {
    "duration": 486,
    "start_time": "2022-04-26T09:04:49.613Z"
   },
   {
    "duration": 460,
    "start_time": "2022-04-26T09:05:23.025Z"
   },
   {
    "duration": 503,
    "start_time": "2022-04-26T09:05:39.193Z"
   },
   {
    "duration": 344,
    "start_time": "2022-04-26T09:05:45.781Z"
   },
   {
    "duration": 335,
    "start_time": "2022-04-26T09:06:21.992Z"
   },
   {
    "duration": 773,
    "start_time": "2022-04-26T09:08:58.993Z"
   },
   {
    "duration": 5,
    "start_time": "2022-04-26T09:09:57.412Z"
   },
   {
    "duration": 2335,
    "start_time": "2022-04-26T09:10:03.911Z"
   },
   {
    "duration": 1710,
    "start_time": "2022-04-26T09:10:18.737Z"
   },
   {
    "duration": 7,
    "start_time": "2022-04-26T09:10:38.701Z"
   },
   {
    "duration": 2042,
    "start_time": "2022-04-26T09:10:54.704Z"
   },
   {
    "duration": 1168,
    "start_time": "2022-04-26T09:11:57.354Z"
   },
   {
    "duration": 1642,
    "start_time": "2022-04-26T09:12:12.378Z"
   },
   {
    "duration": 1283,
    "start_time": "2022-04-26T09:12:25.363Z"
   },
   {
    "duration": 951,
    "start_time": "2022-04-26T09:12:36.090Z"
   },
   {
    "duration": 771,
    "start_time": "2022-04-26T09:12:42.687Z"
   },
   {
    "duration": 571,
    "start_time": "2022-04-26T09:13:02.618Z"
   },
   {
    "duration": 906,
    "start_time": "2022-04-26T09:13:07.794Z"
   },
   {
    "duration": 606,
    "start_time": "2022-04-26T09:13:21.448Z"
   },
   {
    "duration": 605,
    "start_time": "2022-04-26T09:13:35.668Z"
   },
   {
    "duration": 602,
    "start_time": "2022-04-26T09:13:48.555Z"
   },
   {
    "duration": 1080,
    "start_time": "2022-04-26T09:13:58.306Z"
   },
   {
    "duration": 607,
    "start_time": "2022-04-26T09:14:38.657Z"
   },
   {
    "duration": 688,
    "start_time": "2022-04-26T09:14:45.082Z"
   },
   {
    "duration": 1345,
    "start_time": "2022-04-26T09:14:50.577Z"
   },
   {
    "duration": 901,
    "start_time": "2022-04-26T09:15:14.799Z"
   },
   {
    "duration": 698,
    "start_time": "2022-04-26T09:16:25.734Z"
   },
   {
    "duration": 851,
    "start_time": "2022-04-26T09:16:35.113Z"
   },
   {
    "duration": 927,
    "start_time": "2022-04-26T09:16:44.837Z"
   },
   {
    "duration": 1289,
    "start_time": "2022-04-26T09:16:56.409Z"
   },
   {
    "duration": 1040,
    "start_time": "2022-04-26T09:17:25.672Z"
   },
   {
    "duration": 661,
    "start_time": "2022-04-26T09:17:33.996Z"
   },
   {
    "duration": 673,
    "start_time": "2022-04-26T09:18:36.691Z"
   },
   {
    "duration": 838,
    "start_time": "2022-04-26T09:18:42.403Z"
   },
   {
    "duration": 650,
    "start_time": "2022-04-26T09:18:57.618Z"
   },
   {
    "duration": 694,
    "start_time": "2022-04-26T09:19:09.486Z"
   },
   {
    "duration": 911,
    "start_time": "2022-04-26T09:20:11.836Z"
   },
   {
    "duration": 852,
    "start_time": "2022-04-26T09:20:20.735Z"
   },
   {
    "duration": 693,
    "start_time": "2022-04-26T09:20:41.145Z"
   },
   {
    "duration": 899,
    "start_time": "2022-04-26T09:20:46.335Z"
   },
   {
    "duration": 1073,
    "start_time": "2022-04-26T09:21:37.302Z"
   },
   {
    "duration": 887,
    "start_time": "2022-04-26T09:21:42.808Z"
   },
   {
    "duration": 1309,
    "start_time": "2022-04-26T09:25:47.498Z"
   },
   {
    "duration": 1157,
    "start_time": "2022-04-26T09:25:59.275Z"
   },
   {
    "duration": 612,
    "start_time": "2022-04-26T09:27:23.480Z"
   },
   {
    "duration": 604,
    "start_time": "2022-04-26T09:27:34.189Z"
   },
   {
    "duration": 1136,
    "start_time": "2022-04-26T09:27:39.169Z"
   },
   {
    "duration": 604,
    "start_time": "2022-04-26T09:28:21.288Z"
   },
   {
    "duration": 910,
    "start_time": "2022-04-26T09:28:30.580Z"
   },
   {
    "duration": 1408,
    "start_time": "2022-04-26T09:28:52.721Z"
   },
   {
    "duration": 897,
    "start_time": "2022-04-26T09:29:04.231Z"
   },
   {
    "duration": 933,
    "start_time": "2022-04-26T09:29:16.232Z"
   },
   {
    "duration": 1029,
    "start_time": "2022-04-26T09:29:57.792Z"
   },
   {
    "duration": 858,
    "start_time": "2022-04-26T09:31:07.437Z"
   },
   {
    "duration": 843,
    "start_time": "2022-04-26T09:31:15.809Z"
   },
   {
    "duration": 999,
    "start_time": "2022-04-26T09:31:25.146Z"
   },
   {
    "duration": 5,
    "start_time": "2022-04-26T09:34:52.163Z"
   },
   {
    "duration": 54,
    "start_time": "2022-04-26T09:34:52.170Z"
   },
   {
    "duration": 17,
    "start_time": "2022-04-26T09:34:52.226Z"
   },
   {
    "duration": 27,
    "start_time": "2022-04-26T09:34:52.245Z"
   },
   {
    "duration": 10,
    "start_time": "2022-04-26T09:34:52.275Z"
   },
   {
    "duration": 21,
    "start_time": "2022-04-26T09:34:52.287Z"
   },
   {
    "duration": 44,
    "start_time": "2022-04-26T09:34:52.310Z"
   },
   {
    "duration": 16,
    "start_time": "2022-04-26T09:34:52.356Z"
   },
   {
    "duration": 880,
    "start_time": "2022-04-26T09:34:52.374Z"
   },
   {
    "duration": 1076,
    "start_time": "2022-04-26T09:34:53.256Z"
   },
   {
    "duration": 1612,
    "start_time": "2022-04-26T09:34:54.334Z"
   },
   {
    "duration": 19,
    "start_time": "2022-04-26T09:35:19.495Z"
   },
   {
    "duration": 174,
    "start_time": "2022-04-26T13:47:25.318Z"
   },
   {
    "duration": 1229,
    "start_time": "2022-04-26T13:47:37.780Z"
   },
   {
    "duration": 1366,
    "start_time": "2022-04-26T13:48:01.594Z"
   },
   {
    "duration": 1635,
    "start_time": "2022-04-26T13:48:26.757Z"
   },
   {
    "duration": 1272,
    "start_time": "2022-04-26T13:48:40.677Z"
   },
   {
    "duration": 1427,
    "start_time": "2022-04-26T13:48:51.486Z"
   },
   {
    "duration": 1622,
    "start_time": "2022-04-26T13:49:26.423Z"
   },
   {
    "duration": 1670,
    "start_time": "2022-04-26T13:49:53.221Z"
   },
   {
    "duration": 1783,
    "start_time": "2022-04-26T13:50:58.565Z"
   },
   {
    "duration": 857,
    "start_time": "2022-04-26T13:51:12.460Z"
   },
   {
    "duration": 5,
    "start_time": "2022-04-26T13:57:13.720Z"
   },
   {
    "duration": 24,
    "start_time": "2022-04-26T13:57:48.662Z"
   },
   {
    "duration": 16,
    "start_time": "2022-04-26T13:57:58.366Z"
   },
   {
    "duration": 394,
    "start_time": "2022-04-26T13:58:23.501Z"
   },
   {
    "duration": 318,
    "start_time": "2022-04-26T13:58:31.566Z"
   },
   {
    "duration": 4,
    "start_time": "2022-04-26T14:03:29.608Z"
   },
   {
    "duration": 6,
    "start_time": "2022-04-26T14:03:46.385Z"
   },
   {
    "duration": 17,
    "start_time": "2022-04-26T14:03:47.996Z"
   },
   {
    "duration": 321,
    "start_time": "2022-04-26T14:03:50.280Z"
   },
   {
    "duration": 21,
    "start_time": "2022-04-26T14:08:37.438Z"
   },
   {
    "duration": 11,
    "start_time": "2022-04-26T14:08:49.003Z"
   },
   {
    "duration": 5,
    "start_time": "2022-04-26T14:09:06.297Z"
   },
   {
    "duration": 27,
    "start_time": "2022-04-26T14:09:06.304Z"
   },
   {
    "duration": 12,
    "start_time": "2022-04-26T14:09:06.419Z"
   },
   {
    "duration": 15,
    "start_time": "2022-04-26T14:09:06.433Z"
   },
   {
    "duration": 5,
    "start_time": "2022-04-26T14:09:06.454Z"
   },
   {
    "duration": 60,
    "start_time": "2022-04-26T14:09:06.461Z"
   },
   {
    "duration": 42,
    "start_time": "2022-04-26T14:09:06.817Z"
   },
   {
    "duration": 20,
    "start_time": "2022-04-26T14:09:06.861Z"
   },
   {
    "duration": 996,
    "start_time": "2022-04-26T14:09:06.918Z"
   },
   {
    "duration": 1323,
    "start_time": "2022-04-26T14:09:07.916Z"
   },
   {
    "duration": 1924,
    "start_time": "2022-04-26T14:09:09.242Z"
   },
   {
    "duration": 16,
    "start_time": "2022-04-26T14:09:11.168Z"
   },
   {
    "duration": 4,
    "start_time": "2022-04-26T14:09:11.187Z"
   },
   {
    "duration": 25,
    "start_time": "2022-04-26T14:09:11.192Z"
   },
   {
    "duration": 364,
    "start_time": "2022-04-26T14:09:11.219Z"
   },
   {
    "duration": 123769,
    "start_time": "2022-04-26T14:09:11.585Z"
   },
   {
    "duration": 2006,
    "start_time": "2022-04-26T14:11:15.356Z"
   },
   {
    "duration": 37,
    "start_time": "2022-04-26T14:11:17.364Z"
   },
   {
    "duration": 13,
    "start_time": "2022-04-26T14:12:15.531Z"
   },
   {
    "duration": 178,
    "start_time": "2022-04-26T14:12:41.042Z"
   },
   {
    "duration": 1188,
    "start_time": "2022-04-26T14:13:17.745Z"
   },
   {
    "duration": 2099,
    "start_time": "2022-04-26T14:13:45.473Z"
   },
   {
    "duration": 1072,
    "start_time": "2022-04-26T14:13:58.120Z"
   },
   {
    "duration": 1302,
    "start_time": "2022-04-26T14:15:00.280Z"
   },
   {
    "duration": 2272,
    "start_time": "2022-04-26T14:16:49.172Z"
   },
   {
    "duration": 1298,
    "start_time": "2022-04-26T14:17:02.134Z"
   },
   {
    "duration": 1851,
    "start_time": "2022-04-26T14:20:43.009Z"
   },
   {
    "duration": 3873,
    "start_time": "2022-04-26T14:21:35.516Z"
   },
   {
    "duration": 1694,
    "start_time": "2022-04-26T14:23:10.192Z"
   },
   {
    "duration": 18,
    "start_time": "2022-04-26T14:23:11.888Z"
   },
   {
    "duration": 19,
    "start_time": "2022-04-26T14:23:11.908Z"
   },
   {
    "duration": 25,
    "start_time": "2022-04-26T14:23:11.930Z"
   },
   {
    "duration": 7,
    "start_time": "2022-04-26T14:23:11.957Z"
   },
   {
    "duration": 24,
    "start_time": "2022-04-26T14:23:11.966Z"
   },
   {
    "duration": 68,
    "start_time": "2022-04-26T14:23:11.992Z"
   },
   {
    "duration": 93,
    "start_time": "2022-04-26T14:23:12.062Z"
   },
   {
    "duration": 1653,
    "start_time": "2022-04-26T14:23:12.157Z"
   },
   {
    "duration": 1157,
    "start_time": "2022-04-26T14:23:13.814Z"
   },
   {
    "duration": 1362,
    "start_time": "2022-04-26T14:23:14.973Z"
   },
   {
    "duration": 23,
    "start_time": "2022-04-26T14:23:16.336Z"
   },
   {
    "duration": 4,
    "start_time": "2022-04-26T14:23:16.361Z"
   },
   {
    "duration": 35,
    "start_time": "2022-04-26T14:23:16.367Z"
   },
   {
    "duration": 364,
    "start_time": "2022-04-26T14:23:16.404Z"
   },
   {
    "duration": 116338,
    "start_time": "2022-04-26T14:23:16.769Z"
   },
   {
    "duration": 762,
    "start_time": "2022-04-26T14:25:13.109Z"
   },
   {
    "duration": 108,
    "start_time": "2022-04-26T14:25:13.873Z"
   },
   {
    "duration": 1571,
    "start_time": "2022-04-26T14:25:13.983Z"
   },
   {
    "duration": 1820,
    "start_time": "2022-04-26T14:25:15.557Z"
   },
   {
    "duration": 2177,
    "start_time": "2022-04-26T14:27:23.852Z"
   },
   {
    "duration": 192,
    "start_time": "2022-04-26T14:27:35.489Z"
   },
   {
    "duration": 5098,
    "start_time": "2022-04-26T14:27:47.376Z"
   },
   {
    "duration": 2610,
    "start_time": "2022-04-26T14:28:09.846Z"
   },
   {
    "duration": 1667,
    "start_time": "2022-04-26T14:28:57.452Z"
   },
   {
    "duration": 20,
    "start_time": "2022-04-26T14:28:59.122Z"
   },
   {
    "duration": 22,
    "start_time": "2022-04-26T14:28:59.145Z"
   },
   {
    "duration": 13,
    "start_time": "2022-04-26T14:28:59.169Z"
   },
   {
    "duration": 8,
    "start_time": "2022-04-26T14:28:59.184Z"
   },
   {
    "duration": 11,
    "start_time": "2022-04-26T14:28:59.194Z"
   },
   {
    "duration": 90,
    "start_time": "2022-04-26T14:28:59.207Z"
   },
   {
    "duration": 87,
    "start_time": "2022-04-26T14:28:59.299Z"
   },
   {
    "duration": 1433,
    "start_time": "2022-04-26T14:28:59.388Z"
   },
   {
    "duration": 1335,
    "start_time": "2022-04-26T14:29:00.824Z"
   },
   {
    "duration": 1375,
    "start_time": "2022-04-26T14:29:02.161Z"
   },
   {
    "duration": 25,
    "start_time": "2022-04-26T14:29:03.538Z"
   },
   {
    "duration": 31,
    "start_time": "2022-04-26T14:29:03.565Z"
   },
   {
    "duration": 36,
    "start_time": "2022-04-26T14:29:03.598Z"
   },
   {
    "duration": 351,
    "start_time": "2022-04-26T14:29:03.636Z"
   },
   {
    "duration": 110871,
    "start_time": "2022-04-26T14:29:03.989Z"
   },
   {
    "duration": 1493,
    "start_time": "2022-04-26T14:30:54.862Z"
   },
   {
    "duration": 122,
    "start_time": "2022-04-26T14:30:56.358Z"
   },
   {
    "duration": 1513,
    "start_time": "2022-04-26T14:30:56.483Z"
   },
   {
    "duration": 1812,
    "start_time": "2022-04-26T14:30:57.998Z"
   }
  ],
  "kernelspec": {
   "display_name": "Python 3 (ipykernel)",
   "language": "python",
   "name": "python3"
  },
  "language_info": {
   "codemirror_mode": {
    "name": "ipython",
    "version": 3
   },
   "file_extension": ".py",
   "mimetype": "text/x-python",
   "name": "python",
   "nbconvert_exporter": "python",
   "pygments_lexer": "ipython3",
   "version": "3.9.7"
  },
  "toc": {
   "base_numbering": 1,
   "nav_menu": {},
   "number_sections": true,
   "sideBar": true,
   "skip_h1_title": true,
   "title_cell": "Содержание",
   "title_sidebar": "Содержание",
   "toc_cell": false,
   "toc_position": {},
   "toc_section_display": true,
   "toc_window_display": false
  }
 },
 "nbformat": 4,
 "nbformat_minor": 2
}
